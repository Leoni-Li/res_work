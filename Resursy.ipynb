{
 "cells": [
  {
   "cell_type": "markdown",
   "metadata": {},
   "source": [
    "## Подготовка данных"
   ]
  },
  {
   "cell_type": "code",
   "execution_count": 1,
   "metadata": {},
   "outputs": [],
   "source": [
    "import pandas as pd\n",
    "import numpy as np\n",
    "import matplotlib.pyplot as plt\n",
    "import seaborn as sns\n",
    "from sklearn.metrics import mean_absolute_error\n",
    "from sklearn.model_selection import train_test_split\n",
    "from sklearn.metrics import fbeta_score, make_scorer\n",
    "from sklearn.linear_model import LinearRegression\n",
    "from sklearn.ensemble import RandomForestRegressor\n",
    "from sklearn.model_selection import GridSearchCV\n",
    "from sklearn.preprocessing import StandardScaler\n",
    "from sklearn.tree import DecisionTreeRegressor\n",
    "from sklearn.model_selection import cross_val_score\n",
    "from sklearn.ensemble import RandomForestRegressor\n",
    "from sklearn.linear_model import LinearRegression\n",
    "from sklearn.dummy import DummyRegressor\n",
    "\n",
    "import warnings\n",
    "warnings.filterwarnings('ignore')"
   ]
  },
  {
   "cell_type": "code",
   "execution_count": 2,
   "metadata": {},
   "outputs": [],
   "source": [
    "# Загрузка данных\n",
    "df_full = pd.read_csv('/datasets/gold_recovery_full_new.csv')\n",
    "df_train = pd.read_csv('/datasets/gold_recovery_train_new.csv')\n",
    "df_test = pd.read_csv('/datasets/gold_recovery_test_new.csv')\n",
    "\n",
    "df_name = [df_full, df_train, df_test]"
   ]
  },
  {
   "cell_type": "code",
   "execution_count": 3,
   "metadata": {},
   "outputs": [
    {
     "data": {
      "text/html": [
       "<div>\n",
       "<style scoped>\n",
       "    .dataframe tbody tr th:only-of-type {\n",
       "        vertical-align: middle;\n",
       "    }\n",
       "\n",
       "    .dataframe tbody tr th {\n",
       "        vertical-align: top;\n",
       "    }\n",
       "\n",
       "    .dataframe thead th {\n",
       "        text-align: right;\n",
       "    }\n",
       "</style>\n",
       "<table border=\"1\" class=\"dataframe\">\n",
       "  <thead>\n",
       "    <tr style=\"text-align: right;\">\n",
       "      <th></th>\n",
       "      <th>date</th>\n",
       "      <th>final.output.concentrate_ag</th>\n",
       "      <th>final.output.concentrate_pb</th>\n",
       "      <th>final.output.concentrate_sol</th>\n",
       "      <th>final.output.concentrate_au</th>\n",
       "      <th>final.output.recovery</th>\n",
       "      <th>final.output.tail_ag</th>\n",
       "      <th>final.output.tail_pb</th>\n",
       "      <th>final.output.tail_sol</th>\n",
       "      <th>final.output.tail_au</th>\n",
       "      <th>...</th>\n",
       "      <th>secondary_cleaner.state.floatbank4_a_air</th>\n",
       "      <th>secondary_cleaner.state.floatbank4_a_level</th>\n",
       "      <th>secondary_cleaner.state.floatbank4_b_air</th>\n",
       "      <th>secondary_cleaner.state.floatbank4_b_level</th>\n",
       "      <th>secondary_cleaner.state.floatbank5_a_air</th>\n",
       "      <th>secondary_cleaner.state.floatbank5_a_level</th>\n",
       "      <th>secondary_cleaner.state.floatbank5_b_air</th>\n",
       "      <th>secondary_cleaner.state.floatbank5_b_level</th>\n",
       "      <th>secondary_cleaner.state.floatbank6_a_air</th>\n",
       "      <th>secondary_cleaner.state.floatbank6_a_level</th>\n",
       "    </tr>\n",
       "  </thead>\n",
       "  <tbody>\n",
       "    <tr>\n",
       "      <th>0</th>\n",
       "      <td>2016-01-15 00:00:00</td>\n",
       "      <td>6.055403</td>\n",
       "      <td>9.889648</td>\n",
       "      <td>5.507324</td>\n",
       "      <td>42.192020</td>\n",
       "      <td>70.541216</td>\n",
       "      <td>10.411962</td>\n",
       "      <td>0.895447</td>\n",
       "      <td>16.904297</td>\n",
       "      <td>2.143149</td>\n",
       "      <td>...</td>\n",
       "      <td>14.016835</td>\n",
       "      <td>-502.488007</td>\n",
       "      <td>12.099931</td>\n",
       "      <td>-504.715942</td>\n",
       "      <td>9.925633</td>\n",
       "      <td>-498.310211</td>\n",
       "      <td>8.079666</td>\n",
       "      <td>-500.470978</td>\n",
       "      <td>14.151341</td>\n",
       "      <td>-605.841980</td>\n",
       "    </tr>\n",
       "    <tr>\n",
       "      <th>1</th>\n",
       "      <td>2016-01-15 01:00:00</td>\n",
       "      <td>6.029369</td>\n",
       "      <td>9.968944</td>\n",
       "      <td>5.257781</td>\n",
       "      <td>42.701629</td>\n",
       "      <td>69.266198</td>\n",
       "      <td>10.462676</td>\n",
       "      <td>0.927452</td>\n",
       "      <td>16.634514</td>\n",
       "      <td>2.224930</td>\n",
       "      <td>...</td>\n",
       "      <td>13.992281</td>\n",
       "      <td>-505.503262</td>\n",
       "      <td>11.950531</td>\n",
       "      <td>-501.331529</td>\n",
       "      <td>10.039245</td>\n",
       "      <td>-500.169983</td>\n",
       "      <td>7.984757</td>\n",
       "      <td>-500.582168</td>\n",
       "      <td>13.998353</td>\n",
       "      <td>-599.787184</td>\n",
       "    </tr>\n",
       "    <tr>\n",
       "      <th>2</th>\n",
       "      <td>2016-01-15 02:00:00</td>\n",
       "      <td>6.055926</td>\n",
       "      <td>10.213995</td>\n",
       "      <td>5.383759</td>\n",
       "      <td>42.657501</td>\n",
       "      <td>68.116445</td>\n",
       "      <td>10.507046</td>\n",
       "      <td>0.953716</td>\n",
       "      <td>16.208849</td>\n",
       "      <td>2.257889</td>\n",
       "      <td>...</td>\n",
       "      <td>14.015015</td>\n",
       "      <td>-502.520901</td>\n",
       "      <td>11.912783</td>\n",
       "      <td>-501.133383</td>\n",
       "      <td>10.070913</td>\n",
       "      <td>-500.129135</td>\n",
       "      <td>8.013877</td>\n",
       "      <td>-500.517572</td>\n",
       "      <td>14.028663</td>\n",
       "      <td>-601.427363</td>\n",
       "    </tr>\n",
       "  </tbody>\n",
       "</table>\n",
       "<p>3 rows × 87 columns</p>\n",
       "</div>"
      ],
      "text/plain": [
       "                  date  final.output.concentrate_ag  \\\n",
       "0  2016-01-15 00:00:00                     6.055403   \n",
       "1  2016-01-15 01:00:00                     6.029369   \n",
       "2  2016-01-15 02:00:00                     6.055926   \n",
       "\n",
       "   final.output.concentrate_pb  final.output.concentrate_sol  \\\n",
       "0                     9.889648                      5.507324   \n",
       "1                     9.968944                      5.257781   \n",
       "2                    10.213995                      5.383759   \n",
       "\n",
       "   final.output.concentrate_au  final.output.recovery  final.output.tail_ag  \\\n",
       "0                    42.192020              70.541216             10.411962   \n",
       "1                    42.701629              69.266198             10.462676   \n",
       "2                    42.657501              68.116445             10.507046   \n",
       "\n",
       "   final.output.tail_pb  final.output.tail_sol  final.output.tail_au  ...  \\\n",
       "0              0.895447              16.904297              2.143149  ...   \n",
       "1              0.927452              16.634514              2.224930  ...   \n",
       "2              0.953716              16.208849              2.257889  ...   \n",
       "\n",
       "   secondary_cleaner.state.floatbank4_a_air  \\\n",
       "0                                 14.016835   \n",
       "1                                 13.992281   \n",
       "2                                 14.015015   \n",
       "\n",
       "   secondary_cleaner.state.floatbank4_a_level  \\\n",
       "0                                 -502.488007   \n",
       "1                                 -505.503262   \n",
       "2                                 -502.520901   \n",
       "\n",
       "   secondary_cleaner.state.floatbank4_b_air  \\\n",
       "0                                 12.099931   \n",
       "1                                 11.950531   \n",
       "2                                 11.912783   \n",
       "\n",
       "   secondary_cleaner.state.floatbank4_b_level  \\\n",
       "0                                 -504.715942   \n",
       "1                                 -501.331529   \n",
       "2                                 -501.133383   \n",
       "\n",
       "   secondary_cleaner.state.floatbank5_a_air  \\\n",
       "0                                  9.925633   \n",
       "1                                 10.039245   \n",
       "2                                 10.070913   \n",
       "\n",
       "   secondary_cleaner.state.floatbank5_a_level  \\\n",
       "0                                 -498.310211   \n",
       "1                                 -500.169983   \n",
       "2                                 -500.129135   \n",
       "\n",
       "   secondary_cleaner.state.floatbank5_b_air  \\\n",
       "0                                  8.079666   \n",
       "1                                  7.984757   \n",
       "2                                  8.013877   \n",
       "\n",
       "   secondary_cleaner.state.floatbank5_b_level  \\\n",
       "0                                 -500.470978   \n",
       "1                                 -500.582168   \n",
       "2                                 -500.517572   \n",
       "\n",
       "   secondary_cleaner.state.floatbank6_a_air  \\\n",
       "0                                 14.151341   \n",
       "1                                 13.998353   \n",
       "2                                 14.028663   \n",
       "\n",
       "   secondary_cleaner.state.floatbank6_a_level  \n",
       "0                                 -605.841980  \n",
       "1                                 -599.787184  \n",
       "2                                 -601.427363  \n",
       "\n",
       "[3 rows x 87 columns]"
      ]
     },
     "metadata": {},
     "output_type": "display_data"
    },
    {
     "data": {
      "text/html": [
       "<div>\n",
       "<style scoped>\n",
       "    .dataframe tbody tr th:only-of-type {\n",
       "        vertical-align: middle;\n",
       "    }\n",
       "\n",
       "    .dataframe tbody tr th {\n",
       "        vertical-align: top;\n",
       "    }\n",
       "\n",
       "    .dataframe thead th {\n",
       "        text-align: right;\n",
       "    }\n",
       "</style>\n",
       "<table border=\"1\" class=\"dataframe\">\n",
       "  <thead>\n",
       "    <tr style=\"text-align: right;\">\n",
       "      <th></th>\n",
       "      <th>date</th>\n",
       "      <th>final.output.concentrate_ag</th>\n",
       "      <th>final.output.concentrate_pb</th>\n",
       "      <th>final.output.concentrate_sol</th>\n",
       "      <th>final.output.concentrate_au</th>\n",
       "      <th>final.output.recovery</th>\n",
       "      <th>final.output.tail_ag</th>\n",
       "      <th>final.output.tail_pb</th>\n",
       "      <th>final.output.tail_sol</th>\n",
       "      <th>final.output.tail_au</th>\n",
       "      <th>...</th>\n",
       "      <th>secondary_cleaner.state.floatbank4_a_air</th>\n",
       "      <th>secondary_cleaner.state.floatbank4_a_level</th>\n",
       "      <th>secondary_cleaner.state.floatbank4_b_air</th>\n",
       "      <th>secondary_cleaner.state.floatbank4_b_level</th>\n",
       "      <th>secondary_cleaner.state.floatbank5_a_air</th>\n",
       "      <th>secondary_cleaner.state.floatbank5_a_level</th>\n",
       "      <th>secondary_cleaner.state.floatbank5_b_air</th>\n",
       "      <th>secondary_cleaner.state.floatbank5_b_level</th>\n",
       "      <th>secondary_cleaner.state.floatbank6_a_air</th>\n",
       "      <th>secondary_cleaner.state.floatbank6_a_level</th>\n",
       "    </tr>\n",
       "  </thead>\n",
       "  <tbody>\n",
       "    <tr>\n",
       "      <th>19436</th>\n",
       "      <td>2018-08-18 08:59:59</td>\n",
       "      <td>3.109998</td>\n",
       "      <td>11.434366</td>\n",
       "      <td>6.886013</td>\n",
       "      <td>46.795691</td>\n",
       "      <td>67.002189</td>\n",
       "      <td>8.529606</td>\n",
       "      <td>2.911418</td>\n",
       "      <td>11.115147</td>\n",
       "      <td>1.596616</td>\n",
       "      <td>...</td>\n",
       "      <td>23.015718</td>\n",
       "      <td>-501.711599</td>\n",
       "      <td>19.951231</td>\n",
       "      <td>-499.857027</td>\n",
       "      <td>18.019543</td>\n",
       "      <td>-500.451156</td>\n",
       "      <td>13.023431</td>\n",
       "      <td>-499.914391</td>\n",
       "      <td>19.990885</td>\n",
       "      <td>-501.518452</td>\n",
       "    </tr>\n",
       "    <tr>\n",
       "      <th>19437</th>\n",
       "      <td>2018-08-18 09:59:59</td>\n",
       "      <td>3.367241</td>\n",
       "      <td>11.625587</td>\n",
       "      <td>6.799433</td>\n",
       "      <td>46.408188</td>\n",
       "      <td>65.523246</td>\n",
       "      <td>8.777171</td>\n",
       "      <td>2.819214</td>\n",
       "      <td>10.463847</td>\n",
       "      <td>1.602879</td>\n",
       "      <td>...</td>\n",
       "      <td>23.024963</td>\n",
       "      <td>-501.153409</td>\n",
       "      <td>20.054122</td>\n",
       "      <td>-500.314711</td>\n",
       "      <td>17.979515</td>\n",
       "      <td>-499.272871</td>\n",
       "      <td>12.992404</td>\n",
       "      <td>-499.976268</td>\n",
       "      <td>20.013986</td>\n",
       "      <td>-500.625471</td>\n",
       "    </tr>\n",
       "    <tr>\n",
       "      <th>19438</th>\n",
       "      <td>2018-08-18 10:59:59</td>\n",
       "      <td>3.598375</td>\n",
       "      <td>11.737832</td>\n",
       "      <td>6.717509</td>\n",
       "      <td>46.299438</td>\n",
       "      <td>70.281454</td>\n",
       "      <td>8.406690</td>\n",
       "      <td>2.517518</td>\n",
       "      <td>10.652193</td>\n",
       "      <td>1.389434</td>\n",
       "      <td>...</td>\n",
       "      <td>23.018622</td>\n",
       "      <td>-500.492702</td>\n",
       "      <td>20.020205</td>\n",
       "      <td>-500.220296</td>\n",
       "      <td>17.963512</td>\n",
       "      <td>-499.939490</td>\n",
       "      <td>12.990306</td>\n",
       "      <td>-500.080993</td>\n",
       "      <td>19.990336</td>\n",
       "      <td>-499.191575</td>\n",
       "    </tr>\n",
       "  </tbody>\n",
       "</table>\n",
       "<p>3 rows × 87 columns</p>\n",
       "</div>"
      ],
      "text/plain": [
       "                      date  final.output.concentrate_ag  \\\n",
       "19436  2018-08-18 08:59:59                     3.109998   \n",
       "19437  2018-08-18 09:59:59                     3.367241   \n",
       "19438  2018-08-18 10:59:59                     3.598375   \n",
       "\n",
       "       final.output.concentrate_pb  final.output.concentrate_sol  \\\n",
       "19436                    11.434366                      6.886013   \n",
       "19437                    11.625587                      6.799433   \n",
       "19438                    11.737832                      6.717509   \n",
       "\n",
       "       final.output.concentrate_au  final.output.recovery  \\\n",
       "19436                    46.795691              67.002189   \n",
       "19437                    46.408188              65.523246   \n",
       "19438                    46.299438              70.281454   \n",
       "\n",
       "       final.output.tail_ag  final.output.tail_pb  final.output.tail_sol  \\\n",
       "19436              8.529606              2.911418              11.115147   \n",
       "19437              8.777171              2.819214              10.463847   \n",
       "19438              8.406690              2.517518              10.652193   \n",
       "\n",
       "       final.output.tail_au  ...  secondary_cleaner.state.floatbank4_a_air  \\\n",
       "19436              1.596616  ...                                 23.015718   \n",
       "19437              1.602879  ...                                 23.024963   \n",
       "19438              1.389434  ...                                 23.018622   \n",
       "\n",
       "       secondary_cleaner.state.floatbank4_a_level  \\\n",
       "19436                                 -501.711599   \n",
       "19437                                 -501.153409   \n",
       "19438                                 -500.492702   \n",
       "\n",
       "       secondary_cleaner.state.floatbank4_b_air  \\\n",
       "19436                                 19.951231   \n",
       "19437                                 20.054122   \n",
       "19438                                 20.020205   \n",
       "\n",
       "       secondary_cleaner.state.floatbank4_b_level  \\\n",
       "19436                                 -499.857027   \n",
       "19437                                 -500.314711   \n",
       "19438                                 -500.220296   \n",
       "\n",
       "       secondary_cleaner.state.floatbank5_a_air  \\\n",
       "19436                                 18.019543   \n",
       "19437                                 17.979515   \n",
       "19438                                 17.963512   \n",
       "\n",
       "       secondary_cleaner.state.floatbank5_a_level  \\\n",
       "19436                                 -500.451156   \n",
       "19437                                 -499.272871   \n",
       "19438                                 -499.939490   \n",
       "\n",
       "       secondary_cleaner.state.floatbank5_b_air  \\\n",
       "19436                                 13.023431   \n",
       "19437                                 12.992404   \n",
       "19438                                 12.990306   \n",
       "\n",
       "       secondary_cleaner.state.floatbank5_b_level  \\\n",
       "19436                                 -499.914391   \n",
       "19437                                 -499.976268   \n",
       "19438                                 -500.080993   \n",
       "\n",
       "       secondary_cleaner.state.floatbank6_a_air  \\\n",
       "19436                                 19.990885   \n",
       "19437                                 20.013986   \n",
       "19438                                 19.990336   \n",
       "\n",
       "       secondary_cleaner.state.floatbank6_a_level  \n",
       "19436                                 -501.518452  \n",
       "19437                                 -500.625471  \n",
       "19438                                 -499.191575  \n",
       "\n",
       "[3 rows x 87 columns]"
      ]
     },
     "metadata": {},
     "output_type": "display_data"
    },
    {
     "name": "stdout",
     "output_type": "stream",
     "text": [
      "##############################################################################\n"
     ]
    },
    {
     "data": {
      "text/html": [
       "<div>\n",
       "<style scoped>\n",
       "    .dataframe tbody tr th:only-of-type {\n",
       "        vertical-align: middle;\n",
       "    }\n",
       "\n",
       "    .dataframe tbody tr th {\n",
       "        vertical-align: top;\n",
       "    }\n",
       "\n",
       "    .dataframe thead th {\n",
       "        text-align: right;\n",
       "    }\n",
       "</style>\n",
       "<table border=\"1\" class=\"dataframe\">\n",
       "  <thead>\n",
       "    <tr style=\"text-align: right;\">\n",
       "      <th></th>\n",
       "      <th>date</th>\n",
       "      <th>final.output.concentrate_ag</th>\n",
       "      <th>final.output.concentrate_pb</th>\n",
       "      <th>final.output.concentrate_sol</th>\n",
       "      <th>final.output.concentrate_au</th>\n",
       "      <th>final.output.recovery</th>\n",
       "      <th>final.output.tail_ag</th>\n",
       "      <th>final.output.tail_pb</th>\n",
       "      <th>final.output.tail_sol</th>\n",
       "      <th>final.output.tail_au</th>\n",
       "      <th>...</th>\n",
       "      <th>secondary_cleaner.state.floatbank4_a_air</th>\n",
       "      <th>secondary_cleaner.state.floatbank4_a_level</th>\n",
       "      <th>secondary_cleaner.state.floatbank4_b_air</th>\n",
       "      <th>secondary_cleaner.state.floatbank4_b_level</th>\n",
       "      <th>secondary_cleaner.state.floatbank5_a_air</th>\n",
       "      <th>secondary_cleaner.state.floatbank5_a_level</th>\n",
       "      <th>secondary_cleaner.state.floatbank5_b_air</th>\n",
       "      <th>secondary_cleaner.state.floatbank5_b_level</th>\n",
       "      <th>secondary_cleaner.state.floatbank6_a_air</th>\n",
       "      <th>secondary_cleaner.state.floatbank6_a_level</th>\n",
       "    </tr>\n",
       "  </thead>\n",
       "  <tbody>\n",
       "    <tr>\n",
       "      <th>0</th>\n",
       "      <td>2016-01-15 00:00:00</td>\n",
       "      <td>6.055403</td>\n",
       "      <td>9.889648</td>\n",
       "      <td>5.507324</td>\n",
       "      <td>42.192020</td>\n",
       "      <td>70.541216</td>\n",
       "      <td>10.411962</td>\n",
       "      <td>0.895447</td>\n",
       "      <td>16.904297</td>\n",
       "      <td>2.143149</td>\n",
       "      <td>...</td>\n",
       "      <td>14.016835</td>\n",
       "      <td>-502.488007</td>\n",
       "      <td>12.099931</td>\n",
       "      <td>-504.715942</td>\n",
       "      <td>9.925633</td>\n",
       "      <td>-498.310211</td>\n",
       "      <td>8.079666</td>\n",
       "      <td>-500.470978</td>\n",
       "      <td>14.151341</td>\n",
       "      <td>-605.841980</td>\n",
       "    </tr>\n",
       "    <tr>\n",
       "      <th>1</th>\n",
       "      <td>2016-01-15 01:00:00</td>\n",
       "      <td>6.029369</td>\n",
       "      <td>9.968944</td>\n",
       "      <td>5.257781</td>\n",
       "      <td>42.701629</td>\n",
       "      <td>69.266198</td>\n",
       "      <td>10.462676</td>\n",
       "      <td>0.927452</td>\n",
       "      <td>16.634514</td>\n",
       "      <td>2.224930</td>\n",
       "      <td>...</td>\n",
       "      <td>13.992281</td>\n",
       "      <td>-505.503262</td>\n",
       "      <td>11.950531</td>\n",
       "      <td>-501.331529</td>\n",
       "      <td>10.039245</td>\n",
       "      <td>-500.169983</td>\n",
       "      <td>7.984757</td>\n",
       "      <td>-500.582168</td>\n",
       "      <td>13.998353</td>\n",
       "      <td>-599.787184</td>\n",
       "    </tr>\n",
       "    <tr>\n",
       "      <th>2</th>\n",
       "      <td>2016-01-15 02:00:00</td>\n",
       "      <td>6.055926</td>\n",
       "      <td>10.213995</td>\n",
       "      <td>5.383759</td>\n",
       "      <td>42.657501</td>\n",
       "      <td>68.116445</td>\n",
       "      <td>10.507046</td>\n",
       "      <td>0.953716</td>\n",
       "      <td>16.208849</td>\n",
       "      <td>2.257889</td>\n",
       "      <td>...</td>\n",
       "      <td>14.015015</td>\n",
       "      <td>-502.520901</td>\n",
       "      <td>11.912783</td>\n",
       "      <td>-501.133383</td>\n",
       "      <td>10.070913</td>\n",
       "      <td>-500.129135</td>\n",
       "      <td>8.013877</td>\n",
       "      <td>-500.517572</td>\n",
       "      <td>14.028663</td>\n",
       "      <td>-601.427363</td>\n",
       "    </tr>\n",
       "  </tbody>\n",
       "</table>\n",
       "<p>3 rows × 87 columns</p>\n",
       "</div>"
      ],
      "text/plain": [
       "                  date  final.output.concentrate_ag  \\\n",
       "0  2016-01-15 00:00:00                     6.055403   \n",
       "1  2016-01-15 01:00:00                     6.029369   \n",
       "2  2016-01-15 02:00:00                     6.055926   \n",
       "\n",
       "   final.output.concentrate_pb  final.output.concentrate_sol  \\\n",
       "0                     9.889648                      5.507324   \n",
       "1                     9.968944                      5.257781   \n",
       "2                    10.213995                      5.383759   \n",
       "\n",
       "   final.output.concentrate_au  final.output.recovery  final.output.tail_ag  \\\n",
       "0                    42.192020              70.541216             10.411962   \n",
       "1                    42.701629              69.266198             10.462676   \n",
       "2                    42.657501              68.116445             10.507046   \n",
       "\n",
       "   final.output.tail_pb  final.output.tail_sol  final.output.tail_au  ...  \\\n",
       "0              0.895447              16.904297              2.143149  ...   \n",
       "1              0.927452              16.634514              2.224930  ...   \n",
       "2              0.953716              16.208849              2.257889  ...   \n",
       "\n",
       "   secondary_cleaner.state.floatbank4_a_air  \\\n",
       "0                                 14.016835   \n",
       "1                                 13.992281   \n",
       "2                                 14.015015   \n",
       "\n",
       "   secondary_cleaner.state.floatbank4_a_level  \\\n",
       "0                                 -502.488007   \n",
       "1                                 -505.503262   \n",
       "2                                 -502.520901   \n",
       "\n",
       "   secondary_cleaner.state.floatbank4_b_air  \\\n",
       "0                                 12.099931   \n",
       "1                                 11.950531   \n",
       "2                                 11.912783   \n",
       "\n",
       "   secondary_cleaner.state.floatbank4_b_level  \\\n",
       "0                                 -504.715942   \n",
       "1                                 -501.331529   \n",
       "2                                 -501.133383   \n",
       "\n",
       "   secondary_cleaner.state.floatbank5_a_air  \\\n",
       "0                                  9.925633   \n",
       "1                                 10.039245   \n",
       "2                                 10.070913   \n",
       "\n",
       "   secondary_cleaner.state.floatbank5_a_level  \\\n",
       "0                                 -498.310211   \n",
       "1                                 -500.169983   \n",
       "2                                 -500.129135   \n",
       "\n",
       "   secondary_cleaner.state.floatbank5_b_air  \\\n",
       "0                                  8.079666   \n",
       "1                                  7.984757   \n",
       "2                                  8.013877   \n",
       "\n",
       "   secondary_cleaner.state.floatbank5_b_level  \\\n",
       "0                                 -500.470978   \n",
       "1                                 -500.582168   \n",
       "2                                 -500.517572   \n",
       "\n",
       "   secondary_cleaner.state.floatbank6_a_air  \\\n",
       "0                                 14.151341   \n",
       "1                                 13.998353   \n",
       "2                                 14.028663   \n",
       "\n",
       "   secondary_cleaner.state.floatbank6_a_level  \n",
       "0                                 -605.841980  \n",
       "1                                 -599.787184  \n",
       "2                                 -601.427363  \n",
       "\n",
       "[3 rows x 87 columns]"
      ]
     },
     "metadata": {},
     "output_type": "display_data"
    },
    {
     "data": {
      "text/html": [
       "<div>\n",
       "<style scoped>\n",
       "    .dataframe tbody tr th:only-of-type {\n",
       "        vertical-align: middle;\n",
       "    }\n",
       "\n",
       "    .dataframe tbody tr th {\n",
       "        vertical-align: top;\n",
       "    }\n",
       "\n",
       "    .dataframe thead th {\n",
       "        text-align: right;\n",
       "    }\n",
       "</style>\n",
       "<table border=\"1\" class=\"dataframe\">\n",
       "  <thead>\n",
       "    <tr style=\"text-align: right;\">\n",
       "      <th></th>\n",
       "      <th>date</th>\n",
       "      <th>final.output.concentrate_ag</th>\n",
       "      <th>final.output.concentrate_pb</th>\n",
       "      <th>final.output.concentrate_sol</th>\n",
       "      <th>final.output.concentrate_au</th>\n",
       "      <th>final.output.recovery</th>\n",
       "      <th>final.output.tail_ag</th>\n",
       "      <th>final.output.tail_pb</th>\n",
       "      <th>final.output.tail_sol</th>\n",
       "      <th>final.output.tail_au</th>\n",
       "      <th>...</th>\n",
       "      <th>secondary_cleaner.state.floatbank4_a_air</th>\n",
       "      <th>secondary_cleaner.state.floatbank4_a_level</th>\n",
       "      <th>secondary_cleaner.state.floatbank4_b_air</th>\n",
       "      <th>secondary_cleaner.state.floatbank4_b_level</th>\n",
       "      <th>secondary_cleaner.state.floatbank5_a_air</th>\n",
       "      <th>secondary_cleaner.state.floatbank5_a_level</th>\n",
       "      <th>secondary_cleaner.state.floatbank5_b_air</th>\n",
       "      <th>secondary_cleaner.state.floatbank5_b_level</th>\n",
       "      <th>secondary_cleaner.state.floatbank6_a_air</th>\n",
       "      <th>secondary_cleaner.state.floatbank6_a_level</th>\n",
       "    </tr>\n",
       "  </thead>\n",
       "  <tbody>\n",
       "    <tr>\n",
       "      <th>14146</th>\n",
       "      <td>2018-08-18 08:59:59</td>\n",
       "      <td>3.109998</td>\n",
       "      <td>11.434366</td>\n",
       "      <td>6.886013</td>\n",
       "      <td>46.795691</td>\n",
       "      <td>67.002189</td>\n",
       "      <td>8.529606</td>\n",
       "      <td>2.911418</td>\n",
       "      <td>11.115147</td>\n",
       "      <td>1.596616</td>\n",
       "      <td>...</td>\n",
       "      <td>23.015718</td>\n",
       "      <td>-501.711599</td>\n",
       "      <td>19.951231</td>\n",
       "      <td>-499.857027</td>\n",
       "      <td>18.019543</td>\n",
       "      <td>-500.451156</td>\n",
       "      <td>13.023431</td>\n",
       "      <td>-499.914391</td>\n",
       "      <td>19.990885</td>\n",
       "      <td>-501.518452</td>\n",
       "    </tr>\n",
       "    <tr>\n",
       "      <th>14147</th>\n",
       "      <td>2018-08-18 09:59:59</td>\n",
       "      <td>3.367241</td>\n",
       "      <td>11.625587</td>\n",
       "      <td>6.799433</td>\n",
       "      <td>46.408188</td>\n",
       "      <td>65.523246</td>\n",
       "      <td>8.777171</td>\n",
       "      <td>2.819214</td>\n",
       "      <td>10.463847</td>\n",
       "      <td>1.602879</td>\n",
       "      <td>...</td>\n",
       "      <td>23.024963</td>\n",
       "      <td>-501.153409</td>\n",
       "      <td>20.054122</td>\n",
       "      <td>-500.314711</td>\n",
       "      <td>17.979515</td>\n",
       "      <td>-499.272871</td>\n",
       "      <td>12.992404</td>\n",
       "      <td>-499.976268</td>\n",
       "      <td>20.013986</td>\n",
       "      <td>-500.625471</td>\n",
       "    </tr>\n",
       "    <tr>\n",
       "      <th>14148</th>\n",
       "      <td>2018-08-18 10:59:59</td>\n",
       "      <td>3.598375</td>\n",
       "      <td>11.737832</td>\n",
       "      <td>6.717509</td>\n",
       "      <td>46.299438</td>\n",
       "      <td>70.281454</td>\n",
       "      <td>8.406690</td>\n",
       "      <td>2.517518</td>\n",
       "      <td>10.652193</td>\n",
       "      <td>1.389434</td>\n",
       "      <td>...</td>\n",
       "      <td>23.018622</td>\n",
       "      <td>-500.492702</td>\n",
       "      <td>20.020205</td>\n",
       "      <td>-500.220296</td>\n",
       "      <td>17.963512</td>\n",
       "      <td>-499.939490</td>\n",
       "      <td>12.990306</td>\n",
       "      <td>-500.080993</td>\n",
       "      <td>19.990336</td>\n",
       "      <td>-499.191575</td>\n",
       "    </tr>\n",
       "  </tbody>\n",
       "</table>\n",
       "<p>3 rows × 87 columns</p>\n",
       "</div>"
      ],
      "text/plain": [
       "                      date  final.output.concentrate_ag  \\\n",
       "14146  2018-08-18 08:59:59                     3.109998   \n",
       "14147  2018-08-18 09:59:59                     3.367241   \n",
       "14148  2018-08-18 10:59:59                     3.598375   \n",
       "\n",
       "       final.output.concentrate_pb  final.output.concentrate_sol  \\\n",
       "14146                    11.434366                      6.886013   \n",
       "14147                    11.625587                      6.799433   \n",
       "14148                    11.737832                      6.717509   \n",
       "\n",
       "       final.output.concentrate_au  final.output.recovery  \\\n",
       "14146                    46.795691              67.002189   \n",
       "14147                    46.408188              65.523246   \n",
       "14148                    46.299438              70.281454   \n",
       "\n",
       "       final.output.tail_ag  final.output.tail_pb  final.output.tail_sol  \\\n",
       "14146              8.529606              2.911418              11.115147   \n",
       "14147              8.777171              2.819214              10.463847   \n",
       "14148              8.406690              2.517518              10.652193   \n",
       "\n",
       "       final.output.tail_au  ...  secondary_cleaner.state.floatbank4_a_air  \\\n",
       "14146              1.596616  ...                                 23.015718   \n",
       "14147              1.602879  ...                                 23.024963   \n",
       "14148              1.389434  ...                                 23.018622   \n",
       "\n",
       "       secondary_cleaner.state.floatbank4_a_level  \\\n",
       "14146                                 -501.711599   \n",
       "14147                                 -501.153409   \n",
       "14148                                 -500.492702   \n",
       "\n",
       "       secondary_cleaner.state.floatbank4_b_air  \\\n",
       "14146                                 19.951231   \n",
       "14147                                 20.054122   \n",
       "14148                                 20.020205   \n",
       "\n",
       "       secondary_cleaner.state.floatbank4_b_level  \\\n",
       "14146                                 -499.857027   \n",
       "14147                                 -500.314711   \n",
       "14148                                 -500.220296   \n",
       "\n",
       "       secondary_cleaner.state.floatbank5_a_air  \\\n",
       "14146                                 18.019543   \n",
       "14147                                 17.979515   \n",
       "14148                                 17.963512   \n",
       "\n",
       "       secondary_cleaner.state.floatbank5_a_level  \\\n",
       "14146                                 -500.451156   \n",
       "14147                                 -499.272871   \n",
       "14148                                 -499.939490   \n",
       "\n",
       "       secondary_cleaner.state.floatbank5_b_air  \\\n",
       "14146                                 13.023431   \n",
       "14147                                 12.992404   \n",
       "14148                                 12.990306   \n",
       "\n",
       "       secondary_cleaner.state.floatbank5_b_level  \\\n",
       "14146                                 -499.914391   \n",
       "14147                                 -499.976268   \n",
       "14148                                 -500.080993   \n",
       "\n",
       "       secondary_cleaner.state.floatbank6_a_air  \\\n",
       "14146                                 19.990885   \n",
       "14147                                 20.013986   \n",
       "14148                                 19.990336   \n",
       "\n",
       "       secondary_cleaner.state.floatbank6_a_level  \n",
       "14146                                 -501.518452  \n",
       "14147                                 -500.625471  \n",
       "14148                                 -499.191575  \n",
       "\n",
       "[3 rows x 87 columns]"
      ]
     },
     "metadata": {},
     "output_type": "display_data"
    },
    {
     "name": "stdout",
     "output_type": "stream",
     "text": [
      "##############################################################################\n"
     ]
    },
    {
     "data": {
      "text/html": [
       "<div>\n",
       "<style scoped>\n",
       "    .dataframe tbody tr th:only-of-type {\n",
       "        vertical-align: middle;\n",
       "    }\n",
       "\n",
       "    .dataframe tbody tr th {\n",
       "        vertical-align: top;\n",
       "    }\n",
       "\n",
       "    .dataframe thead th {\n",
       "        text-align: right;\n",
       "    }\n",
       "</style>\n",
       "<table border=\"1\" class=\"dataframe\">\n",
       "  <thead>\n",
       "    <tr style=\"text-align: right;\">\n",
       "      <th></th>\n",
       "      <th>date</th>\n",
       "      <th>primary_cleaner.input.sulfate</th>\n",
       "      <th>primary_cleaner.input.depressant</th>\n",
       "      <th>primary_cleaner.input.feed_size</th>\n",
       "      <th>primary_cleaner.input.xanthate</th>\n",
       "      <th>primary_cleaner.state.floatbank8_a_air</th>\n",
       "      <th>primary_cleaner.state.floatbank8_a_level</th>\n",
       "      <th>primary_cleaner.state.floatbank8_b_air</th>\n",
       "      <th>primary_cleaner.state.floatbank8_b_level</th>\n",
       "      <th>primary_cleaner.state.floatbank8_c_air</th>\n",
       "      <th>...</th>\n",
       "      <th>secondary_cleaner.state.floatbank4_a_air</th>\n",
       "      <th>secondary_cleaner.state.floatbank4_a_level</th>\n",
       "      <th>secondary_cleaner.state.floatbank4_b_air</th>\n",
       "      <th>secondary_cleaner.state.floatbank4_b_level</th>\n",
       "      <th>secondary_cleaner.state.floatbank5_a_air</th>\n",
       "      <th>secondary_cleaner.state.floatbank5_a_level</th>\n",
       "      <th>secondary_cleaner.state.floatbank5_b_air</th>\n",
       "      <th>secondary_cleaner.state.floatbank5_b_level</th>\n",
       "      <th>secondary_cleaner.state.floatbank6_a_air</th>\n",
       "      <th>secondary_cleaner.state.floatbank6_a_level</th>\n",
       "    </tr>\n",
       "  </thead>\n",
       "  <tbody>\n",
       "    <tr>\n",
       "      <th>0</th>\n",
       "      <td>2016-09-01 00:59:59</td>\n",
       "      <td>210.800909</td>\n",
       "      <td>14.993118</td>\n",
       "      <td>8.080000</td>\n",
       "      <td>1.005021</td>\n",
       "      <td>1398.981301</td>\n",
       "      <td>-500.225577</td>\n",
       "      <td>1399.144926</td>\n",
       "      <td>-499.919735</td>\n",
       "      <td>1400.102998</td>\n",
       "      <td>...</td>\n",
       "      <td>12.023554</td>\n",
       "      <td>-497.795834</td>\n",
       "      <td>8.016656</td>\n",
       "      <td>-501.289139</td>\n",
       "      <td>7.946562</td>\n",
       "      <td>-432.317850</td>\n",
       "      <td>4.872511</td>\n",
       "      <td>-500.037437</td>\n",
       "      <td>26.705889</td>\n",
       "      <td>-499.709414</td>\n",
       "    </tr>\n",
       "    <tr>\n",
       "      <th>1</th>\n",
       "      <td>2016-09-01 01:59:59</td>\n",
       "      <td>215.392455</td>\n",
       "      <td>14.987471</td>\n",
       "      <td>8.080000</td>\n",
       "      <td>0.990469</td>\n",
       "      <td>1398.777912</td>\n",
       "      <td>-500.057435</td>\n",
       "      <td>1398.055362</td>\n",
       "      <td>-499.778182</td>\n",
       "      <td>1396.151033</td>\n",
       "      <td>...</td>\n",
       "      <td>12.058140</td>\n",
       "      <td>-498.695773</td>\n",
       "      <td>8.130979</td>\n",
       "      <td>-499.634209</td>\n",
       "      <td>7.958270</td>\n",
       "      <td>-525.839648</td>\n",
       "      <td>4.878850</td>\n",
       "      <td>-500.162375</td>\n",
       "      <td>25.019940</td>\n",
       "      <td>-499.819438</td>\n",
       "    </tr>\n",
       "    <tr>\n",
       "      <th>2</th>\n",
       "      <td>2016-09-01 02:59:59</td>\n",
       "      <td>215.259946</td>\n",
       "      <td>12.884934</td>\n",
       "      <td>7.786667</td>\n",
       "      <td>0.996043</td>\n",
       "      <td>1398.493666</td>\n",
       "      <td>-500.868360</td>\n",
       "      <td>1398.860436</td>\n",
       "      <td>-499.764529</td>\n",
       "      <td>1398.075709</td>\n",
       "      <td>...</td>\n",
       "      <td>11.962366</td>\n",
       "      <td>-498.767484</td>\n",
       "      <td>8.096893</td>\n",
       "      <td>-500.827423</td>\n",
       "      <td>8.071056</td>\n",
       "      <td>-500.801673</td>\n",
       "      <td>4.905125</td>\n",
       "      <td>-499.828510</td>\n",
       "      <td>24.994862</td>\n",
       "      <td>-500.622559</td>\n",
       "    </tr>\n",
       "  </tbody>\n",
       "</table>\n",
       "<p>3 rows × 53 columns</p>\n",
       "</div>"
      ],
      "text/plain": [
       "                  date  primary_cleaner.input.sulfate  \\\n",
       "0  2016-09-01 00:59:59                     210.800909   \n",
       "1  2016-09-01 01:59:59                     215.392455   \n",
       "2  2016-09-01 02:59:59                     215.259946   \n",
       "\n",
       "   primary_cleaner.input.depressant  primary_cleaner.input.feed_size  \\\n",
       "0                         14.993118                         8.080000   \n",
       "1                         14.987471                         8.080000   \n",
       "2                         12.884934                         7.786667   \n",
       "\n",
       "   primary_cleaner.input.xanthate  primary_cleaner.state.floatbank8_a_air  \\\n",
       "0                        1.005021                             1398.981301   \n",
       "1                        0.990469                             1398.777912   \n",
       "2                        0.996043                             1398.493666   \n",
       "\n",
       "   primary_cleaner.state.floatbank8_a_level  \\\n",
       "0                               -500.225577   \n",
       "1                               -500.057435   \n",
       "2                               -500.868360   \n",
       "\n",
       "   primary_cleaner.state.floatbank8_b_air  \\\n",
       "0                             1399.144926   \n",
       "1                             1398.055362   \n",
       "2                             1398.860436   \n",
       "\n",
       "   primary_cleaner.state.floatbank8_b_level  \\\n",
       "0                               -499.919735   \n",
       "1                               -499.778182   \n",
       "2                               -499.764529   \n",
       "\n",
       "   primary_cleaner.state.floatbank8_c_air  ...  \\\n",
       "0                             1400.102998  ...   \n",
       "1                             1396.151033  ...   \n",
       "2                             1398.075709  ...   \n",
       "\n",
       "   secondary_cleaner.state.floatbank4_a_air  \\\n",
       "0                                 12.023554   \n",
       "1                                 12.058140   \n",
       "2                                 11.962366   \n",
       "\n",
       "   secondary_cleaner.state.floatbank4_a_level  \\\n",
       "0                                 -497.795834   \n",
       "1                                 -498.695773   \n",
       "2                                 -498.767484   \n",
       "\n",
       "   secondary_cleaner.state.floatbank4_b_air  \\\n",
       "0                                  8.016656   \n",
       "1                                  8.130979   \n",
       "2                                  8.096893   \n",
       "\n",
       "   secondary_cleaner.state.floatbank4_b_level  \\\n",
       "0                                 -501.289139   \n",
       "1                                 -499.634209   \n",
       "2                                 -500.827423   \n",
       "\n",
       "   secondary_cleaner.state.floatbank5_a_air  \\\n",
       "0                                  7.946562   \n",
       "1                                  7.958270   \n",
       "2                                  8.071056   \n",
       "\n",
       "   secondary_cleaner.state.floatbank5_a_level  \\\n",
       "0                                 -432.317850   \n",
       "1                                 -525.839648   \n",
       "2                                 -500.801673   \n",
       "\n",
       "   secondary_cleaner.state.floatbank5_b_air  \\\n",
       "0                                  4.872511   \n",
       "1                                  4.878850   \n",
       "2                                  4.905125   \n",
       "\n",
       "   secondary_cleaner.state.floatbank5_b_level  \\\n",
       "0                                 -500.037437   \n",
       "1                                 -500.162375   \n",
       "2                                 -499.828510   \n",
       "\n",
       "   secondary_cleaner.state.floatbank6_a_air  \\\n",
       "0                                 26.705889   \n",
       "1                                 25.019940   \n",
       "2                                 24.994862   \n",
       "\n",
       "   secondary_cleaner.state.floatbank6_a_level  \n",
       "0                                 -499.709414  \n",
       "1                                 -499.819438  \n",
       "2                                 -500.622559  \n",
       "\n",
       "[3 rows x 53 columns]"
      ]
     },
     "metadata": {},
     "output_type": "display_data"
    },
    {
     "data": {
      "text/html": [
       "<div>\n",
       "<style scoped>\n",
       "    .dataframe tbody tr th:only-of-type {\n",
       "        vertical-align: middle;\n",
       "    }\n",
       "\n",
       "    .dataframe tbody tr th {\n",
       "        vertical-align: top;\n",
       "    }\n",
       "\n",
       "    .dataframe thead th {\n",
       "        text-align: right;\n",
       "    }\n",
       "</style>\n",
       "<table border=\"1\" class=\"dataframe\">\n",
       "  <thead>\n",
       "    <tr style=\"text-align: right;\">\n",
       "      <th></th>\n",
       "      <th>date</th>\n",
       "      <th>primary_cleaner.input.sulfate</th>\n",
       "      <th>primary_cleaner.input.depressant</th>\n",
       "      <th>primary_cleaner.input.feed_size</th>\n",
       "      <th>primary_cleaner.input.xanthate</th>\n",
       "      <th>primary_cleaner.state.floatbank8_a_air</th>\n",
       "      <th>primary_cleaner.state.floatbank8_a_level</th>\n",
       "      <th>primary_cleaner.state.floatbank8_b_air</th>\n",
       "      <th>primary_cleaner.state.floatbank8_b_level</th>\n",
       "      <th>primary_cleaner.state.floatbank8_c_air</th>\n",
       "      <th>...</th>\n",
       "      <th>secondary_cleaner.state.floatbank4_a_air</th>\n",
       "      <th>secondary_cleaner.state.floatbank4_a_level</th>\n",
       "      <th>secondary_cleaner.state.floatbank4_b_air</th>\n",
       "      <th>secondary_cleaner.state.floatbank4_b_level</th>\n",
       "      <th>secondary_cleaner.state.floatbank5_a_air</th>\n",
       "      <th>secondary_cleaner.state.floatbank5_a_level</th>\n",
       "      <th>secondary_cleaner.state.floatbank5_b_air</th>\n",
       "      <th>secondary_cleaner.state.floatbank5_b_level</th>\n",
       "      <th>secondary_cleaner.state.floatbank6_a_air</th>\n",
       "      <th>secondary_cleaner.state.floatbank6_a_level</th>\n",
       "    </tr>\n",
       "  </thead>\n",
       "  <tbody>\n",
       "    <tr>\n",
       "      <th>5287</th>\n",
       "      <td>2017-12-31 21:59:59</td>\n",
       "      <td>171.135718</td>\n",
       "      <td>15.993669</td>\n",
       "      <td>8.07</td>\n",
       "      <td>1.165996</td>\n",
       "      <td>1498.836182</td>\n",
       "      <td>-501.770403</td>\n",
       "      <td>1499.572353</td>\n",
       "      <td>-495.516347</td>\n",
       "      <td>1502.749213</td>\n",
       "      <td>...</td>\n",
       "      <td>19.994130</td>\n",
       "      <td>-499.791312</td>\n",
       "      <td>15.101425</td>\n",
       "      <td>-499.936252</td>\n",
       "      <td>10.989181</td>\n",
       "      <td>-498.347898</td>\n",
       "      <td>9.020944</td>\n",
       "      <td>-500.040448</td>\n",
       "      <td>8.982038</td>\n",
       "      <td>-497.789882</td>\n",
       "    </tr>\n",
       "    <tr>\n",
       "      <th>5288</th>\n",
       "      <td>2017-12-31 22:59:59</td>\n",
       "      <td>179.697158</td>\n",
       "      <td>15.438979</td>\n",
       "      <td>8.07</td>\n",
       "      <td>1.501068</td>\n",
       "      <td>1498.466243</td>\n",
       "      <td>-500.483984</td>\n",
       "      <td>1497.986986</td>\n",
       "      <td>-519.200340</td>\n",
       "      <td>1496.569047</td>\n",
       "      <td>...</td>\n",
       "      <td>19.958760</td>\n",
       "      <td>-499.958750</td>\n",
       "      <td>15.026853</td>\n",
       "      <td>-499.723143</td>\n",
       "      <td>11.011607</td>\n",
       "      <td>-499.985046</td>\n",
       "      <td>9.009783</td>\n",
       "      <td>-499.937902</td>\n",
       "      <td>9.012660</td>\n",
       "      <td>-500.154284</td>\n",
       "    </tr>\n",
       "    <tr>\n",
       "      <th>5289</th>\n",
       "      <td>2017-12-31 23:59:59</td>\n",
       "      <td>181.556856</td>\n",
       "      <td>14.995850</td>\n",
       "      <td>8.07</td>\n",
       "      <td>1.623454</td>\n",
       "      <td>1498.096303</td>\n",
       "      <td>-499.796922</td>\n",
       "      <td>1501.743791</td>\n",
       "      <td>-505.146931</td>\n",
       "      <td>1499.535978</td>\n",
       "      <td>...</td>\n",
       "      <td>20.034715</td>\n",
       "      <td>-500.728588</td>\n",
       "      <td>14.914199</td>\n",
       "      <td>-499.948518</td>\n",
       "      <td>10.986607</td>\n",
       "      <td>-500.658027</td>\n",
       "      <td>8.989497</td>\n",
       "      <td>-500.337588</td>\n",
       "      <td>8.988632</td>\n",
       "      <td>-500.764937</td>\n",
       "    </tr>\n",
       "  </tbody>\n",
       "</table>\n",
       "<p>3 rows × 53 columns</p>\n",
       "</div>"
      ],
      "text/plain": [
       "                     date  primary_cleaner.input.sulfate  \\\n",
       "5287  2017-12-31 21:59:59                     171.135718   \n",
       "5288  2017-12-31 22:59:59                     179.697158   \n",
       "5289  2017-12-31 23:59:59                     181.556856   \n",
       "\n",
       "      primary_cleaner.input.depressant  primary_cleaner.input.feed_size  \\\n",
       "5287                         15.993669                             8.07   \n",
       "5288                         15.438979                             8.07   \n",
       "5289                         14.995850                             8.07   \n",
       "\n",
       "      primary_cleaner.input.xanthate  primary_cleaner.state.floatbank8_a_air  \\\n",
       "5287                        1.165996                             1498.836182   \n",
       "5288                        1.501068                             1498.466243   \n",
       "5289                        1.623454                             1498.096303   \n",
       "\n",
       "      primary_cleaner.state.floatbank8_a_level  \\\n",
       "5287                               -501.770403   \n",
       "5288                               -500.483984   \n",
       "5289                               -499.796922   \n",
       "\n",
       "      primary_cleaner.state.floatbank8_b_air  \\\n",
       "5287                             1499.572353   \n",
       "5288                             1497.986986   \n",
       "5289                             1501.743791   \n",
       "\n",
       "      primary_cleaner.state.floatbank8_b_level  \\\n",
       "5287                               -495.516347   \n",
       "5288                               -519.200340   \n",
       "5289                               -505.146931   \n",
       "\n",
       "      primary_cleaner.state.floatbank8_c_air  ...  \\\n",
       "5287                             1502.749213  ...   \n",
       "5288                             1496.569047  ...   \n",
       "5289                             1499.535978  ...   \n",
       "\n",
       "      secondary_cleaner.state.floatbank4_a_air  \\\n",
       "5287                                 19.994130   \n",
       "5288                                 19.958760   \n",
       "5289                                 20.034715   \n",
       "\n",
       "      secondary_cleaner.state.floatbank4_a_level  \\\n",
       "5287                                 -499.791312   \n",
       "5288                                 -499.958750   \n",
       "5289                                 -500.728588   \n",
       "\n",
       "      secondary_cleaner.state.floatbank4_b_air  \\\n",
       "5287                                 15.101425   \n",
       "5288                                 15.026853   \n",
       "5289                                 14.914199   \n",
       "\n",
       "      secondary_cleaner.state.floatbank4_b_level  \\\n",
       "5287                                 -499.936252   \n",
       "5288                                 -499.723143   \n",
       "5289                                 -499.948518   \n",
       "\n",
       "      secondary_cleaner.state.floatbank5_a_air  \\\n",
       "5287                                 10.989181   \n",
       "5288                                 11.011607   \n",
       "5289                                 10.986607   \n",
       "\n",
       "      secondary_cleaner.state.floatbank5_a_level  \\\n",
       "5287                                 -498.347898   \n",
       "5288                                 -499.985046   \n",
       "5289                                 -500.658027   \n",
       "\n",
       "      secondary_cleaner.state.floatbank5_b_air  \\\n",
       "5287                                  9.020944   \n",
       "5288                                  9.009783   \n",
       "5289                                  8.989497   \n",
       "\n",
       "      secondary_cleaner.state.floatbank5_b_level  \\\n",
       "5287                                 -500.040448   \n",
       "5288                                 -499.937902   \n",
       "5289                                 -500.337588   \n",
       "\n",
       "      secondary_cleaner.state.floatbank6_a_air  \\\n",
       "5287                                  8.982038   \n",
       "5288                                  9.012660   \n",
       "5289                                  8.988632   \n",
       "\n",
       "      secondary_cleaner.state.floatbank6_a_level  \n",
       "5287                                 -497.789882  \n",
       "5288                                 -500.154284  \n",
       "5289                                 -500.764937  \n",
       "\n",
       "[3 rows x 53 columns]"
      ]
     },
     "metadata": {},
     "output_type": "display_data"
    },
    {
     "name": "stdout",
     "output_type": "stream",
     "text": [
      "##############################################################################\n"
     ]
    }
   ],
   "source": [
    "# Первый взгляд\n",
    "for i in df_name:    \n",
    "    display(i.head(3))\n",
    "    display(i.tail(3))\n",
    "    #i.info()\n",
    "    print('##############################################################################')"
   ]
  },
  {
   "cell_type": "code",
   "execution_count": 4,
   "metadata": {},
   "outputs": [
    {
     "name": "stdout",
     "output_type": "stream",
     "text": [
      "<class 'pandas.core.frame.DataFrame'>\n",
      "RangeIndex: 19439 entries, 0 to 19438\n",
      "Data columns (total 87 columns):\n",
      " #   Column                                              Non-Null Count  Dtype  \n",
      "---  ------                                              --------------  -----  \n",
      " 0   date                                                19439 non-null  object \n",
      " 1   final.output.concentrate_ag                         19438 non-null  float64\n",
      " 2   final.output.concentrate_pb                         19438 non-null  float64\n",
      " 3   final.output.concentrate_sol                        19228 non-null  float64\n",
      " 4   final.output.concentrate_au                         19439 non-null  float64\n",
      " 5   final.output.recovery                               19439 non-null  float64\n",
      " 6   final.output.tail_ag                                19438 non-null  float64\n",
      " 7   final.output.tail_pb                                19338 non-null  float64\n",
      " 8   final.output.tail_sol                               19433 non-null  float64\n",
      " 9   final.output.tail_au                                19439 non-null  float64\n",
      " 10  primary_cleaner.input.sulfate                       19415 non-null  float64\n",
      " 11  primary_cleaner.input.depressant                    19402 non-null  float64\n",
      " 12  primary_cleaner.input.feed_size                     19439 non-null  float64\n",
      " 13  primary_cleaner.input.xanthate                      19335 non-null  float64\n",
      " 14  primary_cleaner.output.concentrate_ag               19439 non-null  float64\n",
      " 15  primary_cleaner.output.concentrate_pb               19323 non-null  float64\n",
      " 16  primary_cleaner.output.concentrate_sol              19069 non-null  float64\n",
      " 17  primary_cleaner.output.concentrate_au               19439 non-null  float64\n",
      " 18  primary_cleaner.output.tail_ag                      19435 non-null  float64\n",
      " 19  primary_cleaner.output.tail_pb                      19418 non-null  float64\n",
      " 20  primary_cleaner.output.tail_sol                     19377 non-null  float64\n",
      " 21  primary_cleaner.output.tail_au                      19439 non-null  float64\n",
      " 22  primary_cleaner.state.floatbank8_a_air              19435 non-null  float64\n",
      " 23  primary_cleaner.state.floatbank8_a_level            19438 non-null  float64\n",
      " 24  primary_cleaner.state.floatbank8_b_air              19435 non-null  float64\n",
      " 25  primary_cleaner.state.floatbank8_b_level            19438 non-null  float64\n",
      " 26  primary_cleaner.state.floatbank8_c_air              19437 non-null  float64\n",
      " 27  primary_cleaner.state.floatbank8_c_level            19438 non-null  float64\n",
      " 28  primary_cleaner.state.floatbank8_d_air              19436 non-null  float64\n",
      " 29  primary_cleaner.state.floatbank8_d_level            19438 non-null  float64\n",
      " 30  rougher.calculation.sulfate_to_au_concentrate       19437 non-null  float64\n",
      " 31  rougher.calculation.floatbank10_sulfate_to_au_feed  19437 non-null  float64\n",
      " 32  rougher.calculation.floatbank11_sulfate_to_au_feed  19437 non-null  float64\n",
      " 33  rougher.calculation.au_pb_ratio                     19439 non-null  float64\n",
      " 34  rougher.input.feed_ag                               19439 non-null  float64\n",
      " 35  rougher.input.feed_pb                               19339 non-null  float64\n",
      " 36  rougher.input.feed_rate                             19428 non-null  float64\n",
      " 37  rougher.input.feed_size                             19294 non-null  float64\n",
      " 38  rougher.input.feed_sol                              19340 non-null  float64\n",
      " 39  rougher.input.feed_au                               19439 non-null  float64\n",
      " 40  rougher.input.floatbank10_sulfate                   19405 non-null  float64\n",
      " 41  rougher.input.floatbank10_xanthate                  19431 non-null  float64\n",
      " 42  rougher.input.floatbank11_sulfate                   19395 non-null  float64\n",
      " 43  rougher.input.floatbank11_xanthate                  18986 non-null  float64\n",
      " 44  rougher.output.concentrate_ag                       19439 non-null  float64\n",
      " 45  rougher.output.concentrate_pb                       19439 non-null  float64\n",
      " 46  rougher.output.concentrate_sol                      19416 non-null  float64\n",
      " 47  rougher.output.concentrate_au                       19439 non-null  float64\n",
      " 48  rougher.output.recovery                             19439 non-null  float64\n",
      " 49  rougher.output.tail_ag                              19438 non-null  float64\n",
      " 50  rougher.output.tail_pb                              19439 non-null  float64\n",
      " 51  rougher.output.tail_sol                             19439 non-null  float64\n",
      " 52  rougher.output.tail_au                              19439 non-null  float64\n",
      " 53  rougher.state.floatbank10_a_air                     19438 non-null  float64\n",
      " 54  rougher.state.floatbank10_a_level                   19438 non-null  float64\n",
      " 55  rougher.state.floatbank10_b_air                     19438 non-null  float64\n",
      " 56  rougher.state.floatbank10_b_level                   19438 non-null  float64\n",
      " 57  rougher.state.floatbank10_c_air                     19438 non-null  float64\n",
      " 58  rougher.state.floatbank10_c_level                   19438 non-null  float64\n",
      " 59  rougher.state.floatbank10_d_air                     19439 non-null  float64\n",
      " 60  rougher.state.floatbank10_d_level                   19439 non-null  float64\n",
      " 61  rougher.state.floatbank10_e_air                     19003 non-null  float64\n",
      " 62  rougher.state.floatbank10_e_level                   19439 non-null  float64\n",
      " 63  rougher.state.floatbank10_f_air                     19439 non-null  float64\n",
      " 64  rougher.state.floatbank10_f_level                   19439 non-null  float64\n",
      " 65  secondary_cleaner.output.tail_ag                    19437 non-null  float64\n",
      " 66  secondary_cleaner.output.tail_pb                    19427 non-null  float64\n",
      " 67  secondary_cleaner.output.tail_sol                   17691 non-null  float64\n",
      " 68  secondary_cleaner.output.tail_au                    19439 non-null  float64\n",
      " 69  secondary_cleaner.state.floatbank2_a_air            19219 non-null  float64\n",
      " 70  secondary_cleaner.state.floatbank2_a_level          19438 non-null  float64\n",
      " 71  secondary_cleaner.state.floatbank2_b_air            19416 non-null  float64\n",
      " 72  secondary_cleaner.state.floatbank2_b_level          19438 non-null  float64\n",
      " 73  secondary_cleaner.state.floatbank3_a_air            19426 non-null  float64\n",
      " 74  secondary_cleaner.state.floatbank3_a_level          19438 non-null  float64\n",
      " 75  secondary_cleaner.state.floatbank3_b_air            19438 non-null  float64\n",
      " 76  secondary_cleaner.state.floatbank3_b_level          19438 non-null  float64\n",
      " 77  secondary_cleaner.state.floatbank4_a_air            19433 non-null  float64\n",
      " 78  secondary_cleaner.state.floatbank4_a_level          19438 non-null  float64\n",
      " 79  secondary_cleaner.state.floatbank4_b_air            19438 non-null  float64\n",
      " 80  secondary_cleaner.state.floatbank4_b_level          19438 non-null  float64\n",
      " 81  secondary_cleaner.state.floatbank5_a_air            19438 non-null  float64\n",
      " 82  secondary_cleaner.state.floatbank5_a_level          19438 non-null  float64\n",
      " 83  secondary_cleaner.state.floatbank5_b_air            19438 non-null  float64\n",
      " 84  secondary_cleaner.state.floatbank5_b_level          19438 non-null  float64\n",
      " 85  secondary_cleaner.state.floatbank6_a_air            19437 non-null  float64\n",
      " 86  secondary_cleaner.state.floatbank6_a_level          19438 non-null  float64\n",
      "dtypes: float64(86), object(1)\n",
      "memory usage: 12.9+ MB\n",
      "----------------------------------\n",
      "<class 'pandas.core.frame.DataFrame'>\n",
      "RangeIndex: 14149 entries, 0 to 14148\n",
      "Data columns (total 87 columns):\n",
      " #   Column                                              Non-Null Count  Dtype  \n",
      "---  ------                                              --------------  -----  \n",
      " 0   date                                                14149 non-null  object \n",
      " 1   final.output.concentrate_ag                         14148 non-null  float64\n",
      " 2   final.output.concentrate_pb                         14148 non-null  float64\n",
      " 3   final.output.concentrate_sol                        13938 non-null  float64\n",
      " 4   final.output.concentrate_au                         14149 non-null  float64\n",
      " 5   final.output.recovery                               14149 non-null  float64\n",
      " 6   final.output.tail_ag                                14149 non-null  float64\n",
      " 7   final.output.tail_pb                                14049 non-null  float64\n",
      " 8   final.output.tail_sol                               14144 non-null  float64\n",
      " 9   final.output.tail_au                                14149 non-null  float64\n",
      " 10  primary_cleaner.input.sulfate                       14129 non-null  float64\n",
      " 11  primary_cleaner.input.depressant                    14117 non-null  float64\n",
      " 12  primary_cleaner.input.feed_size                     14149 non-null  float64\n",
      " 13  primary_cleaner.input.xanthate                      14049 non-null  float64\n",
      " 14  primary_cleaner.output.concentrate_ag               14149 non-null  float64\n",
      " 15  primary_cleaner.output.concentrate_pb               14063 non-null  float64\n",
      " 16  primary_cleaner.output.concentrate_sol              13863 non-null  float64\n",
      " 17  primary_cleaner.output.concentrate_au               14149 non-null  float64\n",
      " 18  primary_cleaner.output.tail_ag                      14148 non-null  float64\n",
      " 19  primary_cleaner.output.tail_pb                      14134 non-null  float64\n",
      " 20  primary_cleaner.output.tail_sol                     14103 non-null  float64\n",
      " 21  primary_cleaner.output.tail_au                      14149 non-null  float64\n",
      " 22  primary_cleaner.state.floatbank8_a_air              14145 non-null  float64\n",
      " 23  primary_cleaner.state.floatbank8_a_level            14148 non-null  float64\n",
      " 24  primary_cleaner.state.floatbank8_b_air              14145 non-null  float64\n",
      " 25  primary_cleaner.state.floatbank8_b_level            14148 non-null  float64\n",
      " 26  primary_cleaner.state.floatbank8_c_air              14147 non-null  float64\n",
      " 27  primary_cleaner.state.floatbank8_c_level            14148 non-null  float64\n",
      " 28  primary_cleaner.state.floatbank8_d_air              14146 non-null  float64\n",
      " 29  primary_cleaner.state.floatbank8_d_level            14148 non-null  float64\n",
      " 30  rougher.calculation.sulfate_to_au_concentrate       14148 non-null  float64\n",
      " 31  rougher.calculation.floatbank10_sulfate_to_au_feed  14148 non-null  float64\n",
      " 32  rougher.calculation.floatbank11_sulfate_to_au_feed  14148 non-null  float64\n",
      " 33  rougher.calculation.au_pb_ratio                     14149 non-null  float64\n",
      " 34  rougher.input.feed_ag                               14149 non-null  float64\n",
      " 35  rougher.input.feed_pb                               14049 non-null  float64\n",
      " 36  rougher.input.feed_rate                             14141 non-null  float64\n",
      " 37  rougher.input.feed_size                             14005 non-null  float64\n",
      " 38  rougher.input.feed_sol                              14071 non-null  float64\n",
      " 39  rougher.input.feed_au                               14149 non-null  float64\n",
      " 40  rougher.input.floatbank10_sulfate                   14120 non-null  float64\n",
      " 41  rougher.input.floatbank10_xanthate                  14141 non-null  float64\n",
      " 42  rougher.input.floatbank11_sulfate                   14113 non-null  float64\n",
      " 43  rougher.input.floatbank11_xanthate                  13721 non-null  float64\n",
      " 44  rougher.output.concentrate_ag                       14149 non-null  float64\n",
      " 45  rougher.output.concentrate_pb                       14149 non-null  float64\n",
      " 46  rougher.output.concentrate_sol                      14127 non-null  float64\n",
      " 47  rougher.output.concentrate_au                       14149 non-null  float64\n",
      " 48  rougher.output.recovery                             14149 non-null  float64\n",
      " 49  rougher.output.tail_ag                              14148 non-null  float64\n",
      " 50  rougher.output.tail_pb                              14149 non-null  float64\n",
      " 51  rougher.output.tail_sol                             14149 non-null  float64\n",
      " 52  rougher.output.tail_au                              14149 non-null  float64\n",
      " 53  rougher.state.floatbank10_a_air                     14148 non-null  float64\n",
      " 54  rougher.state.floatbank10_a_level                   14148 non-null  float64\n",
      " 55  rougher.state.floatbank10_b_air                     14148 non-null  float64\n",
      " 56  rougher.state.floatbank10_b_level                   14148 non-null  float64\n",
      " 57  rougher.state.floatbank10_c_air                     14148 non-null  float64\n",
      " 58  rougher.state.floatbank10_c_level                   14148 non-null  float64\n",
      " 59  rougher.state.floatbank10_d_air                     14149 non-null  float64\n",
      " 60  rougher.state.floatbank10_d_level                   14149 non-null  float64\n",
      " 61  rougher.state.floatbank10_e_air                     13713 non-null  float64\n",
      " 62  rougher.state.floatbank10_e_level                   14149 non-null  float64\n",
      " 63  rougher.state.floatbank10_f_air                     14149 non-null  float64\n",
      " 64  rougher.state.floatbank10_f_level                   14149 non-null  float64\n",
      " 65  secondary_cleaner.output.tail_ag                    14147 non-null  float64\n",
      " 66  secondary_cleaner.output.tail_pb                    14139 non-null  float64\n",
      " 67  secondary_cleaner.output.tail_sol                   12544 non-null  float64\n",
      " 68  secondary_cleaner.output.tail_au                    14149 non-null  float64\n",
      " 69  secondary_cleaner.state.floatbank2_a_air            13932 non-null  float64\n",
      " 70  secondary_cleaner.state.floatbank2_a_level          14148 non-null  float64\n",
      " 71  secondary_cleaner.state.floatbank2_b_air            14128 non-null  float64\n",
      " 72  secondary_cleaner.state.floatbank2_b_level          14148 non-null  float64\n",
      " 73  secondary_cleaner.state.floatbank3_a_air            14145 non-null  float64\n",
      " 74  secondary_cleaner.state.floatbank3_a_level          14148 non-null  float64\n",
      " 75  secondary_cleaner.state.floatbank3_b_air            14148 non-null  float64\n",
      " 76  secondary_cleaner.state.floatbank3_b_level          14148 non-null  float64\n",
      " 77  secondary_cleaner.state.floatbank4_a_air            14143 non-null  float64\n",
      " 78  secondary_cleaner.state.floatbank4_a_level          14148 non-null  float64\n",
      " 79  secondary_cleaner.state.floatbank4_b_air            14148 non-null  float64\n",
      " 80  secondary_cleaner.state.floatbank4_b_level          14148 non-null  float64\n",
      " 81  secondary_cleaner.state.floatbank5_a_air            14148 non-null  float64\n",
      " 82  secondary_cleaner.state.floatbank5_a_level          14148 non-null  float64\n",
      " 83  secondary_cleaner.state.floatbank5_b_air            14148 non-null  float64\n",
      " 84  secondary_cleaner.state.floatbank5_b_level          14148 non-null  float64\n",
      " 85  secondary_cleaner.state.floatbank6_a_air            14147 non-null  float64\n",
      " 86  secondary_cleaner.state.floatbank6_a_level          14148 non-null  float64\n",
      "dtypes: float64(86), object(1)\n",
      "memory usage: 9.4+ MB\n",
      "----------------------------------\n",
      "<class 'pandas.core.frame.DataFrame'>\n",
      "RangeIndex: 5290 entries, 0 to 5289\n",
      "Data columns (total 53 columns):\n",
      " #   Column                                      Non-Null Count  Dtype  \n",
      "---  ------                                      --------------  -----  \n",
      " 0   date                                        5290 non-null   object \n",
      " 1   primary_cleaner.input.sulfate               5286 non-null   float64\n",
      " 2   primary_cleaner.input.depressant            5285 non-null   float64\n",
      " 3   primary_cleaner.input.feed_size             5290 non-null   float64\n",
      " 4   primary_cleaner.input.xanthate              5286 non-null   float64\n",
      " 5   primary_cleaner.state.floatbank8_a_air      5290 non-null   float64\n",
      " 6   primary_cleaner.state.floatbank8_a_level    5290 non-null   float64\n",
      " 7   primary_cleaner.state.floatbank8_b_air      5290 non-null   float64\n",
      " 8   primary_cleaner.state.floatbank8_b_level    5290 non-null   float64\n",
      " 9   primary_cleaner.state.floatbank8_c_air      5290 non-null   float64\n",
      " 10  primary_cleaner.state.floatbank8_c_level    5290 non-null   float64\n",
      " 11  primary_cleaner.state.floatbank8_d_air      5290 non-null   float64\n",
      " 12  primary_cleaner.state.floatbank8_d_level    5290 non-null   float64\n",
      " 13  rougher.input.feed_ag                       5290 non-null   float64\n",
      " 14  rougher.input.feed_pb                       5290 non-null   float64\n",
      " 15  rougher.input.feed_rate                     5287 non-null   float64\n",
      " 16  rougher.input.feed_size                     5289 non-null   float64\n",
      " 17  rougher.input.feed_sol                      5269 non-null   float64\n",
      " 18  rougher.input.feed_au                       5290 non-null   float64\n",
      " 19  rougher.input.floatbank10_sulfate           5285 non-null   float64\n",
      " 20  rougher.input.floatbank10_xanthate          5290 non-null   float64\n",
      " 21  rougher.input.floatbank11_sulfate           5282 non-null   float64\n",
      " 22  rougher.input.floatbank11_xanthate          5265 non-null   float64\n",
      " 23  rougher.state.floatbank10_a_air             5290 non-null   float64\n",
      " 24  rougher.state.floatbank10_a_level           5290 non-null   float64\n",
      " 25  rougher.state.floatbank10_b_air             5290 non-null   float64\n",
      " 26  rougher.state.floatbank10_b_level           5290 non-null   float64\n",
      " 27  rougher.state.floatbank10_c_air             5290 non-null   float64\n",
      " 28  rougher.state.floatbank10_c_level           5290 non-null   float64\n",
      " 29  rougher.state.floatbank10_d_air             5290 non-null   float64\n",
      " 30  rougher.state.floatbank10_d_level           5290 non-null   float64\n",
      " 31  rougher.state.floatbank10_e_air             5290 non-null   float64\n",
      " 32  rougher.state.floatbank10_e_level           5290 non-null   float64\n",
      " 33  rougher.state.floatbank10_f_air             5290 non-null   float64\n",
      " 34  rougher.state.floatbank10_f_level           5290 non-null   float64\n",
      " 35  secondary_cleaner.state.floatbank2_a_air    5287 non-null   float64\n",
      " 36  secondary_cleaner.state.floatbank2_a_level  5290 non-null   float64\n",
      " 37  secondary_cleaner.state.floatbank2_b_air    5288 non-null   float64\n",
      " 38  secondary_cleaner.state.floatbank2_b_level  5290 non-null   float64\n",
      " 39  secondary_cleaner.state.floatbank3_a_air    5281 non-null   float64\n",
      " 40  secondary_cleaner.state.floatbank3_a_level  5290 non-null   float64\n",
      " 41  secondary_cleaner.state.floatbank3_b_air    5290 non-null   float64\n",
      " 42  secondary_cleaner.state.floatbank3_b_level  5290 non-null   float64\n",
      " 43  secondary_cleaner.state.floatbank4_a_air    5290 non-null   float64\n",
      " 44  secondary_cleaner.state.floatbank4_a_level  5290 non-null   float64\n",
      " 45  secondary_cleaner.state.floatbank4_b_air    5290 non-null   float64\n",
      " 46  secondary_cleaner.state.floatbank4_b_level  5290 non-null   float64\n",
      " 47  secondary_cleaner.state.floatbank5_a_air    5290 non-null   float64\n",
      " 48  secondary_cleaner.state.floatbank5_a_level  5290 non-null   float64\n",
      " 49  secondary_cleaner.state.floatbank5_b_air    5290 non-null   float64\n",
      " 50  secondary_cleaner.state.floatbank5_b_level  5290 non-null   float64\n",
      " 51  secondary_cleaner.state.floatbank6_a_air    5290 non-null   float64\n",
      " 52  secondary_cleaner.state.floatbank6_a_level  5290 non-null   float64\n",
      "dtypes: float64(52), object(1)\n",
      "memory usage: 2.1+ MB\n",
      "----------------------------------\n"
     ]
    }
   ],
   "source": [
    "# Первый взгляд\n",
    "for i in df_name: \n",
    "    i.info()\n",
    "    print('----------------------------------')"
   ]
  },
  {
   "cell_type": "code",
   "execution_count": 5,
   "metadata": {
    "scrolled": false
   },
   "outputs": [
    {
     "name": "stdout",
     "output_type": "stream",
     "text": [
      "---------------------------------- ------------------------------------\n"
     ]
    },
    {
     "data": {
      "text/plain": [
       "date                                            0\n",
       "final.output.concentrate_ag                     1\n",
       "final.output.concentrate_pb                     1\n",
       "final.output.concentrate_sol                  211\n",
       "final.output.concentrate_au                     0\n",
       "                                             ... \n",
       "secondary_cleaner.state.floatbank5_a_level      1\n",
       "secondary_cleaner.state.floatbank5_b_air        1\n",
       "secondary_cleaner.state.floatbank5_b_level      1\n",
       "secondary_cleaner.state.floatbank6_a_air        2\n",
       "secondary_cleaner.state.floatbank6_a_level      1\n",
       "Length: 87, dtype: int64"
      ]
     },
     "metadata": {},
     "output_type": "display_data"
    },
    {
     "name": "stdout",
     "output_type": "stream",
     "text": [
      "#############################################\n"
     ]
    },
    {
     "data": {
      "text/plain": [
       "'Явные дупликаты:'"
      ]
     },
     "metadata": {},
     "output_type": "display_data"
    },
    {
     "data": {
      "text/plain": [
       "0"
      ]
     },
     "metadata": {},
     "output_type": "display_data"
    },
    {
     "name": "stdout",
     "output_type": "stream",
     "text": [
      "\n",
      "---------------------------------- ------------------------------------\n",
      "---------------------------------- ------------------------------------\n",
      "---------------------------------- ------------------------------------\n"
     ]
    },
    {
     "data": {
      "text/plain": [
       "date                                            0\n",
       "final.output.concentrate_ag                     1\n",
       "final.output.concentrate_pb                     1\n",
       "final.output.concentrate_sol                  211\n",
       "final.output.concentrate_au                     0\n",
       "                                             ... \n",
       "secondary_cleaner.state.floatbank5_a_level      1\n",
       "secondary_cleaner.state.floatbank5_b_air        1\n",
       "secondary_cleaner.state.floatbank5_b_level      1\n",
       "secondary_cleaner.state.floatbank6_a_air        2\n",
       "secondary_cleaner.state.floatbank6_a_level      1\n",
       "Length: 87, dtype: int64"
      ]
     },
     "metadata": {},
     "output_type": "display_data"
    },
    {
     "name": "stdout",
     "output_type": "stream",
     "text": [
      "#############################################\n"
     ]
    },
    {
     "data": {
      "text/plain": [
       "'Явные дупликаты:'"
      ]
     },
     "metadata": {},
     "output_type": "display_data"
    },
    {
     "data": {
      "text/plain": [
       "0"
      ]
     },
     "metadata": {},
     "output_type": "display_data"
    },
    {
     "name": "stdout",
     "output_type": "stream",
     "text": [
      "\n",
      "---------------------------------- ------------------------------------\n",
      "---------------------------------- ------------------------------------\n",
      "---------------------------------- ------------------------------------\n"
     ]
    },
    {
     "data": {
      "text/plain": [
       "date                                           0\n",
       "primary_cleaner.input.sulfate                  4\n",
       "primary_cleaner.input.depressant               5\n",
       "primary_cleaner.input.feed_size                0\n",
       "primary_cleaner.input.xanthate                 4\n",
       "primary_cleaner.state.floatbank8_a_air         0\n",
       "primary_cleaner.state.floatbank8_a_level       0\n",
       "primary_cleaner.state.floatbank8_b_air         0\n",
       "primary_cleaner.state.floatbank8_b_level       0\n",
       "primary_cleaner.state.floatbank8_c_air         0\n",
       "primary_cleaner.state.floatbank8_c_level       0\n",
       "primary_cleaner.state.floatbank8_d_air         0\n",
       "primary_cleaner.state.floatbank8_d_level       0\n",
       "rougher.input.feed_ag                          0\n",
       "rougher.input.feed_pb                          0\n",
       "rougher.input.feed_rate                        3\n",
       "rougher.input.feed_size                        1\n",
       "rougher.input.feed_sol                        21\n",
       "rougher.input.feed_au                          0\n",
       "rougher.input.floatbank10_sulfate              5\n",
       "rougher.input.floatbank10_xanthate             0\n",
       "rougher.input.floatbank11_sulfate              8\n",
       "rougher.input.floatbank11_xanthate            25\n",
       "rougher.state.floatbank10_a_air                0\n",
       "rougher.state.floatbank10_a_level              0\n",
       "rougher.state.floatbank10_b_air                0\n",
       "rougher.state.floatbank10_b_level              0\n",
       "rougher.state.floatbank10_c_air                0\n",
       "rougher.state.floatbank10_c_level              0\n",
       "rougher.state.floatbank10_d_air                0\n",
       "rougher.state.floatbank10_d_level              0\n",
       "rougher.state.floatbank10_e_air                0\n",
       "rougher.state.floatbank10_e_level              0\n",
       "rougher.state.floatbank10_f_air                0\n",
       "rougher.state.floatbank10_f_level              0\n",
       "secondary_cleaner.state.floatbank2_a_air       3\n",
       "secondary_cleaner.state.floatbank2_a_level     0\n",
       "secondary_cleaner.state.floatbank2_b_air       2\n",
       "secondary_cleaner.state.floatbank2_b_level     0\n",
       "secondary_cleaner.state.floatbank3_a_air       9\n",
       "secondary_cleaner.state.floatbank3_a_level     0\n",
       "secondary_cleaner.state.floatbank3_b_air       0\n",
       "secondary_cleaner.state.floatbank3_b_level     0\n",
       "secondary_cleaner.state.floatbank4_a_air       0\n",
       "secondary_cleaner.state.floatbank4_a_level     0\n",
       "secondary_cleaner.state.floatbank4_b_air       0\n",
       "secondary_cleaner.state.floatbank4_b_level     0\n",
       "secondary_cleaner.state.floatbank5_a_air       0\n",
       "secondary_cleaner.state.floatbank5_a_level     0\n",
       "secondary_cleaner.state.floatbank5_b_air       0\n",
       "secondary_cleaner.state.floatbank5_b_level     0\n",
       "secondary_cleaner.state.floatbank6_a_air       0\n",
       "secondary_cleaner.state.floatbank6_a_level     0\n",
       "dtype: int64"
      ]
     },
     "metadata": {},
     "output_type": "display_data"
    },
    {
     "name": "stdout",
     "output_type": "stream",
     "text": [
      "#############################################\n"
     ]
    },
    {
     "data": {
      "text/plain": [
       "'Явные дупликаты:'"
      ]
     },
     "metadata": {},
     "output_type": "display_data"
    },
    {
     "data": {
      "text/plain": [
       "0"
      ]
     },
     "metadata": {},
     "output_type": "display_data"
    },
    {
     "name": "stdout",
     "output_type": "stream",
     "text": [
      "\n",
      "---------------------------------- ------------------------------------\n",
      "---------------------------------- ------------------------------------\n"
     ]
    }
   ],
   "source": [
    "# Дупликаты и пропуски\n",
    "for i in df_name:    \n",
    "    print('----------------------------------',  '------------------------------------')\n",
    "    display(i.isna().sum())\n",
    "    print('#############################################')\n",
    "    display(\"Явные дупликаты:\", i.duplicated().sum())\n",
    "    print()\n",
    "    print('----------------------------------',  '------------------------------------')\n",
    "    #display(i.corr())\n",
    "    print('----------------------------------',  '------------------------------------')"
   ]
  },
  {
   "cell_type": "code",
   "execution_count": 6,
   "metadata": {},
   "outputs": [],
   "source": [
    "df_test = df_test.dropna()\n",
    "df_train = df_train.dropna()\n",
    "#display(df_test.isna().sum()) "
   ]
  },
  {
   "cell_type": "code",
   "execution_count": 8,
   "metadata": {},
   "outputs": [
    {
     "name": "stdout",
     "output_type": "stream",
     "text": [
      "MAE между  расчётами и значением признака = 0.00000000000000982970\n",
      "Среднее по подсчетам = 82.74189\n",
      "Среднее по признаку = 82.74189\n"
     ]
    }
   ],
   "source": [
    "# Проверка recovery\n",
    "\n",
    "def recovery(c, f, t):\n",
    "    recovery = []\n",
    "    recovery  = (c*(f-t)) / (f*(c-t)) * 100\n",
    "    return pd.Series(recovery)\n",
    "    \n",
    "rec = recovery(df_train['rougher.output.concentrate_au'], \n",
    "               df_train['rougher.input.feed_au'],\n",
    "               df_train['rougher.output.tail_au'])   \n",
    "\n",
    "mae = mean_absolute_error(rec, df_train['rougher.output.recovery'])\n",
    "print('MAE между  расчётами и значением признака = {0:.20f}'.format(mae))\n",
    "print('Среднее по подсчетам = {0:.5f}'.format(rec.mean()))\n",
    "print('Среднее по признаку = {0:.5f}'.format(df_train['rougher.output.recovery'].mean()))"
   ]
  },
  {
   "cell_type": "markdown",
   "metadata": {},
   "source": [
    "<div style=\"border:solid green 2px; padding: 20px\" class=\"alert alert-info\">\n",
    "    <b>\n",
    "        <p>\n",
    "          Так как MAE показатель очень маленький, можно сделать заключение, что подсчеты верные и им можно доверять.\n",
    "        </p>\n",
    "    </b>\n",
    "</div>"
   ]
  },
  {
   "cell_type": "code",
   "execution_count": 10,
   "metadata": {},
   "outputs": [],
   "source": [
    "#Предобработка\n",
    "df_test.index = df_test['date']\n",
    "df_full.index = df_full['date']\n",
    "df_test['rougher.output.recovery'] = df_full['rougher.output.recovery'][df_test.index]\n",
    "df_test['final.output.recovery'] = df_full['final.output.recovery'][df_test.index]"
   ]
  },
  {
   "cell_type": "code",
   "execution_count": 11,
   "metadata": {},
   "outputs": [],
   "source": [
    "# Привести данные к одному размеру\n",
    "\n",
    "df_test_colms_55 = set(df_test.columns)\n",
    "df_train_55 = df_train[df_test_colms_55]\n",
    "#df_train_55.info()"
   ]
  },
  {
   "cell_type": "code",
   "execution_count": 12,
   "metadata": {},
   "outputs": [
    {
     "data": {
      "text/plain": [
       "(11017, 55)"
      ]
     },
     "execution_count": 12,
     "metadata": {},
     "output_type": "execute_result"
    }
   ],
   "source": [
    "df_train_55.shape"
   ]
  },
  {
   "cell_type": "code",
   "execution_count": 13,
   "metadata": {},
   "outputs": [
    {
     "data": {
      "text/html": [
       "<div>\n",
       "<style scoped>\n",
       "    .dataframe tbody tr th:only-of-type {\n",
       "        vertical-align: middle;\n",
       "    }\n",
       "\n",
       "    .dataframe tbody tr th {\n",
       "        vertical-align: top;\n",
       "    }\n",
       "\n",
       "    .dataframe thead th {\n",
       "        text-align: right;\n",
       "    }\n",
       "</style>\n",
       "<table border=\"1\" class=\"dataframe\">\n",
       "  <thead>\n",
       "    <tr style=\"text-align: right;\">\n",
       "      <th></th>\n",
       "      <th>date</th>\n",
       "      <th>primary_cleaner.input.sulfate</th>\n",
       "      <th>primary_cleaner.input.depressant</th>\n",
       "      <th>primary_cleaner.input.feed_size</th>\n",
       "      <th>primary_cleaner.input.xanthate</th>\n",
       "      <th>primary_cleaner.state.floatbank8_a_air</th>\n",
       "      <th>primary_cleaner.state.floatbank8_a_level</th>\n",
       "      <th>primary_cleaner.state.floatbank8_b_air</th>\n",
       "      <th>primary_cleaner.state.floatbank8_b_level</th>\n",
       "      <th>primary_cleaner.state.floatbank8_c_air</th>\n",
       "      <th>...</th>\n",
       "      <th>secondary_cleaner.state.floatbank4_b_air</th>\n",
       "      <th>secondary_cleaner.state.floatbank4_b_level</th>\n",
       "      <th>secondary_cleaner.state.floatbank5_a_air</th>\n",
       "      <th>secondary_cleaner.state.floatbank5_a_level</th>\n",
       "      <th>secondary_cleaner.state.floatbank5_b_air</th>\n",
       "      <th>secondary_cleaner.state.floatbank5_b_level</th>\n",
       "      <th>secondary_cleaner.state.floatbank6_a_air</th>\n",
       "      <th>secondary_cleaner.state.floatbank6_a_level</th>\n",
       "      <th>rougher.output.recovery</th>\n",
       "      <th>final.output.recovery</th>\n",
       "    </tr>\n",
       "    <tr>\n",
       "      <th>date</th>\n",
       "      <th></th>\n",
       "      <th></th>\n",
       "      <th></th>\n",
       "      <th></th>\n",
       "      <th></th>\n",
       "      <th></th>\n",
       "      <th></th>\n",
       "      <th></th>\n",
       "      <th></th>\n",
       "      <th></th>\n",
       "      <th></th>\n",
       "      <th></th>\n",
       "      <th></th>\n",
       "      <th></th>\n",
       "      <th></th>\n",
       "      <th></th>\n",
       "      <th></th>\n",
       "      <th></th>\n",
       "      <th></th>\n",
       "      <th></th>\n",
       "      <th></th>\n",
       "    </tr>\n",
       "  </thead>\n",
       "  <tbody>\n",
       "    <tr>\n",
       "      <th>2016-09-01 00:59:59</th>\n",
       "      <td>2016-09-01 00:59:59</td>\n",
       "      <td>210.800909</td>\n",
       "      <td>14.993118</td>\n",
       "      <td>8.080000</td>\n",
       "      <td>1.005021</td>\n",
       "      <td>1398.981301</td>\n",
       "      <td>-500.225577</td>\n",
       "      <td>1399.144926</td>\n",
       "      <td>-499.919735</td>\n",
       "      <td>1400.102998</td>\n",
       "      <td>...</td>\n",
       "      <td>8.016656</td>\n",
       "      <td>-501.289139</td>\n",
       "      <td>7.946562</td>\n",
       "      <td>-432.317850</td>\n",
       "      <td>4.872511</td>\n",
       "      <td>-500.037437</td>\n",
       "      <td>26.705889</td>\n",
       "      <td>-499.709414</td>\n",
       "      <td>89.993421</td>\n",
       "      <td>70.273583</td>\n",
       "    </tr>\n",
       "    <tr>\n",
       "      <th>2016-09-01 01:59:59</th>\n",
       "      <td>2016-09-01 01:59:59</td>\n",
       "      <td>215.392455</td>\n",
       "      <td>14.987471</td>\n",
       "      <td>8.080000</td>\n",
       "      <td>0.990469</td>\n",
       "      <td>1398.777912</td>\n",
       "      <td>-500.057435</td>\n",
       "      <td>1398.055362</td>\n",
       "      <td>-499.778182</td>\n",
       "      <td>1396.151033</td>\n",
       "      <td>...</td>\n",
       "      <td>8.130979</td>\n",
       "      <td>-499.634209</td>\n",
       "      <td>7.958270</td>\n",
       "      <td>-525.839648</td>\n",
       "      <td>4.878850</td>\n",
       "      <td>-500.162375</td>\n",
       "      <td>25.019940</td>\n",
       "      <td>-499.819438</td>\n",
       "      <td>88.089657</td>\n",
       "      <td>68.910432</td>\n",
       "    </tr>\n",
       "    <tr>\n",
       "      <th>2016-09-01 02:59:59</th>\n",
       "      <td>2016-09-01 02:59:59</td>\n",
       "      <td>215.259946</td>\n",
       "      <td>12.884934</td>\n",
       "      <td>7.786667</td>\n",
       "      <td>0.996043</td>\n",
       "      <td>1398.493666</td>\n",
       "      <td>-500.868360</td>\n",
       "      <td>1398.860436</td>\n",
       "      <td>-499.764529</td>\n",
       "      <td>1398.075709</td>\n",
       "      <td>...</td>\n",
       "      <td>8.096893</td>\n",
       "      <td>-500.827423</td>\n",
       "      <td>8.071056</td>\n",
       "      <td>-500.801673</td>\n",
       "      <td>4.905125</td>\n",
       "      <td>-499.828510</td>\n",
       "      <td>24.994862</td>\n",
       "      <td>-500.622559</td>\n",
       "      <td>88.412756</td>\n",
       "      <td>68.143213</td>\n",
       "    </tr>\n",
       "    <tr>\n",
       "      <th>2016-09-01 03:59:59</th>\n",
       "      <td>2016-09-01 03:59:59</td>\n",
       "      <td>215.336236</td>\n",
       "      <td>12.006805</td>\n",
       "      <td>7.640000</td>\n",
       "      <td>0.863514</td>\n",
       "      <td>1399.618111</td>\n",
       "      <td>-498.863574</td>\n",
       "      <td>1397.440120</td>\n",
       "      <td>-499.211024</td>\n",
       "      <td>1400.129303</td>\n",
       "      <td>...</td>\n",
       "      <td>8.074946</td>\n",
       "      <td>-499.474407</td>\n",
       "      <td>7.897085</td>\n",
       "      <td>-500.868509</td>\n",
       "      <td>4.931400</td>\n",
       "      <td>-499.963623</td>\n",
       "      <td>24.948919</td>\n",
       "      <td>-498.709987</td>\n",
       "      <td>87.360133</td>\n",
       "      <td>67.776393</td>\n",
       "    </tr>\n",
       "    <tr>\n",
       "      <th>2016-09-01 04:59:59</th>\n",
       "      <td>2016-09-01 04:59:59</td>\n",
       "      <td>199.099327</td>\n",
       "      <td>10.682530</td>\n",
       "      <td>7.530000</td>\n",
       "      <td>0.805575</td>\n",
       "      <td>1401.268123</td>\n",
       "      <td>-500.808305</td>\n",
       "      <td>1398.128818</td>\n",
       "      <td>-499.504543</td>\n",
       "      <td>1402.172226</td>\n",
       "      <td>...</td>\n",
       "      <td>8.054678</td>\n",
       "      <td>-500.397500</td>\n",
       "      <td>8.107890</td>\n",
       "      <td>-509.526725</td>\n",
       "      <td>4.957674</td>\n",
       "      <td>-500.360026</td>\n",
       "      <td>25.003331</td>\n",
       "      <td>-500.856333</td>\n",
       "      <td>83.236367</td>\n",
       "      <td>61.467078</td>\n",
       "    </tr>\n",
       "    <tr>\n",
       "      <th>...</th>\n",
       "      <td>...</td>\n",
       "      <td>...</td>\n",
       "      <td>...</td>\n",
       "      <td>...</td>\n",
       "      <td>...</td>\n",
       "      <td>...</td>\n",
       "      <td>...</td>\n",
       "      <td>...</td>\n",
       "      <td>...</td>\n",
       "      <td>...</td>\n",
       "      <td>...</td>\n",
       "      <td>...</td>\n",
       "      <td>...</td>\n",
       "      <td>...</td>\n",
       "      <td>...</td>\n",
       "      <td>...</td>\n",
       "      <td>...</td>\n",
       "      <td>...</td>\n",
       "      <td>...</td>\n",
       "      <td>...</td>\n",
       "      <td>...</td>\n",
       "    </tr>\n",
       "    <tr>\n",
       "      <th>2017-12-31 19:59:59</th>\n",
       "      <td>2017-12-31 19:59:59</td>\n",
       "      <td>173.957757</td>\n",
       "      <td>15.963399</td>\n",
       "      <td>8.070000</td>\n",
       "      <td>0.896701</td>\n",
       "      <td>1401.930554</td>\n",
       "      <td>-499.728848</td>\n",
       "      <td>1401.441445</td>\n",
       "      <td>-499.193423</td>\n",
       "      <td>1399.810313</td>\n",
       "      <td>...</td>\n",
       "      <td>12.069155</td>\n",
       "      <td>-499.673279</td>\n",
       "      <td>7.977259</td>\n",
       "      <td>-499.516126</td>\n",
       "      <td>5.933319</td>\n",
       "      <td>-499.965973</td>\n",
       "      <td>8.987171</td>\n",
       "      <td>-499.755909</td>\n",
       "      <td>95.172585</td>\n",
       "      <td>68.919891</td>\n",
       "    </tr>\n",
       "    <tr>\n",
       "      <th>2017-12-31 20:59:59</th>\n",
       "      <td>2017-12-31 20:59:59</td>\n",
       "      <td>172.910270</td>\n",
       "      <td>16.002605</td>\n",
       "      <td>8.070000</td>\n",
       "      <td>0.896519</td>\n",
       "      <td>1447.075722</td>\n",
       "      <td>-494.716823</td>\n",
       "      <td>1448.851892</td>\n",
       "      <td>-465.963026</td>\n",
       "      <td>1443.890424</td>\n",
       "      <td>...</td>\n",
       "      <td>13.365371</td>\n",
       "      <td>-499.122723</td>\n",
       "      <td>9.288553</td>\n",
       "      <td>-496.892967</td>\n",
       "      <td>7.372897</td>\n",
       "      <td>-499.942956</td>\n",
       "      <td>8.986832</td>\n",
       "      <td>-499.903761</td>\n",
       "      <td>94.575036</td>\n",
       "      <td>68.440582</td>\n",
       "    </tr>\n",
       "    <tr>\n",
       "      <th>2017-12-31 21:59:59</th>\n",
       "      <td>2017-12-31 21:59:59</td>\n",
       "      <td>171.135718</td>\n",
       "      <td>15.993669</td>\n",
       "      <td>8.070000</td>\n",
       "      <td>1.165996</td>\n",
       "      <td>1498.836182</td>\n",
       "      <td>-501.770403</td>\n",
       "      <td>1499.572353</td>\n",
       "      <td>-495.516347</td>\n",
       "      <td>1502.749213</td>\n",
       "      <td>...</td>\n",
       "      <td>15.101425</td>\n",
       "      <td>-499.936252</td>\n",
       "      <td>10.989181</td>\n",
       "      <td>-498.347898</td>\n",
       "      <td>9.020944</td>\n",
       "      <td>-500.040448</td>\n",
       "      <td>8.982038</td>\n",
       "      <td>-497.789882</td>\n",
       "      <td>93.018138</td>\n",
       "      <td>67.092759</td>\n",
       "    </tr>\n",
       "    <tr>\n",
       "      <th>2017-12-31 22:59:59</th>\n",
       "      <td>2017-12-31 22:59:59</td>\n",
       "      <td>179.697158</td>\n",
       "      <td>15.438979</td>\n",
       "      <td>8.070000</td>\n",
       "      <td>1.501068</td>\n",
       "      <td>1498.466243</td>\n",
       "      <td>-500.483984</td>\n",
       "      <td>1497.986986</td>\n",
       "      <td>-519.200340</td>\n",
       "      <td>1496.569047</td>\n",
       "      <td>...</td>\n",
       "      <td>15.026853</td>\n",
       "      <td>-499.723143</td>\n",
       "      <td>11.011607</td>\n",
       "      <td>-499.985046</td>\n",
       "      <td>9.009783</td>\n",
       "      <td>-499.937902</td>\n",
       "      <td>9.012660</td>\n",
       "      <td>-500.154284</td>\n",
       "      <td>92.599042</td>\n",
       "      <td>68.061186</td>\n",
       "    </tr>\n",
       "    <tr>\n",
       "      <th>2017-12-31 23:59:59</th>\n",
       "      <td>2017-12-31 23:59:59</td>\n",
       "      <td>181.556856</td>\n",
       "      <td>14.995850</td>\n",
       "      <td>8.070000</td>\n",
       "      <td>1.623454</td>\n",
       "      <td>1498.096303</td>\n",
       "      <td>-499.796922</td>\n",
       "      <td>1501.743791</td>\n",
       "      <td>-505.146931</td>\n",
       "      <td>1499.535978</td>\n",
       "      <td>...</td>\n",
       "      <td>14.914199</td>\n",
       "      <td>-499.948518</td>\n",
       "      <td>10.986607</td>\n",
       "      <td>-500.658027</td>\n",
       "      <td>8.989497</td>\n",
       "      <td>-500.337588</td>\n",
       "      <td>8.988632</td>\n",
       "      <td>-500.764937</td>\n",
       "      <td>91.177695</td>\n",
       "      <td>71.699976</td>\n",
       "    </tr>\n",
       "  </tbody>\n",
       "</table>\n",
       "<p>5229 rows × 55 columns</p>\n",
       "</div>"
      ],
      "text/plain": [
       "                                    date  primary_cleaner.input.sulfate  \\\n",
       "date                                                                      \n",
       "2016-09-01 00:59:59  2016-09-01 00:59:59                     210.800909   \n",
       "2016-09-01 01:59:59  2016-09-01 01:59:59                     215.392455   \n",
       "2016-09-01 02:59:59  2016-09-01 02:59:59                     215.259946   \n",
       "2016-09-01 03:59:59  2016-09-01 03:59:59                     215.336236   \n",
       "2016-09-01 04:59:59  2016-09-01 04:59:59                     199.099327   \n",
       "...                                  ...                            ...   \n",
       "2017-12-31 19:59:59  2017-12-31 19:59:59                     173.957757   \n",
       "2017-12-31 20:59:59  2017-12-31 20:59:59                     172.910270   \n",
       "2017-12-31 21:59:59  2017-12-31 21:59:59                     171.135718   \n",
       "2017-12-31 22:59:59  2017-12-31 22:59:59                     179.697158   \n",
       "2017-12-31 23:59:59  2017-12-31 23:59:59                     181.556856   \n",
       "\n",
       "                     primary_cleaner.input.depressant  \\\n",
       "date                                                    \n",
       "2016-09-01 00:59:59                         14.993118   \n",
       "2016-09-01 01:59:59                         14.987471   \n",
       "2016-09-01 02:59:59                         12.884934   \n",
       "2016-09-01 03:59:59                         12.006805   \n",
       "2016-09-01 04:59:59                         10.682530   \n",
       "...                                               ...   \n",
       "2017-12-31 19:59:59                         15.963399   \n",
       "2017-12-31 20:59:59                         16.002605   \n",
       "2017-12-31 21:59:59                         15.993669   \n",
       "2017-12-31 22:59:59                         15.438979   \n",
       "2017-12-31 23:59:59                         14.995850   \n",
       "\n",
       "                     primary_cleaner.input.feed_size  \\\n",
       "date                                                   \n",
       "2016-09-01 00:59:59                         8.080000   \n",
       "2016-09-01 01:59:59                         8.080000   \n",
       "2016-09-01 02:59:59                         7.786667   \n",
       "2016-09-01 03:59:59                         7.640000   \n",
       "2016-09-01 04:59:59                         7.530000   \n",
       "...                                              ...   \n",
       "2017-12-31 19:59:59                         8.070000   \n",
       "2017-12-31 20:59:59                         8.070000   \n",
       "2017-12-31 21:59:59                         8.070000   \n",
       "2017-12-31 22:59:59                         8.070000   \n",
       "2017-12-31 23:59:59                         8.070000   \n",
       "\n",
       "                     primary_cleaner.input.xanthate  \\\n",
       "date                                                  \n",
       "2016-09-01 00:59:59                        1.005021   \n",
       "2016-09-01 01:59:59                        0.990469   \n",
       "2016-09-01 02:59:59                        0.996043   \n",
       "2016-09-01 03:59:59                        0.863514   \n",
       "2016-09-01 04:59:59                        0.805575   \n",
       "...                                             ...   \n",
       "2017-12-31 19:59:59                        0.896701   \n",
       "2017-12-31 20:59:59                        0.896519   \n",
       "2017-12-31 21:59:59                        1.165996   \n",
       "2017-12-31 22:59:59                        1.501068   \n",
       "2017-12-31 23:59:59                        1.623454   \n",
       "\n",
       "                     primary_cleaner.state.floatbank8_a_air  \\\n",
       "date                                                          \n",
       "2016-09-01 00:59:59                             1398.981301   \n",
       "2016-09-01 01:59:59                             1398.777912   \n",
       "2016-09-01 02:59:59                             1398.493666   \n",
       "2016-09-01 03:59:59                             1399.618111   \n",
       "2016-09-01 04:59:59                             1401.268123   \n",
       "...                                                     ...   \n",
       "2017-12-31 19:59:59                             1401.930554   \n",
       "2017-12-31 20:59:59                             1447.075722   \n",
       "2017-12-31 21:59:59                             1498.836182   \n",
       "2017-12-31 22:59:59                             1498.466243   \n",
       "2017-12-31 23:59:59                             1498.096303   \n",
       "\n",
       "                     primary_cleaner.state.floatbank8_a_level  \\\n",
       "date                                                            \n",
       "2016-09-01 00:59:59                               -500.225577   \n",
       "2016-09-01 01:59:59                               -500.057435   \n",
       "2016-09-01 02:59:59                               -500.868360   \n",
       "2016-09-01 03:59:59                               -498.863574   \n",
       "2016-09-01 04:59:59                               -500.808305   \n",
       "...                                                       ...   \n",
       "2017-12-31 19:59:59                               -499.728848   \n",
       "2017-12-31 20:59:59                               -494.716823   \n",
       "2017-12-31 21:59:59                               -501.770403   \n",
       "2017-12-31 22:59:59                               -500.483984   \n",
       "2017-12-31 23:59:59                               -499.796922   \n",
       "\n",
       "                     primary_cleaner.state.floatbank8_b_air  \\\n",
       "date                                                          \n",
       "2016-09-01 00:59:59                             1399.144926   \n",
       "2016-09-01 01:59:59                             1398.055362   \n",
       "2016-09-01 02:59:59                             1398.860436   \n",
       "2016-09-01 03:59:59                             1397.440120   \n",
       "2016-09-01 04:59:59                             1398.128818   \n",
       "...                                                     ...   \n",
       "2017-12-31 19:59:59                             1401.441445   \n",
       "2017-12-31 20:59:59                             1448.851892   \n",
       "2017-12-31 21:59:59                             1499.572353   \n",
       "2017-12-31 22:59:59                             1497.986986   \n",
       "2017-12-31 23:59:59                             1501.743791   \n",
       "\n",
       "                     primary_cleaner.state.floatbank8_b_level  \\\n",
       "date                                                            \n",
       "2016-09-01 00:59:59                               -499.919735   \n",
       "2016-09-01 01:59:59                               -499.778182   \n",
       "2016-09-01 02:59:59                               -499.764529   \n",
       "2016-09-01 03:59:59                               -499.211024   \n",
       "2016-09-01 04:59:59                               -499.504543   \n",
       "...                                                       ...   \n",
       "2017-12-31 19:59:59                               -499.193423   \n",
       "2017-12-31 20:59:59                               -465.963026   \n",
       "2017-12-31 21:59:59                               -495.516347   \n",
       "2017-12-31 22:59:59                               -519.200340   \n",
       "2017-12-31 23:59:59                               -505.146931   \n",
       "\n",
       "                     primary_cleaner.state.floatbank8_c_air  ...  \\\n",
       "date                                                         ...   \n",
       "2016-09-01 00:59:59                             1400.102998  ...   \n",
       "2016-09-01 01:59:59                             1396.151033  ...   \n",
       "2016-09-01 02:59:59                             1398.075709  ...   \n",
       "2016-09-01 03:59:59                             1400.129303  ...   \n",
       "2016-09-01 04:59:59                             1402.172226  ...   \n",
       "...                                                     ...  ...   \n",
       "2017-12-31 19:59:59                             1399.810313  ...   \n",
       "2017-12-31 20:59:59                             1443.890424  ...   \n",
       "2017-12-31 21:59:59                             1502.749213  ...   \n",
       "2017-12-31 22:59:59                             1496.569047  ...   \n",
       "2017-12-31 23:59:59                             1499.535978  ...   \n",
       "\n",
       "                     secondary_cleaner.state.floatbank4_b_air  \\\n",
       "date                                                            \n",
       "2016-09-01 00:59:59                                  8.016656   \n",
       "2016-09-01 01:59:59                                  8.130979   \n",
       "2016-09-01 02:59:59                                  8.096893   \n",
       "2016-09-01 03:59:59                                  8.074946   \n",
       "2016-09-01 04:59:59                                  8.054678   \n",
       "...                                                       ...   \n",
       "2017-12-31 19:59:59                                 12.069155   \n",
       "2017-12-31 20:59:59                                 13.365371   \n",
       "2017-12-31 21:59:59                                 15.101425   \n",
       "2017-12-31 22:59:59                                 15.026853   \n",
       "2017-12-31 23:59:59                                 14.914199   \n",
       "\n",
       "                     secondary_cleaner.state.floatbank4_b_level  \\\n",
       "date                                                              \n",
       "2016-09-01 00:59:59                                 -501.289139   \n",
       "2016-09-01 01:59:59                                 -499.634209   \n",
       "2016-09-01 02:59:59                                 -500.827423   \n",
       "2016-09-01 03:59:59                                 -499.474407   \n",
       "2016-09-01 04:59:59                                 -500.397500   \n",
       "...                                                         ...   \n",
       "2017-12-31 19:59:59                                 -499.673279   \n",
       "2017-12-31 20:59:59                                 -499.122723   \n",
       "2017-12-31 21:59:59                                 -499.936252   \n",
       "2017-12-31 22:59:59                                 -499.723143   \n",
       "2017-12-31 23:59:59                                 -499.948518   \n",
       "\n",
       "                     secondary_cleaner.state.floatbank5_a_air  \\\n",
       "date                                                            \n",
       "2016-09-01 00:59:59                                  7.946562   \n",
       "2016-09-01 01:59:59                                  7.958270   \n",
       "2016-09-01 02:59:59                                  8.071056   \n",
       "2016-09-01 03:59:59                                  7.897085   \n",
       "2016-09-01 04:59:59                                  8.107890   \n",
       "...                                                       ...   \n",
       "2017-12-31 19:59:59                                  7.977259   \n",
       "2017-12-31 20:59:59                                  9.288553   \n",
       "2017-12-31 21:59:59                                 10.989181   \n",
       "2017-12-31 22:59:59                                 11.011607   \n",
       "2017-12-31 23:59:59                                 10.986607   \n",
       "\n",
       "                     secondary_cleaner.state.floatbank5_a_level  \\\n",
       "date                                                              \n",
       "2016-09-01 00:59:59                                 -432.317850   \n",
       "2016-09-01 01:59:59                                 -525.839648   \n",
       "2016-09-01 02:59:59                                 -500.801673   \n",
       "2016-09-01 03:59:59                                 -500.868509   \n",
       "2016-09-01 04:59:59                                 -509.526725   \n",
       "...                                                         ...   \n",
       "2017-12-31 19:59:59                                 -499.516126   \n",
       "2017-12-31 20:59:59                                 -496.892967   \n",
       "2017-12-31 21:59:59                                 -498.347898   \n",
       "2017-12-31 22:59:59                                 -499.985046   \n",
       "2017-12-31 23:59:59                                 -500.658027   \n",
       "\n",
       "                     secondary_cleaner.state.floatbank5_b_air  \\\n",
       "date                                                            \n",
       "2016-09-01 00:59:59                                  4.872511   \n",
       "2016-09-01 01:59:59                                  4.878850   \n",
       "2016-09-01 02:59:59                                  4.905125   \n",
       "2016-09-01 03:59:59                                  4.931400   \n",
       "2016-09-01 04:59:59                                  4.957674   \n",
       "...                                                       ...   \n",
       "2017-12-31 19:59:59                                  5.933319   \n",
       "2017-12-31 20:59:59                                  7.372897   \n",
       "2017-12-31 21:59:59                                  9.020944   \n",
       "2017-12-31 22:59:59                                  9.009783   \n",
       "2017-12-31 23:59:59                                  8.989497   \n",
       "\n",
       "                     secondary_cleaner.state.floatbank5_b_level  \\\n",
       "date                                                              \n",
       "2016-09-01 00:59:59                                 -500.037437   \n",
       "2016-09-01 01:59:59                                 -500.162375   \n",
       "2016-09-01 02:59:59                                 -499.828510   \n",
       "2016-09-01 03:59:59                                 -499.963623   \n",
       "2016-09-01 04:59:59                                 -500.360026   \n",
       "...                                                         ...   \n",
       "2017-12-31 19:59:59                                 -499.965973   \n",
       "2017-12-31 20:59:59                                 -499.942956   \n",
       "2017-12-31 21:59:59                                 -500.040448   \n",
       "2017-12-31 22:59:59                                 -499.937902   \n",
       "2017-12-31 23:59:59                                 -500.337588   \n",
       "\n",
       "                     secondary_cleaner.state.floatbank6_a_air  \\\n",
       "date                                                            \n",
       "2016-09-01 00:59:59                                 26.705889   \n",
       "2016-09-01 01:59:59                                 25.019940   \n",
       "2016-09-01 02:59:59                                 24.994862   \n",
       "2016-09-01 03:59:59                                 24.948919   \n",
       "2016-09-01 04:59:59                                 25.003331   \n",
       "...                                                       ...   \n",
       "2017-12-31 19:59:59                                  8.987171   \n",
       "2017-12-31 20:59:59                                  8.986832   \n",
       "2017-12-31 21:59:59                                  8.982038   \n",
       "2017-12-31 22:59:59                                  9.012660   \n",
       "2017-12-31 23:59:59                                  8.988632   \n",
       "\n",
       "                     secondary_cleaner.state.floatbank6_a_level  \\\n",
       "date                                                              \n",
       "2016-09-01 00:59:59                                 -499.709414   \n",
       "2016-09-01 01:59:59                                 -499.819438   \n",
       "2016-09-01 02:59:59                                 -500.622559   \n",
       "2016-09-01 03:59:59                                 -498.709987   \n",
       "2016-09-01 04:59:59                                 -500.856333   \n",
       "...                                                         ...   \n",
       "2017-12-31 19:59:59                                 -499.755909   \n",
       "2017-12-31 20:59:59                                 -499.903761   \n",
       "2017-12-31 21:59:59                                 -497.789882   \n",
       "2017-12-31 22:59:59                                 -500.154284   \n",
       "2017-12-31 23:59:59                                 -500.764937   \n",
       "\n",
       "                     rougher.output.recovery  final.output.recovery  \n",
       "date                                                                 \n",
       "2016-09-01 00:59:59                89.993421              70.273583  \n",
       "2016-09-01 01:59:59                88.089657              68.910432  \n",
       "2016-09-01 02:59:59                88.412756              68.143213  \n",
       "2016-09-01 03:59:59                87.360133              67.776393  \n",
       "2016-09-01 04:59:59                83.236367              61.467078  \n",
       "...                                      ...                    ...  \n",
       "2017-12-31 19:59:59                95.172585              68.919891  \n",
       "2017-12-31 20:59:59                94.575036              68.440582  \n",
       "2017-12-31 21:59:59                93.018138              67.092759  \n",
       "2017-12-31 22:59:59                92.599042              68.061186  \n",
       "2017-12-31 23:59:59                91.177695              71.699976  \n",
       "\n",
       "[5229 rows x 55 columns]"
      ]
     },
     "execution_count": 13,
     "metadata": {},
     "output_type": "execute_result"
    }
   ],
   "source": [
    "df_test"
   ]
  },
  {
   "cell_type": "markdown",
   "metadata": {},
   "source": [
    "## Анализ данных"
   ]
  },
  {
   "cell_type": "code",
   "execution_count": 14,
   "metadata": {},
   "outputs": [
    {
     "name": "stdout",
     "output_type": "stream",
     "text": [
      "Флотация (217880.86869384546, 130463.11253223871, 83864.95876062632)\n",
      "Первая (42832.51247267443, 174889.38698091314, 36158.540154033166)\n",
      "Вторая (47093.99502820139, 156881.78607194044, 60718.86138715106)\n",
      "Финальная (486198.2331109182, 56807.31935373867, 112072.49386565287)\n"
     ]
    }
   ],
   "source": [
    "# Концентрация ag, pb на разных стадиях\n",
    "def concetration(au, ag, pb):\n",
    "    au = au.sum()\n",
    "    ag = ag.sum()\n",
    "    pb = pb.sum()\n",
    "    return au, ag, pb\n",
    "\n",
    "flotation = concetration(df_train['rougher.output.concentrate_au'], \n",
    "                               df_train['rougher.output.concentrate_ag'], \n",
    "                               df_train['rougher.output.concentrate_pb'])\n",
    "print('Флотация', flotation)\n",
    "primary_clen = concetration(df_train['primary_cleaner.output.tail_au'],\n",
    "                             df_train['primary_cleaner.output.tail_ag'],                             \n",
    "                             df_train['primary_cleaner.output.tail_pb']) \n",
    "print('Первая', primary_clen) \n",
    "secondary_clen = concetration(df_train['secondary_cleaner.output.tail_au'],\n",
    "                                df_train['secondary_cleaner.output.tail_ag'],\n",
    "                                df_train['secondary_cleaner.output.tail_pb'])\n",
    "print('Вторая', secondary_clen)\n",
    "final = concetration(df_train['final.output.concentrate_au'],\n",
    "                                df_train['final.output.concentrate_ag'],\n",
    "                                df_train['final.output.concentrate_pb']) \n",
    "print('Финальная', final)\n",
    "\n",
    "clenar_list = []\n",
    "clenar_list = pd.DataFrame({'stage':['Флотация', 'Первичная', 'Вторичная', 'Финишная'],\n",
    "                            'au':[flotation[0], primary_clen[0], secondary_clen[0], final[0]],\n",
    "                            'ag':[flotation[1], primary_clen[1], secondary_clen[1], final[1]],\n",
    "                            'pb':[flotation[2], primary_clen[2], secondary_clen[2], final[2]]})                            \n",
    "#print(clenar_list)"
   ]
  },
  {
   "cell_type": "code",
   "execution_count": 15,
   "metadata": {},
   "outputs": [
    {
     "data": {
      "image/png": "[encoded data removed]",
      "text/plain": [
       "<Figure size 1080x576 with 1 Axes>"
      ]
     },
     "metadata": {
      "needs_background": "light"
     },
     "output_type": "display_data"
    }
   ],
   "source": [
    "# График для наглядности изменения концентрации\n",
    "list_label = clenar_list['stage'].tolist()\n",
    " \n",
    "clenar_list.plot(figsize=(15,8), label=list_label, marker='o', grid='True')     \n",
    "\n",
    "\n",
    "plt.legend(loc='upper left')\n",
    "#plt.xticks(list_label.index)\n",
    "plt.xlabel('Стадия обагащения')\n",
    "#plt.xticks(rotation=90)\n",
    "plt.ylabel('Концентрация')\n",
    "plt.title('Изменение концентрации металов')\n",
    "plt.show()"
   ]
  },
  {
   "cell_type": "code",
   "execution_count": 17,
   "metadata": {},
   "outputs": [],
   "source": [
    "# Изучаем концентрацию\n",
    "concentraiton_name = []\n",
    "concentraiton_name.append(['rougher.input.feed_au', \n",
    "                      'rougher.input.feed_ag',\n",
    "                      'rougher.input.feed_pb',\n",
    "                      'rougher.input.feed_sol'])\n",
    "concentraiton_name.append(['primary_cleaner.output.concentrate_au',\n",
    "                           'primary_cleaner.output.concentrate_ag',\n",
    "                           'primary_cleaner.output.concentrate_pb',\n",
    "                           'primary_cleaner.output.concentrate_sol' ]) \n",
    "concentraiton_name.append(['final.output.concentrate_au', \n",
    "                           'final.output.concentrate_ag',\n",
    "                           'final.output.concentrate_pb', \n",
    "                           'final.output.concentrate_sol' ]) \n",
    "#print(concentraiton_name)"
   ]
  },
  {
   "cell_type": "code",
   "execution_count": 18,
   "metadata": {},
   "outputs": [
    {
     "data": {
      "image/png": "[encoded data removed]",
      "text/plain": [
       "<Figure size 864x432 with 1 Axes>"
      ]
     },
     "metadata": {
      "needs_background": "light"
     },
     "output_type": "display_data"
    },
    {
     "data": {
      "text/plain": [
       "<Figure size 1440x864 with 0 Axes>"
      ]
     },
     "metadata": {},
     "output_type": "display_data"
    },
    {
     "data": {
      "image/png": "[encoded data removed]",
      "text/plain": [
       "<Figure size 864x432 with 1 Axes>"
      ]
     },
     "metadata": {
      "needs_background": "light"
     },
     "output_type": "display_data"
    },
    {
     "data": {
      "text/plain": [
       "<Figure size 1440x864 with 0 Axes>"
      ]
     },
     "metadata": {},
     "output_type": "display_data"
    },
    {
     "data": {
      "image/png": "[encoded data removed]",
      "text/plain": [
       "<Figure size 864x432 with 1 Axes>"
      ]
     },
     "metadata": {
      "needs_background": "light"
     },
     "output_type": "display_data"
    },
    {
     "data": {
      "text/plain": [
       "<Figure size 1440x864 with 0 Axes>"
      ]
     },
     "metadata": {},
     "output_type": "display_data"
    }
   ],
   "source": [
    "#concentraiton_name[0]\n",
    "for i in concentraiton_name:\n",
    "    df_gr = df_full[i].reset_index()\n",
    "    df_gr['sum_df'] = df_gr[i[0]] + df_gr[i[1]] + df_gr[i[2]] + df_gr[i[3]]\n",
    "    #print(df_gr['sum_df'])\n",
    "    df_gr.plot(x='date', y='sum_df', figsize=(12,6), grid=True, kind='hist')\n",
    "    plt.xticks(rotation=45)\n",
    "    plt.xlabel('Концентрация')\n",
    "    plt.figure(figsize=(20, 12))\n",
    "    plt.show()"
   ]
  },
  {
   "cell_type": "markdown",
   "metadata": {},
   "source": []
  },
  {
   "cell_type": "code",
   "execution_count": 19,
   "metadata": {},
   "outputs": [
    {
     "name": "stdout",
     "output_type": "stream",
     "text": [
      "19439\n",
      "19245\n",
      "18820\n",
      "18573\n"
     ]
    }
   ],
   "source": [
    "#Cуммарную концентрацию всех веществ на разных стадиях\n",
    "#df_full.info()\n",
    "df_filter = df_full\n",
    "print(len(df_full))\n",
    "def filteration(df_full, elm):\n",
    "    df_filter = df_full[((df_full[elm[0]] + \n",
    "                          df_full[elm[1]] + \n",
    "                          df_full[elm[2]] + \n",
    "                          df_full[elm[3]])>0)]\n",
    "    return df_filter\n",
    "\n",
    "for i in concentraiton_name:\n",
    "    df_filter = filteration(df_filter, i)\n",
    "    print(len(df_filter)) \n",
    "   "
   ]
  },
  {
   "cell_type": "code",
   "execution_count": 20,
   "metadata": {},
   "outputs": [
    {
     "data": {
      "image/png": "[encoded data removed]",
      "text/plain": [
       "<Figure size 864x432 with 1 Axes>"
      ]
     },
     "metadata": {
      "needs_background": "light"
     },
     "output_type": "display_data"
    },
    {
     "data": {
      "text/plain": [
       "<Figure size 1440x864 with 0 Axes>"
      ]
     },
     "metadata": {},
     "output_type": "display_data"
    },
    {
     "data": {
      "image/png": "[encoded data removed]",
      "text/plain": [
       "<Figure size 864x432 with 1 Axes>"
      ]
     },
     "metadata": {
      "needs_background": "light"
     },
     "output_type": "display_data"
    },
    {
     "data": {
      "text/plain": [
       "<Figure size 1440x864 with 0 Axes>"
      ]
     },
     "metadata": {},
     "output_type": "display_data"
    },
    {
     "data": {
      "image/png": "[encoded data removed]",
      "text/plain": [
       "<Figure size 864x432 with 1 Axes>"
      ]
     },
     "metadata": {
      "needs_background": "light"
     },
     "output_type": "display_data"
    },
    {
     "data": {
      "text/plain": [
       "<Figure size 1440x864 with 0 Axes>"
      ]
     },
     "metadata": {},
     "output_type": "display_data"
    }
   ],
   "source": [
    "for i in concentraiton_name:\n",
    "    df_gr = df_filter\n",
    "    df_gr['sum_df'] = df_gr[i[0]] + df_gr[i[1]] + df_gr[i[2]] + df_gr[i[3]]\n",
    "    #print(df_gr['sum_df'])\n",
    "    df_gr.plot(x='date', y='sum_df', figsize=(12,6), grid=True, kind='hist')\n",
    "    plt.xticks(rotation=45)\n",
    "    plt.xlabel('Концентрация')\n",
    "    plt.figure(figsize=(20, 12))\n",
    "    plt.show()"
   ]
  },
  {
   "cell_type": "code",
   "execution_count": 21,
   "metadata": {},
   "outputs": [],
   "source": [
    "# Убераем лишнее из датасетов\n",
    "df_test = df_test.reset_index(drop=True)\n",
    "df_test = df_test.loc[df_test['date'].isin(df_filter['date'])]"
   ]
  },
  {
   "cell_type": "markdown",
   "metadata": {},
   "source": [
    "<div style=\"border:solid green 2px; padding: 20px\" class=\"alert alert-info\">\n",
    "    <b>\n",
    "        <p>\n",
    "          Данные подготовлены для обучения модели, убраны лишние данные, выбросы.\n",
    "        </p>\n",
    "    </b>\n",
    "</div>"
   ]
  },
  {
   "cell_type": "markdown",
   "metadata": {},
   "source": [
    "## Модель"
   ]
  },
  {
   "cell_type": "code",
   "execution_count": 22,
   "metadata": {},
   "outputs": [],
   "source": [
    "target_train_1 = df_train_55['rougher.output.recovery']\n",
    "target_train_2 = df_train_55['final.output.recovery']\n",
    "features_train = df_train_55.drop(['date', 'rougher.output.recovery', 'final.output.recovery'], axis=1)\n",
    "scaler =  StandardScaler()\n",
    "scaler.fit(features_train)\n",
    "features_train = scaler.transform(features_train)\n",
    "                                                 \n",
    "target_test_1 = df_test['rougher.output.recovery']\n",
    "target_tes_2 = df_test['final.output.recovery']\n",
    "features_test = df_test.drop(['date', 'rougher.output.recovery', 'final.output.recovery'], axis=1)\n",
    "scaler =  StandardScaler()\n",
    "scaler.fit(features_test)\n",
    "features_test = scaler.transform(features_train)\n",
    "\n",
    "#display(features_train)\n",
    "#display(features_tes)"
   ]
  },
  {
   "cell_type": "code",
   "execution_count": 23,
   "metadata": {},
   "outputs": [],
   "source": [
    "# Рассчет sMAPE\n",
    "\n",
    "def sMAPE(target, pred): \n",
    "    n = len(target)\n",
    "    return -100/n * np.sum(np.abs(target - pred)/((np.abs(target) + np.abs(pred))/2))\n",
    "\n",
    "sMAPE_score = make_scorer(sMAPE, greater_is_better=False)\n",
    "\n",
    "def total_sMAPE(smape_r, smape_f):\n",
    "    return 0.25*smape_r + 0.75*smape_f\n"
   ]
  },
  {
   "cell_type": "code",
   "execution_count": 24,
   "metadata": {},
   "outputs": [
    {
     "name": "stdout",
     "output_type": "stream",
     "text": [
      "-10.472801956400412\n"
     ]
    }
   ],
   "source": [
    "# Характеристики для сравнения\n",
    "dummy_regressor_rougher = DummyRegressor(strategy=\"median\") \n",
    "dummy_regressor_rougher.fit(features_train, target_train_1)\n",
    "dummy_rougher_pred = dummy_regressor_rougher.predict(features_train)\n",
    "smape_dummy_rougher = sMAPE(target_train_1, dummy_rougher_pred)\n",
    "\n",
    "print(smape_dummy_rougher)\n",
    "\n",
    "#print(dummy_regressor_rougher)"
   ]
  },
  {
   "cell_type": "code",
   "execution_count": 25,
   "metadata": {},
   "outputs": [],
   "source": [
    "random_state = 123\n",
    "cv = 5\n",
    "models = [DecisionTreeRegressor(random_state = random_state), \n",
    "          RandomForestRegressor(random_state=random_state), \n",
    "          LinearRegression()]\n",
    "\n",
    "\n",
    "results_cross_val = []\n",
    "\n",
    "for model in models: \n",
    "    \n",
    "    scorer = make_scorer(sMAPE, greater_is_better=False) \n",
    "    \n",
    "    cross_val_score_rougher = cross_val_score(model, \n",
    "                                              features_train, \n",
    "                                              target_train_1, \n",
    "                                              cv=cv, scoring=scorer).mean()\n",
    "    cross_val_score_final = cross_val_score(model, \n",
    "                                            features_train, \n",
    "                                            target_train_2, \n",
    "                                            cv=cv, scoring=scorer).mean()\n",
    "\n",
    "    results_cross_val.append({'model name': model.__class__.__name__, \n",
    "                              'cross_val_score_rougher': cross_val_score_rougher, \n",
    "                              'cross_val_score_final': cross_val_score_final})    \n",
    "             \n",
    "    pd.DataFrame(results_cross_val)\n"
   ]
  },
  {
   "cell_type": "code",
   "execution_count": 26,
   "metadata": {},
   "outputs": [
    {
     "name": "stdout",
     "output_type": "stream",
     "text": [
      "Ожидаемый результат 10.472801956400412\n",
      "Результат для дерева регрессии {'model name': 'DecisionTreeRegressor', 'cross_val_score_rougher': 18.918164778102188, 'cross_val_score_final': 17.810942172472558}\n",
      "Результат для случайного леса {'model name': 'RandomForestRegressor', 'cross_val_score_rougher': 13.276443943665706, 'cross_val_score_final': 10.741202023063163}\n",
      "Результат для линейной регресии {'model name': 'LinearRegression', 'cross_val_score_rougher': 11.925343594602728, 'cross_val_score_final': 9.7460811061901}\n"
     ]
    }
   ],
   "source": [
    "print('Ожидаемый результат', -1 * smape_dummy_rougher)\n",
    "print('Результат для дерева регрессии', results_cross_val[0])\n",
    "print('Результат для случайного леса', results_cross_val[1])\n",
    "print('Результат для линейной регресии', results_cross_val[2])"
   ]
  },
  {
   "cell_type": "markdown",
   "metadata": {},
   "source": [
    "<div style=\"border:solid green 2px; padding: 20px\" class=\"alert alert-info\">\n",
    "    <b>\n",
    "        <p>\n",
    "          Что же лучший результат у линейной регресии посмотрим как она поведет себя на тестовой выборке \n",
    "        </p>\n",
    "    </b>\n",
    "</div>"
   ]
  },
  {
   "cell_type": "code",
   "execution_count": 34,
   "metadata": {},
   "outputs": [
    {
     "name": "stdout",
     "output_type": "stream",
     "text": [
      "11.925343594602728\n",
      "9.7460811061901\n"
     ]
    }
   ],
   "source": [
    "model_linear = LinearRegression()\n",
    "scores_rougher = cross_val_score(model_linear, features_train, target_train_1, cv=5, scoring=scorer) \n",
    "final_score_1 = scores_rougher.sum() / len(scores_rougher)\n",
    "\n",
    "model_linear = LinearRegression()\n",
    "scores_rougher = cross_val_score(model_linear, features_train, target_train_2, cv=5, scoring=scorer) \n",
    "final_score_2 = scores_rougher.sum() / len(scores_rougher)\n",
    "\n",
    "print(final_score_1)\n",
    "print(final_score_2)"
   ]
  },
  {
   "cell_type": "markdown",
   "metadata": {},
   "source": [
    "<div style=\"border:solid green 2px; padding: 20px\" class=\"alert alert-info\">\n",
    "    <b>\n",
    "        <p>\n",
    "         Лучший результат показала, модель RandomForestRegressor с использованием данных флотации, её и будем рекомендовать заказчику.\n",
    "        </p>\n",
    "    </b>\n",
    "</div>"
   ]
  }
 ],
 "metadata": {
  "ExecuteTimeLog": [
   {
    "duration": 1149,
    "start_time": "2022-03-11T11:13:15.101Z"
   },
   {
    "duration": 4,
    "start_time": "2022-03-11T11:14:26.273Z"
   },
   {
    "duration": 2152,
    "start_time": "2022-03-11T11:21:37.035Z"
   },
   {
    "duration": 4301,
    "start_time": "2022-03-11T11:21:53.914Z"
   },
   {
    "duration": 463,
    "start_time": "2022-03-11T11:22:13.338Z"
   },
   {
    "duration": 502,
    "start_time": "2022-03-11T11:22:22.090Z"
   },
   {
    "duration": 481,
    "start_time": "2022-03-11T11:24:17.978Z"
   },
   {
    "duration": 938,
    "start_time": "2022-03-11T11:30:21.321Z"
   },
   {
    "duration": 870,
    "start_time": "2022-03-11T11:32:15.960Z"
   },
   {
    "duration": 1641,
    "start_time": "2022-03-11T11:33:16.818Z"
   },
   {
    "duration": 431,
    "start_time": "2022-03-11T11:34:10.359Z"
   },
   {
    "duration": 4,
    "start_time": "2022-03-11T11:34:49.566Z"
   },
   {
    "duration": 590,
    "start_time": "2022-03-11T11:35:30.249Z"
   },
   {
    "duration": 103,
    "start_time": "2022-03-11T11:36:08.268Z"
   },
   {
    "duration": 6,
    "start_time": "2022-03-11T11:36:17.188Z"
   },
   {
    "duration": 869,
    "start_time": "2022-03-11T11:44:36.294Z"
   },
   {
    "duration": 6,
    "start_time": "2022-03-11T11:44:39.584Z"
   },
   {
    "duration": 167,
    "start_time": "2022-03-11T11:44:45.533Z"
   },
   {
    "duration": 173,
    "start_time": "2022-03-11T11:44:53.542Z"
   },
   {
    "duration": 167,
    "start_time": "2022-03-11T11:45:29.906Z"
   },
   {
    "duration": 174,
    "start_time": "2022-03-11T11:45:42.299Z"
   },
   {
    "duration": 386,
    "start_time": "2022-03-11T13:26:51.743Z"
   },
   {
    "duration": 783,
    "start_time": "2022-03-11T13:26:57.707Z"
   },
   {
    "duration": 322,
    "start_time": "2022-03-11T13:26:58.493Z"
   },
   {
    "duration": -9,
    "start_time": "2022-03-11T13:26:58.827Z"
   },
   {
    "duration": 5,
    "start_time": "2022-03-11T13:27:07.274Z"
   },
   {
    "duration": 276,
    "start_time": "2022-03-11T13:27:07.674Z"
   },
   {
    "duration": 281,
    "start_time": "2022-03-11T13:27:08.194Z"
   },
   {
    "duration": 1038,
    "start_time": "2022-03-11T13:27:19.423Z"
   },
   {
    "duration": 450,
    "start_time": "2022-03-11T13:27:20.492Z"
   },
   {
    "duration": 315,
    "start_time": "2022-03-11T13:27:21.617Z"
   },
   {
    "duration": 339,
    "start_time": "2022-03-11T13:27:34.994Z"
   },
   {
    "duration": 3,
    "start_time": "2022-03-11T13:28:01.056Z"
   },
   {
    "duration": 292,
    "start_time": "2022-03-11T13:28:02.208Z"
   },
   {
    "duration": 852,
    "start_time": "2022-03-11T13:28:40.538Z"
   },
   {
    "duration": 258,
    "start_time": "2022-03-11T13:28:41.778Z"
   },
   {
    "duration": 105,
    "start_time": "2022-03-11T13:42:13.743Z"
   },
   {
    "duration": 444,
    "start_time": "2022-03-11T13:42:32.206Z"
   },
   {
    "duration": 508,
    "start_time": "2022-03-11T13:43:24.582Z"
   },
   {
    "duration": 542,
    "start_time": "2022-03-11T13:44:17.567Z"
   },
   {
    "duration": 594,
    "start_time": "2022-03-11T13:45:06.925Z"
   },
   {
    "duration": 438,
    "start_time": "2022-03-11T13:46:07.564Z"
   },
   {
    "duration": 1214,
    "start_time": "2022-03-11T13:47:46.361Z"
   },
   {
    "duration": 1243,
    "start_time": "2022-03-11T13:48:41.940Z"
   },
   {
    "duration": 360,
    "start_time": "2022-03-11T13:49:53.228Z"
   },
   {
    "duration": 1561,
    "start_time": "2022-03-11T13:50:22.911Z"
   },
   {
    "duration": 853,
    "start_time": "2022-03-11T13:50:24.474Z"
   },
   {
    "duration": 260,
    "start_time": "2022-03-11T13:50:25.330Z"
   },
   {
    "duration": 1240,
    "start_time": "2022-03-11T13:50:25.592Z"
   },
   {
    "duration": 84871,
    "start_time": "2022-03-11T13:50:26.834Z"
   },
   {
    "duration": 110,
    "start_time": "2022-03-11T13:53:07.907Z"
   },
   {
    "duration": 83516,
    "start_time": "2022-03-11T13:55:03.010Z"
   },
   {
    "duration": 114884,
    "start_time": "2022-03-11T14:00:50.258Z"
   },
   {
    "duration": 86765,
    "start_time": "2022-03-11T14:04:56.563Z"
   },
   {
    "duration": 106215,
    "start_time": "2022-03-11T14:11:06.710Z"
   },
   {
    "duration": 99806,
    "start_time": "2022-03-11T14:16:30.663Z"
   },
   {
    "duration": 98997,
    "start_time": "2022-03-11T14:28:42.640Z"
   },
   {
    "duration": 122156,
    "start_time": "2022-03-11T14:30:40.322Z"
   },
   {
    "duration": 129503,
    "start_time": "2022-03-11T14:35:36.499Z"
   },
   {
    "duration": 7,
    "start_time": "2022-03-11T14:42:41.484Z"
   },
   {
    "duration": 255,
    "start_time": "2022-03-12T05:15:17.511Z"
   },
   {
    "duration": 1152,
    "start_time": "2022-03-12T05:15:23.516Z"
   },
   {
    "duration": 708,
    "start_time": "2022-03-12T05:15:24.670Z"
   },
   {
    "duration": 154,
    "start_time": "2022-03-12T05:15:25.380Z"
   },
   {
    "duration": 285,
    "start_time": "2022-03-12T05:15:25.536Z"
   },
   {
    "duration": 4,
    "start_time": "2022-03-12T05:15:26.386Z"
   },
   {
    "duration": 106,
    "start_time": "2022-03-12T06:31:10.921Z"
   },
   {
    "duration": 261,
    "start_time": "2022-03-12T06:31:13.040Z"
   },
   {
    "duration": 32,
    "start_time": "2022-03-12T06:31:35.079Z"
   },
   {
    "duration": 1294,
    "start_time": "2022-03-12T06:31:46.986Z"
   },
   {
    "duration": 757,
    "start_time": "2022-03-12T06:31:48.282Z"
   },
   {
    "duration": 125,
    "start_time": "2022-03-12T06:31:49.042Z"
   },
   {
    "duration": 68,
    "start_time": "2022-03-12T06:31:49.169Z"
   },
   {
    "duration": 282,
    "start_time": "2022-03-12T06:31:49.327Z"
   },
   {
    "duration": 4,
    "start_time": "2022-03-12T06:31:49.727Z"
   },
   {
    "duration": 112,
    "start_time": "2022-03-12T06:33:57.159Z"
   },
   {
    "duration": 30,
    "start_time": "2022-03-12T06:34:38.414Z"
   },
   {
    "duration": 271,
    "start_time": "2022-03-12T06:34:38.734Z"
   },
   {
    "duration": 4,
    "start_time": "2022-03-12T06:34:39.182Z"
   },
   {
    "duration": 46,
    "start_time": "2022-03-12T06:35:40.957Z"
   },
   {
    "duration": 291,
    "start_time": "2022-03-12T06:35:52.110Z"
   },
   {
    "duration": 1219,
    "start_time": "2022-03-12T10:16:05.064Z"
   },
   {
    "duration": 733,
    "start_time": "2022-03-12T10:16:06.285Z"
   },
   {
    "duration": 123,
    "start_time": "2022-03-12T10:16:07.020Z"
   },
   {
    "duration": 39,
    "start_time": "2022-03-12T10:16:07.709Z"
   },
   {
    "duration": 268,
    "start_time": "2022-03-12T10:16:08.033Z"
   },
   {
    "duration": 4,
    "start_time": "2022-03-12T10:16:08.373Z"
   },
   {
    "duration": 1383,
    "start_time": "2022-03-13T09:18:07.299Z"
   },
   {
    "duration": 801,
    "start_time": "2022-03-13T09:18:08.687Z"
   },
   {
    "duration": 168,
    "start_time": "2022-03-13T09:18:09.491Z"
   },
   {
    "duration": 71,
    "start_time": "2022-03-13T09:18:09.661Z"
   },
   {
    "duration": 435,
    "start_time": "2022-03-13T09:18:09.972Z"
   },
   {
    "duration": 7,
    "start_time": "2022-03-13T09:18:10.410Z"
   },
   {
    "duration": 439,
    "start_time": "2022-03-13T09:18:54.557Z"
   },
   {
    "duration": 7078,
    "start_time": "2022-03-13T09:28:15.487Z"
   },
   {
    "duration": 280,
    "start_time": "2022-03-13T09:29:02.456Z"
   },
   {
    "duration": 134077,
    "start_time": "2022-03-13T10:40:25.748Z"
   },
   {
    "duration": 2104,
    "start_time": "2022-03-13T11:52:17.037Z"
   },
   {
    "duration": 968,
    "start_time": "2022-03-13T11:52:19.144Z"
   },
   {
    "duration": 163,
    "start_time": "2022-03-13T11:52:20.115Z"
   },
   {
    "duration": 59,
    "start_time": "2022-03-13T11:52:20.288Z"
   },
   {
    "duration": 499,
    "start_time": "2022-03-13T11:52:22.905Z"
   },
   {
    "duration": 127638,
    "start_time": "2022-03-13T11:52:23.407Z"
   },
   {
    "duration": 4,
    "start_time": "2022-03-13T11:58:26.388Z"
   },
   {
    "duration": 531,
    "start_time": "2022-03-13T11:59:21.924Z"
   },
   {
    "duration": 465,
    "start_time": "2022-03-13T12:00:01.046Z"
   },
   {
    "duration": 6,
    "start_time": "2022-03-13T12:01:09.738Z"
   },
   {
    "duration": 375,
    "start_time": "2022-03-13T12:01:25.762Z"
   },
   {
    "duration": 6,
    "start_time": "2022-03-13T12:02:04.494Z"
   },
   {
    "duration": 7,
    "start_time": "2022-03-13T12:04:36.496Z"
   },
   {
    "duration": 7,
    "start_time": "2022-03-13T12:04:43.850Z"
   },
   {
    "duration": 10,
    "start_time": "2022-03-13T12:07:16.271Z"
   },
   {
    "duration": 10,
    "start_time": "2022-03-13T12:07:30.759Z"
   },
   {
    "duration": 40,
    "start_time": "2022-03-13T12:09:25.815Z"
   },
   {
    "duration": 246,
    "start_time": "2022-03-13T12:10:32.270Z"
   },
   {
    "duration": 340,
    "start_time": "2022-03-13T12:12:05.930Z"
   },
   {
    "duration": 268,
    "start_time": "2022-03-13T12:12:27.406Z"
   },
   {
    "duration": 273,
    "start_time": "2022-03-13T12:12:35.419Z"
   },
   {
    "duration": 12,
    "start_time": "2022-03-13T12:13:59.496Z"
   },
   {
    "duration": 250,
    "start_time": "2022-03-13T12:17:12.795Z"
   },
   {
    "duration": 153,
    "start_time": "2022-03-13T12:18:07.354Z"
   },
   {
    "duration": 106,
    "start_time": "2022-03-13T12:20:21.246Z"
   },
   {
    "duration": 1743,
    "start_time": "2022-03-13T12:20:29.962Z"
   },
   {
    "duration": 951,
    "start_time": "2022-03-13T12:20:31.708Z"
   },
   {
    "duration": 183,
    "start_time": "2022-03-13T12:20:32.662Z"
   },
   {
    "duration": 69,
    "start_time": "2022-03-13T12:20:32.848Z"
   },
   {
    "duration": 442,
    "start_time": "2022-03-13T12:20:32.919Z"
   },
   {
    "duration": 134453,
    "start_time": "2022-03-13T12:20:33.363Z"
   },
   {
    "duration": -2192,
    "start_time": "2022-03-13T12:22:50.120Z"
   },
   {
    "duration": 13,
    "start_time": "2022-03-13T12:24:28.895Z"
   },
   {
    "duration": 10,
    "start_time": "2022-03-13T12:24:43.180Z"
   },
   {
    "duration": 10,
    "start_time": "2022-03-13T12:24:50.304Z"
   },
   {
    "duration": 509,
    "start_time": "2022-03-13T12:24:59.363Z"
   },
   {
    "duration": 10,
    "start_time": "2022-03-13T12:25:08.555Z"
   },
   {
    "duration": 10,
    "start_time": "2022-03-13T12:27:33.720Z"
   },
   {
    "duration": 9,
    "start_time": "2022-03-13T12:27:58.226Z"
   },
   {
    "duration": 108,
    "start_time": "2022-03-13T12:28:01.801Z"
   },
   {
    "duration": 10,
    "start_time": "2022-03-13T12:28:06.004Z"
   },
   {
    "duration": 10,
    "start_time": "2022-03-13T12:28:14.537Z"
   },
   {
    "duration": 10,
    "start_time": "2022-03-13T12:36:10.214Z"
   },
   {
    "duration": 10,
    "start_time": "2022-03-13T12:36:21.197Z"
   },
   {
    "duration": 9,
    "start_time": "2022-03-13T12:36:52.389Z"
   },
   {
    "duration": 8,
    "start_time": "2022-03-13T12:37:33.357Z"
   },
   {
    "duration": 10,
    "start_time": "2022-03-13T12:37:39.204Z"
   },
   {
    "duration": 10,
    "start_time": "2022-03-13T12:39:14.331Z"
   },
   {
    "duration": 10,
    "start_time": "2022-03-13T12:39:21.219Z"
   },
   {
    "duration": 10,
    "start_time": "2022-03-13T12:42:10.889Z"
   },
   {
    "duration": 12,
    "start_time": "2022-03-13T12:42:31.257Z"
   },
   {
    "duration": 243,
    "start_time": "2022-03-13T12:52:53.732Z"
   },
   {
    "duration": 11,
    "start_time": "2022-03-13T12:55:48.370Z"
   },
   {
    "duration": 11,
    "start_time": "2022-03-13T13:00:30.458Z"
   },
   {
    "duration": 11,
    "start_time": "2022-03-13T13:00:39.029Z"
   },
   {
    "duration": 13,
    "start_time": "2022-03-13T13:00:52.644Z"
   },
   {
    "duration": 11,
    "start_time": "2022-03-13T13:01:34.470Z"
   },
   {
    "duration": 13,
    "start_time": "2022-03-13T13:01:41.984Z"
   },
   {
    "duration": 12,
    "start_time": "2022-03-13T13:01:51.416Z"
   },
   {
    "duration": 379,
    "start_time": "2022-03-13T14:30:40.379Z"
   },
   {
    "duration": 258,
    "start_time": "2022-03-13T14:30:46.459Z"
   },
   {
    "duration": 557,
    "start_time": "2022-03-13T14:31:38.211Z"
   },
   {
    "duration": 462,
    "start_time": "2022-03-13T14:31:42.515Z"
   },
   {
    "duration": 1670,
    "start_time": "2022-03-13T14:32:22.090Z"
   },
   {
    "duration": 1310,
    "start_time": "2022-03-13T14:32:23.764Z"
   },
   {
    "duration": 220,
    "start_time": "2022-03-13T14:32:25.086Z"
   },
   {
    "duration": 91,
    "start_time": "2022-03-13T14:32:25.309Z"
   },
   {
    "duration": 526,
    "start_time": "2022-03-13T14:32:25.404Z"
   },
   {
    "duration": 123354,
    "start_time": "2022-03-13T14:32:25.932Z"
   },
   {
    "duration": 12,
    "start_time": "2022-03-13T14:34:29.289Z"
   },
   {
    "duration": 517,
    "start_time": "2022-03-13T14:34:29.304Z"
   },
   {
    "duration": 6,
    "start_time": "2022-03-13T14:35:49.736Z"
   },
   {
    "duration": 269,
    "start_time": "2022-03-13T14:36:09.367Z"
   },
   {
    "duration": 94,
    "start_time": "2022-03-13T14:36:29.887Z"
   },
   {
    "duration": 4,
    "start_time": "2022-03-13T14:36:34.278Z"
   },
   {
    "duration": 5,
    "start_time": "2022-03-13T14:36:47.334Z"
   },
   {
    "duration": 6,
    "start_time": "2022-03-13T14:37:29.030Z"
   },
   {
    "duration": 7,
    "start_time": "2022-03-13T14:37:47.726Z"
   },
   {
    "duration": 261,
    "start_time": "2022-03-13T14:39:49.853Z"
   },
   {
    "duration": 305,
    "start_time": "2022-03-13T14:40:10.045Z"
   },
   {
    "duration": 264,
    "start_time": "2022-03-13T14:40:26.045Z"
   },
   {
    "duration": 5,
    "start_time": "2022-03-13T14:40:32.620Z"
   },
   {
    "duration": 5,
    "start_time": "2022-03-13T14:41:28.372Z"
   },
   {
    "duration": 6,
    "start_time": "2022-03-13T14:42:26.427Z"
   },
   {
    "duration": 8,
    "start_time": "2022-03-13T14:42:34.715Z"
   },
   {
    "duration": 6,
    "start_time": "2022-03-13T14:42:41.515Z"
   },
   {
    "duration": 7,
    "start_time": "2022-03-13T14:45:08.605Z"
   },
   {
    "duration": 7,
    "start_time": "2022-03-13T14:47:19.785Z"
   },
   {
    "duration": 7,
    "start_time": "2022-03-13T14:48:28.200Z"
   },
   {
    "duration": 260,
    "start_time": "2022-03-13T14:50:34.535Z"
   },
   {
    "duration": 58,
    "start_time": "2022-03-13T14:50:49.712Z"
   },
   {
    "duration": 12,
    "start_time": "2022-03-13T15:36:05.611Z"
   },
   {
    "duration": 1652,
    "start_time": "2022-03-13T16:47:21.959Z"
   },
   {
    "duration": 938,
    "start_time": "2022-03-13T16:47:23.613Z"
   },
   {
    "duration": 198,
    "start_time": "2022-03-13T16:47:24.554Z"
   },
   {
    "duration": 82,
    "start_time": "2022-03-13T16:48:42.478Z"
   },
   {
    "duration": 495,
    "start_time": "2022-03-13T16:48:42.825Z"
   },
   {
    "duration": 1652,
    "start_time": "2022-03-13T16:49:41.217Z"
   },
   {
    "duration": 1016,
    "start_time": "2022-03-13T16:49:42.872Z"
   },
   {
    "duration": 251,
    "start_time": "2022-03-13T16:49:43.896Z"
   },
   {
    "duration": 98,
    "start_time": "2022-03-13T16:49:44.154Z"
   },
   {
    "duration": 498,
    "start_time": "2022-03-13T16:49:44.255Z"
   },
   {
    "duration": 36,
    "start_time": "2022-03-13T16:49:44.756Z"
   },
   {
    "duration": 41,
    "start_time": "2022-03-13T16:49:44.796Z"
   },
   {
    "duration": 53,
    "start_time": "2022-03-13T16:49:44.840Z"
   },
   {
    "duration": 3,
    "start_time": "2022-03-13T16:49:44.899Z"
   },
   {
    "duration": 433,
    "start_time": "2022-03-13T17:05:10.587Z"
   },
   {
    "duration": 15,
    "start_time": "2022-03-13T17:05:52.214Z"
   },
   {
    "duration": 11,
    "start_time": "2022-03-13T17:06:03.249Z"
   },
   {
    "duration": 5863,
    "start_time": "2022-03-13T17:11:01.827Z"
   },
   {
    "duration": 272,
    "start_time": "2022-03-13T17:11:30.206Z"
   },
   {
    "duration": 13,
    "start_time": "2022-03-13T17:11:43.136Z"
   },
   {
    "duration": 7,
    "start_time": "2022-03-13T17:11:50.734Z"
   },
   {
    "duration": 8,
    "start_time": "2022-03-13T17:12:06.806Z"
   },
   {
    "duration": 13,
    "start_time": "2022-03-13T17:12:09.253Z"
   },
   {
    "duration": 7,
    "start_time": "2022-03-13T17:12:10.230Z"
   },
   {
    "duration": 9,
    "start_time": "2022-03-13T17:12:15.086Z"
   },
   {
    "duration": 10,
    "start_time": "2022-03-13T17:12:28.061Z"
   },
   {
    "duration": 8,
    "start_time": "2022-03-13T17:13:12.678Z"
   },
   {
    "duration": 4,
    "start_time": "2022-03-13T17:13:23.533Z"
   },
   {
    "duration": 902,
    "start_time": "2022-03-13T17:13:23.933Z"
   },
   {
    "duration": 199,
    "start_time": "2022-03-13T17:13:24.837Z"
   },
   {
    "duration": 92,
    "start_time": "2022-03-13T17:13:25.040Z"
   },
   {
    "duration": 445,
    "start_time": "2022-03-13T17:13:25.622Z"
   },
   {
    "duration": 10,
    "start_time": "2022-03-13T17:13:26.268Z"
   },
   {
    "duration": 5,
    "start_time": "2022-03-13T17:13:26.757Z"
   },
   {
    "duration": 12,
    "start_time": "2022-03-13T17:13:27.206Z"
   },
   {
    "duration": 45,
    "start_time": "2022-03-13T17:13:28.407Z"
   },
   {
    "duration": 14,
    "start_time": "2022-03-13T17:13:29.653Z"
   },
   {
    "duration": 8,
    "start_time": "2022-03-13T17:13:32.181Z"
   },
   {
    "duration": 9,
    "start_time": "2022-03-13T17:13:48.288Z"
   },
   {
    "duration": 41,
    "start_time": "2022-03-13T17:14:05.317Z"
   },
   {
    "duration": 15,
    "start_time": "2022-03-13T17:14:37.541Z"
   },
   {
    "duration": 246,
    "start_time": "2022-03-13T17:15:14.868Z"
   },
   {
    "duration": 13,
    "start_time": "2022-03-13T17:15:23.359Z"
   },
   {
    "duration": 43,
    "start_time": "2022-03-13T17:15:29.870Z"
   },
   {
    "duration": 5,
    "start_time": "2022-03-13T17:16:18.002Z"
   },
   {
    "duration": 40,
    "start_time": "2022-03-13T17:16:22.131Z"
   },
   {
    "duration": 1558,
    "start_time": "2022-03-13T17:16:49.166Z"
   },
   {
    "duration": 918,
    "start_time": "2022-03-13T17:16:50.727Z"
   },
   {
    "duration": 190,
    "start_time": "2022-03-13T17:16:51.649Z"
   },
   {
    "duration": 81,
    "start_time": "2022-03-13T17:16:51.841Z"
   },
   {
    "duration": 464,
    "start_time": "2022-03-13T17:16:51.924Z"
   },
   {
    "duration": 11,
    "start_time": "2022-03-13T17:16:52.390Z"
   },
   {
    "duration": 8,
    "start_time": "2022-03-13T17:16:52.404Z"
   },
   {
    "duration": 16,
    "start_time": "2022-03-13T17:16:52.546Z"
   },
   {
    "duration": 43,
    "start_time": "2022-03-13T17:16:54.131Z"
   },
   {
    "duration": 4,
    "start_time": "2022-03-13T17:16:56.530Z"
   },
   {
    "duration": 41,
    "start_time": "2022-03-13T17:16:58.803Z"
   },
   {
    "duration": 14,
    "start_time": "2022-03-13T17:17:04.218Z"
   },
   {
    "duration": 7,
    "start_time": "2022-03-13T17:17:15.154Z"
   },
   {
    "duration": 11,
    "start_time": "2022-03-13T17:18:38.353Z"
   },
   {
    "duration": 11,
    "start_time": "2022-03-13T17:18:53.561Z"
   },
   {
    "duration": 8,
    "start_time": "2022-03-13T17:18:53.976Z"
   },
   {
    "duration": 9,
    "start_time": "2022-03-13T17:19:39.187Z"
   },
   {
    "duration": 920,
    "start_time": "2022-03-13T17:19:39.346Z"
   },
   {
    "duration": 196,
    "start_time": "2022-03-13T17:19:40.269Z"
   },
   {
    "duration": 75,
    "start_time": "2022-03-13T17:19:40.468Z"
   },
   {
    "duration": 488,
    "start_time": "2022-03-13T17:19:40.546Z"
   },
   {
    "duration": 8,
    "start_time": "2022-03-13T17:19:41.037Z"
   },
   {
    "duration": 45,
    "start_time": "2022-03-13T17:19:41.048Z"
   },
   {
    "duration": 16,
    "start_time": "2022-03-13T17:19:41.096Z"
   },
   {
    "duration": 45,
    "start_time": "2022-03-13T17:19:41.794Z"
   },
   {
    "duration": 14,
    "start_time": "2022-03-13T17:19:42.648Z"
   },
   {
    "duration": 11,
    "start_time": "2022-03-13T17:19:43.388Z"
   },
   {
    "duration": 15,
    "start_time": "2022-03-13T17:20:54.976Z"
   },
   {
    "duration": 8,
    "start_time": "2022-03-13T17:21:04.256Z"
   },
   {
    "duration": 8,
    "start_time": "2022-03-13T17:21:16.616Z"
   },
   {
    "duration": 44,
    "start_time": "2022-03-13T17:21:21.322Z"
   },
   {
    "duration": 20,
    "start_time": "2022-03-13T17:23:22.653Z"
   },
   {
    "duration": 7,
    "start_time": "2022-03-13T17:23:22.837Z"
   },
   {
    "duration": 13,
    "start_time": "2022-03-13T17:23:23.079Z"
   },
   {
    "duration": 41,
    "start_time": "2022-03-13T17:23:23.519Z"
   },
   {
    "duration": 12,
    "start_time": "2022-03-13T17:23:24.270Z"
   },
   {
    "duration": 8,
    "start_time": "2022-03-13T17:24:06.605Z"
   },
   {
    "duration": 7,
    "start_time": "2022-03-13T17:24:16.214Z"
   },
   {
    "duration": 15,
    "start_time": "2022-03-13T17:24:21.989Z"
   },
   {
    "duration": 7,
    "start_time": "2022-03-13T17:32:40.546Z"
   },
   {
    "duration": 54,
    "start_time": "2022-03-13T17:32:54.858Z"
   },
   {
    "duration": 10,
    "start_time": "2022-03-13T17:33:34.599Z"
   },
   {
    "duration": 44,
    "start_time": "2022-03-13T17:33:36.784Z"
   },
   {
    "duration": 17,
    "start_time": "2022-03-13T17:34:05.959Z"
   },
   {
    "duration": 23,
    "start_time": "2022-03-13T17:35:06.143Z"
   },
   {
    "duration": 6,
    "start_time": "2022-03-13T17:35:41.175Z"
   },
   {
    "duration": 22,
    "start_time": "2022-03-13T17:41:49.822Z"
   },
   {
    "duration": 7,
    "start_time": "2022-03-13T17:42:06.732Z"
   },
   {
    "duration": 1185,
    "start_time": "2022-03-14T16:18:37.643Z"
   },
   {
    "duration": 739,
    "start_time": "2022-03-14T16:18:38.830Z"
   },
   {
    "duration": 138,
    "start_time": "2022-03-14T16:18:39.572Z"
   },
   {
    "duration": 39,
    "start_time": "2022-03-14T16:18:39.712Z"
   },
   {
    "duration": 245,
    "start_time": "2022-03-14T16:18:40.072Z"
   },
   {
    "duration": 16,
    "start_time": "2022-03-14T16:18:40.426Z"
   },
   {
    "duration": 3,
    "start_time": "2022-03-14T16:18:40.788Z"
   },
   {
    "duration": 11,
    "start_time": "2022-03-14T16:18:41.256Z"
   },
   {
    "duration": 26,
    "start_time": "2022-03-14T16:18:42.503Z"
   },
   {
    "duration": 11,
    "start_time": "2022-03-14T16:18:43.823Z"
   },
   {
    "duration": 7,
    "start_time": "2022-03-14T16:18:47.902Z"
   },
   {
    "duration": 422,
    "start_time": "2022-03-14T16:38:40.123Z"
   },
   {
    "duration": 302,
    "start_time": "2022-03-14T16:41:44.692Z"
   },
   {
    "duration": 300,
    "start_time": "2022-03-14T16:41:53.977Z"
   },
   {
    "duration": 5,
    "start_time": "2022-03-14T16:42:17.432Z"
   },
   {
    "duration": 5,
    "start_time": "2022-03-14T16:42:34.451Z"
   },
   {
    "duration": 11,
    "start_time": "2022-03-14T16:45:42.647Z"
   },
   {
    "duration": -1168,
    "start_time": "2022-03-14T16:47:18.810Z"
   },
   {
    "duration": 7518,
    "start_time": "2022-03-14T16:47:30.397Z"
   },
   {
    "duration": 7,
    "start_time": "2022-03-14T16:49:28.972Z"
   },
   {
    "duration": 299,
    "start_time": "2022-03-14T16:51:19.484Z"
   },
   {
    "duration": 10,
    "start_time": "2022-03-14T16:51:43.580Z"
   },
   {
    "duration": 13,
    "start_time": "2022-03-14T16:53:56.301Z"
   },
   {
    "duration": 9,
    "start_time": "2022-03-14T16:58:13.872Z"
   },
   {
    "duration": 100,
    "start_time": "2022-03-14T17:07:59.809Z"
   },
   {
    "duration": 99,
    "start_time": "2022-03-14T17:08:25.769Z"
   },
   {
    "duration": 6,
    "start_time": "2022-03-14T17:08:34.240Z"
   },
   {
    "duration": 94,
    "start_time": "2022-03-14T17:16:52.746Z"
   },
   {
    "duration": 107,
    "start_time": "2022-03-14T17:17:16.985Z"
   },
   {
    "duration": 214,
    "start_time": "2022-03-14T17:17:25.698Z"
   },
   {
    "duration": 254,
    "start_time": "2022-03-14T17:18:10.970Z"
   },
   {
    "duration": 274,
    "start_time": "2022-03-14T17:18:26.477Z"
   },
   {
    "duration": 249,
    "start_time": "2022-03-14T17:18:35.178Z"
   },
   {
    "duration": 103,
    "start_time": "2022-03-14T17:19:32.648Z"
   },
   {
    "duration": 112,
    "start_time": "2022-03-14T17:19:45.456Z"
   },
   {
    "duration": 3052,
    "start_time": "2022-03-14T17:19:57.952Z"
   },
   {
    "duration": 2792,
    "start_time": "2022-03-14T17:21:00.971Z"
   },
   {
    "duration": 321,
    "start_time": "2022-03-14T17:21:28.371Z"
   },
   {
    "duration": 307,
    "start_time": "2022-03-14T17:22:08.490Z"
   },
   {
    "duration": 322,
    "start_time": "2022-03-14T17:22:14.958Z"
   },
   {
    "duration": 310,
    "start_time": "2022-03-14T17:23:16.244Z"
   },
   {
    "duration": 332,
    "start_time": "2022-03-14T17:23:27.061Z"
   },
   {
    "duration": 328,
    "start_time": "2022-03-14T17:23:49.310Z"
   },
   {
    "duration": 301,
    "start_time": "2022-03-14T17:24:13.165Z"
   },
   {
    "duration": 303,
    "start_time": "2022-03-14T17:24:29.629Z"
   },
   {
    "duration": 2017,
    "start_time": "2022-03-14T17:24:35.117Z"
   },
   {
    "duration": 1918,
    "start_time": "2022-03-14T17:24:58.554Z"
   },
   {
    "duration": 2014,
    "start_time": "2022-03-14T17:25:36.180Z"
   },
   {
    "duration": 1975,
    "start_time": "2022-03-14T17:27:25.648Z"
   },
   {
    "duration": 1924,
    "start_time": "2022-03-14T17:27:42.163Z"
   },
   {
    "duration": 1873,
    "start_time": "2022-03-14T17:27:53.705Z"
   },
   {
    "duration": 1944,
    "start_time": "2022-03-14T17:28:46.298Z"
   },
   {
    "duration": 1149,
    "start_time": "2022-03-14T17:29:08.209Z"
   },
   {
    "duration": 720,
    "start_time": "2022-03-14T17:29:09.359Z"
   },
   {
    "duration": 87,
    "start_time": "2022-03-14T17:29:10.081Z"
   },
   {
    "duration": 52,
    "start_time": "2022-03-14T17:29:10.170Z"
   },
   {
    "duration": 239,
    "start_time": "2022-03-14T17:29:10.224Z"
   },
   {
    "duration": 36,
    "start_time": "2022-03-14T17:29:10.465Z"
   },
   {
    "duration": 5,
    "start_time": "2022-03-14T17:29:10.503Z"
   },
   {
    "duration": 11,
    "start_time": "2022-03-14T17:29:10.510Z"
   },
   {
    "duration": 27,
    "start_time": "2022-03-14T17:29:11.063Z"
   },
   {
    "duration": 11,
    "start_time": "2022-03-14T17:29:11.630Z"
   },
   {
    "duration": 6,
    "start_time": "2022-03-14T17:29:12.302Z"
   },
   {
    "duration": 9,
    "start_time": "2022-03-14T17:29:13.994Z"
   },
   {
    "duration": 4,
    "start_time": "2022-03-14T17:29:15.304Z"
   },
   {
    "duration": 9,
    "start_time": "2022-03-14T17:29:24.903Z"
   },
   {
    "duration": 2391,
    "start_time": "2022-03-14T17:29:36.110Z"
   },
   {
    "duration": 3224,
    "start_time": "2022-03-14T17:29:47.420Z"
   },
   {
    "duration": 2275,
    "start_time": "2022-03-14T17:30:10.491Z"
   },
   {
    "duration": 2136,
    "start_time": "2022-03-14T17:30:20.810Z"
   },
   {
    "duration": 1179,
    "start_time": "2022-03-14T17:30:33.092Z"
   },
   {
    "duration": 690,
    "start_time": "2022-03-14T17:30:34.273Z"
   },
   {
    "duration": 98,
    "start_time": "2022-03-14T17:30:34.964Z"
   },
   {
    "duration": 55,
    "start_time": "2022-03-14T17:30:35.064Z"
   },
   {
    "duration": 256,
    "start_time": "2022-03-14T17:30:35.121Z"
   },
   {
    "duration": 29,
    "start_time": "2022-03-14T17:30:35.379Z"
   },
   {
    "duration": 5,
    "start_time": "2022-03-14T17:30:35.410Z"
   },
   {
    "duration": 10,
    "start_time": "2022-03-14T17:30:35.418Z"
   },
   {
    "duration": 23,
    "start_time": "2022-03-14T17:30:35.429Z"
   },
   {
    "duration": 9,
    "start_time": "2022-03-14T17:30:35.453Z"
   },
   {
    "duration": 8,
    "start_time": "2022-03-14T17:30:35.464Z"
   },
   {
    "duration": 10,
    "start_time": "2022-03-14T17:30:35.949Z"
   },
   {
    "duration": 375,
    "start_time": "2022-03-14T17:30:36.542Z"
   },
   {
    "duration": 7,
    "start_time": "2022-03-14T17:31:00.880Z"
   },
   {
    "duration": 6,
    "start_time": "2022-03-14T17:31:30.904Z"
   },
   {
    "duration": 7,
    "start_time": "2022-03-14T17:31:41.803Z"
   },
   {
    "duration": 6,
    "start_time": "2022-03-14T17:32:24.304Z"
   },
   {
    "duration": 7,
    "start_time": "2022-03-14T17:32:36.447Z"
   },
   {
    "duration": 8,
    "start_time": "2022-03-14T17:32:48.767Z"
   },
   {
    "duration": 318,
    "start_time": "2022-03-14T17:33:01.874Z"
   },
   {
    "duration": 294,
    "start_time": "2022-03-14T17:33:41.888Z"
   },
   {
    "duration": 331,
    "start_time": "2022-03-14T17:33:58.702Z"
   },
   {
    "duration": 315,
    "start_time": "2022-03-14T17:34:15.583Z"
   },
   {
    "duration": 420,
    "start_time": "2022-03-14T17:35:45.197Z"
   },
   {
    "duration": 387,
    "start_time": "2022-03-14T17:35:51.341Z"
   },
   {
    "duration": 316,
    "start_time": "2022-03-14T17:36:20.741Z"
   },
   {
    "duration": 348,
    "start_time": "2022-03-14T17:36:35.237Z"
   },
   {
    "duration": 424,
    "start_time": "2022-03-14T17:36:41.568Z"
   },
   {
    "duration": 332,
    "start_time": "2022-03-14T17:36:57.728Z"
   },
   {
    "duration": 298,
    "start_time": "2022-03-14T17:37:42.886Z"
   },
   {
    "duration": 309,
    "start_time": "2022-03-14T17:39:52.229Z"
   },
   {
    "duration": 371,
    "start_time": "2022-03-14T17:39:59.976Z"
   },
   {
    "duration": 557,
    "start_time": "2022-03-14T17:40:11.593Z"
   },
   {
    "duration": 1483,
    "start_time": "2022-03-14T17:40:30.027Z"
   },
   {
    "duration": 665,
    "start_time": "2022-03-14T17:40:31.512Z"
   },
   {
    "duration": 84,
    "start_time": "2022-03-14T17:40:32.179Z"
   },
   {
    "duration": 319,
    "start_time": "2022-03-14T17:40:32.264Z"
   },
   {
    "duration": 399,
    "start_time": "2022-03-14T17:40:32.584Z"
   },
   {
    "duration": 28,
    "start_time": "2022-03-14T17:40:32.984Z"
   },
   {
    "duration": 166,
    "start_time": "2022-03-14T17:40:33.013Z"
   },
   {
    "duration": 107,
    "start_time": "2022-03-14T17:40:33.181Z"
   },
   {
    "duration": 142,
    "start_time": "2022-03-14T17:40:33.290Z"
   },
   {
    "duration": 96,
    "start_time": "2022-03-14T17:40:33.434Z"
   },
   {
    "duration": 155,
    "start_time": "2022-03-14T17:40:33.531Z"
   },
   {
    "duration": 10,
    "start_time": "2022-03-14T17:40:34.614Z"
   },
   {
    "duration": 387,
    "start_time": "2022-03-14T17:40:35.406Z"
   },
   {
    "duration": 344,
    "start_time": "2022-03-14T17:40:53.102Z"
   },
   {
    "duration": 1188,
    "start_time": "2022-03-14T17:41:09.308Z"
   },
   {
    "duration": 735,
    "start_time": "2022-03-14T17:41:10.498Z"
   },
   {
    "duration": 107,
    "start_time": "2022-03-14T17:41:11.235Z"
   },
   {
    "duration": 43,
    "start_time": "2022-03-14T17:41:11.804Z"
   },
   {
    "duration": 219,
    "start_time": "2022-03-14T17:41:12.946Z"
   },
   {
    "duration": 15,
    "start_time": "2022-03-14T17:41:13.513Z"
   },
   {
    "duration": 5,
    "start_time": "2022-03-14T17:41:14.001Z"
   },
   {
    "duration": 11,
    "start_time": "2022-03-14T17:41:14.533Z"
   },
   {
    "duration": 31,
    "start_time": "2022-03-14T17:41:15.593Z"
   },
   {
    "duration": 10,
    "start_time": "2022-03-14T17:41:16.721Z"
   },
   {
    "duration": 6,
    "start_time": "2022-03-14T17:41:17.345Z"
   },
   {
    "duration": 9,
    "start_time": "2022-03-14T17:41:19.568Z"
   },
   {
    "duration": 443,
    "start_time": "2022-03-14T17:41:20.196Z"
   },
   {
    "duration": 179,
    "start_time": "2022-03-14T17:42:26.937Z"
   },
   {
    "duration": 178,
    "start_time": "2022-03-14T17:43:04.657Z"
   },
   {
    "duration": 182,
    "start_time": "2022-03-14T17:43:30.049Z"
   },
   {
    "duration": 311,
    "start_time": "2022-03-14T17:44:07.193Z"
   },
   {
    "duration": 297,
    "start_time": "2022-03-14T17:44:21.538Z"
   },
   {
    "duration": 355,
    "start_time": "2022-03-14T17:46:30.333Z"
   },
   {
    "duration": 300,
    "start_time": "2022-03-14T17:46:44.030Z"
   },
   {
    "duration": 93,
    "start_time": "2022-03-14T17:47:29.166Z"
   },
   {
    "duration": 104,
    "start_time": "2022-03-14T17:48:03.120Z"
   },
   {
    "duration": 96,
    "start_time": "2022-03-14T17:48:32.279Z"
   },
   {
    "duration": 98,
    "start_time": "2022-03-14T17:48:40.957Z"
   },
   {
    "duration": 100,
    "start_time": "2022-03-14T17:48:48.087Z"
   },
   {
    "duration": 1200,
    "start_time": "2022-03-14T17:48:57.239Z"
   },
   {
    "duration": 808,
    "start_time": "2022-03-14T17:48:58.441Z"
   },
   {
    "duration": 128,
    "start_time": "2022-03-14T17:48:59.251Z"
   },
   {
    "duration": 171,
    "start_time": "2022-03-14T17:48:59.380Z"
   },
   {
    "duration": 426,
    "start_time": "2022-03-14T17:48:59.554Z"
   },
   {
    "duration": 18,
    "start_time": "2022-03-14T17:49:00.001Z"
   },
   {
    "duration": 161,
    "start_time": "2022-03-14T17:49:00.022Z"
   },
   {
    "duration": 239,
    "start_time": "2022-03-14T17:49:00.186Z"
   },
   {
    "duration": 312,
    "start_time": "2022-03-14T17:49:00.427Z"
   },
   {
    "duration": 169,
    "start_time": "2022-03-14T17:49:01.067Z"
   },
   {
    "duration": 75,
    "start_time": "2022-03-14T17:49:01.572Z"
   },
   {
    "duration": 10,
    "start_time": "2022-03-14T17:49:04.582Z"
   },
   {
    "duration": 101,
    "start_time": "2022-03-14T17:49:05.253Z"
   },
   {
    "duration": 3,
    "start_time": "2022-03-14T17:49:20.238Z"
   },
   {
    "duration": 6,
    "start_time": "2022-03-14T17:49:29.485Z"
   },
   {
    "duration": 368,
    "start_time": "2022-03-14T17:49:35.398Z"
   },
   {
    "duration": 286,
    "start_time": "2022-03-14T17:49:42.963Z"
   },
   {
    "duration": 293,
    "start_time": "2022-03-14T17:50:15.605Z"
   },
   {
    "duration": 5978,
    "start_time": "2022-03-14T17:50:33.356Z"
   },
   {
    "duration": 316,
    "start_time": "2022-03-14T17:51:22.852Z"
   },
   {
    "duration": 310,
    "start_time": "2022-03-14T17:51:40.711Z"
   },
   {
    "duration": 305,
    "start_time": "2022-03-14T17:52:30.944Z"
   },
   {
    "duration": 303,
    "start_time": "2022-03-14T17:52:58.161Z"
   },
   {
    "duration": 111,
    "start_time": "2022-03-14T17:53:15.707Z"
   },
   {
    "duration": 293,
    "start_time": "2022-03-14T17:53:23.334Z"
   },
   {
    "duration": 308,
    "start_time": "2022-03-14T17:53:45.632Z"
   },
   {
    "duration": 6,
    "start_time": "2022-03-14T17:54:24.834Z"
   },
   {
    "duration": 2,
    "start_time": "2022-03-14T17:54:30.969Z"
   },
   {
    "duration": 296,
    "start_time": "2022-03-14T17:54:36.354Z"
   },
   {
    "duration": 1287,
    "start_time": "2022-03-14T17:54:54.736Z"
   },
   {
    "duration": 665,
    "start_time": "2022-03-14T17:54:56.026Z"
   },
   {
    "duration": 81,
    "start_time": "2022-03-14T17:54:56.692Z"
   },
   {
    "duration": 371,
    "start_time": "2022-03-14T17:54:56.775Z"
   },
   {
    "duration": 654,
    "start_time": "2022-03-14T17:54:57.148Z"
   },
   {
    "duration": 14,
    "start_time": "2022-03-14T17:54:57.804Z"
   },
   {
    "duration": 353,
    "start_time": "2022-03-14T17:54:57.820Z"
   },
   {
    "duration": 342,
    "start_time": "2022-03-14T17:54:58.175Z"
   },
   {
    "duration": 190,
    "start_time": "2022-03-14T17:54:58.652Z"
   },
   {
    "duration": 10,
    "start_time": "2022-03-14T17:54:59.949Z"
   },
   {
    "duration": 650,
    "start_time": "2022-03-14T17:55:00.437Z"
   },
   {
    "duration": 9,
    "start_time": "2022-03-14T17:55:06.674Z"
   },
   {
    "duration": 373,
    "start_time": "2022-03-14T17:55:07.077Z"
   },
   {
    "duration": 5,
    "start_time": "2022-03-14T18:00:26.167Z"
   },
   {
    "duration": 4,
    "start_time": "2022-03-14T18:00:43.233Z"
   },
   {
    "duration": 8,
    "start_time": "2022-03-14T18:01:00.490Z"
   },
   {
    "duration": 5,
    "start_time": "2022-03-14T18:01:14.609Z"
   },
   {
    "duration": 4,
    "start_time": "2022-03-14T18:01:53.833Z"
   },
   {
    "duration": 5,
    "start_time": "2022-03-14T18:02:08.056Z"
   },
   {
    "duration": 4,
    "start_time": "2022-03-14T18:02:25.617Z"
   },
   {
    "duration": 6,
    "start_time": "2022-03-14T18:02:31.416Z"
   },
   {
    "duration": 4,
    "start_time": "2022-03-14T18:02:44.080Z"
   },
   {
    "duration": 3,
    "start_time": "2022-03-14T18:02:52.509Z"
   },
   {
    "duration": 303,
    "start_time": "2022-03-14T18:03:33.784Z"
   },
   {
    "duration": 323,
    "start_time": "2022-03-14T18:03:49.528Z"
   },
   {
    "duration": 313,
    "start_time": "2022-03-14T18:03:58.231Z"
   },
   {
    "duration": 7,
    "start_time": "2022-03-14T18:04:39.543Z"
   },
   {
    "duration": 8,
    "start_time": "2022-03-14T18:04:46.783Z"
   },
   {
    "duration": 10,
    "start_time": "2022-03-14T18:05:11.840Z"
   },
   {
    "duration": 289,
    "start_time": "2022-03-14T18:06:05.886Z"
   },
   {
    "duration": 294,
    "start_time": "2022-03-14T18:06:22.122Z"
   },
   {
    "duration": 287,
    "start_time": "2022-03-14T18:10:40.237Z"
   },
   {
    "duration": 555,
    "start_time": "2022-03-14T18:11:16.724Z"
   },
   {
    "duration": 495,
    "start_time": "2022-03-14T18:12:25.743Z"
   },
   {
    "duration": 619,
    "start_time": "2022-03-14T18:12:31.314Z"
   },
   {
    "duration": 549,
    "start_time": "2022-03-14T18:12:39.716Z"
   },
   {
    "duration": 196,
    "start_time": "2022-03-14T18:13:58.049Z"
   },
   {
    "duration": 279,
    "start_time": "2022-03-14T18:14:05.402Z"
   },
   {
    "duration": 180,
    "start_time": "2022-03-14T18:14:15.458Z"
   },
   {
    "duration": 184,
    "start_time": "2022-03-14T18:14:20.601Z"
   },
   {
    "duration": 324,
    "start_time": "2022-03-14T18:15:19.330Z"
   },
   {
    "duration": 3,
    "start_time": "2022-03-14T18:20:24.160Z"
   },
   {
    "duration": 1150,
    "start_time": "2022-03-14T18:20:24.460Z"
   },
   {
    "duration": 112,
    "start_time": "2022-03-14T18:20:25.612Z"
   },
   {
    "duration": 1044,
    "start_time": "2022-03-14T18:20:25.725Z"
   },
   {
    "duration": 810,
    "start_time": "2022-03-14T18:20:26.772Z"
   },
   {
    "duration": 611,
    "start_time": "2022-03-14T18:20:27.584Z"
   },
   {
    "duration": 505,
    "start_time": "2022-03-14T18:20:28.198Z"
   },
   {
    "duration": 792,
    "start_time": "2022-03-14T18:20:28.705Z"
   },
   {
    "duration": 649,
    "start_time": "2022-03-14T18:20:29.499Z"
   },
   {
    "duration": 1122,
    "start_time": "2022-03-14T18:20:30.150Z"
   },
   {
    "duration": 566,
    "start_time": "2022-03-14T18:20:31.274Z"
   },
   {
    "duration": 1120,
    "start_time": "2022-03-14T18:20:31.842Z"
   },
   {
    "duration": 1310,
    "start_time": "2022-03-14T18:20:32.964Z"
   },
   {
    "duration": 180,
    "start_time": "2022-03-14T18:20:42.722Z"
   },
   {
    "duration": 189,
    "start_time": "2022-03-14T18:20:54.093Z"
   },
   {
    "duration": 172,
    "start_time": "2022-03-14T18:21:11.563Z"
   },
   {
    "duration": 295,
    "start_time": "2022-03-14T18:21:21.154Z"
   },
   {
    "duration": 178,
    "start_time": "2022-03-14T18:21:31.155Z"
   },
   {
    "duration": 180,
    "start_time": "2022-03-14T18:21:37.777Z"
   },
   {
    "duration": 12,
    "start_time": "2022-03-14T18:23:21.070Z"
   },
   {
    "duration": 355,
    "start_time": "2022-03-14T18:23:31.404Z"
   },
   {
    "duration": 322,
    "start_time": "2022-03-14T18:23:37.664Z"
   },
   {
    "duration": 293,
    "start_time": "2022-03-14T18:23:42.120Z"
   },
   {
    "duration": 1302,
    "start_time": "2022-03-14T18:25:21.683Z"
   },
   {
    "duration": 1488,
    "start_time": "2022-03-14T18:25:22.989Z"
   },
   {
    "duration": 901,
    "start_time": "2022-03-14T18:25:24.479Z"
   },
   {
    "duration": 1184,
    "start_time": "2022-03-14T18:25:25.382Z"
   },
   {
    "duration": 1437,
    "start_time": "2022-03-14T18:25:26.568Z"
   },
   {
    "duration": 954,
    "start_time": "2022-03-14T18:25:28.007Z"
   },
   {
    "duration": 1810,
    "start_time": "2022-03-14T18:25:28.962Z"
   },
   {
    "duration": 2629,
    "start_time": "2022-03-14T18:25:30.774Z"
   },
   {
    "duration": 552,
    "start_time": "2022-03-14T18:25:33.404Z"
   },
   {
    "duration": 2602,
    "start_time": "2022-03-14T18:25:33.958Z"
   },
   {
    "duration": 3628,
    "start_time": "2022-03-14T18:25:36.562Z"
   },
   {
    "duration": 1590,
    "start_time": "2022-03-14T18:25:40.194Z"
   },
   {
    "duration": 2095,
    "start_time": "2022-03-14T18:25:41.786Z"
   },
   {
    "duration": 384,
    "start_time": "2022-03-14T18:30:30.703Z"
   },
   {
    "duration": 505,
    "start_time": "2022-03-14T18:30:47.663Z"
   },
   {
    "duration": 848,
    "start_time": "2022-03-14T18:31:06.519Z"
   },
   {
    "duration": 366,
    "start_time": "2022-03-14T18:31:21.296Z"
   },
   {
    "duration": 428,
    "start_time": "2022-03-14T18:32:11.873Z"
   },
   {
    "duration": 517,
    "start_time": "2022-03-14T18:32:19.992Z"
   },
   {
    "duration": 390,
    "start_time": "2022-03-14T18:32:29.927Z"
   },
   {
    "duration": 332,
    "start_time": "2022-03-14T18:32:36.643Z"
   },
   {
    "duration": 465,
    "start_time": "2022-03-14T18:32:51.606Z"
   },
   {
    "duration": 186,
    "start_time": "2022-03-14T18:32:56.121Z"
   },
   {
    "duration": 186,
    "start_time": "2022-03-14T18:34:39.358Z"
   },
   {
    "duration": 186,
    "start_time": "2022-03-14T18:34:52.970Z"
   },
   {
    "duration": 362,
    "start_time": "2022-03-14T18:35:13.564Z"
   },
   {
    "duration": 186,
    "start_time": "2022-03-14T18:35:43.004Z"
   },
   {
    "duration": 189,
    "start_time": "2022-03-14T18:35:47.903Z"
   },
   {
    "duration": 257,
    "start_time": "2022-03-14T18:36:27.619Z"
   },
   {
    "duration": 194,
    "start_time": "2022-03-14T18:36:33.140Z"
   },
   {
    "duration": 351,
    "start_time": "2022-03-14T18:37:55.540Z"
   },
   {
    "duration": 299,
    "start_time": "2022-03-14T18:38:04.803Z"
   },
   {
    "duration": 698,
    "start_time": "2022-03-14T18:39:33.058Z"
   },
   {
    "duration": 344,
    "start_time": "2022-03-14T18:39:51.252Z"
   },
   {
    "duration": 587,
    "start_time": "2022-03-14T18:40:13.761Z"
   },
   {
    "duration": 308,
    "start_time": "2022-03-14T18:47:54.206Z"
   },
   {
    "duration": 326,
    "start_time": "2022-03-14T18:48:12.766Z"
   },
   {
    "duration": 971,
    "start_time": "2022-03-14T18:48:33.885Z"
   },
   {
    "duration": 98,
    "start_time": "2022-03-14T18:48:50.878Z"
   },
   {
    "duration": 693,
    "start_time": "2022-03-14T18:48:54.376Z"
   },
   {
    "duration": 614,
    "start_time": "2022-03-14T18:49:47.355Z"
   },
   {
    "duration": 998,
    "start_time": "2022-03-14T18:50:03.807Z"
   },
   {
    "duration": 814,
    "start_time": "2022-03-14T18:51:16.907Z"
   },
   {
    "duration": 260,
    "start_time": "2022-03-14T18:51:34.044Z"
   },
   {
    "duration": 211,
    "start_time": "2022-03-14T18:52:53.921Z"
   },
   {
    "duration": 518,
    "start_time": "2022-03-14T18:53:05.730Z"
   },
   {
    "duration": 715,
    "start_time": "2022-03-14T18:53:28.642Z"
   },
   {
    "duration": 605,
    "start_time": "2022-03-14T18:53:32.658Z"
   },
   {
    "duration": 355,
    "start_time": "2022-03-14T18:54:34.810Z"
   },
   {
    "duration": 210,
    "start_time": "2022-03-14T18:54:40.817Z"
   },
   {
    "duration": 210,
    "start_time": "2022-03-14T18:54:53.321Z"
   },
   {
    "duration": 523,
    "start_time": "2022-03-14T18:56:50.609Z"
   },
   {
    "duration": 244,
    "start_time": "2022-03-14T18:57:07.431Z"
   },
   {
    "duration": 228,
    "start_time": "2022-03-14T18:57:16.919Z"
   },
   {
    "duration": 7296,
    "start_time": "2022-03-14T18:58:20.375Z"
   },
   {
    "duration": 7340,
    "start_time": "2022-03-14T18:58:51.887Z"
   },
   {
    "duration": 7398,
    "start_time": "2022-03-14T18:59:16.480Z"
   },
   {
    "duration": 7241,
    "start_time": "2022-03-14T18:59:51.910Z"
   },
   {
    "duration": 1149,
    "start_time": "2022-03-14T19:04:02.030Z"
   },
   {
    "duration": 2096,
    "start_time": "2022-03-14T19:04:03.181Z"
   },
   {
    "duration": 2371,
    "start_time": "2022-03-14T19:04:05.279Z"
   },
   {
    "duration": 1776,
    "start_time": "2022-03-14T19:04:07.651Z"
   },
   {
    "duration": 6255,
    "start_time": "2022-03-14T19:04:09.431Z"
   },
   {
    "duration": 5311,
    "start_time": "2022-03-14T19:04:15.687Z"
   },
   {
    "duration": 2248,
    "start_time": "2022-03-14T19:04:21.000Z"
   },
   {
    "duration": 1504,
    "start_time": "2022-03-14T19:04:23.250Z"
   },
   {
    "duration": 2438,
    "start_time": "2022-03-14T19:04:24.756Z"
   },
   {
    "duration": 2055,
    "start_time": "2022-03-14T19:04:27.197Z"
   },
   {
    "duration": 2956,
    "start_time": "2022-03-14T19:04:29.254Z"
   },
   {
    "duration": 2178,
    "start_time": "2022-03-14T19:04:32.211Z"
   },
   {
    "duration": 9905,
    "start_time": "2022-03-14T19:04:34.391Z"
   },
   {
    "duration": 217,
    "start_time": "2022-03-14T19:04:51.664Z"
   },
   {
    "duration": 194,
    "start_time": "2022-03-14T19:05:01.990Z"
   },
   {
    "duration": 206,
    "start_time": "2022-03-14T19:06:11.498Z"
   },
   {
    "duration": 196,
    "start_time": "2022-03-14T19:06:28.405Z"
   },
   {
    "duration": 200,
    "start_time": "2022-03-14T19:06:40.534Z"
   },
   {
    "duration": 194,
    "start_time": "2022-03-14T19:06:56.621Z"
   },
   {
    "duration": 354,
    "start_time": "2022-03-14T19:07:17.317Z"
   },
   {
    "duration": 241,
    "start_time": "2022-03-14T19:08:15.237Z"
   },
   {
    "duration": 193,
    "start_time": "2022-03-14T19:08:34.328Z"
   },
   {
    "duration": 323,
    "start_time": "2022-03-14T19:09:20.150Z"
   },
   {
    "duration": 195,
    "start_time": "2022-03-14T19:09:24.532Z"
   },
   {
    "duration": 8,
    "start_time": "2022-03-14T19:11:17.027Z"
   },
   {
    "duration": 933,
    "start_time": "2022-03-14T19:11:17.270Z"
   },
   {
    "duration": 405,
    "start_time": "2022-03-14T19:11:18.205Z"
   },
   {
    "duration": 2159,
    "start_time": "2022-03-14T19:11:18.612Z"
   },
   {
    "duration": 1271,
    "start_time": "2022-03-15T04:40:46.550Z"
   },
   {
    "duration": 758,
    "start_time": "2022-03-15T04:40:47.823Z"
   },
   {
    "duration": 127,
    "start_time": "2022-03-15T04:40:48.584Z"
   },
   {
    "duration": 38,
    "start_time": "2022-03-15T04:40:48.713Z"
   },
   {
    "duration": 291,
    "start_time": "2022-03-15T04:40:48.753Z"
   },
   {
    "duration": 16,
    "start_time": "2022-03-15T04:40:49.060Z"
   },
   {
    "duration": 5,
    "start_time": "2022-03-15T04:40:49.674Z"
   },
   {
    "duration": 14,
    "start_time": "2022-03-15T04:40:50.129Z"
   },
   {
    "duration": 29,
    "start_time": "2022-03-15T04:40:51.282Z"
   },
   {
    "duration": 12,
    "start_time": "2022-03-15T04:40:54.874Z"
   },
   {
    "duration": 9,
    "start_time": "2022-03-15T04:40:55.287Z"
   },
   {
    "duration": 12,
    "start_time": "2022-03-15T04:41:00.891Z"
   },
   {
    "duration": 232,
    "start_time": "2022-03-15T04:41:01.657Z"
   },
   {
    "duration": 1340,
    "start_time": "2022-03-15T16:27:00.485Z"
   },
   {
    "duration": 806,
    "start_time": "2022-03-15T16:27:01.827Z"
   },
   {
    "duration": 125,
    "start_time": "2022-03-15T16:27:02.635Z"
   },
   {
    "duration": 40,
    "start_time": "2022-03-15T16:27:03.351Z"
   },
   {
    "duration": 273,
    "start_time": "2022-03-15T16:27:03.959Z"
   },
   {
    "duration": 17,
    "start_time": "2022-03-15T16:27:04.520Z"
   },
   {
    "duration": 4,
    "start_time": "2022-03-15T16:27:05.009Z"
   },
   {
    "duration": 13,
    "start_time": "2022-03-15T16:27:05.542Z"
   },
   {
    "duration": 31,
    "start_time": "2022-03-15T16:27:07.010Z"
   },
   {
    "duration": 13,
    "start_time": "2022-03-15T16:27:08.038Z"
   },
   {
    "duration": 8,
    "start_time": "2022-03-15T16:27:08.768Z"
   },
   {
    "duration": 12,
    "start_time": "2022-03-15T16:27:10.088Z"
   },
   {
    "duration": 264,
    "start_time": "2022-03-15T16:27:10.703Z"
   },
   {
    "duration": 3,
    "start_time": "2022-03-15T16:27:11.135Z"
   },
   {
    "duration": 14,
    "start_time": "2022-03-15T16:37:43.440Z"
   },
   {
    "duration": 36,
    "start_time": "2022-03-15T16:37:58.480Z"
   },
   {
    "duration": 42,
    "start_time": "2022-03-15T16:38:25.521Z"
   },
   {
    "duration": 12,
    "start_time": "2022-03-15T16:38:41.960Z"
   },
   {
    "duration": 75,
    "start_time": "2022-03-15T16:43:59.005Z"
   },
   {
    "duration": 617,
    "start_time": "2022-03-15T16:44:10.516Z"
   },
   {
    "duration": 14,
    "start_time": "2022-03-15T16:44:34.255Z"
   },
   {
    "duration": 26,
    "start_time": "2022-03-15T16:44:38.859Z"
   },
   {
    "duration": 34,
    "start_time": "2022-03-15T16:45:54.590Z"
   },
   {
    "duration": 17,
    "start_time": "2022-03-15T16:46:18.188Z"
   },
   {
    "duration": 18,
    "start_time": "2022-03-15T16:46:25.688Z"
   },
   {
    "duration": 16,
    "start_time": "2022-03-15T16:46:39.572Z"
   },
   {
    "duration": 16,
    "start_time": "2022-03-15T16:47:07.859Z"
   },
   {
    "duration": 34,
    "start_time": "2022-03-15T16:47:48.619Z"
   },
   {
    "duration": 34,
    "start_time": "2022-03-15T16:48:17.691Z"
   },
   {
    "duration": 30,
    "start_time": "2022-03-15T16:48:23.338Z"
   },
   {
    "duration": 45,
    "start_time": "2022-03-15T16:48:54.300Z"
   },
   {
    "duration": 6282,
    "start_time": "2022-03-15T16:50:55.305Z"
   },
   {
    "duration": 6840,
    "start_time": "2022-03-15T16:51:05.793Z"
   },
   {
    "duration": 6603,
    "start_time": "2022-03-15T16:52:46.880Z"
   },
   {
    "duration": 34,
    "start_time": "2022-03-15T16:54:01.436Z"
   },
   {
    "duration": 26,
    "start_time": "2022-03-15T16:54:06.263Z"
   },
   {
    "duration": 24,
    "start_time": "2022-03-15T16:54:48.864Z"
   },
   {
    "duration": 3,
    "start_time": "2022-03-15T17:08:38.614Z"
   },
   {
    "duration": 4,
    "start_time": "2022-03-15T17:09:37.581Z"
   },
   {
    "duration": 4,
    "start_time": "2022-03-15T17:10:26.660Z"
   },
   {
    "duration": 4,
    "start_time": "2022-03-15T17:10:37.020Z"
   },
   {
    "duration": 80,
    "start_time": "2022-03-15T17:12:46.748Z"
   },
   {
    "duration": 287,
    "start_time": "2022-03-15T17:12:53.491Z"
   },
   {
    "duration": 6483,
    "start_time": "2022-03-15T17:14:03.293Z"
   },
   {
    "duration": 4,
    "start_time": "2022-03-15T17:16:07.178Z"
   },
   {
    "duration": 4,
    "start_time": "2022-03-15T17:17:09.511Z"
   },
   {
    "duration": 3,
    "start_time": "2022-03-15T17:18:30.608Z"
   },
   {
    "duration": 22,
    "start_time": "2022-03-15T17:18:35.190Z"
   },
   {
    "duration": 4,
    "start_time": "2022-03-15T17:18:45.095Z"
   },
   {
    "duration": 22,
    "start_time": "2022-03-15T17:18:45.485Z"
   },
   {
    "duration": 23,
    "start_time": "2022-03-15T17:19:23.206Z"
   },
   {
    "duration": 24,
    "start_time": "2022-03-15T17:19:42.862Z"
   },
   {
    "duration": 32,
    "start_time": "2022-03-15T17:19:47.630Z"
   },
   {
    "duration": 1550,
    "start_time": "2022-03-15T17:22:32.164Z"
   },
   {
    "duration": 4,
    "start_time": "2022-03-15T17:22:49.630Z"
   },
   {
    "duration": 242,
    "start_time": "2022-03-15T17:27:44.299Z"
   },
   {
    "duration": 351,
    "start_time": "2022-03-15T17:27:56.385Z"
   },
   {
    "duration": 360,
    "start_time": "2022-03-15T17:28:21.007Z"
   },
   {
    "duration": 369,
    "start_time": "2022-03-15T17:28:31.057Z"
   },
   {
    "duration": 243,
    "start_time": "2022-03-15T17:28:42.725Z"
   },
   {
    "duration": 465,
    "start_time": "2022-03-15T17:29:41.800Z"
   },
   {
    "duration": 4,
    "start_time": "2022-03-15T17:30:14.158Z"
   },
   {
    "duration": 5891,
    "start_time": "2022-03-15T17:31:06.024Z"
   },
   {
    "duration": 4,
    "start_time": "2022-03-15T17:32:06.160Z"
   },
   {
    "duration": 6162,
    "start_time": "2022-03-15T17:36:07.476Z"
   },
   {
    "duration": 386,
    "start_time": "2022-03-15T17:36:40.204Z"
   },
   {
    "duration": 227,
    "start_time": "2022-03-15T17:36:57.843Z"
   },
   {
    "duration": 230,
    "start_time": "2022-03-15T17:38:49.388Z"
   },
   {
    "duration": 393,
    "start_time": "2022-03-15T17:38:55.392Z"
   },
   {
    "duration": 462,
    "start_time": "2022-03-15T17:39:29.794Z"
   },
   {
    "duration": 277,
    "start_time": "2022-03-15T17:39:53.938Z"
   },
   {
    "duration": 246,
    "start_time": "2022-03-15T17:41:04.466Z"
   },
   {
    "duration": 549,
    "start_time": "2022-03-15T17:42:05.208Z"
   },
   {
    "duration": 253,
    "start_time": "2022-03-15T17:42:13.058Z"
   },
   {
    "duration": 550,
    "start_time": "2022-03-15T17:43:11.241Z"
   },
   {
    "duration": 1333,
    "start_time": "2022-03-15T17:49:55.125Z"
   },
   {
    "duration": 807,
    "start_time": "2022-03-15T17:49:56.464Z"
   },
   {
    "duration": 142,
    "start_time": "2022-03-15T17:49:57.273Z"
   },
   {
    "duration": 39,
    "start_time": "2022-03-15T17:49:57.420Z"
   },
   {
    "duration": 372,
    "start_time": "2022-03-15T17:49:57.461Z"
   },
   {
    "duration": 16,
    "start_time": "2022-03-15T17:49:57.836Z"
   },
   {
    "duration": 9,
    "start_time": "2022-03-15T17:49:57.854Z"
   },
   {
    "duration": 45,
    "start_time": "2022-03-15T17:49:57.865Z"
   },
   {
    "duration": 30,
    "start_time": "2022-03-15T17:49:57.972Z"
   },
   {
    "duration": 13,
    "start_time": "2022-03-15T17:49:58.924Z"
   },
   {
    "duration": 7,
    "start_time": "2022-03-15T17:49:59.347Z"
   },
   {
    "duration": 11,
    "start_time": "2022-03-15T17:50:00.669Z"
   },
   {
    "duration": 237,
    "start_time": "2022-03-15T17:50:01.253Z"
   },
   {
    "duration": 4,
    "start_time": "2022-03-15T17:50:02.027Z"
   },
   {
    "duration": 1430,
    "start_time": "2022-03-15T17:56:54.859Z"
   },
   {
    "duration": 845,
    "start_time": "2022-03-15T17:56:56.291Z"
   },
   {
    "duration": 123,
    "start_time": "2022-03-15T17:56:57.149Z"
   },
   {
    "duration": 68,
    "start_time": "2022-03-15T17:56:57.274Z"
   },
   {
    "duration": 322,
    "start_time": "2022-03-15T17:56:57.346Z"
   },
   {
    "duration": 42,
    "start_time": "2022-03-15T17:56:57.670Z"
   },
   {
    "duration": 9,
    "start_time": "2022-03-15T17:56:57.719Z"
   },
   {
    "duration": 23,
    "start_time": "2022-03-15T17:56:57.732Z"
   },
   {
    "duration": 31,
    "start_time": "2022-03-15T17:56:57.757Z"
   },
   {
    "duration": 12,
    "start_time": "2022-03-15T17:56:58.584Z"
   },
   {
    "duration": 7,
    "start_time": "2022-03-15T17:56:58.973Z"
   },
   {
    "duration": 12,
    "start_time": "2022-03-15T17:57:00.186Z"
   },
   {
    "duration": 287,
    "start_time": "2022-03-15T17:57:00.763Z"
   },
   {
    "duration": 5,
    "start_time": "2022-03-15T17:57:01.324Z"
   },
   {
    "duration": 108,
    "start_time": "2022-03-15T17:57:01.736Z"
   },
   {
    "duration": 49,
    "start_time": "2022-03-15T17:57:02.600Z"
   },
   {
    "duration": 569,
    "start_time": "2022-03-15T17:57:39.618Z"
   },
   {
    "duration": 7512,
    "start_time": "2022-03-15T17:58:11.176Z"
   },
   {
    "duration": 7373,
    "start_time": "2022-03-15T17:58:45.088Z"
   },
   {
    "duration": 110,
    "start_time": "2022-03-15T17:59:17.638Z"
   },
   {
    "duration": 106,
    "start_time": "2022-03-15T17:59:45.798Z"
   },
   {
    "duration": 1459,
    "start_time": "2022-03-15T18:00:04.674Z"
   },
   {
    "duration": 855,
    "start_time": "2022-03-15T18:00:06.136Z"
   },
   {
    "duration": 157,
    "start_time": "2022-03-15T18:00:06.993Z"
   },
   {
    "duration": 51,
    "start_time": "2022-03-15T18:00:07.153Z"
   },
   {
    "duration": 333,
    "start_time": "2022-03-15T18:00:07.207Z"
   },
   {
    "duration": 18,
    "start_time": "2022-03-15T18:00:07.542Z"
   },
   {
    "duration": 39,
    "start_time": "2022-03-15T18:00:07.562Z"
   },
   {
    "duration": 20,
    "start_time": "2022-03-15T18:00:07.603Z"
   },
   {
    "duration": 32,
    "start_time": "2022-03-15T18:00:08.125Z"
   },
   {
    "duration": 13,
    "start_time": "2022-03-15T18:00:08.832Z"
   },
   {
    "duration": 8,
    "start_time": "2022-03-15T18:00:09.176Z"
   },
   {
    "duration": 16,
    "start_time": "2022-03-15T18:00:10.332Z"
   },
   {
    "duration": 278,
    "start_time": "2022-03-15T18:00:10.714Z"
   },
   {
    "duration": 5,
    "start_time": "2022-03-15T18:00:11.105Z"
   },
   {
    "duration": 82,
    "start_time": "2022-03-15T18:00:11.656Z"
   },
   {
    "duration": 93,
    "start_time": "2022-03-15T18:00:33.785Z"
   },
   {
    "duration": 108,
    "start_time": "2022-03-15T18:00:40.400Z"
   },
   {
    "duration": 89,
    "start_time": "2022-03-15T18:00:50.720Z"
   },
   {
    "duration": 89,
    "start_time": "2022-03-15T18:00:56.040Z"
   },
   {
    "duration": 1323,
    "start_time": "2022-03-15T18:01:16.416Z"
   },
   {
    "duration": 851,
    "start_time": "2022-03-15T18:01:17.741Z"
   },
   {
    "duration": 143,
    "start_time": "2022-03-15T18:01:18.594Z"
   },
   {
    "duration": 39,
    "start_time": "2022-03-15T18:01:18.739Z"
   },
   {
    "duration": 367,
    "start_time": "2022-03-15T18:01:18.780Z"
   },
   {
    "duration": 16,
    "start_time": "2022-03-15T18:01:19.149Z"
   },
   {
    "duration": 4,
    "start_time": "2022-03-15T18:01:19.167Z"
   },
   {
    "duration": 22,
    "start_time": "2022-03-15T18:01:19.202Z"
   },
   {
    "duration": 51,
    "start_time": "2022-03-15T18:01:19.227Z"
   },
   {
    "duration": 14,
    "start_time": "2022-03-15T18:01:19.280Z"
   },
   {
    "duration": 10,
    "start_time": "2022-03-15T18:01:19.408Z"
   },
   {
    "duration": 11,
    "start_time": "2022-03-15T18:01:20.459Z"
   },
   {
    "duration": 320,
    "start_time": "2022-03-15T18:01:20.976Z"
   },
   {
    "duration": 4,
    "start_time": "2022-03-15T18:01:21.352Z"
   },
   {
    "duration": 98,
    "start_time": "2022-03-15T18:01:21.946Z"
   },
   {
    "duration": 669,
    "start_time": "2022-03-15T18:01:56.621Z"
   },
   {
    "duration": 582,
    "start_time": "2022-03-15T18:02:48.568Z"
   },
   {
    "duration": 100,
    "start_time": "2022-03-15T18:03:17.192Z"
   },
   {
    "duration": 414,
    "start_time": "2022-03-15T18:03:28.471Z"
   },
   {
    "duration": 524,
    "start_time": "2022-03-15T18:04:06.896Z"
   },
   {
    "duration": 429,
    "start_time": "2022-03-15T18:04:14.335Z"
   },
   {
    "duration": 1300,
    "start_time": "2022-03-15T18:04:37.723Z"
   },
   {
    "duration": 807,
    "start_time": "2022-03-15T18:04:39.026Z"
   },
   {
    "duration": 129,
    "start_time": "2022-03-15T18:04:39.835Z"
   },
   {
    "duration": 71,
    "start_time": "2022-03-15T18:04:39.967Z"
   },
   {
    "duration": 330,
    "start_time": "2022-03-15T18:04:40.040Z"
   },
   {
    "duration": 50,
    "start_time": "2022-03-15T18:04:40.372Z"
   },
   {
    "duration": 8,
    "start_time": "2022-03-15T18:04:40.424Z"
   },
   {
    "duration": 17,
    "start_time": "2022-03-15T18:04:40.434Z"
   },
   {
    "duration": 33,
    "start_time": "2022-03-15T18:04:40.453Z"
   },
   {
    "duration": 17,
    "start_time": "2022-03-15T18:04:40.930Z"
   },
   {
    "duration": 8,
    "start_time": "2022-03-15T18:04:41.162Z"
   },
   {
    "duration": 13,
    "start_time": "2022-03-15T18:04:42.021Z"
   },
   {
    "duration": 240,
    "start_time": "2022-03-15T18:04:42.526Z"
   },
   {
    "duration": 4,
    "start_time": "2022-03-15T18:04:42.993Z"
   },
   {
    "duration": 361,
    "start_time": "2022-03-15T18:04:43.621Z"
   },
   {
    "duration": 239,
    "start_time": "2022-03-15T18:04:59.558Z"
   },
   {
    "duration": 598,
    "start_time": "2022-03-15T18:09:04.260Z"
   },
   {
    "duration": 340,
    "start_time": "2022-03-15T18:12:26.197Z"
   },
   {
    "duration": 252,
    "start_time": "2022-03-15T18:16:47.960Z"
   },
   {
    "duration": 9,
    "start_time": "2022-03-15T18:16:58.358Z"
   },
   {
    "duration": 14,
    "start_time": "2022-03-15T18:17:07.365Z"
   },
   {
    "duration": 19,
    "start_time": "2022-03-15T18:17:22.501Z"
   },
   {
    "duration": 14,
    "start_time": "2022-03-15T18:17:40.846Z"
   },
   {
    "duration": 749,
    "start_time": "2022-03-15T18:18:42.871Z"
   },
   {
    "duration": 6543,
    "start_time": "2022-03-15T18:22:36.656Z"
   },
   {
    "duration": 7455,
    "start_time": "2022-03-15T18:22:48.183Z"
   },
   {
    "duration": 286,
    "start_time": "2022-03-15T18:23:27.351Z"
   },
   {
    "duration": 325,
    "start_time": "2022-03-15T18:23:59.094Z"
   },
   {
    "duration": 471,
    "start_time": "2022-03-15T18:24:08.298Z"
   },
   {
    "duration": 269,
    "start_time": "2022-03-15T18:24:24.689Z"
   },
   {
    "duration": 307,
    "start_time": "2022-03-15T18:24:29.131Z"
   },
   {
    "duration": 351,
    "start_time": "2022-03-15T18:26:54.193Z"
   },
   {
    "duration": 280,
    "start_time": "2022-03-15T18:27:35.352Z"
   },
   {
    "duration": 15,
    "start_time": "2022-03-15T18:28:10.855Z"
   },
   {
    "duration": 13,
    "start_time": "2022-03-15T18:28:22.863Z"
   },
   {
    "duration": 356,
    "start_time": "2022-03-15T18:32:42.622Z"
   },
   {
    "duration": 594,
    "start_time": "2022-03-15T18:33:04.542Z"
   },
   {
    "duration": -2481,
    "start_time": "2022-03-15T18:33:33.539Z"
   },
   {
    "duration": 570,
    "start_time": "2022-03-15T18:33:33.183Z"
   },
   {
    "duration": 544,
    "start_time": "2022-03-15T18:33:49.824Z"
   },
   {
    "duration": 263,
    "start_time": "2022-03-15T18:34:34.821Z"
   },
   {
    "duration": 271,
    "start_time": "2022-03-15T18:34:54.422Z"
   },
   {
    "duration": 265,
    "start_time": "2022-03-15T18:36:02.916Z"
   },
   {
    "duration": 6786,
    "start_time": "2022-03-15T18:36:52.333Z"
   },
   {
    "duration": 14,
    "start_time": "2022-03-15T18:37:17.116Z"
   },
   {
    "duration": 714,
    "start_time": "2022-03-15T18:37:24.858Z"
   },
   {
    "duration": 733,
    "start_time": "2022-03-15T18:37:40.888Z"
   },
   {
    "duration": 858,
    "start_time": "2022-03-15T18:38:19.985Z"
   },
   {
    "duration": 2267,
    "start_time": "2022-03-15T18:39:05.488Z"
   },
   {
    "duration": 965,
    "start_time": "2022-03-15T18:39:56.826Z"
   },
   {
    "duration": 2119,
    "start_time": "2022-03-15T18:40:13.328Z"
   },
   {
    "duration": 2601,
    "start_time": "2022-03-15T18:40:20.430Z"
   },
   {
    "duration": 2159,
    "start_time": "2022-03-15T18:40:43.880Z"
   },
   {
    "duration": 2230,
    "start_time": "2022-03-15T18:42:13.914Z"
   },
   {
    "duration": 2796,
    "start_time": "2022-03-15T18:44:36.663Z"
   },
   {
    "duration": 2529,
    "start_time": "2022-03-15T18:46:39.420Z"
   },
   {
    "duration": 2370,
    "start_time": "2022-03-15T18:46:49.347Z"
   },
   {
    "duration": 2224,
    "start_time": "2022-03-15T18:47:36.468Z"
   },
   {
    "duration": 2602,
    "start_time": "2022-03-15T18:47:41.425Z"
   },
   {
    "duration": 2187,
    "start_time": "2022-03-15T18:47:46.262Z"
   },
   {
    "duration": 278,
    "start_time": "2022-03-15T18:49:16.429Z"
   },
   {
    "duration": 2274,
    "start_time": "2022-03-15T18:49:27.162Z"
   },
   {
    "duration": 1293,
    "start_time": "2022-03-15T18:52:53.947Z"
   },
   {
    "duration": 902,
    "start_time": "2022-03-15T18:52:55.244Z"
   },
   {
    "duration": 161,
    "start_time": "2022-03-15T18:52:56.149Z"
   },
   {
    "duration": 54,
    "start_time": "2022-03-15T18:52:56.312Z"
   },
   {
    "duration": 371,
    "start_time": "2022-03-15T18:52:56.371Z"
   },
   {
    "duration": 16,
    "start_time": "2022-03-15T18:52:56.744Z"
   },
   {
    "duration": 4,
    "start_time": "2022-03-15T18:52:56.765Z"
   },
   {
    "duration": 43,
    "start_time": "2022-03-15T18:52:56.770Z"
   },
   {
    "duration": 36,
    "start_time": "2022-03-15T18:52:56.814Z"
   },
   {
    "duration": 13,
    "start_time": "2022-03-15T18:52:56.852Z"
   },
   {
    "duration": 10,
    "start_time": "2022-03-15T18:52:56.867Z"
   },
   {
    "duration": 12,
    "start_time": "2022-03-15T18:52:58.134Z"
   },
   {
    "duration": 255,
    "start_time": "2022-03-15T18:52:58.593Z"
   },
   {
    "duration": 3,
    "start_time": "2022-03-15T18:52:59.058Z"
   },
   {
    "duration": 123,
    "start_time": "2022-03-15T18:52:59.582Z"
   },
   {
    "duration": 1326,
    "start_time": "2022-03-15T18:57:47.909Z"
   },
   {
    "duration": 847,
    "start_time": "2022-03-15T18:57:49.238Z"
   },
   {
    "duration": 145,
    "start_time": "2022-03-15T18:57:50.088Z"
   },
   {
    "duration": 37,
    "start_time": "2022-03-15T18:57:50.235Z"
   },
   {
    "duration": 333,
    "start_time": "2022-03-15T18:57:50.274Z"
   },
   {
    "duration": 17,
    "start_time": "2022-03-15T18:57:50.735Z"
   },
   {
    "duration": 5,
    "start_time": "2022-03-15T18:57:51.071Z"
   },
   {
    "duration": 15,
    "start_time": "2022-03-15T18:57:51.447Z"
   },
   {
    "duration": 29,
    "start_time": "2022-03-15T18:57:52.359Z"
   },
   {
    "duration": 14,
    "start_time": "2022-03-15T18:57:53.182Z"
   },
   {
    "duration": 8,
    "start_time": "2022-03-15T18:57:53.824Z"
   },
   {
    "duration": 11,
    "start_time": "2022-03-15T18:57:55.057Z"
   },
   {
    "duration": 263,
    "start_time": "2022-03-15T18:57:55.598Z"
   },
   {
    "duration": 5,
    "start_time": "2022-03-15T18:57:56.110Z"
   },
   {
    "duration": 1325,
    "start_time": "2022-03-15T19:00:19.515Z"
   },
   {
    "duration": 869,
    "start_time": "2022-03-15T19:00:20.843Z"
   },
   {
    "duration": 139,
    "start_time": "2022-03-15T19:00:21.715Z"
   },
   {
    "duration": 69,
    "start_time": "2022-03-15T19:00:21.857Z"
   },
   {
    "duration": 309,
    "start_time": "2022-03-15T19:00:21.928Z"
   },
   {
    "duration": 16,
    "start_time": "2022-03-15T19:00:22.239Z"
   },
   {
    "duration": 4,
    "start_time": "2022-03-15T19:00:22.258Z"
   },
   {
    "duration": 48,
    "start_time": "2022-03-15T19:00:22.264Z"
   },
   {
    "duration": 35,
    "start_time": "2022-03-15T19:00:22.315Z"
   },
   {
    "duration": 12,
    "start_time": "2022-03-15T19:00:22.352Z"
   },
   {
    "duration": 17,
    "start_time": "2022-03-15T19:00:22.366Z"
   },
   {
    "duration": 21,
    "start_time": "2022-03-15T19:00:22.385Z"
   },
   {
    "duration": 251,
    "start_time": "2022-03-15T19:00:22.413Z"
   },
   {
    "duration": 3,
    "start_time": "2022-03-15T19:00:22.666Z"
   },
   {
    "duration": 2148,
    "start_time": "2022-03-15T19:00:22.673Z"
   },
   {
    "duration": 37,
    "start_time": "2022-03-15T19:00:24.825Z"
   },
   {
    "duration": 427,
    "start_time": "2022-03-15T19:00:44.004Z"
   },
   {
    "duration": 1260,
    "start_time": "2022-03-15T19:02:52.251Z"
   },
   {
    "duration": 824,
    "start_time": "2022-03-15T19:02:53.522Z"
   },
   {
    "duration": 127,
    "start_time": "2022-03-15T19:02:54.348Z"
   },
   {
    "duration": 63,
    "start_time": "2022-03-15T19:02:54.477Z"
   },
   {
    "duration": 314,
    "start_time": "2022-03-15T19:02:54.542Z"
   },
   {
    "duration": 16,
    "start_time": "2022-03-15T19:02:54.858Z"
   },
   {
    "duration": 29,
    "start_time": "2022-03-15T19:02:54.877Z"
   },
   {
    "duration": 17,
    "start_time": "2022-03-15T19:02:54.910Z"
   },
   {
    "duration": 36,
    "start_time": "2022-03-15T19:02:54.930Z"
   },
   {
    "duration": 12,
    "start_time": "2022-03-15T19:02:55.765Z"
   },
   {
    "duration": 7,
    "start_time": "2022-03-15T19:02:56.155Z"
   },
   {
    "duration": 12,
    "start_time": "2022-03-15T19:02:57.270Z"
   },
   {
    "duration": 264,
    "start_time": "2022-03-15T19:02:57.621Z"
   },
   {
    "duration": 4,
    "start_time": "2022-03-15T19:02:57.949Z"
   },
   {
    "duration": 432,
    "start_time": "2022-03-15T19:02:58.251Z"
   },
   {
    "duration": -2442,
    "start_time": "2022-03-15T19:03:01.127Z"
   },
   {
    "duration": 290,
    "start_time": "2022-03-15T19:03:53.490Z"
   },
   {
    "duration": 2325,
    "start_time": "2022-03-15T19:04:01.469Z"
   },
   {
    "duration": 293,
    "start_time": "2022-03-15T19:04:33.805Z"
   },
   {
    "duration": 37,
    "start_time": "2022-03-15T19:04:38.775Z"
   },
   {
    "duration": 2120,
    "start_time": "2022-03-15T19:04:39.165Z"
   },
   {
    "duration": 28,
    "start_time": "2022-03-15T19:05:17.432Z"
   },
   {
    "duration": 1995,
    "start_time": "2022-03-15T19:05:18.564Z"
   },
   {
    "duration": 26,
    "start_time": "2022-03-15T19:05:33.166Z"
   },
   {
    "duration": 2025,
    "start_time": "2022-03-15T19:05:33.722Z"
   },
   {
    "duration": 1992,
    "start_time": "2022-03-15T19:05:45.635Z"
   },
   {
    "duration": 12,
    "start_time": "2022-03-15T19:06:16.822Z"
   },
   {
    "duration": 305,
    "start_time": "2022-03-15T19:06:17.192Z"
   },
   {
    "duration": 27,
    "start_time": "2022-03-15T19:06:25.577Z"
   },
   {
    "duration": 1803,
    "start_time": "2022-03-15T19:06:26.091Z"
   },
   {
    "duration": 30,
    "start_time": "2022-03-15T19:06:44.865Z"
   },
   {
    "duration": 2067,
    "start_time": "2022-03-15T19:06:45.330Z"
   },
   {
    "duration": 2456,
    "start_time": "2022-03-15T19:08:31.264Z"
   },
   {
    "duration": 24,
    "start_time": "2022-03-15T19:08:41.925Z"
   },
   {
    "duration": 1998,
    "start_time": "2022-03-15T19:08:42.538Z"
   },
   {
    "duration": 2587,
    "start_time": "2022-03-15T19:08:47.721Z"
   },
   {
    "duration": 2260,
    "start_time": "2022-03-15T19:09:25.122Z"
   },
   {
    "duration": 2824,
    "start_time": "2022-03-15T19:09:38.377Z"
   },
   {
    "duration": 2626,
    "start_time": "2022-03-15T19:09:53.466Z"
   },
   {
    "duration": 2529,
    "start_time": "2022-03-15T19:10:58.275Z"
   },
   {
    "duration": 2444,
    "start_time": "2022-03-15T19:11:11.632Z"
   },
   {
    "duration": 1401,
    "start_time": "2022-03-15T19:12:35.390Z"
   },
   {
    "duration": 1504,
    "start_time": "2022-03-15T19:12:57.032Z"
   },
   {
    "duration": 1268,
    "start_time": "2022-03-15T19:13:28.325Z"
   },
   {
    "duration": 1262,
    "start_time": "2022-03-15T19:13:32.626Z"
   },
   {
    "duration": 1181,
    "start_time": "2022-03-15T19:13:43.056Z"
   },
   {
    "duration": 26,
    "start_time": "2022-03-15T19:13:51.873Z"
   },
   {
    "duration": 1267,
    "start_time": "2022-03-15T19:13:52.981Z"
   },
   {
    "duration": 16,
    "start_time": "2022-03-15T19:14:10.920Z"
   },
   {
    "duration": 286,
    "start_time": "2022-03-15T19:14:11.331Z"
   },
   {
    "duration": 39,
    "start_time": "2022-03-15T19:14:16.805Z"
   },
   {
    "duration": 1288,
    "start_time": "2022-03-15T19:14:17.126Z"
   },
   {
    "duration": 28,
    "start_time": "2022-03-15T19:14:27.917Z"
   },
   {
    "duration": 1274,
    "start_time": "2022-03-15T19:14:28.458Z"
   },
   {
    "duration": 1224,
    "start_time": "2022-03-15T19:16:42.355Z"
   },
   {
    "duration": 1167,
    "start_time": "2022-03-16T04:27:23.651Z"
   },
   {
    "duration": 809,
    "start_time": "2022-03-16T04:27:24.821Z"
   },
   {
    "duration": 120,
    "start_time": "2022-03-16T04:27:25.632Z"
   },
   {
    "duration": 59,
    "start_time": "2022-03-16T04:27:25.754Z"
   },
   {
    "duration": 296,
    "start_time": "2022-03-16T04:27:25.815Z"
   },
   {
    "duration": 17,
    "start_time": "2022-03-16T04:27:26.113Z"
   },
   {
    "duration": 4,
    "start_time": "2022-03-16T04:27:26.132Z"
   },
   {
    "duration": 14,
    "start_time": "2022-03-16T04:27:26.447Z"
   },
   {
    "duration": 27,
    "start_time": "2022-03-16T04:27:27.215Z"
   },
   {
    "duration": 12,
    "start_time": "2022-03-16T04:27:27.968Z"
   },
   {
    "duration": 7,
    "start_time": "2022-03-16T04:27:28.353Z"
   },
   {
    "duration": 12,
    "start_time": "2022-03-16T04:27:29.955Z"
   },
   {
    "duration": 224,
    "start_time": "2022-03-16T04:27:30.493Z"
   },
   {
    "duration": 4,
    "start_time": "2022-03-16T04:27:31.242Z"
   },
   {
    "duration": 1118,
    "start_time": "2022-03-16T04:27:31.809Z"
   },
   {
    "duration": 33,
    "start_time": "2022-03-16T04:27:32.929Z"
   },
   {
    "duration": 1139,
    "start_time": "2022-03-16T04:27:34.343Z"
   },
   {
    "duration": 3,
    "start_time": "2022-03-16T04:27:36.583Z"
   },
   {
    "duration": 19,
    "start_time": "2022-03-16T04:32:34.077Z"
   },
   {
    "duration": 23,
    "start_time": "2022-03-16T04:33:39.389Z"
   },
   {
    "duration": 43,
    "start_time": "2022-03-16T04:33:48.096Z"
   },
   {
    "duration": 36,
    "start_time": "2022-03-16T04:35:29.621Z"
   },
   {
    "duration": 35,
    "start_time": "2022-03-16T04:35:39.052Z"
   },
   {
    "duration": 27,
    "start_time": "2022-03-16T04:35:59.995Z"
   },
   {
    "duration": 26,
    "start_time": "2022-03-16T04:38:14.706Z"
   },
   {
    "duration": 26,
    "start_time": "2022-03-16T04:38:42.073Z"
   },
   {
    "duration": 27,
    "start_time": "2022-03-16T04:40:05.152Z"
   },
   {
    "duration": 18,
    "start_time": "2022-03-16T04:42:02.303Z"
   },
   {
    "duration": 1220,
    "start_time": "2022-03-16T04:42:15.194Z"
   },
   {
    "duration": 768,
    "start_time": "2022-03-16T04:42:16.417Z"
   },
   {
    "duration": 125,
    "start_time": "2022-03-16T04:42:17.187Z"
   },
   {
    "duration": 37,
    "start_time": "2022-03-16T04:42:17.314Z"
   },
   {
    "duration": 291,
    "start_time": "2022-03-16T04:42:17.353Z"
   },
   {
    "duration": 17,
    "start_time": "2022-03-16T04:42:17.645Z"
   },
   {
    "duration": 4,
    "start_time": "2022-03-16T04:42:18.008Z"
   },
   {
    "duration": 13,
    "start_time": "2022-03-16T04:42:18.386Z"
   },
   {
    "duration": 26,
    "start_time": "2022-03-16T04:42:19.232Z"
   },
   {
    "duration": 12,
    "start_time": "2022-03-16T04:42:20.095Z"
   },
   {
    "duration": 8,
    "start_time": "2022-03-16T04:42:20.479Z"
   },
   {
    "duration": 12,
    "start_time": "2022-03-16T04:42:21.730Z"
   },
   {
    "duration": 222,
    "start_time": "2022-03-16T04:42:22.236Z"
   },
   {
    "duration": 4,
    "start_time": "2022-03-16T04:42:22.728Z"
   },
   {
    "duration": 1113,
    "start_time": "2022-03-16T04:42:23.216Z"
   },
   {
    "duration": 33,
    "start_time": "2022-03-16T04:42:24.332Z"
   },
   {
    "duration": 1193,
    "start_time": "2022-03-16T04:42:24.367Z"
   },
   {
    "duration": 13,
    "start_time": "2022-03-16T04:42:25.562Z"
   },
   {
    "duration": 14,
    "start_time": "2022-03-16T04:42:43.912Z"
   },
   {
    "duration": 32,
    "start_time": "2022-03-16T04:42:47.506Z"
   },
   {
    "duration": 20,
    "start_time": "2022-03-16T04:42:51.303Z"
   },
   {
    "duration": 29,
    "start_time": "2022-03-16T04:43:24.327Z"
   },
   {
    "duration": 30,
    "start_time": "2022-03-16T04:47:46.532Z"
   },
   {
    "duration": 57,
    "start_time": "2022-03-16T04:48:01.167Z"
   },
   {
    "duration": 368,
    "start_time": "2022-03-16T04:48:53.133Z"
   },
   {
    "duration": 261,
    "start_time": "2022-03-16T04:49:11.316Z"
   },
   {
    "duration": 55,
    "start_time": "2022-03-16T04:49:26.964Z"
   },
   {
    "duration": 7,
    "start_time": "2022-03-16T04:50:29.645Z"
   },
   {
    "duration": 31,
    "start_time": "2022-03-16T04:50:34.755Z"
   },
   {
    "duration": 14,
    "start_time": "2022-03-16T04:52:04.802Z"
   },
   {
    "duration": 25,
    "start_time": "2022-03-16T04:54:17.196Z"
   },
   {
    "duration": 1088,
    "start_time": "2022-03-16T04:54:17.545Z"
   },
   {
    "duration": 8,
    "start_time": "2022-03-16T04:54:18.635Z"
   },
   {
    "duration": 1310,
    "start_time": "2022-03-16T16:29:15.059Z"
   },
   {
    "duration": 817,
    "start_time": "2022-03-16T16:29:16.372Z"
   },
   {
    "duration": 148,
    "start_time": "2022-03-16T16:29:17.191Z"
   },
   {
    "duration": 42,
    "start_time": "2022-03-16T16:29:17.342Z"
   },
   {
    "duration": 274,
    "start_time": "2022-03-16T16:29:17.608Z"
   },
   {
    "duration": 18,
    "start_time": "2022-03-16T16:29:18.215Z"
   },
   {
    "duration": 5,
    "start_time": "2022-03-16T16:29:18.806Z"
   },
   {
    "duration": 10,
    "start_time": "2022-03-16T16:29:19.576Z"
   },
   {
    "duration": 33,
    "start_time": "2022-03-16T16:29:20.664Z"
   },
   {
    "duration": 13,
    "start_time": "2022-03-16T16:31:02.567Z"
   },
   {
    "duration": 8,
    "start_time": "2022-03-16T16:31:02.863Z"
   },
   {
    "duration": 11,
    "start_time": "2022-03-16T16:31:03.867Z"
   },
   {
    "duration": 270,
    "start_time": "2022-03-16T16:31:04.525Z"
   },
   {
    "duration": 4,
    "start_time": "2022-03-16T16:31:05.741Z"
   },
   {
    "duration": 1328,
    "start_time": "2022-03-16T16:31:05.748Z"
   },
   {
    "duration": 34,
    "start_time": "2022-03-16T16:31:07.079Z"
   },
   {
    "duration": 1336,
    "start_time": "2022-03-16T16:31:07.115Z"
   },
   {
    "duration": 10,
    "start_time": "2022-03-16T16:31:12.887Z"
   },
   {
    "duration": 786,
    "start_time": "2022-03-16T16:36:05.432Z"
   },
   {
    "duration": 1313,
    "start_time": "2022-03-16T16:36:18.413Z"
   },
   {
    "duration": 1719,
    "start_time": "2022-03-16T16:37:15.861Z"
   },
   {
    "duration": 1297,
    "start_time": "2022-03-16T16:37:28.045Z"
   },
   {
    "duration": 1277,
    "start_time": "2022-03-16T16:37:53.564Z"
   },
   {
    "duration": 1366,
    "start_time": "2022-03-16T16:39:00.951Z"
   },
   {
    "duration": 290,
    "start_time": "2022-03-16T16:39:09.915Z"
   },
   {
    "duration": 314,
    "start_time": "2022-03-16T16:39:44.875Z"
   },
   {
    "duration": 881,
    "start_time": "2022-03-16T16:40:12.837Z"
   },
   {
    "duration": 948,
    "start_time": "2022-03-16T16:40:21.892Z"
   },
   {
    "duration": 933,
    "start_time": "2022-03-16T16:40:29.686Z"
   },
   {
    "duration": 935,
    "start_time": "2022-03-16T16:40:49.962Z"
   },
   {
    "duration": 950,
    "start_time": "2022-03-16T16:41:08.428Z"
   },
   {
    "duration": 997,
    "start_time": "2022-03-16T16:41:14.139Z"
   },
   {
    "duration": 1088,
    "start_time": "2022-03-16T16:41:38.347Z"
   },
   {
    "duration": 1016,
    "start_time": "2022-03-16T16:42:06.163Z"
   },
   {
    "duration": 1006,
    "start_time": "2022-03-16T16:43:24.113Z"
   },
   {
    "duration": 949,
    "start_time": "2022-03-16T16:43:36.665Z"
   },
   {
    "duration": 351,
    "start_time": "2022-03-16T16:44:08.721Z"
   },
   {
    "duration": 976,
    "start_time": "2022-03-16T16:44:15.976Z"
   },
   {
    "duration": 965,
    "start_time": "2022-03-16T16:44:34.554Z"
   },
   {
    "duration": 33,
    "start_time": "2022-03-16T16:44:47.368Z"
   },
   {
    "duration": 1013,
    "start_time": "2022-03-16T16:45:57.072Z"
   },
   {
    "duration": 30,
    "start_time": "2022-03-16T17:00:41.366Z"
   },
   {
    "duration": 1002,
    "start_time": "2022-03-16T17:00:43.905Z"
   },
   {
    "duration": 11,
    "start_time": "2022-03-16T17:00:52.721Z"
   },
   {
    "duration": 279,
    "start_time": "2022-03-16T17:00:55.193Z"
   },
   {
    "duration": 126,
    "start_time": "2022-03-16T17:09:32.466Z"
   },
   {
    "duration": 301,
    "start_time": "2022-03-16T17:10:10.874Z"
   },
   {
    "duration": 8,
    "start_time": "2022-03-16T17:11:19.833Z"
   },
   {
    "duration": 1268,
    "start_time": "2022-03-16T17:11:27.074Z"
   },
   {
    "duration": 801,
    "start_time": "2022-03-16T17:11:28.344Z"
   },
   {
    "duration": 147,
    "start_time": "2022-03-16T17:11:29.148Z"
   },
   {
    "duration": 82,
    "start_time": "2022-03-16T17:11:29.297Z"
   },
   {
    "duration": 321,
    "start_time": "2022-03-16T17:11:29.381Z"
   },
   {
    "duration": 38,
    "start_time": "2022-03-16T17:11:29.704Z"
   },
   {
    "duration": 4,
    "start_time": "2022-03-16T17:11:29.745Z"
   },
   {
    "duration": 11,
    "start_time": "2022-03-16T17:11:29.998Z"
   },
   {
    "duration": 53,
    "start_time": "2022-03-16T17:11:30.920Z"
   },
   {
    "duration": 13,
    "start_time": "2022-03-16T17:11:31.889Z"
   },
   {
    "duration": 7,
    "start_time": "2022-03-16T17:11:32.298Z"
   },
   {
    "duration": 12,
    "start_time": "2022-03-16T17:11:33.535Z"
   },
   {
    "duration": 253,
    "start_time": "2022-03-16T17:11:34.014Z"
   },
   {
    "duration": 4,
    "start_time": "2022-03-16T17:11:34.432Z"
   },
   {
    "duration": 988,
    "start_time": "2022-03-16T17:11:34.972Z"
   },
   {
    "duration": 35,
    "start_time": "2022-03-16T17:11:35.962Z"
   },
   {
    "duration": 1162,
    "start_time": "2022-03-16T17:11:36.000Z"
   },
   {
    "duration": 9,
    "start_time": "2022-03-16T17:11:37.164Z"
   },
   {
    "duration": 390,
    "start_time": "2022-03-16T17:11:37.642Z"
   },
   {
    "duration": 4,
    "start_time": "2022-03-16T17:11:39.963Z"
   },
   {
    "duration": 6473,
    "start_time": "2022-03-16T17:14:16.648Z"
   },
   {
    "duration": 6988,
    "start_time": "2022-03-16T17:14:42.189Z"
   },
   {
    "duration": 6199,
    "start_time": "2022-03-16T17:18:22.509Z"
   },
   {
    "duration": 12,
    "start_time": "2022-03-16T17:18:30.988Z"
   },
   {
    "duration": 21,
    "start_time": "2022-03-16T17:18:59.796Z"
   },
   {
    "duration": 269,
    "start_time": "2022-03-16T17:20:55.341Z"
   },
   {
    "duration": 4,
    "start_time": "2022-03-16T17:21:02.612Z"
   },
   {
    "duration": 972,
    "start_time": "2022-03-16T17:21:08.076Z"
   },
   {
    "duration": 24,
    "start_time": "2022-03-16T17:21:13.135Z"
   },
   {
    "duration": 1028,
    "start_time": "2022-03-16T17:21:16.533Z"
   },
   {
    "duration": 20,
    "start_time": "2022-03-16T17:21:34.773Z"
   },
   {
    "duration": 11,
    "start_time": "2022-03-16T17:21:49.772Z"
   },
   {
    "duration": 123,
    "start_time": "2022-03-16T17:21:59.005Z"
   },
   {
    "duration": 259,
    "start_time": "2022-03-16T17:22:08.077Z"
   },
   {
    "duration": 283,
    "start_time": "2022-03-16T17:22:47.221Z"
   },
   {
    "duration": 275,
    "start_time": "2022-03-16T17:23:00.825Z"
   },
   {
    "duration": 133,
    "start_time": "2022-03-16T17:23:28.413Z"
   },
   {
    "duration": 10,
    "start_time": "2022-03-16T17:23:57.452Z"
   },
   {
    "duration": 11,
    "start_time": "2022-03-16T17:24:01.372Z"
   },
   {
    "duration": 9,
    "start_time": "2022-03-16T17:24:09.020Z"
   },
   {
    "duration": 8,
    "start_time": "2022-03-16T17:24:18.349Z"
   },
   {
    "duration": 20,
    "start_time": "2022-03-16T17:24:24.420Z"
   },
   {
    "duration": 285,
    "start_time": "2022-03-16T17:24:41.439Z"
   },
   {
    "duration": 1262,
    "start_time": "2022-03-16T17:24:55.757Z"
   },
   {
    "duration": 786,
    "start_time": "2022-03-16T17:24:57.021Z"
   },
   {
    "duration": 147,
    "start_time": "2022-03-16T17:24:57.809Z"
   },
   {
    "duration": 43,
    "start_time": "2022-03-16T17:24:57.959Z"
   },
   {
    "duration": 350,
    "start_time": "2022-03-16T17:24:58.004Z"
   },
   {
    "duration": 19,
    "start_time": "2022-03-16T17:24:58.356Z"
   },
   {
    "duration": 4,
    "start_time": "2022-03-16T17:24:58.377Z"
   },
   {
    "duration": 11,
    "start_time": "2022-03-16T17:24:58.383Z"
   },
   {
    "duration": 32,
    "start_time": "2022-03-16T17:24:58.676Z"
   },
   {
    "duration": 12,
    "start_time": "2022-03-16T17:24:59.591Z"
   },
   {
    "duration": 8,
    "start_time": "2022-03-16T17:25:00.011Z"
   },
   {
    "duration": 12,
    "start_time": "2022-03-16T17:25:01.543Z"
   },
   {
    "duration": 254,
    "start_time": "2022-03-16T17:25:02.086Z"
   },
   {
    "duration": 4,
    "start_time": "2022-03-16T17:25:02.552Z"
   },
   {
    "duration": 988,
    "start_time": "2022-03-16T17:25:03.053Z"
   },
   {
    "duration": 35,
    "start_time": "2022-03-16T17:25:04.043Z"
   },
   {
    "duration": 1043,
    "start_time": "2022-03-16T17:25:05.472Z"
   },
   {
    "duration": 17,
    "start_time": "2022-03-16T17:25:06.517Z"
   },
   {
    "duration": 381,
    "start_time": "2022-03-16T17:25:07.028Z"
   },
   {
    "duration": 266,
    "start_time": "2022-03-16T17:27:51.172Z"
   },
   {
    "duration": 36,
    "start_time": "2022-03-16T17:27:58.582Z"
   },
   {
    "duration": 38,
    "start_time": "2022-03-16T17:28:14.536Z"
   },
   {
    "duration": 18,
    "start_time": "2022-03-16T17:28:27.663Z"
   },
   {
    "duration": 20,
    "start_time": "2022-03-16T17:32:47.453Z"
   },
   {
    "duration": 1306,
    "start_time": "2022-03-16T17:32:56.355Z"
   },
   {
    "duration": 787,
    "start_time": "2022-03-16T17:32:57.663Z"
   },
   {
    "duration": 135,
    "start_time": "2022-03-16T17:32:58.453Z"
   },
   {
    "duration": 60,
    "start_time": "2022-03-16T17:32:58.590Z"
   },
   {
    "duration": 303,
    "start_time": "2022-03-16T17:32:58.652Z"
   },
   {
    "duration": 17,
    "start_time": "2022-03-16T17:32:58.957Z"
   },
   {
    "duration": 4,
    "start_time": "2022-03-16T17:32:58.976Z"
   },
   {
    "duration": 10,
    "start_time": "2022-03-16T17:32:58.984Z"
   },
   {
    "duration": 34,
    "start_time": "2022-03-16T17:32:59.032Z"
   },
   {
    "duration": 12,
    "start_time": "2022-03-16T17:32:59.450Z"
   },
   {
    "duration": 8,
    "start_time": "2022-03-16T17:32:59.709Z"
   },
   {
    "duration": 12,
    "start_time": "2022-03-16T17:33:00.503Z"
   },
   {
    "duration": 252,
    "start_time": "2022-03-16T17:33:00.764Z"
   },
   {
    "duration": 4,
    "start_time": "2022-03-16T17:33:01.029Z"
   },
   {
    "duration": 1052,
    "start_time": "2022-03-16T17:33:01.311Z"
   },
   {
    "duration": 37,
    "start_time": "2022-03-16T17:33:02.366Z"
   },
   {
    "duration": 1095,
    "start_time": "2022-03-16T17:33:02.406Z"
   },
   {
    "duration": 8,
    "start_time": "2022-03-16T17:33:03.503Z"
   },
   {
    "duration": 394,
    "start_time": "2022-03-16T17:33:06.476Z"
   },
   {
    "duration": 307,
    "start_time": "2022-03-16T17:33:37.388Z"
   },
   {
    "duration": 184,
    "start_time": "2022-03-16T17:33:57.749Z"
   },
   {
    "duration": 450,
    "start_time": "2022-03-16T17:34:18.950Z"
   },
   {
    "duration": 65,
    "start_time": "2022-03-16T17:34:55.266Z"
   },
   {
    "duration": 469,
    "start_time": "2022-03-16T17:34:57.124Z"
   },
   {
    "duration": 210,
    "start_time": "2022-03-16T17:35:13.723Z"
   },
   {
    "duration": 1869,
    "start_time": "2022-03-16T17:35:14.220Z"
   },
   {
    "duration": 154,
    "start_time": "2022-03-16T17:35:38.679Z"
   },
   {
    "duration": 6,
    "start_time": "2022-03-16T17:36:01.016Z"
   },
   {
    "duration": 5,
    "start_time": "2022-03-16T17:37:13.538Z"
   },
   {
    "duration": 6,
    "start_time": "2022-03-16T17:39:12.067Z"
   },
   {
    "duration": 7,
    "start_time": "2022-03-16T17:39:25.135Z"
   },
   {
    "duration": 6,
    "start_time": "2022-03-16T17:39:32.853Z"
   },
   {
    "duration": 6,
    "start_time": "2022-03-16T17:54:06.713Z"
   },
   {
    "duration": 6,
    "start_time": "2022-03-16T17:54:11.855Z"
   },
   {
    "duration": 5,
    "start_time": "2022-03-16T17:54:18.732Z"
   },
   {
    "duration": 6,
    "start_time": "2022-03-16T17:54:22.870Z"
   },
   {
    "duration": 4,
    "start_time": "2022-03-16T17:54:30.279Z"
   },
   {
    "duration": 798,
    "start_time": "2022-03-16T17:54:30.530Z"
   },
   {
    "duration": 139,
    "start_time": "2022-03-16T17:54:31.331Z"
   },
   {
    "duration": 37,
    "start_time": "2022-03-16T17:54:31.472Z"
   },
   {
    "duration": 279,
    "start_time": "2022-03-16T17:54:31.633Z"
   },
   {
    "duration": 15,
    "start_time": "2022-03-16T17:54:32.106Z"
   },
   {
    "duration": 4,
    "start_time": "2022-03-16T17:54:32.549Z"
   },
   {
    "duration": 10,
    "start_time": "2022-03-16T17:54:32.900Z"
   },
   {
    "duration": 32,
    "start_time": "2022-03-16T17:54:33.725Z"
   },
   {
    "duration": 12,
    "start_time": "2022-03-16T17:54:34.487Z"
   },
   {
    "duration": 7,
    "start_time": "2022-03-16T17:54:34.835Z"
   },
   {
    "duration": 12,
    "start_time": "2022-03-16T17:54:35.870Z"
   },
   {
    "duration": 247,
    "start_time": "2022-03-16T17:54:36.217Z"
   },
   {
    "duration": 4,
    "start_time": "2022-03-16T17:54:36.578Z"
   },
   {
    "duration": 962,
    "start_time": "2022-03-16T17:54:36.837Z"
   },
   {
    "duration": 38,
    "start_time": "2022-03-16T17:54:37.802Z"
   },
   {
    "duration": 1008,
    "start_time": "2022-03-16T17:54:37.842Z"
   },
   {
    "duration": 11,
    "start_time": "2022-03-16T17:54:38.852Z"
   },
   {
    "duration": 67,
    "start_time": "2022-03-16T17:54:39.074Z"
   },
   {
    "duration": 7,
    "start_time": "2022-03-16T17:54:39.720Z"
   },
   {
    "duration": 3,
    "start_time": "2022-03-16T17:54:40.120Z"
   },
   {
    "duration": 5,
    "start_time": "2022-03-16T17:55:04.394Z"
   },
   {
    "duration": 262,
    "start_time": "2022-03-16T17:55:32.926Z"
   },
   {
    "duration": 444,
    "start_time": "2022-03-16T17:56:32.748Z"
   },
   {
    "duration": 287,
    "start_time": "2022-03-16T17:56:40.773Z"
   },
   {
    "duration": 445,
    "start_time": "2022-03-16T17:56:59.342Z"
   },
   {
    "duration": 308,
    "start_time": "2022-03-16T18:07:23.997Z"
   },
   {
    "duration": 248,
    "start_time": "2022-03-16T18:10:29.662Z"
   },
   {
    "duration": 307,
    "start_time": "2022-03-16T18:10:44.939Z"
   },
   {
    "duration": 285,
    "start_time": "2022-03-16T18:18:59.624Z"
   },
   {
    "duration": 4,
    "start_time": "2022-03-16T18:19:04.166Z"
   },
   {
    "duration": 5,
    "start_time": "2022-03-16T18:19:11.698Z"
   },
   {
    "duration": 8,
    "start_time": "2022-03-16T18:19:26.551Z"
   },
   {
    "duration": 7,
    "start_time": "2022-03-16T18:29:05.323Z"
   },
   {
    "duration": 8,
    "start_time": "2022-03-16T18:29:14.502Z"
   },
   {
    "duration": 265,
    "start_time": "2022-03-16T18:29:17.556Z"
   },
   {
    "duration": 258,
    "start_time": "2022-03-16T18:31:54.116Z"
   },
   {
    "duration": 2986,
    "start_time": "2022-03-17T16:22:24.396Z"
   },
   {
    "duration": 1128,
    "start_time": "2022-03-17T16:22:27.385Z"
   },
   {
    "duration": 269,
    "start_time": "2022-03-17T16:22:28.516Z"
   },
   {
    "duration": 113,
    "start_time": "2022-03-17T16:22:28.790Z"
   },
   {
    "duration": 541,
    "start_time": "2022-03-17T16:22:28.906Z"
   },
   {
    "duration": 70,
    "start_time": "2022-03-17T16:22:29.449Z"
   },
   {
    "duration": 6,
    "start_time": "2022-03-17T16:22:29.522Z"
   },
   {
    "duration": 12,
    "start_time": "2022-03-17T16:22:29.531Z"
   },
   {
    "duration": 71,
    "start_time": "2022-03-17T16:22:29.546Z"
   },
   {
    "duration": 19,
    "start_time": "2022-03-17T16:22:29.622Z"
   },
   {
    "duration": 9,
    "start_time": "2022-03-17T16:22:30.312Z"
   },
   {
    "duration": 18,
    "start_time": "2022-03-17T16:22:31.672Z"
   },
   {
    "duration": 383,
    "start_time": "2022-03-17T16:22:32.168Z"
   },
   {
    "duration": 7,
    "start_time": "2022-03-17T16:22:32.607Z"
   },
   {
    "duration": 1003,
    "start_time": "2022-03-17T16:22:33.336Z"
   },
   {
    "duration": 40,
    "start_time": "2022-03-17T16:22:34.384Z"
   },
   {
    "duration": 1267,
    "start_time": "2022-03-17T16:22:34.919Z"
   },
   {
    "duration": 14,
    "start_time": "2022-03-17T16:22:36.189Z"
   },
   {
    "duration": 390,
    "start_time": "2022-03-17T16:22:37.593Z"
   },
   {
    "duration": 209,
    "start_time": "2022-03-17T16:22:38.552Z"
   },
   {
    "duration": 19,
    "start_time": "2022-03-17T17:31:49.411Z"
   },
   {
    "duration": 7,
    "start_time": "2022-03-17T17:32:32.820Z"
   },
   {
    "duration": 9,
    "start_time": "2022-03-17T17:32:51.553Z"
   },
   {
    "duration": 530,
    "start_time": "2022-03-17T17:35:21.561Z"
   },
   {
    "duration": 14,
    "start_time": "2022-03-17T17:35:22.098Z"
   },
   {
    "duration": 6,
    "start_time": "2022-03-17T17:35:30.056Z"
   },
   {
    "duration": 11,
    "start_time": "2022-03-17T17:35:34.236Z"
   },
   {
    "duration": 7,
    "start_time": "2022-03-17T17:35:44.352Z"
   },
   {
    "duration": 7,
    "start_time": "2022-03-17T17:36:25.921Z"
   },
   {
    "duration": 5,
    "start_time": "2022-03-17T17:36:34.480Z"
   },
   {
    "duration": 5,
    "start_time": "2022-03-17T17:36:47.800Z"
   },
   {
    "duration": 6,
    "start_time": "2022-03-17T17:36:49.775Z"
   },
   {
    "duration": 8,
    "start_time": "2022-03-17T17:37:07.335Z"
   },
   {
    "duration": 8,
    "start_time": "2022-03-17T17:37:13.895Z"
   },
   {
    "duration": 5,
    "start_time": "2022-03-17T17:37:24.784Z"
   },
   {
    "duration": 4,
    "start_time": "2022-03-17T17:37:39.679Z"
   },
   {
    "duration": 6,
    "start_time": "2022-03-17T17:37:41.688Z"
   },
   {
    "duration": 10,
    "start_time": "2022-03-17T17:59:00.564Z"
   },
   {
    "duration": 9,
    "start_time": "2022-03-17T17:59:38.722Z"
   },
   {
    "duration": 20,
    "start_time": "2022-03-17T18:00:02.619Z"
   },
   {
    "duration": 40,
    "start_time": "2022-03-17T18:00:51.114Z"
   },
   {
    "duration": 856,
    "start_time": "2022-03-17T18:00:51.441Z"
   },
   {
    "duration": 196,
    "start_time": "2022-03-17T18:00:52.300Z"
   },
   {
    "duration": 83,
    "start_time": "2022-03-17T18:00:52.499Z"
   },
   {
    "duration": 598,
    "start_time": "2022-03-17T18:00:52.585Z"
   },
   {
    "duration": 26,
    "start_time": "2022-03-17T18:00:53.187Z"
   },
   {
    "duration": 6,
    "start_time": "2022-03-17T18:00:53.217Z"
   },
   {
    "duration": 15,
    "start_time": "2022-03-17T18:00:53.227Z"
   },
   {
    "duration": 40,
    "start_time": "2022-03-17T18:00:53.404Z"
   },
   {
    "duration": 19,
    "start_time": "2022-03-17T18:00:53.824Z"
   },
   {
    "duration": 8,
    "start_time": "2022-03-17T18:00:54.056Z"
   },
   {
    "duration": 19,
    "start_time": "2022-03-17T18:00:54.722Z"
   },
   {
    "duration": 235,
    "start_time": "2022-03-17T18:00:54.951Z"
   },
   {
    "duration": 5,
    "start_time": "2022-03-17T18:00:55.188Z"
   },
   {
    "duration": 907,
    "start_time": "2022-03-17T18:00:55.408Z"
   },
   {
    "duration": 35,
    "start_time": "2022-03-17T18:00:56.318Z"
   },
   {
    "duration": 1090,
    "start_time": "2022-03-17T18:00:56.355Z"
   },
   {
    "duration": 13,
    "start_time": "2022-03-17T18:00:57.448Z"
   },
   {
    "duration": 129,
    "start_time": "2022-03-17T18:00:57.463Z"
   },
   {
    "duration": 8,
    "start_time": "2022-03-17T18:00:57.684Z"
   },
   {
    "duration": 21,
    "start_time": "2022-03-17T18:00:57.781Z"
   },
   {
    "duration": 15,
    "start_time": "2022-03-17T18:01:20.433Z"
   },
   {
    "duration": 5,
    "start_time": "2022-03-17T18:02:21.073Z"
   },
   {
    "duration": 873,
    "start_time": "2022-03-17T18:02:21.280Z"
   },
   {
    "duration": 195,
    "start_time": "2022-03-17T18:02:22.156Z"
   },
   {
    "duration": 78,
    "start_time": "2022-03-17T18:02:22.354Z"
   },
   {
    "duration": 499,
    "start_time": "2022-03-17T18:02:22.435Z"
   },
   {
    "duration": 49,
    "start_time": "2022-03-17T18:02:22.937Z"
   },
   {
    "duration": 7,
    "start_time": "2022-03-17T18:02:22.989Z"
   },
   {
    "duration": 14,
    "start_time": "2022-03-17T18:02:22.998Z"
   },
   {
    "duration": 72,
    "start_time": "2022-03-17T18:02:23.015Z"
   },
   {
    "duration": 17,
    "start_time": "2022-03-17T18:02:23.167Z"
   },
   {
    "duration": 7,
    "start_time": "2022-03-17T18:02:23.377Z"
   },
   {
    "duration": 16,
    "start_time": "2022-03-17T18:02:24.264Z"
   },
   {
    "duration": 233,
    "start_time": "2022-03-17T18:02:24.472Z"
   },
   {
    "duration": 5,
    "start_time": "2022-03-17T18:02:24.708Z"
   },
   {
    "duration": 907,
    "start_time": "2022-03-17T18:02:24.856Z"
   },
   {
    "duration": 39,
    "start_time": "2022-03-17T18:02:25.765Z"
   },
   {
    "duration": 1041,
    "start_time": "2022-03-17T18:02:25.806Z"
   },
   {
    "duration": 10,
    "start_time": "2022-03-17T18:02:26.850Z"
   },
   {
    "duration": 231,
    "start_time": "2022-03-17T18:02:26.863Z"
   },
   {
    "duration": 6,
    "start_time": "2022-03-17T18:02:27.270Z"
   },
   {
    "duration": 16,
    "start_time": "2022-03-17T18:02:27.647Z"
   },
   {
    "duration": 1882,
    "start_time": "2022-03-18T16:40:11.029Z"
   },
   {
    "duration": 817,
    "start_time": "2022-03-18T16:40:12.913Z"
   },
   {
    "duration": 124,
    "start_time": "2022-03-18T16:40:13.732Z"
   },
   {
    "duration": 41,
    "start_time": "2022-03-18T16:40:13.859Z"
   },
   {
    "duration": 334,
    "start_time": "2022-03-18T16:40:13.902Z"
   },
   {
    "duration": 19,
    "start_time": "2022-03-18T16:40:14.237Z"
   },
   {
    "duration": 5,
    "start_time": "2022-03-18T16:40:14.258Z"
   },
   {
    "duration": 10,
    "start_time": "2022-03-18T16:40:14.371Z"
   },
   {
    "duration": 35,
    "start_time": "2022-03-18T16:40:15.226Z"
   },
   {
    "duration": 13,
    "start_time": "2022-03-18T16:40:16.073Z"
   },
   {
    "duration": 7,
    "start_time": "2022-03-18T16:40:16.488Z"
   },
   {
    "duration": 11,
    "start_time": "2022-03-18T16:40:17.637Z"
   },
   {
    "duration": 161,
    "start_time": "2022-03-18T16:40:18.011Z"
   },
   {
    "duration": 3,
    "start_time": "2022-03-18T16:40:19.815Z"
   },
   {
    "duration": 611,
    "start_time": "2022-03-18T16:40:19.825Z"
   },
   {
    "duration": 33,
    "start_time": "2022-03-18T16:40:20.438Z"
   },
   {
    "duration": 709,
    "start_time": "2022-03-18T16:40:20.779Z"
   },
   {
    "duration": 8,
    "start_time": "2022-03-18T16:40:21.490Z"
   },
   {
    "duration": 205,
    "start_time": "2022-03-18T16:40:22.528Z"
   },
   {
    "duration": 5,
    "start_time": "2022-03-18T16:40:22.971Z"
   },
   {
    "duration": 1556,
    "start_time": "2022-03-18T16:48:56.857Z"
   },
   {
    "duration": 794,
    "start_time": "2022-03-18T16:48:58.415Z"
   },
   {
    "duration": 123,
    "start_time": "2022-03-18T16:48:59.210Z"
   },
   {
    "duration": 44,
    "start_time": "2022-03-18T16:49:02.821Z"
   },
   {
    "duration": 312,
    "start_time": "2022-03-18T16:49:02.867Z"
   },
   {
    "duration": 18,
    "start_time": "2022-03-18T16:49:03.181Z"
   },
   {
    "duration": 5,
    "start_time": "2022-03-18T16:49:03.200Z"
   },
   {
    "duration": 31,
    "start_time": "2022-03-18T16:49:03.207Z"
   },
   {
    "duration": 30,
    "start_time": "2022-03-18T16:49:03.240Z"
   },
   {
    "duration": 13,
    "start_time": "2022-03-18T16:49:03.273Z"
   },
   {
    "duration": 18,
    "start_time": "2022-03-18T16:49:03.287Z"
   },
   {
    "duration": 16,
    "start_time": "2022-03-18T16:49:03.527Z"
   },
   {
    "duration": 168,
    "start_time": "2022-03-18T16:49:04.577Z"
   },
   {
    "duration": 4,
    "start_time": "2022-03-18T16:49:05.329Z"
   },
   {
    "duration": 603,
    "start_time": "2022-03-18T16:49:06.146Z"
   },
   {
    "duration": 34,
    "start_time": "2022-03-18T16:49:06.751Z"
   },
   {
    "duration": 717,
    "start_time": "2022-03-18T16:49:07.298Z"
   },
   {
    "duration": 18,
    "start_time": "2022-03-18T16:49:08.017Z"
   },
   {
    "duration": 27,
    "start_time": "2022-03-18T16:49:11.368Z"
   },
   {
    "duration": 5,
    "start_time": "2022-03-18T16:49:22.621Z"
   },
   {
    "duration": 41,
    "start_time": "2022-03-18T16:49:49.451Z"
   },
   {
    "duration": 28,
    "start_time": "2022-03-18T16:50:04.505Z"
   },
   {
    "duration": 4,
    "start_time": "2022-03-18T16:50:07.297Z"
   },
   {
    "duration": 114,
    "start_time": "2022-03-18T16:59:17.572Z"
   },
   {
    "duration": 4,
    "start_time": "2022-03-18T16:59:49.547Z"
   },
   {
    "duration": 796,
    "start_time": "2022-03-18T16:59:49.762Z"
   },
   {
    "duration": 114,
    "start_time": "2022-03-18T16:59:50.560Z"
   },
   {
    "duration": 59,
    "start_time": "2022-03-18T16:59:50.676Z"
   },
   {
    "duration": 310,
    "start_time": "2022-03-18T16:59:50.737Z"
   },
   {
    "duration": 15,
    "start_time": "2022-03-18T16:59:51.049Z"
   },
   {
    "duration": 4,
    "start_time": "2022-03-18T16:59:51.066Z"
   },
   {
    "duration": 12,
    "start_time": "2022-03-18T16:59:51.073Z"
   },
   {
    "duration": 35,
    "start_time": "2022-03-18T16:59:51.171Z"
   },
   {
    "duration": 13,
    "start_time": "2022-03-18T16:59:51.540Z"
   },
   {
    "duration": 7,
    "start_time": "2022-03-18T16:59:51.718Z"
   },
   {
    "duration": 10,
    "start_time": "2022-03-18T16:59:52.267Z"
   },
   {
    "duration": 149,
    "start_time": "2022-03-18T16:59:52.442Z"
   },
   {
    "duration": 4,
    "start_time": "2022-03-18T16:59:52.633Z"
   },
   {
    "duration": 616,
    "start_time": "2022-03-18T16:59:52.930Z"
   },
   {
    "duration": 27,
    "start_time": "2022-03-18T16:59:53.548Z"
   },
   {
    "duration": 654,
    "start_time": "2022-03-18T16:59:53.577Z"
   },
   {
    "duration": 8,
    "start_time": "2022-03-18T16:59:54.234Z"
   },
   {
    "duration": 27,
    "start_time": "2022-03-18T16:59:54.482Z"
   },
   {
    "duration": 4,
    "start_time": "2022-03-18T16:59:54.809Z"
   },
   {
    "duration": 192,
    "start_time": "2022-03-18T16:59:55.073Z"
   },
   {
    "duration": 201,
    "start_time": "2022-03-18T17:00:15.058Z"
   },
   {
    "duration": 26,
    "start_time": "2022-03-18T17:00:23.874Z"
   },
   {
    "duration": 26,
    "start_time": "2022-03-18T17:00:24.142Z"
   },
   {
    "duration": 26,
    "start_time": "2022-03-18T17:00:24.522Z"
   },
   {
    "duration": 27,
    "start_time": "2022-03-18T17:00:25.907Z"
   },
   {
    "duration": 4,
    "start_time": "2022-03-18T17:00:26.177Z"
   },
   {
    "duration": 204,
    "start_time": "2022-03-18T17:00:26.482Z"
   },
   {
    "duration": 27,
    "start_time": "2022-03-18T17:01:12.682Z"
   },
   {
    "duration": 4,
    "start_time": "2022-03-18T17:01:13.009Z"
   },
   {
    "duration": 202,
    "start_time": "2022-03-18T17:01:13.444Z"
   },
   {
    "duration": 1593,
    "start_time": "2022-03-18T17:03:51.439Z"
   },
   {
    "duration": 826,
    "start_time": "2022-03-18T17:03:53.034Z"
   },
   {
    "duration": 123,
    "start_time": "2022-03-18T17:03:53.862Z"
   },
   {
    "duration": 70,
    "start_time": "2022-03-18T17:03:53.988Z"
   },
   {
    "duration": 318,
    "start_time": "2022-03-18T17:03:54.060Z"
   },
   {
    "duration": 18,
    "start_time": "2022-03-18T17:03:54.380Z"
   },
   {
    "duration": 5,
    "start_time": "2022-03-18T17:03:54.400Z"
   },
   {
    "duration": 11,
    "start_time": "2022-03-18T17:03:54.431Z"
   },
   {
    "duration": 37,
    "start_time": "2022-03-18T17:03:54.600Z"
   },
   {
    "duration": 13,
    "start_time": "2022-03-18T17:03:55.336Z"
   },
   {
    "duration": 7,
    "start_time": "2022-03-18T17:03:55.727Z"
   },
   {
    "duration": 13,
    "start_time": "2022-03-18T17:03:56.808Z"
   },
   {
    "duration": 165,
    "start_time": "2022-03-18T17:03:57.159Z"
   },
   {
    "duration": 3,
    "start_time": "2022-03-18T17:03:57.544Z"
   },
   {
    "duration": 614,
    "start_time": "2022-03-18T17:03:57.910Z"
   },
   {
    "duration": 35,
    "start_time": "2022-03-18T17:03:58.526Z"
   },
   {
    "duration": 716,
    "start_time": "2022-03-18T17:03:58.565Z"
   },
   {
    "duration": 7,
    "start_time": "2022-03-18T17:03:59.283Z"
   },
   {
    "duration": 27,
    "start_time": "2022-03-18T17:03:59.864Z"
   },
   {
    "duration": 3,
    "start_time": "2022-03-18T17:04:00.199Z"
   },
   {
    "duration": 320,
    "start_time": "2022-03-18T17:04:01.265Z"
   },
   {
    "duration": 6,
    "start_time": "2022-03-18T17:08:16.773Z"
   },
   {
    "duration": 5,
    "start_time": "2022-03-18T17:08:21.021Z"
   },
   {
    "duration": 4,
    "start_time": "2022-03-18T17:08:46.036Z"
   },
   {
    "duration": 205,
    "start_time": "2022-03-18T17:08:47.037Z"
   },
   {
    "duration": 4,
    "start_time": "2022-03-18T17:09:42.725Z"
   },
   {
    "duration": 202,
    "start_time": "2022-03-18T17:09:43.437Z"
   },
   {
    "duration": 4,
    "start_time": "2022-03-18T17:10:53.314Z"
   },
   {
    "duration": 200,
    "start_time": "2022-03-18T17:10:54.604Z"
   },
   {
    "duration": 208,
    "start_time": "2022-03-18T17:11:43.756Z"
   },
   {
    "duration": 199,
    "start_time": "2022-03-18T17:12:08.212Z"
   },
   {
    "duration": 212,
    "start_time": "2022-03-18T17:16:26.341Z"
   },
   {
    "duration": 200,
    "start_time": "2022-03-18T17:36:03.798Z"
   },
   {
    "duration": 8,
    "start_time": "2022-03-18T17:36:15.646Z"
   },
   {
    "duration": 204,
    "start_time": "2022-03-18T17:36:18.205Z"
   },
   {
    "duration": 5,
    "start_time": "2022-03-18T17:37:48.658Z"
   },
   {
    "duration": 196,
    "start_time": "2022-03-18T17:37:49.115Z"
   },
   {
    "duration": 4,
    "start_time": "2022-03-18T17:37:59.289Z"
   },
   {
    "duration": 229,
    "start_time": "2022-03-18T17:37:59.903Z"
   },
   {
    "duration": 4,
    "start_time": "2022-03-18T17:39:13.793Z"
   },
   {
    "duration": 198,
    "start_time": "2022-03-18T17:39:14.210Z"
   },
   {
    "duration": 4,
    "start_time": "2022-03-18T17:42:49.682Z"
   },
   {
    "duration": 201,
    "start_time": "2022-03-18T17:42:49.979Z"
   },
   {
    "duration": 5,
    "start_time": "2022-03-18T17:43:09.642Z"
   },
   {
    "duration": 212,
    "start_time": "2022-03-18T17:43:10.007Z"
   },
   {
    "duration": 162,
    "start_time": "2022-03-18T17:43:34.433Z"
   },
   {
    "duration": 960,
    "start_time": "2022-03-18T17:43:42.159Z"
   },
   {
    "duration": 973,
    "start_time": "2022-03-18T17:45:04.415Z"
   },
   {
    "duration": 942,
    "start_time": "2022-03-18T17:45:25.330Z"
   },
   {
    "duration": 948,
    "start_time": "2022-03-18T17:47:14.569Z"
   },
   {
    "duration": 165,
    "start_time": "2022-03-18T17:48:35.533Z"
   },
   {
    "duration": 5,
    "start_time": "2022-03-18T17:50:50.413Z"
   },
   {
    "duration": 32867,
    "start_time": "2022-03-18T17:53:20.429Z"
   },
   {
    "duration": 32145,
    "start_time": "2022-03-18T17:53:53.298Z"
   },
   {
    "duration": 5386,
    "start_time": "2022-03-18T18:04:13.033Z"
   },
   {
    "duration": 20909,
    "start_time": "2022-03-18T18:04:41.025Z"
   },
   {
    "duration": 4,
    "start_time": "2022-03-18T18:10:38.997Z"
   },
   {
    "duration": 1519,
    "start_time": "2022-03-18T18:11:32.517Z"
   },
   {
    "duration": 1796,
    "start_time": "2022-03-18T18:11:34.040Z"
   },
   {
    "duration": 4,
    "start_time": "2022-03-18T18:14:08.867Z"
   },
   {
    "duration": 809,
    "start_time": "2022-03-18T18:14:09.394Z"
   },
   {
    "duration": 133,
    "start_time": "2022-03-18T18:14:10.205Z"
   },
   {
    "duration": 44,
    "start_time": "2022-03-18T18:14:10.340Z"
   },
   {
    "duration": 289,
    "start_time": "2022-03-18T18:14:10.852Z"
   },
   {
    "duration": 17,
    "start_time": "2022-03-18T18:14:11.265Z"
   },
   {
    "duration": 4,
    "start_time": "2022-03-18T18:14:11.704Z"
   },
   {
    "duration": 10,
    "start_time": "2022-03-18T18:14:12.113Z"
   },
   {
    "duration": 30,
    "start_time": "2022-03-18T18:14:12.915Z"
   },
   {
    "duration": 14,
    "start_time": "2022-03-18T18:14:13.923Z"
   },
   {
    "duration": 5,
    "start_time": "2022-03-18T18:14:14.354Z"
   },
   {
    "duration": 13,
    "start_time": "2022-03-18T18:14:15.595Z"
   },
   {
    "duration": 161,
    "start_time": "2022-03-18T18:14:16.145Z"
   },
   {
    "duration": 4,
    "start_time": "2022-03-18T18:14:16.538Z"
   },
   {
    "duration": 614,
    "start_time": "2022-03-18T18:14:16.987Z"
   },
   {
    "duration": 39,
    "start_time": "2022-03-18T18:14:17.603Z"
   },
   {
    "duration": 631,
    "start_time": "2022-03-18T18:14:17.978Z"
   },
   {
    "duration": 21,
    "start_time": "2022-03-18T18:14:18.611Z"
   },
   {
    "duration": 30,
    "start_time": "2022-03-18T18:14:20.274Z"
   },
   {
    "duration": 4,
    "start_time": "2022-03-18T18:14:20.737Z"
   },
   {
    "duration": 959,
    "start_time": "2022-03-18T18:14:21.349Z"
   },
   {
    "duration": 931,
    "start_time": "2022-03-18T18:14:22.310Z"
   },
   {
    "duration": 33633,
    "start_time": "2022-03-18T18:14:23.243Z"
   },
   {
    "duration": 21873,
    "start_time": "2022-03-18T18:14:56.878Z"
   },
   {
    "duration": 2084,
    "start_time": "2022-03-18T18:15:18.754Z"
   },
   {
    "duration": 1602,
    "start_time": "2022-03-18T18:15:20.840Z"
   },
   {
    "duration": 78273,
    "start_time": "2022-03-19T09:11:39.265Z"
   },
   {
    "duration": 837,
    "start_time": "2022-03-19T09:12:57.540Z"
   },
   {
    "duration": 119,
    "start_time": "2022-03-19T09:13:38.870Z"
   },
   {
    "duration": 44,
    "start_time": "2022-03-19T09:13:39.655Z"
   },
   {
    "duration": 312,
    "start_time": "2022-03-19T09:13:40.557Z"
   },
   {
    "duration": 21,
    "start_time": "2022-03-19T09:13:41.330Z"
   },
   {
    "duration": 5,
    "start_time": "2022-03-19T09:13:43.492Z"
   },
   {
    "duration": 10,
    "start_time": "2022-03-19T09:13:44.115Z"
   },
   {
    "duration": 37,
    "start_time": "2022-03-19T09:13:45.694Z"
   },
   {
    "duration": 15,
    "start_time": "2022-03-19T09:13:48.010Z"
   },
   {
    "duration": 7,
    "start_time": "2022-03-19T09:13:48.475Z"
   },
   {
    "duration": 4,
    "start_time": "2022-03-19T09:16:52.650Z"
   },
   {
    "duration": 43,
    "start_time": "2022-03-19T09:25:20.480Z"
   },
   {
    "duration": 11,
    "start_time": "2022-03-19T09:25:41.770Z"
   },
   {
    "duration": 171,
    "start_time": "2022-03-19T09:25:44.182Z"
   },
   {
    "duration": 5,
    "start_time": "2022-03-19T09:25:45.109Z"
   },
   {
    "duration": 668,
    "start_time": "2022-03-19T09:25:45.251Z"
   },
   {
    "duration": 31,
    "start_time": "2022-03-19T09:25:45.966Z"
   },
   {
    "duration": 693,
    "start_time": "2022-03-19T09:25:46.582Z"
   },
   {
    "duration": 7,
    "start_time": "2022-03-19T09:25:48.591Z"
   },
   {
    "duration": 27,
    "start_time": "2022-03-19T09:25:50.641Z"
   },
   {
    "duration": 4,
    "start_time": "2022-03-19T09:25:51.767Z"
   },
   {
    "duration": 979,
    "start_time": "2022-03-19T09:26:13.353Z"
   },
   {
    "duration": 969,
    "start_time": "2022-03-19T09:26:14.429Z"
   },
   {
    "duration": 34856,
    "start_time": "2022-03-19T09:26:15.402Z"
   },
   {
    "duration": 22691,
    "start_time": "2022-03-19T09:26:50.261Z"
   },
   {
    "duration": 1749,
    "start_time": "2022-03-19T09:27:12.954Z"
   },
   {
    "duration": 2396,
    "start_time": "2022-03-19T09:27:14.706Z"
   },
   {
    "duration": 4,
    "start_time": "2022-03-19T09:28:59.678Z"
   },
   {
    "duration": 30,
    "start_time": "2022-03-19T09:29:00.921Z"
   },
   {
    "duration": 68,
    "start_time": "2022-03-19T10:38:21.537Z"
   },
   {
    "duration": 2232,
    "start_time": "2022-03-19T10:38:26.623Z"
   },
   {
    "duration": 834,
    "start_time": "2022-03-19T10:38:28.857Z"
   },
   {
    "duration": 190,
    "start_time": "2022-03-19T10:38:29.693Z"
   },
   {
    "duration": 60,
    "start_time": "2022-03-19T10:38:29.886Z"
   },
   {
    "duration": 480,
    "start_time": "2022-03-19T10:38:29.947Z"
   },
   {
    "duration": 53,
    "start_time": "2022-03-19T10:38:30.429Z"
   },
   {
    "duration": 5,
    "start_time": "2022-03-19T10:38:30.485Z"
   },
   {
    "duration": 25,
    "start_time": "2022-03-19T10:38:30.492Z"
   },
   {
    "duration": 41,
    "start_time": "2022-03-19T10:38:30.998Z"
   },
   {
    "duration": 18,
    "start_time": "2022-03-19T10:38:32.518Z"
   },
   {
    "duration": 9,
    "start_time": "2022-03-19T10:38:32.845Z"
   },
   {
    "duration": 5,
    "start_time": "2022-03-19T10:38:33.157Z"
   },
   {
    "duration": 41,
    "start_time": "2022-03-19T10:38:33.894Z"
   },
   {
    "duration": 13,
    "start_time": "2022-03-19T10:38:35.686Z"
   },
   {
    "duration": 2735,
    "start_time": "2022-03-19T12:14:53.043Z"
   },
   {
    "duration": 832,
    "start_time": "2022-03-19T12:14:55.782Z"
   },
   {
    "duration": 186,
    "start_time": "2022-03-19T12:14:56.616Z"
   },
   {
    "duration": 77,
    "start_time": "2022-03-19T12:14:56.805Z"
   },
   {
    "duration": 474,
    "start_time": "2022-03-19T12:14:56.884Z"
   },
   {
    "duration": 27,
    "start_time": "2022-03-19T12:14:57.383Z"
   },
   {
    "duration": 6,
    "start_time": "2022-03-19T12:14:57.967Z"
   },
   {
    "duration": 12,
    "start_time": "2022-03-19T12:14:58.552Z"
   },
   {
    "duration": 64,
    "start_time": "2022-03-19T12:15:00.206Z"
   },
   {
    "duration": 23,
    "start_time": "2022-03-19T12:15:02.054Z"
   },
   {
    "duration": 9,
    "start_time": "2022-03-19T12:15:02.742Z"
   },
   {
    "duration": 6,
    "start_time": "2022-03-19T12:15:03.296Z"
   },
   {
    "duration": 45,
    "start_time": "2022-03-19T12:15:03.907Z"
   },
   {
    "duration": 13,
    "start_time": "2022-03-19T12:16:50.977Z"
   },
   {
    "duration": 13,
    "start_time": "2022-03-19T12:21:14.885Z"
   },
   {
    "duration": 13,
    "start_time": "2022-03-19T12:23:41.989Z"
   },
   {
    "duration": 13,
    "start_time": "2022-03-19T12:24:18.692Z"
   },
   {
    "duration": 13,
    "start_time": "2022-03-19T12:24:57.675Z"
   },
   {
    "duration": 14,
    "start_time": "2022-03-19T12:26:14.075Z"
   },
   {
    "duration": 12,
    "start_time": "2022-03-19T12:26:26.681Z"
   },
   {
    "duration": 12,
    "start_time": "2022-03-19T12:26:39.835Z"
   },
   {
    "duration": 151,
    "start_time": "2022-03-19T12:37:51.358Z"
   },
   {
    "duration": 202,
    "start_time": "2022-03-19T12:38:00.459Z"
   },
   {
    "duration": 35,
    "start_time": "2022-03-19T12:43:10.292Z"
   },
   {
    "duration": 16,
    "start_time": "2022-03-19T12:45:54.440Z"
   },
   {
    "duration": 20,
    "start_time": "2022-03-19T12:46:55.446Z"
   },
   {
    "duration": 17,
    "start_time": "2022-03-19T12:47:03.396Z"
   },
   {
    "duration": 17,
    "start_time": "2022-03-19T12:48:00.478Z"
   },
   {
    "duration": 3032,
    "start_time": "2022-03-19T12:48:32.501Z"
   },
   {
    "duration": 13,
    "start_time": "2022-03-19T12:49:22.750Z"
   },
   {
    "duration": 14,
    "start_time": "2022-03-19T12:50:50.906Z"
   },
   {
    "duration": 15,
    "start_time": "2022-03-19T12:50:59.693Z"
   },
   {
    "duration": 16,
    "start_time": "2022-03-19T12:51:13.378Z"
   },
   {
    "duration": 17,
    "start_time": "2022-03-19T12:51:30.946Z"
   },
   {
    "duration": 13,
    "start_time": "2022-03-19T12:51:36.841Z"
   },
   {
    "duration": 24,
    "start_time": "2022-03-19T12:52:42.716Z"
   },
   {
    "duration": 16,
    "start_time": "2022-03-19T12:53:31.457Z"
   },
   {
    "duration": 23,
    "start_time": "2022-03-19T12:53:42.207Z"
   },
   {
    "duration": 19,
    "start_time": "2022-03-19T12:53:42.500Z"
   },
   {
    "duration": 14,
    "start_time": "2022-03-19T12:54:00.224Z"
   },
   {
    "duration": 643,
    "start_time": "2022-03-19T12:54:47.072Z"
   },
   {
    "duration": 543,
    "start_time": "2022-03-19T12:55:46.439Z"
   },
   {
    "duration": 624,
    "start_time": "2022-03-19T12:56:26.904Z"
   },
   {
    "duration": 370,
    "start_time": "2022-03-19T12:56:54.024Z"
   },
   {
    "duration": 360,
    "start_time": "2022-03-19T12:57:20.807Z"
   },
   {
    "duration": 20,
    "start_time": "2022-03-19T13:01:18.940Z"
   },
   {
    "duration": 364,
    "start_time": "2022-03-19T13:01:22.754Z"
   },
   {
    "duration": 361,
    "start_time": "2022-03-19T13:01:45.129Z"
   },
   {
    "duration": 386,
    "start_time": "2022-03-19T13:01:53.553Z"
   },
   {
    "duration": 356,
    "start_time": "2022-03-19T13:02:25.334Z"
   },
   {
    "duration": 2134,
    "start_time": "2022-03-19T13:02:36.584Z"
   },
   {
    "duration": 860,
    "start_time": "2022-03-19T13:02:38.721Z"
   },
   {
    "duration": 202,
    "start_time": "2022-03-19T13:02:39.583Z"
   },
   {
    "duration": 61,
    "start_time": "2022-03-19T13:02:39.788Z"
   },
   {
    "duration": 570,
    "start_time": "2022-03-19T13:02:39.851Z"
   },
   {
    "duration": 31,
    "start_time": "2022-03-19T13:02:40.424Z"
   },
   {
    "duration": 28,
    "start_time": "2022-03-19T13:02:40.459Z"
   },
   {
    "duration": 30,
    "start_time": "2022-03-19T13:02:40.490Z"
   },
   {
    "duration": 43,
    "start_time": "2022-03-19T13:02:43.116Z"
   },
   {
    "duration": 18,
    "start_time": "2022-03-19T13:02:44.578Z"
   },
   {
    "duration": 8,
    "start_time": "2022-03-19T13:02:44.914Z"
   },
   {
    "duration": 5,
    "start_time": "2022-03-19T13:02:45.227Z"
   },
   {
    "duration": 40,
    "start_time": "2022-03-19T13:02:45.581Z"
   },
   {
    "duration": 17,
    "start_time": "2022-03-19T13:02:48.488Z"
   },
   {
    "duration": 375,
    "start_time": "2022-03-19T13:02:49.212Z"
   },
   {
    "duration": 366,
    "start_time": "2022-03-19T13:03:41.338Z"
   },
   {
    "duration": 368,
    "start_time": "2022-03-19T13:03:44.742Z"
   },
   {
    "duration": 18,
    "start_time": "2022-03-19T13:03:48.121Z"
   },
   {
    "duration": 449,
    "start_time": "2022-03-19T13:03:48.402Z"
   },
   {
    "duration": 369,
    "start_time": "2022-03-19T13:04:10.155Z"
   },
   {
    "duration": 370,
    "start_time": "2022-03-19T13:06:13.560Z"
   },
   {
    "duration": 20,
    "start_time": "2022-03-19T13:10:51.511Z"
   },
   {
    "duration": 20,
    "start_time": "2022-03-19T13:11:46.339Z"
   },
   {
    "duration": 184,
    "start_time": "2022-03-19T13:14:58.471Z"
   },
   {
    "duration": 29,
    "start_time": "2022-03-19T13:15:25.068Z"
   },
   {
    "duration": 145,
    "start_time": "2022-03-19T13:19:13.425Z"
   },
   {
    "duration": 20,
    "start_time": "2022-03-19T13:19:32.853Z"
   },
   {
    "duration": 508,
    "start_time": "2022-03-19T13:19:39.239Z"
   },
   {
    "duration": 386,
    "start_time": "2022-03-19T13:19:53.669Z"
   },
   {
    "duration": 367,
    "start_time": "2022-03-19T13:20:43.418Z"
   },
   {
    "duration": 21,
    "start_time": "2022-03-19T13:22:52.164Z"
   },
   {
    "duration": 4433,
    "start_time": "2022-03-19T13:22:58.552Z"
   },
   {
    "duration": 5302,
    "start_time": "2022-03-19T13:23:24.108Z"
   },
   {
    "duration": 12,
    "start_time": "2022-03-19T13:23:56.375Z"
   },
   {
    "duration": 2895,
    "start_time": "2022-03-19T13:24:21.335Z"
   },
   {
    "duration": 482,
    "start_time": "2022-03-19T13:24:40.152Z"
   },
   {
    "duration": 14,
    "start_time": "2022-03-19T13:28:32.143Z"
   },
   {
    "duration": 427,
    "start_time": "2022-03-19T13:28:42.411Z"
   },
   {
    "duration": 328,
    "start_time": "2022-03-19T13:29:28.962Z"
   },
   {
    "duration": 333,
    "start_time": "2022-03-19T13:31:40.514Z"
   },
   {
    "duration": 342,
    "start_time": "2022-03-19T13:32:54.658Z"
   },
   {
    "duration": 329,
    "start_time": "2022-03-19T13:34:22.873Z"
   },
   {
    "duration": 351,
    "start_time": "2022-03-19T13:34:47.104Z"
   },
   {
    "duration": 345,
    "start_time": "2022-03-19T14:03:25.454Z"
   },
   {
    "duration": 2046,
    "start_time": "2022-03-19T14:03:52.759Z"
   },
   {
    "duration": 837,
    "start_time": "2022-03-19T14:03:54.808Z"
   },
   {
    "duration": 178,
    "start_time": "2022-03-19T14:03:55.648Z"
   },
   {
    "duration": 86,
    "start_time": "2022-03-19T14:03:55.830Z"
   },
   {
    "duration": 464,
    "start_time": "2022-03-19T14:03:55.918Z"
   },
   {
    "duration": 24,
    "start_time": "2022-03-19T14:03:56.553Z"
   },
   {
    "duration": 5,
    "start_time": "2022-03-19T14:03:57.330Z"
   },
   {
    "duration": 14,
    "start_time": "2022-03-19T14:03:57.707Z"
   },
   {
    "duration": 39,
    "start_time": "2022-03-19T14:03:58.846Z"
   },
   {
    "duration": 18,
    "start_time": "2022-03-19T14:04:00.063Z"
   },
   {
    "duration": 9,
    "start_time": "2022-03-19T14:04:00.378Z"
   },
   {
    "duration": 7,
    "start_time": "2022-03-19T14:04:00.786Z"
   },
   {
    "duration": 45,
    "start_time": "2022-03-19T14:04:01.363Z"
   },
   {
    "duration": 19,
    "start_time": "2022-03-19T14:04:04.350Z"
   },
   {
    "duration": 398,
    "start_time": "2022-03-19T14:04:05.147Z"
   },
   {
    "duration": 15,
    "start_time": "2022-03-19T14:04:37.631Z"
   },
   {
    "duration": 9,
    "start_time": "2022-03-19T14:04:38.018Z"
   },
   {
    "duration": 6,
    "start_time": "2022-03-19T14:04:38.126Z"
   },
   {
    "duration": 43,
    "start_time": "2022-03-19T14:04:38.309Z"
   },
   {
    "duration": 17,
    "start_time": "2022-03-19T14:04:39.601Z"
   },
   {
    "duration": 333,
    "start_time": "2022-03-19T14:04:41.117Z"
   },
   {
    "duration": 326,
    "start_time": "2022-03-19T14:10:48.981Z"
   },
   {
    "duration": 243,
    "start_time": "2022-03-19T14:10:58.418Z"
   },
   {
    "duration": 2378,
    "start_time": "2022-03-19T14:15:11.656Z"
   },
   {
    "duration": 877,
    "start_time": "2022-03-19T14:15:14.038Z"
   },
   {
    "duration": 195,
    "start_time": "2022-03-19T14:15:14.917Z"
   },
   {
    "duration": 85,
    "start_time": "2022-03-19T14:15:15.117Z"
   },
   {
    "duration": 479,
    "start_time": "2022-03-19T14:15:15.205Z"
   },
   {
    "duration": 25,
    "start_time": "2022-03-19T14:15:15.687Z"
   },
   {
    "duration": 5,
    "start_time": "2022-03-19T14:15:15.714Z"
   },
   {
    "duration": 17,
    "start_time": "2022-03-19T14:15:15.722Z"
   },
   {
    "duration": 63,
    "start_time": "2022-03-19T14:15:16.352Z"
   },
   {
    "duration": 17,
    "start_time": "2022-03-19T14:15:18.125Z"
   },
   {
    "duration": 8,
    "start_time": "2022-03-19T14:15:18.544Z"
   },
   {
    "duration": 6,
    "start_time": "2022-03-19T14:15:18.943Z"
   },
   {
    "duration": 42,
    "start_time": "2022-03-19T14:15:19.487Z"
   },
   {
    "duration": 16,
    "start_time": "2022-03-19T14:15:21.299Z"
   },
   {
    "duration": 358,
    "start_time": "2022-03-19T14:15:22.075Z"
   },
   {
    "duration": 230,
    "start_time": "2022-03-19T14:15:26.681Z"
   },
   {
    "duration": 7,
    "start_time": "2022-03-19T14:15:29.617Z"
   },
   {
    "duration": 981,
    "start_time": "2022-03-19T14:15:32.259Z"
   },
   {
    "duration": 40,
    "start_time": "2022-03-19T14:15:34.432Z"
   },
   {
    "duration": 935,
    "start_time": "2022-03-19T14:15:35.136Z"
   },
   {
    "duration": 28,
    "start_time": "2022-03-19T14:19:17.209Z"
   },
   {
    "duration": 928,
    "start_time": "2022-03-19T14:19:17.677Z"
   },
   {
    "duration": 10,
    "start_time": "2022-03-19T14:19:18.687Z"
   },
   {
    "duration": 33,
    "start_time": "2022-03-19T14:19:19.920Z"
   },
   {
    "duration": 6,
    "start_time": "2022-03-19T14:19:20.471Z"
   },
   {
    "duration": 1136,
    "start_time": "2022-03-19T14:19:21.367Z"
   },
   {
    "duration": 1076,
    "start_time": "2022-03-19T14:19:22.506Z"
   },
   {
    "duration": 37661,
    "start_time": "2022-03-19T14:19:23.585Z"
   },
   {
    "duration": 25581,
    "start_time": "2022-03-19T14:20:01.249Z"
   },
   {
    "duration": 1850,
    "start_time": "2022-03-19T14:20:26.833Z"
   },
   {
    "duration": 1999,
    "start_time": "2022-03-19T14:20:28.686Z"
   },
   {
    "duration": 31,
    "start_time": "2022-03-19T14:23:57.858Z"
   },
   {
    "duration": 894,
    "start_time": "2022-03-19T14:23:58.411Z"
   },
   {
    "duration": 10,
    "start_time": "2022-03-19T14:24:01.746Z"
   },
   {
    "duration": 33,
    "start_time": "2022-03-19T14:24:02.939Z"
   },
   {
    "duration": 6,
    "start_time": "2022-03-19T14:24:03.451Z"
   },
   {
    "duration": 1100,
    "start_time": "2022-03-19T14:24:04.707Z"
   },
   {
    "duration": 1077,
    "start_time": "2022-03-19T14:24:05.809Z"
   },
   {
    "duration": 37778,
    "start_time": "2022-03-19T14:24:06.888Z"
   },
   {
    "duration": 28013,
    "start_time": "2022-03-19T14:24:44.669Z"
   },
   {
    "duration": 2508,
    "start_time": "2022-03-19T14:25:12.684Z"
   },
   {
    "duration": 1691,
    "start_time": "2022-03-19T14:25:15.195Z"
   },
   {
    "duration": 9,
    "start_time": "2022-03-19T14:36:48.072Z"
   },
   {
    "duration": 171,
    "start_time": "2022-03-19T14:37:32.002Z"
   },
   {
    "duration": 6,
    "start_time": "2022-03-19T14:41:01.175Z"
   },
   {
    "duration": 152,
    "start_time": "2022-03-19T14:42:16.487Z"
   },
   {
    "duration": 13,
    "start_time": "2022-03-19T14:43:46.015Z"
   },
   {
    "duration": 21,
    "start_time": "2022-03-19T14:45:21.086Z"
   },
   {
    "duration": 32,
    "start_time": "2022-03-19T14:47:41.901Z"
   },
   {
    "duration": 6,
    "start_time": "2022-03-19T14:47:43.172Z"
   },
   {
    "duration": 17,
    "start_time": "2022-03-19T14:47:49.636Z"
   },
   {
    "duration": 14,
    "start_time": "2022-03-19T14:47:56.139Z"
   },
   {
    "duration": 14,
    "start_time": "2022-03-19T14:48:04.384Z"
   },
   {
    "duration": 27,
    "start_time": "2022-03-19T14:48:29.157Z"
   },
   {
    "duration": 27,
    "start_time": "2022-03-19T14:50:57.583Z"
   },
   {
    "duration": 6,
    "start_time": "2022-03-19T14:51:17.051Z"
   },
   {
    "duration": 842,
    "start_time": "2022-03-19T14:51:17.228Z"
   },
   {
    "duration": 169,
    "start_time": "2022-03-19T14:51:18.072Z"
   },
   {
    "duration": 82,
    "start_time": "2022-03-19T14:51:18.244Z"
   },
   {
    "duration": 448,
    "start_time": "2022-03-19T14:51:18.454Z"
   },
   {
    "duration": 19,
    "start_time": "2022-03-19T14:51:19.107Z"
   },
   {
    "duration": 6,
    "start_time": "2022-03-19T14:51:19.653Z"
   },
   {
    "duration": 12,
    "start_time": "2022-03-19T14:51:19.906Z"
   },
   {
    "duration": 42,
    "start_time": "2022-03-19T14:51:20.631Z"
   },
   {
    "duration": 17,
    "start_time": "2022-03-19T14:51:21.435Z"
   },
   {
    "duration": 7,
    "start_time": "2022-03-19T14:51:21.712Z"
   },
   {
    "duration": 6,
    "start_time": "2022-03-19T14:51:22.025Z"
   },
   {
    "duration": 41,
    "start_time": "2022-03-19T14:51:22.322Z"
   },
   {
    "duration": 18,
    "start_time": "2022-03-19T14:51:23.305Z"
   },
   {
    "duration": 328,
    "start_time": "2022-03-19T14:51:23.945Z"
   },
   {
    "duration": 227,
    "start_time": "2022-03-19T14:51:26.532Z"
   },
   {
    "duration": 5,
    "start_time": "2022-03-19T14:51:29.139Z"
   },
   {
    "duration": 908,
    "start_time": "2022-03-19T14:51:30.075Z"
   },
   {
    "duration": 37,
    "start_time": "2022-03-19T14:51:31.763Z"
   },
   {
    "duration": 912,
    "start_time": "2022-03-19T14:51:32.427Z"
   },
   {
    "duration": 11,
    "start_time": "2022-03-19T14:51:34.521Z"
   },
   {
    "duration": 32,
    "start_time": "2022-03-19T14:51:35.683Z"
   },
   {
    "duration": 5,
    "start_time": "2022-03-19T14:51:36.290Z"
   },
   {
    "duration": 27,
    "start_time": "2022-03-19T14:51:37.712Z"
   },
   {
    "duration": 15,
    "start_time": "2022-03-19T14:51:38.267Z"
   },
   {
    "duration": 8,
    "start_time": "2022-03-19T14:51:38.811Z"
   },
   {
    "duration": 9,
    "start_time": "2022-03-19T14:53:08.587Z"
   },
   {
    "duration": 14,
    "start_time": "2022-03-19T14:55:09.622Z"
   },
   {
    "duration": 15,
    "start_time": "2022-03-19T14:55:20.548Z"
   },
   {
    "duration": 4352,
    "start_time": "2022-03-19T14:56:33.645Z"
   },
   {
    "duration": 537640,
    "start_time": "2022-03-19T14:57:35.762Z"
   },
   {
    "duration": 2069,
    "start_time": "2022-03-19T15:17:23.141Z"
   },
   {
    "duration": 862,
    "start_time": "2022-03-19T15:17:25.212Z"
   },
   {
    "duration": 182,
    "start_time": "2022-03-19T15:17:26.077Z"
   },
   {
    "duration": 61,
    "start_time": "2022-03-19T15:17:26.281Z"
   },
   {
    "duration": 483,
    "start_time": "2022-03-19T15:17:26.344Z"
   },
   {
    "duration": 53,
    "start_time": "2022-03-19T15:17:26.830Z"
   },
   {
    "duration": 6,
    "start_time": "2022-03-19T15:17:27.441Z"
   },
   {
    "duration": 11,
    "start_time": "2022-03-19T15:17:27.802Z"
   },
   {
    "duration": 42,
    "start_time": "2022-03-19T15:17:28.856Z"
   },
   {
    "duration": 18,
    "start_time": "2022-03-19T15:17:29.785Z"
   },
   {
    "duration": 8,
    "start_time": "2022-03-19T15:17:30.082Z"
   },
   {
    "duration": 7,
    "start_time": "2022-03-19T15:17:30.387Z"
   },
   {
    "duration": 44,
    "start_time": "2022-03-19T15:17:30.816Z"
   },
   {
    "duration": 27,
    "start_time": "2022-03-19T15:17:32.418Z"
   },
   {
    "duration": 367,
    "start_time": "2022-03-19T15:17:32.858Z"
   },
   {
    "duration": 240,
    "start_time": "2022-03-19T15:17:35.049Z"
   },
   {
    "duration": 5,
    "start_time": "2022-03-19T15:17:37.873Z"
   },
   {
    "duration": 1017,
    "start_time": "2022-03-19T15:17:38.512Z"
   },
   {
    "duration": 41,
    "start_time": "2022-03-19T15:17:39.986Z"
   },
   {
    "duration": 915,
    "start_time": "2022-03-19T15:17:40.401Z"
   },
   {
    "duration": 12,
    "start_time": "2022-03-19T15:17:42.301Z"
   },
   {
    "duration": 32,
    "start_time": "2022-03-19T15:17:43.561Z"
   },
   {
    "duration": 6,
    "start_time": "2022-03-19T15:17:44.568Z"
   },
   {
    "duration": 9,
    "start_time": "2022-03-19T15:17:45.407Z"
   },
   {
    "duration": 642065,
    "start_time": "2022-03-19T15:17:45.923Z"
   },
   {
    "duration": 5,
    "start_time": "2022-03-19T16:16:10.713Z"
   },
   {
    "duration": 2178,
    "start_time": "2022-03-19T16:17:31.301Z"
   },
   {
    "duration": 868,
    "start_time": "2022-03-19T16:17:33.483Z"
   },
   {
    "duration": 176,
    "start_time": "2022-03-19T16:17:35.108Z"
   },
   {
    "duration": 59,
    "start_time": "2022-03-19T16:17:37.025Z"
   },
   {
    "duration": 456,
    "start_time": "2022-03-19T16:17:37.905Z"
   },
   {
    "duration": 25,
    "start_time": "2022-03-19T16:17:40.193Z"
   },
   {
    "duration": 5,
    "start_time": "2022-03-19T16:17:41.537Z"
   },
   {
    "duration": 13,
    "start_time": "2022-03-19T16:17:42.489Z"
   },
   {
    "duration": 41,
    "start_time": "2022-03-19T16:17:44.720Z"
   },
   {
    "duration": 21,
    "start_time": "2022-03-19T16:17:46.938Z"
   },
   {
    "duration": 8,
    "start_time": "2022-03-19T16:17:47.513Z"
   },
   {
    "duration": 6,
    "start_time": "2022-03-19T16:17:48.016Z"
   },
   {
    "duration": 43,
    "start_time": "2022-03-19T16:17:48.688Z"
   },
   {
    "duration": 18,
    "start_time": "2022-03-19T16:17:52.187Z"
   },
   {
    "duration": 362,
    "start_time": "2022-03-19T16:17:53.128Z"
   },
   {
    "duration": 225,
    "start_time": "2022-03-19T16:17:55.632Z"
   },
   {
    "duration": 6,
    "start_time": "2022-03-19T16:17:58.424Z"
   },
   {
    "duration": 951,
    "start_time": "2022-03-19T16:17:59.176Z"
   },
   {
    "duration": 42,
    "start_time": "2022-03-19T16:18:02.192Z"
   },
   {
    "duration": 962,
    "start_time": "2022-03-19T16:18:03.105Z"
   },
   {
    "duration": 10,
    "start_time": "2022-03-19T16:18:05.560Z"
   },
   {
    "duration": 31,
    "start_time": "2022-03-19T16:18:07.145Z"
   },
   {
    "duration": 6,
    "start_time": "2022-03-19T16:18:07.864Z"
   },
   {
    "duration": 9,
    "start_time": "2022-03-19T16:18:09.674Z"
   },
   {
    "duration": 554991,
    "start_time": "2022-03-19T16:18:11.091Z"
   },
   {
    "duration": 6,
    "start_time": "2022-03-19T16:27:26.085Z"
   },
   {
    "duration": 150,
    "start_time": "2022-03-19T16:56:43.240Z"
   },
   {
    "duration": 16,
    "start_time": "2022-03-19T16:57:13.951Z"
   },
   {
    "duration": 15,
    "start_time": "2022-03-19T17:03:31.914Z"
   },
   {
    "duration": 28,
    "start_time": "2022-03-19T17:03:40.373Z"
   },
   {
    "duration": 8,
    "start_time": "2022-03-19T17:03:51.378Z"
   },
   {
    "duration": 5,
    "start_time": "2022-03-19T17:06:40.026Z"
   },
   {
    "duration": 4,
    "start_time": "2022-03-19T17:06:46.610Z"
   },
   {
    "duration": 4,
    "start_time": "2022-03-19T17:06:54.616Z"
   },
   {
    "duration": 5,
    "start_time": "2022-03-19T17:07:32.130Z"
   },
   {
    "duration": 7,
    "start_time": "2022-03-19T17:09:09.169Z"
   },
   {
    "duration": 13,
    "start_time": "2022-03-19T17:09:25.679Z"
   },
   {
    "duration": 6,
    "start_time": "2022-03-19T17:09:44.769Z"
   },
   {
    "duration": 6,
    "start_time": "2022-03-19T17:11:02.238Z"
   },
   {
    "duration": 23,
    "start_time": "2022-03-19T17:15:27.115Z"
   },
   {
    "duration": 22,
    "start_time": "2022-03-19T17:16:11.193Z"
   },
   {
    "duration": 2131,
    "start_time": "2022-03-19T17:18:02.265Z"
   },
   {
    "duration": 867,
    "start_time": "2022-03-19T17:18:04.399Z"
   },
   {
    "duration": 173,
    "start_time": "2022-03-19T17:18:05.268Z"
   },
   {
    "duration": 81,
    "start_time": "2022-03-19T17:18:05.444Z"
   },
   {
    "duration": 471,
    "start_time": "2022-03-19T17:18:05.527Z"
   },
   {
    "duration": 25,
    "start_time": "2022-03-19T17:18:06.001Z"
   },
   {
    "duration": 5,
    "start_time": "2022-03-19T17:18:06.389Z"
   },
   {
    "duration": 13,
    "start_time": "2022-03-19T17:18:06.815Z"
   },
   {
    "duration": 43,
    "start_time": "2022-03-19T17:18:07.957Z"
   },
   {
    "duration": 18,
    "start_time": "2022-03-19T17:18:09.106Z"
   },
   {
    "duration": 8,
    "start_time": "2022-03-19T17:18:09.429Z"
   },
   {
    "duration": 6,
    "start_time": "2022-03-19T17:18:09.756Z"
   },
   {
    "duration": 44,
    "start_time": "2022-03-19T17:18:10.062Z"
   },
   {
    "duration": 16,
    "start_time": "2022-03-19T17:18:11.346Z"
   },
   {
    "duration": 353,
    "start_time": "2022-03-19T17:18:11.829Z"
   },
   {
    "duration": 227,
    "start_time": "2022-03-19T17:18:13.624Z"
   },
   {
    "duration": 5,
    "start_time": "2022-03-19T17:18:15.829Z"
   },
   {
    "duration": 966,
    "start_time": "2022-03-19T17:18:16.316Z"
   },
   {
    "duration": 40,
    "start_time": "2022-03-19T17:18:17.675Z"
   },
   {
    "duration": 878,
    "start_time": "2022-03-19T17:18:18.128Z"
   },
   {
    "duration": 10,
    "start_time": "2022-03-19T17:18:19.612Z"
   },
   {
    "duration": 33,
    "start_time": "2022-03-19T17:18:20.837Z"
   },
   {
    "duration": 6,
    "start_time": "2022-03-19T17:18:21.292Z"
   },
   {
    "duration": 10,
    "start_time": "2022-03-19T17:18:22.316Z"
   },
   {
    "duration": 512608,
    "start_time": "2022-03-19T17:18:22.881Z"
   },
   {
    "duration": 91,
    "start_time": "2022-03-19T17:26:55.493Z"
   },
   {
    "duration": 0,
    "start_time": "2022-03-19T17:26:55.826Z"
   },
   {
    "duration": 14,
    "start_time": "2022-03-19T17:34:46.405Z"
   },
   {
    "duration": 24,
    "start_time": "2022-03-19T17:35:27.020Z"
   },
   {
    "duration": 14,
    "start_time": "2022-03-19T17:38:21.572Z"
   },
   {
    "duration": 13,
    "start_time": "2022-03-19T17:42:31.308Z"
   },
   {
    "duration": 1439,
    "start_time": "2022-03-19T17:43:02.149Z"
   },
   {
    "duration": 1291,
    "start_time": "2022-03-19T17:43:21.492Z"
   },
   {
    "duration": 2835,
    "start_time": "2022-03-19T17:44:26.347Z"
   }
  ],
  "kernelspec": {
   "display_name": "Python 3 (ipykernel)",
   "language": "python",
   "name": "python3"
  },
  "language_info": {
   "codemirror_mode": {
    "name": "ipython",
    "version": 3
   },
   "file_extension": ".py",
   "mimetype": "text/x-python",
   "name": "python",
   "nbconvert_exporter": "python",
   "pygments_lexer": "ipython3",
   "version": "3.10.1"
  },
  "toc": {
   "base_numbering": 1,
   "nav_menu": {},
   "number_sections": true,
   "sideBar": true,
   "skip_h1_title": true,
   "title_cell": "Содержание",
   "title_sidebar": "Contents",
   "toc_cell": true,
   "toc_position": {},
   "toc_section_display": true,
   "toc_window_display": true
  }
 },
 "nbformat": 4,
 "nbformat_minor": 2
}
