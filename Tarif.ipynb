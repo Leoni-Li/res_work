{
 "cells": [
  {
   "cell_type": "markdown",
   "metadata": {},
   "source": [
    "<div class=\"alert alert-info\"> <b> 1. Общая информация по данным!</b></div>"
   ]
  },
  {
   "cell_type": "code",
   "execution_count": 1,
   "metadata": {},
   "outputs": [],
   "source": [
    "# Импортируем необходиммые библиотеки\n",
    "import pandas as pd\n",
    "import numpy as np\n",
    "import matplotlib.pyplot as plt\n",
    "import seaborn as sns\n",
    "from scipy import stats as st \n",
    "import math"
   ]
  },
  {
   "cell_type": "code",
   "execution_count": 2,
   "metadata": {},
   "outputs": [
    {
     "name": "stdout",
     "output_type": "stream",
     "text": [
      "<class 'pandas.core.frame.DataFrame'>\n",
      "RangeIndex: 202607 entries, 0 to 202606\n",
      "Data columns (total 5 columns):\n",
      " #   Column     Non-Null Count   Dtype         \n",
      "---  ------     --------------   -----         \n",
      " 0   id         202607 non-null  object        \n",
      " 1   call_date  202607 non-null  datetime64[ns]\n",
      " 2   duration   202607 non-null  float64       \n",
      " 3   user_id    202607 non-null  int64         \n",
      " 4   month      202607 non-null  int64         \n",
      "dtypes: datetime64[ns](1), float64(1), int64(2), object(1)\n",
      "memory usage: 7.7+ MB\n"
     ]
    },
    {
     "data": {
      "text/plain": [
       "id           0\n",
       "call_date    0\n",
       "duration     0\n",
       "user_id      0\n",
       "month        0\n",
       "dtype: int64"
      ]
     },
     "metadata": {},
     "output_type": "display_data"
    },
    {
     "name": "stdout",
     "output_type": "stream",
     "text": [
      "<class 'pandas.core.frame.DataFrame'>\n",
      "RangeIndex: 149396 entries, 0 to 149395\n",
      "Data columns (total 6 columns):\n",
      " #   Column        Non-Null Count   Dtype         \n",
      "---  ------        --------------   -----         \n",
      " 0   Unnamed: 0    149396 non-null  int64         \n",
      " 1   id            149396 non-null  object        \n",
      " 2   mb_used       149396 non-null  float64       \n",
      " 3   session_date  149396 non-null  datetime64[ns]\n",
      " 4   user_id       149396 non-null  int64         \n",
      " 5   month         149396 non-null  int64         \n",
      "dtypes: datetime64[ns](1), float64(1), int64(3), object(1)\n",
      "memory usage: 6.8+ MB\n"
     ]
    },
    {
     "data": {
      "text/plain": [
       "Unnamed: 0      0\n",
       "id              0\n",
       "mb_used         0\n",
       "session_date    0\n",
       "user_id         0\n",
       "month           0\n",
       "dtype: int64"
      ]
     },
     "metadata": {},
     "output_type": "display_data"
    },
    {
     "name": "stdout",
     "output_type": "stream",
     "text": [
      "<class 'pandas.core.frame.DataFrame'>\n",
      "RangeIndex: 123036 entries, 0 to 123035\n",
      "Data columns (total 4 columns):\n",
      " #   Column        Non-Null Count   Dtype         \n",
      "---  ------        --------------   -----         \n",
      " 0   id            123036 non-null  object        \n",
      " 1   message_date  123036 non-null  datetime64[ns]\n",
      " 2   user_id       123036 non-null  int64         \n",
      " 3   month         123036 non-null  int64         \n",
      "dtypes: datetime64[ns](1), int64(2), object(1)\n",
      "memory usage: 3.8+ MB\n"
     ]
    },
    {
     "data": {
      "text/plain": [
       "id              0\n",
       "message_date    0\n",
       "user_id         0\n",
       "month           0\n",
       "dtype: int64"
      ]
     },
     "metadata": {},
     "output_type": "display_data"
    },
    {
     "name": "stdout",
     "output_type": "stream",
     "text": [
      "<class 'pandas.core.frame.DataFrame'>\n",
      "RangeIndex: 500 entries, 0 to 499\n",
      "Data columns (total 9 columns):\n",
      " #   Column      Non-Null Count  Dtype         \n",
      "---  ------      --------------  -----         \n",
      " 0   user_id     500 non-null    int64         \n",
      " 1   age         500 non-null    int64         \n",
      " 2   churn_date  38 non-null     object        \n",
      " 3   city        500 non-null    object        \n",
      " 4   first_name  500 non-null    object        \n",
      " 5   last_name   500 non-null    object        \n",
      " 6   reg_date    500 non-null    datetime64[ns]\n",
      " 7   tariff      500 non-null    object        \n",
      " 8   month       500 non-null    int64         \n",
      "dtypes: datetime64[ns](1), int64(3), object(5)\n",
      "memory usage: 35.3+ KB\n"
     ]
    },
    {
     "data": {
      "text/plain": [
       "user_id         0\n",
       "age             0\n",
       "churn_date    462\n",
       "city            0\n",
       "first_name      0\n",
       "last_name       0\n",
       "reg_date        0\n",
       "tariff          0\n",
       "month           0\n",
       "dtype: int64"
      ]
     },
     "metadata": {},
     "output_type": "display_data"
    }
   ],
   "source": [
    "# Загружаем и изучаем данные\n",
    "data_call = pd.read_csv('/datasets/calls.csv', sep=',')\n",
    "data_call['call_date'] = pd.to_datetime(data_call['call_date'], format='%Y-%m-%dT%H:%M:%S')\n",
    "data_call['month'] = data_call['call_date'].dt.month\n",
    "data_call.info()\n",
    "display(data_call.isna().sum())\n",
    "\n",
    "data_inte = pd.read_csv('/datasets/internet.csv', sep=',')\n",
    "data_inte['session_date'] = pd.to_datetime(data_inte['session_date'], format='%Y-%m-%dT%H:%M:%S')\n",
    "data_inte['month'] = data_inte['session_date'].dt.month\n",
    "data_inte.info()\n",
    "display(data_inte.isna().sum())\n",
    "\n",
    "data_mess = pd.read_csv('/datasets/messages.csv', sep=',')\n",
    "data_mess['message_date'] = pd.to_datetime(data_mess['message_date'], format='%Y-%m-%dT%H:%M:%S')\n",
    "data_mess['month'] = data_mess['message_date'].dt.month\n",
    "data_mess.info()\n",
    "display(data_mess.isna().sum())\n",
    "\n",
    "data_tariffs = pd.read_csv('/datasets/tariffs.csv', sep=',')\n",
    "data_tariffs = data_tariffs.rename(columns={'tariff_name': 'tariff'})\n",
    "#display(data_tariffs)\n",
    "\n",
    "data_user = pd.read_csv('/datasets/users.csv', sep=',')\n",
    "data_user ['reg_date'] = pd.to_datetime(data_user ['reg_date'], format='%Y-%m-%dT%H:%M:%S')\n",
    "data_user ['month'] = data_user ['reg_date'].dt.month\n",
    "data_user .info()\n",
    "display(data_user .isna().sum())\n"
   ]
  },
  {
   "cell_type": "markdown",
   "metadata": {},
   "source": [
    "<div class=\"alert alert-info\"> <b> 2. Подготовка данных!</b></div>"
   ]
  },
  {
   "cell_type": "code",
   "execution_count": 3,
   "metadata": {},
   "outputs": [
    {
     "data": {
      "text/html": [
       "<div>\n",
       "<style scoped>\n",
       "    .dataframe tbody tr th:only-of-type {\n",
       "        vertical-align: middle;\n",
       "    }\n",
       "\n",
       "    .dataframe tbody tr th {\n",
       "        vertical-align: top;\n",
       "    }\n",
       "\n",
       "    .dataframe thead th {\n",
       "        text-align: right;\n",
       "    }\n",
       "</style>\n",
       "<table border=\"1\" class=\"dataframe\">\n",
       "  <thead>\n",
       "    <tr style=\"text-align: right;\">\n",
       "      <th></th>\n",
       "      <th>month</th>\n",
       "      <th>user_id</th>\n",
       "      <th>id</th>\n",
       "      <th>minut_sum</th>\n",
       "      <th>message</th>\n",
       "      <th>internet_mb</th>\n",
       "      <th>tariff</th>\n",
       "      <th>city</th>\n",
       "      <th>messages_included</th>\n",
       "      <th>mb_per_month_included</th>\n",
       "      <th>minutes_included</th>\n",
       "      <th>rub_monthly_fee</th>\n",
       "      <th>rub_per_gb</th>\n",
       "      <th>rub_per_message</th>\n",
       "      <th>rub_per_minute</th>\n",
       "    </tr>\n",
       "  </thead>\n",
       "  <tbody>\n",
       "    <tr>\n",
       "      <th>0</th>\n",
       "      <td>5.0</td>\n",
       "      <td>1000</td>\n",
       "      <td>22.0</td>\n",
       "      <td>159.0</td>\n",
       "      <td>22.0</td>\n",
       "      <td>5.0</td>\n",
       "      <td>ultra</td>\n",
       "      <td>Краснодар</td>\n",
       "      <td>1000</td>\n",
       "      <td>30720</td>\n",
       "      <td>3000</td>\n",
       "      <td>1950</td>\n",
       "      <td>150</td>\n",
       "      <td>1</td>\n",
       "      <td>1</td>\n",
       "    </tr>\n",
       "    <tr>\n",
       "      <th>1</th>\n",
       "      <td>6.0</td>\n",
       "      <td>1000</td>\n",
       "      <td>43.0</td>\n",
       "      <td>172.0</td>\n",
       "      <td>60.0</td>\n",
       "      <td>49.0</td>\n",
       "      <td>ultra</td>\n",
       "      <td>Краснодар</td>\n",
       "      <td>1000</td>\n",
       "      <td>30720</td>\n",
       "      <td>3000</td>\n",
       "      <td>1950</td>\n",
       "      <td>150</td>\n",
       "      <td>1</td>\n",
       "      <td>1</td>\n",
       "    </tr>\n",
       "    <tr>\n",
       "      <th>2</th>\n",
       "      <td>7.0</td>\n",
       "      <td>1000</td>\n",
       "      <td>47.0</td>\n",
       "      <td>340.0</td>\n",
       "      <td>75.0</td>\n",
       "      <td>29.0</td>\n",
       "      <td>ultra</td>\n",
       "      <td>Краснодар</td>\n",
       "      <td>1000</td>\n",
       "      <td>30720</td>\n",
       "      <td>3000</td>\n",
       "      <td>1950</td>\n",
       "      <td>150</td>\n",
       "      <td>1</td>\n",
       "      <td>1</td>\n",
       "    </tr>\n",
       "    <tr>\n",
       "      <th>3</th>\n",
       "      <td>8.0</td>\n",
       "      <td>1000</td>\n",
       "      <td>52.0</td>\n",
       "      <td>408.0</td>\n",
       "      <td>81.0</td>\n",
       "      <td>29.0</td>\n",
       "      <td>ultra</td>\n",
       "      <td>Краснодар</td>\n",
       "      <td>1000</td>\n",
       "      <td>30720</td>\n",
       "      <td>3000</td>\n",
       "      <td>1950</td>\n",
       "      <td>150</td>\n",
       "      <td>1</td>\n",
       "      <td>1</td>\n",
       "    </tr>\n",
       "    <tr>\n",
       "      <th>4</th>\n",
       "      <td>9.0</td>\n",
       "      <td>1000</td>\n",
       "      <td>58.0</td>\n",
       "      <td>466.0</td>\n",
       "      <td>57.0</td>\n",
       "      <td>27.0</td>\n",
       "      <td>ultra</td>\n",
       "      <td>Краснодар</td>\n",
       "      <td>1000</td>\n",
       "      <td>30720</td>\n",
       "      <td>3000</td>\n",
       "      <td>1950</td>\n",
       "      <td>150</td>\n",
       "      <td>1</td>\n",
       "      <td>1</td>\n",
       "    </tr>\n",
       "  </tbody>\n",
       "</table>\n",
       "</div>"
      ],
      "text/plain": [
       "   month  user_id    id  minut_sum  message  internet_mb tariff       city  \\\n",
       "0    5.0     1000  22.0      159.0     22.0          5.0  ultra  Краснодар   \n",
       "1    6.0     1000  43.0      172.0     60.0         49.0  ultra  Краснодар   \n",
       "2    7.0     1000  47.0      340.0     75.0         29.0  ultra  Краснодар   \n",
       "3    8.0     1000  52.0      408.0     81.0         29.0  ultra  Краснодар   \n",
       "4    9.0     1000  58.0      466.0     57.0         27.0  ultra  Краснодар   \n",
       "\n",
       "   messages_included  mb_per_month_included  minutes_included  \\\n",
       "0               1000                  30720              3000   \n",
       "1               1000                  30720              3000   \n",
       "2               1000                  30720              3000   \n",
       "3               1000                  30720              3000   \n",
       "4               1000                  30720              3000   \n",
       "\n",
       "   rub_monthly_fee  rub_per_gb  rub_per_message  rub_per_minute  \n",
       "0             1950         150                1               1  \n",
       "1             1950         150                1               1  \n",
       "2             1950         150                1               1  \n",
       "3             1950         150                1               1  \n",
       "4             1950         150                1               1  "
      ]
     },
     "metadata": {},
     "output_type": "display_data"
    },
    {
     "data": {
      "text/html": [
       "<div>\n",
       "<style scoped>\n",
       "    .dataframe tbody tr th:only-of-type {\n",
       "        vertical-align: middle;\n",
       "    }\n",
       "\n",
       "    .dataframe tbody tr th {\n",
       "        vertical-align: top;\n",
       "    }\n",
       "\n",
       "    .dataframe thead th {\n",
       "        text-align: right;\n",
       "    }\n",
       "</style>\n",
       "<table border=\"1\" class=\"dataframe\">\n",
       "  <thead>\n",
       "    <tr style=\"text-align: right;\">\n",
       "      <th></th>\n",
       "      <th>month</th>\n",
       "      <th>user_id</th>\n",
       "      <th>id</th>\n",
       "      <th>minut_sum</th>\n",
       "      <th>message</th>\n",
       "      <th>internet_mb</th>\n",
       "      <th>tariff</th>\n",
       "      <th>city</th>\n",
       "      <th>messages_included</th>\n",
       "      <th>mb_per_month_included</th>\n",
       "      <th>minutes_included</th>\n",
       "      <th>rub_monthly_fee</th>\n",
       "      <th>rub_per_gb</th>\n",
       "      <th>rub_per_message</th>\n",
       "      <th>rub_per_minute</th>\n",
       "      <th>proceed</th>\n",
       "    </tr>\n",
       "  </thead>\n",
       "  <tbody>\n",
       "    <tr>\n",
       "      <th>0</th>\n",
       "      <td>5.0</td>\n",
       "      <td>1000</td>\n",
       "      <td>22.0</td>\n",
       "      <td>159.0</td>\n",
       "      <td>22.0</td>\n",
       "      <td>5.0</td>\n",
       "      <td>ultra</td>\n",
       "      <td>Краснодар</td>\n",
       "      <td>1000</td>\n",
       "      <td>30720</td>\n",
       "      <td>3000</td>\n",
       "      <td>1950</td>\n",
       "      <td>150</td>\n",
       "      <td>1</td>\n",
       "      <td>1</td>\n",
       "      <td>2468.267578</td>\n",
       "    </tr>\n",
       "    <tr>\n",
       "      <th>1</th>\n",
       "      <td>6.0</td>\n",
       "      <td>1000</td>\n",
       "      <td>43.0</td>\n",
       "      <td>172.0</td>\n",
       "      <td>60.0</td>\n",
       "      <td>49.0</td>\n",
       "      <td>ultra</td>\n",
       "      <td>Краснодар</td>\n",
       "      <td>1000</td>\n",
       "      <td>30720</td>\n",
       "      <td>3000</td>\n",
       "      <td>1950</td>\n",
       "      <td>150</td>\n",
       "      <td>1</td>\n",
       "      <td>1</td>\n",
       "      <td>2410.822266</td>\n",
       "    </tr>\n",
       "    <tr>\n",
       "      <th>2</th>\n",
       "      <td>7.0</td>\n",
       "      <td>1000</td>\n",
       "      <td>47.0</td>\n",
       "      <td>340.0</td>\n",
       "      <td>75.0</td>\n",
       "      <td>29.0</td>\n",
       "      <td>ultra</td>\n",
       "      <td>Краснодар</td>\n",
       "      <td>1000</td>\n",
       "      <td>30720</td>\n",
       "      <td>3000</td>\n",
       "      <td>1950</td>\n",
       "      <td>150</td>\n",
       "      <td>1</td>\n",
       "      <td>1</td>\n",
       "      <td>2230.751953</td>\n",
       "    </tr>\n",
       "    <tr>\n",
       "      <th>3</th>\n",
       "      <td>8.0</td>\n",
       "      <td>1000</td>\n",
       "      <td>52.0</td>\n",
       "      <td>408.0</td>\n",
       "      <td>81.0</td>\n",
       "      <td>29.0</td>\n",
       "      <td>ultra</td>\n",
       "      <td>Краснодар</td>\n",
       "      <td>1000</td>\n",
       "      <td>30720</td>\n",
       "      <td>3000</td>\n",
       "      <td>1950</td>\n",
       "      <td>150</td>\n",
       "      <td>1</td>\n",
       "      <td>1</td>\n",
       "      <td>2156.751953</td>\n",
       "    </tr>\n",
       "    <tr>\n",
       "      <th>4</th>\n",
       "      <td>9.0</td>\n",
       "      <td>1000</td>\n",
       "      <td>58.0</td>\n",
       "      <td>466.0</td>\n",
       "      <td>57.0</td>\n",
       "      <td>27.0</td>\n",
       "      <td>ultra</td>\n",
       "      <td>Краснодар</td>\n",
       "      <td>1000</td>\n",
       "      <td>30720</td>\n",
       "      <td>3000</td>\n",
       "      <td>1950</td>\n",
       "      <td>150</td>\n",
       "      <td>1</td>\n",
       "      <td>1</td>\n",
       "      <td>2123.044922</td>\n",
       "    </tr>\n",
       "    <tr>\n",
       "      <th>5</th>\n",
       "      <td>10.0</td>\n",
       "      <td>1000</td>\n",
       "      <td>57.0</td>\n",
       "      <td>350.0</td>\n",
       "      <td>73.0</td>\n",
       "      <td>27.0</td>\n",
       "      <td>ultra</td>\n",
       "      <td>Краснодар</td>\n",
       "      <td>1000</td>\n",
       "      <td>30720</td>\n",
       "      <td>3000</td>\n",
       "      <td>1950</td>\n",
       "      <td>150</td>\n",
       "      <td>1</td>\n",
       "      <td>1</td>\n",
       "      <td>2223.044922</td>\n",
       "    </tr>\n",
       "    <tr>\n",
       "      <th>6</th>\n",
       "      <td>11.0</td>\n",
       "      <td>1000</td>\n",
       "      <td>43.0</td>\n",
       "      <td>338.0</td>\n",
       "      <td>58.0</td>\n",
       "      <td>24.0</td>\n",
       "      <td>ultra</td>\n",
       "      <td>Краснодар</td>\n",
       "      <td>1000</td>\n",
       "      <td>30720</td>\n",
       "      <td>3000</td>\n",
       "      <td>1950</td>\n",
       "      <td>150</td>\n",
       "      <td>1</td>\n",
       "      <td>1</td>\n",
       "      <td>2250.484375</td>\n",
       "    </tr>\n",
       "    <tr>\n",
       "      <th>7</th>\n",
       "      <td>12.0</td>\n",
       "      <td>1000</td>\n",
       "      <td>46.0</td>\n",
       "      <td>333.0</td>\n",
       "      <td>70.0</td>\n",
       "      <td>21.0</td>\n",
       "      <td>ultra</td>\n",
       "      <td>Краснодар</td>\n",
       "      <td>1000</td>\n",
       "      <td>30720</td>\n",
       "      <td>3000</td>\n",
       "      <td>1950</td>\n",
       "      <td>150</td>\n",
       "      <td>1</td>\n",
       "      <td>1</td>\n",
       "      <td>2243.923828</td>\n",
       "    </tr>\n",
       "    <tr>\n",
       "      <th>8</th>\n",
       "      <td>8.0</td>\n",
       "      <td>1003</td>\n",
       "      <td>55.0</td>\n",
       "      <td>380.0</td>\n",
       "      <td>37.0</td>\n",
       "      <td>15.0</td>\n",
       "      <td>ultra</td>\n",
       "      <td>Москва</td>\n",
       "      <td>1000</td>\n",
       "      <td>30720</td>\n",
       "      <td>3000</td>\n",
       "      <td>1950</td>\n",
       "      <td>150</td>\n",
       "      <td>1</td>\n",
       "      <td>1</td>\n",
       "      <td>2230.802734</td>\n",
       "    </tr>\n",
       "    <tr>\n",
       "      <th>9</th>\n",
       "      <td>9.0</td>\n",
       "      <td>1003</td>\n",
       "      <td>134.0</td>\n",
       "      <td>961.0</td>\n",
       "      <td>91.0</td>\n",
       "      <td>22.0</td>\n",
       "      <td>ultra</td>\n",
       "      <td>Москва</td>\n",
       "      <td>1000</td>\n",
       "      <td>30720</td>\n",
       "      <td>3000</td>\n",
       "      <td>1950</td>\n",
       "      <td>150</td>\n",
       "      <td>1</td>\n",
       "      <td>1</td>\n",
       "      <td>1594.777344</td>\n",
       "    </tr>\n",
       "    <tr>\n",
       "      <th>10</th>\n",
       "      <td>10.0</td>\n",
       "      <td>1003</td>\n",
       "      <td>108.0</td>\n",
       "      <td>855.0</td>\n",
       "      <td>83.0</td>\n",
       "      <td>25.0</td>\n",
       "      <td>ultra</td>\n",
       "      <td>Москва</td>\n",
       "      <td>1000</td>\n",
       "      <td>30720</td>\n",
       "      <td>3000</td>\n",
       "      <td>1950</td>\n",
       "      <td>150</td>\n",
       "      <td>1</td>\n",
       "      <td>1</td>\n",
       "      <td>1708.337891</td>\n",
       "    </tr>\n",
       "    <tr>\n",
       "      <th>11</th>\n",
       "      <td>11.0</td>\n",
       "      <td>1003</td>\n",
       "      <td>115.0</td>\n",
       "      <td>824.0</td>\n",
       "      <td>94.0</td>\n",
       "      <td>21.0</td>\n",
       "      <td>ultra</td>\n",
       "      <td>Москва</td>\n",
       "      <td>1000</td>\n",
       "      <td>30720</td>\n",
       "      <td>3000</td>\n",
       "      <td>1950</td>\n",
       "      <td>150</td>\n",
       "      <td>1</td>\n",
       "      <td>1</td>\n",
       "      <td>1728.923828</td>\n",
       "    </tr>\n",
       "    <tr>\n",
       "      <th>12</th>\n",
       "      <td>12.0</td>\n",
       "      <td>1003</td>\n",
       "      <td>108.0</td>\n",
       "      <td>802.0</td>\n",
       "      <td>75.0</td>\n",
       "      <td>21.0</td>\n",
       "      <td>ultra</td>\n",
       "      <td>Москва</td>\n",
       "      <td>1000</td>\n",
       "      <td>30720</td>\n",
       "      <td>3000</td>\n",
       "      <td>1950</td>\n",
       "      <td>150</td>\n",
       "      <td>1</td>\n",
       "      <td>1</td>\n",
       "      <td>1769.923828</td>\n",
       "    </tr>\n",
       "    <tr>\n",
       "      <th>13</th>\n",
       "      <td>5.0</td>\n",
       "      <td>1004</td>\n",
       "      <td>9.0</td>\n",
       "      <td>35.0</td>\n",
       "      <td>95.0</td>\n",
       "      <td>24.0</td>\n",
       "      <td>ultra</td>\n",
       "      <td>Новокузнецк</td>\n",
       "      <td>1000</td>\n",
       "      <td>30720</td>\n",
       "      <td>3000</td>\n",
       "      <td>1950</td>\n",
       "      <td>150</td>\n",
       "      <td>1</td>\n",
       "      <td>1</td>\n",
       "      <td>2516.484375</td>\n",
       "    </tr>\n",
       "    <tr>\n",
       "      <th>14</th>\n",
       "      <td>6.0</td>\n",
       "      <td>1004</td>\n",
       "      <td>31.0</td>\n",
       "      <td>171.0</td>\n",
       "      <td>134.0</td>\n",
       "      <td>35.0</td>\n",
       "      <td>ultra</td>\n",
       "      <td>Новокузнецк</td>\n",
       "      <td>1000</td>\n",
       "      <td>30720</td>\n",
       "      <td>3000</td>\n",
       "      <td>1950</td>\n",
       "      <td>150</td>\n",
       "      <td>1</td>\n",
       "      <td>1</td>\n",
       "      <td>2339.873047</td>\n",
       "    </tr>\n",
       "    <tr>\n",
       "      <th>15</th>\n",
       "      <td>7.0</td>\n",
       "      <td>1004</td>\n",
       "      <td>22.0</td>\n",
       "      <td>135.0</td>\n",
       "      <td>181.0</td>\n",
       "      <td>35.0</td>\n",
       "      <td>ultra</td>\n",
       "      <td>Новокузнецк</td>\n",
       "      <td>1000</td>\n",
       "      <td>30720</td>\n",
       "      <td>3000</td>\n",
       "      <td>1950</td>\n",
       "      <td>150</td>\n",
       "      <td>1</td>\n",
       "      <td>1</td>\n",
       "      <td>2328.873047</td>\n",
       "    </tr>\n",
       "    <tr>\n",
       "      <th>16</th>\n",
       "      <td>8.0</td>\n",
       "      <td>1004</td>\n",
       "      <td>19.0</td>\n",
       "      <td>137.0</td>\n",
       "      <td>151.0</td>\n",
       "      <td>52.0</td>\n",
       "      <td>ultra</td>\n",
       "      <td>Новокузнецк</td>\n",
       "      <td>1000</td>\n",
       "      <td>30720</td>\n",
       "      <td>3000</td>\n",
       "      <td>1950</td>\n",
       "      <td>150</td>\n",
       "      <td>1</td>\n",
       "      <td>1</td>\n",
       "      <td>2354.382812</td>\n",
       "    </tr>\n",
       "    <tr>\n",
       "      <th>17</th>\n",
       "      <td>9.0</td>\n",
       "      <td>1004</td>\n",
       "      <td>26.0</td>\n",
       "      <td>117.0</td>\n",
       "      <td>146.0</td>\n",
       "      <td>37.0</td>\n",
       "      <td>ultra</td>\n",
       "      <td>Новокузнецк</td>\n",
       "      <td>1000</td>\n",
       "      <td>30720</td>\n",
       "      <td>3000</td>\n",
       "      <td>1950</td>\n",
       "      <td>150</td>\n",
       "      <td>1</td>\n",
       "      <td>1</td>\n",
       "      <td>2381.580078</td>\n",
       "    </tr>\n",
       "    <tr>\n",
       "      <th>18</th>\n",
       "      <td>10.0</td>\n",
       "      <td>1004</td>\n",
       "      <td>29.0</td>\n",
       "      <td>145.0</td>\n",
       "      <td>165.0</td>\n",
       "      <td>41.0</td>\n",
       "      <td>ultra</td>\n",
       "      <td>Новокузнецк</td>\n",
       "      <td>1000</td>\n",
       "      <td>30720</td>\n",
       "      <td>3000</td>\n",
       "      <td>1950</td>\n",
       "      <td>150</td>\n",
       "      <td>1</td>\n",
       "      <td>1</td>\n",
       "      <td>2333.994141</td>\n",
       "    </tr>\n",
       "    <tr>\n",
       "      <th>19</th>\n",
       "      <td>11.0</td>\n",
       "      <td>1004</td>\n",
       "      <td>19.0</td>\n",
       "      <td>117.0</td>\n",
       "      <td>158.0</td>\n",
       "      <td>36.0</td>\n",
       "      <td>ultra</td>\n",
       "      <td>Новокузнецк</td>\n",
       "      <td>1000</td>\n",
       "      <td>30720</td>\n",
       "      <td>3000</td>\n",
       "      <td>1950</td>\n",
       "      <td>150</td>\n",
       "      <td>1</td>\n",
       "      <td>1</td>\n",
       "      <td>2369.726562</td>\n",
       "    </tr>\n",
       "    <tr>\n",
       "      <th>20</th>\n",
       "      <td>12.0</td>\n",
       "      <td>1004</td>\n",
       "      <td>21.0</td>\n",
       "      <td>130.0</td>\n",
       "      <td>162.0</td>\n",
       "      <td>40.0</td>\n",
       "      <td>ultra</td>\n",
       "      <td>Новокузнецк</td>\n",
       "      <td>1000</td>\n",
       "      <td>30720</td>\n",
       "      <td>3000</td>\n",
       "      <td>1950</td>\n",
       "      <td>150</td>\n",
       "      <td>1</td>\n",
       "      <td>1</td>\n",
       "      <td>2352.140625</td>\n",
       "    </tr>\n",
       "    <tr>\n",
       "      <th>21</th>\n",
       "      <td>11.0</td>\n",
       "      <td>1013</td>\n",
       "      <td>52.0</td>\n",
       "      <td>369.0</td>\n",
       "      <td>17.0</td>\n",
       "      <td>21.0</td>\n",
       "      <td>ultra</td>\n",
       "      <td>Иваново</td>\n",
       "      <td>1000</td>\n",
       "      <td>30720</td>\n",
       "      <td>3000</td>\n",
       "      <td>1950</td>\n",
       "      <td>150</td>\n",
       "      <td>1</td>\n",
       "      <td>1</td>\n",
       "      <td>2260.923828</td>\n",
       "    </tr>\n",
       "    <tr>\n",
       "      <th>22</th>\n",
       "      <td>12.0</td>\n",
       "      <td>1013</td>\n",
       "      <td>90.0</td>\n",
       "      <td>567.0</td>\n",
       "      <td>25.0</td>\n",
       "      <td>41.0</td>\n",
       "      <td>ultra</td>\n",
       "      <td>Иваново</td>\n",
       "      <td>1000</td>\n",
       "      <td>30720</td>\n",
       "      <td>3000</td>\n",
       "      <td>1950</td>\n",
       "      <td>150</td>\n",
       "      <td>1</td>\n",
       "      <td>1</td>\n",
       "      <td>2051.994141</td>\n",
       "    </tr>\n",
       "    <tr>\n",
       "      <th>23</th>\n",
       "      <td>11.0</td>\n",
       "      <td>1016</td>\n",
       "      <td>4.0</td>\n",
       "      <td>28.0</td>\n",
       "      <td>39.0</td>\n",
       "      <td>13.0</td>\n",
       "      <td>ultra</td>\n",
       "      <td>Омск</td>\n",
       "      <td>1000</td>\n",
       "      <td>30720</td>\n",
       "      <td>3000</td>\n",
       "      <td>1950</td>\n",
       "      <td>150</td>\n",
       "      <td>1</td>\n",
       "      <td>1</td>\n",
       "      <td>2581.095703</td>\n",
       "    </tr>\n",
       "    <tr>\n",
       "      <th>24</th>\n",
       "      <td>12.0</td>\n",
       "      <td>1016</td>\n",
       "      <td>16.0</td>\n",
       "      <td>94.0</td>\n",
       "      <td>103.0</td>\n",
       "      <td>34.0</td>\n",
       "      <td>ultra</td>\n",
       "      <td>Омск</td>\n",
       "      <td>1000</td>\n",
       "      <td>30720</td>\n",
       "      <td>3000</td>\n",
       "      <td>1950</td>\n",
       "      <td>150</td>\n",
       "      <td>1</td>\n",
       "      <td>1</td>\n",
       "      <td>2448.019531</td>\n",
       "    </tr>\n",
       "  </tbody>\n",
       "</table>\n",
       "</div>"
      ],
      "text/plain": [
       "    month  user_id     id  minut_sum  message  internet_mb tariff  \\\n",
       "0     5.0     1000   22.0      159.0     22.0          5.0  ultra   \n",
       "1     6.0     1000   43.0      172.0     60.0         49.0  ultra   \n",
       "2     7.0     1000   47.0      340.0     75.0         29.0  ultra   \n",
       "3     8.0     1000   52.0      408.0     81.0         29.0  ultra   \n",
       "4     9.0     1000   58.0      466.0     57.0         27.0  ultra   \n",
       "5    10.0     1000   57.0      350.0     73.0         27.0  ultra   \n",
       "6    11.0     1000   43.0      338.0     58.0         24.0  ultra   \n",
       "7    12.0     1000   46.0      333.0     70.0         21.0  ultra   \n",
       "8     8.0     1003   55.0      380.0     37.0         15.0  ultra   \n",
       "9     9.0     1003  134.0      961.0     91.0         22.0  ultra   \n",
       "10   10.0     1003  108.0      855.0     83.0         25.0  ultra   \n",
       "11   11.0     1003  115.0      824.0     94.0         21.0  ultra   \n",
       "12   12.0     1003  108.0      802.0     75.0         21.0  ultra   \n",
       "13    5.0     1004    9.0       35.0     95.0         24.0  ultra   \n",
       "14    6.0     1004   31.0      171.0    134.0         35.0  ultra   \n",
       "15    7.0     1004   22.0      135.0    181.0         35.0  ultra   \n",
       "16    8.0     1004   19.0      137.0    151.0         52.0  ultra   \n",
       "17    9.0     1004   26.0      117.0    146.0         37.0  ultra   \n",
       "18   10.0     1004   29.0      145.0    165.0         41.0  ultra   \n",
       "19   11.0     1004   19.0      117.0    158.0         36.0  ultra   \n",
       "20   12.0     1004   21.0      130.0    162.0         40.0  ultra   \n",
       "21   11.0     1013   52.0      369.0     17.0         21.0  ultra   \n",
       "22   12.0     1013   90.0      567.0     25.0         41.0  ultra   \n",
       "23   11.0     1016    4.0       28.0     39.0         13.0  ultra   \n",
       "24   12.0     1016   16.0       94.0    103.0         34.0  ultra   \n",
       "\n",
       "           city  messages_included  mb_per_month_included  minutes_included  \\\n",
       "0     Краснодар               1000                  30720              3000   \n",
       "1     Краснодар               1000                  30720              3000   \n",
       "2     Краснодар               1000                  30720              3000   \n",
       "3     Краснодар               1000                  30720              3000   \n",
       "4     Краснодар               1000                  30720              3000   \n",
       "5     Краснодар               1000                  30720              3000   \n",
       "6     Краснодар               1000                  30720              3000   \n",
       "7     Краснодар               1000                  30720              3000   \n",
       "8        Москва               1000                  30720              3000   \n",
       "9        Москва               1000                  30720              3000   \n",
       "10       Москва               1000                  30720              3000   \n",
       "11       Москва               1000                  30720              3000   \n",
       "12       Москва               1000                  30720              3000   \n",
       "13  Новокузнецк               1000                  30720              3000   \n",
       "14  Новокузнецк               1000                  30720              3000   \n",
       "15  Новокузнецк               1000                  30720              3000   \n",
       "16  Новокузнецк               1000                  30720              3000   \n",
       "17  Новокузнецк               1000                  30720              3000   \n",
       "18  Новокузнецк               1000                  30720              3000   \n",
       "19  Новокузнецк               1000                  30720              3000   \n",
       "20  Новокузнецк               1000                  30720              3000   \n",
       "21      Иваново               1000                  30720              3000   \n",
       "22      Иваново               1000                  30720              3000   \n",
       "23         Омск               1000                  30720              3000   \n",
       "24         Омск               1000                  30720              3000   \n",
       "\n",
       "    rub_monthly_fee  rub_per_gb  rub_per_message  rub_per_minute      proceed  \n",
       "0              1950         150                1               1  2468.267578  \n",
       "1              1950         150                1               1  2410.822266  \n",
       "2              1950         150                1               1  2230.751953  \n",
       "3              1950         150                1               1  2156.751953  \n",
       "4              1950         150                1               1  2123.044922  \n",
       "5              1950         150                1               1  2223.044922  \n",
       "6              1950         150                1               1  2250.484375  \n",
       "7              1950         150                1               1  2243.923828  \n",
       "8              1950         150                1               1  2230.802734  \n",
       "9              1950         150                1               1  1594.777344  \n",
       "10             1950         150                1               1  1708.337891  \n",
       "11             1950         150                1               1  1728.923828  \n",
       "12             1950         150                1               1  1769.923828  \n",
       "13             1950         150                1               1  2516.484375  \n",
       "14             1950         150                1               1  2339.873047  \n",
       "15             1950         150                1               1  2328.873047  \n",
       "16             1950         150                1               1  2354.382812  \n",
       "17             1950         150                1               1  2381.580078  \n",
       "18             1950         150                1               1  2333.994141  \n",
       "19             1950         150                1               1  2369.726562  \n",
       "20             1950         150                1               1  2352.140625  \n",
       "21             1950         150                1               1  2260.923828  \n",
       "22             1950         150                1               1  2051.994141  \n",
       "23             1950         150                1               1  2581.095703  \n",
       "24             1950         150                1               1  2448.019531  "
      ]
     },
     "execution_count": 3,
     "metadata": {},
     "output_type": "execute_result"
    }
   ],
   "source": [
    "# Проведем подсчеты для каждого пользователя\n",
    "# количество сделанных звонков и израсходованных минут разговора по месяцам\n",
    "\n",
    "data_call['duration'] = np.ceil(data_call['duration'])\n",
    "data_inte['mb_used'] = np.ceil(data_inte['mb_used'])\n",
    "\n",
    "df = data_call.groupby(['user_id', 'month']).count()\n",
    "minut_sum = data_call.groupby(['user_id', 'month']).sum()\n",
    "message  = data_mess.groupby(['user_id', 'month']).count()\n",
    "internet = data_inte.groupby(['user_id', 'month']).count()\n",
    "\n",
    "df['minut_sum'] = minut_sum\n",
    "df['message'] = message['message_date']\n",
    "df['internet_mb'] = internet['mb_used']\n",
    "\n",
    "# Преобразуем в обычные столбцы\n",
    "df.reset_index(level=0, inplace=True)\n",
    "df.reset_index(level=0, inplace=True)\n",
    "\n",
    "# удаляем лишнее\n",
    "del df['duration']\n",
    "del df['call_date']\n",
    "\n",
    "# Добавляем данные из других таблиц\n",
    "df = df.merge(data_user[['user_id','tariff', 'city']], on='user_id', how='outer')\n",
    "df = df.merge(data_tariffs, on='tariff', how='outer')\n",
    "\n",
    "display(df.head())\n",
    "#df.info()\n",
    "#display(df.isna().sum())\n",
    "\n",
    "def proceeds_func(row):\n",
    "    calls = row['minut_sum']\n",
    "    internet = row['internet_mb']\n",
    "    messages = row['message']\n",
    "    free_calls = row['minutes_included']\n",
    "    free_messages = row['messages_included']\n",
    "    free_internet = row['mb_per_month_included']\n",
    "    fee_calls = row['rub_per_minute']\n",
    "    fee_messages = row['rub_per_message']\n",
    "    fee_internet = row['rub_per_gb']\n",
    "    monthly_fee = row['rub_monthly_fee']\n",
    "    \n",
    "    calls_proceeds = (calls - free_calls) * fee_calls + monthly_fee\n",
    "    internet_proceeds = ((internet - free_internet) / 1024) * fee_internet + monthly_fee\n",
    "    messages_proceeds = (messages - free_messages) * fee_messages + monthly_fee\n",
    " \n",
    "    result = calls_proceeds + internet_proceeds + messages_proceeds\n",
    "    if result < 0:\n",
    "        result *= -1\n",
    "    return result  \n",
    "\n",
    "\n",
    " \n",
    "df['proceed'] = df.apply(proceeds_func, axis=1)\n",
    "df.head(25)\n",
    "#df.tail(5)\n",
    "#df.info()"
   ]
  },
  {
   "cell_type": "markdown",
   "metadata": {},
   "source": [
    "<div class=\"alert alert-info\"> <b> 3. Анализ данных!</b></div>"
   ]
  },
  {
   "cell_type": "code",
   "execution_count": 5,
   "metadata": {},
   "outputs": [
    {
     "data": {
      "text/html": [
       "<div>\n",
       "<style scoped>\n",
       "    .dataframe tbody tr th:only-of-type {\n",
       "        vertical-align: middle;\n",
       "    }\n",
       "\n",
       "    .dataframe tbody tr th {\n",
       "        vertical-align: top;\n",
       "    }\n",
       "\n",
       "    .dataframe thead th {\n",
       "        text-align: right;\n",
       "    }\n",
       "</style>\n",
       "<table border=\"1\" class=\"dataframe\">\n",
       "  <thead>\n",
       "    <tr style=\"text-align: right;\">\n",
       "      <th></th>\n",
       "      <th>tariff</th>\n",
       "      <th>month</th>\n",
       "      <th>internet_mb</th>\n",
       "      <th>message</th>\n",
       "      <th>minut_sum</th>\n",
       "      <th>proceed</th>\n",
       "      <th>user_id</th>\n",
       "    </tr>\n",
       "  </thead>\n",
       "  <tbody>\n",
       "    <tr>\n",
       "      <th>0</th>\n",
       "      <td>smart</td>\n",
       "      <td>1.0</td>\n",
       "      <td>25.617647</td>\n",
       "      <td>20.000000</td>\n",
       "      <td>203.852941</td>\n",
       "      <td>2302.902218</td>\n",
       "      <td>34</td>\n",
       "    </tr>\n",
       "    <tr>\n",
       "      <th>1</th>\n",
       "      <td>smart</td>\n",
       "      <td>2.0</td>\n",
       "      <td>35.465517</td>\n",
       "      <td>27.940000</td>\n",
       "      <td>298.689655</td>\n",
       "      <td>1973.858438</td>\n",
       "      <td>58</td>\n",
       "    </tr>\n",
       "    <tr>\n",
       "      <th>2</th>\n",
       "      <td>smart</td>\n",
       "      <td>3.0</td>\n",
       "      <td>46.909091</td>\n",
       "      <td>35.550725</td>\n",
       "      <td>390.051948</td>\n",
       "      <td>1705.179008</td>\n",
       "      <td>77</td>\n",
       "    </tr>\n",
       "    <tr>\n",
       "      <th>3</th>\n",
       "      <td>smart</td>\n",
       "      <td>4.0</td>\n",
       "      <td>41.803571</td>\n",
       "      <td>35.864583</td>\n",
       "      <td>367.133929</td>\n",
       "      <td>1739.318115</td>\n",
       "      <td>112</td>\n",
       "    </tr>\n",
       "    <tr>\n",
       "      <th>4</th>\n",
       "      <td>smart</td>\n",
       "      <td>5.0</td>\n",
       "      <td>48.340426</td>\n",
       "      <td>39.032787</td>\n",
       "      <td>387.361702</td>\n",
       "      <td>1674.462026</td>\n",
       "      <td>141</td>\n",
       "    </tr>\n",
       "    <tr>\n",
       "      <th>5</th>\n",
       "      <td>smart</td>\n",
       "      <td>6.0</td>\n",
       "      <td>48.478528</td>\n",
       "      <td>38.510638</td>\n",
       "      <td>398.067485</td>\n",
       "      <td>1677.511303</td>\n",
       "      <td>163</td>\n",
       "    </tr>\n",
       "    <tr>\n",
       "      <th>6</th>\n",
       "      <td>smart</td>\n",
       "      <td>7.0</td>\n",
       "      <td>49.079602</td>\n",
       "      <td>38.988506</td>\n",
       "      <td>408.353234</td>\n",
       "      <td>1645.421202</td>\n",
       "      <td>201</td>\n",
       "    </tr>\n",
       "    <tr>\n",
       "      <th>7</th>\n",
       "      <td>smart</td>\n",
       "      <td>8.0</td>\n",
       "      <td>51.334764</td>\n",
       "      <td>38.857143</td>\n",
       "      <td>423.269231</td>\n",
       "      <td>1584.901648</td>\n",
       "      <td>234</td>\n",
       "    </tr>\n",
       "    <tr>\n",
       "      <th>8</th>\n",
       "      <td>smart</td>\n",
       "      <td>9.0</td>\n",
       "      <td>50.436293</td>\n",
       "      <td>39.252252</td>\n",
       "      <td>430.266409</td>\n",
       "      <td>1584.969278</td>\n",
       "      <td>259</td>\n",
       "    </tr>\n",
       "    <tr>\n",
       "      <th>9</th>\n",
       "      <td>smart</td>\n",
       "      <td>10.0</td>\n",
       "      <td>51.604096</td>\n",
       "      <td>39.154150</td>\n",
       "      <td>427.590444</td>\n",
       "      <td>1591.936141</td>\n",
       "      <td>293</td>\n",
       "    </tr>\n",
       "    <tr>\n",
       "      <th>10</th>\n",
       "      <td>smart</td>\n",
       "      <td>11.0</td>\n",
       "      <td>52.476190</td>\n",
       "      <td>39.955390</td>\n",
       "      <td>436.647619</td>\n",
       "      <td>1549.090555</td>\n",
       "      <td>315</td>\n",
       "    </tr>\n",
       "    <tr>\n",
       "      <th>11</th>\n",
       "      <td>smart</td>\n",
       "      <td>12.0</td>\n",
       "      <td>55.818452</td>\n",
       "      <td>42.290210</td>\n",
       "      <td>479.985119</td>\n",
       "      <td>1459.770924</td>\n",
       "      <td>336</td>\n",
       "    </tr>\n",
       "    <tr>\n",
       "      <th>12</th>\n",
       "      <td>ultra</td>\n",
       "      <td>1.0</td>\n",
       "      <td>27.333333</td>\n",
       "      <td>43.428571</td>\n",
       "      <td>428.111111</td>\n",
       "      <td>2126.365234</td>\n",
       "      <td>9</td>\n",
       "    </tr>\n",
       "    <tr>\n",
       "      <th>13</th>\n",
       "      <td>ultra</td>\n",
       "      <td>2.0</td>\n",
       "      <td>26.545455</td>\n",
       "      <td>32.937500</td>\n",
       "      <td>297.125000</td>\n",
       "      <td>2208.246512</td>\n",
       "      <td>24</td>\n",
       "    </tr>\n",
       "    <tr>\n",
       "      <th>14</th>\n",
       "      <td>ultra</td>\n",
       "      <td>3.0</td>\n",
       "      <td>34.405405</td>\n",
       "      <td>47.800000</td>\n",
       "      <td>489.648649</td>\n",
       "      <td>2044.433281</td>\n",
       "      <td>37</td>\n",
       "    </tr>\n",
       "    <tr>\n",
       "      <th>15</th>\n",
       "      <td>ultra</td>\n",
       "      <td>4.0</td>\n",
       "      <td>34.396226</td>\n",
       "      <td>45.447368</td>\n",
       "      <td>475.301887</td>\n",
       "      <td>2099.845035</td>\n",
       "      <td>53</td>\n",
       "    </tr>\n",
       "    <tr>\n",
       "      <th>16</th>\n",
       "      <td>ultra</td>\n",
       "      <td>5.0</td>\n",
       "      <td>39.809524</td>\n",
       "      <td>49.448980</td>\n",
       "      <td>534.250000</td>\n",
       "      <td>2062.321859</td>\n",
       "      <td>64</td>\n",
       "    </tr>\n",
       "    <tr>\n",
       "      <th>17</th>\n",
       "      <td>ultra</td>\n",
       "      <td>6.0</td>\n",
       "      <td>37.550000</td>\n",
       "      <td>50.687500</td>\n",
       "      <td>497.469136</td>\n",
       "      <td>2096.040892</td>\n",
       "      <td>81</td>\n",
       "    </tr>\n",
       "    <tr>\n",
       "      <th>18</th>\n",
       "      <td>ultra</td>\n",
       "      <td>7.0</td>\n",
       "      <td>40.850575</td>\n",
       "      <td>60.942857</td>\n",
       "      <td>564.397727</td>\n",
       "      <td>2024.262200</td>\n",
       "      <td>88</td>\n",
       "    </tr>\n",
       "    <tr>\n",
       "      <th>19</th>\n",
       "      <td>ultra</td>\n",
       "      <td>8.0</td>\n",
       "      <td>38.745098</td>\n",
       "      <td>58.690476</td>\n",
       "      <td>530.611650</td>\n",
       "      <td>2058.009530</td>\n",
       "      <td>103</td>\n",
       "    </tr>\n",
       "    <tr>\n",
       "      <th>20</th>\n",
       "      <td>ultra</td>\n",
       "      <td>9.0</td>\n",
       "      <td>38.336364</td>\n",
       "      <td>63.197802</td>\n",
       "      <td>558.882883</td>\n",
       "      <td>2015.950304</td>\n",
       "      <td>111</td>\n",
       "    </tr>\n",
       "    <tr>\n",
       "      <th>21</th>\n",
       "      <td>ultra</td>\n",
       "      <td>10.0</td>\n",
       "      <td>39.606838</td>\n",
       "      <td>70.397959</td>\n",
       "      <td>581.728814</td>\n",
       "      <td>1996.269853</td>\n",
       "      <td>118</td>\n",
       "    </tr>\n",
       "    <tr>\n",
       "      <th>22</th>\n",
       "      <td>ultra</td>\n",
       "      <td>11.0</td>\n",
       "      <td>39.000000</td>\n",
       "      <td>66.888889</td>\n",
       "      <td>562.364341</td>\n",
       "      <td>2016.813267</td>\n",
       "      <td>129</td>\n",
       "    </tr>\n",
       "    <tr>\n",
       "      <th>23</th>\n",
       "      <td>ultra</td>\n",
       "      <td>12.0</td>\n",
       "      <td>43.157895</td>\n",
       "      <td>72.687500</td>\n",
       "      <td>614.925373</td>\n",
       "      <td>1930.795573</td>\n",
       "      <td>134</td>\n",
       "    </tr>\n",
       "  </tbody>\n",
       "</table>\n",
       "</div>"
      ],
      "text/plain": [
       "   tariff  month  internet_mb    message   minut_sum      proceed  user_id\n",
       "0   smart    1.0    25.617647  20.000000  203.852941  2302.902218       34\n",
       "1   smart    2.0    35.465517  27.940000  298.689655  1973.858438       58\n",
       "2   smart    3.0    46.909091  35.550725  390.051948  1705.179008       77\n",
       "3   smart    4.0    41.803571  35.864583  367.133929  1739.318115      112\n",
       "4   smart    5.0    48.340426  39.032787  387.361702  1674.462026      141\n",
       "5   smart    6.0    48.478528  38.510638  398.067485  1677.511303      163\n",
       "6   smart    7.0    49.079602  38.988506  408.353234  1645.421202      201\n",
       "7   smart    8.0    51.334764  38.857143  423.269231  1584.901648      234\n",
       "8   smart    9.0    50.436293  39.252252  430.266409  1584.969278      259\n",
       "9   smart   10.0    51.604096  39.154150  427.590444  1591.936141      293\n",
       "10  smart   11.0    52.476190  39.955390  436.647619  1549.090555      315\n",
       "11  smart   12.0    55.818452  42.290210  479.985119  1459.770924      336\n",
       "12  ultra    1.0    27.333333  43.428571  428.111111  2126.365234        9\n",
       "13  ultra    2.0    26.545455  32.937500  297.125000  2208.246512       24\n",
       "14  ultra    3.0    34.405405  47.800000  489.648649  2044.433281       37\n",
       "15  ultra    4.0    34.396226  45.447368  475.301887  2099.845035       53\n",
       "16  ultra    5.0    39.809524  49.448980  534.250000  2062.321859       64\n",
       "17  ultra    6.0    37.550000  50.687500  497.469136  2096.040892       81\n",
       "18  ultra    7.0    40.850575  60.942857  564.397727  2024.262200       88\n",
       "19  ultra    8.0    38.745098  58.690476  530.611650  2058.009530      103\n",
       "20  ultra    9.0    38.336364  63.197802  558.882883  2015.950304      111\n",
       "21  ultra   10.0    39.606838  70.397959  581.728814  1996.269853      118\n",
       "22  ultra   11.0    39.000000  66.888889  562.364341  2016.813267      129\n",
       "23  ultra   12.0    43.157895  72.687500  614.925373  1930.795573      134"
      ]
     },
     "metadata": {},
     "output_type": "display_data"
    },
    {
     "data": {
      "text/html": [
       "<div>\n",
       "<style scoped>\n",
       "    .dataframe tbody tr th:only-of-type {\n",
       "        vertical-align: middle;\n",
       "    }\n",
       "\n",
       "    .dataframe tbody tr th {\n",
       "        vertical-align: top;\n",
       "    }\n",
       "\n",
       "    .dataframe thead th {\n",
       "        text-align: right;\n",
       "    }\n",
       "</style>\n",
       "<table border=\"1\" class=\"dataframe\">\n",
       "  <thead>\n",
       "    <tr style=\"text-align: right;\">\n",
       "      <th></th>\n",
       "      <th>tariff</th>\n",
       "      <th>month</th>\n",
       "      <th>internet_mb</th>\n",
       "      <th>message</th>\n",
       "      <th>minut_sum</th>\n",
       "      <th>proceed</th>\n",
       "      <th>user_id</th>\n",
       "    </tr>\n",
       "  </thead>\n",
       "  <tbody>\n",
       "    <tr>\n",
       "      <th>0</th>\n",
       "      <td>smart</td>\n",
       "      <td>1.0</td>\n",
       "      <td>333.576649</td>\n",
       "      <td>252.133333</td>\n",
       "      <td>23787.341355</td>\n",
       "      <td>248220.539042</td>\n",
       "      <td>34</td>\n",
       "    </tr>\n",
       "    <tr>\n",
       "      <th>1</th>\n",
       "      <td>smart</td>\n",
       "      <td>2.0</td>\n",
       "      <td>337.025106</td>\n",
       "      <td>440.465714</td>\n",
       "      <td>36412.287961</td>\n",
       "      <td>375860.925967</td>\n",
       "      <td>58</td>\n",
       "    </tr>\n",
       "    <tr>\n",
       "      <th>2</th>\n",
       "      <td>smart</td>\n",
       "      <td>3.0</td>\n",
       "      <td>296.057416</td>\n",
       "      <td>669.780477</td>\n",
       "      <td>36823.155161</td>\n",
       "      <td>375342.993918</td>\n",
       "      <td>77</td>\n",
       "    </tr>\n",
       "    <tr>\n",
       "      <th>3</th>\n",
       "      <td>smart</td>\n",
       "      <td>4.0</td>\n",
       "      <td>293.096203</td>\n",
       "      <td>517.865680</td>\n",
       "      <td>34778.207127</td>\n",
       "      <td>337408.848034</td>\n",
       "      <td>112</td>\n",
       "    </tr>\n",
       "    <tr>\n",
       "      <th>4</th>\n",
       "      <td>smart</td>\n",
       "      <td>5.0</td>\n",
       "      <td>311.054711</td>\n",
       "      <td>638.775776</td>\n",
       "      <td>34820.061094</td>\n",
       "      <td>335807.283486</td>\n",
       "      <td>141</td>\n",
       "    </tr>\n",
       "    <tr>\n",
       "      <th>5</th>\n",
       "      <td>smart</td>\n",
       "      <td>6.0</td>\n",
       "      <td>263.325153</td>\n",
       "      <td>736.223100</td>\n",
       "      <td>29960.520109</td>\n",
       "      <td>290256.569215</td>\n",
       "      <td>163</td>\n",
       "    </tr>\n",
       "    <tr>\n",
       "      <th>6</th>\n",
       "      <td>smart</td>\n",
       "      <td>7.0</td>\n",
       "      <td>310.133632</td>\n",
       "      <td>719.352468</td>\n",
       "      <td>32250.269602</td>\n",
       "      <td>315884.021224</td>\n",
       "      <td>201</td>\n",
       "    </tr>\n",
       "    <tr>\n",
       "      <th>7</th>\n",
       "      <td>smart</td>\n",
       "      <td>8.0</td>\n",
       "      <td>255.740898</td>\n",
       "      <td>768.657709</td>\n",
       "      <td>34177.270551</td>\n",
       "      <td>328582.202005</td>\n",
       "      <td>234</td>\n",
       "    </tr>\n",
       "    <tr>\n",
       "      <th>8</th>\n",
       "      <td>smart</td>\n",
       "      <td>9.0</td>\n",
       "      <td>221.022089</td>\n",
       "      <td>705.447393</td>\n",
       "      <td>32950.529526</td>\n",
       "      <td>316496.251217</td>\n",
       "      <td>259</td>\n",
       "    </tr>\n",
       "    <tr>\n",
       "      <th>9</th>\n",
       "      <td>smart</td>\n",
       "      <td>10.0</td>\n",
       "      <td>297.602997</td>\n",
       "      <td>738.122969</td>\n",
       "      <td>34889.530319</td>\n",
       "      <td>336009.692795</td>\n",
       "      <td>293</td>\n",
       "    </tr>\n",
       "    <tr>\n",
       "      <th>10</th>\n",
       "      <td>smart</td>\n",
       "      <td>11.0</td>\n",
       "      <td>263.670610</td>\n",
       "      <td>712.535316</td>\n",
       "      <td>31100.611101</td>\n",
       "      <td>289181.099461</td>\n",
       "      <td>315</td>\n",
       "    </tr>\n",
       "    <tr>\n",
       "      <th>11</th>\n",
       "      <td>smart</td>\n",
       "      <td>12.0</td>\n",
       "      <td>278.202763</td>\n",
       "      <td>835.182149</td>\n",
       "      <td>39131.447539</td>\n",
       "      <td>325523.163209</td>\n",
       "      <td>336</td>\n",
       "    </tr>\n",
       "    <tr>\n",
       "      <th>12</th>\n",
       "      <td>ultra</td>\n",
       "      <td>1.0</td>\n",
       "      <td>193.000000</td>\n",
       "      <td>765.285714</td>\n",
       "      <td>72769.361111</td>\n",
       "      <td>79574.325635</td>\n",
       "      <td>9</td>\n",
       "    </tr>\n",
       "    <tr>\n",
       "      <th>13</th>\n",
       "      <td>ultra</td>\n",
       "      <td>2.0</td>\n",
       "      <td>428.259740</td>\n",
       "      <td>713.395833</td>\n",
       "      <td>87919.679348</td>\n",
       "      <td>118664.796044</td>\n",
       "      <td>24</td>\n",
       "    </tr>\n",
       "    <tr>\n",
       "      <th>14</th>\n",
       "      <td>ultra</td>\n",
       "      <td>3.0</td>\n",
       "      <td>486.303303</td>\n",
       "      <td>1826.666667</td>\n",
       "      <td>111384.900901</td>\n",
       "      <td>142940.658698</td>\n",
       "      <td>37</td>\n",
       "    </tr>\n",
       "    <tr>\n",
       "      <th>15</th>\n",
       "      <td>ultra</td>\n",
       "      <td>4.0</td>\n",
       "      <td>340.936139</td>\n",
       "      <td>1411.334993</td>\n",
       "      <td>66036.830189</td>\n",
       "      <td>76887.866092</td>\n",
       "      <td>53</td>\n",
       "    </tr>\n",
       "    <tr>\n",
       "      <th>16</th>\n",
       "      <td>ultra</td>\n",
       "      <td>5.0</td>\n",
       "      <td>391.898618</td>\n",
       "      <td>1639.419218</td>\n",
       "      <td>74881.015873</td>\n",
       "      <td>88160.662517</td>\n",
       "      <td>64</td>\n",
       "    </tr>\n",
       "    <tr>\n",
       "      <th>17</th>\n",
       "      <td>ultra</td>\n",
       "      <td>6.0</td>\n",
       "      <td>354.706329</td>\n",
       "      <td>1658.440476</td>\n",
       "      <td>86019.652160</td>\n",
       "      <td>102029.729957</td>\n",
       "      <td>81</td>\n",
       "    </tr>\n",
       "    <tr>\n",
       "      <th>18</th>\n",
       "      <td>ultra</td>\n",
       "      <td>7.0</td>\n",
       "      <td>339.175087</td>\n",
       "      <td>1931.619876</td>\n",
       "      <td>86952.587121</td>\n",
       "      <td>88377.256802</td>\n",
       "      <td>88</td>\n",
       "    </tr>\n",
       "    <tr>\n",
       "      <th>19</th>\n",
       "      <td>ultra</td>\n",
       "      <td>8.0</td>\n",
       "      <td>413.043293</td>\n",
       "      <td>1899.348824</td>\n",
       "      <td>91169.553588</td>\n",
       "      <td>100554.815577</td>\n",
       "      <td>103</td>\n",
       "    </tr>\n",
       "    <tr>\n",
       "      <th>20</th>\n",
       "      <td>ultra</td>\n",
       "      <td>9.0</td>\n",
       "      <td>339.271143</td>\n",
       "      <td>1767.982662</td>\n",
       "      <td>98597.904341</td>\n",
       "      <td>101179.237432</td>\n",
       "      <td>111</td>\n",
       "    </tr>\n",
       "    <tr>\n",
       "      <th>21</th>\n",
       "      <td>ultra</td>\n",
       "      <td>10.0</td>\n",
       "      <td>351.533746</td>\n",
       "      <td>2326.159583</td>\n",
       "      <td>97140.336086</td>\n",
       "      <td>107644.760265</td>\n",
       "      <td>118</td>\n",
       "    </tr>\n",
       "    <tr>\n",
       "      <th>22</th>\n",
       "      <td>ultra</td>\n",
       "      <td>11.0</td>\n",
       "      <td>358.157480</td>\n",
       "      <td>2163.632399</td>\n",
       "      <td>88449.624031</td>\n",
       "      <td>95907.149524</td>\n",
       "      <td>129</td>\n",
       "    </tr>\n",
       "    <tr>\n",
       "      <th>23</th>\n",
       "      <td>ultra</td>\n",
       "      <td>12.0</td>\n",
       "      <td>382.437002</td>\n",
       "      <td>2249.964527</td>\n",
       "      <td>107981.031983</td>\n",
       "      <td>107795.627603</td>\n",
       "      <td>134</td>\n",
       "    </tr>\n",
       "  </tbody>\n",
       "</table>\n",
       "</div>"
      ],
      "text/plain": [
       "   tariff  month  internet_mb      message      minut_sum        proceed  \\\n",
       "0   smart    1.0   333.576649   252.133333   23787.341355  248220.539042   \n",
       "1   smart    2.0   337.025106   440.465714   36412.287961  375860.925967   \n",
       "2   smart    3.0   296.057416   669.780477   36823.155161  375342.993918   \n",
       "3   smart    4.0   293.096203   517.865680   34778.207127  337408.848034   \n",
       "4   smart    5.0   311.054711   638.775776   34820.061094  335807.283486   \n",
       "5   smart    6.0   263.325153   736.223100   29960.520109  290256.569215   \n",
       "6   smart    7.0   310.133632   719.352468   32250.269602  315884.021224   \n",
       "7   smart    8.0   255.740898   768.657709   34177.270551  328582.202005   \n",
       "8   smart    9.0   221.022089   705.447393   32950.529526  316496.251217   \n",
       "9   smart   10.0   297.602997   738.122969   34889.530319  336009.692795   \n",
       "10  smart   11.0   263.670610   712.535316   31100.611101  289181.099461   \n",
       "11  smart   12.0   278.202763   835.182149   39131.447539  325523.163209   \n",
       "12  ultra    1.0   193.000000   765.285714   72769.361111   79574.325635   \n",
       "13  ultra    2.0   428.259740   713.395833   87919.679348  118664.796044   \n",
       "14  ultra    3.0   486.303303  1826.666667  111384.900901  142940.658698   \n",
       "15  ultra    4.0   340.936139  1411.334993   66036.830189   76887.866092   \n",
       "16  ultra    5.0   391.898618  1639.419218   74881.015873   88160.662517   \n",
       "17  ultra    6.0   354.706329  1658.440476   86019.652160  102029.729957   \n",
       "18  ultra    7.0   339.175087  1931.619876   86952.587121   88377.256802   \n",
       "19  ultra    8.0   413.043293  1899.348824   91169.553588  100554.815577   \n",
       "20  ultra    9.0   339.271143  1767.982662   98597.904341  101179.237432   \n",
       "21  ultra   10.0   351.533746  2326.159583   97140.336086  107644.760265   \n",
       "22  ultra   11.0   358.157480  2163.632399   88449.624031   95907.149524   \n",
       "23  ultra   12.0   382.437002  2249.964527  107981.031983  107795.627603   \n",
       "\n",
       "    user_id  \n",
       "0        34  \n",
       "1        58  \n",
       "2        77  \n",
       "3       112  \n",
       "4       141  \n",
       "5       163  \n",
       "6       201  \n",
       "7       234  \n",
       "8       259  \n",
       "9       293  \n",
       "10      315  \n",
       "11      336  \n",
       "12        9  \n",
       "13       24  \n",
       "14       37  \n",
       "15       53  \n",
       "16       64  \n",
       "17       81  \n",
       "18       88  \n",
       "19      103  \n",
       "20      111  \n",
       "21      118  \n",
       "22      129  \n",
       "23      134  "
      ]
     },
     "metadata": {},
     "output_type": "display_data"
    },
    {
     "data": {
      "text/html": [
       "<div>\n",
       "<style scoped>\n",
       "    .dataframe tbody tr th:only-of-type {\n",
       "        vertical-align: middle;\n",
       "    }\n",
       "\n",
       "    .dataframe tbody tr th {\n",
       "        vertical-align: top;\n",
       "    }\n",
       "\n",
       "    .dataframe thead th {\n",
       "        text-align: right;\n",
       "    }\n",
       "</style>\n",
       "<table border=\"1\" class=\"dataframe\">\n",
       "  <thead>\n",
       "    <tr style=\"text-align: right;\">\n",
       "      <th></th>\n",
       "      <th>tariff</th>\n",
       "      <th>month</th>\n",
       "      <th>internet_mb</th>\n",
       "      <th>message</th>\n",
       "      <th>minut_sum</th>\n",
       "      <th>proceed</th>\n",
       "      <th>user_id</th>\n",
       "    </tr>\n",
       "  </thead>\n",
       "  <tbody>\n",
       "    <tr>\n",
       "      <th>0</th>\n",
       "      <td>smart</td>\n",
       "      <td>1.0</td>\n",
       "      <td>18.264081</td>\n",
       "      <td>15.878707</td>\n",
       "      <td>154.231454</td>\n",
       "      <td>498.217361</td>\n",
       "      <td>34</td>\n",
       "    </tr>\n",
       "    <tr>\n",
       "      <th>1</th>\n",
       "      <td>smart</td>\n",
       "      <td>2.0</td>\n",
       "      <td>18.358244</td>\n",
       "      <td>20.987275</td>\n",
       "      <td>190.820041</td>\n",
       "      <td>613.074976</td>\n",
       "      <td>58</td>\n",
       "    </tr>\n",
       "    <tr>\n",
       "      <th>2</th>\n",
       "      <td>smart</td>\n",
       "      <td>3.0</td>\n",
       "      <td>17.206319</td>\n",
       "      <td>25.880117</td>\n",
       "      <td>191.893604</td>\n",
       "      <td>612.652425</td>\n",
       "      <td>77</td>\n",
       "    </tr>\n",
       "    <tr>\n",
       "      <th>3</th>\n",
       "      <td>smart</td>\n",
       "      <td>4.0</td>\n",
       "      <td>17.120053</td>\n",
       "      <td>22.756662</td>\n",
       "      <td>186.489161</td>\n",
       "      <td>580.869046</td>\n",
       "      <td>112</td>\n",
       "    </tr>\n",
       "    <tr>\n",
       "      <th>4</th>\n",
       "      <td>smart</td>\n",
       "      <td>5.0</td>\n",
       "      <td>17.636743</td>\n",
       "      <td>25.274014</td>\n",
       "      <td>186.601343</td>\n",
       "      <td>579.488812</td>\n",
       "      <td>141</td>\n",
       "    </tr>\n",
       "    <tr>\n",
       "      <th>5</th>\n",
       "      <td>smart</td>\n",
       "      <td>6.0</td>\n",
       "      <td>16.227297</td>\n",
       "      <td>27.133431</td>\n",
       "      <td>173.091075</td>\n",
       "      <td>538.754647</td>\n",
       "      <td>163</td>\n",
       "    </tr>\n",
       "    <tr>\n",
       "      <th>6</th>\n",
       "      <td>smart</td>\n",
       "      <td>7.0</td>\n",
       "      <td>17.610611</td>\n",
       "      <td>26.820747</td>\n",
       "      <td>179.583601</td>\n",
       "      <td>562.035605</td>\n",
       "      <td>201</td>\n",
       "    </tr>\n",
       "    <tr>\n",
       "      <th>7</th>\n",
       "      <td>smart</td>\n",
       "      <td>8.0</td>\n",
       "      <td>15.991901</td>\n",
       "      <td>27.724677</td>\n",
       "      <td>184.870956</td>\n",
       "      <td>573.220902</td>\n",
       "      <td>234</td>\n",
       "    </tr>\n",
       "    <tr>\n",
       "      <th>8</th>\n",
       "      <td>smart</td>\n",
       "      <td>9.0</td>\n",
       "      <td>14.866812</td>\n",
       "      <td>26.560260</td>\n",
       "      <td>181.522807</td>\n",
       "      <td>562.579995</td>\n",
       "      <td>259</td>\n",
       "    </tr>\n",
       "    <tr>\n",
       "      <th>9</th>\n",
       "      <td>smart</td>\n",
       "      <td>10.0</td>\n",
       "      <td>17.251174</td>\n",
       "      <td>27.168419</td>\n",
       "      <td>186.787393</td>\n",
       "      <td>579.663431</td>\n",
       "      <td>293</td>\n",
       "    </tr>\n",
       "    <tr>\n",
       "      <th>10</th>\n",
       "      <td>smart</td>\n",
       "      <td>11.0</td>\n",
       "      <td>16.237937</td>\n",
       "      <td>26.693357</td>\n",
       "      <td>176.353653</td>\n",
       "      <td>537.755613</td>\n",
       "      <td>315</td>\n",
       "    </tr>\n",
       "    <tr>\n",
       "      <th>11</th>\n",
       "      <td>smart</td>\n",
       "      <td>12.0</td>\n",
       "      <td>16.679411</td>\n",
       "      <td>28.899518</td>\n",
       "      <td>197.816702</td>\n",
       "      <td>570.546373</td>\n",
       "      <td>336</td>\n",
       "    </tr>\n",
       "    <tr>\n",
       "      <th>12</th>\n",
       "      <td>ultra</td>\n",
       "      <td>1.0</td>\n",
       "      <td>13.892444</td>\n",
       "      <td>27.663798</td>\n",
       "      <td>269.757968</td>\n",
       "      <td>282.089216</td>\n",
       "      <td>9</td>\n",
       "    </tr>\n",
       "    <tr>\n",
       "      <th>13</th>\n",
       "      <td>ultra</td>\n",
       "      <td>2.0</td>\n",
       "      <td>20.694437</td>\n",
       "      <td>26.709471</td>\n",
       "      <td>296.512528</td>\n",
       "      <td>344.477570</td>\n",
       "      <td>24</td>\n",
       "    </tr>\n",
       "    <tr>\n",
       "      <th>14</th>\n",
       "      <td>ultra</td>\n",
       "      <td>3.0</td>\n",
       "      <td>22.052286</td>\n",
       "      <td>42.739521</td>\n",
       "      <td>333.743765</td>\n",
       "      <td>378.074938</td>\n",
       "      <td>37</td>\n",
       "    </tr>\n",
       "    <tr>\n",
       "      <th>15</th>\n",
       "      <td>ultra</td>\n",
       "      <td>4.0</td>\n",
       "      <td>18.464456</td>\n",
       "      <td>37.567739</td>\n",
       "      <td>256.976322</td>\n",
       "      <td>277.286614</td>\n",
       "      <td>53</td>\n",
       "    </tr>\n",
       "    <tr>\n",
       "      <th>16</th>\n",
       "      <td>ultra</td>\n",
       "      <td>5.0</td>\n",
       "      <td>19.796429</td>\n",
       "      <td>40.489742</td>\n",
       "      <td>273.643958</td>\n",
       "      <td>296.918613</td>\n",
       "      <td>64</td>\n",
       "    </tr>\n",
       "    <tr>\n",
       "      <th>17</th>\n",
       "      <td>ultra</td>\n",
       "      <td>6.0</td>\n",
       "      <td>18.833649</td>\n",
       "      <td>40.723955</td>\n",
       "      <td>293.291071</td>\n",
       "      <td>319.420929</td>\n",
       "      <td>81</td>\n",
       "    </tr>\n",
       "    <tr>\n",
       "      <th>18</th>\n",
       "      <td>ultra</td>\n",
       "      <td>7.0</td>\n",
       "      <td>18.416707</td>\n",
       "      <td>43.950198</td>\n",
       "      <td>294.877241</td>\n",
       "      <td>297.283126</td>\n",
       "      <td>88</td>\n",
       "    </tr>\n",
       "    <tr>\n",
       "      <th>19</th>\n",
       "      <td>ultra</td>\n",
       "      <td>8.0</td>\n",
       "      <td>20.323467</td>\n",
       "      <td>43.581519</td>\n",
       "      <td>301.942964</td>\n",
       "      <td>317.103793</td>\n",
       "      <td>103</td>\n",
       "    </tr>\n",
       "    <tr>\n",
       "      <th>20</th>\n",
       "      <td>ultra</td>\n",
       "      <td>9.0</td>\n",
       "      <td>18.419314</td>\n",
       "      <td>42.047386</td>\n",
       "      <td>314.003032</td>\n",
       "      <td>318.086839</td>\n",
       "      <td>111</td>\n",
       "    </tr>\n",
       "    <tr>\n",
       "      <th>21</th>\n",
       "      <td>ultra</td>\n",
       "      <td>10.0</td>\n",
       "      <td>18.749233</td>\n",
       "      <td>48.230277</td>\n",
       "      <td>311.673445</td>\n",
       "      <td>328.092609</td>\n",
       "      <td>118</td>\n",
       "    </tr>\n",
       "    <tr>\n",
       "      <th>22</th>\n",
       "      <td>ultra</td>\n",
       "      <td>11.0</td>\n",
       "      <td>18.925049</td>\n",
       "      <td>46.514862</td>\n",
       "      <td>297.404815</td>\n",
       "      <td>309.688795</td>\n",
       "      <td>129</td>\n",
       "    </tr>\n",
       "    <tr>\n",
       "      <th>23</th>\n",
       "      <td>ultra</td>\n",
       "      <td>12.0</td>\n",
       "      <td>19.555997</td>\n",
       "      <td>47.433791</td>\n",
       "      <td>328.604674</td>\n",
       "      <td>328.322445</td>\n",
       "      <td>134</td>\n",
       "    </tr>\n",
       "  </tbody>\n",
       "</table>\n",
       "</div>"
      ],
      "text/plain": [
       "   tariff  month  internet_mb    message   minut_sum     proceed  user_id\n",
       "0   smart    1.0    18.264081  15.878707  154.231454  498.217361       34\n",
       "1   smart    2.0    18.358244  20.987275  190.820041  613.074976       58\n",
       "2   smart    3.0    17.206319  25.880117  191.893604  612.652425       77\n",
       "3   smart    4.0    17.120053  22.756662  186.489161  580.869046      112\n",
       "4   smart    5.0    17.636743  25.274014  186.601343  579.488812      141\n",
       "5   smart    6.0    16.227297  27.133431  173.091075  538.754647      163\n",
       "6   smart    7.0    17.610611  26.820747  179.583601  562.035605      201\n",
       "7   smart    8.0    15.991901  27.724677  184.870956  573.220902      234\n",
       "8   smart    9.0    14.866812  26.560260  181.522807  562.579995      259\n",
       "9   smart   10.0    17.251174  27.168419  186.787393  579.663431      293\n",
       "10  smart   11.0    16.237937  26.693357  176.353653  537.755613      315\n",
       "11  smart   12.0    16.679411  28.899518  197.816702  570.546373      336\n",
       "12  ultra    1.0    13.892444  27.663798  269.757968  282.089216        9\n",
       "13  ultra    2.0    20.694437  26.709471  296.512528  344.477570       24\n",
       "14  ultra    3.0    22.052286  42.739521  333.743765  378.074938       37\n",
       "15  ultra    4.0    18.464456  37.567739  256.976322  277.286614       53\n",
       "16  ultra    5.0    19.796429  40.489742  273.643958  296.918613       64\n",
       "17  ultra    6.0    18.833649  40.723955  293.291071  319.420929       81\n",
       "18  ultra    7.0    18.416707  43.950198  294.877241  297.283126       88\n",
       "19  ultra    8.0    20.323467  43.581519  301.942964  317.103793      103\n",
       "20  ultra    9.0    18.419314  42.047386  314.003032  318.086839      111\n",
       "21  ultra   10.0    18.749233  48.230277  311.673445  328.092609      118\n",
       "22  ultra   11.0    18.925049  46.514862  297.404815  309.688795      129\n",
       "23  ultra   12.0    19.555997  47.433791  328.604674  328.322445      134"
      ]
     },
     "metadata": {},
     "output_type": "display_data"
    }
   ],
   "source": [
    "# сгрупируем данные по месецам  \n",
    "df_tariff_month_mean = df.pivot_table(index =['tariff','month'], \n",
    "                                              aggfunc = {'user_id':'count', 'minut_sum':'mean', \n",
    "                                                         'internet_mb':'mean','message':'mean',\n",
    "                                                         'proceed':'mean'}).reset_index()\n",
    "display(df_tariff_month_mean)\n",
    "#df.describe()\n",
    "#df_tariff_month.describe()\n",
    "# сгрупируем данные по месецам  \n",
    "\n",
    "df_tariff_month_var = df.pivot_table(index =['tariff','month'], \n",
    "                                              aggfunc = {'user_id':'count', 'minut_sum':'var', \n",
    "                                                         'internet_mb':'var','message':'var',\n",
    "                                                         'proceed':'var'}).reset_index()\n",
    "display(df_tariff_month_var)\n",
    "\n",
    "df_tariff_month_std= df.pivot_table(index =['tariff','month'], \n",
    "                                              aggfunc = {'user_id':'count', 'minut_sum':'std', \n",
    "                                                         'internet_mb':'std','message':'std',\n",
    "                                                         'proceed':'std'}).reset_index()\n",
    "display(df_tariff_month_std)\n"
   ]
  },
  {
   "cell_type": "code",
   "execution_count": 6,
   "metadata": {},
   "outputs": [
    {
     "data": {
      "image/png": "[encoded data removed]",
      "text/plain": [
       "<Figure size 720x504 with 1 Axes>"
      ]
     },
     "metadata": {
      "needs_background": "light"
     },
     "output_type": "display_data"
    },
    {
     "data": {
      "image/png": "[encoded data removed]",
      "text/plain": [
       "<Figure size 720x504 with 1 Axes>"
      ]
     },
     "metadata": {
      "needs_background": "light"
     },
     "output_type": "display_data"
    },
    {
     "data": {
      "image/png": "[encoded data removed]",
      "text/plain": [
       "<Figure size 720x504 with 1 Axes>"
      ]
     },
     "metadata": {
      "needs_background": "light"
     },
     "output_type": "display_data"
    }
   ],
   "source": [
    "# Продолжить графики\n",
    "df_tariff_month_mean.plot( y=['minut_sum', 'message', 'internet_mb'], \n",
    "                          figsize=(10,7), kind='bar') \n",
    "plt.title(\"Среднее\")\n",
    "plt.show()\n",
    "\n",
    "df_tariff_month_var.plot( y=['minut_sum', 'message', 'internet_mb'], \n",
    "                          figsize=(10,7), kind='bar') \n",
    "plt.title(\"Дисперсия\")\n",
    "plt.show()\n",
    "\n",
    "df_tariff_month_std.plot( y=['minut_sum', 'message', 'internet_mb'], \n",
    "                          figsize=(10,7), kind='bar') \n",
    "plt.title(\"Отклонение\")\n",
    "plt.show()\n"
   ]
  },
  {
   "cell_type": "code",
   "execution_count": 7,
   "metadata": {},
   "outputs": [
    {
     "data": {
      "image/png": "[encoded data removed]",
      "text/plain": [
       "<Figure size 432x288 with 1 Axes>"
      ]
     },
     "metadata": {
      "needs_background": "light"
     },
     "output_type": "display_data"
    },
    {
     "data": {
      "image/png": "[encoded data removed]",
      "text/plain": [
       "<Figure size 432x288 with 1 Axes>"
      ]
     },
     "metadata": {
      "needs_background": "light"
     },
     "output_type": "display_data"
    },
    {
     "data": {
      "image/png": "[encoded data removed]",
      "text/plain": [
       "<Figure size 432x288 with 1 Axes>"
      ]
     },
     "metadata": {
      "needs_background": "light"
     },
     "output_type": "display_data"
    },
    {
     "data": {
      "image/png": "[encoded data removed]",
      "text/plain": [
       "<Figure size 432x288 with 1 Axes>"
      ]
     },
     "metadata": {
      "needs_background": "light"
     },
     "output_type": "display_data"
    }
   ],
   "source": [
    "ultra = df[df['tariff'] == 'ultra']\n",
    "mean_ultra = ultra['proceed']\n",
    "\n",
    "smart = df[df['tariff'] == 'smart']\n",
    "#smart = smart.fillna(0)\n",
    "mean_smart = ultra['proceed']\n",
    "\n",
    "snsplot = sns.kdeplot(mean_ultra, shade=True)\n",
    "plt.title(\"Распределение для тарифа ультра\")\n",
    "fig = snsplot.get_figure()\n",
    "plt.show()\n",
    "\n",
    "plt.hist(mean_ultra, bins = 30)\n",
    "plt.title(\"Распределение для тарифа ультра\")\n",
    "plt.show()\n",
    "\n",
    "snsplot = sns.kdeplot(mean_smart, shade=True)\n",
    "plt.title(\"Распределение для тарифа смарт\")\n",
    "fig = snsplot.get_figure()\n",
    "plt.show()\n",
    "\n",
    "plt.hist(mean_smart, bins = 30)\n",
    "plt.title(\"Распределение для тарифа смарт\")\n",
    "plt.show()\n",
    "\n",
    "# Для работы со следующим кодом\n",
    "ultra = ultra.fillna(0)\n",
    "mean_ultra = ultra['proceed']"
   ]
  },
  {
   "cell_type": "code",
   "execution_count": 8,
   "metadata": {},
   "outputs": [
    {
     "data": {
      "image/png": "[encoded data removed]",
      "text/plain": [
       "<Figure size 432x288 with 1 Axes>"
      ]
     },
     "metadata": {
      "needs_background": "light"
     },
     "output_type": "display_data"
    },
    {
     "data": {
      "image/png": "[encoded data removed]",
      "text/plain": [
       "<Figure size 432x288 with 1 Axes>"
      ]
     },
     "metadata": {
      "needs_background": "light"
     },
     "output_type": "display_data"
    }
   ],
   "source": [
    "# Для москвы и других городов\n",
    "\n",
    "moscow = df[df['city'] == 'Москва']\n",
    "other = df[df['city'] != 'Москва']\n",
    "\n",
    "plt.hist(moscow['proceed'], bins = 30)\n",
    "plt.title(\"Распределение для Москвы\")\n",
    "plt.show()\n",
    "\n",
    "plt.hist(other['proceed'], bins = 30)\n",
    "plt.title(\"Распределение для других городов\")\n",
    "plt.show()"
   ]
  },
  {
   "cell_type": "code",
   "execution_count": 9,
   "metadata": {},
   "outputs": [
    {
     "name": "stdout",
     "output_type": "stream",
     "text": [
      "770952.5691467593 | 878.0390476207532\n",
      "count     957.000000\n",
      "mean     1591.877629\n",
      "std       878.498153\n",
      "min         0.000000\n",
      "25%      1397.943359\n",
      "50%      1939.261719\n",
      "75%      2186.484375\n",
      "max      2622.267578\n",
      "Name: proceed, dtype: float64\n",
      "101996.49618015597 | 319.3689029635728\n",
      "count     752.000000\n",
      "mean     2025.833631\n",
      "std       319.581461\n",
      "min       934.777344\n",
      "25%      1822.599121\n",
      "50%      2050.799805\n",
      "75%      2245.288574\n",
      "max      2622.267578\n",
      "Name: proceed, dtype: float64\n"
     ]
    }
   ],
   "source": [
    "# Посмотрим дисперсии ultra и среднии\n",
    "variance_ultra = np.var(mean_ultra)\n",
    "print(variance_ultra, '|', np.sqrt(variance_ultra))\n",
    "print(mean_ultra.describe())\n",
    "\n",
    "# Посмотрим дисперсии smart и среднии\n",
    "variance_smart = np.var(mean_smart)\n",
    "print(variance_smart, '|', np.sqrt(variance_smart)) \n",
    "print(mean_smart.describe())\n"
   ]
  },
  {
   "cell_type": "markdown",
   "metadata": {},
   "source": [
    "<div class=\"alert alert-info\"> <b> 4. Проверка гипотезы!</b></div>"
   ]
  },
  {
   "cell_type": "markdown",
   "metadata": {},
   "source": [
    "<div class=\"alert alert-info\">\n",
    "    <b>Строим гипотезы! </b>\n",
    "    <p> Гипотеза для тарифов:</p>\n",
    "    <p> H0: Тарифы смарт и ультра одинаково выгодны '='</p>\n",
    "    <p> H1: Один из тарифов выгодней </p>\n",
    "    <p> Гипотеза для городов:</p>\n",
    "    <p> H0: Выручка в Москве и регионах одинаковая '='</p>\n",
    "    <p> H1: Либо в Москве либо в регионах выручка больше </p>\n",
    "</div>   "
   ]
  },
  {
   "cell_type": "code",
   "execution_count": 10,
   "metadata": {},
   "outputs": [
    {
     "name": "stdout",
     "output_type": "stream",
     "text": [
      "p-значение: 0.9753519139250032\n",
      "Не получилось отвергнуть нулевую гипотезу\n",
      "-----------------------------------------------------------------------\n",
      "p-значение: 1.2384075929256492e-15\n",
      "Не получилось отвергнуть нулевую гипотезу\n"
     ]
    }
   ],
   "source": [
    "# cредняя выручка пользователей тарифов «Ультра» и «Смарт» различаются\n",
    "# Гипотеза тарифы\n",
    "\n",
    "df_tarif = df.pivot_table(index ='tariff', \n",
    "                          aggfunc = {'user_id':'count', 'proceed':'mean'}).reset_index()\n",
    "\n",
    "interested_value = 1591\n",
    "\n",
    "alpha = .05 # критический уровень статистической значимости\n",
    "\n",
    "results = st.ttest_1samp(\n",
    "    mean_ultra, \n",
    "    interested_value)\n",
    "\n",
    "print('p-значение:', results.pvalue)\n",
    "\n",
    "if results.pvalue == alpha:\n",
    "    print(\"Отвергаем нулевую гипотезу\")\n",
    "else:\n",
    "    print(\"Не получилось отвергнуть нулевую гипотезу\") \n",
    "    \n",
    "# средняя выручка пользователей из Москвы отличается от выручки пользователей из других регионов\n",
    "# Гипотиза выручка пользователей по Москве больше чем по остальным регионам\n",
    "print('-----------------------------------------------------------------------')\n",
    "\n",
    "df_city = df.pivot_table(index ='city', \n",
    "                                              aggfunc = {'user_id':'count',\n",
    "                                                         'proceed':'mean'}).reset_index()\n",
    "#display(df_city)\n",
    "\n",
    "moscow = df_city[df_city['city'] == 'Москва']\n",
    "other = df_city[df_city['city'] != 'Москва']\n",
    "#display(moscow, other)\n",
    "\n",
    "city = other['proceed']\n",
    "\n",
    "\n",
    "#display(mean_ultra)\n",
    "\n",
    "interested_value = 2025\n",
    "\n",
    "alpha = .05 # критический уровень статистической значимости\n",
    "\n",
    "results = st.ttest_1samp(\n",
    "    city, \n",
    "    interested_value)\n",
    "\n",
    "print('p-значение:', results.pvalue)\n",
    "\n",
    "if results.pvalue == alpha:\n",
    "    print(\"Отвергаем нулевую гипотезу\")\n",
    "else:\n",
    "    print(\"Не получилось отвергнуть нулевую гипотезу\") \n",
    "# Описание в общих выводах    "
   ]
  },
  {
   "cell_type": "markdown",
   "metadata": {},
   "source": [
    "<div class=\"alert alert-info\"> <b> 5. Выводы!</b></div>"
   ]
  },
  {
   "cell_type": "markdown",
   "metadata": {},
   "source": [
    "<div class=\"alert alert-info\"><p> Подведем итоги!</p>\n",
    "<li> Первая гипотеза по тарифам была сформулирована так что таривы одинаково выгодны, однака она не подтвердилась, что говорит о том что один из тарифов более, выгодный на графиках видно, что это тариф смарт, следовательно выгодней оставить смарт, и строить новые тарифы похожими на него.</li>\n",
    "<li> Вторая гипотиза была сформулирована, как в Москве и регионах средняя выручка от пользователей равна, эта гипотеза так же не подтвердилась следовательно надо искать где выгода по пользователям больше.</li>\n",
    "</div>"
   ]
  }
 ],
 "metadata": {
  "ExecuteTimeLog": [
   {
    "duration": 143,
    "start_time": "2022-01-09T14:08:39.800Z"
   },
   {
    "duration": 1583,
    "start_time": "2022-01-09T14:08:50.589Z"
   },
   {
    "duration": 851,
    "start_time": "2022-01-09T14:11:33.857Z"
   },
   {
    "duration": 240,
    "start_time": "2022-01-09T14:11:53.563Z"
   },
   {
    "duration": 444,
    "start_time": "2022-01-09T14:13:19.001Z"
   },
   {
    "duration": 552,
    "start_time": "2022-01-09T14:14:11.184Z"
   },
   {
    "duration": 1122,
    "start_time": "2022-01-09T14:14:51.392Z"
   },
   {
    "duration": 543,
    "start_time": "2022-01-09T14:15:02.541Z"
   },
   {
    "duration": 661,
    "start_time": "2022-01-09T14:16:01.256Z"
   },
   {
    "duration": 542,
    "start_time": "2022-01-09T14:16:38.214Z"
   },
   {
    "duration": 739,
    "start_time": "2022-01-09T14:22:50.608Z"
   },
   {
    "duration": 581,
    "start_time": "2022-01-09T14:23:07.384Z"
   },
   {
    "duration": 588,
    "start_time": "2022-01-09T14:23:54.682Z"
   },
   {
    "duration": 574,
    "start_time": "2022-01-09T14:25:05.331Z"
   },
   {
    "duration": 607,
    "start_time": "2022-01-09T14:25:32.912Z"
   },
   {
    "duration": 585,
    "start_time": "2022-01-09T14:26:50.985Z"
   },
   {
    "duration": 570,
    "start_time": "2022-01-09T14:27:02.401Z"
   },
   {
    "duration": 147,
    "start_time": "2022-01-09T14:31:33.874Z"
   },
   {
    "duration": 123,
    "start_time": "2022-01-09T14:32:12.918Z"
   },
   {
    "duration": 503,
    "start_time": "2022-01-09T14:32:25.174Z"
   },
   {
    "duration": 150,
    "start_time": "2022-01-09T14:33:29.644Z"
   },
   {
    "duration": 124,
    "start_time": "2022-01-09T14:34:12.207Z"
   },
   {
    "duration": 133,
    "start_time": "2022-01-09T14:37:16.083Z"
   },
   {
    "duration": 508,
    "start_time": "2022-01-09T14:37:26.650Z"
   },
   {
    "duration": 978,
    "start_time": "2022-01-09T14:37:35.667Z"
   },
   {
    "duration": 926,
    "start_time": "2022-01-09T14:41:31.864Z"
   },
   {
    "duration": 912,
    "start_time": "2022-01-09T14:43:54.143Z"
   },
   {
    "duration": 912,
    "start_time": "2022-01-09T14:44:05.022Z"
   },
   {
    "duration": 971,
    "start_time": "2022-01-09T14:46:10.955Z"
   },
   {
    "duration": 889,
    "start_time": "2022-01-09T14:51:22.908Z"
   },
   {
    "duration": 888,
    "start_time": "2022-01-09T14:55:51.876Z"
   },
   {
    "duration": 603,
    "start_time": "2022-01-09T14:56:46.478Z"
   },
   {
    "duration": 126,
    "start_time": "2022-01-09T14:57:04.359Z"
   },
   {
    "duration": 132,
    "start_time": "2022-01-09T14:57:26.086Z"
   },
   {
    "duration": 121,
    "start_time": "2022-01-09T14:57:54.582Z"
   },
   {
    "duration": 121,
    "start_time": "2022-01-09T14:58:12.336Z"
   },
   {
    "duration": 736,
    "start_time": "2022-01-09T14:58:29.968Z"
   },
   {
    "duration": 658,
    "start_time": "2022-01-09T14:58:58.464Z"
   },
   {
    "duration": 637,
    "start_time": "2022-01-09T14:59:36.206Z"
   },
   {
    "duration": 669,
    "start_time": "2022-01-09T15:02:35.860Z"
   },
   {
    "duration": 685,
    "start_time": "2022-01-09T15:02:48.237Z"
   },
   {
    "duration": 666,
    "start_time": "2022-01-09T15:04:32.016Z"
   },
   {
    "duration": 678,
    "start_time": "2022-01-09T15:17:05.299Z"
   },
   {
    "duration": 222,
    "start_time": "2022-01-09T15:36:41.342Z"
   },
   {
    "duration": 4,
    "start_time": "2022-01-09T15:36:49.630Z"
   },
   {
    "duration": 4,
    "start_time": "2022-01-09T15:37:31.909Z"
   },
   {
    "duration": 1511,
    "start_time": "2022-01-09T15:37:50.472Z"
   },
   {
    "duration": 700,
    "start_time": "2022-01-09T15:37:51.985Z"
   },
   {
    "duration": 4,
    "start_time": "2022-01-09T15:37:53.244Z"
   },
   {
    "duration": 4,
    "start_time": "2022-01-09T15:37:57.558Z"
   },
   {
    "duration": 165,
    "start_time": "2022-01-09T15:38:50.306Z"
   },
   {
    "duration": 4,
    "start_time": "2022-01-09T15:39:06.307Z"
   },
   {
    "duration": 5,
    "start_time": "2022-01-09T15:39:09.996Z"
   },
   {
    "duration": 7,
    "start_time": "2022-01-09T15:39:24.298Z"
   },
   {
    "duration": 6,
    "start_time": "2022-01-09T15:43:13.068Z"
   },
   {
    "duration": 4,
    "start_time": "2022-01-09T15:43:41.000Z"
   },
   {
    "duration": 494,
    "start_time": "2022-01-09T15:44:11.792Z"
   },
   {
    "duration": 565,
    "start_time": "2022-01-09T15:44:31.776Z"
   },
   {
    "duration": 46,
    "start_time": "2022-01-09T15:47:44.630Z"
   },
   {
    "duration": 52,
    "start_time": "2022-01-09T15:48:55.958Z"
   },
   {
    "duration": 38,
    "start_time": "2022-01-09T15:51:34.807Z"
   },
   {
    "duration": 37,
    "start_time": "2022-01-09T15:52:25.508Z"
   },
   {
    "duration": 26,
    "start_time": "2022-01-09T15:52:48.411Z"
   },
   {
    "duration": 21,
    "start_time": "2022-01-09T15:52:55.123Z"
   },
   {
    "duration": 1084,
    "start_time": "2022-01-09T16:01:15.358Z"
   },
   {
    "duration": 929,
    "start_time": "2022-01-09T16:02:32.356Z"
   },
   {
    "duration": 787,
    "start_time": "2022-01-09T16:02:54.981Z"
   },
   {
    "duration": 1105,
    "start_time": "2022-01-09T16:05:00.934Z"
   },
   {
    "duration": 1451,
    "start_time": "2022-01-09T16:05:45.026Z"
   },
   {
    "duration": 1165,
    "start_time": "2022-01-09T16:07:20.522Z"
   },
   {
    "duration": 1148,
    "start_time": "2022-01-09T16:10:56.855Z"
   },
   {
    "duration": 1181,
    "start_time": "2022-01-09T16:11:33.217Z"
   },
   {
    "duration": 1147,
    "start_time": "2022-01-09T16:11:46.427Z"
   },
   {
    "duration": 1320,
    "start_time": "2022-01-09T16:12:00.743Z"
   },
   {
    "duration": 1351,
    "start_time": "2022-01-09T16:12:13.042Z"
   },
   {
    "duration": 1123,
    "start_time": "2022-01-09T16:12:32.308Z"
   },
   {
    "duration": 1144,
    "start_time": "2022-01-09T16:13:22.080Z"
   },
   {
    "duration": 1439,
    "start_time": "2022-01-09T16:15:51.559Z"
   },
   {
    "duration": 1334,
    "start_time": "2022-01-09T16:20:27.797Z"
   },
   {
    "duration": 1417,
    "start_time": "2022-01-09T16:22:50.198Z"
   },
   {
    "duration": 1478,
    "start_time": "2022-01-09T16:23:06.982Z"
   },
   {
    "duration": 147,
    "start_time": "2022-01-09T16:26:18.973Z"
   },
   {
    "duration": 5,
    "start_time": "2022-01-09T16:26:36.299Z"
   },
   {
    "duration": 1453,
    "start_time": "2022-01-09T16:26:36.720Z"
   },
   {
    "duration": 131,
    "start_time": "2022-01-09T16:26:38.176Z"
   },
   {
    "duration": 227,
    "start_time": "2022-01-09T16:26:43.082Z"
   },
   {
    "duration": 352,
    "start_time": "2022-01-09T16:26:48.733Z"
   },
   {
    "duration": 186,
    "start_time": "2022-01-09T16:27:44.844Z"
   },
   {
    "duration": 381,
    "start_time": "2022-01-09T16:27:48.493Z"
   },
   {
    "duration": 1498,
    "start_time": "2022-01-09T16:28:11.435Z"
   },
   {
    "duration": 1530,
    "start_time": "2022-01-09T16:28:12.935Z"
   },
   {
    "duration": 516,
    "start_time": "2022-01-09T16:28:14.468Z"
   },
   {
    "duration": 351,
    "start_time": "2022-01-09T16:28:44.023Z"
   },
   {
    "duration": 4,
    "start_time": "2022-01-09T16:29:26.767Z"
   },
   {
    "duration": 171,
    "start_time": "2022-01-09T16:30:08.416Z"
   },
   {
    "duration": 323,
    "start_time": "2022-01-09T16:30:21.403Z"
   },
   {
    "duration": 346,
    "start_time": "2022-01-09T16:30:46.285Z"
   },
   {
    "duration": 210,
    "start_time": "2022-01-09T16:30:52.750Z"
   },
   {
    "duration": 411,
    "start_time": "2022-01-09T16:31:54.031Z"
   },
   {
    "duration": 311,
    "start_time": "2022-01-09T16:32:12.822Z"
   },
   {
    "duration": 562,
    "start_time": "2022-01-09T16:32:27.558Z"
   },
   {
    "duration": 479,
    "start_time": "2022-01-09T16:32:37.575Z"
   },
   {
    "duration": 298,
    "start_time": "2022-01-09T16:33:01.338Z"
   },
   {
    "duration": 1107,
    "start_time": "2022-01-09T16:33:26.542Z"
   },
   {
    "duration": 851,
    "start_time": "2022-01-09T16:33:48.008Z"
   },
   {
    "duration": 225,
    "start_time": "2022-01-09T16:33:58.686Z"
   },
   {
    "duration": 303,
    "start_time": "2022-01-09T16:34:18.613Z"
   },
   {
    "duration": 301,
    "start_time": "2022-01-09T16:39:54.234Z"
   },
   {
    "duration": 281,
    "start_time": "2022-01-09T16:40:07.290Z"
   },
   {
    "duration": 218,
    "start_time": "2022-01-09T16:40:18.114Z"
   },
   {
    "duration": 191,
    "start_time": "2022-01-09T16:40:20.993Z"
   },
   {
    "duration": 170,
    "start_time": "2022-01-09T16:40:41.401Z"
   },
   {
    "duration": 373,
    "start_time": "2022-01-09T16:41:19.209Z"
   },
   {
    "duration": 211,
    "start_time": "2022-01-09T16:41:30.882Z"
   },
   {
    "duration": 443,
    "start_time": "2022-01-09T16:51:06.811Z"
   },
   {
    "duration": 396,
    "start_time": "2022-01-09T16:52:14.715Z"
   },
   {
    "duration": 414,
    "start_time": "2022-01-09T16:53:00.929Z"
   },
   {
    "duration": 49,
    "start_time": "2022-01-09T16:53:39.562Z"
   },
   {
    "duration": 53,
    "start_time": "2022-01-09T16:54:37.138Z"
   },
   {
    "duration": 90,
    "start_time": "2022-01-09T16:55:45.256Z"
   },
   {
    "duration": 80,
    "start_time": "2022-01-09T16:58:18.537Z"
   },
   {
    "duration": 83,
    "start_time": "2022-01-09T17:02:20.670Z"
   },
   {
    "duration": 124,
    "start_time": "2022-01-09T17:03:45.741Z"
   },
   {
    "duration": 85,
    "start_time": "2022-01-09T17:04:00.212Z"
   },
   {
    "duration": 1620,
    "start_time": "2022-01-09T17:06:54.067Z"
   },
   {
    "duration": 1664,
    "start_time": "2022-01-09T17:07:26.922Z"
   },
   {
    "duration": 1988,
    "start_time": "2022-01-09T17:07:42.383Z"
   },
   {
    "duration": 116,
    "start_time": "2022-01-09T17:07:53.621Z"
   },
   {
    "duration": 192,
    "start_time": "2022-01-09T17:07:57.948Z"
   },
   {
    "duration": 190,
    "start_time": "2022-01-09T17:09:03.683Z"
   },
   {
    "duration": 2265,
    "start_time": "2022-01-09T17:10:25.235Z"
   },
   {
    "duration": 1760,
    "start_time": "2022-01-09T17:11:18.924Z"
   },
   {
    "duration": 1633,
    "start_time": "2022-01-09T17:13:08.618Z"
   },
   {
    "duration": 1658,
    "start_time": "2022-01-09T17:13:15.857Z"
   },
   {
    "duration": 1428,
    "start_time": "2022-01-09T17:13:38.608Z"
   },
   {
    "duration": 1642,
    "start_time": "2022-01-09T17:13:40.038Z"
   },
   {
    "duration": 382,
    "start_time": "2022-01-09T17:13:41.683Z"
   },
   {
    "duration": 2288,
    "start_time": "2022-01-09T17:13:42.209Z"
   },
   {
    "duration": 1327,
    "start_time": "2022-01-09T17:14:05.443Z"
   },
   {
    "duration": 945,
    "start_time": "2022-01-09T17:14:23.265Z"
   },
   {
    "duration": 993,
    "start_time": "2022-01-09T17:14:40.883Z"
   },
   {
    "duration": 539,
    "start_time": "2022-01-09T17:14:50.634Z"
   },
   {
    "duration": 693,
    "start_time": "2022-01-09T17:15:04.185Z"
   },
   {
    "duration": 1551,
    "start_time": "2022-01-09T17:15:31.944Z"
   },
   {
    "duration": 1732,
    "start_time": "2022-01-09T17:15:33.498Z"
   },
   {
    "duration": 388,
    "start_time": "2022-01-09T17:15:35.232Z"
   },
   {
    "duration": 669,
    "start_time": "2022-01-09T17:15:36.391Z"
   },
   {
    "duration": 488,
    "start_time": "2022-01-09T17:16:54.593Z"
   },
   {
    "duration": 961,
    "start_time": "2022-01-09T17:17:26.430Z"
   },
   {
    "duration": 133,
    "start_time": "2022-01-09T17:18:59.814Z"
   },
   {
    "duration": 188,
    "start_time": "2022-01-09T17:24:17.772Z"
   },
   {
    "duration": 1606,
    "start_time": "2022-01-09T17:31:38.182Z"
   },
   {
    "duration": 1650,
    "start_time": "2022-01-09T17:32:09.107Z"
   },
   {
    "duration": 1701,
    "start_time": "2022-01-09T17:32:38.503Z"
   },
   {
    "duration": 2066,
    "start_time": "2022-01-09T17:33:27.376Z"
   },
   {
    "duration": 1797,
    "start_time": "2022-01-09T17:33:47.637Z"
   },
   {
    "duration": 369,
    "start_time": "2022-01-09T17:34:25.268Z"
   },
   {
    "duration": 192,
    "start_time": "2022-01-09T17:34:25.868Z"
   },
   {
    "duration": 601,
    "start_time": "2022-01-09T17:46:36.752Z"
   },
   {
    "duration": 1754,
    "start_time": "2022-01-09T17:47:03.842Z"
   },
   {
    "duration": 271,
    "start_time": "2022-01-09T17:48:33.560Z"
   },
   {
    "duration": 637,
    "start_time": "2022-01-09T17:50:07.060Z"
   },
   {
    "duration": 461,
    "start_time": "2022-01-09T17:50:44.264Z"
   },
   {
    "duration": 1711,
    "start_time": "2022-01-09T17:50:50.569Z"
   },
   {
    "duration": 2097,
    "start_time": "2022-01-09T17:50:52.284Z"
   },
   {
    "duration": 865,
    "start_time": "2022-01-09T17:50:54.384Z"
   },
   {
    "duration": 4,
    "start_time": "2022-01-09T17:52:16.232Z"
   },
   {
    "duration": 1925,
    "start_time": "2022-01-09T17:52:16.817Z"
   },
   {
    "duration": 824,
    "start_time": "2022-01-09T17:52:18.744Z"
   },
   {
    "duration": 192,
    "start_time": "2022-01-09T17:52:21.755Z"
   },
   {
    "duration": 210,
    "start_time": "2022-01-09T17:52:55.884Z"
   },
   {
    "duration": 628,
    "start_time": "2022-01-09T17:53:31.274Z"
   },
   {
    "duration": 248,
    "start_time": "2022-01-09T17:54:07.147Z"
   },
   {
    "duration": 227,
    "start_time": "2022-01-09T17:54:20.591Z"
   },
   {
    "duration": 594,
    "start_time": "2022-01-09T17:59:33.608Z"
   },
   {
    "duration": 7974,
    "start_time": "2022-01-09T17:59:45.423Z"
   },
   {
    "duration": 241,
    "start_time": "2022-01-09T18:00:50.178Z"
   },
   {
    "duration": 647,
    "start_time": "2022-01-09T18:06:07.793Z"
   },
   {
    "duration": 252,
    "start_time": "2022-01-09T18:06:22.638Z"
   },
   {
    "duration": 649,
    "start_time": "2022-01-09T18:09:01.761Z"
   },
   {
    "duration": 258,
    "start_time": "2022-01-09T18:10:30.888Z"
   },
   {
    "duration": 580,
    "start_time": "2022-01-09T18:11:56.761Z"
   },
   {
    "duration": 1713,
    "start_time": "2022-01-09T18:12:28.119Z"
   },
   {
    "duration": 269,
    "start_time": "2022-01-09T18:13:19.122Z"
   },
   {
    "duration": 660,
    "start_time": "2022-01-09T18:13:41.401Z"
   },
   {
    "duration": 1936,
    "start_time": "2022-01-09T18:16:25.085Z"
   },
   {
    "duration": 320,
    "start_time": "2022-01-09T18:16:49.652Z"
   },
   {
    "duration": 457,
    "start_time": "2022-01-09T18:17:55.303Z"
   },
   {
    "duration": 136,
    "start_time": "2022-01-09T18:22:45.561Z"
   },
   {
    "duration": 281,
    "start_time": "2022-01-09T18:22:56.400Z"
   },
   {
    "duration": 260,
    "start_time": "2022-01-09T18:24:39.472Z"
   },
   {
    "duration": 192,
    "start_time": "2022-01-09T18:43:07.207Z"
   },
   {
    "duration": 193,
    "start_time": "2022-01-09T18:43:20.732Z"
   },
   {
    "duration": 187,
    "start_time": "2022-01-09T18:43:30.382Z"
   },
   {
    "duration": 1605,
    "start_time": "2022-01-09T18:43:39.854Z"
   },
   {
    "duration": 1900,
    "start_time": "2022-01-09T18:43:41.462Z"
   },
   {
    "duration": 784,
    "start_time": "2022-01-09T18:43:43.365Z"
   },
   {
    "duration": 495,
    "start_time": "2022-01-09T18:43:44.160Z"
   },
   {
    "duration": 360,
    "start_time": "2022-01-09T18:44:05.916Z"
   },
   {
    "duration": 447,
    "start_time": "2022-01-09T18:44:17.548Z"
   },
   {
    "duration": 440,
    "start_time": "2022-01-09T18:44:26.583Z"
   },
   {
    "duration": 276,
    "start_time": "2022-01-09T18:44:47.054Z"
   },
   {
    "duration": 464,
    "start_time": "2022-01-10T03:38:01.757Z"
   },
   {
    "duration": 1435,
    "start_time": "2022-01-10T03:38:10.382Z"
   },
   {
    "duration": 1974,
    "start_time": "2022-01-10T03:38:11.820Z"
   },
   {
    "duration": 778,
    "start_time": "2022-01-10T03:38:14.661Z"
   },
   {
    "duration": 9982,
    "start_time": "2022-01-10T03:38:15.444Z"
   },
   {
    "duration": 9251,
    "start_time": "2022-01-10T03:40:33.140Z"
   },
   {
    "duration": 406,
    "start_time": "2022-01-10T03:41:00.885Z"
   },
   {
    "duration": 1601,
    "start_time": "2022-01-10T03:41:17.527Z"
   },
   {
    "duration": 336,
    "start_time": "2022-01-10T03:41:33.001Z"
   },
   {
    "duration": 510,
    "start_time": "2022-01-10T03:41:59.224Z"
   },
   {
    "duration": 1489,
    "start_time": "2022-01-10T03:44:36.680Z"
   },
   {
    "duration": 301,
    "start_time": "2022-01-10T03:44:57.777Z"
   },
   {
    "duration": 312,
    "start_time": "2022-01-10T03:46:22.297Z"
   },
   {
    "duration": 118,
    "start_time": "2022-01-10T03:59:16.359Z"
   },
   {
    "duration": 149,
    "start_time": "2022-01-10T04:05:23.124Z"
   },
   {
    "duration": 1537,
    "start_time": "2022-01-10T04:05:56.282Z"
   },
   {
    "duration": 1877,
    "start_time": "2022-01-10T04:05:57.822Z"
   },
   {
    "duration": 894,
    "start_time": "2022-01-10T04:06:01.540Z"
   },
   {
    "duration": 1593,
    "start_time": "2022-01-10T04:16:00.126Z"
   },
   {
    "duration": 1916,
    "start_time": "2022-01-10T04:16:01.722Z"
   },
   {
    "duration": 1048,
    "start_time": "2022-01-10T04:16:03.992Z"
   },
   {
    "duration": 731,
    "start_time": "2022-01-10T04:16:05.042Z"
   },
   {
    "duration": 16209,
    "start_time": "2022-01-10T04:16:14.063Z"
   },
   {
    "duration": 592,
    "start_time": "2022-01-10T04:16:45.295Z"
   },
   {
    "duration": 31031,
    "start_time": "2022-01-10T04:16:53.406Z"
   },
   {
    "duration": 118,
    "start_time": "2022-01-10T04:18:29.434Z"
   },
   {
    "duration": 15175,
    "start_time": "2022-01-10T04:18:33.888Z"
   },
   {
    "duration": 6790,
    "start_time": "2022-01-10T04:19:05.942Z"
   },
   {
    "duration": 9041,
    "start_time": "2022-01-10T04:20:01.565Z"
   },
   {
    "duration": 402,
    "start_time": "2022-01-10T04:21:38.293Z"
   },
   {
    "duration": 6473,
    "start_time": "2022-01-10T04:22:23.300Z"
   },
   {
    "duration": 6761,
    "start_time": "2022-01-10T04:22:39.069Z"
   },
   {
    "duration": 6653,
    "start_time": "2022-01-10T04:23:54.643Z"
   },
   {
    "duration": 16174,
    "start_time": "2022-01-10T04:24:04.268Z"
   },
   {
    "duration": 122,
    "start_time": "2022-01-10T04:39:17.745Z"
   },
   {
    "duration": 133,
    "start_time": "2022-01-10T04:39:31.161Z"
   },
   {
    "duration": 11530,
    "start_time": "2022-01-10T04:39:42.976Z"
   },
   {
    "duration": 17523,
    "start_time": "2022-01-10T04:40:12.786Z"
   },
   {
    "duration": 6989,
    "start_time": "2022-01-10T04:42:59.184Z"
   },
   {
    "duration": 7032,
    "start_time": "2022-01-10T04:45:55.958Z"
   },
   {
    "duration": 11703,
    "start_time": "2022-01-10T04:46:59.217Z"
   },
   {
    "duration": 1280,
    "start_time": "2022-01-10T16:50:55.286Z"
   },
   {
    "duration": 1426,
    "start_time": "2022-01-10T16:50:56.568Z"
   },
   {
    "duration": 547,
    "start_time": "2022-01-10T16:50:57.995Z"
   },
   {
    "duration": 5098,
    "start_time": "2022-01-10T16:50:58.544Z"
   },
   {
    "duration": 200,
    "start_time": "2022-01-10T17:03:32.130Z"
   },
   {
    "duration": 1100,
    "start_time": "2022-01-10T17:03:46.819Z"
   },
   {
    "duration": 172,
    "start_time": "2022-01-10T17:03:59.017Z"
   },
   {
    "duration": 910,
    "start_time": "2022-01-10T17:04:24.263Z"
   },
   {
    "duration": 206,
    "start_time": "2022-01-10T17:04:52.008Z"
   },
   {
    "duration": 224,
    "start_time": "2022-01-10T17:12:33.735Z"
   },
   {
    "duration": 189,
    "start_time": "2022-01-10T17:12:42.058Z"
   },
   {
    "duration": 131,
    "start_time": "2022-01-10T17:31:09.839Z"
   },
   {
    "duration": 467,
    "start_time": "2022-01-10T17:34:05.551Z"
   },
   {
    "duration": 600,
    "start_time": "2022-01-10T17:34:30.560Z"
   },
   {
    "duration": 493,
    "start_time": "2022-01-10T17:37:07.330Z"
   },
   {
    "duration": 507,
    "start_time": "2022-01-10T17:37:33.869Z"
   },
   {
    "duration": 1193,
    "start_time": "2022-01-10T17:37:58.120Z"
   },
   {
    "duration": 1503,
    "start_time": "2022-01-10T17:37:59.315Z"
   },
   {
    "duration": 903,
    "start_time": "2022-01-10T17:38:00.820Z"
   },
   {
    "duration": 149,
    "start_time": "2022-01-10T17:38:01.725Z"
   },
   {
    "duration": 325,
    "start_time": "2022-01-10T17:39:15.217Z"
   },
   {
    "duration": 245,
    "start_time": "2022-01-10T17:39:27.997Z"
   },
   {
    "duration": 117,
    "start_time": "2022-01-10T17:40:08.869Z"
   },
   {
    "duration": 1286,
    "start_time": "2022-01-10T17:41:51.622Z"
   },
   {
    "duration": 39,
    "start_time": "2022-01-10T17:51:15.478Z"
   },
   {
    "duration": 293,
    "start_time": "2022-01-10T17:51:30.598Z"
   },
   {
    "duration": 35,
    "start_time": "2022-01-10T17:51:41.974Z"
   },
   {
    "duration": 34,
    "start_time": "2022-01-10T17:52:17.149Z"
   },
   {
    "duration": 68,
    "start_time": "2022-01-10T17:53:23.741Z"
   },
   {
    "duration": 78,
    "start_time": "2022-01-10T17:54:15.813Z"
   },
   {
    "duration": 10,
    "start_time": "2022-01-10T17:54:27.236Z"
   },
   {
    "duration": 9,
    "start_time": "2022-01-10T17:55:33.388Z"
   },
   {
    "duration": 1108,
    "start_time": "2022-01-10T17:55:54.866Z"
   },
   {
    "duration": 1473,
    "start_time": "2022-01-10T17:55:55.976Z"
   },
   {
    "duration": 661,
    "start_time": "2022-01-10T17:55:57.451Z"
   },
   {
    "duration": 334,
    "start_time": "2022-01-10T17:55:58.113Z"
   },
   {
    "duration": 304,
    "start_time": "2022-01-10T17:56:19.071Z"
   },
   {
    "duration": 10,
    "start_time": "2022-01-10T17:56:34.337Z"
   },
   {
    "duration": 11,
    "start_time": "2022-01-10T17:57:24.687Z"
   },
   {
    "duration": 34,
    "start_time": "2022-01-10T17:58:33.487Z"
   },
   {
    "duration": 36,
    "start_time": "2022-01-10T17:59:53.843Z"
   },
   {
    "duration": 48,
    "start_time": "2022-01-10T18:00:41.742Z"
   },
   {
    "duration": 291,
    "start_time": "2022-01-10T18:02:25.359Z"
   },
   {
    "duration": 329,
    "start_time": "2022-01-10T18:04:32.052Z"
   },
   {
    "duration": 37,
    "start_time": "2022-01-10T18:04:44.756Z"
   },
   {
    "duration": 352,
    "start_time": "2022-01-10T18:05:53.881Z"
   },
   {
    "duration": 53,
    "start_time": "2022-01-10T18:06:16.121Z"
   },
   {
    "duration": 166,
    "start_time": "2022-01-10T18:09:26.392Z"
   },
   {
    "duration": 168,
    "start_time": "2022-01-10T18:09:58.368Z"
   },
   {
    "duration": 3,
    "start_time": "2022-01-10T18:13:35.725Z"
   },
   {
    "duration": 413,
    "start_time": "2022-01-10T18:13:36.943Z"
   },
   {
    "duration": 1245,
    "start_time": "2022-01-10T18:13:59.676Z"
   },
   {
    "duration": 437,
    "start_time": "2022-01-10T18:14:00.923Z"
   },
   {
    "duration": 3,
    "start_time": "2022-01-10T18:15:13.801Z"
   },
   {
    "duration": 550,
    "start_time": "2022-01-11T02:46:02.564Z"
   },
   {
    "duration": 1512,
    "start_time": "2022-01-11T02:46:13.908Z"
   },
   {
    "duration": 638,
    "start_time": "2022-01-11T02:46:15.423Z"
   },
   {
    "duration": 626,
    "start_time": "2022-01-11T02:46:28.691Z"
   },
   {
    "duration": 593,
    "start_time": "2022-01-11T02:47:20.642Z"
   },
   {
    "duration": 635,
    "start_time": "2022-01-11T02:47:47.306Z"
   },
   {
    "duration": 634,
    "start_time": "2022-01-11T02:48:46.705Z"
   },
   {
    "duration": 668,
    "start_time": "2022-01-11T02:49:00.376Z"
   },
   {
    "duration": 8192,
    "start_time": "2022-01-11T02:51:08.751Z"
   },
   {
    "duration": 8561,
    "start_time": "2022-01-11T02:51:59.234Z"
   },
   {
    "duration": 7987,
    "start_time": "2022-01-11T02:53:11.026Z"
   },
   {
    "duration": 550,
    "start_time": "2022-01-11T02:54:22.214Z"
   },
   {
    "duration": 740,
    "start_time": "2022-01-11T02:55:53.925Z"
   },
   {
    "duration": 778,
    "start_time": "2022-01-11T02:57:32.475Z"
   },
   {
    "duration": 784,
    "start_time": "2022-01-11T02:58:39.915Z"
   },
   {
    "duration": 4,
    "start_time": "2022-01-11T02:59:04.324Z"
   },
   {
    "duration": 776,
    "start_time": "2022-01-11T02:59:04.962Z"
   },
   {
    "duration": 326,
    "start_time": "2022-01-11T03:00:51.861Z"
   },
   {
    "duration": 49,
    "start_time": "2022-01-11T03:01:02.008Z"
   },
   {
    "duration": 29,
    "start_time": "2022-01-11T03:02:43.428Z"
   },
   {
    "duration": 47,
    "start_time": "2022-01-11T03:03:37.175Z"
   },
   {
    "duration": 61,
    "start_time": "2022-01-11T03:03:47.166Z"
   },
   {
    "duration": 72,
    "start_time": "2022-01-11T03:04:07.742Z"
   },
   {
    "duration": 13348,
    "start_time": "2022-01-11T03:05:24.482Z"
   },
   {
    "duration": 85,
    "start_time": "2022-01-11T03:09:09.627Z"
   },
   {
    "duration": 70,
    "start_time": "2022-01-11T03:09:29.340Z"
   },
   {
    "duration": 100,
    "start_time": "2022-01-11T03:11:31.953Z"
   },
   {
    "duration": 112,
    "start_time": "2022-01-11T03:11:37.218Z"
   },
   {
    "duration": 124,
    "start_time": "2022-01-11T03:11:58.023Z"
   },
   {
    "duration": 8318,
    "start_time": "2022-01-11T03:12:11.331Z"
   },
   {
    "duration": 7872,
    "start_time": "2022-01-11T03:12:34.169Z"
   },
   {
    "duration": 114,
    "start_time": "2022-01-11T03:13:41.929Z"
   },
   {
    "duration": 132,
    "start_time": "2022-01-11T03:14:28.664Z"
   },
   {
    "duration": 176,
    "start_time": "2022-01-11T03:15:20.896Z"
   },
   {
    "duration": 135,
    "start_time": "2022-01-11T03:16:05.808Z"
   },
   {
    "duration": 138,
    "start_time": "2022-01-11T03:16:24.175Z"
   },
   {
    "duration": 122,
    "start_time": "2022-01-11T03:18:40.582Z"
   },
   {
    "duration": 147,
    "start_time": "2022-01-11T03:20:08.541Z"
   },
   {
    "duration": 126,
    "start_time": "2022-01-11T03:21:13.981Z"
   },
   {
    "duration": 134,
    "start_time": "2022-01-11T03:21:26.693Z"
   },
   {
    "duration": 1230,
    "start_time": "2022-01-11T03:22:34.060Z"
   },
   {
    "duration": 143,
    "start_time": "2022-01-11T03:22:47.524Z"
   },
   {
    "duration": 8666,
    "start_time": "2022-01-11T03:23:54.192Z"
   },
   {
    "duration": 136,
    "start_time": "2022-01-11T03:24:10.715Z"
   },
   {
    "duration": 131,
    "start_time": "2022-01-11T03:24:33.027Z"
   },
   {
    "duration": 126,
    "start_time": "2022-01-11T03:24:44.483Z"
   },
   {
    "duration": 148,
    "start_time": "2022-01-11T03:30:58.416Z"
   },
   {
    "duration": 193,
    "start_time": "2022-01-11T03:31:44.855Z"
   },
   {
    "duration": 163,
    "start_time": "2022-01-11T03:32:07.151Z"
   },
   {
    "duration": 159,
    "start_time": "2022-01-11T03:32:53.847Z"
   },
   {
    "duration": 170,
    "start_time": "2022-01-11T03:33:17.238Z"
   },
   {
    "duration": 173,
    "start_time": "2022-01-11T03:34:30.590Z"
   },
   {
    "duration": 175,
    "start_time": "2022-01-11T03:35:30.396Z"
   },
   {
    "duration": 435,
    "start_time": "2022-01-11T03:36:13.556Z"
   },
   {
    "duration": 139,
    "start_time": "2022-01-11T03:36:22.964Z"
   },
   {
    "duration": 133,
    "start_time": "2022-01-11T03:36:27.820Z"
   },
   {
    "duration": 1434,
    "start_time": "2022-01-11T03:36:46.501Z"
   },
   {
    "duration": 807,
    "start_time": "2022-01-11T03:36:47.937Z"
   },
   {
    "duration": 155,
    "start_time": "2022-01-11T03:36:48.748Z"
   },
   {
    "duration": 168,
    "start_time": "2022-01-11T03:38:41.250Z"
   },
   {
    "duration": 174,
    "start_time": "2022-01-11T03:39:25.066Z"
   },
   {
    "duration": 190,
    "start_time": "2022-01-11T03:40:00.659Z"
   },
   {
    "duration": 176,
    "start_time": "2022-01-11T03:40:24.152Z"
   },
   {
    "duration": 1016,
    "start_time": "2022-01-11T03:41:22.602Z"
   },
   {
    "duration": 462,
    "start_time": "2022-01-11T03:43:49.682Z"
   },
   {
    "duration": 588,
    "start_time": "2022-01-11T03:46:16.296Z"
   },
   {
    "duration": 458,
    "start_time": "2022-01-11T03:47:12.774Z"
   },
   {
    "duration": 489,
    "start_time": "2022-01-11T03:47:18.549Z"
   },
   {
    "duration": 442,
    "start_time": "2022-01-11T03:47:48.539Z"
   },
   {
    "duration": 679,
    "start_time": "2022-01-11T03:48:16.653Z"
   },
   {
    "duration": 705,
    "start_time": "2022-01-11T03:49:17.695Z"
   },
   {
    "duration": 667,
    "start_time": "2022-01-11T03:50:06.732Z"
   },
   {
    "duration": 671,
    "start_time": "2022-01-11T03:51:49.248Z"
   },
   {
    "duration": 1477,
    "start_time": "2022-01-11T03:53:42.447Z"
   },
   {
    "duration": 822,
    "start_time": "2022-01-11T03:53:43.927Z"
   },
   {
    "duration": 788,
    "start_time": "2022-01-11T03:53:46.002Z"
   },
   {
    "duration": 665,
    "start_time": "2022-01-11T03:54:42.246Z"
   },
   {
    "duration": 672,
    "start_time": "2022-01-11T04:01:07.018Z"
   },
   {
    "duration": 1433,
    "start_time": "2022-01-11T04:01:53.208Z"
   },
   {
    "duration": 828,
    "start_time": "2022-01-11T04:01:54.644Z"
   },
   {
    "duration": 1017,
    "start_time": "2022-01-11T04:01:55.476Z"
   },
   {
    "duration": 549,
    "start_time": "2022-01-11T04:02:44.662Z"
   },
   {
    "duration": 527,
    "start_time": "2022-01-11T04:03:15.710Z"
   },
   {
    "duration": 529,
    "start_time": "2022-01-11T04:03:34.606Z"
   },
   {
    "duration": 524,
    "start_time": "2022-01-11T04:04:23.454Z"
   },
   {
    "duration": 544,
    "start_time": "2022-01-11T04:05:24.796Z"
   },
   {
    "duration": 524,
    "start_time": "2022-01-11T04:30:20.286Z"
   },
   {
    "duration": 588,
    "start_time": "2022-01-11T04:30:38.063Z"
   },
   {
    "duration": 560,
    "start_time": "2022-01-11T04:33:13.333Z"
   },
   {
    "duration": 631,
    "start_time": "2022-01-11T04:33:26.140Z"
   },
   {
    "duration": 297,
    "start_time": "2022-01-11T04:36:08.056Z"
   },
   {
    "duration": 7195,
    "start_time": "2022-01-11T04:36:15.207Z"
   },
   {
    "duration": 22,
    "start_time": "2022-01-11T04:38:03.208Z"
   },
   {
    "duration": 34,
    "start_time": "2022-01-11T04:38:25.111Z"
   },
   {
    "duration": 324,
    "start_time": "2022-01-11T04:42:07.165Z"
   },
   {
    "duration": 71,
    "start_time": "2022-01-11T04:42:27.437Z"
   },
   {
    "duration": 100,
    "start_time": "2022-01-11T04:42:54.396Z"
   },
   {
    "duration": 70,
    "start_time": "2022-01-11T04:44:00.125Z"
   },
   {
    "duration": 35,
    "start_time": "2022-01-11T04:44:56.555Z"
   },
   {
    "duration": 62,
    "start_time": "2022-01-11T04:56:52.877Z"
   },
   {
    "duration": 93,
    "start_time": "2022-01-11T04:57:37.302Z"
   },
   {
    "duration": 97,
    "start_time": "2022-01-11T05:00:06.697Z"
   },
   {
    "duration": 1118,
    "start_time": "2022-01-11T18:20:58.642Z"
   },
   {
    "duration": 539,
    "start_time": "2022-01-11T18:20:59.761Z"
   },
   {
    "duration": 300,
    "start_time": "2022-01-11T18:21:00.301Z"
   },
   {
    "duration": 52,
    "start_time": "2022-01-11T18:21:01.308Z"
   },
   {
    "duration": 636,
    "start_time": "2022-01-11T18:29:01.610Z"
   },
   {
    "duration": 53,
    "start_time": "2022-01-11T18:29:45.643Z"
   },
   {
    "duration": 155,
    "start_time": "2022-01-11T18:35:07.284Z"
   },
   {
    "duration": 196,
    "start_time": "2022-01-11T18:35:34.510Z"
   },
   {
    "duration": 587,
    "start_time": "2022-01-11T18:39:54.052Z"
   },
   {
    "duration": 677,
    "start_time": "2022-01-11T18:40:10.865Z"
   },
   {
    "duration": 219,
    "start_time": "2022-01-11T18:40:21.780Z"
   },
   {
    "duration": 207,
    "start_time": "2022-01-11T18:40:59.623Z"
   },
   {
    "duration": 215,
    "start_time": "2022-01-11T18:41:32.494Z"
   },
   {
    "duration": 373,
    "start_time": "2022-01-11T18:43:33.717Z"
   },
   {
    "duration": 257,
    "start_time": "2022-01-11T18:44:40.253Z"
   },
   {
    "duration": 208,
    "start_time": "2022-01-11T18:46:03.301Z"
   },
   {
    "duration": 256,
    "start_time": "2022-01-11T18:47:05.060Z"
   },
   {
    "duration": 254,
    "start_time": "2022-01-11T18:47:23.398Z"
   },
   {
    "duration": 348,
    "start_time": "2022-01-11T18:49:09.339Z"
   },
   {
    "duration": 896,
    "start_time": "2022-01-11T18:50:24.658Z"
   },
   {
    "duration": 1212,
    "start_time": "2022-01-11T18:51:35.194Z"
   },
   {
    "duration": 549,
    "start_time": "2022-01-11T18:54:51.462Z"
   },
   {
    "duration": 4,
    "start_time": "2022-01-11T19:00:16.896Z"
   },
   {
    "duration": 1752,
    "start_time": "2022-01-11T19:05:01.160Z"
   },
   {
    "duration": 1621,
    "start_time": "2022-01-11T19:05:51.685Z"
   },
   {
    "duration": 591,
    "start_time": "2022-01-11T19:07:05.777Z"
   },
   {
    "duration": 2753,
    "start_time": "2022-01-11T19:07:13.927Z"
   },
   {
    "duration": 1424,
    "start_time": "2022-01-11T19:10:13.296Z"
   },
   {
    "duration": 989,
    "start_time": "2022-01-12T03:12:05.939Z"
   },
   {
    "duration": 2071,
    "start_time": "2022-01-12T03:12:18.770Z"
   },
   {
    "duration": 1098,
    "start_time": "2022-01-12T03:12:20.845Z"
   },
   {
    "duration": 552,
    "start_time": "2022-01-12T03:12:21.945Z"
   },
   {
    "duration": 102,
    "start_time": "2022-01-12T03:12:28.815Z"
   },
   {
    "duration": 2044,
    "start_time": "2022-01-12T03:12:31.807Z"
   },
   {
    "duration": 645,
    "start_time": "2022-01-12T03:16:01.195Z"
   },
   {
    "duration": 539,
    "start_time": "2022-01-12T03:16:16.212Z"
   },
   {
    "duration": 97,
    "start_time": "2022-01-12T03:16:17.392Z"
   },
   {
    "duration": 1987,
    "start_time": "2022-01-12T03:16:18.213Z"
   },
   {
    "duration": 404,
    "start_time": "2022-01-12T03:32:13.578Z"
   },
   {
    "duration": 468,
    "start_time": "2022-01-12T03:41:02.180Z"
   },
   {
    "duration": 27,
    "start_time": "2022-01-12T03:41:41.454Z"
   },
   {
    "duration": 22,
    "start_time": "2022-01-12T03:42:09.488Z"
   },
   {
    "duration": 304,
    "start_time": "2022-01-12T03:42:42.982Z"
   },
   {
    "duration": 22,
    "start_time": "2022-01-12T03:43:17.692Z"
   },
   {
    "duration": 21,
    "start_time": "2022-01-12T03:43:29.260Z"
   },
   {
    "duration": 1582,
    "start_time": "2022-01-12T03:43:49.765Z"
   },
   {
    "duration": 828,
    "start_time": "2022-01-12T03:43:51.349Z"
   },
   {
    "duration": 575,
    "start_time": "2022-01-12T03:43:52.180Z"
   },
   {
    "duration": 128,
    "start_time": "2022-01-12T03:43:52.758Z"
   },
   {
    "duration": 2064,
    "start_time": "2022-01-12T03:43:52.888Z"
   },
   {
    "duration": 25,
    "start_time": "2022-01-12T03:43:55.028Z"
   },
   {
    "duration": 23,
    "start_time": "2022-01-12T03:44:26.164Z"
   },
   {
    "duration": 105,
    "start_time": "2022-01-12T03:44:29.780Z"
   },
   {
    "duration": 32,
    "start_time": "2022-01-12T03:44:39.858Z"
   },
   {
    "duration": 27,
    "start_time": "2022-01-12T03:46:50.547Z"
   },
   {
    "duration": 30,
    "start_time": "2022-01-12T03:47:01.403Z"
   },
   {
    "duration": 28,
    "start_time": "2022-01-12T03:51:33.057Z"
   },
   {
    "duration": 99,
    "start_time": "2022-01-12T03:52:06.970Z"
   },
   {
    "duration": 1499,
    "start_time": "2022-01-12T03:53:17.240Z"
   },
   {
    "duration": 806,
    "start_time": "2022-01-12T03:53:18.742Z"
   },
   {
    "duration": 545,
    "start_time": "2022-01-12T03:53:19.550Z"
   },
   {
    "duration": 96,
    "start_time": "2022-01-12T03:53:20.297Z"
   },
   {
    "duration": 2068,
    "start_time": "2022-01-12T03:53:20.861Z"
   },
   {
    "duration": 176,
    "start_time": "2022-01-12T03:53:22.932Z"
   },
   {
    "duration": 84,
    "start_time": "2022-01-12T03:54:34.891Z"
   },
   {
    "duration": 44,
    "start_time": "2022-01-12T03:55:58.839Z"
   },
   {
    "duration": 51,
    "start_time": "2022-01-12T03:56:11.070Z"
   },
   {
    "duration": 66,
    "start_time": "2022-01-12T03:56:56.075Z"
   },
   {
    "duration": 2207,
    "start_time": "2022-01-12T04:00:06.181Z"
   },
   {
    "duration": 54,
    "start_time": "2022-01-12T04:00:50.404Z"
   },
   {
    "duration": 40,
    "start_time": "2022-01-12T04:01:10.693Z"
   },
   {
    "duration": 41,
    "start_time": "2022-01-12T04:01:34.372Z"
   },
   {
    "duration": 40,
    "start_time": "2022-01-12T04:05:52.385Z"
   },
   {
    "duration": 1462,
    "start_time": "2022-01-12T04:18:50.493Z"
   },
   {
    "duration": 831,
    "start_time": "2022-01-12T04:18:51.958Z"
   },
   {
    "duration": 676,
    "start_time": "2022-01-12T04:18:52.792Z"
   },
   {
    "duration": 96,
    "start_time": "2022-01-12T04:18:53.657Z"
   },
   {
    "duration": 2222,
    "start_time": "2022-01-12T04:18:54.577Z"
   },
   {
    "duration": 134,
    "start_time": "2022-01-12T04:18:56.801Z"
   },
   {
    "duration": 1508,
    "start_time": "2022-01-13T13:24:14.936Z"
   },
   {
    "duration": 806,
    "start_time": "2022-01-13T13:24:16.447Z"
   },
   {
    "duration": 654,
    "start_time": "2022-01-13T13:24:17.257Z"
   },
   {
    "duration": 112,
    "start_time": "2022-01-13T13:24:17.913Z"
   },
   {
    "duration": 2094,
    "start_time": "2022-01-13T13:24:18.028Z"
   },
   {
    "duration": 127,
    "start_time": "2022-01-13T13:24:20.126Z"
   },
   {
    "duration": 1489,
    "start_time": "2022-01-13T13:49:41.356Z"
   },
   {
    "duration": 785,
    "start_time": "2022-01-13T13:49:42.848Z"
   },
   {
    "duration": 555,
    "start_time": "2022-01-13T13:49:43.635Z"
   },
   {
    "duration": 114,
    "start_time": "2022-01-13T13:49:44.193Z"
   },
   {
    "duration": 2118,
    "start_time": "2022-01-13T13:49:44.309Z"
   },
   {
    "duration": 146,
    "start_time": "2022-01-13T13:49:46.430Z"
   },
   {
    "duration": 803,
    "start_time": "2022-01-13T13:54:11.183Z"
   },
   {
    "duration": 23,
    "start_time": "2022-01-13T13:58:57.741Z"
   },
   {
    "duration": 430,
    "start_time": "2022-01-13T17:00:09.031Z"
   },
   {
    "duration": 1849,
    "start_time": "2022-01-13T17:00:28.164Z"
   },
   {
    "duration": 824,
    "start_time": "2022-01-13T17:00:30.016Z"
   },
   {
    "duration": 605,
    "start_time": "2022-01-13T17:00:30.843Z"
   },
   {
    "duration": 549,
    "start_time": "2022-01-13T17:02:25.141Z"
   },
   {
    "duration": 537,
    "start_time": "2022-01-13T17:02:50.328Z"
   },
   {
    "duration": 1635,
    "start_time": "2022-01-13T17:03:08.161Z"
   },
   {
    "duration": 1050,
    "start_time": "2022-01-13T17:03:09.799Z"
   },
   {
    "duration": 788,
    "start_time": "2022-01-13T17:03:10.852Z"
   },
   {
    "duration": 814,
    "start_time": "2022-01-13T17:03:35.647Z"
   },
   {
    "duration": 565,
    "start_time": "2022-01-13T17:19:41.417Z"
   },
   {
    "duration": 571,
    "start_time": "2022-01-13T17:20:56.531Z"
   },
   {
    "duration": 149,
    "start_time": "2022-01-13T17:22:07.794Z"
   },
   {
    "duration": 548,
    "start_time": "2022-01-13T17:23:54.900Z"
   },
   {
    "duration": 2105,
    "start_time": "2022-01-13T17:24:22.400Z"
   },
   {
    "duration": 1007,
    "start_time": "2022-01-13T17:24:24.508Z"
   },
   {
    "duration": 556,
    "start_time": "2022-01-13T17:24:26.791Z"
   },
   {
    "duration": 623,
    "start_time": "2022-01-13T17:26:16.465Z"
   },
   {
    "duration": 647,
    "start_time": "2022-01-13T17:27:35.754Z"
   },
   {
    "duration": 637,
    "start_time": "2022-01-13T17:27:45.105Z"
   },
   {
    "duration": 1492,
    "start_time": "2022-01-13T17:27:57.392Z"
   },
   {
    "duration": 871,
    "start_time": "2022-01-13T17:27:58.887Z"
   },
   {
    "duration": 1034,
    "start_time": "2022-01-13T17:28:04.211Z"
   },
   {
    "duration": 1515,
    "start_time": "2022-01-13T17:29:01.207Z"
   },
   {
    "duration": 816,
    "start_time": "2022-01-13T17:29:02.726Z"
   },
   {
    "duration": 741,
    "start_time": "2022-01-13T17:29:12.804Z"
   },
   {
    "duration": 424,
    "start_time": "2022-01-13T17:30:37.630Z"
   },
   {
    "duration": 11078,
    "start_time": "2022-01-13T17:32:23.657Z"
   },
   {
    "duration": 9108,
    "start_time": "2022-01-13T17:34:11.901Z"
   },
   {
    "duration": 18533,
    "start_time": "2022-01-13T17:35:55.897Z"
   },
   {
    "duration": 9187,
    "start_time": "2022-01-13T17:43:15.278Z"
   },
   {
    "duration": 9396,
    "start_time": "2022-01-13T17:43:53.357Z"
   },
   {
    "duration": 1540,
    "start_time": "2022-01-13T17:45:29.289Z"
   },
   {
    "duration": 965,
    "start_time": "2022-01-13T17:45:30.832Z"
   },
   {
    "duration": 543,
    "start_time": "2022-01-13T17:45:31.800Z"
   },
   {
    "duration": 553,
    "start_time": "2022-01-13T17:45:44.215Z"
   },
   {
    "duration": 548,
    "start_time": "2022-01-13T17:47:05.874Z"
   },
   {
    "duration": 531,
    "start_time": "2022-01-13T17:47:33.993Z"
   },
   {
    "duration": 1532,
    "start_time": "2022-01-13T17:47:57.558Z"
   },
   {
    "duration": 795,
    "start_time": "2022-01-13T17:47:59.093Z"
   },
   {
    "duration": 555,
    "start_time": "2022-01-13T17:48:04.189Z"
   },
   {
    "duration": 508,
    "start_time": "2022-01-13T17:50:09.807Z"
   },
   {
    "duration": 1508,
    "start_time": "2022-01-13T17:51:56.173Z"
   },
   {
    "duration": 771,
    "start_time": "2022-01-13T17:51:57.684Z"
   },
   {
    "duration": 698,
    "start_time": "2022-01-13T17:51:59.148Z"
   },
   {
    "duration": 558,
    "start_time": "2022-01-13T17:57:30.287Z"
   },
   {
    "duration": 556,
    "start_time": "2022-01-13T17:58:11.233Z"
   },
   {
    "duration": 557,
    "start_time": "2022-01-13T18:02:38.968Z"
   },
   {
    "duration": 389,
    "start_time": "2022-01-13T18:05:30.394Z"
   },
   {
    "duration": 564,
    "start_time": "2022-01-13T18:05:37.955Z"
   },
   {
    "duration": 382,
    "start_time": "2022-01-13T18:07:41.762Z"
   },
   {
    "duration": 417,
    "start_time": "2022-01-13T18:07:57.012Z"
   },
   {
    "duration": 550,
    "start_time": "2022-01-13T18:09:56.709Z"
   },
   {
    "duration": 1643,
    "start_time": "2022-01-13T18:10:35.571Z"
   },
   {
    "duration": 826,
    "start_time": "2022-01-13T18:10:37.217Z"
   },
   {
    "duration": 569,
    "start_time": "2022-01-13T18:10:38.046Z"
   },
   {
    "duration": 1953,
    "start_time": "2022-01-13T18:12:36.445Z"
   },
   {
    "duration": 807,
    "start_time": "2022-01-13T18:12:38.401Z"
   },
   {
    "duration": 8901,
    "start_time": "2022-01-13T18:12:59.447Z"
   },
   {
    "duration": 559,
    "start_time": "2022-01-13T18:13:21.525Z"
   },
   {
    "duration": 562,
    "start_time": "2022-01-13T18:14:25.641Z"
   },
   {
    "duration": 148,
    "start_time": "2022-01-13T18:15:32.878Z"
   },
   {
    "duration": 782,
    "start_time": "2022-01-13T18:15:52.429Z"
   },
   {
    "duration": 795,
    "start_time": "2022-01-13T18:16:08.679Z"
   },
   {
    "duration": 2035,
    "start_time": "2022-01-13T18:17:14.153Z"
   },
   {
    "duration": 957,
    "start_time": "2022-01-13T18:17:16.192Z"
   },
   {
    "duration": 589,
    "start_time": "2022-01-13T18:17:17.152Z"
   },
   {
    "duration": 569,
    "start_time": "2022-01-13T18:17:44.951Z"
   },
   {
    "duration": 153,
    "start_time": "2022-01-13T18:17:59.141Z"
   },
   {
    "duration": 3304,
    "start_time": "2022-01-13T18:18:00.478Z"
   },
   {
    "duration": 47,
    "start_time": "2022-01-13T18:18:41.718Z"
   },
   {
    "duration": 3164,
    "start_time": "2022-01-13T18:27:16.766Z"
   },
   {
    "duration": 2392,
    "start_time": "2022-01-13T18:28:53.845Z"
   },
   {
    "duration": 3836,
    "start_time": "2022-01-13T18:29:34.872Z"
   },
   {
    "duration": 2434,
    "start_time": "2022-01-13T18:31:42.486Z"
   },
   {
    "duration": 2464,
    "start_time": "2022-01-13T18:32:03.022Z"
   },
   {
    "duration": 2473,
    "start_time": "2022-01-13T18:34:00.160Z"
   },
   {
    "duration": 2992,
    "start_time": "2022-01-13T18:34:23.330Z"
   },
   {
    "duration": 2866,
    "start_time": "2022-01-13T18:34:58.619Z"
   },
   {
    "duration": 3214,
    "start_time": "2022-01-13T18:35:19.068Z"
   },
   {
    "duration": 708,
    "start_time": "2022-01-13T18:35:30.840Z"
   },
   {
    "duration": 597,
    "start_time": "2022-01-13T18:37:38.153Z"
   },
   {
    "duration": 585,
    "start_time": "2022-01-13T18:37:58.225Z"
   },
   {
    "duration": 591,
    "start_time": "2022-01-13T18:38:08.181Z"
   },
   {
    "duration": 660,
    "start_time": "2022-01-13T18:39:38.881Z"
   },
   {
    "duration": 592,
    "start_time": "2022-01-13T18:39:55.752Z"
   },
   {
    "duration": 703,
    "start_time": "2022-01-13T18:40:12.623Z"
   },
   {
    "duration": 668,
    "start_time": "2022-01-13T18:40:29.880Z"
   },
   {
    "duration": 554,
    "start_time": "2022-01-13T18:49:25.137Z"
   },
   {
    "duration": 39,
    "start_time": "2022-01-13T18:50:12.380Z"
   },
   {
    "duration": 559,
    "start_time": "2022-01-13T18:50:39.305Z"
   },
   {
    "duration": 845,
    "start_time": "2022-01-13T18:51:39.523Z"
   },
   {
    "duration": 52,
    "start_time": "2022-01-13T18:51:44.391Z"
   },
   {
    "duration": 583,
    "start_time": "2022-01-13T18:52:25.861Z"
   },
   {
    "duration": 41,
    "start_time": "2022-01-13T18:52:27.352Z"
   },
   {
    "duration": 16944,
    "start_time": "2022-01-13T18:54:53.257Z"
   },
   {
    "duration": 16054,
    "start_time": "2022-01-13T18:55:32.063Z"
   },
   {
    "duration": 642,
    "start_time": "2022-01-13T18:56:05.927Z"
   },
   {
    "duration": 882,
    "start_time": "2022-01-13T18:56:55.787Z"
   },
   {
    "duration": 1152,
    "start_time": "2022-01-13T18:57:17.672Z"
   },
   {
    "duration": 21696,
    "start_time": "2022-01-13T18:58:11.365Z"
   },
   {
    "duration": 4,
    "start_time": "2022-01-13T18:58:33.064Z"
   },
   {
    "duration": 831,
    "start_time": "2022-01-13T18:58:33.071Z"
   },
   {
    "duration": 554,
    "start_time": "2022-01-13T18:58:33.905Z"
   },
   {
    "duration": 136,
    "start_time": "2022-01-13T18:58:34.751Z"
   },
   {
    "duration": 3369,
    "start_time": "2022-01-13T18:58:35.644Z"
   },
   {
    "duration": 1296,
    "start_time": "2022-01-13T18:59:14.928Z"
   },
   {
    "duration": 1258,
    "start_time": "2022-01-13T19:00:47.540Z"
   },
   {
    "duration": 1091,
    "start_time": "2022-01-13T19:01:37.926Z"
   },
   {
    "duration": 1567,
    "start_time": "2022-01-13T19:02:16.915Z"
   },
   {
    "duration": 963,
    "start_time": "2022-01-13T19:02:37.073Z"
   },
   {
    "duration": 889,
    "start_time": "2022-01-13T19:02:53.806Z"
   },
   {
    "duration": 1235,
    "start_time": "2022-01-13T19:03:24.067Z"
   },
   {
    "duration": 1991,
    "start_time": "2022-01-13T19:03:51.994Z"
   },
   {
    "duration": 1452,
    "start_time": "2022-01-14T06:04:55.222Z"
   },
   {
    "duration": 788,
    "start_time": "2022-01-14T06:04:56.676Z"
   },
   {
    "duration": 522,
    "start_time": "2022-01-14T06:04:58.496Z"
   },
   {
    "duration": 91,
    "start_time": "2022-01-14T06:08:37.375Z"
   },
   {
    "duration": 2033,
    "start_time": "2022-01-14T06:08:40.739Z"
   },
   {
    "duration": 1485,
    "start_time": "2022-01-14T08:13:30.801Z"
   },
   {
    "duration": 1171,
    "start_time": "2022-01-14T08:13:32.289Z"
   },
   {
    "duration": 924,
    "start_time": "2022-01-14T08:13:33.463Z"
   },
   {
    "duration": 163,
    "start_time": "2022-01-14T08:13:35.863Z"
   },
   {
    "duration": 3297,
    "start_time": "2022-01-14T08:13:36.676Z"
   },
   {
    "duration": 1355,
    "start_time": "2022-01-14T08:13:40.380Z"
   },
   {
    "duration": 431,
    "start_time": "2022-01-14T08:20:38.973Z"
   },
   {
    "duration": 349,
    "start_time": "2022-01-14T08:21:26.534Z"
   },
   {
    "duration": 610,
    "start_time": "2022-01-14T08:22:21.680Z"
   },
   {
    "duration": 697,
    "start_time": "2022-01-14T08:22:32.605Z"
   },
   {
    "duration": 1415,
    "start_time": "2022-01-14T08:25:32.673Z"
   },
   {
    "duration": 763,
    "start_time": "2022-01-14T08:25:34.091Z"
   },
   {
    "duration": 523,
    "start_time": "2022-01-14T08:25:35.179Z"
   },
   {
    "duration": 95,
    "start_time": "2022-01-14T08:25:39.339Z"
   },
   {
    "duration": 2063,
    "start_time": "2022-01-14T08:25:41.022Z"
   },
   {
    "duration": 1281,
    "start_time": "2022-01-14T08:25:43.487Z"
   },
   {
    "duration": 718,
    "start_time": "2022-01-14T08:25:44.771Z"
   },
   {
    "duration": 36,
    "start_time": "2022-01-14T08:25:48.192Z"
   },
   {
    "duration": 1612,
    "start_time": "2022-01-14T09:28:16.681Z"
   },
   {
    "duration": 786,
    "start_time": "2022-01-14T09:28:18.296Z"
   },
   {
    "duration": 532,
    "start_time": "2022-01-14T09:28:19.085Z"
   },
   {
    "duration": 96,
    "start_time": "2022-01-14T09:28:20.739Z"
   },
   {
    "duration": 2030,
    "start_time": "2022-01-14T09:28:21.282Z"
   },
   {
    "duration": 1413,
    "start_time": "2022-01-14T09:28:23.318Z"
   },
   {
    "duration": 691,
    "start_time": "2022-01-14T09:28:24.733Z"
   },
   {
    "duration": 38,
    "start_time": "2022-01-14T09:32:55.319Z"
   },
   {
    "duration": 1715,
    "start_time": "2022-01-14T10:11:27.967Z"
   },
   {
    "duration": 942,
    "start_time": "2022-01-14T10:11:29.686Z"
   },
   {
    "duration": 550,
    "start_time": "2022-01-14T10:19:53.961Z"
   },
   {
    "duration": 92,
    "start_time": "2022-01-14T10:19:57.405Z"
   },
   {
    "duration": 2266,
    "start_time": "2022-01-14T10:19:59.123Z"
   },
   {
    "duration": 1335,
    "start_time": "2022-01-14T10:20:06.060Z"
   },
   {
    "duration": 709,
    "start_time": "2022-01-14T10:20:07.398Z"
   },
   {
    "duration": 5,
    "start_time": "2022-01-14T10:25:05.757Z"
   },
   {
    "duration": 7,
    "start_time": "2022-01-14T10:26:57.335Z"
   },
   {
    "duration": 7,
    "start_time": "2022-01-14T10:33:13.053Z"
   },
   {
    "duration": 7,
    "start_time": "2022-01-14T10:33:27.629Z"
   },
   {
    "duration": 410,
    "start_time": "2022-01-14T10:35:18.331Z"
   },
   {
    "duration": 88,
    "start_time": "2022-01-14T10:36:10.075Z"
   },
   {
    "duration": 249,
    "start_time": "2022-01-14T10:36:13.123Z"
   },
   {
    "duration": 12,
    "start_time": "2022-01-14T10:36:22.954Z"
   },
   {
    "duration": 7,
    "start_time": "2022-01-14T10:37:18.682Z"
   },
   {
    "duration": 6,
    "start_time": "2022-01-14T10:37:27.262Z"
   },
   {
    "duration": 16,
    "start_time": "2022-01-14T10:38:04.882Z"
   },
   {
    "duration": 16,
    "start_time": "2022-01-14T10:38:38.913Z"
   },
   {
    "duration": 16,
    "start_time": "2022-01-14T10:39:12.873Z"
   },
   {
    "duration": 16,
    "start_time": "2022-01-14T10:39:16.105Z"
   },
   {
    "duration": 23,
    "start_time": "2022-01-14T10:42:34.992Z"
   },
   {
    "duration": 17,
    "start_time": "2022-01-14T10:43:31.837Z"
   },
   {
    "duration": 50,
    "start_time": "2022-01-14T11:10:20.213Z"
   },
   {
    "duration": 37,
    "start_time": "2022-01-14T11:15:48.307Z"
   },
   {
    "duration": 39,
    "start_time": "2022-01-14T11:17:54.852Z"
   },
   {
    "duration": 36,
    "start_time": "2022-01-14T11:17:59.667Z"
   },
   {
    "duration": 105,
    "start_time": "2022-01-14T11:19:50.709Z"
   },
   {
    "duration": 38,
    "start_time": "2022-01-14T11:19:58.709Z"
   },
   {
    "duration": 40,
    "start_time": "2022-01-14T11:20:19.075Z"
   },
   {
    "duration": 39,
    "start_time": "2022-01-14T11:21:00.330Z"
   },
   {
    "duration": 37,
    "start_time": "2022-01-14T11:21:11.955Z"
   },
   {
    "duration": 42,
    "start_time": "2022-01-14T11:23:05.288Z"
   },
   {
    "duration": 37,
    "start_time": "2022-01-14T11:24:04.577Z"
   },
   {
    "duration": 307,
    "start_time": "2022-01-14T11:25:42.599Z"
   },
   {
    "duration": 38,
    "start_time": "2022-01-14T11:27:51.714Z"
   },
   {
    "duration": 37,
    "start_time": "2022-01-14T11:27:59.735Z"
   },
   {
    "duration": 37,
    "start_time": "2022-01-14T11:28:06.262Z"
   },
   {
    "duration": 36,
    "start_time": "2022-01-14T11:28:13.333Z"
   },
   {
    "duration": 36,
    "start_time": "2022-01-14T11:28:17.929Z"
   },
   {
    "duration": 36,
    "start_time": "2022-01-14T11:28:29.729Z"
   },
   {
    "duration": 35,
    "start_time": "2022-01-14T11:30:34.222Z"
   },
   {
    "duration": 37,
    "start_time": "2022-01-14T11:30:42.820Z"
   },
   {
    "duration": 37,
    "start_time": "2022-01-14T11:30:51.780Z"
   },
   {
    "duration": 39,
    "start_time": "2022-01-14T11:31:03.480Z"
   },
   {
    "duration": 1515,
    "start_time": "2022-01-14T11:33:48.178Z"
   },
   {
    "duration": 776,
    "start_time": "2022-01-14T11:33:49.695Z"
   },
   {
    "duration": 542,
    "start_time": "2022-01-14T11:33:50.965Z"
   },
   {
    "duration": 92,
    "start_time": "2022-01-14T11:33:54.179Z"
   },
   {
    "duration": 1963,
    "start_time": "2022-01-14T11:33:54.904Z"
   },
   {
    "duration": 1298,
    "start_time": "2022-01-14T11:33:56.870Z"
   },
   {
    "duration": 708,
    "start_time": "2022-01-14T11:33:58.171Z"
   },
   {
    "duration": 19,
    "start_time": "2022-01-14T11:33:59.759Z"
   },
   {
    "duration": 37,
    "start_time": "2022-01-14T11:34:03.787Z"
   },
   {
    "duration": 38,
    "start_time": "2022-01-14T11:44:07.134Z"
   },
   {
    "duration": 36,
    "start_time": "2022-01-14T11:44:14.561Z"
   },
   {
    "duration": 36,
    "start_time": "2022-01-14T11:46:59.532Z"
   },
   {
    "duration": 401,
    "start_time": "2022-01-14T11:55:28.535Z"
   },
   {
    "duration": 276,
    "start_time": "2022-01-14T11:56:19.364Z"
   },
   {
    "duration": 282,
    "start_time": "2022-01-14T11:56:25.739Z"
   },
   {
    "duration": 267,
    "start_time": "2022-01-14T11:58:49.407Z"
   },
   {
    "duration": 19,
    "start_time": "2022-01-14T11:59:16.371Z"
   },
   {
    "duration": 5,
    "start_time": "2022-01-14T11:59:25.961Z"
   },
   {
    "duration": 808,
    "start_time": "2022-01-14T11:59:26.453Z"
   },
   {
    "duration": 542,
    "start_time": "2022-01-14T11:59:28.253Z"
   },
   {
    "duration": 94,
    "start_time": "2022-01-14T11:59:30.499Z"
   },
   {
    "duration": 2186,
    "start_time": "2022-01-14T11:59:30.826Z"
   },
   {
    "duration": 1254,
    "start_time": "2022-01-14T11:59:33.014Z"
   },
   {
    "duration": 718,
    "start_time": "2022-01-14T11:59:34.271Z"
   },
   {
    "duration": 31,
    "start_time": "2022-01-14T11:59:34.992Z"
   },
   {
    "duration": 35,
    "start_time": "2022-01-14T11:59:35.026Z"
   },
   {
    "duration": 37,
    "start_time": "2022-01-14T12:02:33.798Z"
   },
   {
    "duration": 1480,
    "start_time": "2022-01-14T12:03:25.522Z"
   },
   {
    "duration": 785,
    "start_time": "2022-01-14T12:03:27.005Z"
   },
   {
    "duration": 554,
    "start_time": "2022-01-14T12:03:27.793Z"
   },
   {
    "duration": 117,
    "start_time": "2022-01-14T12:03:28.350Z"
   },
   {
    "duration": 2061,
    "start_time": "2022-01-14T12:03:28.470Z"
   },
   {
    "duration": 1349,
    "start_time": "2022-01-14T12:03:30.533Z"
   },
   {
    "duration": 732,
    "start_time": "2022-01-14T12:03:31.885Z"
   },
   {
    "duration": 18,
    "start_time": "2022-01-14T12:03:32.619Z"
   },
   {
    "duration": 37,
    "start_time": "2022-01-14T12:03:32.639Z"
   },
   {
    "duration": 606,
    "start_time": "2022-01-14T15:26:43.347Z"
   },
   {
    "duration": 1502,
    "start_time": "2022-01-14T15:26:48.841Z"
   },
   {
    "duration": 746,
    "start_time": "2022-01-14T15:26:50.345Z"
   },
   {
    "duration": 407,
    "start_time": "2022-01-14T15:26:51.094Z"
   },
   {
    "duration": 34,
    "start_time": "2022-01-14T15:26:51.504Z"
   },
   {
    "duration": 109,
    "start_time": "2022-01-14T15:26:51.541Z"
   },
   {
    "duration": 3061,
    "start_time": "2022-01-14T15:26:51.653Z"
   },
   {
    "duration": 1257,
    "start_time": "2022-01-14T15:26:54.717Z"
   },
   {
    "duration": 689,
    "start_time": "2022-01-14T15:26:55.977Z"
   },
   {
    "duration": 15,
    "start_time": "2022-01-14T15:26:56.669Z"
   },
   {
    "duration": 54,
    "start_time": "2022-01-14T15:26:56.687Z"
   },
   {
    "duration": 30,
    "start_time": "2022-01-14T15:28:55.741Z"
   }
  ],
  "kernelspec": {
   "display_name": "Python 3 (ipykernel)",
   "language": "python",
   "name": "python3"
  },
  "language_info": {
   "codemirror_mode": {
    "name": "ipython",
    "version": 3
   },
   "file_extension": ".py",
   "mimetype": "text/x-python",
   "name": "python",
   "nbconvert_exporter": "python",
   "pygments_lexer": "ipython3",
   "version": "3.10.1"
  },
  "toc": {
   "base_numbering": 1,
   "nav_menu": {},
   "number_sections": true,
   "sideBar": true,
   "skip_h1_title": true,
   "title_cell": "Table of Contents",
   "title_sidebar": "Contents",
   "toc_cell": false,
   "toc_position": {},
   "toc_section_display": true,
   "toc_window_display": false
  }
 },
 "nbformat": 4,
 "nbformat_minor": 2
}
