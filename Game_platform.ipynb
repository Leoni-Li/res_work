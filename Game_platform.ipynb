{
 "cells": [
  {
   "cell_type": "markdown",
   "metadata": {},
   "source": [
    "<div style=\"border:solid green 2px; padding: 20px\" class=\"alert alert-info\">\n",
    "    <b> 1. Получение данных</b>\n",
    "</div>"
   ]
  },
  {
   "cell_type": "code",
   "execution_count": 1,
   "metadata": {},
   "outputs": [],
   "source": [
    "# Импорт библиотек\n",
    "import pandas as pd\n",
    "import numpy as np\n",
    "import matplotlib.pyplot as plt\n",
    "import seaborn as sns\n",
    "from scipy import stats as st \n",
    "import math\n",
    "\n",
    "import warnings\n",
    "warnings.filterwarnings('ignore')"
   ]
  },
  {
   "cell_type": "code",
   "execution_count": 2,
   "metadata": {},
   "outputs": [
    {
     "data": {
      "text/html": [
       "<div>\n",
       "<style scoped>\n",
       "    .dataframe tbody tr th:only-of-type {\n",
       "        vertical-align: middle;\n",
       "    }\n",
       "\n",
       "    .dataframe tbody tr th {\n",
       "        vertical-align: top;\n",
       "    }\n",
       "\n",
       "    .dataframe thead th {\n",
       "        text-align: right;\n",
       "    }\n",
       "</style>\n",
       "<table border=\"1\" class=\"dataframe\">\n",
       "  <thead>\n",
       "    <tr style=\"text-align: right;\">\n",
       "      <th></th>\n",
       "      <th>Name</th>\n",
       "      <th>Platform</th>\n",
       "      <th>Year_of_Release</th>\n",
       "      <th>Genre</th>\n",
       "      <th>NA_sales</th>\n",
       "      <th>EU_sales</th>\n",
       "      <th>JP_sales</th>\n",
       "      <th>Other_sales</th>\n",
       "      <th>Critic_Score</th>\n",
       "      <th>User_Score</th>\n",
       "      <th>Rating</th>\n",
       "    </tr>\n",
       "  </thead>\n",
       "  <tbody>\n",
       "    <tr>\n",
       "      <td>0</td>\n",
       "      <td>Wii Sports</td>\n",
       "      <td>Wii</td>\n",
       "      <td>2006.0</td>\n",
       "      <td>Sports</td>\n",
       "      <td>41.36</td>\n",
       "      <td>28.96</td>\n",
       "      <td>3.77</td>\n",
       "      <td>8.45</td>\n",
       "      <td>76.0</td>\n",
       "      <td>8</td>\n",
       "      <td>E</td>\n",
       "    </tr>\n",
       "    <tr>\n",
       "      <td>1</td>\n",
       "      <td>Super Mario Bros.</td>\n",
       "      <td>NES</td>\n",
       "      <td>1985.0</td>\n",
       "      <td>Platform</td>\n",
       "      <td>29.08</td>\n",
       "      <td>3.58</td>\n",
       "      <td>6.81</td>\n",
       "      <td>0.77</td>\n",
       "      <td>NaN</td>\n",
       "      <td>NaN</td>\n",
       "      <td>NaN</td>\n",
       "    </tr>\n",
       "    <tr>\n",
       "      <td>2</td>\n",
       "      <td>Mario Kart Wii</td>\n",
       "      <td>Wii</td>\n",
       "      <td>2008.0</td>\n",
       "      <td>Racing</td>\n",
       "      <td>15.68</td>\n",
       "      <td>12.76</td>\n",
       "      <td>3.79</td>\n",
       "      <td>3.29</td>\n",
       "      <td>82.0</td>\n",
       "      <td>8.3</td>\n",
       "      <td>E</td>\n",
       "    </tr>\n",
       "    <tr>\n",
       "      <td>3</td>\n",
       "      <td>Wii Sports Resort</td>\n",
       "      <td>Wii</td>\n",
       "      <td>2009.0</td>\n",
       "      <td>Sports</td>\n",
       "      <td>15.61</td>\n",
       "      <td>10.93</td>\n",
       "      <td>3.28</td>\n",
       "      <td>2.95</td>\n",
       "      <td>80.0</td>\n",
       "      <td>8</td>\n",
       "      <td>E</td>\n",
       "    </tr>\n",
       "    <tr>\n",
       "      <td>4</td>\n",
       "      <td>Pokemon Red/Pokemon Blue</td>\n",
       "      <td>GB</td>\n",
       "      <td>1996.0</td>\n",
       "      <td>Role-Playing</td>\n",
       "      <td>11.27</td>\n",
       "      <td>8.89</td>\n",
       "      <td>10.22</td>\n",
       "      <td>1.00</td>\n",
       "      <td>NaN</td>\n",
       "      <td>NaN</td>\n",
       "      <td>NaN</td>\n",
       "    </tr>\n",
       "    <tr>\n",
       "      <td>5</td>\n",
       "      <td>Tetris</td>\n",
       "      <td>GB</td>\n",
       "      <td>1989.0</td>\n",
       "      <td>Puzzle</td>\n",
       "      <td>23.20</td>\n",
       "      <td>2.26</td>\n",
       "      <td>4.22</td>\n",
       "      <td>0.58</td>\n",
       "      <td>NaN</td>\n",
       "      <td>NaN</td>\n",
       "      <td>NaN</td>\n",
       "    </tr>\n",
       "    <tr>\n",
       "      <td>6</td>\n",
       "      <td>New Super Mario Bros.</td>\n",
       "      <td>DS</td>\n",
       "      <td>2006.0</td>\n",
       "      <td>Platform</td>\n",
       "      <td>11.28</td>\n",
       "      <td>9.14</td>\n",
       "      <td>6.50</td>\n",
       "      <td>2.88</td>\n",
       "      <td>89.0</td>\n",
       "      <td>8.5</td>\n",
       "      <td>E</td>\n",
       "    </tr>\n",
       "    <tr>\n",
       "      <td>7</td>\n",
       "      <td>Wii Play</td>\n",
       "      <td>Wii</td>\n",
       "      <td>2006.0</td>\n",
       "      <td>Misc</td>\n",
       "      <td>13.96</td>\n",
       "      <td>9.18</td>\n",
       "      <td>2.93</td>\n",
       "      <td>2.84</td>\n",
       "      <td>58.0</td>\n",
       "      <td>6.6</td>\n",
       "      <td>E</td>\n",
       "    </tr>\n",
       "    <tr>\n",
       "      <td>8</td>\n",
       "      <td>New Super Mario Bros. Wii</td>\n",
       "      <td>Wii</td>\n",
       "      <td>2009.0</td>\n",
       "      <td>Platform</td>\n",
       "      <td>14.44</td>\n",
       "      <td>6.94</td>\n",
       "      <td>4.70</td>\n",
       "      <td>2.24</td>\n",
       "      <td>87.0</td>\n",
       "      <td>8.4</td>\n",
       "      <td>E</td>\n",
       "    </tr>\n",
       "    <tr>\n",
       "      <td>9</td>\n",
       "      <td>Duck Hunt</td>\n",
       "      <td>NES</td>\n",
       "      <td>1984.0</td>\n",
       "      <td>Shooter</td>\n",
       "      <td>26.93</td>\n",
       "      <td>0.63</td>\n",
       "      <td>0.28</td>\n",
       "      <td>0.47</td>\n",
       "      <td>NaN</td>\n",
       "      <td>NaN</td>\n",
       "      <td>NaN</td>\n",
       "    </tr>\n",
       "  </tbody>\n",
       "</table>\n",
       "</div>"
      ],
      "text/plain": [
       "                        Name Platform  Year_of_Release         Genre  \\\n",
       "0                 Wii Sports      Wii           2006.0        Sports   \n",
       "1          Super Mario Bros.      NES           1985.0      Platform   \n",
       "2             Mario Kart Wii      Wii           2008.0        Racing   \n",
       "3          Wii Sports Resort      Wii           2009.0        Sports   \n",
       "4   Pokemon Red/Pokemon Blue       GB           1996.0  Role-Playing   \n",
       "5                     Tetris       GB           1989.0        Puzzle   \n",
       "6      New Super Mario Bros.       DS           2006.0      Platform   \n",
       "7                   Wii Play      Wii           2006.0          Misc   \n",
       "8  New Super Mario Bros. Wii      Wii           2009.0      Platform   \n",
       "9                  Duck Hunt      NES           1984.0       Shooter   \n",
       "\n",
       "   NA_sales  EU_sales  JP_sales  Other_sales  Critic_Score User_Score Rating  \n",
       "0     41.36     28.96      3.77         8.45          76.0          8      E  \n",
       "1     29.08      3.58      6.81         0.77           NaN        NaN    NaN  \n",
       "2     15.68     12.76      3.79         3.29          82.0        8.3      E  \n",
       "3     15.61     10.93      3.28         2.95          80.0          8      E  \n",
       "4     11.27      8.89     10.22         1.00           NaN        NaN    NaN  \n",
       "5     23.20      2.26      4.22         0.58           NaN        NaN    NaN  \n",
       "6     11.28      9.14      6.50         2.88          89.0        8.5      E  \n",
       "7     13.96      9.18      2.93         2.84          58.0        6.6      E  \n",
       "8     14.44      6.94      4.70         2.24          87.0        8.4      E  \n",
       "9     26.93      0.63      0.28         0.47           NaN        NaN    NaN  "
      ]
     },
     "metadata": {},
     "output_type": "display_data"
    },
    {
     "data": {
      "text/html": [
       "<div>\n",
       "<style scoped>\n",
       "    .dataframe tbody tr th:only-of-type {\n",
       "        vertical-align: middle;\n",
       "    }\n",
       "\n",
       "    .dataframe tbody tr th {\n",
       "        vertical-align: top;\n",
       "    }\n",
       "\n",
       "    .dataframe thead th {\n",
       "        text-align: right;\n",
       "    }\n",
       "</style>\n",
       "<table border=\"1\" class=\"dataframe\">\n",
       "  <thead>\n",
       "    <tr style=\"text-align: right;\">\n",
       "      <th></th>\n",
       "      <th>Name</th>\n",
       "      <th>Platform</th>\n",
       "      <th>Year_of_Release</th>\n",
       "      <th>Genre</th>\n",
       "      <th>NA_sales</th>\n",
       "      <th>EU_sales</th>\n",
       "      <th>JP_sales</th>\n",
       "      <th>Other_sales</th>\n",
       "      <th>Critic_Score</th>\n",
       "      <th>User_Score</th>\n",
       "      <th>Rating</th>\n",
       "    </tr>\n",
       "  </thead>\n",
       "  <tbody>\n",
       "    <tr>\n",
       "      <td>16705</td>\n",
       "      <td>15 Days</td>\n",
       "      <td>PC</td>\n",
       "      <td>2009.0</td>\n",
       "      <td>Adventure</td>\n",
       "      <td>0.00</td>\n",
       "      <td>0.01</td>\n",
       "      <td>0.00</td>\n",
       "      <td>0.0</td>\n",
       "      <td>63.0</td>\n",
       "      <td>5.8</td>\n",
       "      <td>NaN</td>\n",
       "    </tr>\n",
       "    <tr>\n",
       "      <td>16706</td>\n",
       "      <td>Men in Black II: Alien Escape</td>\n",
       "      <td>GC</td>\n",
       "      <td>2003.0</td>\n",
       "      <td>Shooter</td>\n",
       "      <td>0.01</td>\n",
       "      <td>0.00</td>\n",
       "      <td>0.00</td>\n",
       "      <td>0.0</td>\n",
       "      <td>NaN</td>\n",
       "      <td>tbd</td>\n",
       "      <td>T</td>\n",
       "    </tr>\n",
       "    <tr>\n",
       "      <td>16707</td>\n",
       "      <td>Aiyoku no Eustia</td>\n",
       "      <td>PSV</td>\n",
       "      <td>2014.0</td>\n",
       "      <td>Misc</td>\n",
       "      <td>0.00</td>\n",
       "      <td>0.00</td>\n",
       "      <td>0.01</td>\n",
       "      <td>0.0</td>\n",
       "      <td>NaN</td>\n",
       "      <td>NaN</td>\n",
       "      <td>NaN</td>\n",
       "    </tr>\n",
       "    <tr>\n",
       "      <td>16708</td>\n",
       "      <td>Woody Woodpecker in Crazy Castle 5</td>\n",
       "      <td>GBA</td>\n",
       "      <td>2002.0</td>\n",
       "      <td>Platform</td>\n",
       "      <td>0.01</td>\n",
       "      <td>0.00</td>\n",
       "      <td>0.00</td>\n",
       "      <td>0.0</td>\n",
       "      <td>NaN</td>\n",
       "      <td>NaN</td>\n",
       "      <td>NaN</td>\n",
       "    </tr>\n",
       "    <tr>\n",
       "      <td>16709</td>\n",
       "      <td>SCORE International Baja 1000: The Official Game</td>\n",
       "      <td>PS2</td>\n",
       "      <td>2008.0</td>\n",
       "      <td>Racing</td>\n",
       "      <td>0.00</td>\n",
       "      <td>0.00</td>\n",
       "      <td>0.00</td>\n",
       "      <td>0.0</td>\n",
       "      <td>NaN</td>\n",
       "      <td>NaN</td>\n",
       "      <td>NaN</td>\n",
       "    </tr>\n",
       "    <tr>\n",
       "      <td>16710</td>\n",
       "      <td>Samurai Warriors: Sanada Maru</td>\n",
       "      <td>PS3</td>\n",
       "      <td>2016.0</td>\n",
       "      <td>Action</td>\n",
       "      <td>0.00</td>\n",
       "      <td>0.00</td>\n",
       "      <td>0.01</td>\n",
       "      <td>0.0</td>\n",
       "      <td>NaN</td>\n",
       "      <td>NaN</td>\n",
       "      <td>NaN</td>\n",
       "    </tr>\n",
       "    <tr>\n",
       "      <td>16711</td>\n",
       "      <td>LMA Manager 2007</td>\n",
       "      <td>X360</td>\n",
       "      <td>2006.0</td>\n",
       "      <td>Sports</td>\n",
       "      <td>0.00</td>\n",
       "      <td>0.01</td>\n",
       "      <td>0.00</td>\n",
       "      <td>0.0</td>\n",
       "      <td>NaN</td>\n",
       "      <td>NaN</td>\n",
       "      <td>NaN</td>\n",
       "    </tr>\n",
       "    <tr>\n",
       "      <td>16712</td>\n",
       "      <td>Haitaka no Psychedelica</td>\n",
       "      <td>PSV</td>\n",
       "      <td>2016.0</td>\n",
       "      <td>Adventure</td>\n",
       "      <td>0.00</td>\n",
       "      <td>0.00</td>\n",
       "      <td>0.01</td>\n",
       "      <td>0.0</td>\n",
       "      <td>NaN</td>\n",
       "      <td>NaN</td>\n",
       "      <td>NaN</td>\n",
       "    </tr>\n",
       "    <tr>\n",
       "      <td>16713</td>\n",
       "      <td>Spirits &amp; Spells</td>\n",
       "      <td>GBA</td>\n",
       "      <td>2003.0</td>\n",
       "      <td>Platform</td>\n",
       "      <td>0.01</td>\n",
       "      <td>0.00</td>\n",
       "      <td>0.00</td>\n",
       "      <td>0.0</td>\n",
       "      <td>NaN</td>\n",
       "      <td>NaN</td>\n",
       "      <td>NaN</td>\n",
       "    </tr>\n",
       "    <tr>\n",
       "      <td>16714</td>\n",
       "      <td>Winning Post 8 2016</td>\n",
       "      <td>PSV</td>\n",
       "      <td>2016.0</td>\n",
       "      <td>Simulation</td>\n",
       "      <td>0.00</td>\n",
       "      <td>0.00</td>\n",
       "      <td>0.01</td>\n",
       "      <td>0.0</td>\n",
       "      <td>NaN</td>\n",
       "      <td>NaN</td>\n",
       "      <td>NaN</td>\n",
       "    </tr>\n",
       "  </tbody>\n",
       "</table>\n",
       "</div>"
      ],
      "text/plain": [
       "                                                   Name Platform  \\\n",
       "16705                                           15 Days       PC   \n",
       "16706                     Men in Black II: Alien Escape       GC   \n",
       "16707                                  Aiyoku no Eustia      PSV   \n",
       "16708                Woody Woodpecker in Crazy Castle 5      GBA   \n",
       "16709  SCORE International Baja 1000: The Official Game      PS2   \n",
       "16710                     Samurai Warriors: Sanada Maru      PS3   \n",
       "16711                                  LMA Manager 2007     X360   \n",
       "16712                           Haitaka no Psychedelica      PSV   \n",
       "16713                                  Spirits & Spells      GBA   \n",
       "16714                               Winning Post 8 2016      PSV   \n",
       "\n",
       "       Year_of_Release       Genre  NA_sales  EU_sales  JP_sales  Other_sales  \\\n",
       "16705           2009.0   Adventure      0.00      0.01      0.00          0.0   \n",
       "16706           2003.0     Shooter      0.01      0.00      0.00          0.0   \n",
       "16707           2014.0        Misc      0.00      0.00      0.01          0.0   \n",
       "16708           2002.0    Platform      0.01      0.00      0.00          0.0   \n",
       "16709           2008.0      Racing      0.00      0.00      0.00          0.0   \n",
       "16710           2016.0      Action      0.00      0.00      0.01          0.0   \n",
       "16711           2006.0      Sports      0.00      0.01      0.00          0.0   \n",
       "16712           2016.0   Adventure      0.00      0.00      0.01          0.0   \n",
       "16713           2003.0    Platform      0.01      0.00      0.00          0.0   \n",
       "16714           2016.0  Simulation      0.00      0.00      0.01          0.0   \n",
       "\n",
       "       Critic_Score User_Score Rating  \n",
       "16705          63.0        5.8    NaN  \n",
       "16706           NaN        tbd      T  \n",
       "16707           NaN        NaN    NaN  \n",
       "16708           NaN        NaN    NaN  \n",
       "16709           NaN        NaN    NaN  \n",
       "16710           NaN        NaN    NaN  \n",
       "16711           NaN        NaN    NaN  \n",
       "16712           NaN        NaN    NaN  \n",
       "16713           NaN        NaN    NaN  \n",
       "16714           NaN        NaN    NaN  "
      ]
     },
     "metadata": {},
     "output_type": "display_data"
    }
   ],
   "source": [
    "# Загрузка данных\n",
    "df = pd.read_csv('/datasets/games.csv', sep=',')\n",
    "display(df.head(10))\n",
    "display(df.tail(10))"
   ]
  },
  {
   "cell_type": "markdown",
   "metadata": {},
   "source": [
    "<div style=\"border:solid green 2px; padding: 20px\" class=\"alert alert-info\">\n",
    "    <b> 2. Подготовка данных</b>\n",
    "</div>"
   ]
  },
  {
   "cell_type": "code",
   "execution_count": 3,
   "metadata": {},
   "outputs": [
    {
     "data": {
      "text/html": [
       "<div>\n",
       "<style scoped>\n",
       "    .dataframe tbody tr th:only-of-type {\n",
       "        vertical-align: middle;\n",
       "    }\n",
       "\n",
       "    .dataframe tbody tr th {\n",
       "        vertical-align: top;\n",
       "    }\n",
       "\n",
       "    .dataframe thead th {\n",
       "        text-align: right;\n",
       "    }\n",
       "</style>\n",
       "<table border=\"1\" class=\"dataframe\">\n",
       "  <thead>\n",
       "    <tr style=\"text-align: right;\">\n",
       "      <th></th>\n",
       "      <th>name</th>\n",
       "      <th>platform</th>\n",
       "      <th>year_of_release</th>\n",
       "      <th>genre</th>\n",
       "      <th>na_sales</th>\n",
       "      <th>eu_sales</th>\n",
       "      <th>jp_sales</th>\n",
       "      <th>other_sales</th>\n",
       "      <th>critic_score</th>\n",
       "      <th>user_score</th>\n",
       "      <th>rating</th>\n",
       "    </tr>\n",
       "  </thead>\n",
       "  <tbody>\n",
       "    <tr>\n",
       "      <td>0</td>\n",
       "      <td>Wii Sports</td>\n",
       "      <td>Wii</td>\n",
       "      <td>2006.0</td>\n",
       "      <td>Sports</td>\n",
       "      <td>41.36</td>\n",
       "      <td>28.96</td>\n",
       "      <td>3.77</td>\n",
       "      <td>8.45</td>\n",
       "      <td>76.0</td>\n",
       "      <td>8</td>\n",
       "      <td>E</td>\n",
       "    </tr>\n",
       "    <tr>\n",
       "      <td>1</td>\n",
       "      <td>Super Mario Bros.</td>\n",
       "      <td>NES</td>\n",
       "      <td>1985.0</td>\n",
       "      <td>Platform</td>\n",
       "      <td>29.08</td>\n",
       "      <td>3.58</td>\n",
       "      <td>6.81</td>\n",
       "      <td>0.77</td>\n",
       "      <td>NaN</td>\n",
       "      <td>NaN</td>\n",
       "      <td>NaN</td>\n",
       "    </tr>\n",
       "  </tbody>\n",
       "</table>\n",
       "</div>"
      ],
      "text/plain": [
       "                name platform  year_of_release     genre  na_sales  eu_sales  \\\n",
       "0         Wii Sports      Wii           2006.0    Sports     41.36     28.96   \n",
       "1  Super Mario Bros.      NES           1985.0  Platform     29.08      3.58   \n",
       "\n",
       "   jp_sales  other_sales  critic_score user_score rating  \n",
       "0      3.77         8.45          76.0          8      E  \n",
       "1      6.81         0.77           NaN        NaN    NaN  "
      ]
     },
     "metadata": {},
     "output_type": "display_data"
    }
   ],
   "source": [
    "# Приведем названия колонок к нормальным\n",
    "colm = df.columns.str.lower()\n",
    "df.columns = colm.to_list()\n",
    "display(df.head(2))"
   ]
  },
  {
   "cell_type": "code",
   "execution_count": 4,
   "metadata": {},
   "outputs": [
    {
     "name": "stdout",
     "output_type": "stream",
     "text": [
      "<class 'pandas.core.frame.DataFrame'>\n",
      "RangeIndex: 16715 entries, 0 to 16714\n",
      "Data columns (total 11 columns):\n",
      "name               16713 non-null object\n",
      "platform           16715 non-null object\n",
      "year_of_release    16446 non-null float64\n",
      "genre              16713 non-null object\n",
      "na_sales           16715 non-null float64\n",
      "eu_sales           16715 non-null float64\n",
      "jp_sales           16715 non-null float64\n",
      "other_sales        16715 non-null float64\n",
      "critic_score       8137 non-null float64\n",
      "user_score         10014 non-null object\n",
      "rating             9949 non-null object\n",
      "dtypes: float64(6), object(5)\n",
      "memory usage: 1.4+ MB\n"
     ]
    },
    {
     "data": {
      "text/plain": [
       "name                  2\n",
       "platform              0\n",
       "year_of_release     269\n",
       "genre                 2\n",
       "na_sales              0\n",
       "eu_sales              0\n",
       "jp_sales              0\n",
       "other_sales           0\n",
       "critic_score       8578\n",
       "user_score         6701\n",
       "rating             6766\n",
       "dtype: int64"
      ]
     },
     "metadata": {},
     "output_type": "display_data"
    }
   ],
   "source": [
    "# Первый взгляд на данные\n",
    "df.info()\n",
    "display(df.isna().sum())"
   ]
  },
  {
   "cell_type": "code",
   "execution_count": 5,
   "metadata": {},
   "outputs": [
    {
     "name": "stdout",
     "output_type": "stream",
     "text": [
      "[76.  0. 82. 80. 89. 58. 87. 91. 61. 97. 95. 77. 88. 83. 94. 93. 85. 86.\n",
      " 98. 96. 90. 84. 73. 74. 78. 92. 71. 72. 68. 62. 49. 67. 81. 66. 56. 79.\n",
      " 70. 59. 64. 75. 60. 63. 69. 50. 25. 42. 44. 55. 48. 57. 29. 47. 65. 54.\n",
      " 20. 53. 37. 38. 33. 52. 30. 32. 43. 45. 51. 40. 46. 39. 34. 41. 36. 31.\n",
      " 27. 35. 26. 19. 28. 23. 24. 21. 17. 13.]\n",
      "\n",
      "['8' 0 '8.3' '8.5' '6.6' '8.4' '8.6' '7.7' '6.3' '7.4' '8.2' '9' '7.9'\n",
      " '8.1' '8.7' '7.1' '3.4' '5.3' '4.8' '3.2' '8.9' '6.4' '7.8' '7.5' '2.6'\n",
      " '7.2' '9.2' '7' '7.3' '4.3' '7.6' '5.7' '5' '9.1' '6.5' 'tbd' '8.8' '6.9'\n",
      " '9.4' '6.8' '6.1' '6.7' '5.4' '4' '4.9' '4.5' '9.3' '6.2' '4.2' '6' '3.7'\n",
      " '4.1' '5.8' '5.6' '5.5' '4.4' '4.6' '5.9' '3.9' '3.1' '2.9' '5.2' '3.3'\n",
      " '4.7' '5.1' '3.5' '2.5' '1.9' '3' '2.7' '2.2' '2' '9.5' '2.1' '3.6' '2.8'\n",
      " '1.8' '3.8' '0' '1.6' '9.6' '2.4' '1.7' '1.1' '0.3' '1.5' '0.7' '1.2'\n",
      " '2.3' '0.5' '1.3' '0.2' '0.6' '1.4' '0.9' '1' '9.7']\n",
      "\n",
      "['E' 0 'M' 'T' 'E10+' 'K-A' 'AO' 'EC' 'RP']\n"
     ]
    },
    {
     "data": {
      "text/html": [
       "<div>\n",
       "<style scoped>\n",
       "    .dataframe tbody tr th:only-of-type {\n",
       "        vertical-align: middle;\n",
       "    }\n",
       "\n",
       "    .dataframe tbody tr th {\n",
       "        vertical-align: top;\n",
       "    }\n",
       "\n",
       "    .dataframe thead th {\n",
       "        text-align: right;\n",
       "    }\n",
       "</style>\n",
       "<table border=\"1\" class=\"dataframe\">\n",
       "  <thead>\n",
       "    <tr style=\"text-align: right;\">\n",
       "      <th></th>\n",
       "      <th>name</th>\n",
       "      <th>platform</th>\n",
       "      <th>year_of_release</th>\n",
       "      <th>genre</th>\n",
       "      <th>na_sales</th>\n",
       "      <th>eu_sales</th>\n",
       "      <th>jp_sales</th>\n",
       "      <th>other_sales</th>\n",
       "      <th>critic_score</th>\n",
       "      <th>user_score</th>\n",
       "      <th>rating</th>\n",
       "      <th>year</th>\n",
       "      <th>reg_sum_sales</th>\n",
       "    </tr>\n",
       "  </thead>\n",
       "  <tbody>\n",
       "    <tr>\n",
       "      <td>0</td>\n",
       "      <td>Wii Sports</td>\n",
       "      <td>Wii</td>\n",
       "      <td>2006-01-01</td>\n",
       "      <td>Sports</td>\n",
       "      <td>41.36</td>\n",
       "      <td>28.96</td>\n",
       "      <td>3.77</td>\n",
       "      <td>8.45</td>\n",
       "      <td>76.0</td>\n",
       "      <td>8.0</td>\n",
       "      <td>E</td>\n",
       "      <td>2006</td>\n",
       "      <td>82.54</td>\n",
       "    </tr>\n",
       "    <tr>\n",
       "      <td>1</td>\n",
       "      <td>Super Mario Bros.</td>\n",
       "      <td>NES</td>\n",
       "      <td>1985-01-01</td>\n",
       "      <td>Platform</td>\n",
       "      <td>29.08</td>\n",
       "      <td>3.58</td>\n",
       "      <td>6.81</td>\n",
       "      <td>0.77</td>\n",
       "      <td>0.0</td>\n",
       "      <td>0.0</td>\n",
       "      <td>0</td>\n",
       "      <td>1985</td>\n",
       "      <td>40.24</td>\n",
       "    </tr>\n",
       "    <tr>\n",
       "      <td>2</td>\n",
       "      <td>Mario Kart Wii</td>\n",
       "      <td>Wii</td>\n",
       "      <td>2008-01-01</td>\n",
       "      <td>Racing</td>\n",
       "      <td>15.68</td>\n",
       "      <td>12.76</td>\n",
       "      <td>3.79</td>\n",
       "      <td>3.29</td>\n",
       "      <td>82.0</td>\n",
       "      <td>8.3</td>\n",
       "      <td>E</td>\n",
       "      <td>2008</td>\n",
       "      <td>35.52</td>\n",
       "    </tr>\n",
       "    <tr>\n",
       "      <td>3</td>\n",
       "      <td>Wii Sports Resort</td>\n",
       "      <td>Wii</td>\n",
       "      <td>2009-01-01</td>\n",
       "      <td>Sports</td>\n",
       "      <td>15.61</td>\n",
       "      <td>10.93</td>\n",
       "      <td>3.28</td>\n",
       "      <td>2.95</td>\n",
       "      <td>80.0</td>\n",
       "      <td>8.0</td>\n",
       "      <td>E</td>\n",
       "      <td>2009</td>\n",
       "      <td>32.77</td>\n",
       "    </tr>\n",
       "    <tr>\n",
       "      <td>4</td>\n",
       "      <td>Pokemon Red/Pokemon Blue</td>\n",
       "      <td>GB</td>\n",
       "      <td>1996-01-01</td>\n",
       "      <td>Role-Playing</td>\n",
       "      <td>11.27</td>\n",
       "      <td>8.89</td>\n",
       "      <td>10.22</td>\n",
       "      <td>1.00</td>\n",
       "      <td>0.0</td>\n",
       "      <td>0.0</td>\n",
       "      <td>0</td>\n",
       "      <td>1996</td>\n",
       "      <td>31.38</td>\n",
       "    </tr>\n",
       "    <tr>\n",
       "      <td>5</td>\n",
       "      <td>Tetris</td>\n",
       "      <td>GB</td>\n",
       "      <td>1989-01-01</td>\n",
       "      <td>Puzzle</td>\n",
       "      <td>23.20</td>\n",
       "      <td>2.26</td>\n",
       "      <td>4.22</td>\n",
       "      <td>0.58</td>\n",
       "      <td>0.0</td>\n",
       "      <td>0.0</td>\n",
       "      <td>0</td>\n",
       "      <td>1989</td>\n",
       "      <td>30.26</td>\n",
       "    </tr>\n",
       "    <tr>\n",
       "      <td>6</td>\n",
       "      <td>New Super Mario Bros.</td>\n",
       "      <td>DS</td>\n",
       "      <td>2006-01-01</td>\n",
       "      <td>Platform</td>\n",
       "      <td>11.28</td>\n",
       "      <td>9.14</td>\n",
       "      <td>6.50</td>\n",
       "      <td>2.88</td>\n",
       "      <td>89.0</td>\n",
       "      <td>8.5</td>\n",
       "      <td>E</td>\n",
       "      <td>2006</td>\n",
       "      <td>29.80</td>\n",
       "    </tr>\n",
       "  </tbody>\n",
       "</table>\n",
       "</div>"
      ],
      "text/plain": [
       "                       name platform year_of_release         genre  na_sales  \\\n",
       "0                Wii Sports      Wii      2006-01-01        Sports     41.36   \n",
       "1         Super Mario Bros.      NES      1985-01-01      Platform     29.08   \n",
       "2            Mario Kart Wii      Wii      2008-01-01        Racing     15.68   \n",
       "3         Wii Sports Resort      Wii      2009-01-01        Sports     15.61   \n",
       "4  Pokemon Red/Pokemon Blue       GB      1996-01-01  Role-Playing     11.27   \n",
       "5                    Tetris       GB      1989-01-01        Puzzle     23.20   \n",
       "6     New Super Mario Bros.       DS      2006-01-01      Platform     11.28   \n",
       "\n",
       "   eu_sales  jp_sales  other_sales  critic_score  user_score rating  year  \\\n",
       "0     28.96      3.77         8.45          76.0         8.0      E  2006   \n",
       "1      3.58      6.81         0.77           0.0         0.0      0  1985   \n",
       "2     12.76      3.79         3.29          82.0         8.3      E  2008   \n",
       "3     10.93      3.28         2.95          80.0         8.0      E  2009   \n",
       "4      8.89     10.22         1.00           0.0         0.0      0  1996   \n",
       "5      2.26      4.22         0.58           0.0         0.0      0  1989   \n",
       "6      9.14      6.50         2.88          89.0         8.5      E  2006   \n",
       "\n",
       "   reg_sum_sales  \n",
       "0          82.54  \n",
       "1          40.24  \n",
       "2          35.52  \n",
       "3          32.77  \n",
       "4          31.38  \n",
       "5          30.26  \n",
       "6          29.80  "
      ]
     },
     "metadata": {},
     "output_type": "display_data"
    }
   ],
   "source": [
    "# Замена типа данных и заполнение\n",
    "# Удалим значения и заполним нулями там где это необходимо\n",
    "\n",
    "df = df.dropna(subset = ['name', 'genre', 'year_of_release']) #year_of_release?\n",
    "\n",
    "df = df.fillna(0)\n",
    "\n",
    "df['year_of_release'] = pd.to_datetime(df['year_of_release'], format='%Y', errors='coerce')\n",
    "df['year'] = df['year_of_release'].dt.year\n",
    "\n",
    "print(pd.unique(df['critic_score']))\n",
    "print()\n",
    "print(pd.unique(df['user_score']))\n",
    "print()\n",
    "print(pd.unique(df['rating']))\n",
    "\n",
    "# \"tbd\" данное сокращение переводится как \"подлежит уточнению\", а так как, ни кто ничего уточнять не будет заменим средним (3,8)\n",
    "tbd = df[df['user_score'] == 'tbd']\n",
    "tbd_mean = df[df['user_score'] != 'tbd']\n",
    "tbd_mean = tbd_mean['user_score'].astype('float').mean()\n",
    "df['user_score'] = round(df['user_score'].replace('tbd', tbd_mean).astype(float), 1)\n",
    "\n",
    "\n",
    "# Сумма продаж по регионам\n",
    "df['reg_sum_sales'] = df[['na_sales', 'eu_sales', 'jp_sales', 'other_sales']].sum(axis=1)\n",
    "\n",
    "display(df.head(7))"
   ]
  },
  {
   "cell_type": "markdown",
   "metadata": {},
   "source": [
    "<div style=\"border:solid green 2px; padding: 20px\" class=\"alert alert-info\">\n",
    "    <b> 3. Исследование данных</b>\n",
    "</div>"
   ]
  },
  {
   "cell_type": "code",
   "execution_count": 6,
   "metadata": {},
   "outputs": [
    {
     "data": {
      "text/plain": [
       "<matplotlib.axes._subplots.AxesSubplot at 0x7f8f8f45ddd0>"
      ]
     },
     "execution_count": 6,
     "metadata": {},
     "output_type": "execute_result"
    },
    {
     "data": {
      "image/png": "[encoded data removed]",
      "text/plain": [
       "<Figure size 1080x504 with 1 Axes>"
      ]
     },
     "metadata": {
      "needs_background": "light"
     },
     "output_type": "display_data"
    }
   ],
   "source": [
    "# количество игр по годам\n",
    "\n",
    "game_year = df.pivot_table(index='year', values='name', aggfunc='count').reset_index()\n",
    "#display(game_year)\n",
    "game_year.plot(kind='bar', x='year', y='name', title='Проданные игры за год', figsize=(15, 7)) "
   ]
  },
  {
   "cell_type": "markdown",
   "metadata": {},
   "source": [
    "<div style=\"border:dashed red 2px; padding: 20px\" class=\"alert alert-info\">\n",
    "    <b>Вывод</b>\n",
    "    <p>Видно что рост идет скачкаобразно, видимо это связано с развитием технологий</p>\n",
    "</div>"
   ]
  },
  {
   "cell_type": "code",
   "execution_count": 7,
   "metadata": {},
   "outputs": [
    {
     "data": {
      "text/plain": [
       "<matplotlib.axes._subplots.AxesSubplot at 0x7f8f86b92c90>"
      ]
     },
     "execution_count": 7,
     "metadata": {},
     "output_type": "execute_result"
    },
    {
     "data": {
      "image/png": "[encoded data removed]",
      "text/plain": [
       "<Figure size 1080x504 with 1 Axes>"
      ]
     },
     "metadata": {
      "needs_background": "light"
     },
     "output_type": "display_data"
    }
   ],
   "source": [
    "# продажи по платформам\n",
    "game_platform = df.pivot_table(index=['platform'],\n",
    "                               values=['reg_sum_sales'],\n",
    "                               aggfunc='sum').reset_index()\n",
    "\n",
    "game_platform.plot(kind='bar', x='platform', y='reg_sum_sales', title='Суммарные продажи', figsize=(15, 7), grid=True) "
   ]
  },
  {
   "cell_type": "code",
   "execution_count": 8,
   "metadata": {},
   "outputs": [
    {
     "data": {
      "image/png": "[encoded data removed]",
      "text/plain": [
       "<Figure size 1080x576 with 1 Axes>"
      ]
     },
     "metadata": {
      "needs_background": "light"
     },
     "output_type": "display_data"
    }
   ],
   "source": [
    "# отсеим все что меньше 350\n",
    "game_platform = game_platform[game_platform['reg_sum_sales'] >= 350]\n",
    "game_platform = pd.unique(game_platform['platform'])\n",
    "#print (game_platform)\n",
    "\n",
    "# построим графики\n",
    "\n",
    "for platf in game_platform:\n",
    "    (       \n",
    "    df[df['platform'] == platf]\n",
    "    .groupby('year')['reg_sum_sales'].sum()    \n",
    "    .plot(figsize=(15,8), label=platf, marker='o', grid='True')     \n",
    "    )\n",
    "\n",
    "plt.legend(loc='upper left')\n",
    "plt.xticks(range(1980, 2016))\n",
    "plt.xlabel('Год')\n",
    "plt.xticks(rotation=90)\n",
    "plt.ylabel('Копии млн. шт')\n",
    "plt.title('Количество проданых платформ по годам')\n",
    "plt.show()\n",
    "\n",
    "#Другой, доработать цветовую палитру, вариант https://pypi.org/project/bar-chart-race/"
   ]
  },
  {
   "cell_type": "markdown",
   "metadata": {},
   "source": [
    "<div style=\"border:dashed red 2px; padding: 20px\" class=\"alert alert-info\">\n",
    "    <b>Вывод</b>\n",
    "    <p>В среднем продолжительность жизни платформы 10 лет, но есть и исключения</p>\n",
    "</div>"
   ]
  },
  {
   "cell_type": "code",
   "execution_count": 9,
   "metadata": {},
   "outputs": [
    {
     "data": {
      "text/html": [
       "<div>\n",
       "<style scoped>\n",
       "    .dataframe tbody tr th:only-of-type {\n",
       "        vertical-align: middle;\n",
       "    }\n",
       "\n",
       "    .dataframe tbody tr th {\n",
       "        vertical-align: top;\n",
       "    }\n",
       "\n",
       "    .dataframe thead th {\n",
       "        text-align: right;\n",
       "    }\n",
       "</style>\n",
       "<table border=\"1\" class=\"dataframe\">\n",
       "  <thead>\n",
       "    <tr style=\"text-align: right;\">\n",
       "      <th></th>\n",
       "      <th>name</th>\n",
       "      <th>platform</th>\n",
       "      <th>year_of_release</th>\n",
       "      <th>genre</th>\n",
       "      <th>na_sales</th>\n",
       "      <th>eu_sales</th>\n",
       "      <th>jp_sales</th>\n",
       "      <th>other_sales</th>\n",
       "      <th>critic_score</th>\n",
       "      <th>user_score</th>\n",
       "      <th>rating</th>\n",
       "      <th>year</th>\n",
       "      <th>reg_sum_sales</th>\n",
       "    </tr>\n",
       "  </thead>\n",
       "  <tbody>\n",
       "    <tr>\n",
       "      <td>16</td>\n",
       "      <td>Grand Theft Auto V</td>\n",
       "      <td>PS3</td>\n",
       "      <td>2013-01-01</td>\n",
       "      <td>Action</td>\n",
       "      <td>7.02</td>\n",
       "      <td>9.09</td>\n",
       "      <td>0.98</td>\n",
       "      <td>3.96</td>\n",
       "      <td>97.0</td>\n",
       "      <td>8.2</td>\n",
       "      <td>M</td>\n",
       "      <td>2013</td>\n",
       "      <td>21.05</td>\n",
       "    </tr>\n",
       "    <tr>\n",
       "      <td>23</td>\n",
       "      <td>Grand Theft Auto V</td>\n",
       "      <td>X360</td>\n",
       "      <td>2013-01-01</td>\n",
       "      <td>Action</td>\n",
       "      <td>9.66</td>\n",
       "      <td>5.14</td>\n",
       "      <td>0.06</td>\n",
       "      <td>1.41</td>\n",
       "      <td>97.0</td>\n",
       "      <td>8.1</td>\n",
       "      <td>M</td>\n",
       "      <td>2013</td>\n",
       "      <td>16.27</td>\n",
       "    </tr>\n",
       "  </tbody>\n",
       "</table>\n",
       "</div>"
      ],
      "text/plain": [
       "                  name platform year_of_release   genre  na_sales  eu_sales  \\\n",
       "16  Grand Theft Auto V      PS3      2013-01-01  Action      7.02      9.09   \n",
       "23  Grand Theft Auto V     X360      2013-01-01  Action      9.66      5.14   \n",
       "\n",
       "    jp_sales  other_sales  critic_score  user_score rating  year  \\\n",
       "16      0.98         3.96          97.0         8.2      M  2013   \n",
       "23      0.06         1.41          97.0         8.1      M  2013   \n",
       "\n",
       "    reg_sum_sales  \n",
       "16          21.05  \n",
       "23          16.27  "
      ]
     },
     "metadata": {},
     "output_type": "display_data"
    }
   ],
   "source": [
    "# Берем срез данных 'актуальный период' \n",
    "# Срез решил сделать по 2006 году так как там наблюдается один из больших всплесков.\n",
    "new_df = df[df['year'] >= 2012]\n",
    "new_df = new_df[new_df['year'] <= 2015]\n",
    "display(new_df.head(2)) "
   ]
  },
  {
   "cell_type": "code",
   "execution_count": 10,
   "metadata": {},
   "outputs": [
    {
     "data": {
      "image/png": "[encoded data removed]",
      "text/plain": [
       "<Figure size 1080x576 with 1 Axes>"
      ]
     },
     "metadata": {
      "needs_background": "light"
     },
     "output_type": "display_data"
    },
    {
     "data": {
      "text/plain": [
       "['3DS', 'PS3', 'PS4', 'X360', 'XOne']"
      ]
     },
     "metadata": {},
     "output_type": "display_data"
    }
   ],
   "source": [
    "# Выбираем выгодные платформы \n",
    "\n",
    "exselent_platform = (new_df \n",
    "                     .pivot_table(index=['platform','year'], values='reg_sum_sales', aggfunc='sum')\n",
    "                     .reset_index()\n",
    "                    )\n",
    "\n",
    "plt.figure(figsize=(15,8))\n",
    "plt.style.use('seaborn-deep')\n",
    "sns.lineplot(data=exselent_platform, x='year', y='reg_sum_sales', hue='platform', marker='o')\n",
    "\n",
    "plt.legend(loc='upper left')\n",
    "plt.xticks(range(2012, 2016))\n",
    "plt.xlabel('Год')\n",
    "plt.ylabel('Копии млн. шт')\n",
    "plt.title('Продажи по плотформам')\n",
    "plt.show()\n",
    "\n",
    "good_platform = (exselent_platform\n",
    "                .groupby('platform').agg({'reg_sum_sales':'sum'})\n",
    "                .reset_index()\n",
    "                )\n",
    "good_platform = good_platform[good_platform['reg_sum_sales'] > 100]\n",
    "good_platform = good_platform['platform'].tolist()\n",
    "display(good_platform)"
   ]
  },
  {
   "cell_type": "markdown",
   "metadata": {},
   "source": [
    "<div style=\"border:dashed red 2px; padding: 20px\" class=\"alert alert-info\">\n",
    "    <b>Вывод</b>\n",
    "    <p>По графику видно что лидируют две плотформы, которые появились в 2013 их и \n",
    "       возьмем и для разнообразия еще парочку другую.\n",
    "    </p>\n",
    "    <p>\n",
    "       Выбрал следующие платформы '3DS', 'PS3', 'PS4', 'X360', 'XOne' .\n",
    "    </p>\n",
    "    <p>     \n",
    "       Лидерами оказались: 'PS4', 'X360',\n",
    "    </p>\n",
    "</div>"
   ]
  },
  {
   "cell_type": "code",
   "execution_count": 11,
   "metadata": {},
   "outputs": [
    {
     "data": {
      "image/png": "[encoded data removed]",
      "text/plain": [
       "<Figure size 1080x648 with 1 Axes>"
      ]
     },
     "metadata": {
      "needs_background": "light"
     },
     "output_type": "display_data"
    }
   ],
   "source": [
    "# построим усы\n",
    "game_box = new_df.query('platform in @good_platform')\n",
    "game_box = game_box[game_box['reg_sum_sales'] <= 3]\n",
    "game_box.boxplot('reg_sum_sales', by='platform', figsize=(15,9))\n",
    "\n",
    "plt.xlabel('Платформа')\n",
    "plt.ylabel('Копии млн. шт')\n",
    "plt.title('Продажи по плотформам')\n",
    "plt.show()"
   ]
  },
  {
   "cell_type": "markdown",
   "metadata": {},
   "source": [
    "<div style=\"border:dashed red 2px; padding: 20px\" class=\"alert alert-info\">\n",
    "    <b>Вывод</b>\n",
    "    <p>Можно сделать выводы, что больше всего продовались PS4 и X360 в период с 2012 по 2015 годы </p>\n",
    "</div>"
   ]
  },
  {
   "cell_type": "code",
   "execution_count": 12,
   "metadata": {},
   "outputs": [
    {
     "name": "stdout",
     "output_type": "stream",
     "text": [
      "-------------------------------------- 3DS ----------------------------------------\n"
     ]
    },
    {
     "data": {
      "text/html": [
       "<div>\n",
       "<style scoped>\n",
       "    .dataframe tbody tr th:only-of-type {\n",
       "        vertical-align: middle;\n",
       "    }\n",
       "\n",
       "    .dataframe tbody tr th {\n",
       "        vertical-align: top;\n",
       "    }\n",
       "\n",
       "    .dataframe thead th {\n",
       "        text-align: right;\n",
       "    }\n",
       "</style>\n",
       "<table border=\"1\" class=\"dataframe\">\n",
       "  <thead>\n",
       "    <tr style=\"text-align: right;\">\n",
       "      <th></th>\n",
       "      <th>na_sales</th>\n",
       "      <th>eu_sales</th>\n",
       "      <th>jp_sales</th>\n",
       "      <th>other_sales</th>\n",
       "      <th>critic_score</th>\n",
       "      <th>user_score</th>\n",
       "      <th>year</th>\n",
       "      <th>reg_sum_sales</th>\n",
       "    </tr>\n",
       "  </thead>\n",
       "  <tbody>\n",
       "    <tr>\n",
       "      <td>na_sales</td>\n",
       "      <td>1.000000</td>\n",
       "      <td>0.957552</td>\n",
       "      <td>0.755383</td>\n",
       "      <td>0.993035</td>\n",
       "      <td>0.335420</td>\n",
       "      <td>0.226424</td>\n",
       "      <td>-0.130886</td>\n",
       "      <td>0.964533</td>\n",
       "    </tr>\n",
       "    <tr>\n",
       "      <td>eu_sales</td>\n",
       "      <td>0.957552</td>\n",
       "      <td>1.000000</td>\n",
       "      <td>0.826612</td>\n",
       "      <td>0.981020</td>\n",
       "      <td>0.309868</td>\n",
       "      <td>0.203354</td>\n",
       "      <td>-0.105877</td>\n",
       "      <td>0.982217</td>\n",
       "    </tr>\n",
       "    <tr>\n",
       "      <td>jp_sales</td>\n",
       "      <td>0.755383</td>\n",
       "      <td>0.826612</td>\n",
       "      <td>1.000000</td>\n",
       "      <td>0.778040</td>\n",
       "      <td>0.348216</td>\n",
       "      <td>0.285723</td>\n",
       "      <td>0.013700</td>\n",
       "      <td>0.893766</td>\n",
       "    </tr>\n",
       "    <tr>\n",
       "      <td>other_sales</td>\n",
       "      <td>0.993035</td>\n",
       "      <td>0.981020</td>\n",
       "      <td>0.778040</td>\n",
       "      <td>1.000000</td>\n",
       "      <td>0.322502</td>\n",
       "      <td>0.212335</td>\n",
       "      <td>-0.121928</td>\n",
       "      <td>0.976324</td>\n",
       "    </tr>\n",
       "    <tr>\n",
       "      <td>critic_score</td>\n",
       "      <td>0.335420</td>\n",
       "      <td>0.309868</td>\n",
       "      <td>0.348216</td>\n",
       "      <td>0.322502</td>\n",
       "      <td>1.000000</td>\n",
       "      <td>0.743066</td>\n",
       "      <td>0.185363</td>\n",
       "      <td>0.348740</td>\n",
       "    </tr>\n",
       "    <tr>\n",
       "      <td>user_score</td>\n",
       "      <td>0.226424</td>\n",
       "      <td>0.203354</td>\n",
       "      <td>0.285723</td>\n",
       "      <td>0.212335</td>\n",
       "      <td>0.743066</td>\n",
       "      <td>1.000000</td>\n",
       "      <td>0.224473</td>\n",
       "      <td>0.248970</td>\n",
       "    </tr>\n",
       "    <tr>\n",
       "      <td>year</td>\n",
       "      <td>-0.130886</td>\n",
       "      <td>-0.105877</td>\n",
       "      <td>0.013700</td>\n",
       "      <td>-0.121928</td>\n",
       "      <td>0.185363</td>\n",
       "      <td>0.224473</td>\n",
       "      <td>1.000000</td>\n",
       "      <td>-0.085169</td>\n",
       "    </tr>\n",
       "    <tr>\n",
       "      <td>reg_sum_sales</td>\n",
       "      <td>0.964533</td>\n",
       "      <td>0.982217</td>\n",
       "      <td>0.893766</td>\n",
       "      <td>0.976324</td>\n",
       "      <td>0.348740</td>\n",
       "      <td>0.248970</td>\n",
       "      <td>-0.085169</td>\n",
       "      <td>1.000000</td>\n",
       "    </tr>\n",
       "  </tbody>\n",
       "</table>\n",
       "</div>"
      ],
      "text/plain": [
       "               na_sales  eu_sales  jp_sales  other_sales  critic_score  \\\n",
       "na_sales       1.000000  0.957552  0.755383     0.993035      0.335420   \n",
       "eu_sales       0.957552  1.000000  0.826612     0.981020      0.309868   \n",
       "jp_sales       0.755383  0.826612  1.000000     0.778040      0.348216   \n",
       "other_sales    0.993035  0.981020  0.778040     1.000000      0.322502   \n",
       "critic_score   0.335420  0.309868  0.348216     0.322502      1.000000   \n",
       "user_score     0.226424  0.203354  0.285723     0.212335      0.743066   \n",
       "year          -0.130886 -0.105877  0.013700    -0.121928      0.185363   \n",
       "reg_sum_sales  0.964533  0.982217  0.893766     0.976324      0.348740   \n",
       "\n",
       "               user_score      year  reg_sum_sales  \n",
       "na_sales         0.226424 -0.130886       0.964533  \n",
       "eu_sales         0.203354 -0.105877       0.982217  \n",
       "jp_sales         0.285723  0.013700       0.893766  \n",
       "other_sales      0.212335 -0.121928       0.976324  \n",
       "critic_score     0.743066  0.185363       0.348740  \n",
       "user_score       1.000000  0.224473       0.248970  \n",
       "year             0.224473  1.000000      -0.085169  \n",
       "reg_sum_sales    0.248970 -0.085169       1.000000  "
      ]
     },
     "metadata": {},
     "output_type": "display_data"
    },
    {
     "data": {
      "image/png": "[encoded data removed]",
      "text/plain": [
       "<Figure size 864x504 with 1 Axes>"
      ]
     },
     "metadata": {
      "needs_background": "light"
     },
     "output_type": "display_data"
    },
    {
     "data": {
      "image/png": "[encoded data removed]",
      "text/plain": [
       "<Figure size 864x504 with 1 Axes>"
      ]
     },
     "metadata": {
      "needs_background": "light"
     },
     "output_type": "display_data"
    },
    {
     "name": "stdout",
     "output_type": "stream",
     "text": [
      "-------------------------------------- PS3 ----------------------------------------\n"
     ]
    },
    {
     "data": {
      "text/html": [
       "<div>\n",
       "<style scoped>\n",
       "    .dataframe tbody tr th:only-of-type {\n",
       "        vertical-align: middle;\n",
       "    }\n",
       "\n",
       "    .dataframe tbody tr th {\n",
       "        vertical-align: top;\n",
       "    }\n",
       "\n",
       "    .dataframe thead th {\n",
       "        text-align: right;\n",
       "    }\n",
       "</style>\n",
       "<table border=\"1\" class=\"dataframe\">\n",
       "  <thead>\n",
       "    <tr style=\"text-align: right;\">\n",
       "      <th></th>\n",
       "      <th>na_sales</th>\n",
       "      <th>eu_sales</th>\n",
       "      <th>jp_sales</th>\n",
       "      <th>other_sales</th>\n",
       "      <th>critic_score</th>\n",
       "      <th>user_score</th>\n",
       "      <th>year</th>\n",
       "      <th>reg_sum_sales</th>\n",
       "    </tr>\n",
       "  </thead>\n",
       "  <tbody>\n",
       "    <tr>\n",
       "      <td>na_sales</td>\n",
       "      <td>1.000000</td>\n",
       "      <td>0.826680</td>\n",
       "      <td>0.380498</td>\n",
       "      <td>0.872466</td>\n",
       "      <td>0.454413</td>\n",
       "      <td>0.173822</td>\n",
       "      <td>-0.053523</td>\n",
       "      <td>0.940527</td>\n",
       "    </tr>\n",
       "    <tr>\n",
       "      <td>eu_sales</td>\n",
       "      <td>0.826680</td>\n",
       "      <td>1.000000</td>\n",
       "      <td>0.421490</td>\n",
       "      <td>0.978143</td>\n",
       "      <td>0.382536</td>\n",
       "      <td>0.130541</td>\n",
       "      <td>0.020449</td>\n",
       "      <td>0.962073</td>\n",
       "    </tr>\n",
       "    <tr>\n",
       "      <td>jp_sales</td>\n",
       "      <td>0.380498</td>\n",
       "      <td>0.421490</td>\n",
       "      <td>1.000000</td>\n",
       "      <td>0.420342</td>\n",
       "      <td>0.202937</td>\n",
       "      <td>0.186203</td>\n",
       "      <td>0.105950</td>\n",
       "      <td>0.495844</td>\n",
       "    </tr>\n",
       "    <tr>\n",
       "      <td>other_sales</td>\n",
       "      <td>0.872466</td>\n",
       "      <td>0.978143</td>\n",
       "      <td>0.420342</td>\n",
       "      <td>1.000000</td>\n",
       "      <td>0.394883</td>\n",
       "      <td>0.150749</td>\n",
       "      <td>0.002588</td>\n",
       "      <td>0.975522</td>\n",
       "    </tr>\n",
       "    <tr>\n",
       "      <td>critic_score</td>\n",
       "      <td>0.454413</td>\n",
       "      <td>0.382536</td>\n",
       "      <td>0.202937</td>\n",
       "      <td>0.394883</td>\n",
       "      <td>1.000000</td>\n",
       "      <td>0.631360</td>\n",
       "      <td>-0.001309</td>\n",
       "      <td>0.432759</td>\n",
       "    </tr>\n",
       "    <tr>\n",
       "      <td>user_score</td>\n",
       "      <td>0.173822</td>\n",
       "      <td>0.130541</td>\n",
       "      <td>0.186203</td>\n",
       "      <td>0.150749</td>\n",
       "      <td>0.631360</td>\n",
       "      <td>1.000000</td>\n",
       "      <td>-0.023758</td>\n",
       "      <td>0.168896</td>\n",
       "    </tr>\n",
       "    <tr>\n",
       "      <td>year</td>\n",
       "      <td>-0.053523</td>\n",
       "      <td>0.020449</td>\n",
       "      <td>0.105950</td>\n",
       "      <td>0.002588</td>\n",
       "      <td>-0.001309</td>\n",
       "      <td>-0.023758</td>\n",
       "      <td>1.000000</td>\n",
       "      <td>-0.003547</td>\n",
       "    </tr>\n",
       "    <tr>\n",
       "      <td>reg_sum_sales</td>\n",
       "      <td>0.940527</td>\n",
       "      <td>0.962073</td>\n",
       "      <td>0.495844</td>\n",
       "      <td>0.975522</td>\n",
       "      <td>0.432759</td>\n",
       "      <td>0.168896</td>\n",
       "      <td>-0.003547</td>\n",
       "      <td>1.000000</td>\n",
       "    </tr>\n",
       "  </tbody>\n",
       "</table>\n",
       "</div>"
      ],
      "text/plain": [
       "               na_sales  eu_sales  jp_sales  other_sales  critic_score  \\\n",
       "na_sales       1.000000  0.826680  0.380498     0.872466      0.454413   \n",
       "eu_sales       0.826680  1.000000  0.421490     0.978143      0.382536   \n",
       "jp_sales       0.380498  0.421490  1.000000     0.420342      0.202937   \n",
       "other_sales    0.872466  0.978143  0.420342     1.000000      0.394883   \n",
       "critic_score   0.454413  0.382536  0.202937     0.394883      1.000000   \n",
       "user_score     0.173822  0.130541  0.186203     0.150749      0.631360   \n",
       "year          -0.053523  0.020449  0.105950     0.002588     -0.001309   \n",
       "reg_sum_sales  0.940527  0.962073  0.495844     0.975522      0.432759   \n",
       "\n",
       "               user_score      year  reg_sum_sales  \n",
       "na_sales         0.173822 -0.053523       0.940527  \n",
       "eu_sales         0.130541  0.020449       0.962073  \n",
       "jp_sales         0.186203  0.105950       0.495844  \n",
       "other_sales      0.150749  0.002588       0.975522  \n",
       "critic_score     0.631360 -0.001309       0.432759  \n",
       "user_score       1.000000 -0.023758       0.168896  \n",
       "year            -0.023758  1.000000      -0.003547  \n",
       "reg_sum_sales    0.168896 -0.003547       1.000000  "
      ]
     },
     "metadata": {},
     "output_type": "display_data"
    },
    {
     "data": {
      "image/png": "[encoded data removed]",
      "text/plain": [
       "<Figure size 864x504 with 1 Axes>"
      ]
     },
     "metadata": {
      "needs_background": "light"
     },
     "output_type": "display_data"
    },
    {
     "data": {
      "image/png": "[encoded data removed]",
      "text/plain": [
       "<Figure size 864x504 with 1 Axes>"
      ]
     },
     "metadata": {
      "needs_background": "light"
     },
     "output_type": "display_data"
    },
    {
     "name": "stdout",
     "output_type": "stream",
     "text": [
      "-------------------------------------- PS4 ----------------------------------------\n"
     ]
    },
    {
     "data": {
      "text/html": [
       "<div>\n",
       "<style scoped>\n",
       "    .dataframe tbody tr th:only-of-type {\n",
       "        vertical-align: middle;\n",
       "    }\n",
       "\n",
       "    .dataframe tbody tr th {\n",
       "        vertical-align: top;\n",
       "    }\n",
       "\n",
       "    .dataframe thead th {\n",
       "        text-align: right;\n",
       "    }\n",
       "</style>\n",
       "<table border=\"1\" class=\"dataframe\">\n",
       "  <thead>\n",
       "    <tr style=\"text-align: right;\">\n",
       "      <th></th>\n",
       "      <th>na_sales</th>\n",
       "      <th>eu_sales</th>\n",
       "      <th>jp_sales</th>\n",
       "      <th>other_sales</th>\n",
       "      <th>critic_score</th>\n",
       "      <th>user_score</th>\n",
       "      <th>year</th>\n",
       "      <th>reg_sum_sales</th>\n",
       "    </tr>\n",
       "  </thead>\n",
       "  <tbody>\n",
       "    <tr>\n",
       "      <td>na_sales</td>\n",
       "      <td>1.000000</td>\n",
       "      <td>0.715634</td>\n",
       "      <td>0.531651</td>\n",
       "      <td>0.915508</td>\n",
       "      <td>0.414338</td>\n",
       "      <td>-0.013213</td>\n",
       "      <td>-0.264948</td>\n",
       "      <td>0.894083</td>\n",
       "    </tr>\n",
       "    <tr>\n",
       "      <td>eu_sales</td>\n",
       "      <td>0.715634</td>\n",
       "      <td>1.000000</td>\n",
       "      <td>0.520906</td>\n",
       "      <td>0.935271</td>\n",
       "      <td>0.346257</td>\n",
       "      <td>-0.041681</td>\n",
       "      <td>-0.194536</td>\n",
       "      <td>0.951751</td>\n",
       "    </tr>\n",
       "    <tr>\n",
       "      <td>jp_sales</td>\n",
       "      <td>0.531651</td>\n",
       "      <td>0.520906</td>\n",
       "      <td>1.000000</td>\n",
       "      <td>0.567832</td>\n",
       "      <td>0.322303</td>\n",
       "      <td>0.180345</td>\n",
       "      <td>-0.126718</td>\n",
       "      <td>0.593261</td>\n",
       "    </tr>\n",
       "    <tr>\n",
       "      <td>other_sales</td>\n",
       "      <td>0.915508</td>\n",
       "      <td>0.935271</td>\n",
       "      <td>0.567832</td>\n",
       "      <td>1.000000</td>\n",
       "      <td>0.408603</td>\n",
       "      <td>-0.027555</td>\n",
       "      <td>-0.235597</td>\n",
       "      <td>0.997802</td>\n",
       "    </tr>\n",
       "    <tr>\n",
       "      <td>critic_score</td>\n",
       "      <td>0.414338</td>\n",
       "      <td>0.346257</td>\n",
       "      <td>0.322303</td>\n",
       "      <td>0.408603</td>\n",
       "      <td>1.000000</td>\n",
       "      <td>0.551234</td>\n",
       "      <td>-0.021289</td>\n",
       "      <td>0.406002</td>\n",
       "    </tr>\n",
       "    <tr>\n",
       "      <td>user_score</td>\n",
       "      <td>-0.013213</td>\n",
       "      <td>-0.041681</td>\n",
       "      <td>0.180345</td>\n",
       "      <td>-0.027555</td>\n",
       "      <td>0.551234</td>\n",
       "      <td>1.000000</td>\n",
       "      <td>0.130878</td>\n",
       "      <td>-0.023790</td>\n",
       "    </tr>\n",
       "    <tr>\n",
       "      <td>year</td>\n",
       "      <td>-0.264948</td>\n",
       "      <td>-0.194536</td>\n",
       "      <td>-0.126718</td>\n",
       "      <td>-0.235597</td>\n",
       "      <td>-0.021289</td>\n",
       "      <td>0.130878</td>\n",
       "      <td>1.000000</td>\n",
       "      <td>-0.237863</td>\n",
       "    </tr>\n",
       "    <tr>\n",
       "      <td>reg_sum_sales</td>\n",
       "      <td>0.894083</td>\n",
       "      <td>0.951751</td>\n",
       "      <td>0.593261</td>\n",
       "      <td>0.997802</td>\n",
       "      <td>0.406002</td>\n",
       "      <td>-0.023790</td>\n",
       "      <td>-0.237863</td>\n",
       "      <td>1.000000</td>\n",
       "    </tr>\n",
       "  </tbody>\n",
       "</table>\n",
       "</div>"
      ],
      "text/plain": [
       "               na_sales  eu_sales  jp_sales  other_sales  critic_score  \\\n",
       "na_sales       1.000000  0.715634  0.531651     0.915508      0.414338   \n",
       "eu_sales       0.715634  1.000000  0.520906     0.935271      0.346257   \n",
       "jp_sales       0.531651  0.520906  1.000000     0.567832      0.322303   \n",
       "other_sales    0.915508  0.935271  0.567832     1.000000      0.408603   \n",
       "critic_score   0.414338  0.346257  0.322303     0.408603      1.000000   \n",
       "user_score    -0.013213 -0.041681  0.180345    -0.027555      0.551234   \n",
       "year          -0.264948 -0.194536 -0.126718    -0.235597     -0.021289   \n",
       "reg_sum_sales  0.894083  0.951751  0.593261     0.997802      0.406002   \n",
       "\n",
       "               user_score      year  reg_sum_sales  \n",
       "na_sales        -0.013213 -0.264948       0.894083  \n",
       "eu_sales        -0.041681 -0.194536       0.951751  \n",
       "jp_sales         0.180345 -0.126718       0.593261  \n",
       "other_sales     -0.027555 -0.235597       0.997802  \n",
       "critic_score     0.551234 -0.021289       0.406002  \n",
       "user_score       1.000000  0.130878      -0.023790  \n",
       "year             0.130878  1.000000      -0.237863  \n",
       "reg_sum_sales   -0.023790 -0.237863       1.000000  "
      ]
     },
     "metadata": {},
     "output_type": "display_data"
    },
    {
     "data": {
      "image/png": "[encoded data removed]",
      "text/plain": [
       "<Figure size 864x504 with 1 Axes>"
      ]
     },
     "metadata": {
      "needs_background": "light"
     },
     "output_type": "display_data"
    },
    {
     "data": {
      "image/png": "[encoded data removed]",
      "text/plain": [
       "<Figure size 864x504 with 1 Axes>"
      ]
     },
     "metadata": {
      "needs_background": "light"
     },
     "output_type": "display_data"
    },
    {
     "name": "stdout",
     "output_type": "stream",
     "text": [
      "-------------------------------------- X360 ----------------------------------------\n"
     ]
    },
    {
     "data": {
      "text/html": [
       "<div>\n",
       "<style scoped>\n",
       "    .dataframe tbody tr th:only-of-type {\n",
       "        vertical-align: middle;\n",
       "    }\n",
       "\n",
       "    .dataframe tbody tr th {\n",
       "        vertical-align: top;\n",
       "    }\n",
       "\n",
       "    .dataframe thead th {\n",
       "        text-align: right;\n",
       "    }\n",
       "</style>\n",
       "<table border=\"1\" class=\"dataframe\">\n",
       "  <thead>\n",
       "    <tr style=\"text-align: right;\">\n",
       "      <th></th>\n",
       "      <th>na_sales</th>\n",
       "      <th>eu_sales</th>\n",
       "      <th>jp_sales</th>\n",
       "      <th>other_sales</th>\n",
       "      <th>critic_score</th>\n",
       "      <th>user_score</th>\n",
       "      <th>year</th>\n",
       "      <th>reg_sum_sales</th>\n",
       "    </tr>\n",
       "  </thead>\n",
       "  <tbody>\n",
       "    <tr>\n",
       "      <td>na_sales</td>\n",
       "      <td>1.000000</td>\n",
       "      <td>0.867620</td>\n",
       "      <td>0.519002</td>\n",
       "      <td>0.967008</td>\n",
       "      <td>0.376460</td>\n",
       "      <td>0.121113</td>\n",
       "      <td>0.039782</td>\n",
       "      <td>0.986086</td>\n",
       "    </tr>\n",
       "    <tr>\n",
       "      <td>eu_sales</td>\n",
       "      <td>0.867620</td>\n",
       "      <td>1.000000</td>\n",
       "      <td>0.499493</td>\n",
       "      <td>0.953341</td>\n",
       "      <td>0.384812</td>\n",
       "      <td>0.130730</td>\n",
       "      <td>0.112467</td>\n",
       "      <td>0.937771</td>\n",
       "    </tr>\n",
       "    <tr>\n",
       "      <td>jp_sales</td>\n",
       "      <td>0.519002</td>\n",
       "      <td>0.499493</td>\n",
       "      <td>1.000000</td>\n",
       "      <td>0.537956</td>\n",
       "      <td>0.284054</td>\n",
       "      <td>0.186742</td>\n",
       "      <td>-0.078595</td>\n",
       "      <td>0.540111</td>\n",
       "    </tr>\n",
       "    <tr>\n",
       "      <td>other_sales</td>\n",
       "      <td>0.967008</td>\n",
       "      <td>0.953341</td>\n",
       "      <td>0.537956</td>\n",
       "      <td>1.000000</td>\n",
       "      <td>0.401606</td>\n",
       "      <td>0.140609</td>\n",
       "      <td>0.051197</td>\n",
       "      <td>0.992837</td>\n",
       "    </tr>\n",
       "    <tr>\n",
       "      <td>critic_score</td>\n",
       "      <td>0.376460</td>\n",
       "      <td>0.384812</td>\n",
       "      <td>0.284054</td>\n",
       "      <td>0.401606</td>\n",
       "      <td>1.000000</td>\n",
       "      <td>0.622209</td>\n",
       "      <td>-0.004043</td>\n",
       "      <td>0.392666</td>\n",
       "    </tr>\n",
       "    <tr>\n",
       "      <td>user_score</td>\n",
       "      <td>0.121113</td>\n",
       "      <td>0.130730</td>\n",
       "      <td>0.186742</td>\n",
       "      <td>0.140609</td>\n",
       "      <td>0.622209</td>\n",
       "      <td>1.000000</td>\n",
       "      <td>-0.132462</td>\n",
       "      <td>0.130761</td>\n",
       "    </tr>\n",
       "    <tr>\n",
       "      <td>year</td>\n",
       "      <td>0.039782</td>\n",
       "      <td>0.112467</td>\n",
       "      <td>-0.078595</td>\n",
       "      <td>0.051197</td>\n",
       "      <td>-0.004043</td>\n",
       "      <td>-0.132462</td>\n",
       "      <td>1.000000</td>\n",
       "      <td>0.061381</td>\n",
       "    </tr>\n",
       "    <tr>\n",
       "      <td>reg_sum_sales</td>\n",
       "      <td>0.986086</td>\n",
       "      <td>0.937771</td>\n",
       "      <td>0.540111</td>\n",
       "      <td>0.992837</td>\n",
       "      <td>0.392666</td>\n",
       "      <td>0.130761</td>\n",
       "      <td>0.061381</td>\n",
       "      <td>1.000000</td>\n",
       "    </tr>\n",
       "  </tbody>\n",
       "</table>\n",
       "</div>"
      ],
      "text/plain": [
       "               na_sales  eu_sales  jp_sales  other_sales  critic_score  \\\n",
       "na_sales       1.000000  0.867620  0.519002     0.967008      0.376460   \n",
       "eu_sales       0.867620  1.000000  0.499493     0.953341      0.384812   \n",
       "jp_sales       0.519002  0.499493  1.000000     0.537956      0.284054   \n",
       "other_sales    0.967008  0.953341  0.537956     1.000000      0.401606   \n",
       "critic_score   0.376460  0.384812  0.284054     0.401606      1.000000   \n",
       "user_score     0.121113  0.130730  0.186742     0.140609      0.622209   \n",
       "year           0.039782  0.112467 -0.078595     0.051197     -0.004043   \n",
       "reg_sum_sales  0.986086  0.937771  0.540111     0.992837      0.392666   \n",
       "\n",
       "               user_score      year  reg_sum_sales  \n",
       "na_sales         0.121113  0.039782       0.986086  \n",
       "eu_sales         0.130730  0.112467       0.937771  \n",
       "jp_sales         0.186742 -0.078595       0.540111  \n",
       "other_sales      0.140609  0.051197       0.992837  \n",
       "critic_score     0.622209 -0.004043       0.392666  \n",
       "user_score       1.000000 -0.132462       0.130761  \n",
       "year            -0.132462  1.000000       0.061381  \n",
       "reg_sum_sales    0.130761  0.061381       1.000000  "
      ]
     },
     "metadata": {},
     "output_type": "display_data"
    },
    {
     "data": {
      "image/png": "[encoded data removed]",
      "text/plain": [
       "<Figure size 864x504 with 1 Axes>"
      ]
     },
     "metadata": {
      "needs_background": "light"
     },
     "output_type": "display_data"
    },
    {
     "data": {
      "image/png": "[encoded data removed]",
      "text/plain": [
       "<Figure size 864x504 with 1 Axes>"
      ]
     },
     "metadata": {
      "needs_background": "light"
     },
     "output_type": "display_data"
    },
    {
     "name": "stdout",
     "output_type": "stream",
     "text": [
      "-------------------------------------- XOne ----------------------------------------\n"
     ]
    },
    {
     "data": {
      "text/html": [
       "<div>\n",
       "<style scoped>\n",
       "    .dataframe tbody tr th:only-of-type {\n",
       "        vertical-align: middle;\n",
       "    }\n",
       "\n",
       "    .dataframe tbody tr th {\n",
       "        vertical-align: top;\n",
       "    }\n",
       "\n",
       "    .dataframe thead th {\n",
       "        text-align: right;\n",
       "    }\n",
       "</style>\n",
       "<table border=\"1\" class=\"dataframe\">\n",
       "  <thead>\n",
       "    <tr style=\"text-align: right;\">\n",
       "      <th></th>\n",
       "      <th>na_sales</th>\n",
       "      <th>eu_sales</th>\n",
       "      <th>jp_sales</th>\n",
       "      <th>other_sales</th>\n",
       "      <th>critic_score</th>\n",
       "      <th>user_score</th>\n",
       "      <th>year</th>\n",
       "      <th>reg_sum_sales</th>\n",
       "    </tr>\n",
       "  </thead>\n",
       "  <tbody>\n",
       "    <tr>\n",
       "      <td>na_sales</td>\n",
       "      <td>1.000000</td>\n",
       "      <td>0.685841</td>\n",
       "      <td>0.402215</td>\n",
       "      <td>0.982971</td>\n",
       "      <td>0.386956</td>\n",
       "      <td>-0.066208</td>\n",
       "      <td>-0.268936</td>\n",
       "      <td>0.957272</td>\n",
       "    </tr>\n",
       "    <tr>\n",
       "      <td>eu_sales</td>\n",
       "      <td>0.685841</td>\n",
       "      <td>1.000000</td>\n",
       "      <td>0.383238</td>\n",
       "      <td>0.805472</td>\n",
       "      <td>0.377801</td>\n",
       "      <td>-0.051809</td>\n",
       "      <td>-0.200231</td>\n",
       "      <td>0.866950</td>\n",
       "    </tr>\n",
       "    <tr>\n",
       "      <td>jp_sales</td>\n",
       "      <td>0.402215</td>\n",
       "      <td>0.383238</td>\n",
       "      <td>1.000000</td>\n",
       "      <td>0.420586</td>\n",
       "      <td>0.202132</td>\n",
       "      <td>0.079770</td>\n",
       "      <td>-0.147181</td>\n",
       "      <td>0.432208</td>\n",
       "    </tr>\n",
       "    <tr>\n",
       "      <td>other_sales</td>\n",
       "      <td>0.982971</td>\n",
       "      <td>0.805472</td>\n",
       "      <td>0.420586</td>\n",
       "      <td>1.000000</td>\n",
       "      <td>0.410168</td>\n",
       "      <td>-0.067036</td>\n",
       "      <td>-0.269640</td>\n",
       "      <td>0.993241</td>\n",
       "    </tr>\n",
       "    <tr>\n",
       "      <td>critic_score</td>\n",
       "      <td>0.386956</td>\n",
       "      <td>0.377801</td>\n",
       "      <td>0.202132</td>\n",
       "      <td>0.410168</td>\n",
       "      <td>1.000000</td>\n",
       "      <td>0.485181</td>\n",
       "      <td>0.064050</td>\n",
       "      <td>0.415392</td>\n",
       "    </tr>\n",
       "    <tr>\n",
       "      <td>user_score</td>\n",
       "      <td>-0.066208</td>\n",
       "      <td>-0.051809</td>\n",
       "      <td>0.079770</td>\n",
       "      <td>-0.067036</td>\n",
       "      <td>0.485181</td>\n",
       "      <td>1.000000</td>\n",
       "      <td>0.085229</td>\n",
       "      <td>-0.065343</td>\n",
       "    </tr>\n",
       "    <tr>\n",
       "      <td>year</td>\n",
       "      <td>-0.268936</td>\n",
       "      <td>-0.200231</td>\n",
       "      <td>-0.147181</td>\n",
       "      <td>-0.269640</td>\n",
       "      <td>0.064050</td>\n",
       "      <td>0.085229</td>\n",
       "      <td>1.000000</td>\n",
       "      <td>-0.264044</td>\n",
       "    </tr>\n",
       "    <tr>\n",
       "      <td>reg_sum_sales</td>\n",
       "      <td>0.957272</td>\n",
       "      <td>0.866950</td>\n",
       "      <td>0.432208</td>\n",
       "      <td>0.993241</td>\n",
       "      <td>0.415392</td>\n",
       "      <td>-0.065343</td>\n",
       "      <td>-0.264044</td>\n",
       "      <td>1.000000</td>\n",
       "    </tr>\n",
       "  </tbody>\n",
       "</table>\n",
       "</div>"
      ],
      "text/plain": [
       "               na_sales  eu_sales  jp_sales  other_sales  critic_score  \\\n",
       "na_sales       1.000000  0.685841  0.402215     0.982971      0.386956   \n",
       "eu_sales       0.685841  1.000000  0.383238     0.805472      0.377801   \n",
       "jp_sales       0.402215  0.383238  1.000000     0.420586      0.202132   \n",
       "other_sales    0.982971  0.805472  0.420586     1.000000      0.410168   \n",
       "critic_score   0.386956  0.377801  0.202132     0.410168      1.000000   \n",
       "user_score    -0.066208 -0.051809  0.079770    -0.067036      0.485181   \n",
       "year          -0.268936 -0.200231 -0.147181    -0.269640      0.064050   \n",
       "reg_sum_sales  0.957272  0.866950  0.432208     0.993241      0.415392   \n",
       "\n",
       "               user_score      year  reg_sum_sales  \n",
       "na_sales        -0.066208 -0.268936       0.957272  \n",
       "eu_sales        -0.051809 -0.200231       0.866950  \n",
       "jp_sales         0.079770 -0.147181       0.432208  \n",
       "other_sales     -0.067036 -0.269640       0.993241  \n",
       "critic_score     0.485181  0.064050       0.415392  \n",
       "user_score       1.000000  0.085229      -0.065343  \n",
       "year             0.085229  1.000000      -0.264044  \n",
       "reg_sum_sales   -0.065343 -0.264044       1.000000  "
      ]
     },
     "metadata": {},
     "output_type": "display_data"
    },
    {
     "data": {
      "image/png": "[encoded data removed]",
      "text/plain": [
       "<Figure size 864x504 with 1 Axes>"
      ]
     },
     "metadata": {
      "needs_background": "light"
     },
     "output_type": "display_data"
    },
    {
     "data": {
      "image/png": "[encoded data removed]",
      "text/plain": [
       "<Figure size 864x504 with 1 Axes>"
      ]
     },
     "metadata": {
      "needs_background": "light"
     },
     "output_type": "display_data"
    }
   ],
   "source": [
    "def platform(platform):\n",
    "    df_x = df[df['platform'] == platform]\n",
    "    df_x = df_x.query('user_score > 0')\n",
    "    df_x = df_x.query('critic_score > 0')\n",
    "    print('--------------------------------------', platform, '----------------------------------------')\n",
    "    display(df_x.corr())\n",
    "    #display(df_x.head())\n",
    "  \n",
    "    fig, ax = plt.subplots(figsize=(12, 7))\n",
    "    ax.scatter(x = df_x['critic_score'], y = df_x['reg_sum_sales'])\n",
    "    plt.xlabel('Критика')\n",
    "    plt.ylabel('Продажи')\n",
    "    plt.title('Продажи от критики критиков')\n",
    "    plt.show()\n",
    "\n",
    "    fig, ax = plt.subplots(figsize=(12, 7))\n",
    "    ax.scatter(x = df_x['user_score'], y = df_x['reg_sum_sales'])\n",
    "    plt.xlabel('Критика' )\n",
    "    plt.ylabel('Продажи')\n",
    "    plt.title('Продажи от критики пользователей')\n",
    "    plt.show()\n",
    "        \n",
    "for i in good_platform:\n",
    "    platform(i)     "
   ]
  },
  {
   "cell_type": "markdown",
   "metadata": {},
   "source": [
    "<div style=\"border:dashed red 2px; padding: 20px\" class=\"alert alert-info\">\n",
    "    <b>Вывод</b>\n",
    "    <p>По графикам и по подсчетом видно, что зависимость продаж от критики есть </p>\n",
    "    <p>однако можно сделать вывод, что зависимость от критики критиков больше чем от критики пользователей.</p>\n",
    "    <p>данные расмотрены за период 2012 - 2015 год</p>\n",
    "</div>"
   ]
  },
  {
   "cell_type": "code",
   "execution_count": 13,
   "metadata": {},
   "outputs": [
    {
     "data": {
      "image/png": "[encoded data removed]",
      "text/plain": [
       "<Figure size 720x360 with 1 Axes>"
      ]
     },
     "metadata": {
      "needs_background": "light"
     },
     "output_type": "display_data"
    }
   ],
   "source": [
    "# Анализ по жанрам\n",
    "gener_df = (game_box\n",
    "                     .pivot_table(index=['genre'], values='reg_sum_sales', aggfunc='sum')\n",
    "                     .reset_index()\n",
    "                    )\n",
    "gener_df = gener_df.sort_values(by='reg_sum_sales', ascending=False)\n",
    "\n",
    "gener_df.plot(kind='bar', x='genre', y='reg_sum_sales', title='Продажи в количественном и стоимостном выражении', \n",
    "             label='продажи', alpha=0.5, width=0.2, figsize=(10, 5))\n",
    "\n",
    "plt.show()"
   ]
  },
  {
   "cell_type": "markdown",
   "metadata": {},
   "source": [
    "<div style=\"border:solid green 2px; padding: 20px\" class=\"alert alert-info\">\n",
    "    <b> 4. Портрет пользователя по регионам</b>\n",
    "</div>"
   ]
  },
  {
   "cell_type": "code",
   "execution_count": 14,
   "metadata": {},
   "outputs": [],
   "source": [
    "# Самые популярные платформы\n",
    "def reg_top_platform(group, reg_sels, col):\n",
    "    pivot = game_box.groupby(group).agg({reg_sels:'sum'}).reset_index()\n",
    "    if group == 'genre':\n",
    "        pivot = pivot.sort_values(by=reg_sels, ascending=False).head(5) \n",
    "    piv = pivot[reg_sels]\n",
    "    label = pivot[group]\n",
    "    #print(pivot)\n",
    "    color = {'C0', 'C1', 'C2', 'C3', 'C4'}\n",
    "    sizes = piv \n",
    "    explode = [0.02, 0.02, 0.02, 0.02, 0.02]\n",
    "    ax[col].pie(piv, colors=color,\n",
    "                explode=explode, \n",
    "                autopct='%.1f%%', \n",
    "                shadow=True,\n",
    "                labels=label\n",
    "               )"
   ]
  },
  {
   "cell_type": "code",
   "execution_count": 15,
   "metadata": {},
   "outputs": [
    {
     "data": {
      "text/plain": [
       "<Figure size 432x288 with 0 Axes>"
      ]
     },
     "metadata": {},
     "output_type": "display_data"
    },
    {
     "data": {
      "image/png": "[encoded data removed]",
      "text/plain": [
       "<Figure size 1080x360 with 3 Axes>"
      ]
     },
     "metadata": {},
     "output_type": "display_data"
    }
   ],
   "source": [
    "fig = plt.figure()\n",
    "fig, ax = plt.subplots(1, 3, figsize=(15,5))\n",
    "\n",
    "reg_top_platform('platform', 'na_sales', 0)\n",
    "reg_top_platform('platform', 'eu_sales', 1)\n",
    "reg_top_platform('platform', 'jp_sales', 2)"
   ]
  },
  {
   "cell_type": "markdown",
   "metadata": {},
   "source": [
    "<div style=\"border:dashed red 2px; padding: 20px\" class=\"alert alert-info\">\n",
    "    <b>Вывод</b>\n",
    "    <p>Можно заметить, что от региона к региону количество продаж разное. </p>\n",
    "</div>"
   ]
  },
  {
   "cell_type": "code",
   "execution_count": 16,
   "metadata": {},
   "outputs": [
    {
     "data": {
      "text/plain": [
       "<Figure size 432x288 with 0 Axes>"
      ]
     },
     "metadata": {},
     "output_type": "display_data"
    },
    {
     "data": {
      "image/png": "[encoded data removed]",
      "text/plain": [
       "<Figure size 1080x360 with 3 Axes>"
      ]
     },
     "metadata": {},
     "output_type": "display_data"
    }
   ],
   "source": [
    "fig = plt.figure()\n",
    "fig, ax = plt.subplots(1, 3, figsize=(15,5))\n",
    "    \n",
    "reg_top_platform('genre', 'na_sales', 0)\n",
    "reg_top_platform('genre', 'eu_sales', 1)\n",
    "reg_top_platform('genre', 'jp_sales', 2)"
   ]
  },
  {
   "cell_type": "markdown",
   "metadata": {},
   "source": [
    "<div style=\"border:dashed red 2px; padding: 20px\" class=\"alert alert-info\">\n",
    "    <b>Вывод</b>\n",
    "    <p>\n",
    "        Action любят везде, а вот если пытаться продовать игры по другим жанрам надо уже подумать там \n",
    "        процентные соотношения разные.  \n",
    "    </p>\n",
    "</div>"
   ]
  },
  {
   "cell_type": "code",
   "execution_count": 17,
   "metadata": {},
   "outputs": [
    {
     "data": {
      "text/plain": [
       "<Figure size 432x288 with 0 Axes>"
      ]
     },
     "metadata": {},
     "output_type": "display_data"
    },
    {
     "data": {
      "image/png": "[encoded data removed]",
      "text/plain": [
       "<Figure size 1080x360 with 3 Axes>"
      ]
     },
     "metadata": {},
     "output_type": "display_data"
    }
   ],
   "source": [
    "# Влияние ESRB по регионам\n",
    "fig = plt.figure()\n",
    "fig, ax = plt.subplots(1, 3, figsize=(15,5))\n",
    "    \n",
    "reg_top_platform('rating', 'na_sales', 0)\n",
    "reg_top_platform('rating', 'eu_sales', 1)\n",
    "reg_top_platform('rating', 'jp_sales', 2)"
   ]
  },
  {
   "cell_type": "markdown",
   "metadata": {},
   "source": [
    "<div style=\"border:dashed red 2px; padding: 20px\" class=\"alert alert-info\">\n",
    "    <b>Вывод</b>\n",
    "    <p>\n",
    "      Из графика видно, что рейтинг оказывает влияние на продажи.  \n",
    "    </p>\n",
    "</div>"
   ]
  },
  {
   "cell_type": "markdown",
   "metadata": {},
   "source": [
    "<div style=\"border:solid green 2px; padding: 20px\" class=\"alert alert-info\">\n",
    "    <b> 5. Гипотезы</b>\n",
    "</div>"
   ]
  },
  {
   "cell_type": "code",
   "execution_count": 18,
   "metadata": {},
   "outputs": [
    {
     "name": "stdout",
     "output_type": "stream",
     "text": [
      "Дисперсия пользовательских оценок игр для жанра Action: 11.632636099324218\n",
      "\n",
      "count    505.000000\n",
      "mean       3.944752\n",
      "std        3.410665\n",
      "min        0.000000\n",
      "25%        0.000000\n",
      "50%        4.900000\n",
      "75%        7.200000\n",
      "max        9.000000\n",
      "Name: user_score, dtype: float64\n",
      "Дисперсия пользовательских оценок игр для жанра Sports: 6.627221362229101\n",
      "\n",
      "count    153.000000\n",
      "mean       4.337255\n",
      "std        2.574339\n",
      "min        0.000000\n",
      "25%        2.900000\n",
      "50%        5.100000\n",
      "75%        6.300000\n",
      "max        8.200000\n",
      "Name: user_score, dtype: float64\n",
      "\n",
      "Дисперсия пользовательских оценок игр для жанра PS4: 11.261846963175511\n",
      "\n",
      "count    205.000000\n",
      "mean       4.482439\n",
      "std        3.355868\n",
      "min        0.000000\n",
      "25%        0.000000\n",
      "50%        6.200000\n",
      "75%        7.400000\n",
      "max        8.600000\n",
      "Name: user_score, dtype: float64\n",
      "Дисперсия пользовательских оценок игр для жанра XOne: 9.390886087429712\n",
      "\n",
      "count    149.000000\n",
      "mean       4.753020\n",
      "std        3.064455\n",
      "min        0.000000\n",
      "25%        0.000000\n",
      "50%        6.000000\n",
      "75%        7.100000\n",
      "max        9.200000\n",
      "Name: user_score, dtype: float64\n",
      "\n"
     ]
    }
   ],
   "source": [
    "# Посмотрим дисперсии и среднии \n",
    "#display(df.head(25))\n",
    "action = game_box.loc[game_box['genre'] == 'Action', 'user_score']\n",
    "sport = game_box.loc[game_box['genre'] == 'Sports', 'user_score']\n",
    "\n",
    "#display(action)\n",
    "\n",
    "print('Дисперсия пользовательских оценок игр для жанра Action:',  action.var())\n",
    "print()\n",
    "print(action.describe())\n",
    "\n",
    "print('Дисперсия пользовательских оценок игр для жанра Sports:',  sport.var())\n",
    "print()\n",
    "print(sport.describe())\n",
    "print()\n",
    "\n",
    "ps_4 = game_box.loc[game_box['platform'] == 'PS4', 'user_score']\n",
    "x_one = game_box.loc[game_box['platform'] == 'XOne', 'user_score']\n",
    "\n",
    "print('Дисперсия пользовательских оценок игр для жанра PS4:',  ps_4.var())\n",
    "print()\n",
    "print(ps_4.describe())\n",
    "\n",
    "print('Дисперсия пользовательских оценок игр для жанра XOne:',  x_one.var())\n",
    "print()\n",
    "print(x_one.describe())\n",
    "print()\n"
   ]
  },
  {
   "cell_type": "markdown",
   "metadata": {},
   "source": [
    "<div class=\"alert alert-info\">\n",
    "    <b>Гипотезы! </b>\n",
    "    <p> Гипотеза для платформ:</p>\n",
    "    <p> H0: Средние пользовательские рейтинги платформ Xbox One и PC одинаковые </p>\n",
    "    <p> H1: Рейтинги платформ Xbox One и PC разные </p>\n",
    "    <p> Гипотеза для жанров:</p>\n",
    "    <p> H0: Средние пользовательские рейтинги жанров Action и Sports равны </p>\n",
    "    <p> H1: Средние пользовательские рейтинги жанров Action и Sports отличаются </p>\n",
    "</div>"
   ]
  },
  {
   "cell_type": "code",
   "execution_count": 19,
   "metadata": {},
   "outputs": [
    {
     "name": "stdout",
     "output_type": "stream",
     "text": [
      "p-значение: 0.4379295015745265\n",
      "Не получилось отвергнуть нулевую гипотезу\n",
      "-----------------------------------------------------------------------\n",
      "p-значение: 0.1892107663850394\n",
      "Не получилось отвергнуть нулевую гипотезу\n"
     ]
    }
   ],
   "source": [
    "# Гипотеза платформы\n",
    "\n",
    "alpha = .05 # критический уровень статистической значимости\n",
    "\n",
    "results = st.ttest_ind(ps_4, x_one)\n",
    "\n",
    "print('p-значение:', results.pvalue)\n",
    "\n",
    "if results.pvalue == alpha:\n",
    "    print(\"Отвергаем нулевую гипотезу\")\n",
    "else:\n",
    "    print(\"Не получилось отвергнуть нулевую гипотезу\") \n",
    "\n",
    "# Гипотиза жанры\n",
    "print('-----------------------------------------------------------------------')\n",
    "\n",
    "alpha = .05 # критический уровень статистической значимости\n",
    "\n",
    "results = st.ttest_ind(action, sport)\n",
    "\n",
    "print('p-значение:', results.pvalue)\n",
    "\n",
    "if results.pvalue == alpha:\n",
    "    print(\"Отвергаем нулевую гипотезу\")\n",
    "else:\n",
    "    print(\"Не получилось отвергнуть нулевую гипотезу\") \n",
    "# Описание в общих выводах    "
   ]
  },
  {
   "cell_type": "markdown",
   "metadata": {},
   "source": [
    "<div style=\"border:solid green 2px; padding: 20px\" class=\"alert alert-info\">\n",
    "    <b> 6. Общие выводы </b>\n",
    "</div>"
   ]
  },
  {
   "cell_type": "markdown",
   "metadata": {},
   "source": [
    "<div style=\"border:dashed red 2px; padding: 20px\" class=\"alert alert-info\">\n",
    "    <b></b>\n",
    "      <p><b></b></p>\n",
    "    <p>\n",
    "      Проведя исследования, можно рекомендавать выбрать одну из платформ  'PS4' или 'XOne', так как они появились на рынке           недавно  и показывают рост по ценам, но тут важно учитывать регион, где мы намеерены продовать, продажи зависят от               региона. Что касаестя жанров самый популярный Action и Sports, но есть различия. Action подойдет для всех регионов а вот       делая ставку на  Sports надо учесть регион.\n",
    "    </p>\n",
    "    <p>\n",
    "      Было сформулировано две гипотезы для платформ и жанров. Опровергнуть ни одну из них не удалось, значит можно сделоть           вывод, что средний пользовательский рейтинг платформ Xbox One и PC одинаковой, по жанрам анологичная ситуация Action и           Sports имеют одинаковый средний пользовательский рейтинг.  \n",
    "    </p>\n",
    "</div>"
   ]
  }
 ],
 "metadata": {
  "ExecuteTimeLog": [
   {
    "duration": 80,
    "start_time": "2022-01-15T08:42:36.426Z"
   },
   {
    "duration": 1420,
    "start_time": "2022-01-15T08:48:04.176Z"
   },
   {
    "duration": 50,
    "start_time": "2022-01-15T08:49:02.557Z"
   },
   {
    "duration": 76,
    "start_time": "2022-01-15T08:49:30.882Z"
   },
   {
    "duration": 3,
    "start_time": "2022-01-15T08:50:10.530Z"
   },
   {
    "duration": 77,
    "start_time": "2022-01-15T08:50:11.137Z"
   },
   {
    "duration": 5,
    "start_time": "2022-01-15T08:50:28.168Z"
   },
   {
    "duration": 73,
    "start_time": "2022-01-15T08:50:28.448Z"
   },
   {
    "duration": 4,
    "start_time": "2022-01-15T08:54:07.798Z"
   },
   {
    "duration": 70,
    "start_time": "2022-01-15T08:54:08.391Z"
   },
   {
    "duration": 6,
    "start_time": "2022-01-15T09:09:11.645Z"
   },
   {
    "duration": 6,
    "start_time": "2022-01-15T09:10:08.744Z"
   },
   {
    "duration": 389,
    "start_time": "2022-01-15T09:11:58.933Z"
   },
   {
    "duration": 284,
    "start_time": "2022-01-15T09:13:59.434Z"
   },
   {
    "duration": 259,
    "start_time": "2022-01-15T09:14:14.946Z"
   },
   {
    "duration": 6,
    "start_time": "2022-01-15T09:14:36.792Z"
   },
   {
    "duration": 7,
    "start_time": "2022-01-15T09:15:07.960Z"
   },
   {
    "duration": 5,
    "start_time": "2022-01-15T09:15:41.122Z"
   },
   {
    "duration": 6,
    "start_time": "2022-01-15T09:15:51.376Z"
   },
   {
    "duration": 250,
    "start_time": "2022-01-15T09:18:50.750Z"
   },
   {
    "duration": 316,
    "start_time": "2022-01-15T09:19:51.445Z"
   },
   {
    "duration": 6,
    "start_time": "2022-01-15T09:48:41.210Z"
   },
   {
    "duration": 7,
    "start_time": "2022-01-15T09:53:13.161Z"
   },
   {
    "duration": 271,
    "start_time": "2022-01-15T09:55:17.783Z"
   },
   {
    "duration": 259,
    "start_time": "2022-01-15T09:55:43.342Z"
   },
   {
    "duration": 311,
    "start_time": "2022-01-15T09:56:43.190Z"
   },
   {
    "duration": 5,
    "start_time": "2022-01-15T09:57:21.317Z"
   },
   {
    "duration": 5,
    "start_time": "2022-01-15T09:57:31.406Z"
   },
   {
    "duration": 7,
    "start_time": "2022-01-15T09:57:52.061Z"
   },
   {
    "duration": 279,
    "start_time": "2022-01-15T10:02:15.582Z"
   },
   {
    "duration": 288,
    "start_time": "2022-01-15T10:04:53.738Z"
   },
   {
    "duration": 273,
    "start_time": "2022-01-15T10:05:16.761Z"
   },
   {
    "duration": 256,
    "start_time": "2022-01-15T10:06:26.288Z"
   },
   {
    "duration": 109,
    "start_time": "2022-01-15T10:06:53.760Z"
   },
   {
    "duration": 250,
    "start_time": "2022-01-15T10:06:58.960Z"
   },
   {
    "duration": 244,
    "start_time": "2022-01-15T10:07:57.415Z"
   },
   {
    "duration": 394,
    "start_time": "2022-01-15T10:10:03.844Z"
   },
   {
    "duration": 260,
    "start_time": "2022-01-15T10:10:09.325Z"
   },
   {
    "duration": 267,
    "start_time": "2022-01-15T10:16:31.234Z"
   },
   {
    "duration": 294,
    "start_time": "2022-01-15T10:20:07.336Z"
   },
   {
    "duration": 305,
    "start_time": "2022-01-15T10:20:19.959Z"
   },
   {
    "duration": 251,
    "start_time": "2022-01-15T10:22:02.646Z"
   },
   {
    "duration": 286,
    "start_time": "2022-01-15T10:22:30.653Z"
   },
   {
    "duration": 250,
    "start_time": "2022-01-15T10:22:51.685Z"
   },
   {
    "duration": 295,
    "start_time": "2022-01-15T10:22:56.644Z"
   },
   {
    "duration": 1434,
    "start_time": "2022-01-15T10:23:14.899Z"
   },
   {
    "duration": 74,
    "start_time": "2022-01-15T10:23:16.336Z"
   },
   {
    "duration": 6,
    "start_time": "2022-01-15T10:23:16.539Z"
   },
   {
    "duration": 7,
    "start_time": "2022-01-15T10:23:37.816Z"
   },
   {
    "duration": 44,
    "start_time": "2022-01-15T10:23:44.184Z"
   },
   {
    "duration": 4,
    "start_time": "2022-01-15T10:24:13.837Z"
   },
   {
    "duration": 18,
    "start_time": "2022-01-15T10:25:24.671Z"
   },
   {
    "duration": 21,
    "start_time": "2022-01-15T10:30:40.588Z"
   },
   {
    "duration": 21,
    "start_time": "2022-01-15T10:48:06.280Z"
   },
   {
    "duration": 50,
    "start_time": "2022-01-15T10:48:19.605Z"
   },
   {
    "duration": 108,
    "start_time": "2022-01-15T10:49:38.470Z"
   },
   {
    "duration": 38,
    "start_time": "2022-01-15T10:49:51.336Z"
   },
   {
    "duration": 38,
    "start_time": "2022-01-15T10:57:41.609Z"
   },
   {
    "duration": 1506,
    "start_time": "2022-01-15T10:57:53.291Z"
   },
   {
    "duration": 83,
    "start_time": "2022-01-15T10:57:54.800Z"
   },
   {
    "duration": 18,
    "start_time": "2022-01-15T10:57:55.136Z"
   },
   {
    "duration": 25,
    "start_time": "2022-01-15T10:57:56.337Z"
   },
   {
    "duration": 43,
    "start_time": "2022-01-15T10:57:57.344Z"
   },
   {
    "duration": 45,
    "start_time": "2022-01-15T11:00:11.221Z"
   },
   {
    "duration": 43,
    "start_time": "2022-01-15T11:00:24.191Z"
   },
   {
    "duration": 1601,
    "start_time": "2022-01-15T11:00:44.277Z"
   },
   {
    "duration": 79,
    "start_time": "2022-01-15T11:00:45.881Z"
   },
   {
    "duration": 18,
    "start_time": "2022-01-15T11:00:45.963Z"
   },
   {
    "duration": 22,
    "start_time": "2022-01-15T11:00:46.748Z"
   },
   {
    "duration": 44,
    "start_time": "2022-01-15T11:00:47.659Z"
   },
   {
    "duration": 49,
    "start_time": "2022-01-15T11:01:20.994Z"
   },
   {
    "duration": 538,
    "start_time": "2022-01-15T11:01:37.033Z"
   },
   {
    "duration": 3245,
    "start_time": "2022-01-15T11:01:45.760Z"
   },
   {
    "duration": 3259,
    "start_time": "2022-01-15T11:02:08.348Z"
   },
   {
    "duration": 3353,
    "start_time": "2022-01-15T11:02:11.784Z"
   },
   {
    "duration": 3336,
    "start_time": "2022-01-15T11:02:45.409Z"
   },
   {
    "duration": 3605,
    "start_time": "2022-01-15T11:03:15.353Z"
   },
   {
    "duration": 1438,
    "start_time": "2022-01-15T11:03:46.658Z"
   },
   {
    "duration": 75,
    "start_time": "2022-01-15T11:03:48.099Z"
   },
   {
    "duration": 18,
    "start_time": "2022-01-15T11:03:48.753Z"
   },
   {
    "duration": 26,
    "start_time": "2022-01-15T11:03:49.455Z"
   },
   {
    "duration": 43,
    "start_time": "2022-01-15T11:03:50.893Z"
   },
   {
    "duration": 45,
    "start_time": "2022-01-15T11:03:59.097Z"
   },
   {
    "duration": 551,
    "start_time": "2022-01-15T11:04:34.409Z"
   },
   {
    "duration": 41,
    "start_time": "2022-01-15T11:04:47.559Z"
   },
   {
    "duration": 44,
    "start_time": "2022-01-15T11:05:10.064Z"
   },
   {
    "duration": 51,
    "start_time": "2022-01-15T11:05:58.375Z"
   },
   {
    "duration": 454,
    "start_time": "2022-01-15T11:10:37.709Z"
   },
   {
    "duration": 299,
    "start_time": "2022-01-15T11:11:14.020Z"
   },
   {
    "duration": 324,
    "start_time": "2022-01-15T11:11:34.597Z"
   },
   {
    "duration": 1536,
    "start_time": "2022-01-15T11:11:49.581Z"
   },
   {
    "duration": 81,
    "start_time": "2022-01-15T11:11:51.120Z"
   },
   {
    "duration": 28,
    "start_time": "2022-01-15T11:11:51.204Z"
   },
   {
    "duration": 32,
    "start_time": "2022-01-15T11:11:51.235Z"
   },
   {
    "duration": 407,
    "start_time": "2022-01-15T11:11:51.524Z"
   },
   {
    "duration": 39,
    "start_time": "2022-01-15T11:11:58.173Z"
   },
   {
    "duration": 289,
    "start_time": "2022-01-15T11:12:48.514Z"
   },
   {
    "duration": 266,
    "start_time": "2022-01-15T11:13:05.523Z"
   },
   {
    "duration": 38,
    "start_time": "2022-01-15T11:13:48.030Z"
   },
   {
    "duration": 44,
    "start_time": "2022-01-15T11:14:15.474Z"
   },
   {
    "duration": 1813,
    "start_time": "2022-01-15T11:14:52.139Z"
   },
   {
    "duration": 2356,
    "start_time": "2022-01-15T11:14:59.090Z"
   },
   {
    "duration": 1608,
    "start_time": "2022-01-15T11:15:18.590Z"
   },
   {
    "duration": 74,
    "start_time": "2022-01-15T11:15:20.200Z"
   },
   {
    "duration": 42,
    "start_time": "2022-01-15T11:15:20.277Z"
   },
   {
    "duration": 22,
    "start_time": "2022-01-15T11:15:20.538Z"
   },
   {
    "duration": 1960,
    "start_time": "2022-01-15T11:15:21.193Z"
   },
   {
    "duration": 1798,
    "start_time": "2022-01-15T11:15:32.641Z"
   },
   {
    "duration": 1866,
    "start_time": "2022-01-15T11:15:54.929Z"
   },
   {
    "duration": 1742,
    "start_time": "2022-01-15T11:15:59.857Z"
   },
   {
    "duration": 1851,
    "start_time": "2022-01-15T11:16:10.763Z"
   },
   {
    "duration": 2064,
    "start_time": "2022-01-15T11:17:24.849Z"
   },
   {
    "duration": 41,
    "start_time": "2022-01-15T11:18:37.047Z"
   },
   {
    "duration": 36,
    "start_time": "2022-01-15T11:21:36.350Z"
   },
   {
    "duration": 43,
    "start_time": "2022-01-15T11:21:50.480Z"
   },
   {
    "duration": 92,
    "start_time": "2022-01-15T11:22:12.309Z"
   },
   {
    "duration": 37,
    "start_time": "2022-01-15T11:22:24.142Z"
   },
   {
    "duration": 38,
    "start_time": "2022-01-15T11:22:28.045Z"
   },
   {
    "duration": 1514,
    "start_time": "2022-01-15T11:22:38.903Z"
   },
   {
    "duration": 74,
    "start_time": "2022-01-15T11:22:40.420Z"
   },
   {
    "duration": 22,
    "start_time": "2022-01-15T11:22:40.497Z"
   },
   {
    "duration": 22,
    "start_time": "2022-01-15T11:22:41.172Z"
   },
   {
    "duration": 43,
    "start_time": "2022-01-15T11:22:41.702Z"
   },
   {
    "duration": 92,
    "start_time": "2022-01-15T11:23:31.291Z"
   },
   {
    "duration": 23,
    "start_time": "2022-01-15T11:23:56.550Z"
   },
   {
    "duration": 87,
    "start_time": "2022-01-15T11:23:59.524Z"
   },
   {
    "duration": 1486,
    "start_time": "2022-01-15T11:24:12.701Z"
   },
   {
    "duration": 71,
    "start_time": "2022-01-15T11:24:14.190Z"
   },
   {
    "duration": 18,
    "start_time": "2022-01-15T11:24:17.353Z"
   },
   {
    "duration": 22,
    "start_time": "2022-01-15T11:24:18.864Z"
   },
   {
    "duration": 86,
    "start_time": "2022-01-15T11:24:22.872Z"
   },
   {
    "duration": 387,
    "start_time": "2022-01-15T11:24:28.913Z"
   },
   {
    "duration": 81,
    "start_time": "2022-01-15T11:24:40.593Z"
   },
   {
    "duration": 1987,
    "start_time": "2022-01-15T11:25:34.696Z"
   },
   {
    "duration": 41,
    "start_time": "2022-01-15T11:25:57.674Z"
   },
   {
    "duration": 47,
    "start_time": "2022-01-15T11:27:29.473Z"
   },
   {
    "duration": 267,
    "start_time": "2022-01-15T11:28:13.759Z"
   },
   {
    "duration": 41,
    "start_time": "2022-01-15T11:29:01.646Z"
   },
   {
    "duration": 53,
    "start_time": "2022-01-15T11:33:56.396Z"
   },
   {
    "duration": 64,
    "start_time": "2022-01-15T11:34:05.907Z"
   },
   {
    "duration": 64,
    "start_time": "2022-01-15T11:34:22.339Z"
   },
   {
    "duration": 61,
    "start_time": "2022-01-15T11:36:21.210Z"
   },
   {
    "duration": 1735,
    "start_time": "2022-01-15T11:36:59.249Z"
   },
   {
    "duration": 89,
    "start_time": "2022-01-15T11:37:00.987Z"
   },
   {
    "duration": 19,
    "start_time": "2022-01-15T11:37:01.644Z"
   },
   {
    "duration": 33,
    "start_time": "2022-01-15T11:37:02.332Z"
   },
   {
    "duration": 1998,
    "start_time": "2022-01-15T11:37:03.214Z"
   },
   {
    "duration": 56,
    "start_time": "2022-01-15T11:37:17.461Z"
   },
   {
    "duration": 59,
    "start_time": "2022-01-15T11:37:26.089Z"
   },
   {
    "duration": 102,
    "start_time": "2022-01-15T11:38:02.317Z"
   },
   {
    "duration": 116,
    "start_time": "2022-01-15T11:38:41.405Z"
   },
   {
    "duration": 50,
    "start_time": "2022-01-15T11:47:08.015Z"
   },
   {
    "duration": 287,
    "start_time": "2022-01-15T11:48:12.256Z"
   },
   {
    "duration": 277,
    "start_time": "2022-01-15T11:48:57.344Z"
   },
   {
    "duration": 288,
    "start_time": "2022-01-15T11:49:27.256Z"
   },
   {
    "duration": 55,
    "start_time": "2022-01-15T11:50:46.828Z"
   },
   {
    "duration": 81,
    "start_time": "2022-01-15T11:51:14.431Z"
   },
   {
    "duration": 55,
    "start_time": "2022-01-15T11:54:21.768Z"
   },
   {
    "duration": 60,
    "start_time": "2022-01-15T11:54:49.443Z"
   },
   {
    "duration": 56,
    "start_time": "2022-01-15T11:55:27.165Z"
   },
   {
    "duration": 52,
    "start_time": "2022-01-15T11:56:53.242Z"
   },
   {
    "duration": 58,
    "start_time": "2022-01-15T11:57:02.522Z"
   },
   {
    "duration": 302,
    "start_time": "2022-01-15T12:00:21.968Z"
   },
   {
    "duration": 83,
    "start_time": "2022-01-15T12:00:33.360Z"
   },
   {
    "duration": 90,
    "start_time": "2022-01-15T12:14:40.749Z"
   },
   {
    "duration": 1420,
    "start_time": "2022-01-15T12:16:38.771Z"
   },
   {
    "duration": 79,
    "start_time": "2022-01-15T12:16:40.193Z"
   },
   {
    "duration": 25,
    "start_time": "2022-01-15T12:16:41.095Z"
   },
   {
    "duration": 36,
    "start_time": "2022-01-15T12:16:42.031Z"
   },
   {
    "duration": 98,
    "start_time": "2022-01-15T12:16:42.751Z"
   },
   {
    "duration": 91,
    "start_time": "2022-01-15T12:21:55.754Z"
   },
   {
    "duration": 74,
    "start_time": "2022-01-15T12:22:41.014Z"
   },
   {
    "duration": 75,
    "start_time": "2022-01-15T12:23:05.730Z"
   },
   {
    "duration": 447,
    "start_time": "2022-01-15T12:24:15.444Z"
   },
   {
    "duration": 2699,
    "start_time": "2022-01-15T12:25:17.396Z"
   },
   {
    "duration": 1083,
    "start_time": "2022-01-15T12:26:38.659Z"
   },
   {
    "duration": 1175,
    "start_time": "2022-01-15T12:26:58.364Z"
   },
   {
    "duration": 1314,
    "start_time": "2022-01-15T12:27:28.410Z"
   },
   {
    "duration": 1053,
    "start_time": "2022-01-15T12:28:01.923Z"
   },
   {
    "duration": 1078,
    "start_time": "2022-01-15T12:28:40.037Z"
   },
   {
    "duration": 103,
    "start_time": "2022-01-15T12:31:54.178Z"
   },
   {
    "duration": 109,
    "start_time": "2022-01-15T12:32:27.247Z"
   },
   {
    "duration": 1055,
    "start_time": "2022-01-15T12:32:53.921Z"
   },
   {
    "duration": 1059,
    "start_time": "2022-01-15T12:32:59.359Z"
   },
   {
    "duration": 291,
    "start_time": "2022-01-15T12:35:16.836Z"
   },
   {
    "duration": 79,
    "start_time": "2022-01-15T12:35:32.133Z"
   },
   {
    "duration": 74,
    "start_time": "2022-01-15T12:35:48.634Z"
   },
   {
    "duration": 71,
    "start_time": "2022-01-15T12:37:27.764Z"
   },
   {
    "duration": 72,
    "start_time": "2022-01-15T12:42:28.930Z"
   },
   {
    "duration": 76,
    "start_time": "2022-01-15T12:43:57.593Z"
   },
   {
    "duration": 1484,
    "start_time": "2022-01-15T12:44:29.013Z"
   },
   {
    "duration": 75,
    "start_time": "2022-01-15T12:44:30.499Z"
   },
   {
    "duration": 19,
    "start_time": "2022-01-15T12:44:31.281Z"
   },
   {
    "duration": 24,
    "start_time": "2022-01-15T12:44:32.068Z"
   },
   {
    "duration": 83,
    "start_time": "2022-01-15T12:44:32.766Z"
   },
   {
    "duration": 89,
    "start_time": "2022-01-15T12:44:54.706Z"
   },
   {
    "duration": 71,
    "start_time": "2022-01-15T12:45:34.080Z"
   },
   {
    "duration": 72,
    "start_time": "2022-01-15T12:45:49.656Z"
   },
   {
    "duration": 1447,
    "start_time": "2022-01-15T12:46:27.351Z"
   },
   {
    "duration": 77,
    "start_time": "2022-01-15T12:46:28.800Z"
   },
   {
    "duration": 38,
    "start_time": "2022-01-15T12:46:28.879Z"
   },
   {
    "duration": 26,
    "start_time": "2022-01-15T12:46:29.307Z"
   },
   {
    "duration": 86,
    "start_time": "2022-01-15T12:46:29.847Z"
   },
   {
    "duration": 406,
    "start_time": "2022-01-15T12:48:01.837Z"
   },
   {
    "duration": 1431,
    "start_time": "2022-01-15T12:48:27.148Z"
   },
   {
    "duration": 81,
    "start_time": "2022-01-15T12:48:28.582Z"
   },
   {
    "duration": 18,
    "start_time": "2022-01-15T12:48:30.279Z"
   },
   {
    "duration": 26,
    "start_time": "2022-01-15T12:48:32.412Z"
   },
   {
    "duration": 458,
    "start_time": "2022-01-15T12:48:33.116Z"
   },
   {
    "duration": 86,
    "start_time": "2022-01-15T12:48:49.617Z"
   },
   {
    "duration": 90,
    "start_time": "2022-01-15T12:50:01.788Z"
   },
   {
    "duration": 88,
    "start_time": "2022-01-15T12:50:46.502Z"
   },
   {
    "duration": 70,
    "start_time": "2022-01-15T12:51:15.147Z"
   },
   {
    "duration": 1460,
    "start_time": "2022-01-15T12:51:53.140Z"
   },
   {
    "duration": 101,
    "start_time": "2022-01-15T12:51:54.603Z"
   },
   {
    "duration": 19,
    "start_time": "2022-01-15T12:51:56.609Z"
   },
   {
    "duration": 26,
    "start_time": "2022-01-15T12:51:59.641Z"
   },
   {
    "duration": 92,
    "start_time": "2022-01-15T12:52:01.366Z"
   },
   {
    "duration": 76,
    "start_time": "2022-01-15T12:53:14.355Z"
   },
   {
    "duration": 1498,
    "start_time": "2022-01-15T12:53:25.439Z"
   },
   {
    "duration": 73,
    "start_time": "2022-01-15T12:53:26.940Z"
   },
   {
    "duration": 18,
    "start_time": "2022-01-15T12:53:27.018Z"
   },
   {
    "duration": 22,
    "start_time": "2022-01-15T12:53:27.716Z"
   },
   {
    "duration": 84,
    "start_time": "2022-01-15T12:53:28.865Z"
   },
   {
    "duration": 77,
    "start_time": "2022-01-15T13:01:12.146Z"
   },
   {
    "duration": 80,
    "start_time": "2022-01-15T13:02:06.621Z"
   },
   {
    "duration": 2197,
    "start_time": "2022-01-15T13:02:23.685Z"
   },
   {
    "duration": 73,
    "start_time": "2022-01-15T13:02:25.884Z"
   },
   {
    "duration": 19,
    "start_time": "2022-01-15T13:02:25.960Z"
   },
   {
    "duration": 22,
    "start_time": "2022-01-15T13:02:26.156Z"
   },
   {
    "duration": 417,
    "start_time": "2022-01-15T13:02:26.798Z"
   },
   {
    "duration": 83,
    "start_time": "2022-01-15T13:04:41.079Z"
   },
   {
    "duration": 249,
    "start_time": "2022-01-15T13:05:29.582Z"
   },
   {
    "duration": 173,
    "start_time": "2022-01-15T13:07:49.941Z"
   },
   {
    "duration": 185,
    "start_time": "2022-01-15T13:08:40.267Z"
   },
   {
    "duration": 191,
    "start_time": "2022-01-15T13:09:38.779Z"
   },
   {
    "duration": 1487,
    "start_time": "2022-01-15T13:09:54.836Z"
   },
   {
    "duration": 74,
    "start_time": "2022-01-15T13:09:56.325Z"
   },
   {
    "duration": 19,
    "start_time": "2022-01-15T13:09:57.580Z"
   },
   {
    "duration": 22,
    "start_time": "2022-01-15T13:09:58.622Z"
   },
   {
    "duration": 106,
    "start_time": "2022-01-15T13:10:00.288Z"
   },
   {
    "duration": 288,
    "start_time": "2022-01-15T13:10:27.901Z"
   },
   {
    "duration": 194,
    "start_time": "2022-01-15T13:10:36.348Z"
   },
   {
    "duration": 178,
    "start_time": "2022-01-15T13:10:57.093Z"
   },
   {
    "duration": 507,
    "start_time": "2022-01-15T13:12:43.052Z"
   },
   {
    "duration": 314,
    "start_time": "2022-01-15T13:13:00.904Z"
   },
   {
    "duration": 39,
    "start_time": "2022-01-15T13:14:04.675Z"
   },
   {
    "duration": 1536,
    "start_time": "2022-01-15T13:14:24.595Z"
   },
   {
    "duration": 74,
    "start_time": "2022-01-15T13:14:26.134Z"
   },
   {
    "duration": 19,
    "start_time": "2022-01-15T13:14:27.516Z"
   },
   {
    "duration": 23,
    "start_time": "2022-01-15T13:14:29.027Z"
   },
   {
    "duration": 95,
    "start_time": "2022-01-15T13:14:30.401Z"
   },
   {
    "duration": 1689,
    "start_time": "2022-01-15T13:15:09.758Z"
   },
   {
    "duration": 84,
    "start_time": "2022-01-15T13:15:11.450Z"
   },
   {
    "duration": 18,
    "start_time": "2022-01-15T13:15:12.342Z"
   },
   {
    "duration": 22,
    "start_time": "2022-01-15T13:15:13.172Z"
   },
   {
    "duration": 84,
    "start_time": "2022-01-15T13:15:13.988Z"
   },
   {
    "duration": 1530,
    "start_time": "2022-01-15T16:17:19.061Z"
   },
   {
    "duration": 77,
    "start_time": "2022-01-15T16:17:20.594Z"
   },
   {
    "duration": 19,
    "start_time": "2022-01-15T16:17:20.787Z"
   },
   {
    "duration": 23,
    "start_time": "2022-01-15T16:17:21.314Z"
   },
   {
    "duration": 83,
    "start_time": "2022-01-15T16:17:21.827Z"
   },
   {
    "duration": 23,
    "start_time": "2022-01-15T16:30:49.541Z"
   },
   {
    "duration": 23,
    "start_time": "2022-01-15T16:32:40.587Z"
   },
   {
    "duration": 22,
    "start_time": "2022-01-15T16:38:33.501Z"
   },
   {
    "duration": 22,
    "start_time": "2022-01-15T16:38:50.736Z"
   },
   {
    "duration": 408,
    "start_time": "2022-01-15T16:39:53.742Z"
   },
   {
    "duration": 275,
    "start_time": "2022-01-15T16:41:02.971Z"
   },
   {
    "duration": 253,
    "start_time": "2022-01-15T16:41:33.146Z"
   },
   {
    "duration": 22,
    "start_time": "2022-01-15T16:42:05.218Z"
   },
   {
    "duration": 112,
    "start_time": "2022-01-15T16:42:24.955Z"
   },
   {
    "duration": 20,
    "start_time": "2022-01-15T16:42:37.378Z"
   },
   {
    "duration": 21,
    "start_time": "2022-01-15T16:42:40.082Z"
   },
   {
    "duration": 20,
    "start_time": "2022-01-15T16:43:05.749Z"
   },
   {
    "duration": 30,
    "start_time": "2022-01-15T16:45:00.993Z"
   },
   {
    "duration": 30,
    "start_time": "2022-01-15T16:48:42.774Z"
   },
   {
    "duration": 29,
    "start_time": "2022-01-15T16:48:59.327Z"
   },
   {
    "duration": 29,
    "start_time": "2022-01-15T16:49:12.238Z"
   },
   {
    "duration": 26,
    "start_time": "2022-01-15T16:49:27.119Z"
   },
   {
    "duration": 301,
    "start_time": "2022-01-15T16:49:31.751Z"
   },
   {
    "duration": 30,
    "start_time": "2022-01-15T16:49:39.926Z"
   },
   {
    "duration": 840,
    "start_time": "2022-01-15T16:51:40.599Z"
   },
   {
    "duration": 341,
    "start_time": "2022-01-15T16:54:17.204Z"
   },
   {
    "duration": 378,
    "start_time": "2022-01-15T16:54:24.867Z"
   },
   {
    "duration": 21126,
    "start_time": "2022-01-15T16:54:47.446Z"
   },
   {
    "duration": 435,
    "start_time": "2022-01-15T16:56:27.244Z"
   },
   {
    "duration": 329,
    "start_time": "2022-01-15T17:01:58.832Z"
   },
   {
    "duration": 4091,
    "start_time": "2022-01-15T17:02:21.119Z"
   },
   {
    "duration": 4891,
    "start_time": "2022-01-15T17:04:14.053Z"
   },
   {
    "duration": 456,
    "start_time": "2022-01-15T17:05:59.140Z"
   },
   {
    "duration": 992,
    "start_time": "2022-01-15T17:06:38.284Z"
   },
   {
    "duration": 4162,
    "start_time": "2022-01-15T17:07:36.027Z"
   },
   {
    "duration": 272,
    "start_time": "2022-01-15T17:09:44.635Z"
   },
   {
    "duration": 4110,
    "start_time": "2022-01-15T17:10:01.482Z"
   },
   {
    "duration": 4329,
    "start_time": "2022-01-15T17:11:01.225Z"
   },
   {
    "duration": 4205,
    "start_time": "2022-01-15T17:11:14.297Z"
   },
   {
    "duration": 4096,
    "start_time": "2022-01-15T17:11:29.009Z"
   },
   {
    "duration": 3356,
    "start_time": "2022-01-15T17:15:50.066Z"
   },
   {
    "duration": 2566,
    "start_time": "2022-01-15T17:16:14.824Z"
   },
   {
    "duration": 1934,
    "start_time": "2022-01-15T17:16:35.029Z"
   },
   {
    "duration": 4219,
    "start_time": "2022-01-15T17:17:32.806Z"
   },
   {
    "duration": 654,
    "start_time": "2022-01-15T17:18:20.213Z"
   },
   {
    "duration": 301,
    "start_time": "2022-01-15T17:18:58.359Z"
   },
   {
    "duration": 717,
    "start_time": "2022-01-15T17:19:30.668Z"
   },
   {
    "duration": 4,
    "start_time": "2022-01-15T17:20:06.339Z"
   },
   {
    "duration": 73,
    "start_time": "2022-01-15T17:20:06.733Z"
   },
   {
    "duration": 21,
    "start_time": "2022-01-15T17:20:07.747Z"
   },
   {
    "duration": 24,
    "start_time": "2022-01-15T17:20:08.235Z"
   },
   {
    "duration": 79,
    "start_time": "2022-01-15T17:20:08.700Z"
   },
   {
    "duration": 22,
    "start_time": "2022-01-15T17:20:10.107Z"
   },
   {
    "duration": 673,
    "start_time": "2022-01-15T17:20:44.685Z"
   },
   {
    "duration": 868,
    "start_time": "2022-01-15T17:22:37.276Z"
   },
   {
    "duration": 717,
    "start_time": "2022-01-15T17:24:21.387Z"
   },
   {
    "duration": 724,
    "start_time": "2022-01-15T17:24:29.793Z"
   },
   {
    "duration": 1510,
    "start_time": "2022-01-15T17:24:43.311Z"
   },
   {
    "duration": 75,
    "start_time": "2022-01-15T17:24:44.824Z"
   },
   {
    "duration": 27,
    "start_time": "2022-01-15T17:24:44.902Z"
   },
   {
    "duration": 82,
    "start_time": "2022-01-15T17:24:44.931Z"
   },
   {
    "duration": 83,
    "start_time": "2022-01-15T17:24:45.016Z"
   },
   {
    "duration": 22,
    "start_time": "2022-01-15T17:24:45.684Z"
   },
   {
    "duration": 693,
    "start_time": "2022-01-15T17:24:46.060Z"
   },
   {
    "duration": 701,
    "start_time": "2022-01-15T17:24:57.452Z"
   },
   {
    "duration": 4249,
    "start_time": "2022-01-15T17:25:31.213Z"
   },
   {
    "duration": 4130,
    "start_time": "2022-01-15T17:27:03.644Z"
   },
   {
    "duration": 818,
    "start_time": "2022-01-15T17:28:12.675Z"
   },
   {
    "duration": 717,
    "start_time": "2022-01-15T17:28:31.100Z"
   },
   {
    "duration": 4596,
    "start_time": "2022-01-15T17:29:37.955Z"
   },
   {
    "duration": 5881,
    "start_time": "2022-01-15T17:30:00.411Z"
   },
   {
    "duration": 1486,
    "start_time": "2022-01-15T17:31:09.500Z"
   },
   {
    "duration": 78,
    "start_time": "2022-01-15T17:31:10.989Z"
   },
   {
    "duration": 43,
    "start_time": "2022-01-15T17:31:11.074Z"
   },
   {
    "duration": 24,
    "start_time": "2022-01-15T17:31:11.119Z"
   },
   {
    "duration": 112,
    "start_time": "2022-01-15T17:31:11.145Z"
   },
   {
    "duration": 21,
    "start_time": "2022-01-15T17:31:11.259Z"
   },
   {
    "duration": 21719,
    "start_time": "2022-01-15T17:31:11.285Z"
   },
   {
    "duration": 7017,
    "start_time": "2022-01-15T17:31:54.704Z"
   },
   {
    "duration": 4464,
    "start_time": "2022-01-15T17:32:12.861Z"
   },
   {
    "duration": 395,
    "start_time": "2022-01-15T17:34:15.442Z"
   },
   {
    "duration": 5376,
    "start_time": "2022-01-15T17:34:29.291Z"
   },
   {
    "duration": 4257,
    "start_time": "2022-01-15T17:35:25.682Z"
   },
   {
    "duration": 4263,
    "start_time": "2022-01-15T17:40:34.191Z"
   },
   {
    "duration": 330,
    "start_time": "2022-01-15T17:56:37.239Z"
   },
   {
    "duration": 269,
    "start_time": "2022-01-15T17:59:10.804Z"
   },
   {
    "duration": 284,
    "start_time": "2022-01-15T17:59:28.060Z"
   },
   {
    "duration": 317,
    "start_time": "2022-01-15T17:59:55.006Z"
   },
   {
    "duration": 289,
    "start_time": "2022-01-15T18:00:08.268Z"
   },
   {
    "duration": 618,
    "start_time": "2022-01-15T18:06:50.696Z"
   },
   {
    "duration": 6336,
    "start_time": "2022-01-15T18:07:47.783Z"
   },
   {
    "duration": 703,
    "start_time": "2022-01-15T18:07:54.215Z"
   },
   {
    "duration": 603,
    "start_time": "2022-01-15T18:08:53.246Z"
   },
   {
    "duration": 1512,
    "start_time": "2022-01-15T18:09:07.078Z"
   },
   {
    "duration": 76,
    "start_time": "2022-01-15T18:09:08.593Z"
   },
   {
    "duration": 17,
    "start_time": "2022-01-15T18:09:08.672Z"
   },
   {
    "duration": 45,
    "start_time": "2022-01-15T18:09:08.691Z"
   },
   {
    "duration": 82,
    "start_time": "2022-01-15T18:09:09.071Z"
   },
   {
    "duration": 22,
    "start_time": "2022-01-15T18:09:10.244Z"
   },
   {
    "duration": 599,
    "start_time": "2022-01-15T18:09:10.860Z"
   },
   {
    "duration": 336,
    "start_time": "2022-01-15T18:09:34.717Z"
   },
   {
    "duration": 430,
    "start_time": "2022-01-15T18:10:51.069Z"
   },
   {
    "duration": 333,
    "start_time": "2022-01-15T18:12:55.739Z"
   },
   {
    "duration": 1443,
    "start_time": "2022-01-15T18:13:08.350Z"
   },
   {
    "duration": 76,
    "start_time": "2022-01-15T18:13:09.796Z"
   },
   {
    "duration": 18,
    "start_time": "2022-01-15T18:13:09.875Z"
   },
   {
    "duration": 37,
    "start_time": "2022-01-15T18:13:09.896Z"
   },
   {
    "duration": 89,
    "start_time": "2022-01-15T18:13:10.035Z"
   },
   {
    "duration": 24,
    "start_time": "2022-01-15T18:13:10.873Z"
   },
   {
    "duration": 435,
    "start_time": "2022-01-15T18:13:11.339Z"
   },
   {
    "duration": 311,
    "start_time": "2022-01-15T18:14:44.330Z"
   },
   {
    "duration": 294,
    "start_time": "2022-01-15T18:14:56.890Z"
   },
   {
    "duration": 327,
    "start_time": "2022-01-15T18:15:04.372Z"
   },
   {
    "duration": 1468,
    "start_time": "2022-01-15T18:15:08.628Z"
   },
   {
    "duration": 74,
    "start_time": "2022-01-15T18:15:10.099Z"
   },
   {
    "duration": 20,
    "start_time": "2022-01-15T18:15:10.442Z"
   },
   {
    "duration": 21,
    "start_time": "2022-01-15T18:15:10.807Z"
   },
   {
    "duration": 86,
    "start_time": "2022-01-15T18:15:12.025Z"
   },
   {
    "duration": 22,
    "start_time": "2022-01-15T18:15:15.063Z"
   },
   {
    "duration": 373,
    "start_time": "2022-01-15T18:15:15.744Z"
   },
   {
    "duration": 309,
    "start_time": "2022-01-15T18:16:09.040Z"
   },
   {
    "duration": 456,
    "start_time": "2022-01-15T18:16:46.015Z"
   },
   {
    "duration": 31,
    "start_time": "2022-01-15T18:21:07.754Z"
   },
   {
    "duration": 31,
    "start_time": "2022-01-15T18:21:32.465Z"
   },
   {
    "duration": 29,
    "start_time": "2022-01-15T18:22:08.396Z"
   },
   {
    "duration": 31,
    "start_time": "2022-01-15T18:22:41.764Z"
   },
   {
    "duration": 30,
    "start_time": "2022-01-15T18:22:49.532Z"
   },
   {
    "duration": 30,
    "start_time": "2022-01-15T18:23:02.936Z"
   },
   {
    "duration": 34,
    "start_time": "2022-01-15T18:23:29.635Z"
   },
   {
    "duration": 4732,
    "start_time": "2022-01-15T18:25:11.011Z"
   },
   {
    "duration": 4195,
    "start_time": "2022-01-15T18:28:15.804Z"
   },
   {
    "duration": 4369,
    "start_time": "2022-01-15T18:28:34.752Z"
   },
   {
    "duration": 4128,
    "start_time": "2022-01-15T18:29:08.496Z"
   },
   {
    "duration": 4530,
    "start_time": "2022-01-15T18:30:03.737Z"
   },
   {
    "duration": 5226,
    "start_time": "2022-01-15T18:30:24.122Z"
   },
   {
    "duration": 4882,
    "start_time": "2022-01-15T18:31:01.682Z"
   },
   {
    "duration": 4951,
    "start_time": "2022-01-15T18:32:12.231Z"
   },
   {
    "duration": 451,
    "start_time": "2022-01-15T18:32:34.976Z"
   },
   {
    "duration": 454,
    "start_time": "2022-01-15T18:34:04.048Z"
   },
   {
    "duration": 470,
    "start_time": "2022-01-15T18:34:59.294Z"
   },
   {
    "duration": 483,
    "start_time": "2022-01-15T18:40:33.834Z"
   },
   {
    "duration": 535,
    "start_time": "2022-01-15T18:41:19.844Z"
   },
   {
    "duration": 449,
    "start_time": "2022-01-15T18:42:28.673Z"
   },
   {
    "duration": 451,
    "start_time": "2022-01-15T18:42:47.873Z"
   },
   {
    "duration": 26,
    "start_time": "2022-01-15T18:43:50.074Z"
   },
   {
    "duration": 31,
    "start_time": "2022-01-15T18:46:25.855Z"
   },
   {
    "duration": 286,
    "start_time": "2022-01-15T18:48:02.661Z"
   },
   {
    "duration": 316,
    "start_time": "2022-01-15T18:48:29.477Z"
   },
   {
    "duration": 22,
    "start_time": "2022-01-15T18:49:05.484Z"
   },
   {
    "duration": 21,
    "start_time": "2022-01-15T18:49:21.556Z"
   },
   {
    "duration": 273,
    "start_time": "2022-01-15T18:55:29.055Z"
   },
   {
    "duration": 691,
    "start_time": "2022-01-15T18:56:12.767Z"
   },
   {
    "duration": 1168,
    "start_time": "2022-01-15T18:56:55.432Z"
   },
   {
    "duration": 971,
    "start_time": "2022-01-15T18:58:26.102Z"
   },
   {
    "duration": 1802,
    "start_time": "2022-01-15T19:02:55.396Z"
   },
   {
    "duration": 1297,
    "start_time": "2022-01-15T19:03:22.765Z"
   },
   {
    "duration": 968,
    "start_time": "2022-01-15T19:03:50.508Z"
   },
   {
    "duration": 7089,
    "start_time": "2022-01-15T19:05:41.907Z"
   },
   {
    "duration": 7915,
    "start_time": "2022-01-15T19:06:09.947Z"
   },
   {
    "duration": 845,
    "start_time": "2022-01-15T19:06:26.723Z"
   },
   {
    "duration": 88,
    "start_time": "2022-01-15T19:09:06.921Z"
   },
   {
    "duration": 1076,
    "start_time": "2022-01-15T19:09:19.912Z"
   },
   {
    "duration": 277,
    "start_time": "2022-01-15T19:12:18.614Z"
   },
   {
    "duration": 899,
    "start_time": "2022-01-15T19:14:30.725Z"
   },
   {
    "duration": 1088,
    "start_time": "2022-01-15T19:15:43.581Z"
   },
   {
    "duration": 278,
    "start_time": "2022-01-15T19:20:55.113Z"
   },
   {
    "duration": 260,
    "start_time": "2022-01-15T19:21:13.965Z"
   },
   {
    "duration": 297,
    "start_time": "2022-01-15T19:22:08.466Z"
   },
   {
    "duration": 296,
    "start_time": "2022-01-15T19:23:08.754Z"
   },
   {
    "duration": 1554,
    "start_time": "2022-01-15T19:23:20.337Z"
   },
   {
    "duration": 77,
    "start_time": "2022-01-15T19:23:21.893Z"
   },
   {
    "duration": 19,
    "start_time": "2022-01-15T19:23:21.972Z"
   },
   {
    "duration": 43,
    "start_time": "2022-01-15T19:23:21.993Z"
   },
   {
    "duration": 86,
    "start_time": "2022-01-15T19:23:22.291Z"
   },
   {
    "duration": 24,
    "start_time": "2022-01-15T19:23:23.769Z"
   },
   {
    "duration": 431,
    "start_time": "2022-01-15T19:23:24.581Z"
   },
   {
    "duration": 469,
    "start_time": "2022-01-15T19:23:33.795Z"
   },
   {
    "duration": 1211,
    "start_time": "2022-01-15T19:25:22.106Z"
   },
   {
    "duration": 973,
    "start_time": "2022-01-15T19:25:35.064Z"
   },
   {
    "duration": 668,
    "start_time": "2022-01-15T19:26:03.836Z"
   },
   {
    "duration": 959,
    "start_time": "2022-01-15T19:26:57.787Z"
   },
   {
    "duration": 929,
    "start_time": "2022-01-15T19:27:09.688Z"
   },
   {
    "duration": 279,
    "start_time": "2022-01-15T19:27:45.040Z"
   },
   {
    "duration": 271,
    "start_time": "2022-01-15T19:28:20.815Z"
   },
   {
    "duration": 850,
    "start_time": "2022-01-15T19:28:31.384Z"
   },
   {
    "duration": 274,
    "start_time": "2022-01-15T19:28:38.296Z"
   },
   {
    "duration": 283,
    "start_time": "2022-01-15T19:29:17.430Z"
   },
   {
    "duration": 340,
    "start_time": "2022-01-15T19:29:34.070Z"
   },
   {
    "duration": 270,
    "start_time": "2022-01-15T19:30:47.446Z"
   },
   {
    "duration": 89,
    "start_time": "2022-01-15T19:31:30.986Z"
   },
   {
    "duration": 329,
    "start_time": "2022-01-15T19:31:50.285Z"
   },
   {
    "duration": 106,
    "start_time": "2022-01-15T19:33:27.516Z"
   },
   {
    "duration": 84,
    "start_time": "2022-01-15T19:34:00.524Z"
   },
   {
    "duration": 86,
    "start_time": "2022-01-15T19:34:26.410Z"
   },
   {
    "duration": 831,
    "start_time": "2022-01-15T19:35:15.570Z"
   },
   {
    "duration": 295,
    "start_time": "2022-01-15T19:39:25.786Z"
   },
   {
    "duration": 839,
    "start_time": "2022-01-15T19:39:42.544Z"
   },
   {
    "duration": 266,
    "start_time": "2022-01-15T19:39:56.056Z"
   },
   {
    "duration": 1619,
    "start_time": "2022-01-15T19:45:12.347Z"
   },
   {
    "duration": 87,
    "start_time": "2022-01-15T19:45:42.798Z"
   },
   {
    "duration": 504,
    "start_time": "2022-01-15T19:45:55.544Z"
   },
   {
    "duration": 77,
    "start_time": "2022-01-15T19:47:29.764Z"
   },
   {
    "duration": 83,
    "start_time": "2022-01-15T19:47:43.204Z"
   },
   {
    "duration": 271,
    "start_time": "2022-01-15T19:48:17.292Z"
   },
   {
    "duration": 262,
    "start_time": "2022-01-15T19:48:25.314Z"
   },
   {
    "duration": 939,
    "start_time": "2022-01-15T19:48:38.210Z"
   },
   {
    "duration": 272,
    "start_time": "2022-01-15T19:49:10.450Z"
   },
   {
    "duration": 424,
    "start_time": "2022-01-15T19:49:36.442Z"
   },
   {
    "duration": 342,
    "start_time": "2022-01-15T19:51:38.417Z"
   },
   {
    "duration": 838,
    "start_time": "2022-01-15T19:51:42.845Z"
   },
   {
    "duration": 4,
    "start_time": "2022-01-15T19:52:44.414Z"
   },
   {
    "duration": 66,
    "start_time": "2022-01-15T19:52:45.182Z"
   },
   {
    "duration": 20,
    "start_time": "2022-01-15T19:52:46.429Z"
   },
   {
    "duration": 22,
    "start_time": "2022-01-15T19:52:47.089Z"
   },
   {
    "duration": 80,
    "start_time": "2022-01-15T19:52:47.921Z"
   },
   {
    "duration": 22,
    "start_time": "2022-01-15T19:52:49.479Z"
   },
   {
    "duration": 845,
    "start_time": "2022-01-15T19:52:50.527Z"
   },
   {
    "duration": 537,
    "start_time": "2022-01-15T19:53:35.719Z"
   },
   {
    "duration": 1519,
    "start_time": "2022-01-16T05:49:39.984Z"
   },
   {
    "duration": 76,
    "start_time": "2022-01-16T05:49:41.506Z"
   },
   {
    "duration": 18,
    "start_time": "2022-01-16T05:49:41.857Z"
   },
   {
    "duration": 22,
    "start_time": "2022-01-16T05:49:44.773Z"
   },
   {
    "duration": 81,
    "start_time": "2022-01-16T05:49:45.617Z"
   },
   {
    "duration": 75,
    "start_time": "2022-01-16T05:50:02.880Z"
   },
   {
    "duration": 21,
    "start_time": "2022-01-16T05:50:38.987Z"
   },
   {
    "duration": 464,
    "start_time": "2022-01-16T05:50:39.635Z"
   },
   {
    "duration": 950,
    "start_time": "2022-01-16T05:50:55.520Z"
   },
   {
    "duration": 1218,
    "start_time": "2022-01-16T05:51:50.165Z"
   },
   {
    "duration": 94,
    "start_time": "2022-01-16T05:55:27.323Z"
   },
   {
    "duration": 837,
    "start_time": "2022-01-16T05:55:49.579Z"
   },
   {
    "duration": 895,
    "start_time": "2022-01-16T05:56:02.370Z"
   },
   {
    "duration": 774,
    "start_time": "2022-01-16T05:57:39.905Z"
   },
   {
    "duration": 55,
    "start_time": "2022-01-16T06:12:05.068Z"
   },
   {
    "duration": 21,
    "start_time": "2022-01-16T06:12:18.767Z"
   },
   {
    "duration": 21,
    "start_time": "2022-01-16T06:13:44.375Z"
   },
   {
    "duration": 765,
    "start_time": "2022-01-16T06:13:46.104Z"
   },
   {
    "duration": 1438,
    "start_time": "2022-01-16T06:14:11.458Z"
   },
   {
    "duration": 77,
    "start_time": "2022-01-16T06:14:12.899Z"
   },
   {
    "duration": 19,
    "start_time": "2022-01-16T06:14:14.218Z"
   },
   {
    "duration": 24,
    "start_time": "2022-01-16T06:14:14.872Z"
   },
   {
    "duration": 80,
    "start_time": "2022-01-16T06:14:16.322Z"
   },
   {
    "duration": 21,
    "start_time": "2022-01-16T06:14:22.073Z"
   },
   {
    "duration": 765,
    "start_time": "2022-01-16T06:14:23.509Z"
   },
   {
    "duration": 8,
    "start_time": "2022-01-16T06:20:02.811Z"
   },
   {
    "duration": 35,
    "start_time": "2022-01-16T06:20:17.668Z"
   },
   {
    "duration": 8,
    "start_time": "2022-01-16T06:20:45.132Z"
   },
   {
    "duration": 8,
    "start_time": "2022-01-16T06:21:32.419Z"
   },
   {
    "duration": 493,
    "start_time": "2022-01-16T06:28:35.826Z"
   },
   {
    "duration": 1523,
    "start_time": "2022-01-16T06:29:21.677Z"
   },
   {
    "duration": 76,
    "start_time": "2022-01-16T06:29:23.203Z"
   },
   {
    "duration": 21,
    "start_time": "2022-01-16T06:29:23.282Z"
   },
   {
    "duration": 22,
    "start_time": "2022-01-16T06:29:23.523Z"
   },
   {
    "duration": 85,
    "start_time": "2022-01-16T06:29:24.436Z"
   },
   {
    "duration": 24,
    "start_time": "2022-01-16T06:29:26.093Z"
   },
   {
    "duration": 483,
    "start_time": "2022-01-16T06:29:27.068Z"
   },
   {
    "duration": 8,
    "start_time": "2022-01-16T06:29:31.026Z"
   },
   {
    "duration": 786,
    "start_time": "2022-01-16T06:29:56.804Z"
   },
   {
    "duration": 620,
    "start_time": "2022-01-16T06:30:39.228Z"
   },
   {
    "duration": 781,
    "start_time": "2022-01-16T06:31:01.879Z"
   },
   {
    "duration": 8,
    "start_time": "2022-01-16T06:31:21.601Z"
   },
   {
    "duration": 8,
    "start_time": "2022-01-16T06:36:17.031Z"
   },
   {
    "duration": 104,
    "start_time": "2022-01-16T06:37:07.850Z"
   },
   {
    "duration": 84,
    "start_time": "2022-01-16T06:37:21.365Z"
   },
   {
    "duration": 8,
    "start_time": "2022-01-16T06:37:26.334Z"
   },
   {
    "duration": 32,
    "start_time": "2022-01-16T06:49:13.116Z"
   },
   {
    "duration": 276,
    "start_time": "2022-01-16T06:52:03.228Z"
   },
   {
    "duration": 415,
    "start_time": "2022-01-16T06:52:45.587Z"
   },
   {
    "duration": 290,
    "start_time": "2022-01-16T06:54:46.795Z"
   },
   {
    "duration": 290,
    "start_time": "2022-01-16T06:55:44.850Z"
   },
   {
    "duration": 898,
    "start_time": "2022-01-16T06:56:02.418Z"
   },
   {
    "duration": 909,
    "start_time": "2022-01-16T06:57:14.922Z"
   },
   {
    "duration": 911,
    "start_time": "2022-01-16T06:57:55.920Z"
   },
   {
    "duration": 907,
    "start_time": "2022-01-16T06:58:58.744Z"
   },
   {
    "duration": 915,
    "start_time": "2022-01-16T07:00:09.487Z"
   },
   {
    "duration": 25,
    "start_time": "2022-01-16T07:00:58.094Z"
   },
   {
    "duration": 903,
    "start_time": "2022-01-16T07:01:03.358Z"
   },
   {
    "duration": 1417,
    "start_time": "2022-01-16T07:01:24.267Z"
   },
   {
    "duration": 74,
    "start_time": "2022-01-16T07:01:25.687Z"
   },
   {
    "duration": 19,
    "start_time": "2022-01-16T07:01:26.136Z"
   },
   {
    "duration": 22,
    "start_time": "2022-01-16T07:01:26.576Z"
   },
   {
    "duration": 80,
    "start_time": "2022-01-16T07:01:27.123Z"
   },
   {
    "duration": 20,
    "start_time": "2022-01-16T07:01:28.295Z"
   },
   {
    "duration": 962,
    "start_time": "2022-01-16T07:01:29.016Z"
   },
   {
    "duration": 42,
    "start_time": "2022-01-16T07:01:29.980Z"
   },
   {
    "duration": 926,
    "start_time": "2022-01-16T07:01:30.456Z"
   },
   {
    "duration": 913,
    "start_time": "2022-01-16T07:01:41.707Z"
   },
   {
    "duration": 753,
    "start_time": "2022-01-16T07:02:46.147Z"
   },
   {
    "duration": 1048,
    "start_time": "2022-01-16T07:03:14.184Z"
   },
   {
    "duration": 27,
    "start_time": "2022-01-16T07:03:31.999Z"
   },
   {
    "duration": 911,
    "start_time": "2022-01-16T07:03:32.271Z"
   },
   {
    "duration": 1005,
    "start_time": "2022-01-16T07:04:03.562Z"
   },
   {
    "duration": 1017,
    "start_time": "2022-01-16T07:04:29.223Z"
   },
   {
    "duration": 817,
    "start_time": "2022-01-16T07:04:40.895Z"
   },
   {
    "duration": 274,
    "start_time": "2022-01-16T07:05:07.254Z"
   },
   {
    "duration": 285,
    "start_time": "2022-01-16T07:05:21.742Z"
   },
   {
    "duration": 1040,
    "start_time": "2022-01-16T07:05:30.673Z"
   },
   {
    "duration": 25,
    "start_time": "2022-01-16T07:13:58.782Z"
   },
   {
    "duration": 771,
    "start_time": "2022-01-16T07:13:59.737Z"
   },
   {
    "duration": 83,
    "start_time": "2022-01-16T07:14:36.720Z"
   },
   {
    "duration": 722,
    "start_time": "2022-01-16T07:14:44.943Z"
   },
   {
    "duration": 18,
    "start_time": "2022-01-16T07:15:38.687Z"
   },
   {
    "duration": 25,
    "start_time": "2022-01-16T07:16:13.358Z"
   },
   {
    "duration": 24,
    "start_time": "2022-01-16T07:22:03.795Z"
   },
   {
    "duration": 26,
    "start_time": "2022-01-16T07:22:09.594Z"
   },
   {
    "duration": 753,
    "start_time": "2022-01-16T07:22:10.026Z"
   },
   {
    "duration": 743,
    "start_time": "2022-01-16T07:29:53.796Z"
   },
   {
    "duration": 750,
    "start_time": "2022-01-16T07:32:31.837Z"
   },
   {
    "duration": 852,
    "start_time": "2022-01-16T07:33:14.494Z"
   },
   {
    "duration": 759,
    "start_time": "2022-01-16T07:33:31.326Z"
   },
   {
    "duration": 745,
    "start_time": "2022-01-16T07:34:34.317Z"
   },
   {
    "duration": 938,
    "start_time": "2022-01-16T07:35:07.451Z"
   },
   {
    "duration": 755,
    "start_time": "2022-01-16T07:36:00.227Z"
   },
   {
    "duration": 855,
    "start_time": "2022-01-16T07:36:31.106Z"
   },
   {
    "duration": 755,
    "start_time": "2022-01-16T07:37:13.994Z"
   },
   {
    "duration": 743,
    "start_time": "2022-01-16T07:37:46.266Z"
   },
   {
    "duration": 739,
    "start_time": "2022-01-16T07:38:22.866Z"
   },
   {
    "duration": 759,
    "start_time": "2022-01-16T07:39:11.394Z"
   },
   {
    "duration": 747,
    "start_time": "2022-01-16T07:39:38.945Z"
   },
   {
    "duration": 1173,
    "start_time": "2022-01-16T11:17:09.220Z"
   },
   {
    "duration": 55,
    "start_time": "2022-01-16T11:17:10.394Z"
   },
   {
    "duration": 11,
    "start_time": "2022-01-16T11:17:11.228Z"
   },
   {
    "duration": 15,
    "start_time": "2022-01-16T11:17:12.743Z"
   },
   {
    "duration": 55,
    "start_time": "2022-01-16T11:17:13.632Z"
   },
   {
    "duration": 16,
    "start_time": "2022-01-16T11:17:15.645Z"
   },
   {
    "duration": 603,
    "start_time": "2022-01-16T11:17:17.366Z"
   },
   {
    "duration": 17,
    "start_time": "2022-01-16T11:17:19.119Z"
   },
   {
    "duration": 434,
    "start_time": "2022-01-16T11:17:19.925Z"
   },
   {
    "duration": 437,
    "start_time": "2022-01-16T11:18:11.845Z"
   },
   {
    "duration": 422,
    "start_time": "2022-01-16T12:04:05.898Z"
   },
   {
    "duration": 19,
    "start_time": "2022-01-16T12:04:06.894Z"
   },
   {
    "duration": 495,
    "start_time": "2022-01-16T12:04:07.815Z"
   },
   {
    "duration": 419,
    "start_time": "2022-01-16T12:04:34.442Z"
   },
   {
    "duration": 15,
    "start_time": "2022-01-16T12:04:35.222Z"
   },
   {
    "duration": 418,
    "start_time": "2022-01-16T12:04:36.743Z"
   },
   {
    "duration": 409,
    "start_time": "2022-01-16T12:06:12.494Z"
   },
   {
    "duration": 458,
    "start_time": "2022-01-16T12:08:18.077Z"
   },
   {
    "duration": 490,
    "start_time": "2022-01-16T12:09:11.721Z"
   },
   {
    "duration": 487,
    "start_time": "2022-01-16T12:09:36.615Z"
   },
   {
    "duration": 486,
    "start_time": "2022-01-16T12:24:07.939Z"
   },
   {
    "duration": 414,
    "start_time": "2022-01-16T12:25:25.266Z"
   },
   {
    "duration": 440,
    "start_time": "2022-01-16T12:26:30.602Z"
   },
   {
    "duration": 452,
    "start_time": "2022-01-16T12:27:23.177Z"
   },
   {
    "duration": 87,
    "start_time": "2022-01-16T12:27:57.056Z"
   },
   {
    "duration": 512,
    "start_time": "2022-01-16T12:28:23.775Z"
   },
   {
    "duration": 453,
    "start_time": "2022-01-16T12:29:04.615Z"
   },
   {
    "duration": 481,
    "start_time": "2022-01-16T12:34:25.745Z"
   },
   {
    "duration": 1422,
    "start_time": "2022-01-16T12:36:54.100Z"
   },
   {
    "duration": 2030,
    "start_time": "2022-01-16T12:37:14.215Z"
   },
   {
    "duration": 542,
    "start_time": "2022-01-16T12:37:32.508Z"
   },
   {
    "duration": 445,
    "start_time": "2022-01-16T12:41:20.977Z"
   },
   {
    "duration": 198,
    "start_time": "2022-01-16T12:52:30.277Z"
   },
   {
    "duration": 193,
    "start_time": "2022-01-16T12:53:10.487Z"
   },
   {
    "duration": 208,
    "start_time": "2022-01-16T12:53:21.222Z"
   },
   {
    "duration": 187,
    "start_time": "2022-01-16T12:53:47.517Z"
   },
   {
    "duration": 299,
    "start_time": "2022-01-16T12:55:17.735Z"
   },
   {
    "duration": 428,
    "start_time": "2022-01-16T13:10:40.817Z"
   },
   {
    "duration": 526,
    "start_time": "2022-01-16T13:10:54.061Z"
   },
   {
    "duration": 293,
    "start_time": "2022-01-16T13:14:43.353Z"
   },
   {
    "duration": 293,
    "start_time": "2022-01-16T13:15:11.085Z"
   },
   {
    "duration": 247,
    "start_time": "2022-01-16T13:24:05.250Z"
   },
   {
    "duration": 220,
    "start_time": "2022-01-16T13:24:12.746Z"
   },
   {
    "duration": 280,
    "start_time": "2022-01-16T13:24:20.513Z"
   },
   {
    "duration": 315,
    "start_time": "2022-01-16T13:26:15.294Z"
   },
   {
    "duration": 216,
    "start_time": "2022-01-16T13:26:23.392Z"
   },
   {
    "duration": 310,
    "start_time": "2022-01-16T13:26:33.111Z"
   },
   {
    "duration": 349,
    "start_time": "2022-01-16T13:28:06.984Z"
   },
   {
    "duration": 300,
    "start_time": "2022-01-16T13:28:17.737Z"
   },
   {
    "duration": 305,
    "start_time": "2022-01-16T13:28:32.461Z"
   },
   {
    "duration": 1046,
    "start_time": "2022-01-16T13:31:12.875Z"
   },
   {
    "duration": 52,
    "start_time": "2022-01-16T13:31:13.923Z"
   },
   {
    "duration": 11,
    "start_time": "2022-01-16T13:31:14.226Z"
   },
   {
    "duration": 16,
    "start_time": "2022-01-16T13:31:14.868Z"
   },
   {
    "duration": 58,
    "start_time": "2022-01-16T13:31:15.390Z"
   },
   {
    "duration": 15,
    "start_time": "2022-01-16T13:31:16.652Z"
   },
   {
    "duration": 424,
    "start_time": "2022-01-16T13:31:17.518Z"
   },
   {
    "duration": 15,
    "start_time": "2022-01-16T13:31:18.389Z"
   },
   {
    "duration": 412,
    "start_time": "2022-01-16T13:31:19.032Z"
   },
   {
    "duration": 312,
    "start_time": "2022-01-16T13:31:20.237Z"
   },
   {
    "duration": 3,
    "start_time": "2022-01-16T14:10:09.476Z"
   },
   {
    "duration": 54,
    "start_time": "2022-01-16T14:10:10.085Z"
   },
   {
    "duration": 13,
    "start_time": "2022-01-16T14:10:11.393Z"
   },
   {
    "duration": 17,
    "start_time": "2022-01-16T14:10:12.025Z"
   },
   {
    "duration": 55,
    "start_time": "2022-01-16T14:10:14.044Z"
   },
   {
    "duration": 14,
    "start_time": "2022-01-16T14:10:15.395Z"
   },
   {
    "duration": 447,
    "start_time": "2022-01-16T14:10:16.058Z"
   },
   {
    "duration": 16,
    "start_time": "2022-01-16T14:10:17.299Z"
   },
   {
    "duration": 523,
    "start_time": "2022-01-16T14:10:18.551Z"
   },
   {
    "duration": 331,
    "start_time": "2022-01-16T14:10:20.381Z"
   },
   {
    "duration": 1117,
    "start_time": "2022-01-16T14:17:17.155Z"
   },
   {
    "duration": 52,
    "start_time": "2022-01-16T14:17:18.274Z"
   },
   {
    "duration": 13,
    "start_time": "2022-01-16T14:17:18.328Z"
   },
   {
    "duration": 17,
    "start_time": "2022-01-16T14:17:18.681Z"
   },
   {
    "duration": 51,
    "start_time": "2022-01-16T14:17:19.066Z"
   },
   {
    "duration": 14,
    "start_time": "2022-01-16T14:17:20.153Z"
   },
   {
    "duration": 416,
    "start_time": "2022-01-16T14:17:20.923Z"
   },
   {
    "duration": 15,
    "start_time": "2022-01-16T14:17:21.440Z"
   },
   {
    "duration": 448,
    "start_time": "2022-01-16T14:17:22.110Z"
   },
   {
    "duration": 308,
    "start_time": "2022-01-16T14:17:22.620Z"
   },
   {
    "duration": 3,
    "start_time": "2022-01-16T14:17:23.617Z"
   },
   {
    "duration": 26,
    "start_time": "2022-01-16T14:21:26.601Z"
   },
   {
    "duration": 22,
    "start_time": "2022-01-16T14:26:49.657Z"
   },
   {
    "duration": 14,
    "start_time": "2022-01-16T14:27:01.484Z"
   },
   {
    "duration": 26,
    "start_time": "2022-01-16T14:31:11.169Z"
   },
   {
    "duration": 356,
    "start_time": "2022-01-16T14:43:22.711Z"
   },
   {
    "duration": 355,
    "start_time": "2022-01-16T14:43:38.897Z"
   },
   {
    "duration": 319,
    "start_time": "2022-01-16T14:44:52.284Z"
   },
   {
    "duration": 234,
    "start_time": "2022-01-16T14:45:13.060Z"
   },
   {
    "duration": 179,
    "start_time": "2022-01-16T14:45:41.247Z"
   },
   {
    "duration": 283,
    "start_time": "2022-01-16T14:46:01.994Z"
   },
   {
    "duration": 1083,
    "start_time": "2022-01-16T14:46:43.922Z"
   },
   {
    "duration": 13217,
    "start_time": "2022-01-16T14:48:18.441Z"
   },
   {
    "duration": 262,
    "start_time": "2022-01-16T14:51:24.104Z"
   },
   {
    "duration": 270,
    "start_time": "2022-01-16T14:52:03.302Z"
   },
   {
    "duration": 262,
    "start_time": "2022-01-16T14:52:29.241Z"
   },
   {
    "duration": 806,
    "start_time": "2022-01-16T14:53:22.966Z"
   },
   {
    "duration": 441,
    "start_time": "2022-01-16T14:53:53.893Z"
   },
   {
    "duration": 310,
    "start_time": "2022-01-16T14:54:38.069Z"
   },
   {
    "duration": 737,
    "start_time": "2022-01-16T14:55:54.852Z"
   },
   {
    "duration": 657,
    "start_time": "2022-01-16T14:56:17.738Z"
   },
   {
    "duration": 327,
    "start_time": "2022-01-16T14:56:45.812Z"
   },
   {
    "duration": 10879,
    "start_time": "2022-01-16T14:56:53.884Z"
   },
   {
    "duration": 440,
    "start_time": "2022-01-16T14:57:31.453Z"
   },
   {
    "duration": 799,
    "start_time": "2022-01-16T14:57:48.651Z"
   },
   {
    "duration": 271,
    "start_time": "2022-01-16T14:58:20.971Z"
   },
   {
    "duration": 1148,
    "start_time": "2022-01-16T14:58:25.472Z"
   },
   {
    "duration": 536,
    "start_time": "2022-01-16T14:59:11.842Z"
   },
   {
    "duration": 274,
    "start_time": "2022-01-16T15:03:18.606Z"
   },
   {
    "duration": 294,
    "start_time": "2022-01-16T15:03:34.792Z"
   },
   {
    "duration": 217,
    "start_time": "2022-01-16T15:08:45.537Z"
   },
   {
    "duration": 383,
    "start_time": "2022-01-16T15:09:13.363Z"
   },
   {
    "duration": 565,
    "start_time": "2022-01-16T15:09:34.611Z"
   },
   {
    "duration": 403,
    "start_time": "2022-01-16T15:10:07.683Z"
   },
   {
    "duration": 6218,
    "start_time": "2022-01-16T15:14:21.670Z"
   },
   {
    "duration": 306,
    "start_time": "2022-01-16T15:14:41.043Z"
   },
   {
    "duration": 375,
    "start_time": "2022-01-16T15:15:01.132Z"
   },
   {
    "duration": 649,
    "start_time": "2022-01-16T15:15:23.816Z"
   },
   {
    "duration": 677,
    "start_time": "2022-01-16T15:16:50.407Z"
   },
   {
    "duration": 803,
    "start_time": "2022-01-16T15:17:33.014Z"
   },
   {
    "duration": 681,
    "start_time": "2022-01-16T15:20:42.501Z"
   },
   {
    "duration": 717,
    "start_time": "2022-01-16T15:20:59.996Z"
   },
   {
    "duration": 2,
    "start_time": "2022-01-16T15:24:55.881Z"
   },
   {
    "duration": 1112,
    "start_time": "2022-01-16T15:25:26.985Z"
   },
   {
    "duration": 57,
    "start_time": "2022-01-16T15:25:28.100Z"
   },
   {
    "duration": 12,
    "start_time": "2022-01-16T15:25:28.934Z"
   },
   {
    "duration": 17,
    "start_time": "2022-01-16T15:25:29.549Z"
   },
   {
    "duration": 57,
    "start_time": "2022-01-16T15:25:30.014Z"
   },
   {
    "duration": 16,
    "start_time": "2022-01-16T15:25:31.045Z"
   },
   {
    "duration": 451,
    "start_time": "2022-01-16T15:25:31.669Z"
   },
   {
    "duration": 16,
    "start_time": "2022-01-16T15:25:32.232Z"
   },
   {
    "duration": 469,
    "start_time": "2022-01-16T15:25:32.830Z"
   },
   {
    "duration": 318,
    "start_time": "2022-01-16T15:25:34.527Z"
   },
   {
    "duration": 2,
    "start_time": "2022-01-16T15:25:35.253Z"
   },
   {
    "duration": 697,
    "start_time": "2022-01-16T15:25:36.236Z"
   },
   {
    "duration": 3,
    "start_time": "2022-01-16T15:25:40.766Z"
   },
   {
    "duration": 92,
    "start_time": "2022-01-16T16:02:42.032Z"
   },
   {
    "duration": 77,
    "start_time": "2022-01-16T16:03:37.237Z"
   },
   {
    "duration": 1874,
    "start_time": "2022-01-16T16:03:56.995Z"
   },
   {
    "duration": 68,
    "start_time": "2022-01-16T16:03:58.872Z"
   },
   {
    "duration": 12,
    "start_time": "2022-01-16T16:03:58.942Z"
   },
   {
    "duration": 30,
    "start_time": "2022-01-16T16:03:58.956Z"
   },
   {
    "duration": 63,
    "start_time": "2022-01-16T16:03:58.988Z"
   },
   {
    "duration": 17,
    "start_time": "2022-01-16T16:03:59.639Z"
   },
   {
    "duration": 520,
    "start_time": "2022-01-16T16:04:00.087Z"
   },
   {
    "duration": 16,
    "start_time": "2022-01-16T16:04:00.609Z"
   },
   {
    "duration": 480,
    "start_time": "2022-01-16T16:04:01.017Z"
   },
   {
    "duration": 350,
    "start_time": "2022-01-16T16:04:01.519Z"
   },
   {
    "duration": 3,
    "start_time": "2022-01-16T16:04:02.271Z"
   },
   {
    "duration": 90,
    "start_time": "2022-01-16T16:04:03.738Z"
   },
   {
    "duration": 85,
    "start_time": "2022-01-16T16:04:23.480Z"
   },
   {
    "duration": 80,
    "start_time": "2022-01-16T16:05:28.727Z"
   },
   {
    "duration": 81,
    "start_time": "2022-01-16T16:05:41.792Z"
   },
   {
    "duration": 80,
    "start_time": "2022-01-16T16:06:14.094Z"
   },
   {
    "duration": 112,
    "start_time": "2022-01-16T16:07:30.997Z"
   },
   {
    "duration": 82,
    "start_time": "2022-01-16T16:07:41.822Z"
   },
   {
    "duration": 658,
    "start_time": "2022-01-16T16:08:02.533Z"
   },
   {
    "duration": 3372,
    "start_time": "2022-01-16T16:08:52.530Z"
   },
   {
    "duration": 1252,
    "start_time": "2022-01-16T16:10:03.293Z"
   },
   {
    "duration": 3239,
    "start_time": "2022-01-16T16:10:38.556Z"
   },
   {
    "duration": 3364,
    "start_time": "2022-01-16T16:11:36.119Z"
   },
   {
    "duration": 3352,
    "start_time": "2022-01-16T16:12:20.542Z"
   },
   {
    "duration": 72,
    "start_time": "2022-01-16T16:12:56.320Z"
   },
   {
    "duration": 90,
    "start_time": "2022-01-16T16:13:23.098Z"
   },
   {
    "duration": 3,
    "start_time": "2022-01-16T16:13:25.601Z"
   },
   {
    "duration": 3415,
    "start_time": "2022-01-16T16:13:48.274Z"
   },
   {
    "duration": 1163,
    "start_time": "2022-01-16T16:15:58.536Z"
   },
   {
    "duration": 60,
    "start_time": "2022-01-16T16:15:59.701Z"
   },
   {
    "duration": 12,
    "start_time": "2022-01-16T16:15:59.785Z"
   },
   {
    "duration": 17,
    "start_time": "2022-01-16T16:16:00.200Z"
   },
   {
    "duration": 60,
    "start_time": "2022-01-16T16:16:00.666Z"
   },
   {
    "duration": 16,
    "start_time": "2022-01-16T16:16:01.853Z"
   },
   {
    "duration": 485,
    "start_time": "2022-01-16T16:16:02.568Z"
   },
   {
    "duration": 18,
    "start_time": "2022-01-16T16:16:03.167Z"
   },
   {
    "duration": 474,
    "start_time": "2022-01-16T16:16:03.767Z"
   },
   {
    "duration": 344,
    "start_time": "2022-01-16T16:16:05.320Z"
   },
   {
    "duration": 3,
    "start_time": "2022-01-16T16:16:06.185Z"
   },
   {
    "duration": 3588,
    "start_time": "2022-01-16T16:16:07.416Z"
   },
   {
    "duration": 21,
    "start_time": "2022-01-16T16:25:13.857Z"
   },
   {
    "duration": 15,
    "start_time": "2022-01-16T16:25:34.703Z"
   },
   {
    "duration": 2,
    "start_time": "2022-01-16T16:26:26.560Z"
   },
   {
    "duration": 15289,
    "start_time": "2022-01-16T16:26:26.565Z"
   },
   {
    "duration": 16999,
    "start_time": "2022-01-16T16:27:56.856Z"
   },
   {
    "duration": 584,
    "start_time": "2022-01-16T16:29:20.584Z"
   },
   {
    "duration": 15491,
    "start_time": "2022-01-16T16:29:48.784Z"
   },
   {
    "duration": 15554,
    "start_time": "2022-01-16T16:30:30.335Z"
   },
   {
    "duration": 570,
    "start_time": "2022-01-16T16:32:31.190Z"
   },
   {
    "duration": 14877,
    "start_time": "2022-01-16T16:32:40.870Z"
   },
   {
    "duration": 252,
    "start_time": "2022-01-16T16:35:57.561Z"
   },
   {
    "duration": 1126,
    "start_time": "2022-01-16T16:38:37.400Z"
   },
   {
    "duration": 55,
    "start_time": "2022-01-16T16:38:38.642Z"
   },
   {
    "duration": 12,
    "start_time": "2022-01-16T16:38:42.225Z"
   },
   {
    "duration": 17,
    "start_time": "2022-01-16T16:38:44.599Z"
   },
   {
    "duration": 51,
    "start_time": "2022-01-16T16:38:49.212Z"
   },
   {
    "duration": 16,
    "start_time": "2022-01-16T16:40:43.161Z"
   },
   {
    "duration": 1209,
    "start_time": "2022-01-16T16:43:35.001Z"
   },
   {
    "duration": 55,
    "start_time": "2022-01-16T16:43:36.211Z"
   },
   {
    "duration": 11,
    "start_time": "2022-01-16T16:43:36.268Z"
   },
   {
    "duration": 17,
    "start_time": "2022-01-16T16:43:36.281Z"
   },
   {
    "duration": 72,
    "start_time": "2022-01-16T16:43:36.301Z"
   },
   {
    "duration": 15,
    "start_time": "2022-01-16T16:43:36.375Z"
   },
   {
    "duration": 580,
    "start_time": "2022-01-16T16:43:36.592Z"
   },
   {
    "duration": 18,
    "start_time": "2022-01-16T16:43:37.175Z"
   },
   {
    "duration": 568,
    "start_time": "2022-01-16T16:43:37.195Z"
   },
   {
    "duration": 449,
    "start_time": "2022-01-16T16:43:37.765Z"
   },
   {
    "duration": 3,
    "start_time": "2022-01-16T16:43:38.217Z"
   },
   {
    "duration": 3854,
    "start_time": "2022-01-16T16:43:38.476Z"
   },
   {
    "duration": 2,
    "start_time": "2022-01-16T16:43:42.332Z"
   },
   {
    "duration": 334,
    "start_time": "2022-01-16T16:43:42.340Z"
   },
   {
    "duration": 17,
    "start_time": "2022-01-16T16:45:58.121Z"
   },
   {
    "duration": 476,
    "start_time": "2022-01-16T16:46:06.902Z"
   },
   {
    "duration": 522,
    "start_time": "2022-01-16T16:46:17.592Z"
   },
   {
    "duration": 24,
    "start_time": "2022-01-16T16:46:51.901Z"
   },
   {
    "duration": 530,
    "start_time": "2022-01-16T16:46:52.362Z"
   },
   {
    "duration": 330,
    "start_time": "2022-01-16T16:50:21.834Z"
   },
   {
    "duration": 3606,
    "start_time": "2022-01-16T16:52:16.018Z"
   },
   {
    "duration": 262,
    "start_time": "2022-01-16T16:54:57.897Z"
   },
   {
    "duration": 262,
    "start_time": "2022-01-16T16:55:14.407Z"
   },
   {
    "duration": 18,
    "start_time": "2022-01-16T16:57:23.117Z"
   },
   {
    "duration": 468,
    "start_time": "2022-01-16T16:57:23.673Z"
   },
   {
    "duration": 17,
    "start_time": "2022-01-16T16:57:24.327Z"
   },
   {
    "duration": 441,
    "start_time": "2022-01-16T16:57:25.071Z"
   },
   {
    "duration": 380,
    "start_time": "2022-01-16T16:57:26.871Z"
   },
   {
    "duration": 3767,
    "start_time": "2022-01-16T16:57:28.065Z"
   },
   {
    "duration": 285,
    "start_time": "2022-01-16T16:57:31.841Z"
   },
   {
    "duration": 79,
    "start_time": "2022-01-16T17:33:54.423Z"
   },
   {
    "duration": 146,
    "start_time": "2022-01-16T17:50:45.320Z"
   },
   {
    "duration": 969,
    "start_time": "2022-01-16T17:51:01.895Z"
   },
   {
    "duration": 892,
    "start_time": "2022-01-16T17:51:39.206Z"
   },
   {
    "duration": 878,
    "start_time": "2022-01-16T17:52:50.029Z"
   },
   {
    "duration": 836,
    "start_time": "2022-01-16T17:53:41.589Z"
   },
   {
    "duration": 961,
    "start_time": "2022-01-16T17:54:01.285Z"
   },
   {
    "duration": 890,
    "start_time": "2022-01-16T17:54:13.524Z"
   },
   {
    "duration": 905,
    "start_time": "2022-01-16T17:57:32.299Z"
   },
   {
    "duration": 897,
    "start_time": "2022-01-16T17:59:20.315Z"
   },
   {
    "duration": 1214,
    "start_time": "2022-01-16T17:59:31.547Z"
   },
   {
    "duration": 55,
    "start_time": "2022-01-16T17:59:32.764Z"
   },
   {
    "duration": 12,
    "start_time": "2022-01-16T17:59:33.073Z"
   },
   {
    "duration": 17,
    "start_time": "2022-01-16T17:59:33.842Z"
   },
   {
    "duration": 57,
    "start_time": "2022-01-16T17:59:34.415Z"
   },
   {
    "duration": 17,
    "start_time": "2022-01-16T17:59:35.530Z"
   },
   {
    "duration": 458,
    "start_time": "2022-01-16T17:59:36.555Z"
   },
   {
    "duration": 19,
    "start_time": "2022-01-16T17:59:37.674Z"
   },
   {
    "duration": 446,
    "start_time": "2022-01-16T17:59:38.180Z"
   },
   {
    "duration": 339,
    "start_time": "2022-01-16T17:59:39.489Z"
   },
   {
    "duration": 3364,
    "start_time": "2022-01-16T17:59:40.914Z"
   },
   {
    "duration": 256,
    "start_time": "2022-01-16T17:59:44.280Z"
   },
   {
    "duration": 1263,
    "start_time": "2022-01-16T17:59:44.626Z"
   },
   {
    "duration": 949,
    "start_time": "2022-01-16T18:00:36.635Z"
   },
   {
    "duration": 873,
    "start_time": "2022-01-16T18:04:29.336Z"
   },
   {
    "duration": 797,
    "start_time": "2022-01-16T18:04:53.490Z"
   },
   {
    "duration": 875,
    "start_time": "2022-01-16T18:05:18.030Z"
   },
   {
    "duration": 776,
    "start_time": "2022-01-16T18:05:43.687Z"
   },
   {
    "duration": 789,
    "start_time": "2022-01-16T18:06:04.734Z"
   },
   {
    "duration": 20,
    "start_time": "2022-01-16T18:07:44.997Z"
   },
   {
    "duration": 1061,
    "start_time": "2022-01-16T18:08:32.669Z"
   },
   {
    "duration": 896,
    "start_time": "2022-01-16T18:09:15.116Z"
   },
   {
    "duration": 960,
    "start_time": "2022-01-16T18:11:22.708Z"
   },
   {
    "duration": 1091,
    "start_time": "2022-01-16T18:11:33.242Z"
   },
   {
    "duration": 1136,
    "start_time": "2022-01-16T18:11:43.624Z"
   },
   {
    "duration": 55,
    "start_time": "2022-01-16T18:11:44.762Z"
   },
   {
    "duration": 11,
    "start_time": "2022-01-16T18:11:44.819Z"
   },
   {
    "duration": 22,
    "start_time": "2022-01-16T18:11:44.831Z"
   },
   {
    "duration": 52,
    "start_time": "2022-01-16T18:11:44.855Z"
   },
   {
    "duration": 14,
    "start_time": "2022-01-16T18:11:44.908Z"
   },
   {
    "duration": 439,
    "start_time": "2022-01-16T18:11:45.058Z"
   },
   {
    "duration": 17,
    "start_time": "2022-01-16T18:11:45.498Z"
   },
   {
    "duration": 444,
    "start_time": "2022-01-16T18:11:45.549Z"
   },
   {
    "duration": 349,
    "start_time": "2022-01-16T18:11:45.995Z"
   },
   {
    "duration": 3381,
    "start_time": "2022-01-16T18:11:46.346Z"
   },
   {
    "duration": 258,
    "start_time": "2022-01-16T18:11:49.729Z"
   },
   {
    "duration": 1023,
    "start_time": "2022-01-16T18:11:49.989Z"
   },
   {
    "duration": 1158,
    "start_time": "2022-01-16T18:12:10.719Z"
   },
   {
    "duration": 974,
    "start_time": "2022-01-16T18:14:28.892Z"
   },
   {
    "duration": 1062,
    "start_time": "2022-01-16T18:14:50.901Z"
   },
   {
    "duration": 957,
    "start_time": "2022-01-16T18:15:00.885Z"
   },
   {
    "duration": 980,
    "start_time": "2022-01-16T18:15:30.677Z"
   },
   {
    "duration": 1095,
    "start_time": "2022-01-16T18:16:40.652Z"
   },
   {
    "duration": 1109,
    "start_time": "2022-01-16T18:17:19.693Z"
   },
   {
    "duration": 56,
    "start_time": "2022-01-16T18:17:20.804Z"
   },
   {
    "duration": 12,
    "start_time": "2022-01-16T18:17:20.862Z"
   },
   {
    "duration": 15,
    "start_time": "2022-01-16T18:17:21.122Z"
   },
   {
    "duration": 53,
    "start_time": "2022-01-16T18:17:21.517Z"
   },
   {
    "duration": 17,
    "start_time": "2022-01-16T18:17:22.282Z"
   },
   {
    "duration": 441,
    "start_time": "2022-01-16T18:17:23.196Z"
   },
   {
    "duration": 16,
    "start_time": "2022-01-16T18:17:24.075Z"
   },
   {
    "duration": 455,
    "start_time": "2022-01-16T18:17:24.540Z"
   },
   {
    "duration": 335,
    "start_time": "2022-01-16T18:17:25.506Z"
   },
   {
    "duration": 3694,
    "start_time": "2022-01-16T18:17:26.707Z"
   },
   {
    "duration": 274,
    "start_time": "2022-01-16T18:17:30.403Z"
   },
   {
    "duration": 1066,
    "start_time": "2022-01-16T18:17:30.679Z"
   },
   {
    "duration": 1748,
    "start_time": "2022-01-16T18:18:30.187Z"
   },
   {
    "duration": 1609,
    "start_time": "2022-01-16T18:18:42.387Z"
   },
   {
    "duration": 979,
    "start_time": "2022-01-16T18:19:00.277Z"
   },
   {
    "duration": 970,
    "start_time": "2022-01-16T18:24:09.342Z"
   },
   {
    "duration": 907,
    "start_time": "2022-01-16T18:24:56.335Z"
   },
   {
    "duration": 1110,
    "start_time": "2022-01-16T18:26:28.534Z"
   },
   {
    "duration": 987,
    "start_time": "2022-01-16T18:27:26.106Z"
   },
   {
    "duration": 1238,
    "start_time": "2022-01-16T18:27:40.588Z"
   },
   {
    "duration": 388,
    "start_time": "2022-01-16T18:27:45.846Z"
   },
   {
    "duration": 3,
    "start_time": "2022-01-16T18:27:54.901Z"
   },
   {
    "duration": 89,
    "start_time": "2022-01-16T18:27:59.805Z"
   },
   {
    "duration": 231,
    "start_time": "2022-01-16T18:28:08.237Z"
   },
   {
    "duration": 516,
    "start_time": "2022-01-16T18:28:42.014Z"
   },
   {
    "duration": 603,
    "start_time": "2022-01-16T18:29:43.012Z"
   },
   {
    "duration": 7,
    "start_time": "2022-01-16T18:30:00.395Z"
   },
   {
    "duration": 568,
    "start_time": "2022-01-16T18:30:13.303Z"
   },
   {
    "duration": 574,
    "start_time": "2022-01-16T18:33:12.818Z"
   },
   {
    "duration": 1041,
    "start_time": "2022-01-16T18:33:21.651Z"
   },
   {
    "duration": 925,
    "start_time": "2022-01-16T18:33:29.473Z"
   },
   {
    "duration": 411,
    "start_time": "2022-01-16T18:35:10.708Z"
   },
   {
    "duration": 396,
    "start_time": "2022-01-16T18:35:53.440Z"
   },
   {
    "duration": 428,
    "start_time": "2022-01-16T18:36:58.208Z"
   },
   {
    "duration": 498,
    "start_time": "2022-01-16T18:37:29.848Z"
   },
   {
    "duration": 421,
    "start_time": "2022-01-16T18:38:08.516Z"
   },
   {
    "duration": 994,
    "start_time": "2022-01-16T18:38:37.846Z"
   },
   {
    "duration": 865,
    "start_time": "2022-01-16T18:40:27.765Z"
   },
   {
    "duration": 845,
    "start_time": "2022-01-16T18:40:41.133Z"
   },
   {
    "duration": 890,
    "start_time": "2022-01-16T18:40:54.949Z"
   },
   {
    "duration": 991,
    "start_time": "2022-01-16T18:41:31.453Z"
   },
   {
    "duration": 1011,
    "start_time": "2022-01-16T18:45:05.435Z"
   },
   {
    "duration": 1069,
    "start_time": "2022-01-16T18:45:26.043Z"
   },
   {
    "duration": 1168,
    "start_time": "2022-01-16T18:45:57.303Z"
   },
   {
    "duration": 1408,
    "start_time": "2022-01-16T18:48:29.941Z"
   },
   {
    "duration": 6741,
    "start_time": "2022-01-16T18:50:44.657Z"
   },
   {
    "duration": 6800,
    "start_time": "2022-01-16T18:50:57.960Z"
   },
   {
    "duration": 7409,
    "start_time": "2022-01-16T18:51:08.584Z"
   },
   {
    "duration": 6479,
    "start_time": "2022-01-16T18:51:33.759Z"
   },
   {
    "duration": 6437,
    "start_time": "2022-01-16T18:51:55.178Z"
   },
   {
    "duration": 6879,
    "start_time": "2022-01-16T18:52:49.672Z"
   },
   {
    "duration": 979,
    "start_time": "2022-01-16T18:54:08.870Z"
   },
   {
    "duration": 954,
    "start_time": "2022-01-16T18:54:26.614Z"
   },
   {
    "duration": 6475,
    "start_time": "2022-01-16T18:54:51.823Z"
   },
   {
    "duration": 1109,
    "start_time": "2022-01-16T18:56:05.690Z"
   },
   {
    "duration": 52,
    "start_time": "2022-01-16T18:56:06.801Z"
   },
   {
    "duration": 10,
    "start_time": "2022-01-16T18:56:06.855Z"
   },
   {
    "duration": 17,
    "start_time": "2022-01-16T18:56:07.094Z"
   },
   {
    "duration": 54,
    "start_time": "2022-01-16T18:56:07.430Z"
   },
   {
    "duration": 16,
    "start_time": "2022-01-16T18:56:08.413Z"
   },
   {
    "duration": 444,
    "start_time": "2022-01-16T18:56:09.429Z"
   },
   {
    "duration": 15,
    "start_time": "2022-01-16T18:56:10.274Z"
   },
   {
    "duration": 411,
    "start_time": "2022-01-16T18:56:10.830Z"
   },
   {
    "duration": 312,
    "start_time": "2022-01-16T18:56:11.822Z"
   },
   {
    "duration": 3442,
    "start_time": "2022-01-16T18:56:12.735Z"
   },
   {
    "duration": 265,
    "start_time": "2022-01-16T18:56:16.180Z"
   },
   {
    "duration": 7444,
    "start_time": "2022-01-16T18:56:16.790Z"
   },
   {
    "duration": 6635,
    "start_time": "2022-01-16T18:57:31.024Z"
   },
   {
    "duration": 6608,
    "start_time": "2022-01-16T18:58:13.404Z"
   },
   {
    "duration": 6405,
    "start_time": "2022-01-16T18:58:47.458Z"
   },
   {
    "duration": 1587,
    "start_time": "2022-01-16T18:59:43.068Z"
   },
   {
    "duration": 1476,
    "start_time": "2022-01-16T19:00:29.067Z"
   },
   {
    "duration": 1847,
    "start_time": "2022-01-16T19:01:01.716Z"
   },
   {
    "duration": 1705,
    "start_time": "2022-01-16T19:01:53.715Z"
   },
   {
    "duration": 1882,
    "start_time": "2022-01-16T19:02:19.763Z"
   },
   {
    "duration": 7318,
    "start_time": "2022-01-16T19:02:56.961Z"
   },
   {
    "duration": 1093,
    "start_time": "2022-01-16T19:03:34.500Z"
   },
   {
    "duration": 62,
    "start_time": "2022-01-16T19:03:35.595Z"
   },
   {
    "duration": 11,
    "start_time": "2022-01-16T19:03:35.658Z"
   },
   {
    "duration": 16,
    "start_time": "2022-01-16T19:03:35.881Z"
   },
   {
    "duration": 51,
    "start_time": "2022-01-16T19:03:36.239Z"
   },
   {
    "duration": 15,
    "start_time": "2022-01-16T19:03:37.097Z"
   },
   {
    "duration": 472,
    "start_time": "2022-01-16T19:03:37.941Z"
   },
   {
    "duration": 15,
    "start_time": "2022-01-16T19:03:38.737Z"
   },
   {
    "duration": 405,
    "start_time": "2022-01-16T19:03:39.153Z"
   },
   {
    "duration": 312,
    "start_time": "2022-01-16T19:03:40.064Z"
   },
   {
    "duration": 3161,
    "start_time": "2022-01-16T19:03:41.275Z"
   },
   {
    "duration": 253,
    "start_time": "2022-01-16T19:03:44.441Z"
   },
   {
    "duration": 7014,
    "start_time": "2022-01-16T19:03:44.696Z"
   },
   {
    "duration": 7076,
    "start_time": "2022-01-16T19:07:44.185Z"
   },
   {
    "duration": 1132,
    "start_time": "2022-01-17T04:27:47.712Z"
   },
   {
    "duration": 52,
    "start_time": "2022-01-17T04:27:48.846Z"
   },
   {
    "duration": 12,
    "start_time": "2022-01-17T04:27:48.900Z"
   },
   {
    "duration": 16,
    "start_time": "2022-01-17T04:27:48.951Z"
   },
   {
    "duration": 55,
    "start_time": "2022-01-17T04:27:49.219Z"
   },
   {
    "duration": 15,
    "start_time": "2022-01-17T04:27:49.856Z"
   },
   {
    "duration": 467,
    "start_time": "2022-01-17T04:27:50.386Z"
   },
   {
    "duration": 18,
    "start_time": "2022-01-17T04:27:51.009Z"
   },
   {
    "duration": 452,
    "start_time": "2022-01-17T04:27:51.503Z"
   },
   {
    "duration": 352,
    "start_time": "2022-01-17T04:27:52.352Z"
   },
   {
    "duration": 3518,
    "start_time": "2022-01-17T04:27:53.153Z"
   },
   {
    "duration": 297,
    "start_time": "2022-01-17T04:27:56.673Z"
   },
   {
    "duration": -450,
    "start_time": "2022-01-17T04:28:04.536Z"
   },
   {
    "duration": 607,
    "start_time": "2022-01-17T04:29:16.256Z"
   },
   {
    "duration": 619,
    "start_time": "2022-01-17T04:32:08.280Z"
   },
   {
    "duration": 1216,
    "start_time": "2022-01-17T04:33:41.021Z"
   },
   {
    "duration": 1268,
    "start_time": "2022-01-17T04:34:11.069Z"
   },
   {
    "duration": 521,
    "start_time": "2022-01-17T04:34:42.181Z"
   },
   {
    "duration": 7609,
    "start_time": "2022-01-17T04:35:27.874Z"
   },
   {
    "duration": 2448,
    "start_time": "2022-01-17T04:35:56.891Z"
   },
   {
    "duration": 581,
    "start_time": "2022-01-17T04:40:43.496Z"
   },
   {
    "duration": 7087,
    "start_time": "2022-01-17T04:41:18.128Z"
   },
   {
    "duration": 6788,
    "start_time": "2022-01-17T04:42:37.816Z"
   },
   {
    "duration": 1263,
    "start_time": "2022-01-17T04:44:08.079Z"
   },
   {
    "duration": 1737,
    "start_time": "2022-01-17T04:44:37.999Z"
   },
   {
    "duration": 1082,
    "start_time": "2022-01-17T04:46:23.333Z"
   },
   {
    "duration": 620,
    "start_time": "2022-01-17T04:46:40.293Z"
   },
   {
    "duration": 599,
    "start_time": "2022-01-17T04:46:53.772Z"
   },
   {
    "duration": 6737,
    "start_time": "2022-01-17T04:47:08.260Z"
   },
   {
    "duration": 6809,
    "start_time": "2022-01-17T04:48:05.932Z"
   },
   {
    "duration": 7512,
    "start_time": "2022-01-17T04:48:25.711Z"
   },
   {
    "duration": 7723,
    "start_time": "2022-01-17T04:49:15.019Z"
   },
   {
    "duration": 7505,
    "start_time": "2022-01-17T04:49:31.227Z"
   },
   {
    "duration": 7567,
    "start_time": "2022-01-17T04:50:13.419Z"
   },
   {
    "duration": 892,
    "start_time": "2022-01-17T04:50:39.931Z"
   },
   {
    "duration": 814,
    "start_time": "2022-01-17T04:51:05.921Z"
   },
   {
    "duration": 1729,
    "start_time": "2022-01-17T04:51:12.697Z"
   },
   {
    "duration": 928,
    "start_time": "2022-01-17T04:51:22.594Z"
   },
   {
    "duration": 1020,
    "start_time": "2022-01-17T04:51:54.084Z"
   },
   {
    "duration": 1035,
    "start_time": "2022-01-17T04:52:08.081Z"
   },
   {
    "duration": 1690,
    "start_time": "2022-01-17T04:53:05.761Z"
   },
   {
    "duration": 1758,
    "start_time": "2022-01-17T04:53:33.072Z"
   },
   {
    "duration": 801,
    "start_time": "2022-01-17T04:53:58.705Z"
   },
   {
    "duration": 821,
    "start_time": "2022-01-17T04:58:24.485Z"
   },
   {
    "duration": 905,
    "start_time": "2022-01-17T04:59:46.504Z"
   },
   {
    "duration": 872,
    "start_time": "2022-01-17T05:00:05.228Z"
   },
   {
    "duration": 1367,
    "start_time": "2022-01-17T16:26:21.778Z"
   },
   {
    "duration": 62,
    "start_time": "2022-01-17T16:26:23.147Z"
   },
   {
    "duration": 16,
    "start_time": "2022-01-17T16:26:23.211Z"
   },
   {
    "duration": 19,
    "start_time": "2022-01-17T16:26:23.793Z"
   },
   {
    "duration": 72,
    "start_time": "2022-01-17T16:26:24.196Z"
   },
   {
    "duration": 16,
    "start_time": "2022-01-17T16:26:25.390Z"
   },
   {
    "duration": 502,
    "start_time": "2022-01-17T16:26:26.490Z"
   },
   {
    "duration": 16,
    "start_time": "2022-01-17T16:26:27.786Z"
   },
   {
    "duration": 518,
    "start_time": "2022-01-17T16:26:28.362Z"
   },
   {
    "duration": 374,
    "start_time": "2022-01-17T16:26:29.785Z"
   },
   {
    "duration": 3668,
    "start_time": "2022-01-17T16:26:31.666Z"
   },
   {
    "duration": 293,
    "start_time": "2022-01-17T16:26:35.336Z"
   },
   {
    "duration": 930,
    "start_time": "2022-01-17T16:26:36.433Z"
   },
   {
    "duration": 556,
    "start_time": "2022-01-17T16:38:30.611Z"
   },
   {
    "duration": 109,
    "start_time": "2022-01-17T16:38:48.962Z"
   },
   {
    "duration": 731,
    "start_time": "2022-01-17T16:43:39.382Z"
   },
   {
    "duration": 106,
    "start_time": "2022-01-17T16:44:22.438Z"
   },
   {
    "duration": 677,
    "start_time": "2022-01-17T16:44:27.302Z"
   },
   {
    "duration": 690,
    "start_time": "2022-01-17T16:44:32.677Z"
   },
   {
    "duration": 712,
    "start_time": "2022-01-17T16:44:38.816Z"
   },
   {
    "duration": 573,
    "start_time": "2022-01-17T16:44:51.538Z"
   },
   {
    "duration": 548,
    "start_time": "2022-01-17T16:55:32.337Z"
   },
   {
    "duration": 303,
    "start_time": "2022-01-17T16:55:42.811Z"
   },
   {
    "duration": 831,
    "start_time": "2022-01-17T16:55:53.072Z"
   },
   {
    "duration": 845,
    "start_time": "2022-01-17T16:56:05.838Z"
   },
   {
    "duration": 1037,
    "start_time": "2022-01-17T16:56:18.846Z"
   },
   {
    "duration": 328,
    "start_time": "2022-01-17T16:56:37.694Z"
   },
   {
    "duration": 320,
    "start_time": "2022-01-17T16:57:09.053Z"
   },
   {
    "duration": 464,
    "start_time": "2022-01-17T16:57:19.957Z"
   },
   {
    "duration": 329,
    "start_time": "2022-01-17T16:57:25.141Z"
   },
   {
    "duration": 316,
    "start_time": "2022-01-17T17:00:19.803Z"
   },
   {
    "duration": 434,
    "start_time": "2022-01-17T17:00:45.138Z"
   },
   {
    "duration": 643,
    "start_time": "2022-01-17T17:05:31.520Z"
   },
   {
    "duration": 366,
    "start_time": "2022-01-17T17:06:20.177Z"
   },
   {
    "duration": 368,
    "start_time": "2022-01-17T17:07:19.890Z"
   },
   {
    "duration": 845,
    "start_time": "2022-01-17T17:13:38.428Z"
   },
   {
    "duration": 474,
    "start_time": "2022-01-17T17:14:26.698Z"
   },
   {
    "duration": 574,
    "start_time": "2022-01-17T17:15:38.817Z"
   },
   {
    "duration": 530,
    "start_time": "2022-01-17T17:15:49.530Z"
   },
   {
    "duration": 547,
    "start_time": "2022-01-17T17:16:03.889Z"
   },
   {
    "duration": 265,
    "start_time": "2022-01-17T17:16:12.375Z"
   },
   {
    "duration": 362,
    "start_time": "2022-01-17T17:16:41.768Z"
   },
   {
    "duration": 273,
    "start_time": "2022-01-17T17:16:52.641Z"
   },
   {
    "duration": 284,
    "start_time": "2022-01-17T17:17:15.776Z"
   },
   {
    "duration": 451,
    "start_time": "2022-01-17T17:17:26.636Z"
   },
   {
    "duration": 610,
    "start_time": "2022-01-17T17:19:20.191Z"
   },
   {
    "duration": 605,
    "start_time": "2022-01-17T17:19:43.182Z"
   },
   {
    "duration": 407,
    "start_time": "2022-01-17T17:19:58.239Z"
   },
   {
    "duration": 919,
    "start_time": "2022-01-17T17:20:05.073Z"
   },
   {
    "duration": 906,
    "start_time": "2022-01-17T17:20:31.286Z"
   },
   {
    "duration": 1955,
    "start_time": "2022-01-17T17:20:41.544Z"
   },
   {
    "duration": 1524,
    "start_time": "2022-01-17T17:20:55.846Z"
   },
   {
    "duration": 398,
    "start_time": "2022-01-17T17:21:13.284Z"
   },
   {
    "duration": 664,
    "start_time": "2022-01-17T17:22:29.453Z"
   },
   {
    "duration": 392,
    "start_time": "2022-01-17T17:23:05.645Z"
   },
   {
    "duration": 399,
    "start_time": "2022-01-17T17:23:47.067Z"
   },
   {
    "duration": 706,
    "start_time": "2022-01-17T17:24:50.739Z"
   },
   {
    "duration": 1254,
    "start_time": "2022-01-17T17:25:05.163Z"
   },
   {
    "duration": 601,
    "start_time": "2022-01-17T17:25:17.355Z"
   },
   {
    "duration": 666,
    "start_time": "2022-01-17T17:25:26.536Z"
   },
   {
    "duration": 609,
    "start_time": "2022-01-17T17:25:35.915Z"
   },
   {
    "duration": 391,
    "start_time": "2022-01-17T17:25:45.650Z"
   },
   {
    "duration": 394,
    "start_time": "2022-01-17T17:25:50.994Z"
   },
   {
    "duration": 1277,
    "start_time": "2022-01-17T17:26:06.280Z"
   },
   {
    "duration": 59,
    "start_time": "2022-01-17T17:26:07.559Z"
   },
   {
    "duration": 13,
    "start_time": "2022-01-17T17:26:07.620Z"
   },
   {
    "duration": 26,
    "start_time": "2022-01-17T17:26:07.635Z"
   },
   {
    "duration": 58,
    "start_time": "2022-01-17T17:26:07.791Z"
   },
   {
    "duration": 15,
    "start_time": "2022-01-17T17:26:08.454Z"
   },
   {
    "duration": 513,
    "start_time": "2022-01-17T17:26:09.211Z"
   },
   {
    "duration": 28,
    "start_time": "2022-01-17T17:26:09.989Z"
   },
   {
    "duration": 497,
    "start_time": "2022-01-17T17:26:10.447Z"
   },
   {
    "duration": 359,
    "start_time": "2022-01-17T17:26:11.870Z"
   },
   {
    "duration": 3859,
    "start_time": "2022-01-17T17:26:13.015Z"
   },
   {
    "duration": 311,
    "start_time": "2022-01-17T17:26:16.876Z"
   },
   {
    "duration": 435,
    "start_time": "2022-01-17T17:26:17.189Z"
   },
   {
    "duration": 456,
    "start_time": "2022-01-17T17:26:53.350Z"
   },
   {
    "duration": 3,
    "start_time": "2022-01-17T17:27:23.175Z"
   },
   {
    "duration": 67,
    "start_time": "2022-01-17T17:27:23.358Z"
   },
   {
    "duration": 14,
    "start_time": "2022-01-17T17:27:23.690Z"
   },
   {
    "duration": 19,
    "start_time": "2022-01-17T17:27:23.880Z"
   },
   {
    "duration": 72,
    "start_time": "2022-01-17T17:27:24.406Z"
   },
   {
    "duration": 24,
    "start_time": "2022-01-17T17:27:24.480Z"
   },
   {
    "duration": 507,
    "start_time": "2022-01-17T17:27:24.720Z"
   },
   {
    "duration": 18,
    "start_time": "2022-01-17T17:27:25.649Z"
   },
   {
    "duration": 493,
    "start_time": "2022-01-17T17:27:25.669Z"
   },
   {
    "duration": 409,
    "start_time": "2022-01-17T17:27:26.165Z"
   },
   {
    "duration": 3923,
    "start_time": "2022-01-17T17:27:26.576Z"
   },
   {
    "duration": 340,
    "start_time": "2022-01-17T17:27:30.500Z"
   },
   {
    "duration": 395,
    "start_time": "2022-01-17T17:27:30.842Z"
   },
   {
    "duration": 536,
    "start_time": "2022-01-17T17:30:31.477Z"
   },
   {
    "duration": 383,
    "start_time": "2022-01-17T17:30:37.427Z"
   },
   {
    "duration": 473,
    "start_time": "2022-01-17T17:31:07.755Z"
   },
   {
    "duration": 405,
    "start_time": "2022-01-17T17:31:17.234Z"
   },
   {
    "duration": 380,
    "start_time": "2022-01-17T17:31:44.091Z"
   },
   {
    "duration": 1299,
    "start_time": "2022-01-17T17:39:00.677Z"
   },
   {
    "duration": 1531,
    "start_time": "2022-01-17T17:39:08.486Z"
   },
   {
    "duration": 741,
    "start_time": "2022-01-17T17:39:18.469Z"
   },
   {
    "duration": 743,
    "start_time": "2022-01-17T17:39:44.550Z"
   },
   {
    "duration": 1507,
    "start_time": "2022-01-17T17:39:59.332Z"
   },
   {
    "duration": 725,
    "start_time": "2022-01-17T17:40:09.257Z"
   },
   {
    "duration": 791,
    "start_time": "2022-01-17T17:40:20.179Z"
   },
   {
    "duration": 829,
    "start_time": "2022-01-17T17:40:48.294Z"
   },
   {
    "duration": 849,
    "start_time": "2022-01-17T17:41:33.965Z"
   },
   {
    "duration": 268,
    "start_time": "2022-01-17T17:41:45.092Z"
   },
   {
    "duration": 308,
    "start_time": "2022-01-17T17:41:53.912Z"
   },
   {
    "duration": 265,
    "start_time": "2022-01-17T17:42:02.740Z"
   },
   {
    "duration": 766,
    "start_time": "2022-01-17T17:42:09.161Z"
   },
   {
    "duration": 906,
    "start_time": "2022-01-17T17:42:14.028Z"
   },
   {
    "duration": 737,
    "start_time": "2022-01-17T17:44:26.754Z"
   },
   {
    "duration": 829,
    "start_time": "2022-01-17T17:44:47.107Z"
   },
   {
    "duration": 1872,
    "start_time": "2022-01-17T17:45:04.722Z"
   },
   {
    "duration": 830,
    "start_time": "2022-01-17T17:45:13.410Z"
   },
   {
    "duration": 854,
    "start_time": "2022-01-17T17:45:38.714Z"
   },
   {
    "duration": 870,
    "start_time": "2022-01-17T17:46:27.554Z"
   },
   {
    "duration": 852,
    "start_time": "2022-01-17T17:46:35.673Z"
   },
   {
    "duration": 869,
    "start_time": "2022-01-17T17:50:29.896Z"
   },
   {
    "duration": 844,
    "start_time": "2022-01-17T17:50:38.016Z"
   },
   {
    "duration": 1869,
    "start_time": "2022-01-17T17:52:55.111Z"
   },
   {
    "duration": 824,
    "start_time": "2022-01-17T17:53:09.359Z"
   },
   {
    "duration": 367,
    "start_time": "2022-01-17T17:57:15.820Z"
   },
   {
    "duration": 619,
    "start_time": "2022-01-17T17:59:27.915Z"
   },
   {
    "duration": 641,
    "start_time": "2022-01-17T18:00:01.355Z"
   },
   {
    "duration": 431,
    "start_time": "2022-01-17T18:01:51.810Z"
   },
   {
    "duration": 504,
    "start_time": "2022-01-17T18:02:02.162Z"
   },
   {
    "duration": 396,
    "start_time": "2022-01-17T18:08:53.958Z"
   },
   {
    "duration": 151,
    "start_time": "2022-01-17T18:08:54.356Z"
   },
   {
    "duration": 365,
    "start_time": "2022-01-17T18:09:42.654Z"
   },
   {
    "duration": 390,
    "start_time": "2022-01-17T18:10:29.559Z"
   },
   {
    "duration": 366,
    "start_time": "2022-01-17T18:10:37.791Z"
   },
   {
    "duration": 1190,
    "start_time": "2022-01-17T18:11:06.280Z"
   },
   {
    "duration": 3,
    "start_time": "2022-01-17T18:11:17.510Z"
   },
   {
    "duration": 56,
    "start_time": "2022-01-17T18:11:17.819Z"
   },
   {
    "duration": 16,
    "start_time": "2022-01-17T18:11:18.798Z"
   },
   {
    "duration": 17,
    "start_time": "2022-01-17T18:11:19.190Z"
   },
   {
    "duration": 66,
    "start_time": "2022-01-17T18:11:19.549Z"
   },
   {
    "duration": 15,
    "start_time": "2022-01-17T18:11:20.150Z"
   },
   {
    "duration": 529,
    "start_time": "2022-01-17T18:11:20.655Z"
   },
   {
    "duration": 19,
    "start_time": "2022-01-17T18:11:21.186Z"
   },
   {
    "duration": 511,
    "start_time": "2022-01-17T18:11:21.335Z"
   },
   {
    "duration": 407,
    "start_time": "2022-01-17T18:11:22.226Z"
   },
   {
    "duration": 3773,
    "start_time": "2022-01-17T18:11:23.695Z"
   },
   {
    "duration": 272,
    "start_time": "2022-01-17T18:11:27.470Z"
   },
   {
    "duration": 389,
    "start_time": "2022-01-17T18:11:27.744Z"
   },
   {
    "duration": 500,
    "start_time": "2022-01-17T18:11:28.135Z"
   },
   {
    "duration": 388,
    "start_time": "2022-01-17T18:11:28.637Z"
   },
   {
    "duration": 391,
    "start_time": "2022-01-17T18:11:51.047Z"
   },
   {
    "duration": 395,
    "start_time": "2022-01-17T18:12:14.620Z"
   },
   {
    "duration": 483,
    "start_time": "2022-01-17T18:12:38.630Z"
   },
   {
    "duration": 1110,
    "start_time": "2022-01-17T18:12:43.042Z"
   },
   {
    "duration": 63,
    "start_time": "2022-01-17T18:12:44.154Z"
   },
   {
    "duration": 14,
    "start_time": "2022-01-17T18:12:44.219Z"
   },
   {
    "duration": 17,
    "start_time": "2022-01-17T18:12:44.475Z"
   },
   {
    "duration": 61,
    "start_time": "2022-01-17T18:12:45.014Z"
   },
   {
    "duration": 16,
    "start_time": "2022-01-17T18:12:46.114Z"
   },
   {
    "duration": 500,
    "start_time": "2022-01-17T18:12:47.005Z"
   },
   {
    "duration": 17,
    "start_time": "2022-01-17T18:12:47.748Z"
   },
   {
    "duration": 487,
    "start_time": "2022-01-17T18:12:48.103Z"
   },
   {
    "duration": 358,
    "start_time": "2022-01-17T18:12:48.977Z"
   },
   {
    "duration": 3773,
    "start_time": "2022-01-17T18:12:49.787Z"
   },
   {
    "duration": 277,
    "start_time": "2022-01-17T18:12:53.562Z"
   },
   {
    "duration": 399,
    "start_time": "2022-01-17T18:12:53.841Z"
   },
   {
    "duration": 498,
    "start_time": "2022-01-17T18:12:54.242Z"
   },
   {
    "duration": 392,
    "start_time": "2022-01-17T18:12:54.742Z"
   },
   {
    "duration": 409,
    "start_time": "2022-01-17T18:13:37.153Z"
   },
   {
    "duration": 404,
    "start_time": "2022-01-17T18:13:49.170Z"
   },
   {
    "duration": 7513,
    "start_time": "2022-01-17T18:15:26.482Z"
   },
   {
    "duration": 390,
    "start_time": "2022-01-17T18:16:17.185Z"
   },
   {
    "duration": 445,
    "start_time": "2022-01-17T18:16:29.313Z"
   },
   {
    "duration": 1449,
    "start_time": "2022-01-18T16:25:12.477Z"
   },
   {
    "duration": 75,
    "start_time": "2022-01-18T16:25:13.929Z"
   },
   {
    "duration": 18,
    "start_time": "2022-01-18T16:25:14.436Z"
   },
   {
    "duration": 27,
    "start_time": "2022-01-18T16:25:15.065Z"
   },
   {
    "duration": 80,
    "start_time": "2022-01-18T16:25:15.591Z"
   },
   {
    "duration": 21,
    "start_time": "2022-01-18T16:25:17.273Z"
   },
   {
    "duration": 749,
    "start_time": "2022-01-18T16:25:18.532Z"
   },
   {
    "duration": 25,
    "start_time": "2022-01-18T16:25:19.953Z"
   },
   {
    "duration": 745,
    "start_time": "2022-01-18T16:25:20.449Z"
   },
   {
    "duration": 565,
    "start_time": "2022-01-18T16:25:21.992Z"
   },
   {
    "duration": 5083,
    "start_time": "2022-01-18T16:25:23.586Z"
   },
   {
    "duration": 393,
    "start_time": "2022-01-18T16:25:28.672Z"
   },
   {
    "duration": 577,
    "start_time": "2022-01-18T16:25:30.142Z"
   },
   {
    "duration": 653,
    "start_time": "2022-01-18T16:25:31.210Z"
   },
   {
    "duration": 529,
    "start_time": "2022-01-18T16:25:32.185Z"
   },
   {
    "duration": 1157,
    "start_time": "2022-01-18T16:26:02.393Z"
   },
   {
    "duration": 1493,
    "start_time": "2022-01-18T16:26:21.004Z"
   },
   {
    "duration": 1276,
    "start_time": "2022-01-18T16:30:04.552Z"
   },
   {
    "duration": 1153,
    "start_time": "2022-01-18T16:30:15.488Z"
   },
   {
    "duration": 773,
    "start_time": "2022-01-18T16:32:22.086Z"
   },
   {
    "duration": 774,
    "start_time": "2022-01-18T16:37:57.026Z"
   },
   {
    "duration": 894,
    "start_time": "2022-01-18T16:38:16.930Z"
   },
   {
    "duration": 976,
    "start_time": "2022-01-18T16:38:36.881Z"
   },
   {
    "duration": 794,
    "start_time": "2022-01-18T16:39:08.354Z"
   },
   {
    "duration": 782,
    "start_time": "2022-01-18T16:39:38.217Z"
   },
   {
    "duration": 833,
    "start_time": "2022-01-18T16:40:16.240Z"
   },
   {
    "duration": 1297,
    "start_time": "2022-01-18T16:40:47.176Z"
   },
   {
    "duration": 1188,
    "start_time": "2022-01-18T16:43:46.566Z"
   },
   {
    "duration": 1295,
    "start_time": "2022-01-18T16:43:58.357Z"
   },
   {
    "duration": 1318,
    "start_time": "2022-01-18T16:44:04.368Z"
   },
   {
    "duration": 2501,
    "start_time": "2022-01-18T16:44:33.757Z"
   },
   {
    "duration": 2799,
    "start_time": "2022-01-18T16:45:24.869Z"
   },
   {
    "duration": 1179,
    "start_time": "2022-01-18T16:45:37.116Z"
   },
   {
    "duration": 1772,
    "start_time": "2022-01-18T16:50:10.386Z"
   },
   {
    "duration": 1205,
    "start_time": "2022-01-18T16:50:41.060Z"
   },
   {
    "duration": 1221,
    "start_time": "2022-01-18T16:51:09.897Z"
   },
   {
    "duration": 1404,
    "start_time": "2022-01-18T16:51:34.367Z"
   },
   {
    "duration": 290,
    "start_time": "2022-01-18T16:55:27.162Z"
   },
   {
    "duration": 300,
    "start_time": "2022-01-18T16:55:50.310Z"
   },
   {
    "duration": 1287,
    "start_time": "2022-01-18T16:55:58.119Z"
   },
   {
    "duration": 1255,
    "start_time": "2022-01-18T16:57:36.334Z"
   },
   {
    "duration": 1159,
    "start_time": "2022-01-18T16:59:15.502Z"
   },
   {
    "duration": 1369,
    "start_time": "2022-01-18T16:59:30.164Z"
   },
   {
    "duration": 1269,
    "start_time": "2022-01-18T16:59:37.099Z"
   },
   {
    "duration": 1595,
    "start_time": "2022-01-18T17:04:38.457Z"
   },
   {
    "duration": 1322,
    "start_time": "2022-01-18T17:05:16.563Z"
   },
   {
    "duration": 1224,
    "start_time": "2022-01-18T17:05:37.303Z"
   },
   {
    "duration": 1857,
    "start_time": "2022-01-18T17:05:49.882Z"
   },
   {
    "duration": 1615,
    "start_time": "2022-01-18T17:10:56.908Z"
   },
   {
    "duration": 1641,
    "start_time": "2022-01-18T17:11:37.845Z"
   },
   {
    "duration": 103,
    "start_time": "2022-01-18T17:12:03.555Z"
   },
   {
    "duration": 3966,
    "start_time": "2022-01-18T17:12:08.461Z"
   },
   {
    "duration": 1343,
    "start_time": "2022-01-18T17:12:26.963Z"
   },
   {
    "duration": 1270,
    "start_time": "2022-01-18T17:16:33.727Z"
   },
   {
    "duration": 1233,
    "start_time": "2022-01-18T17:16:43.356Z"
   },
   {
    "duration": 110,
    "start_time": "2022-01-18T17:20:27.309Z"
   },
   {
    "duration": 1247,
    "start_time": "2022-01-18T17:20:54.573Z"
   },
   {
    "duration": 1257,
    "start_time": "2022-01-18T17:21:05.644Z"
   },
   {
    "duration": 1484,
    "start_time": "2022-01-18T17:21:10.625Z"
   },
   {
    "duration": 1249,
    "start_time": "2022-01-18T17:21:32.941Z"
   },
   {
    "duration": 1404,
    "start_time": "2022-01-18T17:21:51.117Z"
   },
   {
    "duration": 1226,
    "start_time": "2022-01-18T17:23:10.141Z"
   },
   {
    "duration": 1182,
    "start_time": "2022-01-18T17:23:45.740Z"
   },
   {
    "duration": 1386,
    "start_time": "2022-01-18T17:23:55.091Z"
   },
   {
    "duration": 331,
    "start_time": "2022-01-18T17:27:03.169Z"
   },
   {
    "duration": 297,
    "start_time": "2022-01-18T17:58:53.087Z"
   },
   {
    "duration": 1458,
    "start_time": "2022-01-18T17:59:22.966Z"
   },
   {
    "duration": 74,
    "start_time": "2022-01-18T17:59:24.426Z"
   },
   {
    "duration": 17,
    "start_time": "2022-01-18T17:59:24.503Z"
   },
   {
    "duration": 43,
    "start_time": "2022-01-18T17:59:24.523Z"
   },
   {
    "duration": 102,
    "start_time": "2022-01-18T17:59:24.568Z"
   },
   {
    "duration": 25,
    "start_time": "2022-01-18T17:59:24.927Z"
   },
   {
    "duration": 741,
    "start_time": "2022-01-18T17:59:25.492Z"
   },
   {
    "duration": 38,
    "start_time": "2022-01-18T17:59:26.236Z"
   },
   {
    "duration": 756,
    "start_time": "2022-01-18T17:59:26.277Z"
   },
   {
    "duration": 578,
    "start_time": "2022-01-18T17:59:27.036Z"
   },
   {
    "duration": 5147,
    "start_time": "2022-01-18T17:59:27.617Z"
   },
   {
    "duration": 403,
    "start_time": "2022-01-18T17:59:32.767Z"
   },
   {
    "duration": 1319,
    "start_time": "2022-01-18T17:59:33.173Z"
   },
   {
    "duration": 612,
    "start_time": "2022-01-18T17:59:34.495Z"
   },
   {
    "duration": 793,
    "start_time": "2022-01-18T17:59:35.111Z"
   },
   {
    "duration": 458,
    "start_time": "2022-01-18T17:59:35.907Z"
   },
   {
    "duration": 296,
    "start_time": "2022-01-18T17:59:46.708Z"
   },
   {
    "duration": 283,
    "start_time": "2022-01-18T18:00:18.617Z"
   },
   {
    "duration": 1301,
    "start_time": "2022-01-18T18:00:58.984Z"
   },
   {
    "duration": 362,
    "start_time": "2022-01-18T18:01:19.907Z"
   },
   {
    "duration": 1287,
    "start_time": "2022-01-18T18:02:17.532Z"
   },
   {
    "duration": 678,
    "start_time": "2022-01-18T18:02:18.822Z"
   },
   {
    "duration": 578,
    "start_time": "2022-01-18T18:02:19.503Z"
   },
   {
    "duration": 379,
    "start_time": "2022-01-18T18:02:20.085Z"
   },
   {
    "duration": 286,
    "start_time": "2022-01-18T18:09:51.839Z"
   },
   {
    "duration": 11,
    "start_time": "2022-01-18T18:10:12.743Z"
   },
   {
    "duration": 12,
    "start_time": "2022-01-18T18:10:27.101Z"
   },
   {
    "duration": 17,
    "start_time": "2022-01-18T18:11:53.662Z"
   },
   {
    "duration": 20,
    "start_time": "2022-01-18T18:12:33.717Z"
   },
   {
    "duration": 21,
    "start_time": "2022-01-18T18:13:00.767Z"
   },
   {
    "duration": 36,
    "start_time": "2022-01-18T18:13:22.184Z"
   },
   {
    "duration": 59,
    "start_time": "2022-01-18T18:14:53.909Z"
   },
   {
    "duration": 41,
    "start_time": "2022-01-18T18:16:43.973Z"
   },
   {
    "duration": 1485,
    "start_time": "2022-01-18T18:17:33.243Z"
   },
   {
    "duration": 74,
    "start_time": "2022-01-18T18:17:34.730Z"
   },
   {
    "duration": 18,
    "start_time": "2022-01-18T18:17:34.807Z"
   },
   {
    "duration": 22,
    "start_time": "2022-01-18T18:17:35.098Z"
   },
   {
    "duration": 79,
    "start_time": "2022-01-18T18:17:35.883Z"
   },
   {
    "duration": 22,
    "start_time": "2022-01-18T18:17:36.825Z"
   },
   {
    "duration": 734,
    "start_time": "2022-01-18T18:17:37.694Z"
   },
   {
    "duration": 25,
    "start_time": "2022-01-18T18:17:38.529Z"
   },
   {
    "duration": 752,
    "start_time": "2022-01-18T18:17:38.955Z"
   },
   {
    "duration": 536,
    "start_time": "2022-01-18T18:17:41.338Z"
   },
   {
    "duration": 5033,
    "start_time": "2022-01-18T18:17:43.036Z"
   },
   {
    "duration": 368,
    "start_time": "2022-01-18T18:17:48.073Z"
   },
   {
    "duration": 1254,
    "start_time": "2022-01-18T18:17:49.474Z"
   },
   {
    "duration": 560,
    "start_time": "2022-01-18T18:17:50.730Z"
   },
   {
    "duration": 546,
    "start_time": "2022-01-18T18:17:51.294Z"
   },
   {
    "duration": 40,
    "start_time": "2022-01-18T18:17:52.274Z"
   },
   {
    "duration": 430,
    "start_time": "2022-01-18T18:17:53.512Z"
   },
   {
    "duration": 982,
    "start_time": "2022-01-19T04:10:50.352Z"
   },
   {
    "duration": 48,
    "start_time": "2022-01-19T04:10:51.336Z"
   },
   {
    "duration": 11,
    "start_time": "2022-01-19T04:10:51.595Z"
   },
   {
    "duration": 15,
    "start_time": "2022-01-19T04:10:52.440Z"
   },
   {
    "duration": 51,
    "start_time": "2022-01-19T04:10:53.082Z"
   },
   {
    "duration": 14,
    "start_time": "2022-01-19T04:10:54.207Z"
   },
   {
    "duration": 475,
    "start_time": "2022-01-19T04:10:55.267Z"
   },
   {
    "duration": 15,
    "start_time": "2022-01-19T04:10:57.677Z"
   },
   {
    "duration": 414,
    "start_time": "2022-01-19T04:10:58.104Z"
   },
   {
    "duration": 311,
    "start_time": "2022-01-19T04:11:01.088Z"
   },
   {
    "duration": 3154,
    "start_time": "2022-01-19T04:11:03.921Z"
   },
   {
    "duration": 223,
    "start_time": "2022-01-19T04:11:07.076Z"
   },
   {
    "duration": 745,
    "start_time": "2022-01-19T04:11:08.128Z"
   },
   {
    "duration": 330,
    "start_time": "2022-01-19T04:11:11.820Z"
   },
   {
    "duration": 307,
    "start_time": "2022-01-19T04:11:24.527Z"
   },
   {
    "duration": 22,
    "start_time": "2022-01-19T04:11:27.187Z"
   },
   {
    "duration": 22,
    "start_time": "2022-01-19T04:26:49.549Z"
   },
   {
    "duration": 282,
    "start_time": "2022-01-19T04:27:58.319Z"
   },
   {
    "duration": 196,
    "start_time": "2022-01-19T04:28:22.873Z"
   },
   {
    "duration": 21,
    "start_time": "2022-01-19T04:28:42.318Z"
   },
   {
    "duration": 20,
    "start_time": "2022-01-19T04:30:11.521Z"
   },
   {
    "duration": 19,
    "start_time": "2022-01-19T04:31:22.255Z"
   },
   {
    "duration": 22,
    "start_time": "2022-01-19T04:32:03.748Z"
   },
   {
    "duration": 22,
    "start_time": "2022-01-19T04:33:14.492Z"
   },
   {
    "duration": 26,
    "start_time": "2022-01-19T04:36:49.776Z"
   },
   {
    "duration": 23,
    "start_time": "2022-01-19T04:37:02.986Z"
   },
   {
    "duration": 6,
    "start_time": "2022-01-19T04:44:18.283Z"
   },
   {
    "duration": 21,
    "start_time": "2022-01-19T04:45:10.051Z"
   },
   {
    "duration": 7,
    "start_time": "2022-01-19T04:45:22.701Z"
   },
   {
    "duration": 6,
    "start_time": "2022-01-19T04:46:21.813Z"
   },
   {
    "duration": 222,
    "start_time": "2022-01-19T04:48:05.832Z"
   },
   {
    "duration": 6,
    "start_time": "2022-01-19T04:48:27.493Z"
   },
   {
    "duration": 6,
    "start_time": "2022-01-19T04:49:37.941Z"
   },
   {
    "duration": 975,
    "start_time": "2022-01-19T04:58:30.561Z"
   },
   {
    "duration": 47,
    "start_time": "2022-01-19T04:58:31.538Z"
   },
   {
    "duration": 10,
    "start_time": "2022-01-19T04:58:31.587Z"
   },
   {
    "duration": 19,
    "start_time": "2022-01-19T04:58:31.598Z"
   },
   {
    "duration": 47,
    "start_time": "2022-01-19T04:58:31.618Z"
   },
   {
    "duration": 14,
    "start_time": "2022-01-19T04:58:31.788Z"
   },
   {
    "duration": 409,
    "start_time": "2022-01-19T04:58:32.144Z"
   },
   {
    "duration": 14,
    "start_time": "2022-01-19T04:58:32.555Z"
   },
   {
    "duration": 405,
    "start_time": "2022-01-19T04:58:32.700Z"
   },
   {
    "duration": 315,
    "start_time": "2022-01-19T04:58:33.106Z"
   },
   {
    "duration": 3132,
    "start_time": "2022-01-19T04:58:33.422Z"
   },
   {
    "duration": 214,
    "start_time": "2022-01-19T04:58:36.556Z"
   },
   {
    "duration": 734,
    "start_time": "2022-01-19T04:58:36.772Z"
   },
   {
    "duration": 338,
    "start_time": "2022-01-19T04:58:37.511Z"
   },
   {
    "duration": 307,
    "start_time": "2022-01-19T04:58:37.851Z"
   },
   {
    "duration": 20,
    "start_time": "2022-01-19T04:58:38.160Z"
   },
   {
    "duration": 5,
    "start_time": "2022-01-19T04:58:38.181Z"
   },
   {
    "duration": 1041,
    "start_time": "2022-01-19T05:01:11.883Z"
   },
   {
    "duration": 49,
    "start_time": "2022-01-19T05:01:12.926Z"
   },
   {
    "duration": 10,
    "start_time": "2022-01-19T05:01:12.977Z"
   },
   {
    "duration": 23,
    "start_time": "2022-01-19T05:01:12.989Z"
   },
   {
    "duration": 50,
    "start_time": "2022-01-19T05:01:13.013Z"
   },
   {
    "duration": 13,
    "start_time": "2022-01-19T05:01:13.065Z"
   },
   {
    "duration": 411,
    "start_time": "2022-01-19T05:01:13.416Z"
   },
   {
    "duration": 14,
    "start_time": "2022-01-19T05:01:13.829Z"
   },
   {
    "duration": 403,
    "start_time": "2022-01-19T05:01:13.960Z"
   },
   {
    "duration": 323,
    "start_time": "2022-01-19T05:01:14.365Z"
   },
   {
    "duration": 3128,
    "start_time": "2022-01-19T05:01:14.735Z"
   },
   {
    "duration": 217,
    "start_time": "2022-01-19T05:01:17.865Z"
   },
   {
    "duration": 760,
    "start_time": "2022-01-19T05:01:18.083Z"
   },
   {
    "duration": 406,
    "start_time": "2022-01-19T05:01:18.845Z"
   },
   {
    "duration": 307,
    "start_time": "2022-01-19T05:01:19.253Z"
   },
   {
    "duration": 19,
    "start_time": "2022-01-19T05:01:19.562Z"
   },
   {
    "duration": 6,
    "start_time": "2022-01-19T05:01:19.582Z"
   },
   {
    "duration": 91,
    "start_time": "2022-01-23T06:03:26.265Z"
   },
   {
    "duration": 362,
    "start_time": "2022-01-23T06:49:07.904Z"
   },
   {
    "duration": 1460,
    "start_time": "2022-01-23T06:49:12.453Z"
   },
   {
    "duration": 83,
    "start_time": "2022-01-23T06:49:13.915Z"
   },
   {
    "duration": 1432,
    "start_time": "2022-01-23T06:49:37.569Z"
   },
   {
    "duration": 85,
    "start_time": "2022-01-23T06:49:39.003Z"
   },
   {
    "duration": 5,
    "start_time": "2022-01-23T06:50:03.111Z"
   },
   {
    "duration": 80,
    "start_time": "2022-01-23T06:50:03.599Z"
   },
   {
    "duration": 18,
    "start_time": "2022-01-23T06:51:34.936Z"
   },
   {
    "duration": 22,
    "start_time": "2022-01-23T06:51:38.141Z"
   },
   {
    "duration": 82,
    "start_time": "2022-01-23T06:52:20.988Z"
   },
   {
    "duration": 16,
    "start_time": "2022-01-23T06:58:43.993Z"
   },
   {
    "duration": 23,
    "start_time": "2022-01-23T06:59:06.521Z"
   },
   {
    "duration": 316,
    "start_time": "2022-01-23T06:59:39.324Z"
   },
   {
    "duration": 7540,
    "start_time": "2022-01-23T07:04:16.954Z"
   },
   {
    "duration": 637,
    "start_time": "2022-01-23T07:04:30.445Z"
   },
   {
    "duration": 740,
    "start_time": "2022-01-23T07:05:48.990Z"
   },
   {
    "duration": 666,
    "start_time": "2022-01-23T07:05:55.411Z"
   },
   {
    "duration": 1549,
    "start_time": "2022-01-23T07:08:19.372Z"
   },
   {
    "duration": 85,
    "start_time": "2022-01-23T07:08:20.923Z"
   },
   {
    "duration": 19,
    "start_time": "2022-01-23T07:08:24.716Z"
   },
   {
    "duration": 24,
    "start_time": "2022-01-23T07:08:25.383Z"
   },
   {
    "duration": 79,
    "start_time": "2022-01-23T07:08:26.787Z"
   },
   {
    "duration": 671,
    "start_time": "2022-01-23T07:08:30.841Z"
   },
   {
    "duration": 721,
    "start_time": "2022-01-23T07:19:30.610Z"
   },
   {
    "duration": 69,
    "start_time": "2022-01-23T07:21:57.583Z"
   },
   {
    "duration": 1754,
    "start_time": "2022-01-23T07:22:21.551Z"
   },
   {
    "duration": 125,
    "start_time": "2022-01-23T07:22:23.309Z"
   },
   {
    "duration": 24,
    "start_time": "2022-01-23T07:22:24.758Z"
   },
   {
    "duration": 24,
    "start_time": "2022-01-23T07:22:31.556Z"
   },
   {
    "duration": 72,
    "start_time": "2022-01-23T07:22:36.518Z"
   },
   {
    "duration": 697,
    "start_time": "2022-01-23T07:23:55.115Z"
   },
   {
    "duration": 732,
    "start_time": "2022-01-23T07:24:21.164Z"
   },
   {
    "duration": 24,
    "start_time": "2022-01-23T07:25:26.091Z"
   },
   {
    "duration": 707,
    "start_time": "2022-01-23T07:25:27.039Z"
   },
   {
    "duration": 1433,
    "start_time": "2022-01-23T07:26:27.487Z"
   },
   {
    "duration": 92,
    "start_time": "2022-01-23T07:26:28.923Z"
   },
   {
    "duration": 21,
    "start_time": "2022-01-23T07:26:29.019Z"
   },
   {
    "duration": 49,
    "start_time": "2022-01-23T07:26:29.042Z"
   },
   {
    "duration": 119,
    "start_time": "2022-01-23T07:26:29.094Z"
   },
   {
    "duration": 694,
    "start_time": "2022-01-23T07:26:29.598Z"
   },
   {
    "duration": 722,
    "start_time": "2022-01-23T07:26:30.594Z"
   },
   {
    "duration": 28,
    "start_time": "2022-01-23T07:26:31.422Z"
   },
   {
    "duration": 726,
    "start_time": "2022-01-23T07:26:31.610Z"
   },
   {
    "duration": 520,
    "start_time": "2022-01-23T07:26:32.362Z"
   },
   {
    "duration": 5097,
    "start_time": "2022-01-23T07:26:33.365Z"
   },
   {
    "duration": 389,
    "start_time": "2022-01-23T07:26:38.467Z"
   },
   {
    "duration": 1289,
    "start_time": "2022-01-23T07:26:38.859Z"
   },
   {
    "duration": 606,
    "start_time": "2022-01-23T07:26:40.151Z"
   },
   {
    "duration": 538,
    "start_time": "2022-01-23T07:26:40.759Z"
   },
   {
    "duration": 35,
    "start_time": "2022-01-23T07:26:41.299Z"
   },
   {
    "duration": 34,
    "start_time": "2022-01-23T07:26:41.336Z"
   },
   {
    "duration": 5,
    "start_time": "2022-01-23T07:27:13.571Z"
   },
   {
    "duration": 85,
    "start_time": "2022-01-23T07:27:14.460Z"
   },
   {
    "duration": 20,
    "start_time": "2022-01-23T07:27:17.465Z"
   },
   {
    "duration": 22,
    "start_time": "2022-01-23T07:27:17.946Z"
   },
   {
    "duration": 70,
    "start_time": "2022-01-23T07:27:19.259Z"
   },
   {
    "duration": 702,
    "start_time": "2022-01-23T07:27:27.257Z"
   },
   {
    "duration": 243,
    "start_time": "2022-01-23T07:29:29.633Z"
   },
   {
    "duration": 514,
    "start_time": "2022-01-23T07:29:46.409Z"
   },
   {
    "duration": 474,
    "start_time": "2022-01-23T07:31:09.295Z"
   },
   {
    "duration": 590,
    "start_time": "2022-01-23T07:31:39.892Z"
   },
   {
    "duration": 966,
    "start_time": "2022-01-23T07:31:56.841Z"
   },
   {
    "duration": 496,
    "start_time": "2022-01-23T07:32:34.756Z"
   },
   {
    "duration": 419,
    "start_time": "2022-01-23T07:33:52.256Z"
   },
   {
    "duration": 240,
    "start_time": "2022-01-23T07:34:19.424Z"
   },
   {
    "duration": 1008,
    "start_time": "2022-01-23T07:34:38.974Z"
   },
   {
    "duration": 859,
    "start_time": "2022-01-23T07:34:56.328Z"
   },
   {
    "duration": 416,
    "start_time": "2022-01-23T07:35:54.882Z"
   },
   {
    "duration": 345,
    "start_time": "2022-01-23T07:36:34.552Z"
   },
   {
    "duration": 1102,
    "start_time": "2022-01-23T07:36:53.373Z"
   },
   {
    "duration": 873,
    "start_time": "2022-01-23T07:37:05.207Z"
   },
   {
    "duration": 482,
    "start_time": "2022-01-23T07:37:35.548Z"
   },
   {
    "duration": 679,
    "start_time": "2022-01-23T07:37:51.646Z"
   },
   {
    "duration": 844,
    "start_time": "2022-01-23T07:43:34.507Z"
   },
   {
    "duration": 640,
    "start_time": "2022-01-23T07:43:51.752Z"
   },
   {
    "duration": 229,
    "start_time": "2022-01-23T07:45:03.784Z"
   },
   {
    "duration": 637,
    "start_time": "2022-01-23T07:45:36.632Z"
   },
   {
    "duration": 1441,
    "start_time": "2022-01-23T07:46:11.870Z"
   },
   {
    "duration": 82,
    "start_time": "2022-01-23T07:46:13.314Z"
   },
   {
    "duration": 19,
    "start_time": "2022-01-23T07:46:15.011Z"
   },
   {
    "duration": 24,
    "start_time": "2022-01-23T07:46:17.028Z"
   },
   {
    "duration": 70,
    "start_time": "2022-01-23T07:46:17.055Z"
   },
   {
    "duration": 678,
    "start_time": "2022-01-23T07:46:20.003Z"
   },
   {
    "duration": 647,
    "start_time": "2022-01-23T07:46:34.338Z"
   },
   {
    "duration": 705,
    "start_time": "2022-01-23T07:46:35.555Z"
   },
   {
    "duration": 24,
    "start_time": "2022-01-23T07:46:38.202Z"
   },
   {
    "duration": 786,
    "start_time": "2022-01-23T07:46:38.754Z"
   },
   {
    "duration": 570,
    "start_time": "2022-01-23T07:46:41.515Z"
   },
   {
    "duration": 5234,
    "start_time": "2022-01-23T07:46:43.708Z"
   },
   {
    "duration": 1196,
    "start_time": "2022-01-23T11:57:28.347Z"
   },
   {
    "duration": 55,
    "start_time": "2022-01-23T11:57:29.545Z"
   },
   {
    "duration": 11,
    "start_time": "2022-01-23T11:57:31.497Z"
   },
   {
    "duration": 14,
    "start_time": "2022-01-23T11:57:32.146Z"
   },
   {
    "duration": 46,
    "start_time": "2022-01-23T11:57:33.708Z"
   },
   {
    "duration": 387,
    "start_time": "2022-01-23T11:57:43.344Z"
   },
   {
    "duration": 363,
    "start_time": "2022-01-23T11:58:05.927Z"
   },
   {
    "duration": 407,
    "start_time": "2022-01-23T11:58:37.814Z"
   },
   {
    "duration": 15,
    "start_time": "2022-01-23T11:59:30.039Z"
   },
   {
    "duration": 472,
    "start_time": "2022-01-23T11:59:30.833Z"
   },
   {
    "duration": 301,
    "start_time": "2022-01-23T11:59:34.968Z"
   },
   {
    "duration": 373,
    "start_time": "2022-01-23T12:03:56.324Z"
   },
   {
    "duration": 432,
    "start_time": "2022-01-23T12:04:01.652Z"
   },
   {
    "duration": 15,
    "start_time": "2022-01-23T12:04:12.358Z"
   },
   {
    "duration": 403,
    "start_time": "2022-01-23T12:04:12.476Z"
   },
   {
    "duration": 401,
    "start_time": "2022-01-23T12:04:18.084Z"
   },
   {
    "duration": 3176,
    "start_time": "2022-01-23T12:06:29.148Z"
   },
   {
    "duration": 3214,
    "start_time": "2022-01-23T12:06:58.969Z"
   },
   {
    "duration": 361,
    "start_time": "2022-01-23T12:08:04.906Z"
   },
   {
    "duration": 420,
    "start_time": "2022-01-23T12:08:05.268Z"
   },
   {
    "duration": 14,
    "start_time": "2022-01-23T12:08:06.449Z"
   },
   {
    "duration": 410,
    "start_time": "2022-01-23T12:08:06.946Z"
   },
   {
    "duration": 305,
    "start_time": "2022-01-23T12:08:09.001Z"
   },
   {
    "duration": 3346,
    "start_time": "2022-01-23T12:08:13.128Z"
   },
   {
    "duration": 220,
    "start_time": "2022-01-23T12:14:09.720Z"
   },
   {
    "duration": 407,
    "start_time": "2022-01-23T12:15:24.333Z"
   },
   {
    "duration": 383,
    "start_time": "2022-01-23T12:15:37.023Z"
   },
   {
    "duration": 377,
    "start_time": "2022-01-23T12:15:54.478Z"
   },
   {
    "duration": 210,
    "start_time": "2022-01-23T12:16:11.446Z"
   },
   {
    "duration": 212,
    "start_time": "2022-01-23T12:16:45.477Z"
   },
   {
    "duration": 423,
    "start_time": "2022-01-23T12:16:55.509Z"
   },
   {
    "duration": 296,
    "start_time": "2022-01-23T12:17:05.534Z"
   },
   {
    "duration": 354,
    "start_time": "2022-01-23T12:17:33.189Z"
   },
   {
    "duration": 315,
    "start_time": "2022-01-23T12:17:39.092Z"
   },
   {
    "duration": 612,
    "start_time": "2022-01-23T12:18:08.957Z"
   },
   {
    "duration": 389,
    "start_time": "2022-01-23T12:18:56.719Z"
   },
   {
    "duration": 203,
    "start_time": "2022-01-23T12:19:09.676Z"
   },
   {
    "duration": 667,
    "start_time": "2022-01-23T12:19:45.644Z"
   },
   {
    "duration": 331,
    "start_time": "2022-01-23T12:19:46.660Z"
   },
   {
    "duration": 383,
    "start_time": "2022-01-23T12:19:47.900Z"
   },
   {
    "duration": 667,
    "start_time": "2022-01-23T12:21:13.141Z"
   },
   {
    "duration": 1086,
    "start_time": "2022-01-23T12:26:32.631Z"
   },
   {
    "duration": 1004,
    "start_time": "2022-01-23T12:27:25.847Z"
   },
   {
    "duration": 1074,
    "start_time": "2022-01-23T12:27:40.406Z"
   },
   {
    "duration": 1133,
    "start_time": "2022-01-23T12:34:34.594Z"
   },
   {
    "duration": 1026,
    "start_time": "2022-01-23T12:34:44.770Z"
   },
   {
    "duration": 676,
    "start_time": "2022-01-23T12:40:14.305Z"
   },
   {
    "duration": 1570,
    "start_time": "2022-01-23T12:40:43.894Z"
   },
   {
    "duration": 1043,
    "start_time": "2022-01-23T12:42:27.638Z"
   },
   {
    "duration": 1171,
    "start_time": "2022-01-23T12:42:55.132Z"
   },
   {
    "duration": 1386,
    "start_time": "2022-01-23T12:43:33.598Z"
   },
   {
    "duration": 2183,
    "start_time": "2022-01-23T12:43:46.492Z"
   },
   {
    "duration": 555,
    "start_time": "2022-01-23T12:45:42.548Z"
   },
   {
    "duration": 651,
    "start_time": "2022-01-23T12:45:49.014Z"
   },
   {
    "duration": 393,
    "start_time": "2022-01-23T12:46:16.499Z"
   },
   {
    "duration": 333,
    "start_time": "2022-01-23T12:49:44.176Z"
   },
   {
    "duration": 310,
    "start_time": "2022-01-23T12:50:04.392Z"
   },
   {
    "duration": 653,
    "start_time": "2022-01-23T12:52:30.321Z"
   },
   {
    "duration": 314,
    "start_time": "2022-01-23T12:52:46.374Z"
   },
   {
    "duration": 657,
    "start_time": "2022-01-23T12:54:39.869Z"
   },
   {
    "duration": 354,
    "start_time": "2022-01-23T12:58:48.787Z"
   },
   {
    "duration": 228,
    "start_time": "2022-01-23T12:59:03.189Z"
   },
   {
    "duration": 606,
    "start_time": "2022-01-23T12:59:40.123Z"
   },
   {
    "duration": 552,
    "start_time": "2022-01-23T12:59:53.210Z"
   },
   {
    "duration": 586,
    "start_time": "2022-01-23T13:00:11.559Z"
   },
   {
    "duration": 691,
    "start_time": "2022-01-23T13:00:29.827Z"
   },
   {
    "duration": 433,
    "start_time": "2022-01-23T13:01:37.489Z"
   },
   {
    "duration": 938,
    "start_time": "2022-01-23T13:02:14.730Z"
   },
   {
    "duration": 364,
    "start_time": "2022-01-23T13:02:34.449Z"
   },
   {
    "duration": 343,
    "start_time": "2022-01-23T13:03:56.031Z"
   },
   {
    "duration": 547,
    "start_time": "2022-01-23T13:04:19.183Z"
   },
   {
    "duration": 671,
    "start_time": "2022-01-23T13:04:29.572Z"
   },
   {
    "duration": 679,
    "start_time": "2022-01-23T13:04:54.219Z"
   },
   {
    "duration": 859,
    "start_time": "2022-01-23T13:05:15.111Z"
   },
   {
    "duration": 183,
    "start_time": "2022-01-23T13:05:29.023Z"
   },
   {
    "duration": 661,
    "start_time": "2022-01-23T13:05:55.627Z"
   },
   {
    "duration": 120,
    "start_time": "2022-01-23T13:06:29.105Z"
   },
   {
    "duration": 763,
    "start_time": "2022-01-23T13:06:53.743Z"
   },
   {
    "duration": 170,
    "start_time": "2022-01-23T13:10:09.757Z"
   },
   {
    "duration": 162,
    "start_time": "2022-01-23T13:10:28.556Z"
   },
   {
    "duration": 417,
    "start_time": "2022-01-23T13:10:46.966Z"
   },
   {
    "duration": 161,
    "start_time": "2022-01-23T13:11:14.635Z"
   },
   {
    "duration": 182,
    "start_time": "2022-01-23T13:11:51.499Z"
   },
   {
    "duration": 169,
    "start_time": "2022-01-23T13:12:03.964Z"
   },
   {
    "duration": 164,
    "start_time": "2022-01-23T13:12:08.154Z"
   },
   {
    "duration": 720,
    "start_time": "2022-01-23T13:19:13.422Z"
   },
   {
    "duration": 816,
    "start_time": "2022-01-23T13:19:41.038Z"
   },
   {
    "duration": 655,
    "start_time": "2022-01-23T13:19:55.670Z"
   },
   {
    "duration": 966,
    "start_time": "2022-01-23T13:22:19.684Z"
   },
   {
    "duration": 684,
    "start_time": "2022-01-23T13:22:43.940Z"
   },
   {
    "duration": 911,
    "start_time": "2022-01-23T13:23:04.910Z"
   },
   {
    "duration": 635,
    "start_time": "2022-01-23T13:23:22.836Z"
   },
   {
    "duration": 663,
    "start_time": "2022-01-23T13:23:37.684Z"
   },
   {
    "duration": 755,
    "start_time": "2022-01-23T13:24:08.891Z"
   },
   {
    "duration": 591,
    "start_time": "2022-01-23T13:24:30.338Z"
   },
   {
    "duration": 694,
    "start_time": "2022-01-23T13:25:17.162Z"
   },
   {
    "duration": 3,
    "start_time": "2022-01-23T13:27:05.596Z"
   },
   {
    "duration": 589,
    "start_time": "2022-01-23T13:27:11.904Z"
   },
   {
    "duration": 674,
    "start_time": "2022-01-23T13:29:28.447Z"
   },
   {
    "duration": 5,
    "start_time": "2022-01-23T13:30:00.231Z"
   },
   {
    "duration": 1108,
    "start_time": "2022-01-23T13:30:06.051Z"
   },
   {
    "duration": 4,
    "start_time": "2022-01-23T13:30:16.966Z"
   },
   {
    "duration": 4,
    "start_time": "2022-01-23T13:32:36.637Z"
   },
   {
    "duration": 1930,
    "start_time": "2022-01-23T13:32:50.404Z"
   },
   {
    "duration": 4,
    "start_time": "2022-01-23T13:33:52.327Z"
   },
   {
    "duration": 5,
    "start_time": "2022-01-23T13:34:00.781Z"
   },
   {
    "duration": 5,
    "start_time": "2022-01-23T13:34:24.100Z"
   },
   {
    "duration": 4,
    "start_time": "2022-01-23T13:34:35.963Z"
   },
   {
    "duration": 653,
    "start_time": "2022-01-23T13:34:36.264Z"
   },
   {
    "duration": 4,
    "start_time": "2022-01-23T13:35:01.268Z"
   },
   {
    "duration": 231,
    "start_time": "2022-01-23T13:35:17.764Z"
   },
   {
    "duration": 4,
    "start_time": "2022-01-23T13:35:37.331Z"
   },
   {
    "duration": 231,
    "start_time": "2022-01-23T13:35:38.211Z"
   },
   {
    "duration": 4,
    "start_time": "2022-01-23T13:35:51.643Z"
   },
   {
    "duration": 226,
    "start_time": "2022-01-23T13:35:54.267Z"
   },
   {
    "duration": 4,
    "start_time": "2022-01-23T13:35:57.683Z"
   },
   {
    "duration": 363,
    "start_time": "2022-01-23T13:36:00.722Z"
   },
   {
    "duration": 848,
    "start_time": "2022-01-23T13:40:27.544Z"
   },
   {
    "duration": 4,
    "start_time": "2022-01-23T13:40:39.896Z"
   },
   {
    "duration": 576,
    "start_time": "2022-01-23T13:40:43.183Z"
   },
   {
    "duration": 570,
    "start_time": "2022-01-23T13:41:13.799Z"
   },
   {
    "duration": 670,
    "start_time": "2022-01-23T13:41:50.159Z"
   },
   {
    "duration": 738,
    "start_time": "2022-01-23T13:42:10.671Z"
   },
   {
    "duration": 650,
    "start_time": "2022-01-23T13:42:28.191Z"
   },
   {
    "duration": 1388,
    "start_time": "2022-01-23T13:46:46.660Z"
   },
   {
    "duration": 81,
    "start_time": "2022-01-23T13:46:48.051Z"
   },
   {
    "duration": 11,
    "start_time": "2022-01-23T13:46:51.399Z"
   },
   {
    "duration": 14,
    "start_time": "2022-01-23T13:46:52.572Z"
   },
   {
    "duration": 46,
    "start_time": "2022-01-23T13:46:53.878Z"
   },
   {
    "duration": 377,
    "start_time": "2022-01-23T13:46:57.612Z"
   },
   {
    "duration": 368,
    "start_time": "2022-01-23T13:47:01.940Z"
   },
   {
    "duration": 417,
    "start_time": "2022-01-23T13:47:03.335Z"
   },
   {
    "duration": 16,
    "start_time": "2022-01-23T13:47:07.188Z"
   },
   {
    "duration": 459,
    "start_time": "2022-01-23T13:47:07.926Z"
   },
   {
    "duration": 300,
    "start_time": "2022-01-23T13:47:10.787Z"
   },
   {
    "duration": 3356,
    "start_time": "2022-01-23T13:47:17.031Z"
   },
   {
    "duration": 267,
    "start_time": "2022-01-23T13:47:20.819Z"
   },
   {
    "duration": 4,
    "start_time": "2022-01-23T13:47:23.739Z"
   },
   {
    "duration": 808,
    "start_time": "2022-01-23T13:47:24.692Z"
   },
   {
    "duration": 901,
    "start_time": "2022-01-23T13:47:58.221Z"
   },
   {
    "duration": 881,
    "start_time": "2022-01-23T13:48:10.648Z"
   },
   {
    "duration": 770,
    "start_time": "2022-01-23T13:48:26.884Z"
   },
   {
    "duration": 737,
    "start_time": "2022-01-23T13:48:45.539Z"
   },
   {
    "duration": 4,
    "start_time": "2022-01-23T13:48:52.843Z"
   },
   {
    "duration": 737,
    "start_time": "2022-01-23T13:48:53.499Z"
   },
   {
    "duration": 523,
    "start_time": "2022-01-23T13:49:49.547Z"
   },
   {
    "duration": 510,
    "start_time": "2022-01-23T13:50:06.811Z"
   },
   {
    "duration": 501,
    "start_time": "2022-01-23T13:50:22.491Z"
   },
   {
    "duration": 609,
    "start_time": "2022-01-23T13:50:31.840Z"
   },
   {
    "duration": 183,
    "start_time": "2022-01-23T13:52:56.369Z"
   },
   {
    "duration": 473,
    "start_time": "2022-01-23T13:58:18.302Z"
   },
   {
    "duration": 125,
    "start_time": "2022-01-23T13:58:40.351Z"
   },
   {
    "duration": 127,
    "start_time": "2022-01-23T14:01:20.660Z"
   },
   {
    "duration": 135,
    "start_time": "2022-01-23T14:02:21.710Z"
   },
   {
    "duration": 455,
    "start_time": "2022-01-23T14:06:27.992Z"
   },
   {
    "duration": 125,
    "start_time": "2022-01-23T14:06:47.568Z"
   },
   {
    "duration": 128,
    "start_time": "2022-01-23T14:06:58.073Z"
   },
   {
    "duration": 125,
    "start_time": "2022-01-23T14:07:05.968Z"
   },
   {
    "duration": 154,
    "start_time": "2022-01-23T14:09:19.615Z"
   },
   {
    "duration": 149,
    "start_time": "2022-01-23T14:09:31.262Z"
   },
   {
    "duration": 542,
    "start_time": "2022-01-23T14:09:38.030Z"
   },
   {
    "duration": 769,
    "start_time": "2022-01-23T14:10:03.190Z"
   },
   {
    "duration": 4,
    "start_time": "2022-01-23T14:10:08.151Z"
   },
   {
    "duration": 3424,
    "start_time": "2022-01-23T14:10:08.550Z"
   },
   {
    "duration": 900,
    "start_time": "2022-01-23T14:10:34.110Z"
   },
   {
    "duration": 117,
    "start_time": "2022-01-23T14:11:11.599Z"
   },
   {
    "duration": 119,
    "start_time": "2022-01-23T14:11:30.765Z"
   },
   {
    "duration": 3,
    "start_time": "2022-01-23T14:11:42.701Z"
   },
   {
    "duration": 4,
    "start_time": "2022-01-23T14:11:45.230Z"
   },
   {
    "duration": 45,
    "start_time": "2022-01-23T14:11:45.494Z"
   },
   {
    "duration": 46,
    "start_time": "2022-01-23T14:11:56.517Z"
   },
   {
    "duration": 3,
    "start_time": "2022-01-23T14:12:11.951Z"
   },
   {
    "duration": 118,
    "start_time": "2022-01-23T14:12:14.351Z"
   },
   {
    "duration": 271,
    "start_time": "2022-01-23T14:12:53.605Z"
   },
   {
    "duration": 265,
    "start_time": "2022-01-23T14:13:04.037Z"
   },
   {
    "duration": 264,
    "start_time": "2022-01-23T14:13:09.596Z"
   },
   {
    "duration": 304,
    "start_time": "2022-01-23T14:13:56.052Z"
   },
   {
    "duration": 293,
    "start_time": "2022-01-23T14:14:07.387Z"
   },
   {
    "duration": 640,
    "start_time": "2022-01-23T14:14:15.532Z"
   },
   {
    "duration": 265,
    "start_time": "2022-01-23T14:14:20.492Z"
   },
   {
    "duration": 284,
    "start_time": "2022-01-23T14:14:47.965Z"
   },
   {
    "duration": 683,
    "start_time": "2022-01-23T14:15:02.980Z"
   },
   {
    "duration": 130,
    "start_time": "2022-01-23T14:15:28.059Z"
   },
   {
    "duration": 96,
    "start_time": "2022-01-23T14:15:43.187Z"
   },
   {
    "duration": 145,
    "start_time": "2022-01-23T14:16:14.692Z"
   },
   {
    "duration": 518,
    "start_time": "2022-01-23T14:22:37.361Z"
   },
   {
    "duration": 504,
    "start_time": "2022-01-23T14:22:47.111Z"
   },
   {
    "duration": 453,
    "start_time": "2022-01-23T14:23:03.474Z"
   },
   {
    "duration": 480,
    "start_time": "2022-01-23T14:23:21.454Z"
   },
   {
    "duration": 48,
    "start_time": "2022-01-23T14:23:27.727Z"
   },
   {
    "duration": 118,
    "start_time": "2022-01-23T14:24:20.905Z"
   },
   {
    "duration": 7,
    "start_time": "2022-01-23T14:24:37.170Z"
   },
   {
    "duration": 4,
    "start_time": "2022-01-23T14:24:39.566Z"
   },
   {
    "duration": 48,
    "start_time": "2022-01-23T14:24:39.790Z"
   },
   {
    "duration": 3,
    "start_time": "2022-01-23T14:24:56.398Z"
   },
   {
    "duration": 50,
    "start_time": "2022-01-23T14:25:06.248Z"
   },
   {
    "duration": 3,
    "start_time": "2022-01-23T14:25:27.830Z"
   },
   {
    "duration": 53,
    "start_time": "2022-01-23T14:25:29.645Z"
   },
   {
    "duration": 508,
    "start_time": "2022-01-23T14:26:08.357Z"
   },
   {
    "duration": 463,
    "start_time": "2022-01-23T14:26:22.937Z"
   },
   {
    "duration": 453,
    "start_time": "2022-01-23T14:26:34.629Z"
   },
   {
    "duration": 446,
    "start_time": "2022-01-23T14:26:49.497Z"
   },
   {
    "duration": 65,
    "start_time": "2022-01-23T14:27:00.901Z"
   },
   {
    "duration": 66,
    "start_time": "2022-01-23T14:27:34.523Z"
   },
   {
    "duration": 56,
    "start_time": "2022-01-23T14:28:26.027Z"
   },
   {
    "duration": 4,
    "start_time": "2022-01-23T14:28:32.546Z"
   },
   {
    "duration": 863,
    "start_time": "2022-01-23T14:28:33.356Z"
   },
   {
    "duration": 4,
    "start_time": "2022-01-23T14:28:40.940Z"
   },
   {
    "duration": 569,
    "start_time": "2022-01-23T14:28:43.571Z"
   },
   {
    "duration": 3,
    "start_time": "2022-01-23T14:29:09.276Z"
   },
   {
    "duration": 3,
    "start_time": "2022-01-23T14:29:34.476Z"
   },
   {
    "duration": 4,
    "start_time": "2022-01-23T14:30:12.971Z"
   },
   {
    "duration": 4,
    "start_time": "2022-01-23T14:30:23.003Z"
   },
   {
    "duration": 3,
    "start_time": "2022-01-23T14:31:10.186Z"
   },
   {
    "duration": 53,
    "start_time": "2022-01-23T14:31:15.762Z"
   },
   {
    "duration": 53,
    "start_time": "2022-01-23T14:31:25.642Z"
   },
   {
    "duration": 558,
    "start_time": "2022-01-23T14:31:48.559Z"
   },
   {
    "duration": 77,
    "start_time": "2022-01-23T14:32:05.818Z"
   },
   {
    "duration": 56,
    "start_time": "2022-01-23T14:33:00.810Z"
   },
   {
    "duration": 58,
    "start_time": "2022-01-23T14:33:06.569Z"
   },
   {
    "duration": 56,
    "start_time": "2022-01-23T14:33:12.643Z"
   },
   {
    "duration": 59,
    "start_time": "2022-01-23T14:33:17.801Z"
   },
   {
    "duration": 64,
    "start_time": "2022-01-23T14:33:25.072Z"
   },
   {
    "duration": 483,
    "start_time": "2022-01-23T14:34:46.923Z"
   },
   {
    "duration": 63,
    "start_time": "2022-01-23T14:35:20.386Z"
   },
   {
    "duration": 407,
    "start_time": "2022-01-23T14:35:36.599Z"
   },
   {
    "duration": 64,
    "start_time": "2022-01-23T14:35:49.320Z"
   },
   {
    "duration": 297,
    "start_time": "2022-01-23T14:41:33.019Z"
   },
   {
    "duration": 605,
    "start_time": "2022-01-23T14:42:07.067Z"
   },
   {
    "duration": 723,
    "start_time": "2022-01-23T14:45:56.395Z"
   },
   {
    "duration": 388,
    "start_time": "2022-01-23T14:46:09.793Z"
   },
   {
    "duration": 623,
    "start_time": "2022-01-23T14:46:32.325Z"
   },
   {
    "duration": 629,
    "start_time": "2022-01-23T14:50:20.135Z"
   },
   {
    "duration": 601,
    "start_time": "2022-01-23T14:50:47.286Z"
   },
   {
    "duration": 771,
    "start_time": "2022-01-23T14:51:01.649Z"
   },
   {
    "duration": 695,
    "start_time": "2022-01-23T14:51:06.607Z"
   },
   {
    "duration": 589,
    "start_time": "2022-01-23T14:52:02.563Z"
   },
   {
    "duration": 616,
    "start_time": "2022-01-23T14:52:36.541Z"
   },
   {
    "duration": 651,
    "start_time": "2022-01-23T14:52:48.933Z"
   },
   {
    "duration": 564,
    "start_time": "2022-01-23T14:53:00.719Z"
   },
   {
    "duration": 752,
    "start_time": "2022-01-23T14:53:04.624Z"
   },
   {
    "duration": 605,
    "start_time": "2022-01-23T14:53:08.861Z"
   },
   {
    "duration": 583,
    "start_time": "2022-01-23T14:53:15.060Z"
   },
   {
    "duration": 587,
    "start_time": "2022-01-23T14:53:19.564Z"
   },
   {
    "duration": 3,
    "start_time": "2022-01-23T14:53:34.530Z"
   },
   {
    "duration": 641,
    "start_time": "2022-01-23T14:53:35.172Z"
   },
   {
    "duration": 590,
    "start_time": "2022-01-23T14:53:38.988Z"
   },
   {
    "duration": 617,
    "start_time": "2022-01-23T14:54:11.803Z"
   },
   {
    "duration": 678,
    "start_time": "2022-01-23T14:54:31.839Z"
   },
   {
    "duration": 638,
    "start_time": "2022-01-23T14:54:40.829Z"
   },
   {
    "duration": 743,
    "start_time": "2022-01-23T14:54:45.127Z"
   },
   {
    "duration": 1114,
    "start_time": "2022-01-23T14:57:08.163Z"
   },
   {
    "duration": 345,
    "start_time": "2022-01-23T14:57:19.613Z"
   },
   {
    "duration": 847,
    "start_time": "2022-01-23T14:57:49.154Z"
   },
   {
    "duration": 672,
    "start_time": "2022-01-23T14:58:09.841Z"
   },
   {
    "duration": 667,
    "start_time": "2022-01-23T14:58:23.321Z"
   },
   {
    "duration": 1033,
    "start_time": "2022-01-23T14:58:35.945Z"
   },
   {
    "duration": 738,
    "start_time": "2022-01-23T15:00:00.681Z"
   },
   {
    "duration": 5,
    "start_time": "2022-01-23T15:01:40.560Z"
   },
   {
    "duration": 740,
    "start_time": "2022-01-23T15:01:41.263Z"
   },
   {
    "duration": 921,
    "start_time": "2022-01-23T15:01:56.848Z"
   },
   {
    "duration": 5,
    "start_time": "2022-01-23T15:02:16.530Z"
   },
   {
    "duration": 714,
    "start_time": "2022-01-23T15:02:18.295Z"
   },
   {
    "duration": 1075,
    "start_time": "2022-01-23T15:02:26.359Z"
   },
   {
    "duration": 3,
    "start_time": "2022-01-23T15:02:36.799Z"
   },
   {
    "duration": 3168,
    "start_time": "2022-01-23T15:02:38.934Z"
   },
   {
    "duration": 4,
    "start_time": "2022-01-23T15:03:11.918Z"
   },
   {
    "duration": 4,
    "start_time": "2022-01-23T15:03:17.786Z"
   },
   {
    "duration": 1160,
    "start_time": "2022-01-23T15:03:17.809Z"
   },
   {
    "duration": 4,
    "start_time": "2022-01-23T15:03:34.541Z"
   },
   {
    "duration": 4,
    "start_time": "2022-01-23T15:03:38.248Z"
   },
   {
    "duration": 1090,
    "start_time": "2022-01-23T15:03:38.694Z"
   },
   {
    "duration": 4,
    "start_time": "2022-01-23T15:03:58.141Z"
   },
   {
    "duration": 1269,
    "start_time": "2022-01-23T15:04:03.326Z"
   },
   {
    "duration": 3,
    "start_time": "2022-01-23T15:05:15.709Z"
   },
   {
    "duration": 1198,
    "start_time": "2022-01-23T15:05:20.237Z"
   },
   {
    "duration": 4,
    "start_time": "2022-01-23T15:06:07.029Z"
   },
   {
    "duration": 1126,
    "start_time": "2022-01-23T15:06:24.454Z"
   },
   {
    "duration": 4,
    "start_time": "2022-01-23T15:15:42.734Z"
   },
   {
    "duration": 1000,
    "start_time": "2022-01-23T15:15:46.903Z"
   },
   {
    "duration": 3,
    "start_time": "2022-01-23T15:16:03.753Z"
   },
   {
    "duration": 1140,
    "start_time": "2022-01-23T15:16:06.201Z"
   },
   {
    "duration": 3,
    "start_time": "2022-01-23T15:16:16.090Z"
   },
   {
    "duration": 441,
    "start_time": "2022-01-23T15:16:18.086Z"
   },
   {
    "duration": 4,
    "start_time": "2022-01-23T15:16:35.606Z"
   },
   {
    "duration": 189,
    "start_time": "2022-01-23T15:16:37.521Z"
   },
   {
    "duration": 4,
    "start_time": "2022-01-23T15:19:45.812Z"
   },
   {
    "duration": 10159,
    "start_time": "2022-01-23T15:19:48.470Z"
   },
   {
    "duration": 3,
    "start_time": "2022-01-23T15:20:17.540Z"
   },
   {
    "duration": 4,
    "start_time": "2022-01-23T15:20:25.588Z"
   },
   {
    "duration": 214,
    "start_time": "2022-01-23T15:20:26.060Z"
   },
   {
    "duration": 4,
    "start_time": "2022-01-23T15:20:49.739Z"
   },
   {
    "duration": 1022,
    "start_time": "2022-01-23T15:20:50.172Z"
   },
   {
    "duration": 4,
    "start_time": "2022-01-23T15:21:02.435Z"
   },
   {
    "duration": 1384,
    "start_time": "2022-01-23T15:21:02.995Z"
   },
   {
    "duration": 4,
    "start_time": "2022-01-23T15:22:26.876Z"
   },
   {
    "duration": 1004,
    "start_time": "2022-01-23T15:22:29.270Z"
   },
   {
    "duration": 4,
    "start_time": "2022-01-23T15:22:46.162Z"
   },
   {
    "duration": 1100,
    "start_time": "2022-01-23T15:22:46.674Z"
   },
   {
    "duration": 4,
    "start_time": "2022-01-23T15:23:42.954Z"
   },
   {
    "duration": 1181,
    "start_time": "2022-01-23T15:23:45.529Z"
   },
   {
    "duration": 4,
    "start_time": "2022-01-23T15:23:54.148Z"
   },
   {
    "duration": 1066,
    "start_time": "2022-01-23T15:23:55.951Z"
   },
   {
    "duration": 5,
    "start_time": "2022-01-23T15:24:02.859Z"
   },
   {
    "duration": 1204,
    "start_time": "2022-01-23T15:24:16.564Z"
   },
   {
    "duration": 80,
    "start_time": "2022-01-23T15:24:17.770Z"
   },
   {
    "duration": 14,
    "start_time": "2022-01-23T15:24:19.129Z"
   },
   {
    "duration": 16,
    "start_time": "2022-01-23T15:24:19.579Z"
   },
   {
    "duration": 46,
    "start_time": "2022-01-23T15:24:20.559Z"
   },
   {
    "duration": 386,
    "start_time": "2022-01-23T15:24:22.024Z"
   },
   {
    "duration": 359,
    "start_time": "2022-01-23T15:24:25.509Z"
   },
   {
    "duration": 406,
    "start_time": "2022-01-23T15:24:26.258Z"
   },
   {
    "duration": 16,
    "start_time": "2022-01-23T15:24:29.124Z"
   },
   {
    "duration": 507,
    "start_time": "2022-01-23T15:24:29.977Z"
   },
   {
    "duration": 302,
    "start_time": "2022-01-23T15:24:31.876Z"
   },
   {
    "duration": 3624,
    "start_time": "2022-01-23T15:24:34.459Z"
   },
   {
    "duration": 227,
    "start_time": "2022-01-23T15:24:38.084Z"
   },
   {
    "duration": 4,
    "start_time": "2022-01-23T15:24:39.368Z"
   },
   {
    "duration": 1270,
    "start_time": "2022-01-23T15:24:40.626Z"
   },
   {
    "duration": 4,
    "start_time": "2022-01-23T15:24:58.341Z"
   },
   {
    "duration": 1176,
    "start_time": "2022-01-23T15:25:00.697Z"
   },
   {
    "duration": 4,
    "start_time": "2022-01-23T15:25:24.202Z"
   },
   {
    "duration": 286,
    "start_time": "2022-01-23T15:25:25.634Z"
   },
   {
    "duration": 5,
    "start_time": "2022-01-23T15:25:40.843Z"
   },
   {
    "duration": 193,
    "start_time": "2022-01-23T15:25:42.940Z"
   },
   {
    "duration": 765,
    "start_time": "2022-01-23T15:26:05.872Z"
   },
   {
    "duration": 738,
    "start_time": "2022-01-23T15:26:22.625Z"
   },
   {
    "duration": 420,
    "start_time": "2022-01-23T15:27:10.194Z"
   },
   {
    "duration": 4,
    "start_time": "2022-01-23T15:31:21.423Z"
   },
   {
    "duration": 213,
    "start_time": "2022-01-23T15:31:24.084Z"
   },
   {
    "duration": 4,
    "start_time": "2022-01-23T15:31:50.727Z"
   },
   {
    "duration": 322,
    "start_time": "2022-01-23T15:31:52.252Z"
   },
   {
    "duration": 4,
    "start_time": "2022-01-23T15:33:26.508Z"
   },
   {
    "duration": 1002,
    "start_time": "2022-01-23T15:33:26.871Z"
   },
   {
    "duration": 4,
    "start_time": "2022-01-23T15:34:04.515Z"
   },
   {
    "duration": 1020,
    "start_time": "2022-01-23T15:34:06.613Z"
   },
   {
    "duration": 4,
    "start_time": "2022-01-23T15:34:35.175Z"
   },
   {
    "duration": 1063,
    "start_time": "2022-01-23T15:34:36.573Z"
   },
   {
    "duration": 4,
    "start_time": "2022-01-23T15:34:48.323Z"
   },
   {
    "duration": 1008,
    "start_time": "2022-01-23T15:34:48.787Z"
   },
   {
    "duration": 4,
    "start_time": "2022-01-23T15:35:08.611Z"
   },
   {
    "duration": 4343,
    "start_time": "2022-01-23T15:35:09.411Z"
   },
   {
    "duration": 4,
    "start_time": "2022-01-23T15:35:31.344Z"
   },
   {
    "duration": 4592,
    "start_time": "2022-01-23T15:35:31.445Z"
   },
   {
    "duration": 5,
    "start_time": "2022-01-23T15:35:45.330Z"
   },
   {
    "duration": 1951,
    "start_time": "2022-01-23T15:35:46.225Z"
   },
   {
    "duration": 3,
    "start_time": "2022-01-23T15:36:02.269Z"
   },
   {
    "duration": 1247,
    "start_time": "2022-01-23T15:36:02.802Z"
   },
   {
    "duration": 4,
    "start_time": "2022-01-23T15:36:16.003Z"
   },
   {
    "duration": 196,
    "start_time": "2022-01-23T15:36:16.450Z"
   },
   {
    "duration": 4,
    "start_time": "2022-01-23T15:36:41.369Z"
   },
   {
    "duration": 212,
    "start_time": "2022-01-23T15:36:41.650Z"
   },
   {
    "duration": 5,
    "start_time": "2022-01-23T15:36:56.763Z"
   },
   {
    "duration": 9307,
    "start_time": "2022-01-23T15:36:58.312Z"
   },
   {
    "duration": 4,
    "start_time": "2022-01-23T15:39:08.688Z"
   },
   {
    "duration": 324,
    "start_time": "2022-01-23T15:39:10.480Z"
   },
   {
    "duration": 3,
    "start_time": "2022-01-23T15:44:05.950Z"
   },
   {
    "duration": 984,
    "start_time": "2022-01-23T15:44:07.764Z"
   },
   {
    "duration": 4,
    "start_time": "2022-01-23T15:44:29.938Z"
   },
   {
    "duration": 953,
    "start_time": "2022-01-23T15:44:32.163Z"
   },
   {
    "duration": 4,
    "start_time": "2022-01-23T15:44:45.285Z"
   },
   {
    "duration": 946,
    "start_time": "2022-01-23T15:44:45.700Z"
   },
   {
    "duration": 4,
    "start_time": "2022-01-23T15:47:11.259Z"
   },
   {
    "duration": 201,
    "start_time": "2022-01-23T15:47:12.177Z"
   },
   {
    "duration": 4,
    "start_time": "2022-01-23T15:47:27.429Z"
   },
   {
    "duration": 1142,
    "start_time": "2022-01-23T15:47:28.360Z"
   },
   {
    "duration": 4,
    "start_time": "2022-01-23T15:48:49.515Z"
   },
   {
    "duration": 1100,
    "start_time": "2022-01-23T15:48:50.210Z"
   },
   {
    "duration": 4,
    "start_time": "2022-01-23T15:49:03.458Z"
   },
   {
    "duration": 190,
    "start_time": "2022-01-23T15:49:03.786Z"
   },
   {
    "duration": 4,
    "start_time": "2022-01-23T15:49:13.426Z"
   },
   {
    "duration": 1039,
    "start_time": "2022-01-23T15:49:13.772Z"
   },
   {
    "duration": 4,
    "start_time": "2022-01-23T15:49:45.694Z"
   },
   {
    "duration": 959,
    "start_time": "2022-01-23T15:49:45.969Z"
   },
   {
    "duration": 5,
    "start_time": "2022-01-23T15:52:07.000Z"
   },
   {
    "duration": 951,
    "start_time": "2022-01-23T15:52:07.411Z"
   },
   {
    "duration": 4,
    "start_time": "2022-01-23T15:52:48.799Z"
   },
   {
    "duration": 1358,
    "start_time": "2022-01-23T15:52:49.631Z"
   },
   {
    "duration": 4,
    "start_time": "2022-01-23T15:54:33.500Z"
   },
   {
    "duration": 975,
    "start_time": "2022-01-23T15:54:34.046Z"
   },
   {
    "duration": 4,
    "start_time": "2022-01-23T15:55:01.823Z"
   },
   {
    "duration": 197,
    "start_time": "2022-01-23T15:55:02.071Z"
   },
   {
    "duration": 4,
    "start_time": "2022-01-23T15:55:25.950Z"
   },
   {
    "duration": 1146,
    "start_time": "2022-01-23T15:55:26.861Z"
   },
   {
    "duration": 3,
    "start_time": "2022-01-23T15:55:34.845Z"
   },
   {
    "duration": 1209,
    "start_time": "2022-01-23T15:55:35.231Z"
   },
   {
    "duration": 4,
    "start_time": "2022-01-23T15:55:44.093Z"
   },
   {
    "duration": 210,
    "start_time": "2022-01-23T15:55:44.533Z"
   },
   {
    "duration": 116,
    "start_time": "2022-01-23T15:57:53.956Z"
   },
   {
    "duration": 4,
    "start_time": "2022-01-23T15:58:00.851Z"
   },
   {
    "duration": 153,
    "start_time": "2022-01-23T15:58:01.611Z"
   },
   {
    "duration": 4,
    "start_time": "2022-01-23T15:58:21.963Z"
   },
   {
    "duration": 9452,
    "start_time": "2022-01-23T15:58:22.843Z"
   },
   {
    "duration": 4,
    "start_time": "2022-01-23T15:59:06.323Z"
   },
   {
    "duration": 984,
    "start_time": "2022-01-23T15:59:06.787Z"
   },
   {
    "duration": 3,
    "start_time": "2022-01-23T15:59:23.099Z"
   },
   {
    "duration": 198,
    "start_time": "2022-01-23T15:59:23.387Z"
   },
   {
    "duration": 4,
    "start_time": "2022-01-23T16:00:38.474Z"
   },
   {
    "duration": 1136,
    "start_time": "2022-01-23T16:00:38.717Z"
   },
   {
    "duration": 5,
    "start_time": "2022-01-23T16:01:22.722Z"
   },
   {
    "duration": 1000,
    "start_time": "2022-01-23T16:01:22.990Z"
   },
   {
    "duration": 4,
    "start_time": "2022-01-23T16:04:59.345Z"
   },
   {
    "duration": 1014,
    "start_time": "2022-01-23T16:04:59.681Z"
   },
   {
    "duration": 111,
    "start_time": "2022-01-23T16:07:18.076Z"
   },
   {
    "duration": 1078,
    "start_time": "2022-01-23T16:07:19.040Z"
   },
   {
    "duration": 3,
    "start_time": "2022-01-23T16:07:26.487Z"
   },
   {
    "duration": 188,
    "start_time": "2022-01-23T16:07:26.742Z"
   },
   {
    "duration": 1074,
    "start_time": "2022-01-23T16:08:19.966Z"
   },
   {
    "duration": 201,
    "start_time": "2022-01-23T16:10:35.400Z"
   },
   {
    "duration": 199,
    "start_time": "2022-01-23T16:12:13.493Z"
   },
   {
    "duration": 352,
    "start_time": "2022-01-23T16:12:47.516Z"
   },
   {
    "duration": 1051,
    "start_time": "2022-01-23T16:13:30.875Z"
   },
   {
    "duration": 196,
    "start_time": "2022-01-23T16:14:16.204Z"
   },
   {
    "duration": 4,
    "start_time": "2022-01-23T16:15:50.290Z"
   },
   {
    "duration": 187,
    "start_time": "2022-01-23T16:15:51.154Z"
   },
   {
    "duration": 200,
    "start_time": "2022-01-23T16:15:52.696Z"
   },
   {
    "duration": 198,
    "start_time": "2022-01-23T16:15:55.865Z"
   },
   {
    "duration": 198,
    "start_time": "2022-01-23T16:16:08.841Z"
   },
   {
    "duration": 4,
    "start_time": "2022-01-23T16:16:16.385Z"
   },
   {
    "duration": 303,
    "start_time": "2022-01-23T16:16:18.383Z"
   },
   {
    "duration": 200,
    "start_time": "2022-01-23T16:16:20.208Z"
   },
   {
    "duration": 189,
    "start_time": "2022-01-23T16:16:22.448Z"
   },
   {
    "duration": 1134,
    "start_time": "2022-01-23T16:16:44.323Z"
   },
   {
    "duration": 57,
    "start_time": "2022-01-23T16:16:45.459Z"
   },
   {
    "duration": 12,
    "start_time": "2022-01-23T16:16:47.835Z"
   },
   {
    "duration": 15,
    "start_time": "2022-01-23T16:16:48.432Z"
   },
   {
    "duration": 45,
    "start_time": "2022-01-23T16:16:50.131Z"
   },
   {
    "duration": 374,
    "start_time": "2022-01-23T16:16:53.065Z"
   },
   {
    "duration": 359,
    "start_time": "2022-01-23T16:16:57.512Z"
   },
   {
    "duration": 408,
    "start_time": "2022-01-23T16:16:58.186Z"
   },
   {
    "duration": 15,
    "start_time": "2022-01-23T16:17:01.000Z"
   },
   {
    "duration": 477,
    "start_time": "2022-01-23T16:17:01.618Z"
   },
   {
    "duration": 298,
    "start_time": "2022-01-23T16:17:04.817Z"
   },
   {
    "duration": 3120,
    "start_time": "2022-01-23T16:17:07.955Z"
   },
   {
    "duration": 209,
    "start_time": "2022-01-23T16:17:13.113Z"
   },
   {
    "duration": 4,
    "start_time": "2022-01-23T16:17:16.443Z"
   },
   {
    "duration": 267,
    "start_time": "2022-01-23T16:17:18.032Z"
   },
   {
    "duration": 780,
    "start_time": "2022-01-23T16:17:20.480Z"
   },
   {
    "duration": 186,
    "start_time": "2022-01-23T16:17:23.200Z"
   },
   {
    "duration": 195,
    "start_time": "2022-01-23T16:17:38.274Z"
   },
   {
    "duration": 192,
    "start_time": "2022-01-23T16:17:54.000Z"
   },
   {
    "duration": 22,
    "start_time": "2022-01-23T16:18:01.585Z"
   },
   {
    "duration": 6,
    "start_time": "2022-01-23T16:22:30.972Z"
   },
   {
    "duration": 1111,
    "start_time": "2022-01-23T16:23:31.925Z"
   },
   {
    "duration": 56,
    "start_time": "2022-01-23T16:23:33.037Z"
   },
   {
    "duration": 11,
    "start_time": "2022-01-23T16:23:34.620Z"
   },
   {
    "duration": 16,
    "start_time": "2022-01-23T16:23:35.043Z"
   },
   {
    "duration": 48,
    "start_time": "2022-01-23T16:23:35.967Z"
   },
   {
    "duration": 413,
    "start_time": "2022-01-23T16:23:37.172Z"
   },
   {
    "duration": 353,
    "start_time": "2022-01-23T16:23:39.359Z"
   },
   {
    "duration": 417,
    "start_time": "2022-01-23T16:23:39.714Z"
   },
   {
    "duration": 15,
    "start_time": "2022-01-23T16:23:40.682Z"
   },
   {
    "duration": 1112,
    "start_time": "2022-01-23T16:24:00.562Z"
   },
   {
    "duration": 63,
    "start_time": "2022-01-23T16:24:01.675Z"
   },
   {
    "duration": 11,
    "start_time": "2022-01-23T16:24:02.191Z"
   },
   {
    "duration": 17,
    "start_time": "2022-01-23T16:24:02.511Z"
   },
   {
    "duration": 48,
    "start_time": "2022-01-23T16:24:03.080Z"
   },
   {
    "duration": 381,
    "start_time": "2022-01-23T16:24:03.873Z"
   },
   {
    "duration": 361,
    "start_time": "2022-01-23T16:24:05.167Z"
   },
   {
    "duration": 523,
    "start_time": "2022-01-23T16:24:05.530Z"
   },
   {
    "duration": 15,
    "start_time": "2022-01-23T16:24:06.101Z"
   },
   {
    "duration": 466,
    "start_time": "2022-01-23T16:24:06.293Z"
   },
   {
    "duration": 295,
    "start_time": "2022-01-23T16:24:07.021Z"
   },
   {
    "duration": 3675,
    "start_time": "2022-01-23T16:24:07.799Z"
   },
   {
    "duration": 234,
    "start_time": "2022-01-23T16:24:11.477Z"
   },
   {
    "duration": 15,
    "start_time": "2022-01-23T16:24:11.713Z"
   },
   {
    "duration": 307,
    "start_time": "2022-01-23T16:24:11.730Z"
   },
   {
    "duration": 219,
    "start_time": "2022-01-23T16:24:12.039Z"
   },
   {
    "duration": 205,
    "start_time": "2022-01-23T16:24:12.260Z"
   },
   {
    "duration": 23,
    "start_time": "2022-01-23T16:24:12.467Z"
   },
   {
    "duration": 7,
    "start_time": "2022-01-23T16:24:12.493Z"
   },
   {
    "duration": 4,
    "start_time": "2022-01-23T16:27:38.581Z"
   },
   {
    "duration": 199,
    "start_time": "2022-01-23T16:27:39.031Z"
   },
   {
    "duration": 192,
    "start_time": "2022-01-23T16:27:40.684Z"
   },
   {
    "duration": 188,
    "start_time": "2022-01-23T16:27:42.140Z"
   },
   {
    "duration": 98,
    "start_time": "2022-01-23T16:27:45.366Z"
   },
   {
    "duration": 6,
    "start_time": "2022-01-23T16:27:48.127Z"
   },
   {
    "duration": 432,
    "start_time": "2022-01-23T16:36:43.291Z"
   },
   {
    "duration": 6,
    "start_time": "2022-01-23T16:37:04.387Z"
   },
   {
    "duration": 7,
    "start_time": "2022-01-23T16:37:31.632Z"
   },
   {
    "duration": 6,
    "start_time": "2022-01-23T16:38:40.746Z"
   },
   {
    "duration": 7,
    "start_time": "2022-01-23T16:39:16.048Z"
   },
   {
    "duration": 1123,
    "start_time": "2022-01-23T16:49:53.039Z"
   },
   {
    "duration": 56,
    "start_time": "2022-01-23T16:49:54.164Z"
   },
   {
    "duration": 11,
    "start_time": "2022-01-23T16:49:54.221Z"
   },
   {
    "duration": 20,
    "start_time": "2022-01-23T16:49:54.233Z"
   },
   {
    "duration": 45,
    "start_time": "2022-01-23T16:49:54.377Z"
   },
   {
    "duration": 372,
    "start_time": "2022-01-23T16:49:55.395Z"
   },
   {
    "duration": 368,
    "start_time": "2022-01-23T16:49:56.489Z"
   },
   {
    "duration": 414,
    "start_time": "2022-01-23T16:49:56.859Z"
   },
   {
    "duration": 15,
    "start_time": "2022-01-23T16:49:57.459Z"
   },
   {
    "duration": 462,
    "start_time": "2022-01-23T16:49:57.660Z"
   },
   {
    "duration": 299,
    "start_time": "2022-01-23T16:49:58.491Z"
   },
   {
    "duration": 3206,
    "start_time": "2022-01-23T16:49:59.356Z"
   },
   {
    "duration": 218,
    "start_time": "2022-01-23T16:50:02.564Z"
   },
   {
    "duration": 4,
    "start_time": "2022-01-23T16:50:03.642Z"
   },
   {
    "duration": 272,
    "start_time": "2022-01-23T16:50:03.987Z"
   },
   {
    "duration": 193,
    "start_time": "2022-01-23T16:50:04.836Z"
   },
   {
    "duration": 188,
    "start_time": "2022-01-23T16:50:05.691Z"
   },
   {
    "duration": 20,
    "start_time": "2022-01-23T16:50:07.525Z"
   },
   {
    "duration": 7,
    "start_time": "2022-01-23T16:50:08.733Z"
   },
   {
    "duration": 4,
    "start_time": "2022-01-23T16:54:25.786Z"
   },
   {
    "duration": 212,
    "start_time": "2022-01-23T16:54:29.610Z"
   },
   {
    "duration": 280,
    "start_time": "2022-01-23T16:54:39.234Z"
   },
   {
    "duration": 201,
    "start_time": "2022-01-23T16:54:41.667Z"
   },
   {
    "duration": 5,
    "start_time": "2022-01-23T16:55:53.955Z"
   },
   {
    "duration": 1171,
    "start_time": "2022-01-23T16:55:56.482Z"
   },
   {
    "duration": 5,
    "start_time": "2022-01-23T16:57:23.576Z"
   },
   {
    "duration": 1162,
    "start_time": "2022-01-23T16:57:25.139Z"
   },
   {
    "duration": 4,
    "start_time": "2022-01-23T16:58:27.393Z"
   },
   {
    "duration": 1211,
    "start_time": "2022-01-23T16:58:28.798Z"
   },
   {
    "duration": 4,
    "start_time": "2022-01-23T16:58:39.792Z"
   },
   {
    "duration": 1266,
    "start_time": "2022-01-23T16:58:40.583Z"
   },
   {
    "duration": 4,
    "start_time": "2022-01-23T16:59:56.727Z"
   },
   {
    "duration": 215,
    "start_time": "2022-01-23T16:59:57.902Z"
   },
   {
    "duration": 114,
    "start_time": "2022-01-23T17:01:26.661Z"
   },
   {
    "duration": 4,
    "start_time": "2022-01-23T17:01:53.445Z"
   },
   {
    "duration": 5163,
    "start_time": "2022-01-23T17:01:56.437Z"
   },
   {
    "duration": 5421,
    "start_time": "2022-01-23T17:02:07.023Z"
   },
   {
    "duration": -199,
    "start_time": "2022-01-23T17:02:12.645Z"
   },
   {
    "duration": -200,
    "start_time": "2022-01-23T17:02:12.646Z"
   },
   {
    "duration": 4,
    "start_time": "2022-01-23T17:02:38.524Z"
   },
   {
    "duration": 1252,
    "start_time": "2022-01-23T17:02:40.147Z"
   },
   {
    "duration": 5,
    "start_time": "2022-01-23T17:03:56.779Z"
   },
   {
    "duration": 217,
    "start_time": "2022-01-23T17:03:57.210Z"
   },
   {
    "duration": 228,
    "start_time": "2022-01-23T17:03:58.019Z"
   },
   {
    "duration": 216,
    "start_time": "2022-01-23T17:03:58.993Z"
   },
   {
    "duration": 97,
    "start_time": "2022-01-23T17:04:00.237Z"
   },
   {
    "duration": 6,
    "start_time": "2022-01-23T17:04:01.244Z"
   },
   {
    "duration": 5,
    "start_time": "2022-01-23T17:32:47.193Z"
   },
   {
    "duration": 1041,
    "start_time": "2022-01-23T17:32:50.152Z"
   },
   {
    "duration": 4,
    "start_time": "2022-01-23T17:33:01.849Z"
   },
   {
    "duration": 1058,
    "start_time": "2022-01-23T17:33:03.104Z"
   },
   {
    "duration": 4,
    "start_time": "2022-01-23T17:33:28.688Z"
   },
   {
    "duration": 1232,
    "start_time": "2022-01-23T17:33:30.057Z"
   },
   {
    "duration": 5,
    "start_time": "2022-01-23T17:34:16.386Z"
   },
   {
    "duration": 1016,
    "start_time": "2022-01-23T17:34:17.391Z"
   },
   {
    "duration": 4,
    "start_time": "2022-01-23T17:34:39.159Z"
   },
   {
    "duration": 1094,
    "start_time": "2022-01-23T17:34:39.895Z"
   },
   {
    "duration": 5,
    "start_time": "2022-01-23T17:35:51.263Z"
   },
   {
    "duration": 2017,
    "start_time": "2022-01-23T17:35:51.678Z"
   },
   {
    "duration": 6,
    "start_time": "2022-01-23T17:36:06.000Z"
   },
   {
    "duration": 1148,
    "start_time": "2022-01-23T17:36:06.557Z"
   },
   {
    "duration": 4,
    "start_time": "2022-01-23T17:39:38.048Z"
   },
   {
    "duration": 5,
    "start_time": "2022-01-23T17:39:43.140Z"
   },
   {
    "duration": 4,
    "start_time": "2022-01-23T17:40:00.156Z"
   },
   {
    "duration": 383,
    "start_time": "2022-01-23T17:40:01.437Z"
   },
   {
    "duration": 7,
    "start_time": "2022-01-23T17:41:54.459Z"
   },
   {
    "duration": 1018,
    "start_time": "2022-01-23T17:41:55.786Z"
   },
   {
    "duration": 1003,
    "start_time": "2022-01-23T17:42:13.984Z"
   },
   {
    "duration": 1112,
    "start_time": "2022-01-23T17:42:29.888Z"
   },
   {
    "duration": 58,
    "start_time": "2022-01-23T17:42:32.014Z"
   },
   {
    "duration": 11,
    "start_time": "2022-01-23T17:42:32.073Z"
   },
   {
    "duration": 15,
    "start_time": "2022-01-23T17:42:32.418Z"
   },
   {
    "duration": 45,
    "start_time": "2022-01-23T17:42:33.460Z"
   },
   {
    "duration": 376,
    "start_time": "2022-01-23T17:42:34.944Z"
   },
   {
    "duration": 356,
    "start_time": "2022-01-23T17:42:37.236Z"
   },
   {
    "duration": 416,
    "start_time": "2022-01-23T17:42:37.884Z"
   },
   {
    "duration": 16,
    "start_time": "2022-01-23T17:42:40.072Z"
   },
   {
    "duration": 473,
    "start_time": "2022-01-23T17:42:40.563Z"
   },
   {
    "duration": 302,
    "start_time": "2022-01-23T17:42:42.911Z"
   },
   {
    "duration": 3352,
    "start_time": "2022-01-23T17:42:46.409Z"
   },
   {
    "duration": 228,
    "start_time": "2022-01-23T17:42:49.763Z"
   },
   {
    "duration": 5,
    "start_time": "2022-01-23T17:42:51.774Z"
   },
   {
    "duration": 1152,
    "start_time": "2022-01-23T17:42:52.497Z"
   },
   {
    "duration": 989,
    "start_time": "2022-01-23T17:42:54.840Z"
   },
   {
    "duration": 1028,
    "start_time": "2022-01-23T17:42:56.487Z"
   },
   {
    "duration": 5,
    "start_time": "2022-01-23T17:44:23.505Z"
   },
   {
    "duration": 209,
    "start_time": "2022-01-23T17:44:24.647Z"
   },
   {
    "duration": 269,
    "start_time": "2022-01-23T17:44:29.138Z"
   },
   {
    "duration": 243,
    "start_time": "2022-01-23T17:44:30.325Z"
   },
   {
    "duration": 90,
    "start_time": "2022-01-23T17:44:32.487Z"
   },
   {
    "duration": 7,
    "start_time": "2022-01-23T17:44:33.840Z"
   },
   {
    "duration": 4,
    "start_time": "2022-01-23T17:45:18.960Z"
   },
   {
    "duration": 212,
    "start_time": "2022-01-23T17:45:19.843Z"
   },
   {
    "duration": 216,
    "start_time": "2022-01-23T17:45:37.069Z"
   },
   {
    "duration": 204,
    "start_time": "2022-01-23T17:45:40.671Z"
   },
   {
    "duration": 21,
    "start_time": "2022-01-23T17:45:45.683Z"
   },
   {
    "duration": 7,
    "start_time": "2022-01-23T17:45:47.049Z"
   },
   {
    "duration": 1148,
    "start_time": "2022-01-23T17:47:45.761Z"
   },
   {
    "duration": 56,
    "start_time": "2022-01-23T17:47:46.910Z"
   },
   {
    "duration": 17,
    "start_time": "2022-01-23T17:47:47.964Z"
   },
   {
    "duration": 18,
    "start_time": "2022-01-23T17:47:48.473Z"
   },
   {
    "duration": 46,
    "start_time": "2022-01-23T17:47:49.128Z"
   },
   {
    "duration": 372,
    "start_time": "2022-01-23T17:47:50.318Z"
   },
   {
    "duration": 362,
    "start_time": "2022-01-23T17:47:53.141Z"
   },
   {
    "duration": 406,
    "start_time": "2022-01-23T17:47:53.792Z"
   },
   {
    "duration": 15,
    "start_time": "2022-01-23T17:47:55.608Z"
   },
   {
    "duration": 501,
    "start_time": "2022-01-23T17:47:56.119Z"
   },
   {
    "duration": 302,
    "start_time": "2022-01-23T17:47:58.222Z"
   },
   {
    "duration": 3153,
    "start_time": "2022-01-23T17:48:03.425Z"
   },
   {
    "duration": 205,
    "start_time": "2022-01-23T17:48:07.165Z"
   },
   {
    "duration": 4,
    "start_time": "2022-01-23T17:48:11.542Z"
   },
   {
    "duration": 284,
    "start_time": "2022-01-23T17:48:21.374Z"
   },
   {
    "duration": 221,
    "start_time": "2022-01-23T17:48:25.285Z"
   },
   {
    "duration": 203,
    "start_time": "2022-01-23T17:48:32.402Z"
   },
   {
    "duration": 21,
    "start_time": "2022-01-23T17:48:32.886Z"
   },
   {
    "duration": 7,
    "start_time": "2022-01-23T17:48:35.048Z"
   },
   {
    "duration": 792,
    "start_time": "2022-01-23T17:49:21.854Z"
   },
   {
    "duration": 716,
    "start_time": "2022-01-23T17:49:38.086Z"
   },
   {
    "duration": 4,
    "start_time": "2022-01-23T17:49:54.831Z"
   },
   {
    "duration": 219,
    "start_time": "2022-01-23T17:50:00.777Z"
   },
   {
    "duration": 332,
    "start_time": "2022-01-23T17:50:01.461Z"
   },
   {
    "duration": 21,
    "start_time": "2022-01-23T17:50:03.389Z"
   },
   {
    "duration": 8,
    "start_time": "2022-01-23T17:50:04.999Z"
   },
   {
    "duration": 6,
    "start_time": "2022-01-23T17:52:55.003Z"
   },
   {
    "duration": 215,
    "start_time": "2022-01-23T17:52:56.498Z"
   },
   {
    "duration": 229,
    "start_time": "2022-01-23T17:52:58.361Z"
   },
   {
    "duration": 213,
    "start_time": "2022-01-23T17:53:03.949Z"
   },
   {
    "duration": 113,
    "start_time": "2022-01-23T17:54:01.516Z"
   },
   {
    "duration": 216,
    "start_time": "2022-01-23T17:54:01.957Z"
   },
   {
    "duration": 225,
    "start_time": "2022-01-23T17:54:02.756Z"
   },
   {
    "duration": 293,
    "start_time": "2022-01-23T17:54:03.745Z"
   },
   {
    "duration": 111,
    "start_time": "2022-01-23T17:54:14.610Z"
   },
   {
    "duration": 227,
    "start_time": "2022-01-23T17:54:15.195Z"
   },
   {
    "duration": 222,
    "start_time": "2022-01-23T17:54:16.667Z"
   },
   {
    "duration": 214,
    "start_time": "2022-01-23T17:54:17.785Z"
   },
   {
    "duration": 230,
    "start_time": "2022-01-23T17:54:47.681Z"
   },
   {
    "duration": 1075,
    "start_time": "2022-01-23T17:55:02.677Z"
   },
   {
    "duration": 56,
    "start_time": "2022-01-23T17:55:03.753Z"
   },
   {
    "duration": 12,
    "start_time": "2022-01-23T17:55:04.316Z"
   },
   {
    "duration": 16,
    "start_time": "2022-01-23T17:55:04.704Z"
   },
   {
    "duration": 44,
    "start_time": "2022-01-23T17:55:05.193Z"
   },
   {
    "duration": 376,
    "start_time": "2022-01-23T17:55:05.936Z"
   },
   {
    "duration": 355,
    "start_time": "2022-01-23T17:55:08.033Z"
   },
   {
    "duration": 401,
    "start_time": "2022-01-23T17:55:08.598Z"
   },
   {
    "duration": 15,
    "start_time": "2022-01-23T17:55:09.970Z"
   },
   {
    "duration": 467,
    "start_time": "2022-01-23T17:55:10.274Z"
   },
   {
    "duration": 307,
    "start_time": "2022-01-23T17:55:11.476Z"
   },
   {
    "duration": 3236,
    "start_time": "2022-01-23T17:55:13.037Z"
   },
   {
    "duration": 225,
    "start_time": "2022-01-23T17:55:16.275Z"
   },
   {
    "duration": 104,
    "start_time": "2022-01-23T17:55:17.258Z"
   },
   {
    "duration": 812,
    "start_time": "2022-01-23T17:55:18.177Z"
   },
   {
    "duration": 806,
    "start_time": "2022-01-23T17:55:20.672Z"
   },
   {
    "duration": 663,
    "start_time": "2022-01-23T17:55:22.706Z"
   },
   {
    "duration": 110,
    "start_time": "2022-01-23T17:55:38.033Z"
   },
   {
    "duration": 778,
    "start_time": "2022-01-23T17:55:39.706Z"
   },
   {
    "duration": 4,
    "start_time": "2022-01-23T17:56:00.818Z"
   },
   {
    "duration": 230,
    "start_time": "2022-01-23T17:56:01.968Z"
   },
   {
    "duration": 1111,
    "start_time": "2022-01-23T17:56:06.018Z"
   },
   {
    "duration": 206,
    "start_time": "2022-01-23T17:56:17.106Z"
   },
   {
    "duration": 6,
    "start_time": "2022-01-23T17:57:42.920Z"
   },
   {
    "duration": 214,
    "start_time": "2022-01-23T17:57:44.992Z"
   },
   {
    "duration": 1004,
    "start_time": "2022-01-23T17:57:50.267Z"
   },
   {
    "duration": 4,
    "start_time": "2022-01-23T17:58:09.355Z"
   },
   {
    "duration": 208,
    "start_time": "2022-01-23T17:58:09.841Z"
   },
   {
    "duration": 224,
    "start_time": "2022-01-23T17:58:11.703Z"
   },
   {
    "duration": 276,
    "start_time": "2022-01-23T17:58:15.194Z"
   },
   {
    "duration": 5,
    "start_time": "2022-01-23T17:59:32.847Z"
   },
   {
    "duration": 206,
    "start_time": "2022-01-23T17:59:33.294Z"
   },
   {
    "duration": 245,
    "start_time": "2022-01-23T17:59:36.329Z"
   },
   {
    "duration": 212,
    "start_time": "2022-01-23T17:59:45.159Z"
   },
   {
    "duration": 20,
    "start_time": "2022-01-23T17:59:50.839Z"
   },
   {
    "duration": 7,
    "start_time": "2022-01-23T17:59:52.174Z"
   },
   {
    "duration": 3,
    "start_time": "2022-01-23T18:06:20.635Z"
   },
   {
    "duration": 54,
    "start_time": "2022-01-23T18:06:22.018Z"
   },
   {
    "duration": 11,
    "start_time": "2022-01-23T18:06:24.320Z"
   },
   {
    "duration": 15,
    "start_time": "2022-01-23T18:06:24.962Z"
   },
   {
    "duration": 50,
    "start_time": "2022-01-23T18:06:26.159Z"
   },
   {
    "duration": 138,
    "start_time": "2022-01-24T06:34:42.306Z"
   },
   {
    "duration": 647,
    "start_time": "2022-01-24T16:46:42.893Z"
   },
   {
    "duration": 340,
    "start_time": "2022-01-24T16:46:56.939Z"
   },
   {
    "duration": 321,
    "start_time": "2022-01-24T16:47:12.083Z"
   },
   {
    "duration": 1100,
    "start_time": "2022-01-24T16:47:34.459Z"
   },
   {
    "duration": 57,
    "start_time": "2022-01-24T16:47:35.561Z"
   },
   {
    "duration": 11,
    "start_time": "2022-01-24T16:47:36.447Z"
   },
   {
    "duration": 16,
    "start_time": "2022-01-24T16:47:37.072Z"
   },
   {
    "duration": 45,
    "start_time": "2022-01-24T16:47:37.880Z"
   },
   {
    "duration": 389,
    "start_time": "2022-01-24T16:47:39.087Z"
   },
   {
    "duration": 353,
    "start_time": "2022-01-24T16:47:42.559Z"
   },
   {
    "duration": 409,
    "start_time": "2022-01-24T16:47:43.341Z"
   },
   {
    "duration": 15,
    "start_time": "2022-01-24T16:47:44.751Z"
   },
   {
    "duration": 445,
    "start_time": "2022-01-24T16:47:45.160Z"
   },
   {
    "duration": 307,
    "start_time": "2022-01-24T16:47:46.649Z"
   },
   {
    "duration": 3422,
    "start_time": "2022-01-24T16:47:48.080Z"
   },
   {
    "duration": 236,
    "start_time": "2022-01-24T16:47:51.504Z"
   },
   {
    "duration": 4,
    "start_time": "2022-01-24T16:47:53.881Z"
   },
   {
    "duration": 277,
    "start_time": "2022-01-24T16:47:54.591Z"
   },
   {
    "duration": 223,
    "start_time": "2022-01-24T16:47:55.825Z"
   },
   {
    "duration": 209,
    "start_time": "2022-01-24T16:47:56.927Z"
   },
   {
    "duration": 22,
    "start_time": "2022-01-24T16:47:59.264Z"
   },
   {
    "duration": 7,
    "start_time": "2022-01-24T16:48:01.639Z"
   }
  ],
  "kernelspec": {
   "display_name": "Python 3 (ipykernel)",
   "language": "python",
   "name": "python3"
  },
  "language_info": {
   "codemirror_mode": {
    "name": "ipython",
    "version": 3
   },
   "file_extension": ".py",
   "mimetype": "text/x-python",
   "name": "python",
   "nbconvert_exporter": "python",
   "pygments_lexer": "ipython3",
   "version": "3.10.1"
  },
  "toc": {
   "base_numbering": 1,
   "nav_menu": {},
   "number_sections": true,
   "sideBar": true,
   "skip_h1_title": true,
   "title_cell": "Table of Contents",
   "title_sidebar": "Contents",
   "toc_cell": false,
   "toc_position": {},
   "toc_section_display": true,
   "toc_window_display": false
  }
 },
 "nbformat": 4,
 "nbformat_minor": 2
}
