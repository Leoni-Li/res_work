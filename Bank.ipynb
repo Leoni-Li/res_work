{
 "cells": [
  {
   "cell_type": "markdown",
   "metadata": {},
   "source": [
    "## Шаг 1. Загрузка данных"
   ]
  },
  {
   "cell_type": "code",
   "execution_count": 1,
   "metadata": {},
   "outputs": [
    {
     "data": {
      "text/html": [
       "<div>\n",
       "<style scoped>\n",
       "    .dataframe tbody tr th:only-of-type {\n",
       "        vertical-align: middle;\n",
       "    }\n",
       "\n",
       "    .dataframe tbody tr th {\n",
       "        vertical-align: top;\n",
       "    }\n",
       "\n",
       "    .dataframe thead th {\n",
       "        text-align: right;\n",
       "    }\n",
       "</style>\n",
       "<table border=\"1\" class=\"dataframe\">\n",
       "  <thead>\n",
       "    <tr style=\"text-align: right;\">\n",
       "      <th></th>\n",
       "      <th>children</th>\n",
       "      <th>days_employed</th>\n",
       "      <th>dob_years</th>\n",
       "      <th>education</th>\n",
       "      <th>education_id</th>\n",
       "      <th>family_status</th>\n",
       "      <th>family_status_id</th>\n",
       "      <th>gender</th>\n",
       "      <th>income_type</th>\n",
       "      <th>debt</th>\n",
       "      <th>total_income</th>\n",
       "      <th>purpose</th>\n",
       "    </tr>\n",
       "  </thead>\n",
       "  <tbody>\n",
       "    <tr>\n",
       "      <td>0</td>\n",
       "      <td>1</td>\n",
       "      <td>-8437.673028</td>\n",
       "      <td>42</td>\n",
       "      <td>высшее</td>\n",
       "      <td>0</td>\n",
       "      <td>женат / замужем</td>\n",
       "      <td>0</td>\n",
       "      <td>F</td>\n",
       "      <td>сотрудник</td>\n",
       "      <td>0</td>\n",
       "      <td>253875.639453</td>\n",
       "      <td>покупка жилья</td>\n",
       "    </tr>\n",
       "    <tr>\n",
       "      <td>1</td>\n",
       "      <td>1</td>\n",
       "      <td>-4024.803754</td>\n",
       "      <td>36</td>\n",
       "      <td>среднее</td>\n",
       "      <td>1</td>\n",
       "      <td>женат / замужем</td>\n",
       "      <td>0</td>\n",
       "      <td>F</td>\n",
       "      <td>сотрудник</td>\n",
       "      <td>0</td>\n",
       "      <td>112080.014102</td>\n",
       "      <td>приобретение автомобиля</td>\n",
       "    </tr>\n",
       "    <tr>\n",
       "      <td>2</td>\n",
       "      <td>0</td>\n",
       "      <td>-5623.422610</td>\n",
       "      <td>33</td>\n",
       "      <td>Среднее</td>\n",
       "      <td>1</td>\n",
       "      <td>женат / замужем</td>\n",
       "      <td>0</td>\n",
       "      <td>M</td>\n",
       "      <td>сотрудник</td>\n",
       "      <td>0</td>\n",
       "      <td>145885.952297</td>\n",
       "      <td>покупка жилья</td>\n",
       "    </tr>\n",
       "    <tr>\n",
       "      <td>3</td>\n",
       "      <td>3</td>\n",
       "      <td>-4124.747207</td>\n",
       "      <td>32</td>\n",
       "      <td>среднее</td>\n",
       "      <td>1</td>\n",
       "      <td>женат / замужем</td>\n",
       "      <td>0</td>\n",
       "      <td>M</td>\n",
       "      <td>сотрудник</td>\n",
       "      <td>0</td>\n",
       "      <td>267628.550329</td>\n",
       "      <td>дополнительное образование</td>\n",
       "    </tr>\n",
       "    <tr>\n",
       "      <td>4</td>\n",
       "      <td>0</td>\n",
       "      <td>340266.072047</td>\n",
       "      <td>53</td>\n",
       "      <td>среднее</td>\n",
       "      <td>1</td>\n",
       "      <td>гражданский брак</td>\n",
       "      <td>1</td>\n",
       "      <td>F</td>\n",
       "      <td>пенсионер</td>\n",
       "      <td>0</td>\n",
       "      <td>158616.077870</td>\n",
       "      <td>сыграть свадьбу</td>\n",
       "    </tr>\n",
       "    <tr>\n",
       "      <td>...</td>\n",
       "      <td>...</td>\n",
       "      <td>...</td>\n",
       "      <td>...</td>\n",
       "      <td>...</td>\n",
       "      <td>...</td>\n",
       "      <td>...</td>\n",
       "      <td>...</td>\n",
       "      <td>...</td>\n",
       "      <td>...</td>\n",
       "      <td>...</td>\n",
       "      <td>...</td>\n",
       "      <td>...</td>\n",
       "    </tr>\n",
       "    <tr>\n",
       "      <td>21520</td>\n",
       "      <td>1</td>\n",
       "      <td>-4529.316663</td>\n",
       "      <td>43</td>\n",
       "      <td>среднее</td>\n",
       "      <td>1</td>\n",
       "      <td>гражданский брак</td>\n",
       "      <td>1</td>\n",
       "      <td>F</td>\n",
       "      <td>компаньон</td>\n",
       "      <td>0</td>\n",
       "      <td>224791.862382</td>\n",
       "      <td>операции с жильем</td>\n",
       "    </tr>\n",
       "    <tr>\n",
       "      <td>21521</td>\n",
       "      <td>0</td>\n",
       "      <td>343937.404131</td>\n",
       "      <td>67</td>\n",
       "      <td>среднее</td>\n",
       "      <td>1</td>\n",
       "      <td>женат / замужем</td>\n",
       "      <td>0</td>\n",
       "      <td>F</td>\n",
       "      <td>пенсионер</td>\n",
       "      <td>0</td>\n",
       "      <td>155999.806512</td>\n",
       "      <td>сделка с автомобилем</td>\n",
       "    </tr>\n",
       "    <tr>\n",
       "      <td>21522</td>\n",
       "      <td>1</td>\n",
       "      <td>-2113.346888</td>\n",
       "      <td>38</td>\n",
       "      <td>среднее</td>\n",
       "      <td>1</td>\n",
       "      <td>гражданский брак</td>\n",
       "      <td>1</td>\n",
       "      <td>M</td>\n",
       "      <td>сотрудник</td>\n",
       "      <td>1</td>\n",
       "      <td>89672.561153</td>\n",
       "      <td>недвижимость</td>\n",
       "    </tr>\n",
       "    <tr>\n",
       "      <td>21523</td>\n",
       "      <td>3</td>\n",
       "      <td>-3112.481705</td>\n",
       "      <td>38</td>\n",
       "      <td>среднее</td>\n",
       "      <td>1</td>\n",
       "      <td>женат / замужем</td>\n",
       "      <td>0</td>\n",
       "      <td>M</td>\n",
       "      <td>сотрудник</td>\n",
       "      <td>1</td>\n",
       "      <td>244093.050500</td>\n",
       "      <td>на покупку своего автомобиля</td>\n",
       "    </tr>\n",
       "    <tr>\n",
       "      <td>21524</td>\n",
       "      <td>2</td>\n",
       "      <td>-1984.507589</td>\n",
       "      <td>40</td>\n",
       "      <td>среднее</td>\n",
       "      <td>1</td>\n",
       "      <td>женат / замужем</td>\n",
       "      <td>0</td>\n",
       "      <td>F</td>\n",
       "      <td>сотрудник</td>\n",
       "      <td>0</td>\n",
       "      <td>82047.418899</td>\n",
       "      <td>на покупку автомобиля</td>\n",
       "    </tr>\n",
       "  </tbody>\n",
       "</table>\n",
       "<p>21525 rows × 12 columns</p>\n",
       "</div>"
      ],
      "text/plain": [
       "       children  days_employed  dob_years education  education_id  \\\n",
       "0             1   -8437.673028         42    высшее             0   \n",
       "1             1   -4024.803754         36   среднее             1   \n",
       "2             0   -5623.422610         33   Среднее             1   \n",
       "3             3   -4124.747207         32   среднее             1   \n",
       "4             0  340266.072047         53   среднее             1   \n",
       "...         ...            ...        ...       ...           ...   \n",
       "21520         1   -4529.316663         43   среднее             1   \n",
       "21521         0  343937.404131         67   среднее             1   \n",
       "21522         1   -2113.346888         38   среднее             1   \n",
       "21523         3   -3112.481705         38   среднее             1   \n",
       "21524         2   -1984.507589         40   среднее             1   \n",
       "\n",
       "          family_status  family_status_id gender income_type  debt  \\\n",
       "0       женат / замужем                 0      F   сотрудник     0   \n",
       "1       женат / замужем                 0      F   сотрудник     0   \n",
       "2       женат / замужем                 0      M   сотрудник     0   \n",
       "3       женат / замужем                 0      M   сотрудник     0   \n",
       "4      гражданский брак                 1      F   пенсионер     0   \n",
       "...                 ...               ...    ...         ...   ...   \n",
       "21520  гражданский брак                 1      F   компаньон     0   \n",
       "21521   женат / замужем                 0      F   пенсионер     0   \n",
       "21522  гражданский брак                 1      M   сотрудник     1   \n",
       "21523   женат / замужем                 0      M   сотрудник     1   \n",
       "21524   женат / замужем                 0      F   сотрудник     0   \n",
       "\n",
       "        total_income                       purpose  \n",
       "0      253875.639453                 покупка жилья  \n",
       "1      112080.014102       приобретение автомобиля  \n",
       "2      145885.952297                 покупка жилья  \n",
       "3      267628.550329    дополнительное образование  \n",
       "4      158616.077870               сыграть свадьбу  \n",
       "...              ...                           ...  \n",
       "21520  224791.862382             операции с жильем  \n",
       "21521  155999.806512          сделка с автомобилем  \n",
       "21522   89672.561153                  недвижимость  \n",
       "21523  244093.050500  на покупку своего автомобиля  \n",
       "21524   82047.418899         на покупку автомобиля  \n",
       "\n",
       "[21525 rows x 12 columns]"
      ]
     },
     "metadata": {},
     "output_type": "display_data"
    },
    {
     "name": "stdout",
     "output_type": "stream",
     "text": [
      "<class 'pandas.core.frame.DataFrame'>\n",
      "RangeIndex: 21525 entries, 0 to 21524\n",
      "Data columns (total 12 columns):\n",
      "children            21525 non-null int64\n",
      "days_employed       19351 non-null float64\n",
      "dob_years           21525 non-null int64\n",
      "education           21525 non-null object\n",
      "education_id        21525 non-null int64\n",
      "family_status       21525 non-null object\n",
      "family_status_id    21525 non-null int64\n",
      "gender              21525 non-null object\n",
      "income_type         21525 non-null object\n",
      "debt                21525 non-null int64\n",
      "total_income        19351 non-null float64\n",
      "purpose             21525 non-null object\n",
      "dtypes: float64(2), int64(5), object(5)\n",
      "memory usage: 2.0+ MB\n"
     ]
    }
   ],
   "source": [
    "import pandas as pd\n",
    "import numpy as np\n",
    "import matplotlib.pyplot as plt\n",
    "\n",
    "data = pd.read_csv('/datasets/data.csv')\n",
    "display(data)\n",
    "data.info()"
   ]
  },
  {
   "cell_type": "markdown",
   "metadata": {},
   "source": [
    "**Вывод**"
   ]
  },
  {
   "cell_type": "markdown",
   "metadata": {},
   "source": [
    "Данные в некоторых столбцах представлены не корректно:\n",
    "days_employed - есть отрицательные значения;\n",
    "education - значения записаны с больших и маленьких букв;\n",
    "purpose - требует доработки.\n",
    "С типами данных на первый взгляд все нормально, трудовой стаж лучше было бы перевести в int."
   ]
  },
  {
   "cell_type": "markdown",
   "metadata": {},
   "source": [
    "## Шаг 2. Предобработка данных"
   ]
  },
  {
   "cell_type": "code",
   "execution_count": 2,
   "metadata": {},
   "outputs": [
    {
     "data": {
      "text/plain": [
       "children               0\n",
       "days_employed       2174\n",
       "dob_years              0\n",
       "education              0\n",
       "education_id           0\n",
       "family_status          0\n",
       "family_status_id       0\n",
       "gender                 0\n",
       "income_type            0\n",
       "debt                   0\n",
       "total_income        2174\n",
       "purpose                0\n",
       "dtype: int64"
      ]
     },
     "execution_count": 2,
     "metadata": {},
     "output_type": "execute_result"
    }
   ],
   "source": [
    "data.isna().sum()\n",
    "#data.isna().mean()"
   ]
  },
  {
   "cell_type": "code",
   "execution_count": 3,
   "metadata": {},
   "outputs": [
    {
     "name": "stdout",
     "output_type": "stream",
     "text": [
      "112874.418757    1\n",
      "133912.272223    1\n",
      "182036.676828    1\n",
      "122421.963500    1\n",
      "198271.837248    1\n",
      "                ..\n",
      "133299.194693    1\n",
      "115080.782380    1\n",
      "84896.781597     1\n",
      "153838.839212    1\n",
      "150014.128510    1\n",
      "Name: total_income, Length: 19351, dtype: int64\n"
     ]
    }
   ],
   "source": [
    "#print(data['days_employed'].value_counts()) \n",
    "print(data['total_income'].value_counts()) \n",
    "\n",
    "# Вывод данных с пропусками и посчитаем их количество\n",
    "nan_day = data[data['days_employed'].isna()]\n",
    "nan_income = data[data['total_income'].isna()]\n",
    "#print(data['days_employed'].value_counts()) "
   ]
  },
  {
   "cell_type": "code",
   "execution_count": 5,
   "metadata": {},
   "outputs": [],
   "source": [
    "# Создаем копию датафрейма, чтобы при необходимости в дальнейшем можно было сравнить данные с изначальными.\n",
    "clear_data = data "
   ]
  },
  {
   "cell_type": "code",
   "execution_count": 6,
   "metadata": {},
   "outputs": [
    {
     "name": "stdout",
     "output_type": "stream",
     "text": [
      "income_type\n",
      "госслужащий     2689.368353\n",
      "компаньон       1547.382223\n",
      "пенсионер      15217.221094\n",
      "сотрудник       1573.956856\n",
      "Name: days_employed, dtype: float64\n"
     ]
    }
   ],
   "source": [
    "# Убираю отрицательные значения из колонок\n",
    "clear_data.loc[clear_data['days_employed'] < 0, 'days_employed'] *= -1\n",
    "\n",
    "#проверим количество полей со стажем более 50 лет (18 250 дней)\n",
    "#print(clear_data.loc[clear_data['days_employed'] > 18250, 'days_employed'].count())\n",
    "\n",
    "#сгрупируем данные и посчитаем среднее и медиану для зароботка\n",
    "count_employed = clear_data.groupby('income_type')['days_employed'].count()\n",
    "median_employed = clear_data.groupby('income_type')['days_employed'].median()  \n",
    " бы хорошо узнать почему такой стаж, но не у кого\n",
    "\n",
    "clear_data.drop(clear_data[clear_data['income_type'] == 'безработный'].index, inplace=True)\n",
    "clear_data.drop(clear_data[clear_data['income_type'] == 'в декрете'].index, inplace=True)\n",
    "clear_data.drop(clear_data[clear_data['income_type'] == 'предприниматель'].index, inplace=True)\n",
    "clear_data.drop(clear_data[clear_data['income_type'] == 'студент'].index, inplace=True)\n",
    "# появилось предположение что стаж пенсионеров указан в часах, переведем в дни\n",
    "#(теперь пенсионеры в среднем имеют сташ 40лет)\n",
    "clear_data.loc[clear_data['days_employed'] > 18250, 'days_employed'] /= 24\n",
    "\n",
    "\n",
    "count_employed = clear_data.groupby('income_type')['days_employed'].count()\n",
    "median_employed = clear_data.groupby('income_type')['days_employed'].median() \n",
    "#print(count_employed)\n",
    "print(median_employed)"
   ]
  },
  {
   "cell_type": "code",
   "execution_count": 7,
   "metadata": {},
   "outputs": [
    {
     "data": {
      "text/html": [
       "<div>\n",
       "<style scoped>\n",
       "    .dataframe tbody tr th:only-of-type {\n",
       "        vertical-align: middle;\n",
       "    }\n",
       "\n",
       "    .dataframe tbody tr th {\n",
       "        vertical-align: top;\n",
       "    }\n",
       "\n",
       "    .dataframe thead th {\n",
       "        text-align: right;\n",
       "    }\n",
       "</style>\n",
       "<table border=\"1\" class=\"dataframe\">\n",
       "  <thead>\n",
       "    <tr style=\"text-align: right;\">\n",
       "      <th></th>\n",
       "      <th>children</th>\n",
       "      <th>days_employed</th>\n",
       "      <th>dob_years</th>\n",
       "      <th>education</th>\n",
       "      <th>education_id</th>\n",
       "      <th>family_status</th>\n",
       "      <th>family_status_id</th>\n",
       "      <th>gender</th>\n",
       "      <th>income_type</th>\n",
       "      <th>debt</th>\n",
       "      <th>total_income</th>\n",
       "      <th>purpose</th>\n",
       "    </tr>\n",
       "  </thead>\n",
       "  <tbody>\n",
       "    <tr>\n",
       "      <td>0</td>\n",
       "      <td>1</td>\n",
       "      <td>8437.673028</td>\n",
       "      <td>42</td>\n",
       "      <td>высшее</td>\n",
       "      <td>0</td>\n",
       "      <td>женат / замужем</td>\n",
       "      <td>0</td>\n",
       "      <td>F</td>\n",
       "      <td>сотрудник</td>\n",
       "      <td>0</td>\n",
       "      <td>253875.639453</td>\n",
       "      <td>покупка жилья</td>\n",
       "    </tr>\n",
       "    <tr>\n",
       "      <td>1</td>\n",
       "      <td>1</td>\n",
       "      <td>4024.803754</td>\n",
       "      <td>36</td>\n",
       "      <td>среднее</td>\n",
       "      <td>1</td>\n",
       "      <td>женат / замужем</td>\n",
       "      <td>0</td>\n",
       "      <td>F</td>\n",
       "      <td>сотрудник</td>\n",
       "      <td>0</td>\n",
       "      <td>112080.014102</td>\n",
       "      <td>приобретение автомобиля</td>\n",
       "    </tr>\n",
       "    <tr>\n",
       "      <td>2</td>\n",
       "      <td>0</td>\n",
       "      <td>5623.422610</td>\n",
       "      <td>33</td>\n",
       "      <td>Среднее</td>\n",
       "      <td>1</td>\n",
       "      <td>женат / замужем</td>\n",
       "      <td>0</td>\n",
       "      <td>M</td>\n",
       "      <td>сотрудник</td>\n",
       "      <td>0</td>\n",
       "      <td>145885.952297</td>\n",
       "      <td>покупка жилья</td>\n",
       "    </tr>\n",
       "    <tr>\n",
       "      <td>3</td>\n",
       "      <td>3</td>\n",
       "      <td>4124.747207</td>\n",
       "      <td>32</td>\n",
       "      <td>среднее</td>\n",
       "      <td>1</td>\n",
       "      <td>женат / замужем</td>\n",
       "      <td>0</td>\n",
       "      <td>M</td>\n",
       "      <td>сотрудник</td>\n",
       "      <td>0</td>\n",
       "      <td>267628.550329</td>\n",
       "      <td>дополнительное образование</td>\n",
       "    </tr>\n",
       "    <tr>\n",
       "      <td>4</td>\n",
       "      <td>0</td>\n",
       "      <td>14177.753002</td>\n",
       "      <td>53</td>\n",
       "      <td>среднее</td>\n",
       "      <td>1</td>\n",
       "      <td>гражданский брак</td>\n",
       "      <td>1</td>\n",
       "      <td>F</td>\n",
       "      <td>пенсионер</td>\n",
       "      <td>0</td>\n",
       "      <td>158616.077870</td>\n",
       "      <td>сыграть свадьбу</td>\n",
       "    </tr>\n",
       "  </tbody>\n",
       "</table>\n",
       "</div>"
      ],
      "text/plain": [
       "   children  days_employed  dob_years education  education_id  \\\n",
       "0         1    8437.673028         42    высшее             0   \n",
       "1         1    4024.803754         36   среднее             1   \n",
       "2         0    5623.422610         33   Среднее             1   \n",
       "3         3    4124.747207         32   среднее             1   \n",
       "4         0   14177.753002         53   среднее             1   \n",
       "\n",
       "      family_status  family_status_id gender income_type  debt   total_income  \\\n",
       "0   женат / замужем                 0      F   сотрудник     0  253875.639453   \n",
       "1   женат / замужем                 0      F   сотрудник     0  112080.014102   \n",
       "2   женат / замужем                 0      M   сотрудник     0  145885.952297   \n",
       "3   женат / замужем                 0      M   сотрудник     0  267628.550329   \n",
       "4  гражданский брак                 1      F   пенсионер     0  158616.077870   \n",
       "\n",
       "                      purpose  \n",
       "0               покупка жилья  \n",
       "1     приобретение автомобиля  \n",
       "2               покупка жилья  \n",
       "3  дополнительное образование  \n",
       "4             сыграть свадьбу  "
      ]
     },
     "metadata": {},
     "output_type": "display_data"
    }
   ],
   "source": [
    "#посмотрим данные из total_incom\n",
    "display(clear_data.head())\n",
    "#print(clear_data.loc[clear_data['days_employed'] < 0, 'days_employed'].count())\n",
    "\n",
    "# Отрицательных значений нет, посмотрим среднее от образования\n",
    "clear_data['education'] = clear_data['education'].str.lower() \n",
    "#print(clear_data.groupby('education')['total_income'].median())\n",
    "\n",
    "#Видим что с данными все в порядке и есть зависимость от уровня образования"
   ]
  },
  {
   "cell_type": "code",
   "execution_count": 8,
   "metadata": {},
   "outputs": [
    {
     "name": "stdout",
     "output_type": "stream",
     "text": [
      "136487.432242    1540\n",
      "175270.760792     543\n",
      "160115.398644      69\n",
      "117137.352825      21\n",
      "141949.576902       1\n",
      "                 ... \n",
      "120191.530490       1\n",
      "87425.716404        1\n",
      "87426.721962        1\n",
      "87427.652188        1\n",
      "81054.288607        1\n",
      "Name: total_income, Length: 19350, dtype: int64\n"
     ]
    },
    {
     "data": {
      "text/plain": [
       "children               0\n",
       "days_employed       2173\n",
       "dob_years              0\n",
       "education              0\n",
       "education_id           0\n",
       "family_status          0\n",
       "family_status_id       0\n",
       "gender                 0\n",
       "income_type            0\n",
       "debt                   0\n",
       "total_income           0\n",
       "purpose                0\n",
       "dtype: int64"
      ]
     },
     "execution_count": 8,
     "metadata": {},
     "output_type": "execute_result"
    }
   ],
   "source": [
    "# Пропущенные данные из  total_income заменим средними относительно образования\n",
    "clear_data.loc[clear_data['total_income'].isnull(),'total_income'] = clear_data['education']\n",
    "\n",
    "clear_data.loc[clear_data['total_income'] == 'среднее', 'total_income'] = 136487.432242\n",
    "clear_data.loc[clear_data['total_income'] == 'высшее', 'total_income'] = 175270.760792\n",
    "clear_data.loc[clear_data['total_income'] == 'неоконченное высшее', 'total_income'] = 160115.398644\n",
    "clear_data.loc[clear_data['total_income'] == 'начальное', 'total_income'] = 117137.352825\n",
    "clear_data.loc[clear_data['total_income'] == 'ученая степень', 'total_income'] = 157259.898555\n",
    "\n",
    "print(clear_data['total_income'].value_counts())\n",
    "data.isna().sum()\n",
    "#print(median_income)"
   ]
  },
  {
   "cell_type": "code",
   "execution_count": 9,
   "metadata": {},
   "outputs": [
    {
     "name": "stdout",
     "output_type": "stream",
     "text": [
      "1573.956856     1105\n",
      "1547.382223      508\n",
      "15217.221094     413\n",
      "2689.368353      147\n",
      "7927.550380        1\n",
      "                ... \n",
      "370.868941         1\n",
      "226.256392         1\n",
      "454.632610         1\n",
      "118.216085         1\n",
      "1007.078931        1\n",
      "Name: days_employed, Length: 19350, dtype: int64\n"
     ]
    }
   ],
   "source": [
    "# Пришло время разобраться со стажем, пропущенные данные из  days_employed заменим средними относительно должности\n",
    "clear_data.loc[clear_data['days_employed'].isnull(),'days_employed'] = clear_data['income_type']\n",
    "\n",
    "clear_data.loc[clear_data['days_employed'] == 'госслужащий', 'days_employed'] = 2689.368353\n",
    "clear_data.loc[clear_data['days_employed'] == 'компаньон', 'days_employed'] = 1547.382223\n",
    "clear_data.loc[clear_data['days_employed'] == 'пенсионер', 'days_employed'] = 15217.221094\n",
    "clear_data.loc[clear_data['days_employed'] == 'сотрудник', 'days_employed'] = 1573.956856\n",
    "\n",
    "print(clear_data['days_employed'].value_counts())\n",
    "#data.isna().sum()\n",
    "#print(median_income)"
   ]
  },
  {
   "cell_type": "markdown",
   "metadata": {},
   "source": [
    "**Вывод**"
   ]
  },
  {
   "cell_type": "markdown",
   "metadata": {},
   "source": [
    "<li>определите и заполните пропущенные значения:</li>\n",
    "<ul>\n",
    "  <li>найдены пропуски Nan в столбцах 'days_employed'  и 'total_income';</li>\n",
    "  <li>пропуски могли возникнуть из-за сбоев(при предаче данных), возможно это определеная котегория клиентов, или клиенты не захотели предоставить данные;</li>\n",
    "  <li>Пропуски заполнены средним значением по колонке в зависемости от образования или должности; </li>\n",
    "</ul>    "
   ]
  },
  {
   "cell_type": "markdown",
   "metadata": {},
   "source": [
    "### Замена типа данных"
   ]
  },
  {
   "cell_type": "code",
   "execution_count": 10,
   "metadata": {},
   "outputs": [
    {
     "data": {
      "text/html": [
       "<div>\n",
       "<style scoped>\n",
       "    .dataframe tbody tr th:only-of-type {\n",
       "        vertical-align: middle;\n",
       "    }\n",
       "\n",
       "    .dataframe tbody tr th {\n",
       "        vertical-align: top;\n",
       "    }\n",
       "\n",
       "    .dataframe thead th {\n",
       "        text-align: right;\n",
       "    }\n",
       "</style>\n",
       "<table border=\"1\" class=\"dataframe\">\n",
       "  <thead>\n",
       "    <tr style=\"text-align: right;\">\n",
       "      <th></th>\n",
       "      <th>children</th>\n",
       "      <th>days_employed</th>\n",
       "      <th>dob_years</th>\n",
       "      <th>education</th>\n",
       "      <th>education_id</th>\n",
       "      <th>family_status</th>\n",
       "      <th>family_status_id</th>\n",
       "      <th>gender</th>\n",
       "      <th>income_type</th>\n",
       "      <th>debt</th>\n",
       "      <th>total_income</th>\n",
       "      <th>purpose</th>\n",
       "    </tr>\n",
       "  </thead>\n",
       "  <tbody>\n",
       "    <tr>\n",
       "      <td>0</td>\n",
       "      <td>1</td>\n",
       "      <td>8438</td>\n",
       "      <td>42</td>\n",
       "      <td>высшее</td>\n",
       "      <td>0</td>\n",
       "      <td>женат / замужем</td>\n",
       "      <td>0</td>\n",
       "      <td>F</td>\n",
       "      <td>сотрудник</td>\n",
       "      <td>0</td>\n",
       "      <td>253876</td>\n",
       "      <td>покупка жилья</td>\n",
       "    </tr>\n",
       "    <tr>\n",
       "      <td>1</td>\n",
       "      <td>1</td>\n",
       "      <td>4025</td>\n",
       "      <td>36</td>\n",
       "      <td>среднее</td>\n",
       "      <td>1</td>\n",
       "      <td>женат / замужем</td>\n",
       "      <td>0</td>\n",
       "      <td>F</td>\n",
       "      <td>сотрудник</td>\n",
       "      <td>0</td>\n",
       "      <td>112080</td>\n",
       "      <td>приобретение автомобиля</td>\n",
       "    </tr>\n",
       "    <tr>\n",
       "      <td>2</td>\n",
       "      <td>0</td>\n",
       "      <td>5623</td>\n",
       "      <td>33</td>\n",
       "      <td>среднее</td>\n",
       "      <td>1</td>\n",
       "      <td>женат / замужем</td>\n",
       "      <td>0</td>\n",
       "      <td>M</td>\n",
       "      <td>сотрудник</td>\n",
       "      <td>0</td>\n",
       "      <td>145886</td>\n",
       "      <td>покупка жилья</td>\n",
       "    </tr>\n",
       "    <tr>\n",
       "      <td>3</td>\n",
       "      <td>3</td>\n",
       "      <td>4125</td>\n",
       "      <td>32</td>\n",
       "      <td>среднее</td>\n",
       "      <td>1</td>\n",
       "      <td>женат / замужем</td>\n",
       "      <td>0</td>\n",
       "      <td>M</td>\n",
       "      <td>сотрудник</td>\n",
       "      <td>0</td>\n",
       "      <td>267629</td>\n",
       "      <td>дополнительное образование</td>\n",
       "    </tr>\n",
       "    <tr>\n",
       "      <td>4</td>\n",
       "      <td>0</td>\n",
       "      <td>14178</td>\n",
       "      <td>53</td>\n",
       "      <td>среднее</td>\n",
       "      <td>1</td>\n",
       "      <td>гражданский брак</td>\n",
       "      <td>1</td>\n",
       "      <td>F</td>\n",
       "      <td>пенсионер</td>\n",
       "      <td>0</td>\n",
       "      <td>158616</td>\n",
       "      <td>сыграть свадьбу</td>\n",
       "    </tr>\n",
       "  </tbody>\n",
       "</table>\n",
       "</div>"
      ],
      "text/plain": [
       "   children  days_employed  dob_years education  education_id  \\\n",
       "0         1           8438         42    высшее             0   \n",
       "1         1           4025         36   среднее             1   \n",
       "2         0           5623         33   среднее             1   \n",
       "3         3           4125         32   среднее             1   \n",
       "4         0          14178         53   среднее             1   \n",
       "\n",
       "      family_status  family_status_id gender income_type  debt  total_income  \\\n",
       "0   женат / замужем                 0      F   сотрудник     0        253876   \n",
       "1   женат / замужем                 0      F   сотрудник     0        112080   \n",
       "2   женат / замужем                 0      M   сотрудник     0        145886   \n",
       "3   женат / замужем                 0      M   сотрудник     0        267629   \n",
       "4  гражданский брак                 1      F   пенсионер     0        158616   \n",
       "\n",
       "                      purpose  \n",
       "0               покупка жилья  \n",
       "1     приобретение автомобиля  \n",
       "2               покупка жилья  \n",
       "3  дополнительное образование  \n",
       "4             сыграть свадьбу  "
      ]
     },
     "metadata": {},
     "output_type": "display_data"
    },
    {
     "name": "stdout",
     "output_type": "stream",
     "text": [
      "<class 'pandas.core.frame.DataFrame'>\n",
      "Int64Index: 21519 entries, 0 to 21524\n",
      "Data columns (total 12 columns):\n",
      "children            21519 non-null int64\n",
      "days_employed       21519 non-null int64\n",
      "dob_years           21519 non-null int64\n",
      "education           21519 non-null object\n",
      "education_id        21519 non-null int64\n",
      "family_status       21519 non-null object\n",
      "family_status_id    21519 non-null int64\n",
      "gender              21519 non-null object\n",
      "income_type         21519 non-null object\n",
      "debt                21519 non-null int64\n",
      "total_income        21519 non-null int64\n",
      "purpose             21519 non-null object\n",
      "dtypes: int64(7), object(5)\n",
      "memory usage: 2.8+ MB\n"
     ]
    }
   ],
   "source": [
    "# Замена типа данных на более удобный и округление.\n",
    "clear_data['days_employed'] = clear_data['days_employed'].astype(float)\n",
    "clear_data['days_employed'] = np.round(clear_data['days_employed']).astype('int')\n",
    "clear_data['total_income'] = clear_data['total_income'].astype(float)\n",
    "clear_data['total_income'] = np.round(clear_data['total_income']).astype('int')\n",
    "display(clear_data.head())\n",
    "#clear_data['gender'].unique()\n",
    "#clear_data[clear_data['gender'] == 'XNA'].sum()\n",
    "clear_data.info()"
   ]
  },
  {
   "cell_type": "markdown",
   "metadata": {},
   "source": [
    "### Обработка дубликатов"
   ]
  },
  {
   "cell_type": "code",
   "execution_count": 11,
   "metadata": {},
   "outputs": [
    {
     "data": {
      "text/plain": [
       "71"
      ]
     },
     "metadata": {},
     "output_type": "display_data"
    },
    {
     "data": {
      "text/plain": [
       "0"
      ]
     },
     "metadata": {},
     "output_type": "display_data"
    }
   ],
   "source": [
    "# общий поиск дупликатов\n",
    "display(clear_data.duplicated().sum())\n",
    "# так как ранее было обнаружено что значения пишутся в разном регистре упорядочим их, приведя к нижнему регистру.\n",
    "clear_data['education'] = clear_data['education'].str.lower() \n",
    "clear_data['family_status'] = clear_data['family_status'].str.lower() \n",
    "#Удалим дупликаты так как их число не значительно\n",
    "clear_data = clear_data.drop_duplicates().reset_index(drop= True)\n",
    "display(clear_data.duplicated().sum())\n",
    "#display(clear_data.head())"
   ]
  },
  {
   "cell_type": "markdown",
   "metadata": {},
   "source": [
    "**Вывод**"
   ]
  },
  {
   "cell_type": "markdown",
   "metadata": {},
   "source": [
    "Так как датафрейм большой были использованы методы для поиска и удаления дубликатов, одной из возможных причин их возникновения может быть обращение клиента несколько раз."
   ]
  },
  {
   "cell_type": "markdown",
   "metadata": {},
   "source": [
    "### Лемматизация"
   ]
  },
  {
   "cell_type": "code",
   "execution_count": 12,
   "metadata": {},
   "outputs": [
    {
     "data": {
      "text/html": [
       "<div>\n",
       "<style scoped>\n",
       "    .dataframe tbody tr th:only-of-type {\n",
       "        vertical-align: middle;\n",
       "    }\n",
       "\n",
       "    .dataframe tbody tr th {\n",
       "        vertical-align: top;\n",
       "    }\n",
       "\n",
       "    .dataframe thead th {\n",
       "        text-align: right;\n",
       "    }\n",
       "</style>\n",
       "<table border=\"1\" class=\"dataframe\">\n",
       "  <thead>\n",
       "    <tr style=\"text-align: right;\">\n",
       "      <th></th>\n",
       "      <th>children</th>\n",
       "      <th>days_employed</th>\n",
       "      <th>dob_years</th>\n",
       "      <th>education</th>\n",
       "      <th>education_id</th>\n",
       "      <th>family_status</th>\n",
       "      <th>family_status_id</th>\n",
       "      <th>gender</th>\n",
       "      <th>income_type</th>\n",
       "      <th>debt</th>\n",
       "      <th>total_income</th>\n",
       "      <th>purpose</th>\n",
       "      <th>lem_purpose</th>\n",
       "    </tr>\n",
       "  </thead>\n",
       "  <tbody>\n",
       "    <tr>\n",
       "      <td>0</td>\n",
       "      <td>1</td>\n",
       "      <td>8438</td>\n",
       "      <td>42</td>\n",
       "      <td>высшее</td>\n",
       "      <td>0</td>\n",
       "      <td>женат / замужем</td>\n",
       "      <td>0</td>\n",
       "      <td>F</td>\n",
       "      <td>сотрудник</td>\n",
       "      <td>0</td>\n",
       "      <td>253876</td>\n",
       "      <td>покупка жилья</td>\n",
       "      <td>[покупка,  , жилье, \\n]</td>\n",
       "    </tr>\n",
       "    <tr>\n",
       "      <td>1</td>\n",
       "      <td>1</td>\n",
       "      <td>4025</td>\n",
       "      <td>36</td>\n",
       "      <td>среднее</td>\n",
       "      <td>1</td>\n",
       "      <td>женат / замужем</td>\n",
       "      <td>0</td>\n",
       "      <td>F</td>\n",
       "      <td>сотрудник</td>\n",
       "      <td>0</td>\n",
       "      <td>112080</td>\n",
       "      <td>приобретение автомобиля</td>\n",
       "      <td>[приобретение,  , автомобиль, \\n]</td>\n",
       "    </tr>\n",
       "    <tr>\n",
       "      <td>2</td>\n",
       "      <td>0</td>\n",
       "      <td>5623</td>\n",
       "      <td>33</td>\n",
       "      <td>среднее</td>\n",
       "      <td>1</td>\n",
       "      <td>женат / замужем</td>\n",
       "      <td>0</td>\n",
       "      <td>M</td>\n",
       "      <td>сотрудник</td>\n",
       "      <td>0</td>\n",
       "      <td>145886</td>\n",
       "      <td>покупка жилья</td>\n",
       "      <td>[покупка,  , жилье, \\n]</td>\n",
       "    </tr>\n",
       "    <tr>\n",
       "      <td>3</td>\n",
       "      <td>3</td>\n",
       "      <td>4125</td>\n",
       "      <td>32</td>\n",
       "      <td>среднее</td>\n",
       "      <td>1</td>\n",
       "      <td>женат / замужем</td>\n",
       "      <td>0</td>\n",
       "      <td>M</td>\n",
       "      <td>сотрудник</td>\n",
       "      <td>0</td>\n",
       "      <td>267629</td>\n",
       "      <td>дополнительное образование</td>\n",
       "      <td>[дополнительный,  , образование, \\n]</td>\n",
       "    </tr>\n",
       "    <tr>\n",
       "      <td>4</td>\n",
       "      <td>0</td>\n",
       "      <td>14178</td>\n",
       "      <td>53</td>\n",
       "      <td>среднее</td>\n",
       "      <td>1</td>\n",
       "      <td>гражданский брак</td>\n",
       "      <td>1</td>\n",
       "      <td>F</td>\n",
       "      <td>пенсионер</td>\n",
       "      <td>0</td>\n",
       "      <td>158616</td>\n",
       "      <td>сыграть свадьбу</td>\n",
       "      <td>[сыграть,  , свадьба, \\n]</td>\n",
       "    </tr>\n",
       "  </tbody>\n",
       "</table>\n",
       "</div>"
      ],
      "text/plain": [
       "   children  days_employed  dob_years education  education_id  \\\n",
       "0         1           8438         42    высшее             0   \n",
       "1         1           4025         36   среднее             1   \n",
       "2         0           5623         33   среднее             1   \n",
       "3         3           4125         32   среднее             1   \n",
       "4         0          14178         53   среднее             1   \n",
       "\n",
       "      family_status  family_status_id gender income_type  debt  total_income  \\\n",
       "0   женат / замужем                 0      F   сотрудник     0        253876   \n",
       "1   женат / замужем                 0      F   сотрудник     0        112080   \n",
       "2   женат / замужем                 0      M   сотрудник     0        145886   \n",
       "3   женат / замужем                 0      M   сотрудник     0        267629   \n",
       "4  гражданский брак                 1      F   пенсионер     0        158616   \n",
       "\n",
       "                      purpose                           lem_purpose  \n",
       "0               покупка жилья               [покупка,  , жилье, \\n]  \n",
       "1     приобретение автомобиля     [приобретение,  , автомобиль, \\n]  \n",
       "2               покупка жилья               [покупка,  , жилье, \\n]  \n",
       "3  дополнительное образование  [дополнительный,  , образование, \\n]  \n",
       "4             сыграть свадьбу             [сыграть,  , свадьба, \\n]  "
      ]
     },
     "metadata": {},
     "output_type": "display_data"
    },
    {
     "name": "stdout",
     "output_type": "stream",
     "text": [
      "Counter({'автомобиль \\n': 971, 'свадьба \\n': 791, 'на   проведение   свадьба \\n': 767, 'сыграть   свадьба \\n': 765, 'операция   с   недвижимость \\n': 675, 'покупка   коммерческий   недвижимость \\n': 661, 'операция   с   жилье \\n': 652, 'операция   с   коммерческий   недвижимость \\n': 650, 'покупка   жилье   для   сдача \\n': 650, 'покупка   жилье \\n': 646, 'жилье \\n': 646, 'покупка   жилье   для   семья \\n': 638, 'строительство   собственный   недвижимость \\n': 634, 'недвижимость \\n': 633, 'операция   со   свой   недвижимость \\n': 627, 'строительство   жилой   недвижимость \\n': 624, 'покупка   недвижимость \\n': 621, 'покупка   свой   жилье \\n': 620, 'строительство   недвижимость \\n': 619, 'ремонт   жилье \\n': 606, 'покупка   жилой   недвижимость \\n': 605, 'на   покупка   свой   автомобиль \\n': 505, 'заниматься   высокий   образование \\n': 496, 'сделка   с   подержанный   автомобиль \\n': 486, 'на   покупка   подержать   автомобиль \\n': 478, 'свой   автомобиль \\n': 478, 'на   покупка   автомобиль \\n': 471, 'приобретение   автомобиль \\n': 461, 'дополнительный   образование \\n': 460, 'сделка   с   автомобиль \\n': 455, 'высокий   образование \\n': 452, 'образование \\n': 447, 'получение   дополнительный   образование \\n': 446, 'получение   образование \\n': 442, 'профильный   образование \\n': 436, 'получение   высокий   образование \\n': 426, 'заниматься   образование \\n': 408})\n"
     ]
    }
   ],
   "source": [
    "#clear_data['purpose'].unique()\n",
    "# pymystem3 импортируем библиотекb:\n",
    "from pymystem3 import Mystem\n",
    "m = Mystem() \n",
    "from collections import Counter\n",
    "\n",
    "# проводим леметизацию по purpose\n",
    "lem_categ = []\n",
    "def lem(text):\n",
    "    lemmas = m.lemmatize(text) \n",
    "    lem_categ.append(' '.join(lemmas)) \n",
    "    return lemmas\n",
    "\n",
    "clear_data['lem_purpose'] = clear_data['purpose'].apply(lem)\n",
    "display(clear_data.head())\n",
    "print(Counter(lem_categ))"
   ]
  },
  {
   "cell_type": "markdown",
   "metadata": {},
   "source": [
    "**Вывод**"
   ]
  },
  {
   "cell_type": "markdown",
   "metadata": {},
   "source": [
    "При расмотрении столбца purpose датафрейма видно, что много похожих методов описания цели кредита, лемматизация помогла выделить основы слов для дальнейшей категоризации."
   ]
  },
  {
   "cell_type": "markdown",
   "metadata": {},
   "source": [
    "### Категоризация данных"
   ]
  },
  {
   "cell_type": "code",
   "execution_count": 13,
   "metadata": {},
   "outputs": [
    {
     "data": {
      "text/html": [
       "<div>\n",
       "<style scoped>\n",
       "    .dataframe tbody tr th:only-of-type {\n",
       "        vertical-align: middle;\n",
       "    }\n",
       "\n",
       "    .dataframe tbody tr th {\n",
       "        vertical-align: top;\n",
       "    }\n",
       "\n",
       "    .dataframe thead th {\n",
       "        text-align: right;\n",
       "    }\n",
       "</style>\n",
       "<table border=\"1\" class=\"dataframe\">\n",
       "  <thead>\n",
       "    <tr style=\"text-align: right;\">\n",
       "      <th></th>\n",
       "      <th>children</th>\n",
       "      <th>days_employed</th>\n",
       "      <th>dob_years</th>\n",
       "      <th>education</th>\n",
       "      <th>education_id</th>\n",
       "      <th>family_status</th>\n",
       "      <th>family_status_id</th>\n",
       "      <th>gender</th>\n",
       "      <th>income_type</th>\n",
       "      <th>debt</th>\n",
       "      <th>total_income</th>\n",
       "      <th>purpose</th>\n",
       "      <th>lem_purpose</th>\n",
       "      <th>pay_category</th>\n",
       "      <th>stage_category</th>\n",
       "      <th>lem_category</th>\n",
       "    </tr>\n",
       "  </thead>\n",
       "  <tbody>\n",
       "    <tr>\n",
       "      <td>0</td>\n",
       "      <td>1</td>\n",
       "      <td>8438</td>\n",
       "      <td>42</td>\n",
       "      <td>высшее</td>\n",
       "      <td>0</td>\n",
       "      <td>женат / замужем</td>\n",
       "      <td>0</td>\n",
       "      <td>F</td>\n",
       "      <td>сотрудник</td>\n",
       "      <td>0</td>\n",
       "      <td>253876</td>\n",
       "      <td>покупка жилья</td>\n",
       "      <td>[покупка,  , жилье, \\n]</td>\n",
       "      <td>высокий доход</td>\n",
       "      <td>большой стаж</td>\n",
       "      <td>недвижимости</td>\n",
       "    </tr>\n",
       "    <tr>\n",
       "      <td>1</td>\n",
       "      <td>1</td>\n",
       "      <td>4025</td>\n",
       "      <td>36</td>\n",
       "      <td>среднее</td>\n",
       "      <td>1</td>\n",
       "      <td>женат / замужем</td>\n",
       "      <td>0</td>\n",
       "      <td>F</td>\n",
       "      <td>сотрудник</td>\n",
       "      <td>0</td>\n",
       "      <td>112080</td>\n",
       "      <td>приобретение автомобиля</td>\n",
       "      <td>[приобретение,  , автомобиль, \\n]</td>\n",
       "      <td>средний доход</td>\n",
       "      <td>большой стаж</td>\n",
       "      <td>автомобиль</td>\n",
       "    </tr>\n",
       "    <tr>\n",
       "      <td>2</td>\n",
       "      <td>0</td>\n",
       "      <td>5623</td>\n",
       "      <td>33</td>\n",
       "      <td>среднее</td>\n",
       "      <td>1</td>\n",
       "      <td>женат / замужем</td>\n",
       "      <td>0</td>\n",
       "      <td>M</td>\n",
       "      <td>сотрудник</td>\n",
       "      <td>0</td>\n",
       "      <td>145886</td>\n",
       "      <td>покупка жилья</td>\n",
       "      <td>[покупка,  , жилье, \\n]</td>\n",
       "      <td>средний доход</td>\n",
       "      <td>большой стаж</td>\n",
       "      <td>недвижимости</td>\n",
       "    </tr>\n",
       "    <tr>\n",
       "      <td>3</td>\n",
       "      <td>3</td>\n",
       "      <td>4125</td>\n",
       "      <td>32</td>\n",
       "      <td>среднее</td>\n",
       "      <td>1</td>\n",
       "      <td>женат / замужем</td>\n",
       "      <td>0</td>\n",
       "      <td>M</td>\n",
       "      <td>сотрудник</td>\n",
       "      <td>0</td>\n",
       "      <td>267629</td>\n",
       "      <td>дополнительное образование</td>\n",
       "      <td>[дополнительный,  , образование, \\n]</td>\n",
       "      <td>высокий доход</td>\n",
       "      <td>большой стаж</td>\n",
       "      <td>образование</td>\n",
       "    </tr>\n",
       "    <tr>\n",
       "      <td>4</td>\n",
       "      <td>0</td>\n",
       "      <td>14178</td>\n",
       "      <td>53</td>\n",
       "      <td>среднее</td>\n",
       "      <td>1</td>\n",
       "      <td>гражданский брак</td>\n",
       "      <td>1</td>\n",
       "      <td>F</td>\n",
       "      <td>пенсионер</td>\n",
       "      <td>0</td>\n",
       "      <td>158616</td>\n",
       "      <td>сыграть свадьбу</td>\n",
       "      <td>[сыграть,  , свадьба, \\n]</td>\n",
       "      <td>средний доход</td>\n",
       "      <td>большой стаж</td>\n",
       "      <td>свадьба</td>\n",
       "    </tr>\n",
       "  </tbody>\n",
       "</table>\n",
       "</div>"
      ],
      "text/plain": [
       "   children  days_employed  dob_years education  education_id  \\\n",
       "0         1           8438         42    высшее             0   \n",
       "1         1           4025         36   среднее             1   \n",
       "2         0           5623         33   среднее             1   \n",
       "3         3           4125         32   среднее             1   \n",
       "4         0          14178         53   среднее             1   \n",
       "\n",
       "      family_status  family_status_id gender income_type  debt  total_income  \\\n",
       "0   женат / замужем                 0      F   сотрудник     0        253876   \n",
       "1   женат / замужем                 0      F   сотрудник     0        112080   \n",
       "2   женат / замужем                 0      M   сотрудник     0        145886   \n",
       "3   женат / замужем                 0      M   сотрудник     0        267629   \n",
       "4  гражданский брак                 1      F   пенсионер     0        158616   \n",
       "\n",
       "                      purpose                           lem_purpose  \\\n",
       "0               покупка жилья               [покупка,  , жилье, \\n]   \n",
       "1     приобретение автомобиля     [приобретение,  , автомобиль, \\n]   \n",
       "2               покупка жилья               [покупка,  , жилье, \\n]   \n",
       "3  дополнительное образование  [дополнительный,  , образование, \\n]   \n",
       "4             сыграть свадьбу             [сыграть,  , свадьба, \\n]   \n",
       "\n",
       "    pay_category stage_category  lem_category  \n",
       "0  высокий доход   большой стаж  недвижимости  \n",
       "1  средний доход   большой стаж    автомобиль  \n",
       "2  средний доход   большой стаж  недвижимости  \n",
       "3  высокий доход   большой стаж   образование  \n",
       "4  средний доход   большой стаж       свадьба  "
      ]
     },
     "metadata": {},
     "output_type": "display_data"
    }
   ],
   "source": [
    "#категоризация дохода\n",
    "def total_income(pay):\n",
    "    \"\"\"\n",
    "    Возвращает уровень дохода:\n",
    "    - 'низкий доход', если pay <= 100000;\n",
    "    - 'средний доход', если pay более 100000 и менее 250000, включая 100000 и 250000;\n",
    "    - 'высокий доход' — во всех остальных случаях.\n",
    "    \"\"\"    \n",
    "    if pay <= 100000:\n",
    "        return 'низкий доход'\n",
    "    if pay <= 200000:\n",
    "        return 'средний доход'\n",
    "    return 'высокий доход'\n",
    "\n",
    "clear_data['pay_category'] = clear_data['total_income'].apply(total_income)\n",
    "\n",
    "#категоризация стажа\n",
    "def stage(day):\n",
    "    \"\"\"\n",
    "    Возвращает стаж:\n",
    "    - 'маленький стаж', если вay <= 1 095 дней;\n",
    "    - 'средний стаж', если вay более 1 095 и менее 3 650, включая 1 095 и 3 650;\n",
    "    - 'большой стаж' — во всех остальных случаях.\n",
    "    - 'аномали' стаж более 50 лет \n",
    "    \"\"\"    \n",
    "    if day <= 1095:\n",
    "        return 'маленький стаж'\n",
    "    if day <= 3650:\n",
    "        return 'средний стаж'\n",
    "    if day <= 18250:\n",
    "        return 'большой стаж'\n",
    "    return 'аномалия' \n",
    "\n",
    "clear_data['stage_category'] = clear_data['days_employed'].apply(stage)\n",
    "\n",
    "#категоризация лем\n",
    "def lem(lems):\n",
    "    \"\"\"\n",
    "    Возвращает очищенные строки:\n",
    "    Недвижимость можно поделить на несколько категорий\n",
    "    \"\"\"    \n",
    "    if 'жилье' in lems:\n",
    "        return 'недвижимости'\n",
    "    if 'недвижимость' in lems:\n",
    "        return 'недвижимости'\n",
    "    if 'свадьба' in lems:\n",
    "        return 'свадьба'\n",
    "    if 'автомобиль' in lems:\n",
    "        return 'автомобиль' \n",
    "    if 'образование' in lems:\n",
    "        return 'образование'\n",
    "    return 'такого не найдено'\n",
    "\n",
    "clear_data['lem_category'] = clear_data['lem_purpose'].apply(lem)\n",
    "display(clear_data.head())\n",
    "#Ловим все категории\n",
    "#clear_data['lem_category'].unique()"
   ]
  },
  {
   "cell_type": "markdown",
   "metadata": {},
   "source": [
    "**Вывод**"
   ]
  },
  {
   "cell_type": "markdown",
   "metadata": {},
   "source": [
    "Для категоризаци выбраны данные которые сложно обрабатывать по отдельности, они сгрупированы в категории для дальнейшего анализа."
   ]
  },
  {
   "cell_type": "markdown",
   "metadata": {},
   "source": [
    "- Есть ли зависимость между наличием детей и возвратом кредита в срок?"
   ]
  },
  {
   "cell_type": "code",
   "execution_count": 14,
   "metadata": {},
   "outputs": [
    {
     "name": "stdout",
     "output_type": "stream",
     "text": [
      "123\n"
     ]
    },
    {
     "data": {
      "text/html": [
       "<div>\n",
       "<style scoped>\n",
       "    .dataframe tbody tr th:only-of-type {\n",
       "        vertical-align: middle;\n",
       "    }\n",
       "\n",
       "    .dataframe tbody tr th {\n",
       "        vertical-align: top;\n",
       "    }\n",
       "\n",
       "    .dataframe thead th {\n",
       "        text-align: right;\n",
       "    }\n",
       "</style>\n",
       "<table border=\"1\" class=\"dataframe\">\n",
       "  <thead>\n",
       "    <tr style=\"text-align: right;\">\n",
       "      <th></th>\n",
       "      <th>all_count</th>\n",
       "      <th>not_debt</th>\n",
       "      <th>depend_child_prsent</th>\n",
       "    </tr>\n",
       "    <tr>\n",
       "      <th>children</th>\n",
       "      <th></th>\n",
       "      <th></th>\n",
       "      <th></th>\n",
       "    </tr>\n",
       "  </thead>\n",
       "  <tbody>\n",
       "    <tr>\n",
       "      <td>0</td>\n",
       "      <td>14210</td>\n",
       "      <td>1063</td>\n",
       "      <td>0.074806</td>\n",
       "    </tr>\n",
       "    <tr>\n",
       "      <td>1</td>\n",
       "      <td>4807</td>\n",
       "      <td>443</td>\n",
       "      <td>0.092157</td>\n",
       "    </tr>\n",
       "    <tr>\n",
       "      <td>2</td>\n",
       "      <td>2051</td>\n",
       "      <td>193</td>\n",
       "      <td>0.094100</td>\n",
       "    </tr>\n",
       "    <tr>\n",
       "      <td>3</td>\n",
       "      <td>330</td>\n",
       "      <td>27</td>\n",
       "      <td>0.081818</td>\n",
       "    </tr>\n",
       "    <tr>\n",
       "      <td>4</td>\n",
       "      <td>41</td>\n",
       "      <td>4</td>\n",
       "      <td>0.097561</td>\n",
       "    </tr>\n",
       "    <tr>\n",
       "      <td>5</td>\n",
       "      <td>9</td>\n",
       "      <td>0</td>\n",
       "      <td>0.000000</td>\n",
       "    </tr>\n",
       "  </tbody>\n",
       "</table>\n",
       "</div>"
      ],
      "text/plain": [
       "          all_count  not_debt  depend_child_prsent\n",
       "children                                          \n",
       "0             14210      1063             0.074806\n",
       "1              4807       443             0.092157\n",
       "2              2051       193             0.094100\n",
       "3               330        27             0.081818\n",
       "4                41         4             0.097561\n",
       "5                 9         0             0.000000"
      ]
     },
     "metadata": {},
     "output_type": "display_data"
    }
   ],
   "source": [
    "#clear_data['children'].corr(clear_data['debt'])\n",
    "\n",
    "#Для начала проверим какие значения есть в столбце дети и возврат долгов\n",
    "clear_data['children'].unique()\n",
    "#clear_data['debt'].unique()\n",
    "\n",
    "# в столбце 'children' есть сомнительные данные -1 и 20 посчитаем их колмчество\n",
    "count_child = clear_data[clear_data['children'] == -1]['children'].count()\n",
    "count_child += clear_data[clear_data['children'] == 20]['children'].count()\n",
    "print(count_child)\n",
    "\n",
    "# всего 123 значения думаю можно присвоить 0 \n",
    "clear_data.loc[(clear_data['children'] == -1)] = 0\n",
    "clear_data.loc[(clear_data['children'] == 20)] = 0\n",
    "clear_data['children'].unique()\n",
    "\n",
    "# теперь можно свести все данные в таблицу и посмотреть \n",
    "depend_child = pd.pivot_table(clear_data, values='debt', index='children', aggfunc=['count', 'sum'])\n",
    "depend_child.columns = ['all_count', 'not_debt']\n",
    "depend_child['depend_child_prsent'] = depend_child['not_debt'] / depend_child['all_count']\n",
    "display(depend_child)"
   ]
  },
  {
   "cell_type": "markdown",
   "metadata": {},
   "source": [
    "**Вывод**"
   ]
  },
  {
   "cell_type": "markdown",
   "metadata": {},
   "source": [
    "можно сказать следующее - наличие детей в семье оказывает незначительное влияние на возврат долга, среди тех у кого нет детей на 2% меньше невозвратов, а так же можно отследить зависимость, чем больше детей тем меньше берут кредит."
   ]
  },
  {
   "cell_type": "markdown",
   "metadata": {},
   "source": [
    "- Есть ли зависимость между семейным положением и возвратом кредита в срок?"
   ]
  },
  {
   "cell_type": "code",
   "execution_count": 15,
   "metadata": {},
   "outputs": [
    {
     "data": {
      "text/html": [
       "<div>\n",
       "<style scoped>\n",
       "    .dataframe tbody tr th:only-of-type {\n",
       "        vertical-align: middle;\n",
       "    }\n",
       "\n",
       "    .dataframe tbody tr th {\n",
       "        vertical-align: top;\n",
       "    }\n",
       "\n",
       "    .dataframe thead th {\n",
       "        text-align: right;\n",
       "    }\n",
       "</style>\n",
       "<table border=\"1\" class=\"dataframe\">\n",
       "  <thead>\n",
       "    <tr style=\"text-align: right;\">\n",
       "      <th></th>\n",
       "      <th>all_count</th>\n",
       "      <th>not_debt</th>\n",
       "      <th>depend_family_status_prsent</th>\n",
       "    </tr>\n",
       "    <tr>\n",
       "      <th>family_status</th>\n",
       "      <th></th>\n",
       "      <th></th>\n",
       "      <th></th>\n",
       "    </tr>\n",
       "  </thead>\n",
       "  <tbody>\n",
       "    <tr>\n",
       "      <td>0</td>\n",
       "      <td>123</td>\n",
       "      <td>0</td>\n",
       "      <td>0.000000</td>\n",
       "    </tr>\n",
       "    <tr>\n",
       "      <td>в разводе</td>\n",
       "      <td>1189</td>\n",
       "      <td>84</td>\n",
       "      <td>0.070648</td>\n",
       "    </tr>\n",
       "    <tr>\n",
       "      <td>вдовец / вдова</td>\n",
       "      <td>951</td>\n",
       "      <td>63</td>\n",
       "      <td>0.066246</td>\n",
       "    </tr>\n",
       "    <tr>\n",
       "      <td>гражданский брак</td>\n",
       "      <td>4132</td>\n",
       "      <td>385</td>\n",
       "      <td>0.093175</td>\n",
       "    </tr>\n",
       "    <tr>\n",
       "      <td>женат / замужем</td>\n",
       "      <td>12258</td>\n",
       "      <td>925</td>\n",
       "      <td>0.075461</td>\n",
       "    </tr>\n",
       "    <tr>\n",
       "      <td>не женат / не замужем</td>\n",
       "      <td>2795</td>\n",
       "      <td>273</td>\n",
       "      <td>0.097674</td>\n",
       "    </tr>\n",
       "  </tbody>\n",
       "</table>\n",
       "</div>"
      ],
      "text/plain": [
       "                       all_count  not_debt  depend_family_status_prsent\n",
       "family_status                                                          \n",
       "0                            123         0                     0.000000\n",
       "в разводе                   1189        84                     0.070648\n",
       "вдовец / вдова               951        63                     0.066246\n",
       "гражданский брак            4132       385                     0.093175\n",
       "женат / замужем            12258       925                     0.075461\n",
       "не женат / не замужем       2795       273                     0.097674"
      ]
     },
     "metadata": {},
     "output_type": "display_data"
    }
   ],
   "source": [
    "# cведем все данные в таблицу и посмотрим\n",
    "\n",
    "depend_family_status = pd.pivot_table(clear_data, values='debt', index='family_status', aggfunc=['count', 'sum'])\n",
    "depend_family_status.columns = ['all_count', 'not_debt']\n",
    "depend_family_status['depend_family_status_prsent'] = depend_family_status['not_debt'] / depend_family_status['all_count']\n",
    "display(depend_family_status)"
   ]
  },
  {
   "cell_type": "markdown",
   "metadata": {},
   "source": [
    "**Вывод**"
   ]
  },
  {
   "cell_type": "markdown",
   "metadata": {},
   "source": [
    "Семейное положение тоже оказывает влияние, больше всего невозвратов у тех кто живет гражданским браком и холост."
   ]
  },
  {
   "cell_type": "markdown",
   "metadata": {},
   "source": [
    "- Есть ли зависимость между уровнем дохода и возвратом кредита в срок?"
   ]
  },
  {
   "cell_type": "code",
   "execution_count": 16,
   "metadata": {},
   "outputs": [
    {
     "data": {
      "text/html": [
       "<div>\n",
       "<style scoped>\n",
       "    .dataframe tbody tr th:only-of-type {\n",
       "        vertical-align: middle;\n",
       "    }\n",
       "\n",
       "    .dataframe tbody tr th {\n",
       "        vertical-align: top;\n",
       "    }\n",
       "\n",
       "    .dataframe thead th {\n",
       "        text-align: right;\n",
       "    }\n",
       "</style>\n",
       "<table border=\"1\" class=\"dataframe\">\n",
       "  <thead>\n",
       "    <tr style=\"text-align: right;\">\n",
       "      <th></th>\n",
       "      <th>all_count</th>\n",
       "      <th>not_debt</th>\n",
       "      <th>depend_pay_category_prsent</th>\n",
       "    </tr>\n",
       "    <tr>\n",
       "      <th>pay_category</th>\n",
       "      <th></th>\n",
       "      <th></th>\n",
       "      <th></th>\n",
       "    </tr>\n",
       "  </thead>\n",
       "  <tbody>\n",
       "    <tr>\n",
       "      <td>0</td>\n",
       "      <td>123</td>\n",
       "      <td>0</td>\n",
       "      <td>0.000000</td>\n",
       "    </tr>\n",
       "    <tr>\n",
       "      <td>высокий доход</td>\n",
       "      <td>5036</td>\n",
       "      <td>356</td>\n",
       "      <td>0.070691</td>\n",
       "    </tr>\n",
       "    <tr>\n",
       "      <td>низкий доход</td>\n",
       "      <td>4441</td>\n",
       "      <td>352</td>\n",
       "      <td>0.079261</td>\n",
       "    </tr>\n",
       "    <tr>\n",
       "      <td>средний доход</td>\n",
       "      <td>11848</td>\n",
       "      <td>1022</td>\n",
       "      <td>0.086259</td>\n",
       "    </tr>\n",
       "  </tbody>\n",
       "</table>\n",
       "</div>"
      ],
      "text/plain": [
       "               all_count  not_debt  depend_pay_category_prsent\n",
       "pay_category                                                  \n",
       "0                    123         0                    0.000000\n",
       "высокий доход       5036       356                    0.070691\n",
       "низкий доход        4441       352                    0.079261\n",
       "средний доход      11848      1022                    0.086259"
      ]
     },
     "metadata": {},
     "output_type": "display_data"
    }
   ],
   "source": [
    "#clear_data['total_income'].corr(clear_data['debt'])\n",
    "depend_pay_category = pd.pivot_table(clear_data, values='debt', index='pay_category', aggfunc=['count', 'sum'])\n",
    "depend_pay_category.columns = ['all_count', 'not_debt']\n",
    "depend_pay_category['depend_pay_category_prsent'] = depend_pay_category['not_debt'] / depend_pay_category['all_count']\n",
    "#depend_child_prsent.rename(columns={'children': 'persent'})\n",
    "display(depend_pay_category)"
   ]
  },
  {
   "cell_type": "markdown",
   "metadata": {},
   "source": [
    "**Вывод**"
   ]
  },
  {
   "cell_type": "markdown",
   "metadata": {},
   "source": [
    "В категории по доходам чаще всего не возвращают люди с средним доходом, у тех кто имеет высокий доход процент невазврата ниже всего."
   ]
  },
  {
   "cell_type": "markdown",
   "metadata": {},
   "source": [
    "- Как разные цели кредита влияют на его возврат в срок?"
   ]
  },
  {
   "cell_type": "code",
   "execution_count": 17,
   "metadata": {},
   "outputs": [
    {
     "data": {
      "text/html": [
       "<div>\n",
       "<style scoped>\n",
       "    .dataframe tbody tr th:only-of-type {\n",
       "        vertical-align: middle;\n",
       "    }\n",
       "\n",
       "    .dataframe tbody tr th {\n",
       "        vertical-align: top;\n",
       "    }\n",
       "\n",
       "    .dataframe thead th {\n",
       "        text-align: right;\n",
       "    }\n",
       "</style>\n",
       "<table border=\"1\" class=\"dataframe\">\n",
       "  <thead>\n",
       "    <tr style=\"text-align: right;\">\n",
       "      <th></th>\n",
       "      <th>all_count</th>\n",
       "      <th>not_debt</th>\n",
       "      <th>depend_lem_category_prsent</th>\n",
       "    </tr>\n",
       "    <tr>\n",
       "      <th>lem_category</th>\n",
       "      <th></th>\n",
       "      <th></th>\n",
       "      <th></th>\n",
       "    </tr>\n",
       "  </thead>\n",
       "  <tbody>\n",
       "    <tr>\n",
       "      <td>0</td>\n",
       "      <td>123</td>\n",
       "      <td>0</td>\n",
       "      <td>0.000000</td>\n",
       "    </tr>\n",
       "    <tr>\n",
       "      <td>автомобиль</td>\n",
       "      <td>4278</td>\n",
       "      <td>399</td>\n",
       "      <td>0.093268</td>\n",
       "    </tr>\n",
       "    <tr>\n",
       "      <td>недвижимости</td>\n",
       "      <td>10747</td>\n",
       "      <td>779</td>\n",
       "      <td>0.072485</td>\n",
       "    </tr>\n",
       "    <tr>\n",
       "      <td>образование</td>\n",
       "      <td>3988</td>\n",
       "      <td>369</td>\n",
       "      <td>0.092528</td>\n",
       "    </tr>\n",
       "    <tr>\n",
       "      <td>свадьба</td>\n",
       "      <td>2312</td>\n",
       "      <td>183</td>\n",
       "      <td>0.079152</td>\n",
       "    </tr>\n",
       "  </tbody>\n",
       "</table>\n",
       "</div>"
      ],
      "text/plain": [
       "              all_count  not_debt  depend_lem_category_prsent\n",
       "lem_category                                                 \n",
       "0                   123         0                    0.000000\n",
       "автомобиль         4278       399                    0.093268\n",
       "недвижимости      10747       779                    0.072485\n",
       "образование        3988       369                    0.092528\n",
       "свадьба            2312       183                    0.079152"
      ]
     },
     "metadata": {},
     "output_type": "display_data"
    }
   ],
   "source": [
    "depend_lem_category = pd.pivot_table(clear_data, values='debt', index='lem_category', aggfunc=['count', 'sum'])\n",
    "depend_lem_category.columns = ['all_count', 'not_debt']\n",
    "depend_lem_category['depend_lem_category_prsent'] = depend_lem_category['not_debt'] / depend_lem_category['all_count']\n",
    "#depend_child_prsent.rename(columns={'children': 'persent'})\n",
    "display(depend_lem_category)"
   ]
  },
  {
   "cell_type": "markdown",
   "metadata": {},
   "source": [
    "**Вывод**"
   ]
  },
  {
   "cell_type": "markdown",
   "metadata": {},
   "source": [
    "Сами рисковаными кредитами оказались кредиты на образование и автомобили, тут количество невозвратов чуть более 9%."
   ]
  },
  {
   "cell_type": "markdown",
   "metadata": {},
   "source": [
    "## Шаг 4. Общий вывод"
   ]
  },
  {
   "cell_type": "markdown",
   "metadata": {},
   "source": [
    "<li>Подводя итоги можно сказать следующее - наличие детей в семье оказывает незначительное влияние на возврат долга, среди тех у кого нет детей на 2% меньше невозвратов, а так же можно отследить зависимость, чем больше детей тем меньше берут кредит.</li>\n",
    "<li>Семейное положение тоже оказывает влияние, больше всего невозвратов у тех кто живет гражданским браком и холост.</li>\n",
    "<li>В категории по доходам чаще всего не возвращают люди с средним доходом, у тех кто имеет высокий доход процент невазврата ниже всего.</li>\n",
    "<li>Самими рисковаными кредитами оказались кредиты на образование и автомобили, тут количество невозвратов чуть более 9%.</li>\n",
    "<li>При анализе данных были найдены пропуски, сначало было принято решение удалить все пропуски, но при подсчете выяснилось ,что их около 10%, а это уже может повлиять на общий результат, тогда было принято решение земенить их на медианные значения, но и тут проанализировав результаты стало понятно, что данные могут быть связаны с другими колонками, тогда было решено, заменять средним по категориям от которых могут зависить пропуски.</li>"
   ]
  }
 ],
 "metadata": {
  "ExecuteTimeLog": [
   {
    "duration": 606,
    "start_time": "2021-12-04T17:58:43.732Z"
   },
   {
    "duration": 68,
    "start_time": "2021-12-04T17:59:05.090Z"
   },
   {
    "duration": 54,
    "start_time": "2021-12-04T17:59:29.644Z"
   },
   {
    "duration": 53,
    "start_time": "2021-12-04T17:59:40.094Z"
   },
   {
    "duration": 85,
    "start_time": "2021-12-04T18:00:29.158Z"
   },
   {
    "duration": 586,
    "start_time": "2021-12-05T15:24:33.031Z"
   },
   {
    "duration": 74,
    "start_time": "2021-12-05T15:48:16.646Z"
   },
   {
    "duration": 9,
    "start_time": "2021-12-05T16:28:33.258Z"
   },
   {
    "duration": 9,
    "start_time": "2021-12-05T16:35:51.455Z"
   },
   {
    "duration": 11,
    "start_time": "2021-12-05T16:36:12.072Z"
   },
   {
    "duration": 8,
    "start_time": "2021-12-05T16:41:14.027Z"
   },
   {
    "duration": 27,
    "start_time": "2021-12-05T16:48:36.237Z"
   },
   {
    "duration": 10,
    "start_time": "2021-12-05T16:49:27.712Z"
   },
   {
    "duration": 11,
    "start_time": "2021-12-05T16:49:30.652Z"
   },
   {
    "duration": 10,
    "start_time": "2021-12-05T16:50:04.946Z"
   },
   {
    "duration": 14,
    "start_time": "2021-12-05T16:50:15.767Z"
   },
   {
    "duration": 65,
    "start_time": "2021-12-05T16:52:01.022Z"
   },
   {
    "duration": 53,
    "start_time": "2021-12-05T16:52:07.381Z"
   },
   {
    "duration": 244,
    "start_time": "2021-12-05T16:52:24.738Z"
   },
   {
    "duration": 200,
    "start_time": "2021-12-05T16:53:02.043Z"
   },
   {
    "duration": 6,
    "start_time": "2021-12-05T16:55:30.007Z"
   },
   {
    "duration": 8,
    "start_time": "2021-12-05T16:56:15.258Z"
   },
   {
    "duration": 8,
    "start_time": "2021-12-05T16:56:30.596Z"
   },
   {
    "duration": 8,
    "start_time": "2021-12-05T16:56:32.568Z"
   },
   {
    "duration": 8,
    "start_time": "2021-12-05T16:56:42.440Z"
   },
   {
    "duration": 8,
    "start_time": "2021-12-05T16:56:59.905Z"
   },
   {
    "duration": 5,
    "start_time": "2021-12-05T16:57:18.400Z"
   },
   {
    "duration": 7646,
    "start_time": "2021-12-05T16:58:08.492Z"
   },
   {
    "duration": 6,
    "start_time": "2021-12-05T16:58:28.936Z"
   },
   {
    "duration": 14,
    "start_time": "2021-12-05T16:58:58.011Z"
   },
   {
    "duration": 5,
    "start_time": "2021-12-05T16:59:27.718Z"
   },
   {
    "duration": 4,
    "start_time": "2021-12-05T17:00:11.910Z"
   },
   {
    "duration": 6,
    "start_time": "2021-12-05T17:00:23.222Z"
   },
   {
    "duration": 179,
    "start_time": "2021-12-05T17:02:35.243Z"
   },
   {
    "duration": 174,
    "start_time": "2021-12-05T17:03:43.709Z"
   },
   {
    "duration": 3,
    "start_time": "2021-12-05T17:04:05.599Z"
   },
   {
    "duration": 5,
    "start_time": "2021-12-05T17:05:15.484Z"
   },
   {
    "duration": 5,
    "start_time": "2021-12-05T17:05:42.226Z"
   },
   {
    "duration": 12,
    "start_time": "2021-12-05T17:06:32.650Z"
   },
   {
    "duration": 20,
    "start_time": "2021-12-05T17:06:57.776Z"
   },
   {
    "duration": 16,
    "start_time": "2021-12-05T17:07:02.305Z"
   },
   {
    "duration": 177,
    "start_time": "2021-12-05T17:08:11.725Z"
   },
   {
    "duration": 173,
    "start_time": "2021-12-05T17:08:34.614Z"
   },
   {
    "duration": 160,
    "start_time": "2021-12-05T17:09:46.257Z"
   },
   {
    "duration": 3,
    "start_time": "2021-12-05T17:09:57.665Z"
   },
   {
    "duration": 3,
    "start_time": "2021-12-05T17:10:01.656Z"
   },
   {
    "duration": 3,
    "start_time": "2021-12-05T17:10:48.964Z"
   },
   {
    "duration": 3,
    "start_time": "2021-12-05T17:10:57.940Z"
   },
   {
    "duration": 4,
    "start_time": "2021-12-05T17:12:53.235Z"
   },
   {
    "duration": 4,
    "start_time": "2021-12-05T17:13:16.552Z"
   },
   {
    "duration": 13,
    "start_time": "2021-12-05T17:13:41.962Z"
   },
   {
    "duration": 9,
    "start_time": "2021-12-05T17:13:42.728Z"
   },
   {
    "duration": 7,
    "start_time": "2021-12-05T17:21:09.148Z"
   },
   {
    "duration": 9,
    "start_time": "2021-12-05T17:21:45.699Z"
   },
   {
    "duration": 9,
    "start_time": "2021-12-05T17:21:55.319Z"
   },
   {
    "duration": 8,
    "start_time": "2021-12-05T17:22:02.917Z"
   },
   {
    "duration": 8,
    "start_time": "2021-12-05T17:22:20.985Z"
   },
   {
    "duration": 2,
    "start_time": "2021-12-05T17:22:33.403Z"
   },
   {
    "duration": 87,
    "start_time": "2021-12-05T17:22:48.154Z"
   },
   {
    "duration": 9,
    "start_time": "2021-12-05T17:22:50.997Z"
   },
   {
    "duration": 2,
    "start_time": "2021-12-05T17:22:51.915Z"
   },
   {
    "duration": 11,
    "start_time": "2021-12-05T17:22:52.528Z"
   },
   {
    "duration": 9,
    "start_time": "2021-12-05T17:22:53.010Z"
   },
   {
    "duration": 626,
    "start_time": "2021-12-05T17:23:08.102Z"
   },
   {
    "duration": 11,
    "start_time": "2021-12-05T17:23:10.822Z"
   },
   {
    "duration": 2,
    "start_time": "2021-12-05T17:23:11.590Z"
   },
   {
    "duration": 8,
    "start_time": "2021-12-05T17:24:30.451Z"
   },
   {
    "duration": 20,
    "start_time": "2021-12-05T17:24:59.326Z"
   },
   {
    "duration": 19,
    "start_time": "2021-12-05T17:25:57.290Z"
   },
   {
    "duration": 20,
    "start_time": "2021-12-05T17:26:30.706Z"
   },
   {
    "duration": 18,
    "start_time": "2021-12-05T17:26:37.817Z"
   },
   {
    "duration": 18,
    "start_time": "2021-12-05T17:27:28.705Z"
   },
   {
    "duration": 2,
    "start_time": "2021-12-05T17:27:35.920Z"
   },
   {
    "duration": 4,
    "start_time": "2021-12-05T17:38:38.265Z"
   },
   {
    "duration": 4,
    "start_time": "2021-12-05T17:39:01.113Z"
   },
   {
    "duration": 63,
    "start_time": "2021-12-05T17:50:14.285Z"
   },
   {
    "duration": 24,
    "start_time": "2021-12-05T17:50:52.258Z"
   },
   {
    "duration": 24,
    "start_time": "2021-12-05T17:51:55.040Z"
   },
   {
    "duration": 5,
    "start_time": "2021-12-05T17:53:05.072Z"
   },
   {
    "duration": 16,
    "start_time": "2021-12-05T17:54:41.369Z"
   },
   {
    "duration": 15,
    "start_time": "2021-12-05T17:55:18.420Z"
   },
   {
    "duration": 4,
    "start_time": "2021-12-05T17:55:34.432Z"
   },
   {
    "duration": 14,
    "start_time": "2021-12-05T17:55:58.177Z"
   },
   {
    "duration": 16,
    "start_time": "2021-12-05T17:56:12.384Z"
   },
   {
    "duration": 5,
    "start_time": "2021-12-05T17:56:30.767Z"
   },
   {
    "duration": 3,
    "start_time": "2021-12-05T18:04:25.638Z"
   },
   {
    "duration": 6,
    "start_time": "2021-12-05T18:04:26.022Z"
   },
   {
    "duration": 296,
    "start_time": "2021-12-05T18:04:43.772Z"
   },
   {
    "duration": 668,
    "start_time": "2021-12-05T18:05:01.985Z"
   },
   {
    "duration": 10,
    "start_time": "2021-12-05T18:05:03.537Z"
   },
   {
    "duration": 14,
    "start_time": "2021-12-05T18:05:03.857Z"
   },
   {
    "duration": 5,
    "start_time": "2021-12-05T18:05:04.137Z"
   },
   {
    "duration": 7,
    "start_time": "2021-12-05T18:10:34.131Z"
   },
   {
    "duration": 24,
    "start_time": "2021-12-05T18:11:53.943Z"
   },
   {
    "duration": 5,
    "start_time": "2021-12-05T18:12:12.046Z"
   },
   {
    "duration": 352,
    "start_time": "2021-12-05T18:24:36.194Z"
   },
   {
    "duration": 3,
    "start_time": "2021-12-05T18:24:41.597Z"
   },
   {
    "duration": 6,
    "start_time": "2021-12-05T18:24:42.385Z"
   },
   {
    "duration": 9,
    "start_time": "2021-12-05T18:24:58.265Z"
   },
   {
    "duration": 11,
    "start_time": "2021-12-05T18:25:04.463Z"
   },
   {
    "duration": 180,
    "start_time": "2021-12-05T18:27:31.608Z"
   },
   {
    "duration": 64,
    "start_time": "2021-12-05T18:31:30.736Z"
   },
   {
    "duration": 283,
    "start_time": "2021-12-05T18:31:45.404Z"
   },
   {
    "duration": 184,
    "start_time": "2021-12-05T18:31:54.145Z"
   },
   {
    "duration": 22,
    "start_time": "2021-12-05T18:32:23.479Z"
   },
   {
    "duration": 33,
    "start_time": "2021-12-05T18:32:37.433Z"
   },
   {
    "duration": 230,
    "start_time": "2021-12-05T18:33:05.639Z"
   },
   {
    "duration": 223,
    "start_time": "2021-12-05T18:33:10.384Z"
   },
   {
    "duration": 41,
    "start_time": "2021-12-05T18:33:18.065Z"
   },
   {
    "duration": 22,
    "start_time": "2021-12-05T18:34:23.792Z"
   },
   {
    "duration": 20,
    "start_time": "2021-12-05T18:34:29.771Z"
   },
   {
    "duration": 3,
    "start_time": "2021-12-05T18:34:38.996Z"
   },
   {
    "duration": 20,
    "start_time": "2021-12-05T18:34:39.643Z"
   },
   {
    "duration": 368,
    "start_time": "2021-12-05T18:34:52.379Z"
   },
   {
    "duration": 685,
    "start_time": "2021-12-05T18:34:58.914Z"
   },
   {
    "duration": 11,
    "start_time": "2021-12-05T18:35:03.470Z"
   },
   {
    "duration": 19,
    "start_time": "2021-12-05T18:35:04.796Z"
   },
   {
    "duration": 5,
    "start_time": "2021-12-05T18:35:06.586Z"
   },
   {
    "duration": 2,
    "start_time": "2021-12-05T18:35:07.689Z"
   },
   {
    "duration": 21,
    "start_time": "2021-12-05T18:35:08.204Z"
   },
   {
    "duration": 55,
    "start_time": "2021-12-05T18:35:22.669Z"
   },
   {
    "duration": 436,
    "start_time": "2021-12-05T18:35:45.138Z"
   },
   {
    "duration": 24,
    "start_time": "2021-12-05T18:36:23.279Z"
   },
   {
    "duration": 22,
    "start_time": "2021-12-05T18:36:28.192Z"
   },
   {
    "duration": 213,
    "start_time": "2021-12-05T18:36:50.168Z"
   },
   {
    "duration": 26,
    "start_time": "2021-12-05T18:37:54.798Z"
   },
   {
    "duration": 16,
    "start_time": "2021-12-05T18:38:06.392Z"
   },
   {
    "duration": 25,
    "start_time": "2021-12-05T18:38:10.742Z"
   },
   {
    "duration": 25,
    "start_time": "2021-12-05T18:40:43.123Z"
   },
   {
    "duration": 23,
    "start_time": "2021-12-05T18:41:14.480Z"
   },
   {
    "duration": 24,
    "start_time": "2021-12-05T18:41:17.365Z"
   },
   {
    "duration": 22,
    "start_time": "2021-12-05T18:41:40.553Z"
   },
   {
    "duration": 27,
    "start_time": "2021-12-05T18:41:44.377Z"
   },
   {
    "duration": 23,
    "start_time": "2021-12-05T18:41:51.732Z"
   },
   {
    "duration": 1618,
    "start_time": "2021-12-05T18:42:50.702Z"
   },
   {
    "duration": 31,
    "start_time": "2021-12-05T18:43:38.555Z"
   },
   {
    "duration": 23,
    "start_time": "2021-12-05T18:43:42.073Z"
   },
   {
    "duration": 24,
    "start_time": "2021-12-05T18:44:30.306Z"
   },
   {
    "duration": 641,
    "start_time": "2021-12-05T18:45:08.305Z"
   },
   {
    "duration": 9,
    "start_time": "2021-12-05T18:45:08.951Z"
   },
   {
    "duration": 14,
    "start_time": "2021-12-05T18:45:09.318Z"
   },
   {
    "duration": 5,
    "start_time": "2021-12-05T18:45:09.333Z"
   },
   {
    "duration": 3,
    "start_time": "2021-12-05T18:45:10.837Z"
   },
   {
    "duration": 22,
    "start_time": "2021-12-05T18:45:11.922Z"
   },
   {
    "duration": 31,
    "start_time": "2021-12-05T18:45:32.238Z"
   },
   {
    "duration": 22,
    "start_time": "2021-12-05T18:45:35.690Z"
   },
   {
    "duration": 27,
    "start_time": "2021-12-05T18:45:48.057Z"
   },
   {
    "duration": 21,
    "start_time": "2021-12-05T18:46:05.689Z"
   },
   {
    "duration": 23,
    "start_time": "2021-12-05T18:46:08.709Z"
   },
   {
    "duration": 205,
    "start_time": "2021-12-05T18:46:23.997Z"
   },
   {
    "duration": 605,
    "start_time": "2021-12-05T18:46:28.528Z"
   },
   {
    "duration": 10,
    "start_time": "2021-12-05T18:46:31.036Z"
   },
   {
    "duration": 15,
    "start_time": "2021-12-05T18:46:31.048Z"
   },
   {
    "duration": 8,
    "start_time": "2021-12-05T18:46:31.065Z"
   },
   {
    "duration": 2,
    "start_time": "2021-12-05T18:46:31.590Z"
   },
   {
    "duration": 37,
    "start_time": "2021-12-05T18:46:31.594Z"
   },
   {
    "duration": 33,
    "start_time": "2021-12-05T18:46:48.148Z"
   },
   {
    "duration": 657,
    "start_time": "2021-12-05T18:47:08.669Z"
   },
   {
    "duration": 11,
    "start_time": "2021-12-05T18:47:11.672Z"
   },
   {
    "duration": 16,
    "start_time": "2021-12-05T18:47:12.026Z"
   },
   {
    "duration": 5,
    "start_time": "2021-12-05T18:47:12.456Z"
   },
   {
    "duration": 2,
    "start_time": "2021-12-05T18:47:12.799Z"
   },
   {
    "duration": 22,
    "start_time": "2021-12-05T18:47:13.220Z"
   },
   {
    "duration": 9,
    "start_time": "2021-12-05T18:47:54.197Z"
   },
   {
    "duration": 14,
    "start_time": "2021-12-05T18:53:23.339Z"
   },
   {
    "duration": 18,
    "start_time": "2021-12-05T18:54:08.317Z"
   },
   {
    "duration": 17,
    "start_time": "2021-12-05T18:55:15.363Z"
   },
   {
    "duration": 22,
    "start_time": "2021-12-05T18:55:37.195Z"
   },
   {
    "duration": 32,
    "start_time": "2021-12-05T18:56:15.515Z"
   },
   {
    "duration": 19,
    "start_time": "2021-12-05T19:00:05.194Z"
   },
   {
    "duration": 19,
    "start_time": "2021-12-05T19:04:42.337Z"
   },
   {
    "duration": 18,
    "start_time": "2021-12-05T19:04:46.761Z"
   },
   {
    "duration": 642,
    "start_time": "2021-12-05T19:04:56.810Z"
   },
   {
    "duration": 11,
    "start_time": "2021-12-05T19:04:58.353Z"
   },
   {
    "duration": 13,
    "start_time": "2021-12-05T19:04:58.671Z"
   },
   {
    "duration": 5,
    "start_time": "2021-12-05T19:04:59.014Z"
   },
   {
    "duration": 3,
    "start_time": "2021-12-05T19:04:59.341Z"
   },
   {
    "duration": 19,
    "start_time": "2021-12-05T19:04:59.742Z"
   },
   {
    "duration": 74,
    "start_time": "2021-12-05T19:17:11.484Z"
   },
   {
    "duration": 2,
    "start_time": "2021-12-05T19:18:58.648Z"
   },
   {
    "duration": 3,
    "start_time": "2021-12-05T19:20:23.010Z"
   },
   {
    "duration": 206,
    "start_time": "2021-12-06T17:01:31.149Z"
   },
   {
    "duration": 663,
    "start_time": "2021-12-06T17:01:49.775Z"
   },
   {
    "duration": 11,
    "start_time": "2021-12-06T17:01:51.774Z"
   },
   {
    "duration": 13,
    "start_time": "2021-12-06T17:01:52.170Z"
   },
   {
    "duration": 3,
    "start_time": "2021-12-06T17:01:52.531Z"
   },
   {
    "duration": 3,
    "start_time": "2021-12-06T17:01:52.853Z"
   },
   {
    "duration": 21,
    "start_time": "2021-12-06T17:01:53.187Z"
   },
   {
    "duration": 251,
    "start_time": "2021-12-06T17:01:54.595Z"
   },
   {
    "duration": 20,
    "start_time": "2021-12-06T17:10:59.465Z"
   },
   {
    "duration": 22,
    "start_time": "2021-12-06T17:11:17.377Z"
   },
   {
    "duration": 613,
    "start_time": "2021-12-06T17:11:55.627Z"
   },
   {
    "duration": 12,
    "start_time": "2021-12-06T17:11:56.947Z"
   },
   {
    "duration": 15,
    "start_time": "2021-12-06T17:11:57.162Z"
   },
   {
    "duration": 2,
    "start_time": "2021-12-06T17:11:57.473Z"
   },
   {
    "duration": 2,
    "start_time": "2021-12-06T17:11:57.794Z"
   },
   {
    "duration": 21,
    "start_time": "2021-12-06T17:11:58.136Z"
   },
   {
    "duration": 23,
    "start_time": "2021-12-06T17:12:01.344Z"
   },
   {
    "duration": 22,
    "start_time": "2021-12-06T17:14:58.311Z"
   },
   {
    "duration": 27,
    "start_time": "2021-12-06T17:15:32.143Z"
   },
   {
    "duration": 31,
    "start_time": "2021-12-06T17:16:58.292Z"
   },
   {
    "duration": 31,
    "start_time": "2021-12-06T17:17:11.095Z"
   },
   {
    "duration": 10,
    "start_time": "2021-12-06T17:17:37.389Z"
   },
   {
    "duration": 11,
    "start_time": "2021-12-06T17:17:50.963Z"
   },
   {
    "duration": 14,
    "start_time": "2021-12-06T17:18:03.572Z"
   },
   {
    "duration": 26,
    "start_time": "2021-12-06T17:18:07.772Z"
   },
   {
    "duration": 28,
    "start_time": "2021-12-06T17:18:39.063Z"
   },
   {
    "duration": 20,
    "start_time": "2021-12-06T17:18:53.517Z"
   },
   {
    "duration": 58,
    "start_time": "2021-12-06T17:43:39.640Z"
   },
   {
    "duration": 20,
    "start_time": "2021-12-06T17:44:55.441Z"
   },
   {
    "duration": 34,
    "start_time": "2021-12-06T17:46:18.871Z"
   },
   {
    "duration": 211,
    "start_time": "2021-12-06T17:46:57.931Z"
   },
   {
    "duration": 661,
    "start_time": "2021-12-06T17:47:01.994Z"
   },
   {
    "duration": 10,
    "start_time": "2021-12-06T17:47:02.816Z"
   },
   {
    "duration": 13,
    "start_time": "2021-12-06T17:47:03.371Z"
   },
   {
    "duration": 2,
    "start_time": "2021-12-06T17:47:03.513Z"
   },
   {
    "duration": 2,
    "start_time": "2021-12-06T17:47:04.401Z"
   },
   {
    "duration": 18,
    "start_time": "2021-12-06T17:47:04.865Z"
   },
   {
    "duration": 21,
    "start_time": "2021-12-06T17:47:06.824Z"
   },
   {
    "duration": 21,
    "start_time": "2021-12-06T17:47:27.072Z"
   },
   {
    "duration": 20,
    "start_time": "2021-12-06T17:49:17.436Z"
   },
   {
    "duration": 20,
    "start_time": "2021-12-06T17:49:28.402Z"
   },
   {
    "duration": 21,
    "start_time": "2021-12-06T17:51:14.123Z"
   },
   {
    "duration": 20,
    "start_time": "2021-12-06T17:51:17.299Z"
   },
   {
    "duration": 18,
    "start_time": "2021-12-06T17:52:17.559Z"
   },
   {
    "duration": 589,
    "start_time": "2021-12-06T17:56:12.939Z"
   },
   {
    "duration": 16,
    "start_time": "2021-12-06T17:56:15.002Z"
   },
   {
    "duration": 13,
    "start_time": "2021-12-06T17:56:15.440Z"
   },
   {
    "duration": 3,
    "start_time": "2021-12-06T17:56:15.783Z"
   },
   {
    "duration": 3,
    "start_time": "2021-12-06T17:56:16.359Z"
   },
   {
    "duration": 20,
    "start_time": "2021-12-06T17:56:16.696Z"
   },
   {
    "duration": 21,
    "start_time": "2021-12-06T17:56:18.699Z"
   },
   {
    "duration": 20,
    "start_time": "2021-12-06T17:56:42.168Z"
   },
   {
    "duration": 29,
    "start_time": "2021-12-06T17:59:05.304Z"
   },
   {
    "duration": 20,
    "start_time": "2021-12-06T17:59:20.943Z"
   },
   {
    "duration": 14,
    "start_time": "2021-12-06T18:13:22.151Z"
   },
   {
    "duration": 15,
    "start_time": "2021-12-06T18:13:35.283Z"
   },
   {
    "duration": 14,
    "start_time": "2021-12-06T18:13:51.116Z"
   },
   {
    "duration": 14,
    "start_time": "2021-12-06T18:14:06.405Z"
   },
   {
    "duration": 1062,
    "start_time": "2021-12-12T14:41:07.184Z"
   },
   {
    "duration": 14,
    "start_time": "2021-12-12T14:41:14.831Z"
   },
   {
    "duration": 20,
    "start_time": "2021-12-12T14:41:15.775Z"
   },
   {
    "duration": 3,
    "start_time": "2021-12-12T14:41:16.468Z"
   },
   {
    "duration": 4,
    "start_time": "2021-12-12T14:41:20.905Z"
   },
   {
    "duration": 30,
    "start_time": "2021-12-12T14:41:22.680Z"
   },
   {
    "duration": 33,
    "start_time": "2021-12-12T14:42:02.727Z"
   },
   {
    "duration": 48,
    "start_time": "2021-12-12T14:49:08.484Z"
   },
   {
    "duration": 34,
    "start_time": "2021-12-12T14:49:35.048Z"
   },
   {
    "duration": -205,
    "start_time": "2021-12-12T14:50:14.707Z"
   },
   {
    "duration": 24,
    "start_time": "2021-12-12T14:50:38.434Z"
   },
   {
    "duration": 451,
    "start_time": "2021-12-12T14:51:45.657Z"
   },
   {
    "duration": 58,
    "start_time": "2021-12-12T14:52:54.313Z"
   },
   {
    "duration": 36,
    "start_time": "2021-12-12T14:53:02.239Z"
   },
   {
    "duration": 39,
    "start_time": "2021-12-12T14:53:18.864Z"
   },
   {
    "duration": 55,
    "start_time": "2021-12-12T14:53:54.096Z"
   },
   {
    "duration": 41,
    "start_time": "2021-12-12T14:54:47.415Z"
   },
   {
    "duration": 59,
    "start_time": "2021-12-12T14:55:05.624Z"
   },
   {
    "duration": 56,
    "start_time": "2021-12-12T14:55:28.487Z"
   },
   {
    "duration": 61,
    "start_time": "2021-12-12T14:55:56.193Z"
   },
   {
    "duration": 77,
    "start_time": "2021-12-12T14:56:25.094Z"
   },
   {
    "duration": 106,
    "start_time": "2021-12-12T15:01:46.147Z"
   },
   {
    "duration": 96,
    "start_time": "2021-12-12T15:01:54.340Z"
   },
   {
    "duration": 92,
    "start_time": "2021-12-12T15:02:06.724Z"
   },
   {
    "duration": 119,
    "start_time": "2021-12-12T15:03:09.323Z"
   },
   {
    "duration": 921,
    "start_time": "2021-12-12T15:04:22.636Z"
   },
   {
    "duration": 13,
    "start_time": "2021-12-12T15:04:25.333Z"
   },
   {
    "duration": 21,
    "start_time": "2021-12-12T15:04:26.082Z"
   },
   {
    "duration": 4,
    "start_time": "2021-12-12T15:04:26.754Z"
   },
   {
    "duration": 3,
    "start_time": "2021-12-12T15:04:32.519Z"
   },
   {
    "duration": 41,
    "start_time": "2021-12-12T15:04:33.826Z"
   },
   {
    "duration": 45,
    "start_time": "2021-12-12T15:07:18.160Z"
   },
   {
    "duration": 11,
    "start_time": "2021-12-12T15:07:34.623Z"
   },
   {
    "duration": 11,
    "start_time": "2021-12-12T15:07:56.649Z"
   },
   {
    "duration": 22,
    "start_time": "2021-12-12T15:10:04.505Z"
   },
   {
    "duration": 19,
    "start_time": "2021-12-12T15:10:15.623Z"
   },
   {
    "duration": 31,
    "start_time": "2021-12-12T15:11:14.497Z"
   },
   {
    "duration": 8,
    "start_time": "2021-12-12T15:11:54.063Z"
   },
   {
    "duration": 19,
    "start_time": "2021-12-12T15:12:10.238Z"
   },
   {
    "duration": 91,
    "start_time": "2021-12-12T15:12:35.389Z"
   },
   {
    "duration": 7,
    "start_time": "2021-12-12T15:18:54.470Z"
   },
   {
    "duration": 12,
    "start_time": "2021-12-12T15:21:18.804Z"
   },
   {
    "duration": 500,
    "start_time": "2021-12-12T15:22:07.535Z"
   },
   {
    "duration": 531,
    "start_time": "2021-12-12T15:23:33.880Z"
   },
   {
    "duration": 395,
    "start_time": "2021-12-12T15:25:35.061Z"
   },
   {
    "duration": 407,
    "start_time": "2021-12-12T15:26:47.581Z"
   },
   {
    "duration": 458,
    "start_time": "2021-12-12T15:27:07.246Z"
   },
   {
    "duration": 880,
    "start_time": "2021-12-12T15:27:12.565Z"
   },
   {
    "duration": 11,
    "start_time": "2021-12-12T15:27:13.452Z"
   },
   {
    "duration": 20,
    "start_time": "2021-12-12T15:27:13.635Z"
   },
   {
    "duration": 3,
    "start_time": "2021-12-12T15:27:13.819Z"
   },
   {
    "duration": 4,
    "start_time": "2021-12-12T15:27:14.021Z"
   },
   {
    "duration": 31,
    "start_time": "2021-12-12T15:27:14.507Z"
   },
   {
    "duration": 21,
    "start_time": "2021-12-12T15:27:16.548Z"
   },
   {
    "duration": 94,
    "start_time": "2021-12-12T15:27:18.288Z"
   },
   {
    "duration": 493,
    "start_time": "2021-12-12T15:27:20.219Z"
   },
   {
    "duration": -185,
    "start_time": "2021-12-12T15:29:17.106Z"
   },
   {
    "duration": 407,
    "start_time": "2021-12-12T15:30:05.009Z"
   },
   {
    "duration": 157,
    "start_time": "2021-12-12T15:39:00.177Z"
   },
   {
    "duration": 4706,
    "start_time": "2021-12-12T15:39:19.997Z"
   },
   {
    "duration": 4904,
    "start_time": "2021-12-12T15:39:50.615Z"
   },
   {
    "duration": -207,
    "start_time": "2021-12-12T15:54:07.549Z"
   },
   {
    "duration": 8022,
    "start_time": "2021-12-12T15:54:48.964Z"
   },
   {
    "duration": 4669,
    "start_time": "2021-12-12T16:32:03.465Z"
   },
   {
    "duration": 14878,
    "start_time": "2021-12-12T16:33:44.377Z"
   },
   {
    "duration": 5013,
    "start_time": "2021-12-12T16:34:50.605Z"
   },
   {
    "duration": 13570,
    "start_time": "2021-12-12T16:46:12.495Z"
   },
   {
    "duration": 6149,
    "start_time": "2021-12-12T16:46:54.469Z"
   },
   {
    "duration": 6039,
    "start_time": "2021-12-12T16:48:18.156Z"
   },
   {
    "duration": 5128,
    "start_time": "2021-12-12T16:49:07.318Z"
   },
   {
    "duration": 5204,
    "start_time": "2021-12-12T16:51:26.938Z"
   },
   {
    "duration": 4737,
    "start_time": "2021-12-12T16:51:56.505Z"
   },
   {
    "duration": 5157,
    "start_time": "2021-12-12T16:52:36.317Z"
   },
   {
    "duration": 5417,
    "start_time": "2021-12-12T16:53:21.855Z"
   },
   {
    "duration": 5513,
    "start_time": "2021-12-12T16:53:37.754Z"
   },
   {
    "duration": 4888,
    "start_time": "2021-12-12T16:55:59.773Z"
   },
   {
    "duration": 4791,
    "start_time": "2021-12-12T16:57:02.713Z"
   },
   {
    "duration": 4799,
    "start_time": "2021-12-12T16:59:50.798Z"
   },
   {
    "duration": 5077,
    "start_time": "2021-12-12T17:00:07.852Z"
   },
   {
    "duration": 5447,
    "start_time": "2021-12-12T17:00:36.899Z"
   },
   {
    "duration": 4976,
    "start_time": "2021-12-12T17:00:53.559Z"
   },
   {
    "duration": 5554,
    "start_time": "2021-12-12T17:01:45.283Z"
   },
   {
    "duration": 4919,
    "start_time": "2021-12-12T17:02:43.324Z"
   },
   {
    "duration": 5535,
    "start_time": "2021-12-12T17:02:50.721Z"
   },
   {
    "duration": 5223,
    "start_time": "2021-12-12T17:03:06.408Z"
   },
   {
    "duration": 5237,
    "start_time": "2021-12-12T17:03:25.891Z"
   },
   {
    "duration": 5333,
    "start_time": "2021-12-12T17:06:47.366Z"
   },
   {
    "duration": 5569,
    "start_time": "2021-12-12T17:07:05.642Z"
   },
   {
    "duration": 5280,
    "start_time": "2021-12-12T17:20:30.855Z"
   },
   {
    "duration": 967,
    "start_time": "2021-12-12T17:20:57.655Z"
   },
   {
    "duration": 13,
    "start_time": "2021-12-12T17:21:02.467Z"
   },
   {
    "duration": 20,
    "start_time": "2021-12-12T17:21:03.104Z"
   },
   {
    "duration": 3,
    "start_time": "2021-12-12T17:21:03.702Z"
   },
   {
    "duration": 3,
    "start_time": "2021-12-12T17:21:05.694Z"
   },
   {
    "duration": 32,
    "start_time": "2021-12-12T17:21:06.214Z"
   },
   {
    "duration": 19,
    "start_time": "2021-12-12T17:21:08.419Z"
   },
   {
    "duration": 99,
    "start_time": "2021-12-12T17:21:11.598Z"
   },
   {
    "duration": 5209,
    "start_time": "2021-12-12T17:21:16.878Z"
   },
   {
    "duration": 300,
    "start_time": "2021-12-12T17:34:51.678Z"
   },
   {
    "duration": 250,
    "start_time": "2021-12-12T17:36:10.510Z"
   },
   {
    "duration": 468,
    "start_time": "2021-12-12T17:36:27.917Z"
   },
   {
    "duration": 745,
    "start_time": "2021-12-12T17:36:43.492Z"
   },
   {
    "duration": 708,
    "start_time": "2021-12-12T17:37:06.092Z"
   },
   {
    "duration": 3251,
    "start_time": "2021-12-12T17:37:46.916Z"
   },
   {
    "duration": 435,
    "start_time": "2021-12-12T17:38:44.452Z"
   },
   {
    "duration": 2216,
    "start_time": "2021-12-12T17:39:32.426Z"
   },
   {
    "duration": 14,
    "start_time": "2021-12-12T17:40:45.098Z"
   },
   {
    "duration": 22,
    "start_time": "2021-12-12T17:41:24.729Z"
   },
   {
    "duration": 33,
    "start_time": "2021-12-12T17:41:32.825Z"
   },
   {
    "duration": 29,
    "start_time": "2021-12-12T17:44:00.377Z"
   },
   {
    "duration": 426,
    "start_time": "2021-12-12T17:44:10.017Z"
   },
   {
    "duration": 30,
    "start_time": "2021-12-12T17:44:36.998Z"
   },
   {
    "duration": 31,
    "start_time": "2021-12-12T17:45:02.455Z"
   },
   {
    "duration": 29,
    "start_time": "2021-12-12T17:45:17.975Z"
   },
   {
    "duration": 865,
    "start_time": "2021-12-12T17:45:46.947Z"
   },
   {
    "duration": 14,
    "start_time": "2021-12-12T17:45:48.886Z"
   },
   {
    "duration": 25,
    "start_time": "2021-12-12T17:45:49.233Z"
   },
   {
    "duration": 3,
    "start_time": "2021-12-12T17:45:49.625Z"
   },
   {
    "duration": 8,
    "start_time": "2021-12-12T17:45:50.106Z"
   },
   {
    "duration": 30,
    "start_time": "2021-12-12T17:45:50.496Z"
   },
   {
    "duration": 20,
    "start_time": "2021-12-12T17:45:52.329Z"
   },
   {
    "duration": 94,
    "start_time": "2021-12-12T17:45:54.257Z"
   },
   {
    "duration": 4948,
    "start_time": "2021-12-12T17:45:57.162Z"
   },
   {
    "duration": 30,
    "start_time": "2021-12-12T17:46:03.256Z"
   },
   {
    "duration": 41,
    "start_time": "2021-12-12T17:54:59.148Z"
   },
   {
    "duration": 80,
    "start_time": "2021-12-12T17:56:36.893Z"
   },
   {
    "duration": 27,
    "start_time": "2021-12-12T17:58:56.344Z"
   },
   {
    "duration": 3190,
    "start_time": "2021-12-12T17:58:59.133Z"
   },
   {
    "duration": -290,
    "start_time": "2021-12-12T17:59:02.616Z"
   },
   {
    "duration": 908,
    "start_time": "2021-12-12T17:59:35.680Z"
   },
   {
    "duration": 13,
    "start_time": "2021-12-12T17:59:39.048Z"
   },
   {
    "duration": 20,
    "start_time": "2021-12-12T17:59:39.558Z"
   },
   {
    "duration": 3,
    "start_time": "2021-12-12T17:59:40.174Z"
   },
   {
    "duration": 3,
    "start_time": "2021-12-12T17:59:40.950Z"
   },
   {
    "duration": 36,
    "start_time": "2021-12-12T17:59:41.958Z"
   },
   {
    "duration": 22,
    "start_time": "2021-12-12T17:59:45.116Z"
   },
   {
    "duration": 103,
    "start_time": "2021-12-12T17:59:48.868Z"
   },
   {
    "duration": 5140,
    "start_time": "2021-12-12T18:00:00.335Z"
   },
   {
    "duration": 91,
    "start_time": "2021-12-12T18:00:05.479Z"
   },
   {
    "duration": 42,
    "start_time": "2021-12-12T18:00:45.464Z"
   },
   {
    "duration": 1836,
    "start_time": "2021-12-12T18:08:21.719Z"
   },
   {
    "duration": 53,
    "start_time": "2021-12-12T18:08:33.875Z"
   },
   {
    "duration": 59,
    "start_time": "2021-12-12T18:09:18.578Z"
   },
   {
    "duration": 2644,
    "start_time": "2021-12-12T18:09:43.381Z"
   },
   {
    "duration": 376,
    "start_time": "2021-12-12T18:10:45.460Z"
   },
   {
    "duration": 137,
    "start_time": "2021-12-12T18:10:54.421Z"
   },
   {
    "duration": 129,
    "start_time": "2021-12-12T18:10:56.602Z"
   },
   {
    "duration": 56,
    "start_time": "2021-12-12T18:11:21.116Z"
   },
   {
    "duration": 63,
    "start_time": "2021-12-12T18:12:04.704Z"
   },
   {
    "duration": 57,
    "start_time": "2021-12-12T18:13:32.056Z"
   },
   {
    "duration": 60,
    "start_time": "2021-12-12T18:14:18.019Z"
   },
   {
    "duration": 61,
    "start_time": "2021-12-12T18:14:57.360Z"
   },
   {
    "duration": 188,
    "start_time": "2021-12-12T18:17:00.730Z"
   },
   {
    "duration": 59,
    "start_time": "2021-12-12T18:17:28.869Z"
   },
   {
    "duration": 55,
    "start_time": "2021-12-12T18:18:47.069Z"
   },
   {
    "duration": 57,
    "start_time": "2021-12-12T18:24:55.289Z"
   },
   {
    "duration": 648,
    "start_time": "2021-12-14T08:01:55.601Z"
   },
   {
    "duration": 12,
    "start_time": "2021-12-14T08:01:56.996Z"
   },
   {
    "duration": 13,
    "start_time": "2021-12-14T08:01:57.259Z"
   },
   {
    "duration": 2,
    "start_time": "2021-12-14T08:01:57.538Z"
   },
   {
    "duration": 3,
    "start_time": "2021-12-14T08:01:57.833Z"
   },
   {
    "duration": 21,
    "start_time": "2021-12-14T08:01:58.138Z"
   },
   {
    "duration": 13,
    "start_time": "2021-12-14T08:01:59.834Z"
   },
   {
    "duration": 67,
    "start_time": "2021-12-14T08:02:01.659Z"
   },
   {
    "duration": 3485,
    "start_time": "2021-12-14T08:02:03.324Z"
   },
   {
    "duration": 38,
    "start_time": "2021-12-14T08:02:07.687Z"
   },
   {
    "duration": 6,
    "start_time": "2021-12-14T08:02:11.129Z"
   },
   {
    "duration": 18,
    "start_time": "2021-12-14T08:12:28.595Z"
   },
   {
    "duration": 11,
    "start_time": "2021-12-14T08:13:42.667Z"
   },
   {
    "duration": 9,
    "start_time": "2021-12-14T08:15:37.594Z"
   },
   {
    "duration": 9,
    "start_time": "2021-12-14T08:15:58.777Z"
   },
   {
    "duration": 12,
    "start_time": "2021-12-14T08:16:10.665Z"
   },
   {
    "duration": 4,
    "start_time": "2021-12-14T08:16:15.602Z"
   },
   {
    "duration": 4,
    "start_time": "2021-12-14T08:16:30.714Z"
   },
   {
    "duration": 4,
    "start_time": "2021-12-14T08:16:46.249Z"
   },
   {
    "duration": 296,
    "start_time": "2021-12-14T08:19:44.024Z"
   },
   {
    "duration": 238,
    "start_time": "2021-12-14T08:20:05.616Z"
   },
   {
    "duration": 250,
    "start_time": "2021-12-14T08:21:18.063Z"
   },
   {
    "duration": 82,
    "start_time": "2021-12-14T08:21:25.870Z"
   },
   {
    "duration": 5,
    "start_time": "2021-12-14T08:21:54.750Z"
   },
   {
    "duration": 6,
    "start_time": "2021-12-14T08:22:06.277Z"
   },
   {
    "duration": 5,
    "start_time": "2021-12-14T08:23:19.901Z"
   },
   {
    "duration": 5,
    "start_time": "2021-12-14T08:23:28.551Z"
   },
   {
    "duration": 6,
    "start_time": "2021-12-14T08:23:46.477Z"
   },
   {
    "duration": 5,
    "start_time": "2021-12-14T08:23:54.773Z"
   },
   {
    "duration": 5,
    "start_time": "2021-12-14T08:24:13.677Z"
   },
   {
    "duration": 5,
    "start_time": "2021-12-14T08:25:10.450Z"
   },
   {
    "duration": 241,
    "start_time": "2021-12-14T08:25:16.918Z"
   },
   {
    "duration": 6,
    "start_time": "2021-12-14T08:25:45.292Z"
   },
   {
    "duration": 6,
    "start_time": "2021-12-14T08:26:07.204Z"
   },
   {
    "duration": 5,
    "start_time": "2021-12-14T08:26:17.731Z"
   },
   {
    "duration": 5,
    "start_time": "2021-12-14T08:26:36.403Z"
   },
   {
    "duration": 8,
    "start_time": "2021-12-14T08:26:56.807Z"
   },
   {
    "duration": 235,
    "start_time": "2021-12-14T08:35:13.714Z"
   },
   {
    "duration": 24,
    "start_time": "2021-12-14T08:35:24.502Z"
   },
   {
    "duration": 35,
    "start_time": "2021-12-14T08:35:31.118Z"
   },
   {
    "duration": 27,
    "start_time": "2021-12-14T08:35:45.595Z"
   },
   {
    "duration": 30,
    "start_time": "2021-12-14T08:36:05.049Z"
   },
   {
    "duration": 27,
    "start_time": "2021-12-14T08:36:12.775Z"
   },
   {
    "duration": 32,
    "start_time": "2021-12-14T08:36:35.125Z"
   },
   {
    "duration": 11,
    "start_time": "2021-12-14T08:36:55.021Z"
   },
   {
    "duration": 10,
    "start_time": "2021-12-14T08:36:57.701Z"
   },
   {
    "duration": 10,
    "start_time": "2021-12-14T08:37:07.389Z"
   },
   {
    "duration": 638,
    "start_time": "2021-12-14T08:37:48.355Z"
   },
   {
    "duration": 10,
    "start_time": "2021-12-14T08:37:51.336Z"
   },
   {
    "duration": 14,
    "start_time": "2021-12-14T08:37:51.840Z"
   },
   {
    "duration": 2,
    "start_time": "2021-12-14T08:37:52.436Z"
   },
   {
    "duration": 3,
    "start_time": "2021-12-14T08:37:52.987Z"
   },
   {
    "duration": 20,
    "start_time": "2021-12-14T08:37:53.357Z"
   },
   {
    "duration": 13,
    "start_time": "2021-12-14T08:37:55.090Z"
   },
   {
    "duration": 59,
    "start_time": "2021-12-14T08:37:56.891Z"
   },
   {
    "duration": 3384,
    "start_time": "2021-12-14T08:37:58.860Z"
   },
   {
    "duration": 45,
    "start_time": "2021-12-14T08:38:02.246Z"
   },
   {
    "duration": 16,
    "start_time": "2021-12-14T08:38:04.188Z"
   },
   {
    "duration": 31,
    "start_time": "2021-12-14T08:38:16.677Z"
   },
   {
    "duration": 39,
    "start_time": "2021-12-14T08:40:57.467Z"
   },
   {
    "duration": 290,
    "start_time": "2021-12-14T08:42:47.240Z"
   },
   {
    "duration": 271,
    "start_time": "2021-12-14T08:43:07.769Z"
   },
   {
    "duration": 254,
    "start_time": "2021-12-14T08:43:32.826Z"
   },
   {
    "duration": 38,
    "start_time": "2021-12-14T08:43:45.795Z"
   },
   {
    "duration": 262,
    "start_time": "2021-12-14T08:47:05.774Z"
   },
   {
    "duration": 1973,
    "start_time": "2021-12-14T08:51:32.998Z"
   },
   {
    "duration": 1841,
    "start_time": "2021-12-14T08:52:50.019Z"
   },
   {
    "duration": 1839,
    "start_time": "2021-12-14T08:54:15.923Z"
   },
   {
    "duration": 234,
    "start_time": "2021-12-14T08:56:46.041Z"
   },
   {
    "duration": 82,
    "start_time": "2021-12-14T08:57:20.960Z"
   },
   {
    "duration": 314,
    "start_time": "2021-12-14T08:57:29.360Z"
   },
   {
    "duration": 1931,
    "start_time": "2021-12-14T08:57:55.496Z"
   },
   {
    "duration": 233,
    "start_time": "2021-12-14T08:59:37.251Z"
   },
   {
    "duration": 239,
    "start_time": "2021-12-14T09:00:17.991Z"
   },
   {
    "duration": 30,
    "start_time": "2021-12-14T09:00:30.040Z"
   },
   {
    "duration": 47,
    "start_time": "2021-12-14T09:00:51.331Z"
   },
   {
    "duration": 592,
    "start_time": "2021-12-14T09:01:32.928Z"
   },
   {
    "duration": 12,
    "start_time": "2021-12-14T09:01:34.530Z"
   },
   {
    "duration": 12,
    "start_time": "2021-12-14T09:01:34.829Z"
   },
   {
    "duration": 2,
    "start_time": "2021-12-14T09:01:35.181Z"
   },
   {
    "duration": 2,
    "start_time": "2021-12-14T09:01:35.508Z"
   },
   {
    "duration": 21,
    "start_time": "2021-12-14T09:01:35.823Z"
   },
   {
    "duration": 12,
    "start_time": "2021-12-14T09:01:37.315Z"
   },
   {
    "duration": 59,
    "start_time": "2021-12-14T09:01:38.648Z"
   },
   {
    "duration": 3401,
    "start_time": "2021-12-14T09:01:40.000Z"
   },
   {
    "duration": 33,
    "start_time": "2021-12-14T09:01:43.403Z"
   },
   {
    "duration": 42,
    "start_time": "2021-12-14T09:01:47.381Z"
   },
   {
    "duration": 312,
    "start_time": "2021-12-14T09:01:59.534Z"
   },
   {
    "duration": 35,
    "start_time": "2021-12-14T09:02:05.659Z"
   },
   {
    "duration": 41,
    "start_time": "2021-12-14T09:02:19.221Z"
   },
   {
    "duration": 42,
    "start_time": "2021-12-14T09:04:41.030Z"
   },
   {
    "duration": 40,
    "start_time": "2021-12-14T09:07:11.867Z"
   },
   {
    "duration": 50,
    "start_time": "2021-12-14T09:08:10.691Z"
   },
   {
    "duration": 57,
    "start_time": "2021-12-14T09:08:26.561Z"
   },
   {
    "duration": 281,
    "start_time": "2021-12-14T09:15:27.357Z"
   },
   {
    "duration": 275,
    "start_time": "2021-12-14T09:15:33.974Z"
   },
   {
    "duration": 65,
    "start_time": "2021-12-14T09:20:02.052Z"
   },
   {
    "duration": 51,
    "start_time": "2021-12-14T09:20:34.795Z"
   },
   {
    "duration": 50,
    "start_time": "2021-12-14T09:23:55.983Z"
   },
   {
    "duration": 49,
    "start_time": "2021-12-14T09:24:02.457Z"
   },
   {
    "duration": 45,
    "start_time": "2021-12-14T09:27:05.667Z"
   },
   {
    "duration": 46,
    "start_time": "2021-12-14T09:27:54.796Z"
   },
   {
    "duration": 421,
    "start_time": "2021-12-14T09:28:32.892Z"
   },
   {
    "duration": 685,
    "start_time": "2021-12-14T09:29:11.103Z"
   },
   {
    "duration": 369,
    "start_time": "2021-12-14T09:29:19.046Z"
   },
   {
    "duration": 288,
    "start_time": "2021-12-14T09:30:08.682Z"
   },
   {
    "duration": 985,
    "start_time": "2021-12-14T09:30:18.022Z"
   },
   {
    "duration": 1862,
    "start_time": "2021-12-14T09:32:13.152Z"
   },
   {
    "duration": 1884,
    "start_time": "2021-12-14T09:32:19.680Z"
   },
   {
    "duration": 495,
    "start_time": "2021-12-14T09:32:31.798Z"
   },
   {
    "duration": 476,
    "start_time": "2021-12-14T09:33:37.435Z"
   },
   {
    "duration": 244,
    "start_time": "2021-12-14T09:34:10.051Z"
   },
   {
    "duration": 362,
    "start_time": "2021-12-14T09:34:29.602Z"
   },
   {
    "duration": 508,
    "start_time": "2021-12-14T09:35:32.049Z"
   },
   {
    "duration": 66,
    "start_time": "2021-12-14T09:36:03.247Z"
   },
   {
    "duration": 10,
    "start_time": "2021-12-14T09:36:04.464Z"
   },
   {
    "duration": 12,
    "start_time": "2021-12-14T09:36:04.680Z"
   },
   {
    "duration": 3,
    "start_time": "2021-12-14T09:36:04.903Z"
   },
   {
    "duration": 5,
    "start_time": "2021-12-14T09:36:05.117Z"
   },
   {
    "duration": 17,
    "start_time": "2021-12-14T09:36:05.312Z"
   },
   {
    "duration": 13,
    "start_time": "2021-12-14T09:36:06.135Z"
   },
   {
    "duration": 63,
    "start_time": "2021-12-14T09:36:07.200Z"
   },
   {
    "duration": 3450,
    "start_time": "2021-12-14T09:36:08.785Z"
   },
   {
    "duration": 52,
    "start_time": "2021-12-14T09:36:12.237Z"
   },
   {
    "duration": 256,
    "start_time": "2021-12-14T09:36:14.407Z"
   },
   {
    "duration": 267,
    "start_time": "2021-12-14T09:38:08.274Z"
   },
   {
    "duration": 227,
    "start_time": "2021-12-14T09:40:02.909Z"
   },
   {
    "duration": 422,
    "start_time": "2021-12-14T09:41:39.653Z"
   },
   {
    "duration": 372,
    "start_time": "2021-12-14T09:43:18.085Z"
   },
   {
    "duration": 227,
    "start_time": "2021-12-14T09:43:36.637Z"
   },
   {
    "duration": 49,
    "start_time": "2021-12-14T09:43:46.064Z"
   },
   {
    "duration": 768,
    "start_time": "2021-12-14T16:12:31.931Z"
   },
   {
    "duration": 10,
    "start_time": "2021-12-14T16:12:34.103Z"
   },
   {
    "duration": 17,
    "start_time": "2021-12-14T16:12:34.516Z"
   },
   {
    "duration": 3,
    "start_time": "2021-12-14T16:12:34.878Z"
   },
   {
    "duration": 3,
    "start_time": "2021-12-14T16:12:35.484Z"
   },
   {
    "duration": 27,
    "start_time": "2021-12-14T16:12:35.845Z"
   },
   {
    "duration": 15,
    "start_time": "2021-12-14T16:12:37.628Z"
   },
   {
    "duration": 70,
    "start_time": "2021-12-14T16:12:39.500Z"
   },
   {
    "duration": 3434,
    "start_time": "2021-12-14T16:12:41.541Z"
   },
   {
    "duration": 37,
    "start_time": "2021-12-14T16:12:45.415Z"
   },
   {
    "duration": 92,
    "start_time": "2021-12-14T16:12:53.413Z"
   },
   {
    "duration": 9,
    "start_time": "2021-12-14T16:31:51.549Z"
   },
   {
    "duration": 1238,
    "start_time": "2021-12-14T16:35:14.388Z"
   },
   {
    "duration": 2,
    "start_time": "2021-12-14T16:36:02.902Z"
   },
   {
    "duration": 23,
    "start_time": "2021-12-14T16:37:05.118Z"
   },
   {
    "duration": 35,
    "start_time": "2021-12-14T16:40:17.195Z"
   },
   {
    "duration": 21,
    "start_time": "2021-12-14T16:40:28.979Z"
   },
   {
    "duration": 19,
    "start_time": "2021-12-14T16:40:35.267Z"
   },
   {
    "duration": 21,
    "start_time": "2021-12-14T16:40:44.580Z"
   },
   {
    "duration": 23,
    "start_time": "2021-12-14T16:40:52.073Z"
   },
   {
    "duration": 734,
    "start_time": "2021-12-14T16:40:59.987Z"
   },
   {
    "duration": 10,
    "start_time": "2021-12-14T16:41:01.538Z"
   },
   {
    "duration": 13,
    "start_time": "2021-12-14T16:41:01.800Z"
   },
   {
    "duration": 2,
    "start_time": "2021-12-14T16:41:02.040Z"
   },
   {
    "duration": 3,
    "start_time": "2021-12-14T16:41:02.279Z"
   },
   {
    "duration": 27,
    "start_time": "2021-12-14T16:41:02.528Z"
   },
   {
    "duration": 13,
    "start_time": "2021-12-14T16:41:03.552Z"
   },
   {
    "duration": 67,
    "start_time": "2021-12-14T16:41:04.399Z"
   },
   {
    "duration": 3682,
    "start_time": "2021-12-14T16:41:05.240Z"
   },
   {
    "duration": 48,
    "start_time": "2021-12-14T16:41:08.924Z"
   },
   {
    "duration": 75,
    "start_time": "2021-12-14T16:41:08.974Z"
   },
   {
    "duration": 21,
    "start_time": "2021-12-14T16:41:13.039Z"
   },
   {
    "duration": 6,
    "start_time": "2021-12-14T16:41:23.184Z"
   },
   {
    "duration": 4,
    "start_time": "2021-12-14T16:41:32.240Z"
   },
   {
    "duration": 5,
    "start_time": "2021-12-14T16:42:28.564Z"
   },
   {
    "duration": 6,
    "start_time": "2021-12-14T16:42:39.647Z"
   },
   {
    "duration": 23,
    "start_time": "2021-12-14T16:45:49.470Z"
   },
   {
    "duration": 23,
    "start_time": "2021-12-14T16:51:59.937Z"
   },
   {
    "duration": 1197,
    "start_time": "2021-12-14T16:55:44.025Z"
   },
   {
    "duration": 25,
    "start_time": "2021-12-14T16:55:56.598Z"
   },
   {
    "duration": 33,
    "start_time": "2021-12-14T16:56:21.006Z"
   },
   {
    "duration": 43,
    "start_time": "2021-12-14T16:56:24.031Z"
   },
   {
    "duration": 31,
    "start_time": "2021-12-14T16:56:41.943Z"
   },
   {
    "duration": 21,
    "start_time": "2021-12-14T16:58:12.453Z"
   },
   {
    "duration": 31,
    "start_time": "2021-12-14T16:59:01.186Z"
   },
   {
    "duration": 827,
    "start_time": "2021-12-14T17:10:03.000Z"
   },
   {
    "duration": 23,
    "start_time": "2021-12-14T17:10:36.990Z"
   },
   {
    "duration": 18,
    "start_time": "2021-12-14T17:10:46.289Z"
   },
   {
    "duration": 19,
    "start_time": "2021-12-14T17:10:49.841Z"
   },
   {
    "duration": 6,
    "start_time": "2021-12-14T17:10:54.285Z"
   },
   {
    "duration": 23,
    "start_time": "2021-12-14T17:11:05.541Z"
   },
   {
    "duration": 723,
    "start_time": "2021-12-15T06:21:06.370Z"
   },
   {
    "duration": 9,
    "start_time": "2021-12-15T06:21:07.095Z"
   },
   {
    "duration": 13,
    "start_time": "2021-12-15T06:21:07.106Z"
   },
   {
    "duration": 3,
    "start_time": "2021-12-15T06:21:07.121Z"
   },
   {
    "duration": 9,
    "start_time": "2021-12-15T06:21:07.126Z"
   },
   {
    "duration": 36,
    "start_time": "2021-12-15T06:21:07.136Z"
   },
   {
    "duration": 14,
    "start_time": "2021-12-15T06:21:07.174Z"
   },
   {
    "duration": 85,
    "start_time": "2021-12-15T06:21:07.191Z"
   },
   {
    "duration": 3394,
    "start_time": "2021-12-15T06:21:07.279Z"
   },
   {
    "duration": 35,
    "start_time": "2021-12-15T06:21:10.675Z"
   },
   {
    "duration": 78,
    "start_time": "2021-12-15T06:21:10.712Z"
   },
   {
    "duration": 21,
    "start_time": "2021-12-15T06:21:10.792Z"
   },
   {
    "duration": 18,
    "start_time": "2021-12-15T06:21:10.815Z"
   },
   {
    "duration": 39,
    "start_time": "2021-12-15T06:21:10.835Z"
   },
   {
    "duration": 173,
    "start_time": "2021-12-15T17:10:50.230Z"
   },
   {
    "duration": 75,
    "start_time": "2021-12-15T17:11:32.221Z"
   },
   {
    "duration": 88,
    "start_time": "2021-12-15T17:11:59.412Z"
   },
   {
    "duration": 79,
    "start_time": "2021-12-15T17:12:29.380Z"
   },
   {
    "duration": 2119,
    "start_time": "2021-12-15T17:14:17.000Z"
   },
   {
    "duration": 2336,
    "start_time": "2021-12-15T17:14:45.991Z"
   },
   {
    "duration": 753,
    "start_time": "2021-12-15T17:14:54.759Z"
   },
   {
    "duration": 14,
    "start_time": "2021-12-15T17:14:57.658Z"
   },
   {
    "duration": 16,
    "start_time": "2021-12-15T17:15:17.265Z"
   },
   {
    "duration": 11,
    "start_time": "2021-12-15T17:15:41.554Z"
   },
   {
    "duration": 12,
    "start_time": "2021-12-15T17:15:46.850Z"
   },
   {
    "duration": 2,
    "start_time": "2021-12-15T17:15:47.410Z"
   },
   {
    "duration": 3,
    "start_time": "2021-12-15T17:15:47.888Z"
   },
   {
    "duration": 35,
    "start_time": "2021-12-15T17:15:48.323Z"
   },
   {
    "duration": 12,
    "start_time": "2021-12-15T17:26:19.188Z"
   },
   {
    "duration": 11,
    "start_time": "2021-12-15T17:26:59.325Z"
   },
   {
    "duration": 8,
    "start_time": "2021-12-15T17:27:16.059Z"
   },
   {
    "duration": 8,
    "start_time": "2021-12-15T17:27:28.764Z"
   },
   {
    "duration": 7,
    "start_time": "2021-12-15T17:29:55.217Z"
   },
   {
    "duration": 695,
    "start_time": "2021-12-15T17:30:06.558Z"
   },
   {
    "duration": 9,
    "start_time": "2021-12-15T17:30:10.932Z"
   },
   {
    "duration": 12,
    "start_time": "2021-12-15T17:30:12.120Z"
   },
   {
    "duration": 13,
    "start_time": "2021-12-15T17:31:34.458Z"
   },
   {
    "duration": 22,
    "start_time": "2021-12-15T17:33:16.033Z"
   },
   {
    "duration": 12,
    "start_time": "2021-12-15T17:33:34.606Z"
   },
   {
    "duration": 35,
    "start_time": "2021-12-15T17:35:15.034Z"
   },
   {
    "duration": 13,
    "start_time": "2021-12-15T17:36:32.964Z"
   },
   {
    "duration": 13,
    "start_time": "2021-12-15T17:38:09.148Z"
   },
   {
    "duration": 17,
    "start_time": "2021-12-15T17:38:22.117Z"
   },
   {
    "duration": 13,
    "start_time": "2021-12-15T17:42:36.166Z"
   },
   {
    "duration": 14,
    "start_time": "2021-12-15T17:42:47.929Z"
   },
   {
    "duration": 21,
    "start_time": "2021-12-15T17:44:29.113Z"
   },
   {
    "duration": 345,
    "start_time": "2021-12-15T17:44:43.324Z"
   },
   {
    "duration": 296,
    "start_time": "2021-12-15T17:44:54.432Z"
   },
   {
    "duration": 20,
    "start_time": "2021-12-15T17:45:26.162Z"
   },
   {
    "duration": 226,
    "start_time": "2021-12-15T17:50:48.385Z"
   },
   {
    "duration": 3,
    "start_time": "2021-12-15T17:50:59.593Z"
   },
   {
    "duration": 1547,
    "start_time": "2021-12-15T17:51:00.086Z"
   },
   {
    "duration": 78,
    "start_time": "2021-12-15T17:52:31.579Z"
   },
   {
    "duration": 687,
    "start_time": "2021-12-15T17:58:12.279Z"
   },
   {
    "duration": 9,
    "start_time": "2021-12-15T17:58:16.982Z"
   },
   {
    "duration": 20,
    "start_time": "2021-12-15T17:58:40.084Z"
   },
   {
    "duration": 2,
    "start_time": "2021-12-15T17:58:45.031Z"
   },
   {
    "duration": 2,
    "start_time": "2021-12-15T17:58:45.976Z"
   },
   {
    "duration": 78,
    "start_time": "2021-12-15T17:58:46.972Z"
   },
   {
    "duration": 9,
    "start_time": "2021-12-15T17:59:17.971Z"
   },
   {
    "duration": 11,
    "start_time": "2021-12-15T17:59:38.467Z"
   },
   {
    "duration": 287,
    "start_time": "2021-12-15T18:03:06.970Z"
   },
   {
    "duration": 20,
    "start_time": "2021-12-15T18:03:17.737Z"
   },
   {
    "duration": 2,
    "start_time": "2021-12-15T18:03:19.752Z"
   },
   {
    "duration": 5,
    "start_time": "2021-12-15T18:03:20.958Z"
   },
   {
    "duration": 251,
    "start_time": "2021-12-15T18:03:22.929Z"
   },
   {
    "duration": 251,
    "start_time": "2021-12-15T18:04:37.907Z"
   },
   {
    "duration": 8,
    "start_time": "2021-12-15T18:05:04.318Z"
   },
   {
    "duration": 19,
    "start_time": "2021-12-15T18:08:32.734Z"
   },
   {
    "duration": 16,
    "start_time": "2021-12-15T18:09:09.506Z"
   },
   {
    "duration": 3,
    "start_time": "2021-12-15T18:09:15.077Z"
   },
   {
    "duration": 2,
    "start_time": "2021-12-15T18:09:15.485Z"
   },
   {
    "duration": 7,
    "start_time": "2021-12-15T18:09:15.969Z"
   },
   {
    "duration": 5,
    "start_time": "2021-12-15T18:09:41.485Z"
   },
   {
    "duration": 3,
    "start_time": "2021-12-15T18:09:42.358Z"
   },
   {
    "duration": 3,
    "start_time": "2021-12-15T18:09:43.621Z"
   },
   {
    "duration": 245,
    "start_time": "2021-12-15T18:09:47.502Z"
   },
   {
    "duration": 19,
    "start_time": "2021-12-15T18:15:48.874Z"
   },
   {
    "duration": 12,
    "start_time": "2021-12-15T18:15:57.585Z"
   },
   {
    "duration": 8,
    "start_time": "2021-12-15T18:16:29.442Z"
   },
   {
    "duration": 19,
    "start_time": "2021-12-15T18:17:21.505Z"
   },
   {
    "duration": 18,
    "start_time": "2021-12-15T18:17:25.025Z"
   },
   {
    "duration": 706,
    "start_time": "2021-12-15T18:17:39.972Z"
   },
   {
    "duration": 9,
    "start_time": "2021-12-15T18:17:43.075Z"
   },
   {
    "duration": 12,
    "start_time": "2021-12-15T18:17:44.277Z"
   },
   {
    "duration": 2,
    "start_time": "2021-12-15T18:17:45.100Z"
   },
   {
    "duration": 2,
    "start_time": "2021-12-15T18:17:45.807Z"
   },
   {
    "duration": 20,
    "start_time": "2021-12-15T18:17:46.341Z"
   },
   {
    "duration": 11,
    "start_time": "2021-12-15T18:18:11.564Z"
   },
   {
    "duration": 738,
    "start_time": "2021-12-15T18:18:42.982Z"
   },
   {
    "duration": 10,
    "start_time": "2021-12-15T18:18:44.965Z"
   },
   {
    "duration": 14,
    "start_time": "2021-12-15T18:18:45.724Z"
   },
   {
    "duration": 2,
    "start_time": "2021-12-15T18:18:46.283Z"
   },
   {
    "duration": 4,
    "start_time": "2021-12-15T18:18:46.706Z"
   },
   {
    "duration": 16,
    "start_time": "2021-12-15T18:18:47.133Z"
   },
   {
    "duration": 14,
    "start_time": "2021-12-15T18:20:13.582Z"
   },
   {
    "duration": 12,
    "start_time": "2021-12-15T18:21:41.050Z"
   },
   {
    "duration": 28,
    "start_time": "2021-12-15T18:22:04.139Z"
   },
   {
    "duration": 308,
    "start_time": "2021-12-15T18:22:49.852Z"
   },
   {
    "duration": 21,
    "start_time": "2021-12-15T18:22:56.572Z"
   },
   {
    "duration": 290,
    "start_time": "2021-12-15T18:23:35.553Z"
   },
   {
    "duration": 20,
    "start_time": "2021-12-15T18:23:40.760Z"
   },
   {
    "duration": 73,
    "start_time": "2021-12-15T18:26:34.791Z"
   },
   {
    "duration": 9,
    "start_time": "2021-12-15T18:26:35.896Z"
   },
   {
    "duration": 13,
    "start_time": "2021-12-15T18:26:36.239Z"
   },
   {
    "duration": 3,
    "start_time": "2021-12-15T18:26:36.409Z"
   },
   {
    "duration": 3,
    "start_time": "2021-12-15T18:26:36.589Z"
   },
   {
    "duration": 8,
    "start_time": "2021-12-15T18:26:36.766Z"
   },
   {
    "duration": 245,
    "start_time": "2021-12-15T18:26:37.725Z"
   },
   {
    "duration": 63,
    "start_time": "2021-12-15T18:26:38.708Z"
   },
   {
    "duration": 3306,
    "start_time": "2021-12-15T18:26:39.672Z"
   },
   {
    "duration": 40,
    "start_time": "2021-12-15T18:26:42.979Z"
   },
   {
    "duration": 72,
    "start_time": "2021-12-15T18:26:43.021Z"
   },
   {
    "duration": 441,
    "start_time": "2021-12-15T18:27:20.506Z"
   },
   {
    "duration": 45,
    "start_time": "2021-12-15T18:29:33.845Z"
   },
   {
    "duration": 46,
    "start_time": "2021-12-15T18:30:30.964Z"
   },
   {
    "duration": -143,
    "start_time": "2021-12-15T18:31:21.546Z"
   },
   {
    "duration": 6208,
    "start_time": "2021-12-15T18:32:07.282Z"
   },
   {
    "duration": 41,
    "start_time": "2021-12-15T18:32:35.705Z"
   },
   {
    "duration": 44,
    "start_time": "2021-12-15T18:33:23.141Z"
   },
   {
    "duration": 47,
    "start_time": "2021-12-15T18:33:49.213Z"
   },
   {
    "duration": 45,
    "start_time": "2021-12-15T18:35:42.884Z"
   },
   {
    "duration": 66,
    "start_time": "2021-12-15T18:36:36.527Z"
   },
   {
    "duration": 46,
    "start_time": "2021-12-15T18:37:03.029Z"
   },
   {
    "duration": 293,
    "start_time": "2021-12-15T18:38:09.212Z"
   },
   {
    "duration": 310,
    "start_time": "2021-12-15T18:38:18.411Z"
   },
   {
    "duration": 47,
    "start_time": "2021-12-15T18:38:27.094Z"
   },
   {
    "duration": 46,
    "start_time": "2021-12-15T18:39:17.641Z"
   },
   {
    "duration": 47,
    "start_time": "2021-12-15T18:40:14.314Z"
   },
   {
    "duration": 266,
    "start_time": "2021-12-15T18:40:23.693Z"
   },
   {
    "duration": 238,
    "start_time": "2021-12-15T18:40:24.464Z"
   },
   {
    "duration": 231,
    "start_time": "2021-12-15T18:40:25.278Z"
   },
   {
    "duration": 690,
    "start_time": "2021-12-15T18:40:37.518Z"
   },
   {
    "duration": 14,
    "start_time": "2021-12-15T18:40:40.598Z"
   },
   {
    "duration": 18,
    "start_time": "2021-12-15T18:40:41.455Z"
   },
   {
    "duration": 3,
    "start_time": "2021-12-15T18:40:42.024Z"
   },
   {
    "duration": 2,
    "start_time": "2021-12-15T18:40:42.423Z"
   },
   {
    "duration": 31,
    "start_time": "2021-12-15T18:40:42.831Z"
   },
   {
    "duration": 416,
    "start_time": "2021-12-15T18:40:44.952Z"
   },
   {
    "duration": 9,
    "start_time": "2021-12-15T18:41:44.408Z"
   },
   {
    "duration": 10,
    "start_time": "2021-12-15T18:42:06.242Z"
   },
   {
    "duration": 9,
    "start_time": "2021-12-15T18:42:26.824Z"
   },
   {
    "duration": 10,
    "start_time": "2021-12-15T18:42:37.669Z"
   },
   {
    "duration": 233,
    "start_time": "2021-12-15T18:43:15.733Z"
   },
   {
    "duration": 62,
    "start_time": "2021-12-15T18:43:17.902Z"
   },
   {
    "duration": 3422,
    "start_time": "2021-12-15T18:43:21.830Z"
   },
   {
    "duration": 69,
    "start_time": "2021-12-15T18:43:25.254Z"
   },
   {
    "duration": 79,
    "start_time": "2021-12-15T18:43:28.767Z"
   },
   {
    "duration": 69,
    "start_time": "2021-12-15T18:43:48.511Z"
   },
   {
    "duration": 53,
    "start_time": "2021-12-15T18:44:11.377Z"
   },
   {
    "duration": 24,
    "start_time": "2021-12-15T18:46:26.576Z"
   },
   {
    "duration": 25,
    "start_time": "2021-12-15T18:47:05.520Z"
   },
   {
    "duration": 23,
    "start_time": "2021-12-15T18:47:11.220Z"
   },
   {
    "duration": 20,
    "start_time": "2021-12-15T18:47:17.874Z"
   },
   {
    "duration": 47,
    "start_time": "2021-12-15T18:47:37.092Z"
   },
   {
    "duration": 25,
    "start_time": "2021-12-15T18:47:40.606Z"
   },
   {
    "duration": 27,
    "start_time": "2021-12-15T18:47:50.627Z"
   },
   {
    "duration": 19,
    "start_time": "2021-12-15T18:48:21.083Z"
   },
   {
    "duration": 21,
    "start_time": "2021-12-15T18:48:32.903Z"
   },
   {
    "duration": 31,
    "start_time": "2021-12-15T18:49:26.077Z"
   },
   {
    "duration": 22,
    "start_time": "2021-12-15T18:51:01.208Z"
   },
   {
    "duration": 32,
    "start_time": "2021-12-15T18:51:26.153Z"
   },
   {
    "duration": 87,
    "start_time": "2021-12-15T18:56:36.696Z"
   },
   {
    "duration": 10,
    "start_time": "2021-12-15T18:56:53.974Z"
   },
   {
    "duration": 17,
    "start_time": "2021-12-15T18:56:58.736Z"
   },
   {
    "duration": 12,
    "start_time": "2021-12-15T18:57:18.374Z"
   },
   {
    "duration": 16,
    "start_time": "2021-12-15T18:57:22.155Z"
   },
   {
    "duration": 2213,
    "start_time": "2021-12-15T18:57:27.238Z"
   },
   {
    "duration": -130,
    "start_time": "2021-12-15T18:57:29.583Z"
   },
   {
    "duration": 1627,
    "start_time": "2021-12-15T18:57:45.255Z"
   },
   {
    "duration": 1685,
    "start_time": "2021-12-15T18:58:55.037Z"
   },
   {
    "duration": 12,
    "start_time": "2021-12-15T18:59:27.015Z"
   },
   {
    "duration": 22,
    "start_time": "2021-12-15T18:59:39.395Z"
   },
   {
    "duration": 1610,
    "start_time": "2021-12-15T18:59:41.979Z"
   },
   {
    "duration": 1786,
    "start_time": "2021-12-15T18:59:44.860Z"
   },
   {
    "duration": 1099,
    "start_time": "2021-12-15T18:59:48.470Z"
   },
   {
    "duration": 60,
    "start_time": "2021-12-15T18:59:52.167Z"
   },
   {
    "duration": 22,
    "start_time": "2021-12-15T18:59:53.892Z"
   },
   {
    "duration": 21,
    "start_time": "2021-12-15T18:59:55.515Z"
   },
   {
    "duration": 21,
    "start_time": "2021-12-15T18:59:57.091Z"
   },
   {
    "duration": 711,
    "start_time": "2021-12-15T19:00:12.101Z"
   },
   {
    "duration": 10,
    "start_time": "2021-12-15T19:00:16.583Z"
   },
   {
    "duration": 13,
    "start_time": "2021-12-15T19:00:18.611Z"
   },
   {
    "duration": 2,
    "start_time": "2021-12-15T19:00:20.042Z"
   },
   {
    "duration": 2,
    "start_time": "2021-12-15T19:00:20.490Z"
   },
   {
    "duration": 17,
    "start_time": "2021-12-15T19:00:21.442Z"
   },
   {
    "duration": 13,
    "start_time": "2021-12-15T19:00:26.938Z"
   },
   {
    "duration": 67,
    "start_time": "2021-12-15T19:00:30.818Z"
   },
   {
    "duration": 3716,
    "start_time": "2021-12-15T19:00:35.783Z"
   },
   {
    "duration": 58,
    "start_time": "2021-12-15T19:00:43.213Z"
   },
   {
    "duration": 82,
    "start_time": "2021-12-15T19:00:48.484Z"
   },
   {
    "duration": 29,
    "start_time": "2021-12-15T19:00:50.795Z"
   },
   {
    "duration": 23,
    "start_time": "2021-12-15T19:00:52.650Z"
   },
   {
    "duration": 22,
    "start_time": "2021-12-15T19:00:54.778Z"
   },
   {
    "duration": 18,
    "start_time": "2021-12-15T19:04:44.440Z"
   },
   {
    "duration": 16,
    "start_time": "2021-12-15T19:05:00.946Z"
   },
   {
    "duration": 12,
    "start_time": "2021-12-15T19:05:30.849Z"
   },
   {
    "duration": 14,
    "start_time": "2021-12-15T19:05:43.039Z"
   },
   {
    "duration": 21,
    "start_time": "2021-12-15T19:06:13.552Z"
   },
   {
    "duration": 16,
    "start_time": "2021-12-15T19:06:34.375Z"
   },
   {
    "duration": 17,
    "start_time": "2021-12-15T19:07:18.111Z"
   },
   {
    "duration": 12,
    "start_time": "2021-12-15T19:14:02.938Z"
   },
   {
    "duration": 983,
    "start_time": "2021-12-16T16:24:24.699Z"
   },
   {
    "duration": 12,
    "start_time": "2021-12-16T16:24:29.475Z"
   },
   {
    "duration": 26,
    "start_time": "2021-12-16T16:24:31.355Z"
   },
   {
    "duration": 3,
    "start_time": "2021-12-16T16:24:33.346Z"
   },
   {
    "duration": 4,
    "start_time": "2021-12-16T16:24:34.222Z"
   },
   {
    "duration": 20,
    "start_time": "2021-12-16T16:24:34.832Z"
   },
   {
    "duration": 20,
    "start_time": "2021-12-16T16:24:37.585Z"
   },
   {
    "duration": 98,
    "start_time": "2021-12-16T16:24:39.835Z"
   },
   {
    "duration": 4612,
    "start_time": "2021-12-16T16:24:43.314Z"
   },
   {
    "duration": 59,
    "start_time": "2021-12-16T16:24:47.929Z"
   },
   {
    "duration": 93,
    "start_time": "2021-12-16T16:24:48.965Z"
   },
   {
    "duration": 38,
    "start_time": "2021-12-16T16:24:51.682Z"
   },
   {
    "duration": 33,
    "start_time": "2021-12-16T16:24:53.202Z"
   },
   {
    "duration": 36,
    "start_time": "2021-12-16T16:24:55.378Z"
   },
   {
    "duration": 26,
    "start_time": "2021-12-16T16:31:34.953Z"
   },
   {
    "duration": 18,
    "start_time": "2021-12-16T16:31:48.301Z"
   },
   {
    "duration": 335,
    "start_time": "2021-12-16T17:21:26.354Z"
   },
   {
    "duration": 22,
    "start_time": "2021-12-16T17:21:30.081Z"
   },
   {
    "duration": 22,
    "start_time": "2021-12-16T17:26:30.820Z"
   },
   {
    "duration": 23,
    "start_time": "2021-12-16T17:27:01.940Z"
   },
   {
    "duration": 25,
    "start_time": "2021-12-16T17:31:13.265Z"
   },
   {
    "duration": 23,
    "start_time": "2021-12-16T17:33:42.670Z"
   },
   {
    "duration": 25,
    "start_time": "2021-12-16T17:34:23.544Z"
   },
   {
    "duration": 23,
    "start_time": "2021-12-16T17:34:38.592Z"
   },
   {
    "duration": 4382,
    "start_time": "2021-12-16T17:34:42.624Z"
   },
   {
    "duration": 24,
    "start_time": "2021-12-16T17:34:50.331Z"
   },
   {
    "duration": 4534,
    "start_time": "2021-12-16T17:34:55.329Z"
   },
   {
    "duration": 3969,
    "start_time": "2021-12-16T17:35:06.437Z"
   },
   {
    "duration": 4174,
    "start_time": "2021-12-16T17:35:31.114Z"
   },
   {
    "duration": 23,
    "start_time": "2021-12-16T17:35:48.192Z"
   },
   {
    "duration": 25,
    "start_time": "2021-12-16T17:36:01.211Z"
   },
   {
    "duration": 80,
    "start_time": "2021-12-16T17:45:02.662Z"
   },
   {
    "duration": 1022,
    "start_time": "2021-12-16T17:45:10.366Z"
   },
   {
    "duration": 17251,
    "start_time": "2021-12-16T17:45:40.418Z"
   },
   {
    "duration": 3904,
    "start_time": "2021-12-16T17:46:05.280Z"
   },
   {
    "duration": 1111,
    "start_time": "2021-12-16T17:47:25.555Z"
   },
   {
    "duration": 34,
    "start_time": "2021-12-16T17:48:59.809Z"
   },
   {
    "duration": 24,
    "start_time": "2021-12-16T17:49:10.729Z"
   },
   {
    "duration": 40,
    "start_time": "2021-12-16T17:49:21.040Z"
   },
   {
    "duration": 90,
    "start_time": "2021-12-16T17:51:26.706Z"
   },
   {
    "duration": 1042,
    "start_time": "2021-12-16T17:51:32.302Z"
   },
   {
    "duration": 77,
    "start_time": "2021-12-16T17:52:10.222Z"
   },
   {
    "duration": 75,
    "start_time": "2021-12-16T17:52:53.831Z"
   },
   {
    "duration": 90,
    "start_time": "2021-12-16T17:53:29.750Z"
   },
   {
    "duration": 811,
    "start_time": "2021-12-16T17:53:36.813Z"
   },
   {
    "duration": 403,
    "start_time": "2021-12-16T17:54:17.025Z"
   },
   {
    "duration": 505,
    "start_time": "2021-12-16T17:54:24.610Z"
   },
   {
    "duration": 415,
    "start_time": "2021-12-16T17:54:50.208Z"
   },
   {
    "duration": 26,
    "start_time": "2021-12-16T18:01:44.877Z"
   },
   {
    "duration": 3,
    "start_time": "2021-12-16T18:01:45.391Z"
   },
   {
    "duration": 6,
    "start_time": "2021-12-16T18:01:45.879Z"
   },
   {
    "duration": 91,
    "start_time": "2021-12-16T18:01:46.903Z"
   },
   {
    "duration": 27,
    "start_time": "2021-12-16T18:07:40.963Z"
   },
   {
    "duration": 34,
    "start_time": "2021-12-16T18:08:56.898Z"
   },
   {
    "duration": 34,
    "start_time": "2021-12-16T18:16:17.614Z"
   },
   {
    "duration": 32,
    "start_time": "2021-12-16T18:16:20.567Z"
   },
   {
    "duration": 24,
    "start_time": "2021-12-16T18:16:24.268Z"
   },
   {
    "duration": 948,
    "start_time": "2021-12-17T17:16:05.987Z"
   },
   {
    "duration": 15,
    "start_time": "2021-12-17T17:16:10.049Z"
   },
   {
    "duration": 391,
    "start_time": "2021-12-17T17:16:11.288Z"
   },
   {
    "duration": 15,
    "start_time": "2021-12-17T17:16:31.691Z"
   },
   {
    "duration": 4,
    "start_time": "2021-12-17T17:16:39.378Z"
   },
   {
    "duration": 4,
    "start_time": "2021-12-17T17:16:39.750Z"
   },
   {
    "duration": 276,
    "start_time": "2021-12-17T17:16:42.146Z"
   },
   {
    "duration": 85,
    "start_time": "2021-12-17T17:20:29.838Z"
   },
   {
    "duration": 100,
    "start_time": "2021-12-17T17:21:02.805Z"
   },
   {
    "duration": 106,
    "start_time": "2021-12-17T17:22:02.418Z"
   },
   {
    "duration": 4557,
    "start_time": "2021-12-17T17:28:21.840Z"
   },
   {
    "duration": 96,
    "start_time": "2021-12-17T17:29:32.292Z"
   },
   {
    "duration": 960,
    "start_time": "2021-12-17T17:29:42.383Z"
   },
   {
    "duration": 90,
    "start_time": "2021-12-17T17:29:56.499Z"
   },
   {
    "duration": 322,
    "start_time": "2021-12-17T17:30:28.156Z"
   },
   {
    "duration": 309,
    "start_time": "2021-12-17T17:31:03.233Z"
   },
   {
    "duration": 275,
    "start_time": "2021-12-17T17:31:35.082Z"
   },
   {
    "duration": 4303,
    "start_time": "2021-12-17T17:32:06.178Z"
   },
   {
    "duration": 99,
    "start_time": "2021-12-17T17:34:53.344Z"
   },
   {
    "duration": 102,
    "start_time": "2021-12-17T17:35:00.770Z"
   },
   {
    "duration": 334,
    "start_time": "2021-12-17T17:35:07.299Z"
   },
   {
    "duration": 6330,
    "start_time": "2021-12-17T17:35:25.702Z"
   },
   {
    "duration": -23,
    "start_time": "2021-12-17T17:35:56.547Z"
   },
   {
    "duration": 6021,
    "start_time": "2021-12-17T17:48:32.159Z"
   },
   {
    "duration": 269,
    "start_time": "2021-12-17T17:49:07.151Z"
   },
   {
    "duration": 13,
    "start_time": "2021-12-17T17:49:26.279Z"
   },
   {
    "duration": 13,
    "start_time": "2021-12-17T17:49:38.921Z"
   },
   {
    "duration": 15,
    "start_time": "2021-12-17T17:49:48.781Z"
   },
   {
    "duration": 359,
    "start_time": "2021-12-17T17:50:20.983Z"
   },
   {
    "duration": 20,
    "start_time": "2021-12-17T17:50:38.767Z"
   },
   {
    "duration": 275,
    "start_time": "2021-12-17T17:52:42.317Z"
   },
   {
    "duration": 293,
    "start_time": "2021-12-17T17:52:46.950Z"
   },
   {
    "duration": 26,
    "start_time": "2021-12-17T17:53:08.276Z"
   },
   {
    "duration": 30,
    "start_time": "2021-12-17T18:00:00.523Z"
   },
   {
    "duration": 56,
    "start_time": "2021-12-17T18:00:08.920Z"
   },
   {
    "duration": 56,
    "start_time": "2021-12-17T18:00:16.811Z"
   },
   {
    "duration": 31,
    "start_time": "2021-12-17T18:00:45.740Z"
   },
   {
    "duration": 32,
    "start_time": "2021-12-17T18:00:53.690Z"
   },
   {
    "duration": 35,
    "start_time": "2021-12-17T18:02:03.487Z"
   },
   {
    "duration": 36,
    "start_time": "2021-12-17T18:02:22.727Z"
   },
   {
    "duration": 7154,
    "start_time": "2021-12-17T18:08:49.801Z"
   },
   {
    "duration": 6631,
    "start_time": "2021-12-17T18:09:02.543Z"
   },
   {
    "duration": 33,
    "start_time": "2021-12-17T18:17:40.226Z"
   },
   {
    "duration": 309,
    "start_time": "2021-12-17T18:22:26.104Z"
   },
   {
    "duration": 338,
    "start_time": "2021-12-17T18:22:54.931Z"
   },
   {
    "duration": 276,
    "start_time": "2021-12-17T18:23:30.563Z"
   },
   {
    "duration": 39,
    "start_time": "2021-12-17T18:28:14.278Z"
   },
   {
    "duration": 31,
    "start_time": "2021-12-17T18:29:22.502Z"
   },
   {
    "duration": 296,
    "start_time": "2021-12-17T18:30:42.701Z"
   },
   {
    "duration": 306,
    "start_time": "2021-12-17T18:31:28.748Z"
   },
   {
    "duration": 96,
    "start_time": "2021-12-17T18:32:36.244Z"
   },
   {
    "duration": 296,
    "start_time": "2021-12-17T18:32:53.748Z"
   },
   {
    "duration": 286,
    "start_time": "2021-12-17T18:33:30.595Z"
   },
   {
    "duration": 92,
    "start_time": "2021-12-17T18:33:48.411Z"
   },
   {
    "duration": 7566,
    "start_time": "2021-12-17T18:33:53.210Z"
   },
   {
    "duration": 37,
    "start_time": "2021-12-17T18:34:42.506Z"
   },
   {
    "duration": 289,
    "start_time": "2021-12-17T18:42:01.529Z"
   },
   {
    "duration": 97,
    "start_time": "2021-12-17T18:48:40.012Z"
   },
   {
    "duration": 91,
    "start_time": "2021-12-17T18:48:46.026Z"
   },
   {
    "duration": 471,
    "start_time": "2021-12-17T18:48:58.450Z"
   },
   {
    "duration": 472,
    "start_time": "2021-12-17T18:49:13.225Z"
   },
   {
    "duration": 462,
    "start_time": "2021-12-17T18:49:36.314Z"
   },
   {
    "duration": 487,
    "start_time": "2021-12-17T18:49:40.152Z"
   },
   {
    "duration": 546,
    "start_time": "2021-12-17T18:50:24.464Z"
   },
   {
    "duration": 455,
    "start_time": "2021-12-17T18:50:28.263Z"
   },
   {
    "duration": 495,
    "start_time": "2021-12-17T18:53:37.463Z"
   },
   {
    "duration": 1158,
    "start_time": "2021-12-17T18:54:04.150Z"
   },
   {
    "duration": 1226,
    "start_time": "2021-12-17T18:54:17.661Z"
   },
   {
    "duration": 878,
    "start_time": "2021-12-17T18:57:40.299Z"
   },
   {
    "duration": 281,
    "start_time": "2021-12-17T18:57:50.316Z"
   },
   {
    "duration": 277,
    "start_time": "2021-12-17T18:58:04.179Z"
   },
   {
    "duration": 267,
    "start_time": "2021-12-17T18:58:07.575Z"
   },
   {
    "duration": 261,
    "start_time": "2021-12-17T18:58:52.960Z"
   },
   {
    "duration": 262,
    "start_time": "2021-12-17T18:58:55.790Z"
   },
   {
    "duration": 107,
    "start_time": "2021-12-17T19:13:24.874Z"
   },
   {
    "duration": 90,
    "start_time": "2021-12-17T19:14:05.874Z"
   },
   {
    "duration": 4,
    "start_time": "2021-12-17T19:14:46.496Z"
   },
   {
    "duration": 4,
    "start_time": "2021-12-17T19:14:49.978Z"
   },
   {
    "duration": 89,
    "start_time": "2021-12-17T19:14:51.137Z"
   },
   {
    "duration": 84,
    "start_time": "2021-12-17T19:15:27.574Z"
   },
   {
    "duration": 82,
    "start_time": "2021-12-17T19:16:37.904Z"
   },
   {
    "duration": 25,
    "start_time": "2021-12-17T19:16:46.320Z"
   },
   {
    "duration": 23,
    "start_time": "2021-12-17T19:17:06.442Z"
   },
   {
    "duration": 466,
    "start_time": "2021-12-17T19:22:49.093Z"
   },
   {
    "duration": 27,
    "start_time": "2021-12-17T19:23:06.716Z"
   },
   {
    "duration": 33,
    "start_time": "2021-12-17T19:23:32.417Z"
   },
   {
    "duration": 28,
    "start_time": "2021-12-17T19:25:52.169Z"
   },
   {
    "duration": 25,
    "start_time": "2021-12-17T19:27:52.262Z"
   },
   {
    "duration": 51,
    "start_time": "2021-12-17T19:35:52.092Z"
   },
   {
    "duration": 289,
    "start_time": "2021-12-17T19:36:16.491Z"
   },
   {
    "duration": 311,
    "start_time": "2021-12-17T19:37:21.468Z"
   },
   {
    "duration": 317,
    "start_time": "2021-12-17T19:37:32.180Z"
   },
   {
    "duration": 297,
    "start_time": "2021-12-17T19:38:17.054Z"
   },
   {
    "duration": 285,
    "start_time": "2021-12-17T19:39:15.347Z"
   },
   {
    "duration": 113,
    "start_time": "2021-12-17T19:39:40.837Z"
   },
   {
    "duration": 13,
    "start_time": "2021-12-17T19:39:43.640Z"
   },
   {
    "duration": 15,
    "start_time": "2021-12-17T19:39:44.777Z"
   },
   {
    "duration": 3,
    "start_time": "2021-12-17T19:39:45.289Z"
   },
   {
    "duration": 4,
    "start_time": "2021-12-17T19:39:45.672Z"
   },
   {
    "duration": 27,
    "start_time": "2021-12-17T19:39:46.201Z"
   },
   {
    "duration": 49,
    "start_time": "2021-12-17T19:39:58.890Z"
   },
   {
    "duration": 279,
    "start_time": "2021-12-17T19:40:13.297Z"
   },
   {
    "duration": 329,
    "start_time": "2021-12-17T19:40:27.779Z"
   },
   {
    "duration": 318,
    "start_time": "2021-12-17T19:40:33.263Z"
   },
   {
    "duration": 293,
    "start_time": "2021-12-17T19:40:39.163Z"
   },
   {
    "duration": 272,
    "start_time": "2021-12-17T19:40:53.436Z"
   },
   {
    "duration": 3,
    "start_time": "2021-12-17T19:40:57.528Z"
   },
   {
    "duration": 304,
    "start_time": "2021-12-17T19:40:58.411Z"
   },
   {
    "duration": 111,
    "start_time": "2021-12-17T19:41:17.634Z"
   },
   {
    "duration": 13,
    "start_time": "2021-12-17T19:41:20.679Z"
   },
   {
    "duration": 14,
    "start_time": "2021-12-17T19:41:22.880Z"
   },
   {
    "duration": 3,
    "start_time": "2021-12-17T19:41:23.751Z"
   },
   {
    "duration": 4,
    "start_time": "2021-12-17T19:41:24.127Z"
   },
   {
    "duration": 47,
    "start_time": "2021-12-17T19:41:24.898Z"
   },
   {
    "duration": 85,
    "start_time": "2021-12-17T19:41:42.401Z"
   },
   {
    "duration": 330,
    "start_time": "2021-12-17T19:41:55.505Z"
   },
   {
    "duration": 76,
    "start_time": "2021-12-17T19:42:09.731Z"
   },
   {
    "duration": 79,
    "start_time": "2021-12-17T19:42:16.467Z"
   },
   {
    "duration": 83,
    "start_time": "2021-12-17T19:42:22.593Z"
   },
   {
    "duration": 77,
    "start_time": "2021-12-17T19:43:09.841Z"
   },
   {
    "duration": 79,
    "start_time": "2021-12-17T19:43:30.536Z"
   },
   {
    "duration": 6484,
    "start_time": "2021-12-17T19:44:13.944Z"
   },
   {
    "duration": 108,
    "start_time": "2021-12-17T19:44:21.895Z"
   },
   {
    "duration": 90,
    "start_time": "2021-12-17T19:45:13.543Z"
   },
   {
    "duration": 82,
    "start_time": "2021-12-17T19:45:25.655Z"
   },
   {
    "duration": 968,
    "start_time": "2021-12-17T19:45:45.764Z"
   },
   {
    "duration": 14,
    "start_time": "2021-12-17T19:45:48.315Z"
   },
   {
    "duration": 19,
    "start_time": "2021-12-17T19:45:49.490Z"
   },
   {
    "duration": 3,
    "start_time": "2021-12-17T19:45:52.233Z"
   },
   {
    "duration": 3,
    "start_time": "2021-12-17T19:45:52.977Z"
   },
   {
    "duration": 514,
    "start_time": "2021-12-17T19:45:53.307Z"
   },
   {
    "duration": 352,
    "start_time": "2021-12-17T19:46:07.963Z"
   },
   {
    "duration": 344,
    "start_time": "2021-12-17T19:46:15.186Z"
   },
   {
    "duration": 130,
    "start_time": "2021-12-17T19:46:21.770Z"
   },
   {
    "duration": 321,
    "start_time": "2021-12-17T19:49:14.762Z"
   },
   {
    "duration": 365,
    "start_time": "2021-12-17T19:49:23.440Z"
   },
   {
    "duration": 301,
    "start_time": "2021-12-17T19:52:22.647Z"
   },
   {
    "duration": 77,
    "start_time": "2021-12-17T19:52:35.358Z"
   },
   {
    "duration": 4,
    "start_time": "2021-12-17T19:52:42.269Z"
   },
   {
    "duration": 4,
    "start_time": "2021-12-17T19:52:42.572Z"
   },
   {
    "duration": 75,
    "start_time": "2021-12-17T19:52:43.207Z"
   },
   {
    "duration": 96,
    "start_time": "2021-12-17T19:53:13.495Z"
   },
   {
    "duration": 1008,
    "start_time": "2021-12-17T19:53:26.834Z"
   },
   {
    "duration": 14,
    "start_time": "2021-12-17T19:53:29.608Z"
   },
   {
    "duration": 14,
    "start_time": "2021-12-17T19:53:30.647Z"
   },
   {
    "duration": 4,
    "start_time": "2021-12-17T19:53:31.239Z"
   },
   {
    "duration": 4,
    "start_time": "2021-12-17T19:53:31.686Z"
   },
   {
    "duration": 102,
    "start_time": "2021-12-17T19:53:32.296Z"
   },
   {
    "duration": 88,
    "start_time": "2021-12-17T19:54:01.607Z"
   },
   {
    "duration": 90,
    "start_time": "2021-12-17T19:58:45.885Z"
   },
   {
    "duration": 26,
    "start_time": "2021-12-17T19:58:58.446Z"
   },
   {
    "duration": 975,
    "start_time": "2021-12-17T19:59:30.194Z"
   },
   {
    "duration": 13,
    "start_time": "2021-12-17T19:59:32.240Z"
   },
   {
    "duration": 16,
    "start_time": "2021-12-17T19:59:32.849Z"
   },
   {
    "duration": 4,
    "start_time": "2021-12-17T19:59:33.187Z"
   },
   {
    "duration": 3,
    "start_time": "2021-12-17T19:59:33.530Z"
   },
   {
    "duration": 29,
    "start_time": "2021-12-17T19:59:34.053Z"
   },
   {
    "duration": 27,
    "start_time": "2021-12-17T20:00:07.675Z"
   },
   {
    "duration": 37,
    "start_time": "2021-12-17T20:00:25.649Z"
   },
   {
    "duration": 35,
    "start_time": "2021-12-17T20:00:28.176Z"
   },
   {
    "duration": 47,
    "start_time": "2021-12-17T20:01:00.484Z"
   },
   {
    "duration": 49,
    "start_time": "2021-12-17T20:01:05.666Z"
   },
   {
    "duration": 55,
    "start_time": "2021-12-17T20:01:18.044Z"
   },
   {
    "duration": 367,
    "start_time": "2021-12-17T20:02:37.228Z"
   },
   {
    "duration": 110,
    "start_time": "2021-12-17T20:02:40.086Z"
   },
   {
    "duration": 780,
    "start_time": "2021-12-17T20:02:48.383Z"
   },
   {
    "duration": 1308,
    "start_time": "2021-12-17T20:03:52.210Z"
   },
   {
    "duration": 14,
    "start_time": "2021-12-17T20:03:55.535Z"
   },
   {
    "duration": 15,
    "start_time": "2021-12-17T20:03:56.416Z"
   },
   {
    "duration": 3,
    "start_time": "2021-12-17T20:03:57.024Z"
   },
   {
    "duration": 4,
    "start_time": "2021-12-17T20:03:57.794Z"
   },
   {
    "duration": 61,
    "start_time": "2021-12-17T20:03:58.416Z"
   },
   {
    "duration": 53,
    "start_time": "2021-12-17T20:04:07.843Z"
   },
   {
    "duration": 61,
    "start_time": "2021-12-17T20:04:25.793Z"
   },
   {
    "duration": 985,
    "start_time": "2021-12-17T20:04:37.454Z"
   },
   {
    "duration": 13,
    "start_time": "2021-12-17T20:04:39.613Z"
   },
   {
    "duration": 14,
    "start_time": "2021-12-17T20:04:40.410Z"
   },
   {
    "duration": 4,
    "start_time": "2021-12-17T20:04:40.778Z"
   },
   {
    "duration": 4,
    "start_time": "2021-12-17T20:04:41.442Z"
   },
   {
    "duration": 70,
    "start_time": "2021-12-17T20:04:42.036Z"
   },
   {
    "duration": 357,
    "start_time": "2021-12-17T20:04:46.435Z"
   },
   {
    "duration": 64,
    "start_time": "2021-12-17T20:05:14.732Z"
   },
   {
    "duration": 351,
    "start_time": "2021-12-17T20:05:16.971Z"
   },
   {
    "duration": 64,
    "start_time": "2021-12-17T20:05:46.316Z"
   },
   {
    "duration": 280,
    "start_time": "2021-12-17T20:05:49.514Z"
   },
   {
    "duration": 709,
    "start_time": "2021-12-17T20:06:25.066Z"
   },
   {
    "duration": 63,
    "start_time": "2021-12-17T20:07:13.724Z"
   },
   {
    "duration": 1075,
    "start_time": "2021-12-18T06:32:16.535Z"
   },
   {
    "duration": 20,
    "start_time": "2021-12-18T06:32:19.127Z"
   },
   {
    "duration": 13,
    "start_time": "2021-12-18T06:32:20.024Z"
   },
   {
    "duration": 3,
    "start_time": "2021-12-18T06:32:20.345Z"
   },
   {
    "duration": 4,
    "start_time": "2021-12-18T06:32:20.951Z"
   },
   {
    "duration": 64,
    "start_time": "2021-12-18T06:32:21.427Z"
   },
   {
    "duration": 60,
    "start_time": "2021-12-18T06:33:05.753Z"
   },
   {
    "duration": 2551,
    "start_time": "2021-12-18T06:36:34.195Z"
   },
   {
    "duration": 63,
    "start_time": "2021-12-18T06:37:16.497Z"
   },
   {
    "duration": 100,
    "start_time": "2021-12-18T06:37:40.760Z"
   },
   {
    "duration": 67,
    "start_time": "2021-12-18T06:37:59.816Z"
   },
   {
    "duration": 63,
    "start_time": "2021-12-18T06:38:47.539Z"
   },
   {
    "duration": 64,
    "start_time": "2021-12-18T06:38:51.396Z"
   },
   {
    "duration": 65,
    "start_time": "2021-12-18T06:40:34.704Z"
   },
   {
    "duration": 59,
    "start_time": "2021-12-18T06:41:22.597Z"
   },
   {
    "duration": 25,
    "start_time": "2021-12-18T06:44:09.059Z"
   },
   {
    "duration": 34,
    "start_time": "2021-12-18T06:44:34.658Z"
   },
   {
    "duration": 6,
    "start_time": "2021-12-18T06:45:27.593Z"
   },
   {
    "duration": 3,
    "start_time": "2021-12-18T06:46:15.953Z"
   },
   {
    "duration": 7,
    "start_time": "2021-12-18T06:46:32.608Z"
   },
   {
    "duration": 423,
    "start_time": "2021-12-18T06:47:21.960Z"
   },
   {
    "duration": 404,
    "start_time": "2021-12-18T06:47:34.103Z"
   },
   {
    "duration": 25,
    "start_time": "2021-12-18T06:47:43.841Z"
   },
   {
    "duration": 41,
    "start_time": "2021-12-18T06:48:25.935Z"
   },
   {
    "duration": 19,
    "start_time": "2021-12-18T06:50:23.880Z"
   },
   {
    "duration": 100,
    "start_time": "2021-12-18T09:42:48.442Z"
   },
   {
    "duration": 15,
    "start_time": "2021-12-18T09:42:51.307Z"
   },
   {
    "duration": 13,
    "start_time": "2021-12-18T09:42:52.579Z"
   },
   {
    "duration": 3,
    "start_time": "2021-12-18T09:42:53.483Z"
   },
   {
    "duration": 4,
    "start_time": "2021-12-18T09:42:54.010Z"
   },
   {
    "duration": 59,
    "start_time": "2021-12-18T09:42:54.651Z"
   },
   {
    "duration": 1241,
    "start_time": "2021-12-18T10:51:01.607Z"
   },
   {
    "duration": 13,
    "start_time": "2021-12-18T10:51:04.473Z"
   },
   {
    "duration": 13,
    "start_time": "2021-12-18T10:51:05.539Z"
   },
   {
    "duration": 3,
    "start_time": "2021-12-18T10:51:05.875Z"
   },
   {
    "duration": 3,
    "start_time": "2021-12-18T10:51:06.555Z"
   },
   {
    "duration": 89,
    "start_time": "2021-12-18T10:51:06.971Z"
   },
   {
    "duration": 21,
    "start_time": "2021-12-18T10:51:08.041Z"
   },
   {
    "duration": 10,
    "start_time": "2021-12-18T11:07:59.391Z"
   },
   {
    "duration": 21,
    "start_time": "2021-12-18T11:08:16.280Z"
   },
   {
    "duration": 45,
    "start_time": "2021-12-18T11:09:16.426Z"
   },
   {
    "duration": 32,
    "start_time": "2021-12-18T11:10:10.853Z"
   },
   {
    "duration": 33,
    "start_time": "2021-12-18T11:10:20.410Z"
   },
   {
    "duration": 36,
    "start_time": "2021-12-18T11:10:20.445Z"
   },
   {
    "duration": 48,
    "start_time": "2021-12-18T11:10:24.905Z"
   },
   {
    "duration": 40,
    "start_time": "2021-12-18T11:10:25.544Z"
   },
   {
    "duration": 1169,
    "start_time": "2021-12-18T11:10:51.171Z"
   },
   {
    "duration": 13,
    "start_time": "2021-12-18T11:10:54.311Z"
   },
   {
    "duration": 14,
    "start_time": "2021-12-18T11:10:55.457Z"
   },
   {
    "duration": 3,
    "start_time": "2021-12-18T11:10:56.024Z"
   },
   {
    "duration": 3,
    "start_time": "2021-12-18T11:10:56.601Z"
   },
   {
    "duration": 63,
    "start_time": "2021-12-18T11:10:57.269Z"
   },
   {
    "duration": 48,
    "start_time": "2021-12-18T11:10:59.425Z"
   },
   {
    "duration": 60,
    "start_time": "2021-12-18T11:11:00.505Z"
   },
   {
    "duration": 478,
    "start_time": "2021-12-18T11:12:07.384Z"
   },
   {
    "duration": 40,
    "start_time": "2021-12-18T11:12:25.867Z"
   },
   {
    "duration": 63,
    "start_time": "2021-12-18T11:15:47.079Z"
   },
   {
    "duration": 34,
    "start_time": "2021-12-18T11:15:51.412Z"
   },
   {
    "duration": 427,
    "start_time": "2021-12-18T11:17:25.693Z"
   },
   {
    "duration": 397,
    "start_time": "2021-12-18T11:18:31.161Z"
   },
   {
    "duration": 437,
    "start_time": "2021-12-18T11:18:52.029Z"
   },
   {
    "duration": 628,
    "start_time": "2021-12-18T11:20:16.477Z"
   },
   {
    "duration": -708,
    "start_time": "2021-12-18T11:20:17.816Z"
   },
   {
    "duration": 33,
    "start_time": "2021-12-18T11:20:17.433Z"
   },
   {
    "duration": 558,
    "start_time": "2021-12-18T11:20:18.456Z"
   },
   {
    "duration": 49,
    "start_time": "2021-12-18T11:20:27.517Z"
   },
   {
    "duration": 410,
    "start_time": "2021-12-18T11:20:49.819Z"
   },
   {
    "duration": 391,
    "start_time": "2021-12-18T11:20:59.393Z"
   },
   {
    "duration": 483,
    "start_time": "2021-12-18T11:21:53.611Z"
   },
   {
    "duration": 451,
    "start_time": "2021-12-18T11:22:36.887Z"
   },
   {
    "duration": 963,
    "start_time": "2021-12-18T11:23:13.808Z"
   },
   {
    "duration": 14,
    "start_time": "2021-12-18T11:23:17.496Z"
   },
   {
    "duration": 13,
    "start_time": "2021-12-18T11:23:18.459Z"
   },
   {
    "duration": 4,
    "start_time": "2021-12-18T11:23:19.029Z"
   },
   {
    "duration": 3,
    "start_time": "2021-12-18T11:23:19.453Z"
   },
   {
    "duration": 62,
    "start_time": "2021-12-18T11:23:20.169Z"
   },
   {
    "duration": 40,
    "start_time": "2021-12-18T11:23:21.828Z"
   },
   {
    "duration": 44,
    "start_time": "2021-12-18T11:23:24.365Z"
   },
   {
    "duration": 535,
    "start_time": "2021-12-18T11:23:43.916Z"
   },
   {
    "duration": 1226,
    "start_time": "2021-12-18T11:24:00.056Z"
   },
   {
    "duration": 15,
    "start_time": "2021-12-18T11:24:02.799Z"
   },
   {
    "duration": 13,
    "start_time": "2021-12-18T11:24:04.049Z"
   },
   {
    "duration": 4,
    "start_time": "2021-12-18T11:24:04.727Z"
   },
   {
    "duration": 5,
    "start_time": "2021-12-18T11:24:04.735Z"
   },
   {
    "duration": 60,
    "start_time": "2021-12-18T11:24:07.160Z"
   },
   {
    "duration": 33,
    "start_time": "2021-12-18T11:24:07.625Z"
   },
   {
    "duration": 45,
    "start_time": "2021-12-18T11:24:07.662Z"
   },
   {
    "duration": 36,
    "start_time": "2021-12-18T11:25:19.348Z"
   },
   {
    "duration": 41,
    "start_time": "2021-12-18T11:26:30.391Z"
   },
   {
    "duration": 76,
    "start_time": "2021-12-18T11:28:23.058Z"
   },
   {
    "duration": 64,
    "start_time": "2021-12-18T11:29:01.043Z"
   },
   {
    "duration": 499,
    "start_time": "2021-12-18T11:30:10.884Z"
   },
   {
    "duration": 426,
    "start_time": "2021-12-18T11:33:42.206Z"
   },
   {
    "duration": 1073,
    "start_time": "2021-12-18T11:34:04.247Z"
   },
   {
    "duration": 13,
    "start_time": "2021-12-18T11:34:07.270Z"
   },
   {
    "duration": 13,
    "start_time": "2021-12-18T11:34:07.285Z"
   },
   {
    "duration": 3,
    "start_time": "2021-12-18T11:34:08.224Z"
   },
   {
    "duration": 4,
    "start_time": "2021-12-18T11:34:08.617Z"
   },
   {
    "duration": 516,
    "start_time": "2021-12-18T11:34:10.028Z"
   },
   {
    "duration": 68,
    "start_time": "2021-12-18T11:34:46.231Z"
   },
   {
    "duration": 60,
    "start_time": "2021-12-18T11:38:38.961Z"
   },
   {
    "duration": 52,
    "start_time": "2021-12-18T11:39:38.531Z"
   },
   {
    "duration": 56,
    "start_time": "2021-12-18T11:39:49.493Z"
   },
   {
    "duration": 1249,
    "start_time": "2021-12-18T11:40:31.420Z"
   },
   {
    "duration": 14,
    "start_time": "2021-12-18T11:40:36.761Z"
   },
   {
    "duration": 14,
    "start_time": "2021-12-18T11:40:38.612Z"
   },
   {
    "duration": 4,
    "start_time": "2021-12-18T11:40:39.196Z"
   },
   {
    "duration": 3,
    "start_time": "2021-12-18T11:40:39.593Z"
   },
   {
    "duration": 63,
    "start_time": "2021-12-18T11:40:40.130Z"
   },
   {
    "duration": 32,
    "start_time": "2021-12-18T11:40:41.638Z"
   },
   {
    "duration": 67,
    "start_time": "2021-12-18T11:40:41.673Z"
   },
   {
    "duration": 46,
    "start_time": "2021-12-18T11:40:42.449Z"
   },
   {
    "duration": 62,
    "start_time": "2021-12-18T11:41:16.876Z"
   },
   {
    "duration": 45,
    "start_time": "2021-12-18T11:41:32.569Z"
   },
   {
    "duration": 58,
    "start_time": "2021-12-18T11:42:02.273Z"
   },
   {
    "duration": 54,
    "start_time": "2021-12-18T11:42:08.688Z"
   },
   {
    "duration": 58,
    "start_time": "2021-12-18T11:42:14.937Z"
   },
   {
    "duration": 45,
    "start_time": "2021-12-18T11:42:43.533Z"
   },
   {
    "duration": 1551,
    "start_time": "2021-12-18T11:42:59.922Z"
   },
   {
    "duration": 939,
    "start_time": "2021-12-18T11:43:53.196Z"
   },
   {
    "duration": 13,
    "start_time": "2021-12-18T11:43:56.925Z"
   },
   {
    "duration": 16,
    "start_time": "2021-12-18T11:43:59.971Z"
   },
   {
    "duration": 3,
    "start_time": "2021-12-18T11:44:00.451Z"
   },
   {
    "duration": 4,
    "start_time": "2021-12-18T11:44:01.119Z"
   },
   {
    "duration": 90,
    "start_time": "2021-12-18T11:44:01.869Z"
   },
   {
    "duration": 30,
    "start_time": "2021-12-18T11:44:03.020Z"
   },
   {
    "duration": 94,
    "start_time": "2021-12-18T11:44:04.574Z"
   },
   {
    "duration": 51,
    "start_time": "2021-12-18T11:44:06.541Z"
   },
   {
    "duration": 998,
    "start_time": "2021-12-18T11:44:14.088Z"
   },
   {
    "duration": 1333,
    "start_time": "2021-12-18T11:45:38.611Z"
   },
   {
    "duration": 922,
    "start_time": "2021-12-18T11:46:36.889Z"
   },
   {
    "duration": 871,
    "start_time": "2021-12-18T11:48:06.788Z"
   },
   {
    "duration": 54,
    "start_time": "2021-12-18T11:48:15.025Z"
   },
   {
    "duration": 923,
    "start_time": "2021-12-18T11:49:33.138Z"
   },
   {
    "duration": 411,
    "start_time": "2021-12-18T11:50:47.613Z"
   },
   {
    "duration": 34,
    "start_time": "2021-12-18T11:52:11.795Z"
   },
   {
    "duration": 32,
    "start_time": "2021-12-18T11:52:19.069Z"
   },
   {
    "duration": 35,
    "start_time": "2021-12-18T11:52:54.585Z"
   },
   {
    "duration": 108,
    "start_time": "2021-12-18T11:53:03.783Z"
   },
   {
    "duration": 5583,
    "start_time": "2021-12-18T11:53:07.529Z"
   },
   {
    "duration": 56,
    "start_time": "2021-12-18T11:53:17.041Z"
   },
   {
    "duration": 97,
    "start_time": "2021-12-18T11:53:23.288Z"
   },
   {
    "duration": 37,
    "start_time": "2021-12-18T11:53:35.703Z"
   },
   {
    "duration": 35,
    "start_time": "2021-12-18T11:53:43.817Z"
   },
   {
    "duration": 33,
    "start_time": "2021-12-18T11:53:45.594Z"
   },
   {
    "duration": 81,
    "start_time": "2021-12-18T11:59:29.675Z"
   },
   {
    "duration": 41,
    "start_time": "2021-12-18T11:59:32.936Z"
   },
   {
    "duration": 57,
    "start_time": "2021-12-18T11:59:35.585Z"
   },
   {
    "duration": 47,
    "start_time": "2021-12-18T11:59:37.996Z"
   },
   {
    "duration": 104,
    "start_time": "2021-12-18T12:01:32.037Z"
   },
   {
    "duration": 79,
    "start_time": "2021-12-18T12:01:39.104Z"
   },
   {
    "duration": 49,
    "start_time": "2021-12-18T12:02:19.625Z"
   },
   {
    "duration": 32,
    "start_time": "2021-12-18T12:02:43.503Z"
   },
   {
    "duration": 33,
    "start_time": "2021-12-18T12:03:06.611Z"
   },
   {
    "duration": 1103,
    "start_time": "2021-12-18T12:31:09.360Z"
   },
   {
    "duration": 15,
    "start_time": "2021-12-18T12:31:12.236Z"
   },
   {
    "duration": 16,
    "start_time": "2021-12-18T12:31:13.089Z"
   },
   {
    "duration": 4,
    "start_time": "2021-12-18T12:31:13.409Z"
   },
   {
    "duration": 3,
    "start_time": "2021-12-18T12:31:13.882Z"
   },
   {
    "duration": 63,
    "start_time": "2021-12-18T12:31:14.318Z"
   },
   {
    "duration": 31,
    "start_time": "2021-12-18T12:31:14.874Z"
   },
   {
    "duration": 61,
    "start_time": "2021-12-18T12:31:15.484Z"
   },
   {
    "duration": 52,
    "start_time": "2021-12-18T12:31:15.845Z"
   },
   {
    "duration": 37,
    "start_time": "2021-12-18T12:31:24.866Z"
   },
   {
    "duration": 103,
    "start_time": "2021-12-18T12:31:27.546Z"
   },
   {
    "duration": 5322,
    "start_time": "2021-12-18T12:31:29.985Z"
   },
   {
    "duration": 74,
    "start_time": "2021-12-18T12:31:35.310Z"
   },
   {
    "duration": 110,
    "start_time": "2021-12-18T12:31:35.387Z"
   },
   {
    "duration": 38,
    "start_time": "2021-12-18T12:31:38.897Z"
   },
   {
    "duration": 37,
    "start_time": "2021-12-18T12:31:40.723Z"
   },
   {
    "duration": 37,
    "start_time": "2021-12-18T12:31:42.900Z"
   }
  ],
  "kernelspec": {
   "display_name": "Python 3 (ipykernel)",
   "language": "python",
   "name": "python3"
  },
  "language_info": {
   "codemirror_mode": {
    "name": "ipython",
    "version": 3
   },
   "file_extension": ".py",
   "mimetype": "text/x-python",
   "name": "python",
   "nbconvert_exporter": "python",
   "pygments_lexer": "ipython3",
   "version": "3.10.1"
  },
  "toc": {
   "base_numbering": 1,
   "nav_menu": {},
   "number_sections": true,
   "sideBar": true,
   "skip_h1_title": true,
   "title_cell": "Table of Contents",
   "title_sidebar": "Contents",
   "toc_cell": false,
   "toc_position": {},
   "toc_section_display": true,
   "toc_window_display": false
  }
 },
 "nbformat": 4,
 "nbformat_minor": 2
}
